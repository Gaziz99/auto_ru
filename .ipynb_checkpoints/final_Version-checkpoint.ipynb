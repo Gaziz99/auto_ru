{
 "cells": [
  {
   "cell_type": "code",
   "execution_count": 1,
   "metadata": {},
   "outputs": [],
   "source": [
    "import numpy as np # linear algebra\n",
    "import pandas as pd # data processing, CSV file I/O (e.g. pd.read_csv)\n",
    "import sys\n",
    "import seaborn as sns\n",
    "%matplotlib inline\n",
    "import matplotlib.pyplot as plt\n",
    "\n",
    "import string\n",
    "from nltk.util import ngrams\n",
    "from collections import Counter\n",
    "from sklearn.preprocessing import PolynomialFeatures\n",
    "\n",
    "\n",
    "from sklearn.model_selection import train_test_split\n",
    "from sklearn.model_selection import KFold\n",
    "from tqdm.notebook import tqdm\n",
    "from catboost import CatBoostRegressor\n",
    "from sklearn.preprocessing import LabelEncoder\n",
    "from sklearn.ensemble import GradientBoostingRegressor, ExtraTreesRegressor, RandomForestRegressor\n",
    "from sklearn.linear_model import LogisticRegression\n"
   ]
  },
  {
   "cell_type": "code",
   "execution_count": 2,
   "metadata": {},
   "outputs": [],
   "source": [
    "import re"
   ]
  },
  {
   "cell_type": "code",
   "execution_count": 3,
   "metadata": {},
   "outputs": [],
   "source": [
    "RANDOM_SEED = 42 \n",
    "VAL_SIZE   = 0.2 # train = 0.8"
   ]
  },
  {
   "cell_type": "markdown",
   "metadata": {},
   "source": [
    "## DATA"
   ]
  },
  {
   "cell_type": "markdown",
   "metadata": {},
   "source": [
    "Import datasets"
   ]
  },
  {
   "cell_type": "code",
   "execution_count": 4,
   "metadata": {},
   "outputs": [],
   "source": [
    "train1 = pd.read_csv('all_auto_ru_09_09_2020.csv', low_memory=False) \n",
    "train2 = pd.read_csv('all_auto_ru_14_11_2020.csv', low_memory=False)\n",
    "train3 = pd.read_csv('finalparse.csv') #new parse data from auto.ru\n"
   ]
  },
  {
   "cell_type": "code",
   "execution_count": 5,
   "metadata": {},
   "outputs": [],
   "source": [
    "test = pd.read_csv('test.csv')\n",
    "sample_submission = pd.read_csv('sample_submission.csv')"
   ]
  },
  {
   "cell_type": "code",
   "execution_count": 6,
   "metadata": {},
   "outputs": [],
   "source": [
    "columns_drop = ['Unnamed: 0']\n",
    "train3 = train3.drop(columns_drop, axis=1)"
   ]
  },
  {
   "cell_type": "code",
   "execution_count": 7,
   "metadata": {},
   "outputs": [
    {
     "name": "stdout",
     "output_type": "stream",
     "text": [
      "<class 'pandas.core.frame.DataFrame'>\n",
      "RangeIndex: 89378 entries, 0 to 89377\n",
      "Data columns (total 26 columns):\n",
      " #   Column                Non-Null Count  Dtype  \n",
      "---  ------                --------------  -----  \n",
      " 0   bodyType              89377 non-null  object \n",
      " 1   brand                 89378 non-null  object \n",
      " 2   color                 89378 non-null  object \n",
      " 3   fuelType              89378 non-null  object \n",
      " 4   modelDate             89377 non-null  float64\n",
      " 5   name                  89377 non-null  object \n",
      " 6   numberOfDoors         89377 non-null  float64\n",
      " 7   productionDate        89378 non-null  int64  \n",
      " 8   vehicleConfiguration  89377 non-null  object \n",
      " 9   vehicleTransmission   89377 non-null  object \n",
      " 10  engineDisplacement    89377 non-null  object \n",
      " 11  enginePower           89377 non-null  float64\n",
      " 12  description           86124 non-null  object \n",
      " 13  mileage               89378 non-null  int64  \n",
      " 14  Комплектация          89378 non-null  object \n",
      " 15  Привод                89377 non-null  object \n",
      " 16  Руль                  89378 non-null  object \n",
      " 17  Состояние             0 non-null      float64\n",
      " 18  Владельцы             75790 non-null  float64\n",
      " 19  ПТС                   89017 non-null  object \n",
      " 20  Таможня               89378 non-null  bool   \n",
      " 21  Владение              29201 non-null  object \n",
      " 22  price                 88968 non-null  float64\n",
      " 23  start_date            89378 non-null  object \n",
      " 24  hidden                0 non-null      float64\n",
      " 25  model                 89378 non-null  object \n",
      "dtypes: bool(1), float64(7), int64(2), object(16)\n",
      "memory usage: 17.1+ MB\n",
      "<class 'pandas.core.frame.DataFrame'>\n",
      "RangeIndex: 77449 entries, 0 to 77448\n",
      "Data columns (total 34 columns):\n",
      " #   Column                Non-Null Count  Dtype  \n",
      "---  ------                --------------  -----  \n",
      " 0   bodyType              77447 non-null  object \n",
      " 1   brand                 77449 non-null  object \n",
      " 2   color                 77449 non-null  object \n",
      " 3   complectation_dict    77449 non-null  object \n",
      " 4   description           74782 non-null  object \n",
      " 5   engineDisplacement    77449 non-null  object \n",
      " 6   enginePower           77447 non-null  float64\n",
      " 7   equipment_dict        77449 non-null  object \n",
      " 8   fuelType              77449 non-null  object \n",
      " 9   image                 77449 non-null  int64  \n",
      " 10  mileage               77449 non-null  int64  \n",
      " 11  modelDate             77447 non-null  float64\n",
      " 12  model_info            77449 non-null  object \n",
      " 13  model_name            77449 non-null  object \n",
      " 14  name                  77447 non-null  object \n",
      " 15  numberOfDoors         77447 non-null  float64\n",
      " 16  start_date            77449 non-null  object \n",
      " 17  priceCurrency         77152 non-null  object \n",
      " 18  productionDate        77449 non-null  int64  \n",
      " 19  sell_id               77449 non-null  int64  \n",
      " 20  super_gen             77447 non-null  object \n",
      " 21  vehicleConfiguration  77447 non-null  object \n",
      " 22  vehicleTransmission   77447 non-null  object \n",
      " 23  vendor                77449 non-null  object \n",
      " 24  Владельцы             61521 non-null  float64\n",
      " 25  Владение              20314 non-null  object \n",
      " 26  ПТС                   76998 non-null  object \n",
      " 27  Привод                77447 non-null  object \n",
      " 28  Руль                  77449 non-null  object \n",
      " 29  Состояние             77449 non-null  bool   \n",
      " 30  Таможня               77449 non-null  bool   \n",
      " 31  price                 77152 non-null  float64\n",
      " 32  price_EUR             77152 non-null  float64\n",
      " 33  price_USD             77152 non-null  float64\n",
      "dtypes: bool(2), float64(7), int64(4), object(21)\n",
      "memory usage: 19.1+ MB\n",
      "<class 'pandas.core.frame.DataFrame'>\n",
      "RangeIndex: 27567 entries, 0 to 27566\n",
      "Data columns (total 17 columns):\n",
      " #   Column               Non-Null Count  Dtype  \n",
      "---  ------               --------------  -----  \n",
      " 0   bodyType             27566 non-null  object \n",
      " 1   color                27566 non-null  object \n",
      " 2   fuelType             27566 non-null  object \n",
      " 3   modelDate            27566 non-null  float64\n",
      " 4   numberOfDoors        27566 non-null  float64\n",
      " 5   productionDate       27566 non-null  float64\n",
      " 6   vehicleTransmission  27566 non-null  object \n",
      " 7   engineDisplacement   27566 non-null  object \n",
      " 8   enginePower          27566 non-null  object \n",
      " 9   mileage              27563 non-null  float64\n",
      " 10  Привод               27563 non-null  object \n",
      " 11  Руль                 27563 non-null  object \n",
      " 12  Владельцы            27561 non-null  object \n",
      " 13  ПТС                  27562 non-null  object \n",
      " 14  price                27308 non-null  float64\n",
      " 15  model_name           27564 non-null  object \n",
      " 16  brand                27567 non-null  object \n",
      "dtypes: float64(5), object(12)\n",
      "memory usage: 3.6+ MB\n"
     ]
    },
    {
     "data": {
      "text/plain": [
       "(None, None, None)"
      ]
     },
     "execution_count": 7,
     "metadata": {},
     "output_type": "execute_result"
    }
   ],
   "source": [
    "train1.info(), train2.info(), train3.info()"
   ]
  },
  {
   "cell_type": "markdown",
   "metadata": {},
   "source": [
    " Обьединяем наши train датасеты "
   ]
  },
  {
   "cell_type": "code",
   "execution_count": 8,
   "metadata": {},
   "outputs": [],
   "source": [
    "train = pd.concat([train1, train2,train3])"
   ]
  },
  {
   "cell_type": "code",
   "execution_count": 9,
   "metadata": {},
   "outputs": [
    {
     "data": {
      "text/html": [
       "<div>\n",
       "<style scoped>\n",
       "    .dataframe tbody tr th:only-of-type {\n",
       "        vertical-align: middle;\n",
       "    }\n",
       "\n",
       "    .dataframe tbody tr th {\n",
       "        vertical-align: top;\n",
       "    }\n",
       "\n",
       "    .dataframe thead th {\n",
       "        text-align: right;\n",
       "    }\n",
       "</style>\n",
       "<table border=\"1\" class=\"dataframe\">\n",
       "  <thead>\n",
       "    <tr style=\"text-align: right;\">\n",
       "      <th></th>\n",
       "      <th>bodyType</th>\n",
       "      <th>brand</th>\n",
       "      <th>color</th>\n",
       "      <th>fuelType</th>\n",
       "      <th>modelDate</th>\n",
       "      <th>name</th>\n",
       "      <th>numberOfDoors</th>\n",
       "      <th>productionDate</th>\n",
       "      <th>vehicleConfiguration</th>\n",
       "      <th>vehicleTransmission</th>\n",
       "      <th>...</th>\n",
       "      <th>equipment_dict</th>\n",
       "      <th>image</th>\n",
       "      <th>model_info</th>\n",
       "      <th>model_name</th>\n",
       "      <th>priceCurrency</th>\n",
       "      <th>sell_id</th>\n",
       "      <th>super_gen</th>\n",
       "      <th>vendor</th>\n",
       "      <th>price_EUR</th>\n",
       "      <th>price_USD</th>\n",
       "    </tr>\n",
       "  </thead>\n",
       "  <tbody>\n",
       "    <tr>\n",
       "      <th>0</th>\n",
       "      <td>Седан</td>\n",
       "      <td>AUDI</td>\n",
       "      <td>040001</td>\n",
       "      <td>бензин</td>\n",
       "      <td>1990.0</td>\n",
       "      <td>2.8 MT (174 л.с.) 4WD</td>\n",
       "      <td>4.0</td>\n",
       "      <td>1991.0</td>\n",
       "      <td>SEDAN MECHANICAL 2.8</td>\n",
       "      <td>MECHANICAL</td>\n",
       "      <td>...</td>\n",
       "      <td>NaN</td>\n",
       "      <td>NaN</td>\n",
       "      <td>NaN</td>\n",
       "      <td>NaN</td>\n",
       "      <td>NaN</td>\n",
       "      <td>NaN</td>\n",
       "      <td>NaN</td>\n",
       "      <td>NaN</td>\n",
       "      <td>NaN</td>\n",
       "      <td>NaN</td>\n",
       "    </tr>\n",
       "    <tr>\n",
       "      <th>1</th>\n",
       "      <td>Седан</td>\n",
       "      <td>AUDI</td>\n",
       "      <td>EE1D19</td>\n",
       "      <td>бензин</td>\n",
       "      <td>1982.0</td>\n",
       "      <td>1.8 MT (90 л.с.)</td>\n",
       "      <td>4.0</td>\n",
       "      <td>1986.0</td>\n",
       "      <td>SEDAN MECHANICAL 1.8</td>\n",
       "      <td>MECHANICAL</td>\n",
       "      <td>...</td>\n",
       "      <td>NaN</td>\n",
       "      <td>NaN</td>\n",
       "      <td>NaN</td>\n",
       "      <td>NaN</td>\n",
       "      <td>NaN</td>\n",
       "      <td>NaN</td>\n",
       "      <td>NaN</td>\n",
       "      <td>NaN</td>\n",
       "      <td>NaN</td>\n",
       "      <td>NaN</td>\n",
       "    </tr>\n",
       "    <tr>\n",
       "      <th>2</th>\n",
       "      <td>Универсал 5 дв.</td>\n",
       "      <td>AUDI</td>\n",
       "      <td>0000CC</td>\n",
       "      <td>бензин</td>\n",
       "      <td>1988.0</td>\n",
       "      <td>2.3 MT (136 л.с.) 4WD</td>\n",
       "      <td>5.0</td>\n",
       "      <td>1989.0</td>\n",
       "      <td>WAGON_5_DOORS MECHANICAL 2.3</td>\n",
       "      <td>MECHANICAL</td>\n",
       "      <td>...</td>\n",
       "      <td>NaN</td>\n",
       "      <td>NaN</td>\n",
       "      <td>NaN</td>\n",
       "      <td>NaN</td>\n",
       "      <td>NaN</td>\n",
       "      <td>NaN</td>\n",
       "      <td>NaN</td>\n",
       "      <td>NaN</td>\n",
       "      <td>NaN</td>\n",
       "      <td>NaN</td>\n",
       "    </tr>\n",
       "    <tr>\n",
       "      <th>3</th>\n",
       "      <td>Седан</td>\n",
       "      <td>AUDI</td>\n",
       "      <td>CACECB</td>\n",
       "      <td>бензин</td>\n",
       "      <td>1988.0</td>\n",
       "      <td>1.8 MT (90 л.с.)</td>\n",
       "      <td>4.0</td>\n",
       "      <td>1989.0</td>\n",
       "      <td>SEDAN MECHANICAL 1.8</td>\n",
       "      <td>MECHANICAL</td>\n",
       "      <td>...</td>\n",
       "      <td>NaN</td>\n",
       "      <td>NaN</td>\n",
       "      <td>NaN</td>\n",
       "      <td>NaN</td>\n",
       "      <td>NaN</td>\n",
       "      <td>NaN</td>\n",
       "      <td>NaN</td>\n",
       "      <td>NaN</td>\n",
       "      <td>NaN</td>\n",
       "      <td>NaN</td>\n",
       "    </tr>\n",
       "    <tr>\n",
       "      <th>4</th>\n",
       "      <td>Седан</td>\n",
       "      <td>AUDI</td>\n",
       "      <td>040001</td>\n",
       "      <td>бензин</td>\n",
       "      <td>1990.0</td>\n",
       "      <td>2.0 MT (101 л.с.)</td>\n",
       "      <td>4.0</td>\n",
       "      <td>1991.0</td>\n",
       "      <td>SEDAN MECHANICAL 2.0</td>\n",
       "      <td>MECHANICAL</td>\n",
       "      <td>...</td>\n",
       "      <td>NaN</td>\n",
       "      <td>NaN</td>\n",
       "      <td>NaN</td>\n",
       "      <td>NaN</td>\n",
       "      <td>NaN</td>\n",
       "      <td>NaN</td>\n",
       "      <td>NaN</td>\n",
       "      <td>NaN</td>\n",
       "      <td>NaN</td>\n",
       "      <td>NaN</td>\n",
       "    </tr>\n",
       "    <tr>\n",
       "      <th>...</th>\n",
       "      <td>...</td>\n",
       "      <td>...</td>\n",
       "      <td>...</td>\n",
       "      <td>...</td>\n",
       "      <td>...</td>\n",
       "      <td>...</td>\n",
       "      <td>...</td>\n",
       "      <td>...</td>\n",
       "      <td>...</td>\n",
       "      <td>...</td>\n",
       "      <td>...</td>\n",
       "      <td>...</td>\n",
       "      <td>...</td>\n",
       "      <td>...</td>\n",
       "      <td>...</td>\n",
       "      <td>...</td>\n",
       "      <td>...</td>\n",
       "      <td>...</td>\n",
       "      <td>...</td>\n",
       "      <td>...</td>\n",
       "      <td>...</td>\n",
       "    </tr>\n",
       "    <tr>\n",
       "      <th>27562</th>\n",
       "      <td>внедорожник 5 дв.</td>\n",
       "      <td>TOYOTA</td>\n",
       "      <td>чёрный</td>\n",
       "      <td>бензин</td>\n",
       "      <td>2012.0</td>\n",
       "      <td>NaN</td>\n",
       "      <td>5.0</td>\n",
       "      <td>2013.0</td>\n",
       "      <td>NaN</td>\n",
       "      <td>автоматическая</td>\n",
       "      <td>...</td>\n",
       "      <td>NaN</td>\n",
       "      <td>NaN</td>\n",
       "      <td>NaN</td>\n",
       "      <td>RAV_4</td>\n",
       "      <td>NaN</td>\n",
       "      <td>NaN</td>\n",
       "      <td>NaN</td>\n",
       "      <td>NaN</td>\n",
       "      <td>NaN</td>\n",
       "      <td>NaN</td>\n",
       "    </tr>\n",
       "    <tr>\n",
       "      <th>27563</th>\n",
       "      <td>внедорожник 5 дв.</td>\n",
       "      <td>TOYOTA</td>\n",
       "      <td>чёрный</td>\n",
       "      <td>бензин</td>\n",
       "      <td>2010.0</td>\n",
       "      <td>NaN</td>\n",
       "      <td>5.0</td>\n",
       "      <td>2011.0</td>\n",
       "      <td>NaN</td>\n",
       "      <td>вариатор</td>\n",
       "      <td>...</td>\n",
       "      <td>NaN</td>\n",
       "      <td>NaN</td>\n",
       "      <td>NaN</td>\n",
       "      <td>RAV_4</td>\n",
       "      <td>NaN</td>\n",
       "      <td>NaN</td>\n",
       "      <td>NaN</td>\n",
       "      <td>NaN</td>\n",
       "      <td>NaN</td>\n",
       "      <td>NaN</td>\n",
       "    </tr>\n",
       "    <tr>\n",
       "      <th>27564</th>\n",
       "      <td>внедорожник 5 дв.</td>\n",
       "      <td>TOYOTA</td>\n",
       "      <td>чёрный</td>\n",
       "      <td>бензин</td>\n",
       "      <td>2012.0</td>\n",
       "      <td>NaN</td>\n",
       "      <td>5.0</td>\n",
       "      <td>2013.0</td>\n",
       "      <td>NaN</td>\n",
       "      <td>механическая</td>\n",
       "      <td>...</td>\n",
       "      <td>NaN</td>\n",
       "      <td>NaN</td>\n",
       "      <td>NaN</td>\n",
       "      <td>RAV_4</td>\n",
       "      <td>NaN</td>\n",
       "      <td>NaN</td>\n",
       "      <td>NaN</td>\n",
       "      <td>NaN</td>\n",
       "      <td>NaN</td>\n",
       "      <td>NaN</td>\n",
       "    </tr>\n",
       "    <tr>\n",
       "      <th>27565</th>\n",
       "      <td>внедорожник 5 дв.</td>\n",
       "      <td>TOYOTA</td>\n",
       "      <td>чёрный</td>\n",
       "      <td>бензин</td>\n",
       "      <td>2010.0</td>\n",
       "      <td>NaN</td>\n",
       "      <td>5.0</td>\n",
       "      <td>2011.0</td>\n",
       "      <td>NaN</td>\n",
       "      <td>вариатор</td>\n",
       "      <td>...</td>\n",
       "      <td>NaN</td>\n",
       "      <td>NaN</td>\n",
       "      <td>NaN</td>\n",
       "      <td>RAV_4</td>\n",
       "      <td>NaN</td>\n",
       "      <td>NaN</td>\n",
       "      <td>NaN</td>\n",
       "      <td>NaN</td>\n",
       "      <td>NaN</td>\n",
       "      <td>NaN</td>\n",
       "    </tr>\n",
       "    <tr>\n",
       "      <th>27566</th>\n",
       "      <td>внедорожник 5 дв.</td>\n",
       "      <td>TOYOTA</td>\n",
       "      <td>бежевый</td>\n",
       "      <td>бензин</td>\n",
       "      <td>2010.0</td>\n",
       "      <td>NaN</td>\n",
       "      <td>5.0</td>\n",
       "      <td>2010.0</td>\n",
       "      <td>NaN</td>\n",
       "      <td>вариатор</td>\n",
       "      <td>...</td>\n",
       "      <td>NaN</td>\n",
       "      <td>NaN</td>\n",
       "      <td>NaN</td>\n",
       "      <td>RAV_4</td>\n",
       "      <td>NaN</td>\n",
       "      <td>NaN</td>\n",
       "      <td>NaN</td>\n",
       "      <td>NaN</td>\n",
       "      <td>NaN</td>\n",
       "      <td>NaN</td>\n",
       "    </tr>\n",
       "  </tbody>\n",
       "</table>\n",
       "<p>194394 rows × 37 columns</p>\n",
       "</div>"
      ],
      "text/plain": [
       "                bodyType   brand    color fuelType  modelDate  \\\n",
       "0                  Седан    AUDI   040001   бензин     1990.0   \n",
       "1                  Седан    AUDI   EE1D19   бензин     1982.0   \n",
       "2        Универсал 5 дв.    AUDI   0000CC   бензин     1988.0   \n",
       "3                  Седан    AUDI   CACECB   бензин     1988.0   \n",
       "4                  Седан    AUDI   040001   бензин     1990.0   \n",
       "...                  ...     ...      ...      ...        ...   \n",
       "27562  внедорожник 5 дв.  TOYOTA   чёрный   бензин     2012.0   \n",
       "27563  внедорожник 5 дв.  TOYOTA   чёрный   бензин     2010.0   \n",
       "27564  внедорожник 5 дв.  TOYOTA   чёрный   бензин     2012.0   \n",
       "27565  внедорожник 5 дв.  TOYOTA   чёрный   бензин     2010.0   \n",
       "27566  внедорожник 5 дв.  TOYOTA  бежевый   бензин     2010.0   \n",
       "\n",
       "                        name  numberOfDoors  productionDate  \\\n",
       "0      2.8 MT (174 л.с.) 4WD            4.0          1991.0   \n",
       "1           1.8 MT (90 л.с.)            4.0          1986.0   \n",
       "2      2.3 MT (136 л.с.) 4WD            5.0          1989.0   \n",
       "3           1.8 MT (90 л.с.)            4.0          1989.0   \n",
       "4          2.0 MT (101 л.с.)            4.0          1991.0   \n",
       "...                      ...            ...             ...   \n",
       "27562                    NaN            5.0          2013.0   \n",
       "27563                    NaN            5.0          2011.0   \n",
       "27564                    NaN            5.0          2013.0   \n",
       "27565                    NaN            5.0          2011.0   \n",
       "27566                    NaN            5.0          2010.0   \n",
       "\n",
       "               vehicleConfiguration vehicleTransmission  ... equipment_dict  \\\n",
       "0              SEDAN MECHANICAL 2.8          MECHANICAL  ...            NaN   \n",
       "1              SEDAN MECHANICAL 1.8          MECHANICAL  ...            NaN   \n",
       "2      WAGON_5_DOORS MECHANICAL 2.3          MECHANICAL  ...            NaN   \n",
       "3              SEDAN MECHANICAL 1.8          MECHANICAL  ...            NaN   \n",
       "4              SEDAN MECHANICAL 2.0          MECHANICAL  ...            NaN   \n",
       "...                             ...                 ...  ...            ...   \n",
       "27562                           NaN      автоматическая  ...            NaN   \n",
       "27563                           NaN            вариатор  ...            NaN   \n",
       "27564                           NaN        механическая  ...            NaN   \n",
       "27565                           NaN            вариатор  ...            NaN   \n",
       "27566                           NaN            вариатор  ...            NaN   \n",
       "\n",
       "      image model_info  model_name priceCurrency sell_id super_gen vendor  \\\n",
       "0       NaN        NaN         NaN           NaN     NaN       NaN    NaN   \n",
       "1       NaN        NaN         NaN           NaN     NaN       NaN    NaN   \n",
       "2       NaN        NaN         NaN           NaN     NaN       NaN    NaN   \n",
       "3       NaN        NaN         NaN           NaN     NaN       NaN    NaN   \n",
       "4       NaN        NaN         NaN           NaN     NaN       NaN    NaN   \n",
       "...     ...        ...         ...           ...     ...       ...    ...   \n",
       "27562   NaN        NaN       RAV_4           NaN     NaN       NaN    NaN   \n",
       "27563   NaN        NaN       RAV_4           NaN     NaN       NaN    NaN   \n",
       "27564   NaN        NaN       RAV_4           NaN     NaN       NaN    NaN   \n",
       "27565   NaN        NaN       RAV_4           NaN     NaN       NaN    NaN   \n",
       "27566   NaN        NaN       RAV_4           NaN     NaN       NaN    NaN   \n",
       "\n",
       "      price_EUR price_USD  \n",
       "0           NaN       NaN  \n",
       "1           NaN       NaN  \n",
       "2           NaN       NaN  \n",
       "3           NaN       NaN  \n",
       "4           NaN       NaN  \n",
       "...         ...       ...  \n",
       "27562       NaN       NaN  \n",
       "27563       NaN       NaN  \n",
       "27564       NaN       NaN  \n",
       "27565       NaN       NaN  \n",
       "27566       NaN       NaN  \n",
       "\n",
       "[194394 rows x 37 columns]"
      ]
     },
     "execution_count": 9,
     "metadata": {},
     "output_type": "execute_result"
    }
   ],
   "source": [
    "train"
   ]
  },
  {
   "cell_type": "code",
   "execution_count": null,
   "metadata": {},
   "outputs": [],
   "source": []
  },
  {
   "cell_type": "markdown",
   "metadata": {},
   "source": [
    "Удалим дубликаты , а так же строки где много в которых много пропущенных значений"
   ]
  },
  {
   "cell_type": "code",
   "execution_count": 10,
   "metadata": {},
   "outputs": [],
   "source": [
    "train = train.drop_duplicates()"
   ]
  },
  {
   "cell_type": "code",
   "execution_count": 11,
   "metadata": {
    "scrolled": true
   },
   "outputs": [
    {
     "name": "stdout",
     "output_type": "stream",
     "text": [
      "<class 'pandas.core.frame.DataFrame'>\n",
      "Int64Index: 190418 entries, 0 to 27566\n",
      "Data columns (total 37 columns):\n",
      " #   Column                Non-Null Count   Dtype  \n",
      "---  ------                --------------   -----  \n",
      " 0   bodyType              190414 non-null  object \n",
      " 1   brand                 190418 non-null  object \n",
      " 2   color                 190417 non-null  object \n",
      " 3   fuelType              190417 non-null  object \n",
      " 4   modelDate             190414 non-null  float64\n",
      " 5   name                  163204 non-null  object \n",
      " 6   numberOfDoors         190414 non-null  float64\n",
      " 7   productionDate        190417 non-null  float64\n",
      " 8   vehicleConfiguration  163204 non-null  object \n",
      " 9   vehicleTransmission   190414 non-null  object \n",
      " 10  engineDisplacement    190416 non-null  object \n",
      " 11  enginePower           190414 non-null  object \n",
      " 12  description           157351 non-null  object \n",
      " 13  mileage               190414 non-null  float64\n",
      " 14  Комплектация          87264 non-null   object \n",
      " 15  Привод                190411 non-null  object \n",
      " 16  Руль                  190414 non-null  object \n",
      " 17  Состояние             75943 non-null   object \n",
      " 18  Владельцы             162703 non-null  object \n",
      " 19  ПТС                   189606 non-null  object \n",
      " 20  Таможня               163207 non-null  object \n",
      " 21  Владение              48874 non-null   object \n",
      " 22  price                 189453 non-null  float64\n",
      " 23  start_date            163207 non-null  object \n",
      " 24  hidden                0 non-null       float64\n",
      " 25  model                 87264 non-null   object \n",
      " 26  complectation_dict    75943 non-null   object \n",
      " 27  equipment_dict        75943 non-null   object \n",
      " 28  image                 75943 non-null   float64\n",
      " 29  model_info            75943 non-null   object \n",
      " 30  model_name            103151 non-null  object \n",
      " 31  priceCurrency         75647 non-null   object \n",
      " 32  sell_id               75943 non-null   float64\n",
      " 33  super_gen             75941 non-null   object \n",
      " 34  vendor                75943 non-null   object \n",
      " 35  price_EUR             75647 non-null   float64\n",
      " 36  price_USD             75647 non-null   float64\n",
      "dtypes: float64(10), object(27)\n",
      "memory usage: 55.2+ MB\n"
     ]
    }
   ],
   "source": [
    "train.info()"
   ]
  },
  {
   "cell_type": "markdown",
   "metadata": {},
   "source": [
    "В данном случае у нас есть 37 columns:float64 -10 , object -27.\n",
    "и есть те где много пропущенных значений.И сразу же удалим такие данные"
   ]
  },
  {
   "cell_type": "code",
   "execution_count": 12,
   "metadata": {},
   "outputs": [
    {
     "name": "stderr",
     "output_type": "stream",
     "text": [
      "<ipython-input-12-a6ec05661019>:1: SettingWithCopyWarning: \n",
      "A value is trying to be set on a copy of a slice from a DataFrame\n",
      "\n",
      "See the caveats in the documentation: https://pandas.pydata.org/pandas-docs/stable/user_guide/indexing.html#returning-a-view-versus-a-copy\n",
      "  train.dropna(subset=['price', 'Привод', 'Руль'], inplace=True)\n"
     ]
    }
   ],
   "source": [
    "train.dropna(subset=['price', 'Привод', 'Руль'], inplace=True)"
   ]
  },
  {
   "cell_type": "code",
   "execution_count": 13,
   "metadata": {},
   "outputs": [
    {
     "data": {
      "text/plain": [
       "(bodyType                     0\n",
       " brand                        0\n",
       " color                        0\n",
       " fuelType                     0\n",
       " modelDate                    0\n",
       " name                     26952\n",
       " numberOfDoors                0\n",
       " productionDate               0\n",
       " vehicleConfiguration     26952\n",
       " vehicleTransmission          0\n",
       " engineDisplacement           0\n",
       " enginePower                  0\n",
       " description              32774\n",
       " mileage                      0\n",
       " Комплектация            102597\n",
       " Привод                       0\n",
       " Руль                         0\n",
       " Состояние               113805\n",
       " Владельцы                27691\n",
       " ПТС                        808\n",
       " Таможня                  26952\n",
       " Владение                140859\n",
       " price                        0\n",
       " start_date               26952\n",
       " hidden                  189450\n",
       " model                   102597\n",
       " complectation_dict      113805\n",
       " equipment_dict          113805\n",
       " image                   113805\n",
       " model_info              113805\n",
       " model_name               86856\n",
       " priceCurrency           113805\n",
       " sell_id                 113805\n",
       " super_gen               113805\n",
       " vendor                  113805\n",
       " price_EUR               113805\n",
       " price_USD               113805\n",
       " dtype: int64,\n",
       " bodyType                    0\n",
       " brand                       0\n",
       " car_url                     0\n",
       " color                       0\n",
       " complectation_dict      28268\n",
       " description                 0\n",
       " engineDisplacement          0\n",
       " enginePower                 0\n",
       " equipment_dict           9996\n",
       " fuelType                    0\n",
       " image                       0\n",
       " mileage                     0\n",
       " modelDate                   0\n",
       " model_info                  0\n",
       " model_name                  0\n",
       " name                        0\n",
       " numberOfDoors               0\n",
       " parsing_unixtime            0\n",
       " priceCurrency               0\n",
       " productionDate              0\n",
       " sell_id                     0\n",
       " super_gen                   0\n",
       " vehicleConfiguration        0\n",
       " vehicleTransmission         0\n",
       " vendor                      0\n",
       " Владельцы                   0\n",
       " Владение                22691\n",
       " ПТС                         1\n",
       " Привод                      0\n",
       " Руль                        0\n",
       " Состояние                   0\n",
       " Таможня                     0\n",
       " dtype: int64)"
      ]
     },
     "execution_count": 13,
     "metadata": {},
     "output_type": "execute_result"
    }
   ],
   "source": [
    "train.isna().sum() ,test.isna().sum()"
   ]
  },
  {
   "cell_type": "markdown",
   "metadata": {},
   "source": [
    "Тестовый датасет состоит изи 32 признака и 34686 наблюдений."
   ]
  },
  {
   "cell_type": "code",
   "execution_count": 14,
   "metadata": {},
   "outputs": [],
   "source": [
    "# for i in test.columns:\n",
    "#     print(i, len(test[i].value_counts()))\n"
   ]
  },
  {
   "cell_type": "code",
   "execution_count": 15,
   "metadata": {},
   "outputs": [],
   "source": [
    "# for i in test.columns:\n",
    "#     print(i, len(test[test[i].isna()]))"
   ]
  },
  {
   "cell_type": "markdown",
   "metadata": {},
   "source": [
    "## Предобработка"
   ]
  },
  {
   "cell_type": "code",
   "execution_count": 235,
   "metadata": {},
   "outputs": [],
   "source": [
    "#Замениим на кириллицу ,чтобы было удобно"
   ]
  },
  {
   "cell_type": "code",
   "execution_count": 16,
   "metadata": {},
   "outputs": [
    {
     "name": "stderr",
     "output_type": "stream",
     "text": [
      "<ipython-input-16-525b0c79c865>:3: SettingWithCopyWarning: \n",
      "A value is trying to be set on a copy of a slice from a DataFrame.\n",
      "Try using .loc[row_indexer,col_indexer] = value instead\n",
      "\n",
      "See the caveats in the documentation: https://pandas.pydata.org/pandas-docs/stable/user_guide/indexing.html#returning-a-view-versus-a-copy\n",
      "  train['ПТС'] = train['ПТС'].replace(orig_or_dupl)\n"
     ]
    }
   ],
   "source": [
    "\n",
    "orig_or_dupl = {'ORIGINAL':'Оригинал','DUPLICATE':'Дубликат'} \n",
    "test['ПТС'] = test['ПТС'].replace(orig_or_dupl)\n",
    "train['ПТС'] = train['ПТС'].replace(orig_or_dupl)\n"
   ]
  },
  {
   "cell_type": "code",
   "execution_count": 17,
   "metadata": {},
   "outputs": [
    {
     "data": {
      "text/plain": [
       "Оригинал    166136\n",
       "Дубликат     22506\n",
       "Name: ПТС, dtype: int64"
      ]
     },
     "execution_count": 17,
     "metadata": {},
     "output_type": "execute_result"
    }
   ],
   "source": [
    "train['ПТС'].value_counts()"
   ]
  },
  {
   "cell_type": "code",
   "execution_count": 234,
   "metadata": {},
   "outputs": [],
   "source": [
    "#заменим на читабельные цвета\n",
    "colors = {\n",
    "'040001': 'черный',\n",
    "'FAFBFB': 'белый',\n",
    "'97948F': 'серый',\n",
    "'CACECB': 'серебристый',\n",
    "'0000CC': 'синий',\n",
    "'EE1D19': 'красный',\n",
    "'200204': 'бордовый',\n",
    "'007F00': 'зелёный',\n",
    "'C49648': 'коричневый',\n",
    "'22A0F8': 'голубой',\n",
    "'DEA522': 'золотистый',\n",
    "'FFD600': 'жёлтый',\n",
    "'660099': 'пурпурный',\n",
    "'4A2197': 'фиолетовый',\n",
    "'FF8649': 'бежевый',\n",
    "'FFC0CB': 'розовый',\n",
    "}"
   ]
  },
  {
   "cell_type": "code",
   "execution_count": 19,
   "metadata": {},
   "outputs": [
    {
     "name": "stderr",
     "output_type": "stream",
     "text": [
      "<ipython-input-19-e2f2e1ec7082>:1: SettingWithCopyWarning: \n",
      "A value is trying to be set on a copy of a slice from a DataFrame.\n",
      "Try using .loc[row_indexer,col_indexer] = value instead\n",
      "\n",
      "See the caveats in the documentation: https://pandas.pydata.org/pandas-docs/stable/user_guide/indexing.html#returning-a-view-versus-a-copy\n",
      "  train['color'] = train['color'].replace(colors).apply(lambda x: x.lower())\n"
     ]
    }
   ],
   "source": [
    "train['color'] = train['color'].replace(colors).apply(lambda x: x.lower())\n",
    "test['color'] = test['color'].replace(colors).apply(lambda x: x.lower())"
   ]
  },
  {
   "cell_type": "code",
   "execution_count": 20,
   "metadata": {},
   "outputs": [
    {
     "data": {
      "text/plain": [
       "(Оригинал    166136\n",
       " Дубликат     22506\n",
       " Name: ПТС, dtype: int64,\n",
       " Оригинал    30098\n",
       " Дубликат     4587\n",
       " Name: ПТС, dtype: int64)"
      ]
     },
     "execution_count": 20,
     "metadata": {},
     "output_type": "execute_result"
    }
   ],
   "source": [
    "train['ПТС'].value_counts(),  test['ПТС'].value_counts()"
   ]
  },
  {
   "cell_type": "code",
   "execution_count": 236,
   "metadata": {},
   "outputs": [],
   "source": [
    "#заменим пропущенное значение у ПТС на наиболее часто встречающий значение\n"
   ]
  },
  {
   "cell_type": "code",
   "execution_count": 21,
   "metadata": {},
   "outputs": [
    {
     "name": "stderr",
     "output_type": "stream",
     "text": [
      "<ipython-input-21-3dd45cabaa77>:2: SettingWithCopyWarning: \n",
      "A value is trying to be set on a copy of a slice from a DataFrame.\n",
      "Try using .loc[row_indexer,col_indexer] = value instead\n",
      "\n",
      "See the caveats in the documentation: https://pandas.pydata.org/pandas-docs/stable/user_guide/indexing.html#returning-a-view-versus-a-copy\n",
      "  train['ПТС'] = train['ПТС'].fillna('Оригинал')\n"
     ]
    }
   ],
   "source": [
    "test['ПТС'] = test['ПТС'].fillna('Оригинал')\n",
    "train['ПТС'] = train['ПТС'].fillna('Оригинал')"
   ]
  },
  {
   "cell_type": "code",
   "execution_count": 22,
   "metadata": {},
   "outputs": [
    {
     "data": {
      "text/plain": [
       "bodyType                     0\n",
       "brand                        0\n",
       "color                        0\n",
       "fuelType                     0\n",
       "modelDate                    0\n",
       "name                     26952\n",
       "numberOfDoors                0\n",
       "productionDate               0\n",
       "vehicleConfiguration     26952\n",
       "vehicleTransmission          0\n",
       "engineDisplacement           0\n",
       "enginePower                  0\n",
       "description              32774\n",
       "mileage                      0\n",
       "Комплектация            102597\n",
       "Привод                       0\n",
       "Руль                         0\n",
       "Состояние               113805\n",
       "Владельцы                27691\n",
       "ПТС                          0\n",
       "Таможня                  26952\n",
       "Владение                140859\n",
       "price                        0\n",
       "start_date               26952\n",
       "hidden                  189450\n",
       "model                   102597\n",
       "complectation_dict      113805\n",
       "equipment_dict          113805\n",
       "image                   113805\n",
       "model_info              113805\n",
       "model_name               86856\n",
       "priceCurrency           113805\n",
       "sell_id                 113805\n",
       "super_gen               113805\n",
       "vendor                  113805\n",
       "price_EUR               113805\n",
       "price_USD               113805\n",
       "dtype: int64"
      ]
     },
     "execution_count": 22,
     "metadata": {},
     "output_type": "execute_result"
    }
   ],
   "source": [
    "train.isna().sum()"
   ]
  },
  {
   "cell_type": "code",
   "execution_count": 23,
   "metadata": {},
   "outputs": [
    {
     "data": {
      "text/plain": [
       "bodyType                    0\n",
       "brand                       0\n",
       "car_url                     0\n",
       "color                       0\n",
       "complectation_dict      28268\n",
       "description                 0\n",
       "engineDisplacement          0\n",
       "enginePower                 0\n",
       "equipment_dict           9996\n",
       "fuelType                    0\n",
       "image                       0\n",
       "mileage                     0\n",
       "modelDate                   0\n",
       "model_info                  0\n",
       "model_name                  0\n",
       "name                        0\n",
       "numberOfDoors               0\n",
       "parsing_unixtime            0\n",
       "priceCurrency               0\n",
       "productionDate              0\n",
       "sell_id                     0\n",
       "super_gen                   0\n",
       "vehicleConfiguration        0\n",
       "vehicleTransmission         0\n",
       "vendor                      0\n",
       "Владельцы                   0\n",
       "Владение                22691\n",
       "ПТС                         0\n",
       "Привод                      0\n",
       "Руль                        0\n",
       "Состояние                   0\n",
       "Таможня                     0\n",
       "dtype: int64"
      ]
     },
     "execution_count": 23,
     "metadata": {},
     "output_type": "execute_result"
    }
   ],
   "source": [
    "test.isna().sum()"
   ]
  },
  {
   "cell_type": "markdown",
   "metadata": {},
   "source": [
    "Для обучения собрано больше марок автомобилей различного производства. Выделим главных vendor  и остальных обьединяем"
   ]
  },
  {
   "cell_type": "code",
   "execution_count": 24,
   "metadata": {},
   "outputs": [
    {
     "name": "stderr",
     "output_type": "stream",
     "text": [
      "<ipython-input-24-695c7b28426a>:1: SettingWithCopyWarning: \n",
      "A value is trying to be set on a copy of a slice from a DataFrame.\n",
      "Try using .loc[row_indexer,col_indexer] = value instead\n",
      "\n",
      "See the caveats in the documentation: https://pandas.pydata.org/pandas-docs/stable/user_guide/indexing.html#returning-a-view-versus-a-copy\n",
      "  train['vendor'] = train['vendor'].fillna('V_UNKNOWN')\n"
     ]
    },
    {
     "data": {
      "text/plain": [
       "<AxesSubplot:>"
      ]
     },
     "execution_count": 24,
     "metadata": {},
     "output_type": "execute_result"
    },
    {
     "data": {
      "image/png": "[encoded data removed]",
      "text/plain": [
       "<Figure size 432x288 with 1 Axes>"
      ]
     },
     "metadata": {
      "needs_background": "light"
     },
     "output_type": "display_data"
    }
   ],
   "source": [
    "train['vendor'] = train['vendor'].fillna('V_UNKNOWN')\n",
    "train['vendor'].value_counts().plot.bar()\n"
   ]
  },
  {
   "cell_type": "markdown",
   "metadata": {},
   "source": [
    "Удалим сразу признаки, в которых 1 значение - Состояние, Таможня и priceCurrency"
   ]
  },
  {
   "cell_type": "code",
   "execution_count": 25,
   "metadata": {},
   "outputs": [
    {
     "name": "stderr",
     "output_type": "stream",
     "text": [
      "C:\\Users\\rok05\\anaconda3\\lib\\site-packages\\pandas\\core\\frame.py:4163: SettingWithCopyWarning: \n",
      "A value is trying to be set on a copy of a slice from a DataFrame\n",
      "\n",
      "See the caveats in the documentation: https://pandas.pydata.org/pandas-docs/stable/user_guide/indexing.html#returning-a-view-versus-a-copy\n",
      "  return super().drop(\n"
     ]
    }
   ],
   "source": [
    "columns_drop = ['Состояние', 'Таможня', 'priceCurrency']\n",
    "train.drop(columns_drop, axis=1, inplace=True)\n",
    "test.drop(columns_drop, axis=1, inplace=True)"
   ]
  },
  {
   "cell_type": "markdown",
   "metadata": {},
   "source": [
    "Сравним train с test ом .И поменяем признаки на числовой формат  в соответствии с test"
   ]
  },
  {
   "cell_type": "code",
   "execution_count": 26,
   "metadata": {},
   "outputs": [
    {
     "name": "stderr",
     "output_type": "stream",
     "text": [
      "<ipython-input-26-427cdf149d62>:1: SettingWithCopyWarning: \n",
      "A value is trying to be set on a copy of a slice from a DataFrame.\n",
      "Try using .loc[row_indexer,col_indexer] = value instead\n",
      "\n",
      "See the caveats in the documentation: https://pandas.pydata.org/pandas-docs/stable/user_guide/indexing.html#returning-a-view-versus-a-copy\n",
      "  train['productionDate'] = train['productionDate'].values.astype('int64')\n",
      "<ipython-input-26-427cdf149d62>:2: SettingWithCopyWarning: \n",
      "A value is trying to be set on a copy of a slice from a DataFrame.\n",
      "Try using .loc[row_indexer,col_indexer] = value instead\n",
      "\n",
      "See the caveats in the documentation: https://pandas.pydata.org/pandas-docs/stable/user_guide/indexing.html#returning-a-view-versus-a-copy\n",
      "  train['sell_id'] = train['sell_id'].values.astype('int64')\n",
      "<ipython-input-26-427cdf149d62>:3: SettingWithCopyWarning: \n",
      "A value is trying to be set on a copy of a slice from a DataFrame.\n",
      "Try using .loc[row_indexer,col_indexer] = value instead\n",
      "\n",
      "See the caveats in the documentation: https://pandas.pydata.org/pandas-docs/stable/user_guide/indexing.html#returning-a-view-versus-a-copy\n",
      "  train['modelDate'] = train['modelDate'].values.astype('int64')\n",
      "<ipython-input-26-427cdf149d62>:4: SettingWithCopyWarning: \n",
      "A value is trying to be set on a copy of a slice from a DataFrame.\n",
      "Try using .loc[row_indexer,col_indexer] = value instead\n",
      "\n",
      "See the caveats in the documentation: https://pandas.pydata.org/pandas-docs/stable/user_guide/indexing.html#returning-a-view-versus-a-copy\n",
      "  train['numberOfDoors'] = train['numberOfDoors'].values.astype('int64')\n"
     ]
    }
   ],
   "source": [
    "train['productionDate'] = train['productionDate'].values.astype('int64')\n",
    "train['sell_id'] = train['sell_id'].values.astype('int64')\n",
    "train['modelDate'] = train['modelDate'].values.astype('int64')\n",
    "train['numberOfDoors'] = train['numberOfDoors'].values.astype('int64')\n"
   ]
  },
  {
   "cell_type": "code",
   "execution_count": 27,
   "metadata": {},
   "outputs": [
    {
     "name": "stdout",
     "output_type": "stream",
     "text": [
      "<class 'pandas.core.frame.DataFrame'>\n",
      "Int64Index: 189450 entries, 0 to 27566\n",
      "Data columns (total 34 columns):\n",
      " #   Column                Non-Null Count   Dtype  \n",
      "---  ------                --------------   -----  \n",
      " 0   bodyType              189450 non-null  object \n",
      " 1   brand                 189450 non-null  object \n",
      " 2   color                 189450 non-null  object \n",
      " 3   fuelType              189450 non-null  object \n",
      " 4   modelDate             189450 non-null  int64  \n",
      " 5   name                  162498 non-null  object \n",
      " 6   numberOfDoors         189450 non-null  int64  \n",
      " 7   productionDate        189450 non-null  int64  \n",
      " 8   vehicleConfiguration  162498 non-null  object \n",
      " 9   vehicleTransmission   189450 non-null  object \n",
      " 10  engineDisplacement    189450 non-null  object \n",
      " 11  enginePower           189450 non-null  object \n",
      " 12  description           156676 non-null  object \n",
      " 13  mileage               189450 non-null  float64\n",
      " 14  Комплектация          86853 non-null   object \n",
      " 15  Привод                189450 non-null  object \n",
      " 16  Руль                  189450 non-null  object \n",
      " 17  Владельцы             161759 non-null  object \n",
      " 18  ПТС                   189450 non-null  object \n",
      " 19  Владение              48591 non-null   object \n",
      " 20  price                 189450 non-null  float64\n",
      " 21  start_date            162498 non-null  object \n",
      " 22  hidden                0 non-null       float64\n",
      " 23  model                 86853 non-null   object \n",
      " 24  complectation_dict    75645 non-null   object \n",
      " 25  equipment_dict        75645 non-null   object \n",
      " 26  image                 75645 non-null   float64\n",
      " 27  model_info            75645 non-null   object \n",
      " 28  model_name            102594 non-null  object \n",
      " 29  sell_id               189450 non-null  int64  \n",
      " 30  super_gen             75645 non-null   object \n",
      " 31  vendor                189450 non-null  object \n",
      " 32  price_EUR             75645 non-null   float64\n",
      " 33  price_USD             75645 non-null   float64\n",
      "dtypes: float64(6), int64(4), object(24)\n",
      "memory usage: 50.6+ MB\n"
     ]
    }
   ],
   "source": [
    "train.info()"
   ]
  },
  {
   "cell_type": "code",
   "execution_count": 28,
   "metadata": {},
   "outputs": [
    {
     "data": {
      "text/plain": [
       "150.0      13486\n",
       "249.0       7153\n",
       "140.0       5069\n",
       "105.0       4119\n",
       "123.0       3885\n",
       "           ...  \n",
       "456 N12        1\n",
       "79 N12         1\n",
       "95 N12         1\n",
       "96 N12         1\n",
       "460 N12        1\n",
       "Name: enginePower, Length: 610, dtype: int64"
      ]
     },
     "execution_count": 28,
     "metadata": {},
     "output_type": "execute_result"
    }
   ],
   "source": [
    "train['enginePower'].value_counts()"
   ]
  },
  {
   "cell_type": "markdown",
   "metadata": {},
   "source": [
    "enginePower изменим на тип int"
   ]
  },
  {
   "cell_type": "code",
   "execution_count": 29,
   "metadata": {},
   "outputs": [
    {
     "name": "stderr",
     "output_type": "stream",
     "text": [
      "<ipython-input-29-d207d1604ab4>:1: SettingWithCopyWarning: \n",
      "A value is trying to be set on a copy of a slice from a DataFrame.\n",
      "Try using .loc[row_indexer,col_indexer] = value instead\n",
      "\n",
      "See the caveats in the documentation: https://pandas.pydata.org/pandas-docs/stable/user_guide/indexing.html#returning-a-view-versus-a-copy\n",
      "  train['enginePower'] = train['enginePower'].apply(lambda x: int(re.findall('(\\d+)', str(x))[0]))\n",
      "<ipython-input-29-d207d1604ab4>:4: SettingWithCopyWarning: \n",
      "A value is trying to be set on a copy of a slice from a DataFrame.\n",
      "Try using .loc[row_indexer,col_indexer] = value instead\n",
      "\n",
      "See the caveats in the documentation: https://pandas.pydata.org/pandas-docs/stable/user_guide/indexing.html#returning-a-view-versus-a-copy\n",
      "  train['enginePower'] = train['enginePower'].values.astype('int64')\n"
     ]
    }
   ],
   "source": [
    "train['enginePower'] = train['enginePower'].apply(lambda x: int(re.findall('(\\d+)', str(x))[0]))\n",
    "test['enginePower'] = test['enginePower'].apply(lambda x: int(re.findall('(\\d+)', str(x))[0]))\n",
    "\n",
    "train['enginePower'] = train['enginePower'].values.astype('int64')\n",
    "test['enginePower'] = test['enginePower'].values.astype('int64')"
   ]
  },
  {
   "cell_type": "code",
   "execution_count": 30,
   "metadata": {},
   "outputs": [
    {
     "data": {
      "text/plain": [
       "count     189450.000000\n",
       "mean      134819.686181\n",
       "std       104190.732727\n",
       "min            0.000000\n",
       "25%        54557.250000\n",
       "50%       128000.000000\n",
       "75%       195000.000000\n",
       "max      1000000.000000\n",
       "Name: mileage, dtype: float64"
      ]
     },
     "execution_count": 30,
     "metadata": {},
     "output_type": "execute_result"
    }
   ],
   "source": [
    "train.mileage.describe()"
   ]
  },
  {
   "cell_type": "code",
   "execution_count": 31,
   "metadata": {},
   "outputs": [
    {
     "name": "stdout",
     "output_type": "stream",
     "text": [
      "<class 'pandas.core.frame.DataFrame'>\n",
      "Int64Index: 189450 entries, 0 to 27566\n",
      "Data columns (total 34 columns):\n",
      " #   Column                Non-Null Count   Dtype  \n",
      "---  ------                --------------   -----  \n",
      " 0   bodyType              189450 non-null  object \n",
      " 1   brand                 189450 non-null  object \n",
      " 2   color                 189450 non-null  object \n",
      " 3   fuelType              189450 non-null  object \n",
      " 4   modelDate             189450 non-null  int64  \n",
      " 5   name                  162498 non-null  object \n",
      " 6   numberOfDoors         189450 non-null  int64  \n",
      " 7   productionDate        189450 non-null  int64  \n",
      " 8   vehicleConfiguration  162498 non-null  object \n",
      " 9   vehicleTransmission   189450 non-null  object \n",
      " 10  engineDisplacement    189450 non-null  object \n",
      " 11  enginePower           189450 non-null  int64  \n",
      " 12  description           156676 non-null  object \n",
      " 13  mileage               189450 non-null  float64\n",
      " 14  Комплектация          86853 non-null   object \n",
      " 15  Привод                189450 non-null  object \n",
      " 16  Руль                  189450 non-null  object \n",
      " 17  Владельцы             161759 non-null  object \n",
      " 18  ПТС                   189450 non-null  object \n",
      " 19  Владение              48591 non-null   object \n",
      " 20  price                 189450 non-null  float64\n",
      " 21  start_date            162498 non-null  object \n",
      " 22  hidden                0 non-null       float64\n",
      " 23  model                 86853 non-null   object \n",
      " 24  complectation_dict    75645 non-null   object \n",
      " 25  equipment_dict        75645 non-null   object \n",
      " 26  image                 75645 non-null   float64\n",
      " 27  model_info            75645 non-null   object \n",
      " 28  model_name            102594 non-null  object \n",
      " 29  sell_id               189450 non-null  int64  \n",
      " 30  super_gen             75645 non-null   object \n",
      " 31  vendor                189450 non-null  object \n",
      " 32  price_EUR             75645 non-null   float64\n",
      " 33  price_USD             75645 non-null   float64\n",
      "dtypes: float64(6), int64(5), object(23)\n",
      "memory usage: 50.6+ MB\n"
     ]
    }
   ],
   "source": [
    "train.info()"
   ]
  },
  {
   "cell_type": "code",
   "execution_count": 32,
   "metadata": {},
   "outputs": [
    {
     "name": "stderr",
     "output_type": "stream",
     "text": [
      "<ipython-input-32-2cd247cf7830>:1: SettingWithCopyWarning: \n",
      "A value is trying to be set on a copy of a slice from a DataFrame.\n",
      "Try using .loc[row_indexer,col_indexer] = value instead\n",
      "\n",
      "See the caveats in the documentation: https://pandas.pydata.org/pandas-docs/stable/user_guide/indexing.html#returning-a-view-versus-a-copy\n",
      "  train['mileage'] = train['mileage'].values.astype('int64')\n",
      "C:\\Users\\rok05\\anaconda3\\lib\\site-packages\\pandas\\core\\generic.py:5168: SettingWithCopyWarning: \n",
      "A value is trying to be set on a copy of a slice from a DataFrame.\n",
      "Try using .loc[row_indexer,col_indexer] = value instead\n",
      "\n",
      "See the caveats in the documentation: https://pandas.pydata.org/pandas-docs/stable/user_guide/indexing.html#returning-a-view-versus-a-copy\n",
      "  self[name] = value\n"
     ]
    }
   ],
   "source": [
    "\n",
    "train['mileage'] = train['mileage'].values.astype('int64')\n",
    "# и поменяем тип price\n",
    "train.price = train.price.values.astype('float32')"
   ]
  },
  {
   "cell_type": "code",
   "execution_count": 33,
   "metadata": {},
   "outputs": [
    {
     "name": "stderr",
     "output_type": "stream",
     "text": [
      "<ipython-input-33-18810e79d566>:1: SettingWithCopyWarning: \n",
      "A value is trying to be set on a copy of a slice from a DataFrame.\n",
      "Try using .loc[row_indexer,col_indexer] = value instead\n",
      "\n",
      "See the caveats in the documentation: https://pandas.pydata.org/pandas-docs/stable/user_guide/indexing.html#returning-a-view-versus-a-copy\n",
      "  train['mileageNAN'] = train['mileage'].apply(lambda x: 1 if x == 0 else 0)\n"
     ]
    }
   ],
   "source": [
    "train['mileageNAN'] = train['mileage'].apply(lambda x: 1 if x == 0 else 0)"
   ]
  },
  {
   "cell_type": "markdown",
   "metadata": {},
   "source": [
    "#  EDA\n",
    "bodyType"
   ]
  },
  {
   "cell_type": "markdown",
   "metadata": {},
   "source": [
    "Сравним bodyType у тест и трейна ,и видим что начальные 9 признаки совпадают"
   ]
  },
  {
   "cell_type": "code",
   "execution_count": 34,
   "metadata": {},
   "outputs": [
    {
     "name": "stderr",
     "output_type": "stream",
     "text": [
      "<ipython-input-34-8feb57c3ee93>:1: SettingWithCopyWarning: \n",
      "A value is trying to be set on a copy of a slice from a DataFrame.\n",
      "Try using .loc[row_indexer,col_indexer] = value instead\n",
      "\n",
      "See the caveats in the documentation: https://pandas.pydata.org/pandas-docs/stable/user_guide/indexing.html#returning-a-view-versus-a-copy\n",
      "  train['bodyType'] = train['bodyType'].apply(lambda x: str(x).lower())\n"
     ]
    }
   ],
   "source": [
    "train['bodyType'] = train['bodyType'].apply(lambda x: str(x).lower())"
   ]
  },
  {
   "cell_type": "code",
   "execution_count": 35,
   "metadata": {},
   "outputs": [
    {
     "name": "stderr",
     "output_type": "stream",
     "text": [
      "<ipython-input-35-aebd8bce450d>:1: SettingWithCopyWarning: \n",
      "A value is trying to be set on a copy of a slice from a DataFrame.\n",
      "Try using .loc[row_indexer,col_indexer] = value instead\n",
      "\n",
      "See the caveats in the documentation: https://pandas.pydata.org/pandas-docs/stable/user_guide/indexing.html#returning-a-view-versus-a-copy\n",
      "  train['bodyType2'] = train.bodyType\n"
     ]
    },
    {
     "data": {
      "text/plain": [
       "внедорожник 5 дв.    70847\n",
       "седан                64498\n",
       "хэтчбек 5 дв.        16480\n",
       "лифтбек               7306\n",
       "универсал 5 дв.       7007\n",
       "минивэн               3608\n",
       "компактвэн            3523\n",
       "купе                  2950\n",
       "хэтчбек 3 дв.         2724\n",
       "Name: bodyType2, dtype: int64"
      ]
     },
     "execution_count": 35,
     "metadata": {},
     "output_type": "execute_result"
    }
   ],
   "source": [
    "train['bodyType2'] = train.bodyType\n",
    "bodyType = train.bodyType2.value_counts()[:9]\n",
    "bodyType"
   ]
  },
  {
   "cell_type": "code",
   "execution_count": 36,
   "metadata": {},
   "outputs": [],
   "source": [
    "test['bodyType2'] = test.bodyType"
   ]
  },
  {
   "cell_type": "code",
   "execution_count": 37,
   "metadata": {},
   "outputs": [
    {
     "name": "stderr",
     "output_type": "stream",
     "text": [
      "<ipython-input-37-41887eb0dea4>:1: SettingWithCopyWarning: \n",
      "A value is trying to be set on a copy of a slice from a DataFrame.\n",
      "Try using .loc[row_indexer,col_indexer] = value instead\n",
      "\n",
      "See the caveats in the documentation: https://pandas.pydata.org/pandas-docs/stable/user_guide/indexing.html#returning-a-view-versus-a-copy\n",
      "  train['bodyType2'] = train['bodyType2'].apply(lambda x: x if x in bodyType else 'other')\n"
     ]
    }
   ],
   "source": [
    "train['bodyType2'] = train['bodyType2'].apply(lambda x: x if x in bodyType else 'other')\n",
    "test['bodyType2'] = test['bodyType2'].apply(lambda x: x if x in bodyType else 'other')"
   ]
  },
  {
   "cell_type": "code",
   "execution_count": 38,
   "metadata": {},
   "outputs": [
    {
     "data": {
      "text/plain": [
       "<AxesSubplot:>"
      ]
     },
     "execution_count": 38,
     "metadata": {},
     "output_type": "execute_result"
    },
    {
     "data": {
      "image/png": "[encoded data removed]",
      "text/plain": [
       "<Figure size 432x288 with 1 Axes>"
      ]
     },
     "metadata": {
      "needs_background": "light"
     },
     "output_type": "display_data"
    }
   ],
   "source": [
    "train['bodyType2'].value_counts().plot(kind='bar')"
   ]
  },
  {
   "cell_type": "markdown",
   "metadata": {},
   "source": [
    "У нас стоимости машины разбросаны, поэтому  построим зависимость от логарифма цены "
   ]
  },
  {
   "cell_type": "code",
   "execution_count": 39,
   "metadata": {},
   "outputs": [
    {
     "name": "stderr",
     "output_type": "stream",
     "text": [
      "<ipython-input-39-e06ed8f40ad7>:1: SettingWithCopyWarning: \n",
      "A value is trying to be set on a copy of a slice from a DataFrame.\n",
      "Try using .loc[row_indexer,col_indexer] = value instead\n",
      "\n",
      "See the caveats in the documentation: https://pandas.pydata.org/pandas-docs/stable/user_guide/indexing.html#returning-a-view-versus-a-copy\n",
      "  train['log_price'] = np.log(train.price)\n"
     ]
    }
   ],
   "source": [
    "train['log_price'] = np.log(train.price)"
   ]
  },
  {
   "cell_type": "code",
   "execution_count": 40,
   "metadata": {},
   "outputs": [
    {
     "data": {
      "image/png": "[encoded data removed]",
      "text/plain": [
       "<Figure size 576x360 with 1 Axes>"
      ]
     },
     "metadata": {
      "needs_background": "light"
     },
     "output_type": "display_data"
    }
   ],
   "source": [
    "plt.figure(figsize=(8, 5))\n",
    "g1 = sns.boxplot(y='log_price', x='bodyType2', \n",
    "                  data=train, color='darkblue')\n",
    "g1.set_title(\"price of bodyTypes\", fontsize=20)\n",
    "\n",
    "g1.set_ylabel(\"log_price\", fontsize=15)\n",
    "g1.set_xticklabels(g1.get_xticklabels(),rotation=45)\n",
    "plt.show()"
   ]
  },
  {
   "cell_type": "markdown",
   "metadata": {},
   "source": [
    "В целом есть зависимость типа машин от стоимости. Например купе дороговато от остальних"
   ]
  },
  {
   "cell_type": "code",
   "execution_count": 41,
   "metadata": {},
   "outputs": [],
   "source": [
    "train = train.assign(bT_length = train['bodyType'].apply(len))\n",
    "test = test.assign(bT_length = test['bodyType'].apply(len))"
   ]
  },
  {
   "cell_type": "code",
   "execution_count": 42,
   "metadata": {},
   "outputs": [
    {
     "data": {
      "image/png": "[encoded data removed]",
      "text/plain": [
       "<Figure size 576x360 with 1 Axes>"
      ]
     },
     "metadata": {
      "needs_background": "light"
     },
     "output_type": "display_data"
    }
   ],
   "source": [
    "plt.figure(figsize=(8, 5))\n",
    "g1 = sns.boxplot(y='log_price', x='bT_length', \n",
    "                  data=train, color='darkblue')\n",
    "g1.set_title(\"price of bT_length\", fontsize=20)\n",
    "\n",
    "g1.set_ylabel(\"log_price\", fontsize=15)\n",
    "g1.set_xticklabels(g1.get_xticklabels(),rotation=45)\n",
    "plt.show()"
   ]
  },
  {
   "cell_type": "markdown",
   "metadata": {},
   "source": [
    "brand"
   ]
  },
  {
   "cell_type": "code",
   "execution_count": 43,
   "metadata": {},
   "outputs": [
    {
     "data": {
      "text/plain": [
       "36"
      ]
     },
     "execution_count": 43,
     "metadata": {},
     "output_type": "execute_result"
    }
   ],
   "source": [
    "len(train.brand.value_counts())\n"
   ]
  },
  {
   "cell_type": "code",
   "execution_count": 44,
   "metadata": {},
   "outputs": [
    {
     "data": {
      "text/plain": [
       "12"
      ]
     },
     "execution_count": 44,
     "metadata": {},
     "output_type": "execute_result"
    }
   ],
   "source": [
    "len(test.brand.value_counts())\n"
   ]
  },
  {
   "cell_type": "code",
   "execution_count": 45,
   "metadata": {},
   "outputs": [
    {
     "data": {
      "text/plain": [
       "BMW           4473\n",
       "VOLKSWAGEN    4404\n",
       "NISSAN        4393\n",
       "MERCEDES      4180\n",
       "TOYOTA        3913\n",
       "AUDI          3421\n",
       "MITSUBISHI    2843\n",
       "SKODA         2741\n",
       "VOLVO         1463\n",
       "HONDA         1150\n",
       "INFINITI       871\n",
       "LEXUS          834\n",
       "Name: brand, dtype: int64"
      ]
     },
     "execution_count": 45,
     "metadata": {},
     "output_type": "execute_result"
    }
   ],
   "source": [
    "brand = test.brand.value_counts()\n",
    "brand"
   ]
  },
  {
   "cell_type": "markdown",
   "metadata": {},
   "source": [
    "Сравним с тестом оставим по брендам с теста , а остальных объединим как otherBrand"
   ]
  },
  {
   "cell_type": "code",
   "execution_count": 46,
   "metadata": {},
   "outputs": [],
   "source": [
    "train['brand'] = train['brand'].apply(lambda x: x if x in brand else 'otherBrand')"
   ]
  },
  {
   "cell_type": "code",
   "execution_count": 47,
   "metadata": {},
   "outputs": [
    {
     "data": {
      "text/plain": [
       "otherBrand    72803\n",
       "BMW           25008\n",
       "MERCEDES      19738\n",
       "VOLKSWAGEN    14890\n",
       "NISSAN        12591\n",
       "TOYOTA         9774\n",
       "AUDI           9433\n",
       "MITSUBISHI     7915\n",
       "SKODA          7137\n",
       "VOLVO          4458\n",
       "HONDA          2016\n",
       "LEXUS          1904\n",
       "INFINITI       1783\n",
       "Name: brand, dtype: int64"
      ]
     },
     "execution_count": 47,
     "metadata": {},
     "output_type": "execute_result"
    }
   ],
   "source": [
    "train['brand'].value_counts()"
   ]
  },
  {
   "cell_type": "code",
   "execution_count": 48,
   "metadata": {},
   "outputs": [
    {
     "data": {
      "text/html": [
       "<div>\n",
       "<style scoped>\n",
       "    .dataframe tbody tr th:only-of-type {\n",
       "        vertical-align: middle;\n",
       "    }\n",
       "\n",
       "    .dataframe tbody tr th {\n",
       "        vertical-align: top;\n",
       "    }\n",
       "\n",
       "    .dataframe thead th {\n",
       "        text-align: right;\n",
       "    }\n",
       "</style>\n",
       "<table border=\"1\" class=\"dataframe\">\n",
       "  <thead>\n",
       "    <tr style=\"text-align: right;\">\n",
       "      <th></th>\n",
       "      <th>count</th>\n",
       "      <th>mean</th>\n",
       "      <th>std</th>\n",
       "      <th>min</th>\n",
       "      <th>25%</th>\n",
       "      <th>50%</th>\n",
       "      <th>75%</th>\n",
       "      <th>max</th>\n",
       "    </tr>\n",
       "    <tr>\n",
       "      <th>brand</th>\n",
       "      <th></th>\n",
       "      <th></th>\n",
       "      <th></th>\n",
       "      <th></th>\n",
       "      <th></th>\n",
       "      <th></th>\n",
       "      <th></th>\n",
       "      <th></th>\n",
       "    </tr>\n",
       "  </thead>\n",
       "  <tbody>\n",
       "    <tr>\n",
       "      <th>AUDI</th>\n",
       "      <td>9433.0</td>\n",
       "      <td>1.522361e+06</td>\n",
       "      <td>1.561084e+06</td>\n",
       "      <td>25000.0</td>\n",
       "      <td>490000.0</td>\n",
       "      <td>999000.0</td>\n",
       "      <td>1949000.00</td>\n",
       "      <td>14898500.0</td>\n",
       "    </tr>\n",
       "    <tr>\n",
       "      <th>BMW</th>\n",
       "      <td>25008.0</td>\n",
       "      <td>2.089680e+06</td>\n",
       "      <td>2.117576e+06</td>\n",
       "      <td>45000.0</td>\n",
       "      <td>680000.0</td>\n",
       "      <td>1349000.0</td>\n",
       "      <td>2915250.00</td>\n",
       "      <td>16290000.0</td>\n",
       "    </tr>\n",
       "    <tr>\n",
       "      <th>HONDA</th>\n",
       "      <td>2016.0</td>\n",
       "      <td>6.297659e+05</td>\n",
       "      <td>5.336129e+05</td>\n",
       "      <td>40000.0</td>\n",
       "      <td>323750.0</td>\n",
       "      <td>488000.0</td>\n",
       "      <td>780000.00</td>\n",
       "      <td>5697338.0</td>\n",
       "    </tr>\n",
       "    <tr>\n",
       "      <th>INFINITI</th>\n",
       "      <td>1783.0</td>\n",
       "      <td>1.575364e+06</td>\n",
       "      <td>1.153766e+06</td>\n",
       "      <td>105000.0</td>\n",
       "      <td>739500.0</td>\n",
       "      <td>1290000.0</td>\n",
       "      <td>1890000.00</td>\n",
       "      <td>6849262.0</td>\n",
       "    </tr>\n",
       "    <tr>\n",
       "      <th>LEXUS</th>\n",
       "      <td>1904.0</td>\n",
       "      <td>2.160016e+06</td>\n",
       "      <td>1.515721e+06</td>\n",
       "      <td>65000.0</td>\n",
       "      <td>970000.0</td>\n",
       "      <td>1799999.5</td>\n",
       "      <td>3019500.00</td>\n",
       "      <td>13000000.0</td>\n",
       "    </tr>\n",
       "    <tr>\n",
       "      <th>MERCEDES</th>\n",
       "      <td>19738.0</td>\n",
       "      <td>3.993091e+06</td>\n",
       "      <td>4.282492e+06</td>\n",
       "      <td>40000.0</td>\n",
       "      <td>1050000.0</td>\n",
       "      <td>2898900.0</td>\n",
       "      <td>5344400.00</td>\n",
       "      <td>72000000.0</td>\n",
       "    </tr>\n",
       "    <tr>\n",
       "      <th>MITSUBISHI</th>\n",
       "      <td>7915.0</td>\n",
       "      <td>9.034123e+05</td>\n",
       "      <td>7.729298e+05</td>\n",
       "      <td>38000.0</td>\n",
       "      <td>280000.0</td>\n",
       "      <td>599999.0</td>\n",
       "      <td>1455500.00</td>\n",
       "      <td>3572805.0</td>\n",
       "    </tr>\n",
       "    <tr>\n",
       "      <th>NISSAN</th>\n",
       "      <td>12591.0</td>\n",
       "      <td>8.762658e+05</td>\n",
       "      <td>6.512968e+05</td>\n",
       "      <td>25000.0</td>\n",
       "      <td>400000.0</td>\n",
       "      <td>685000.0</td>\n",
       "      <td>1200000.00</td>\n",
       "      <td>7900000.0</td>\n",
       "    </tr>\n",
       "    <tr>\n",
       "      <th>SKODA</th>\n",
       "      <td>7137.0</td>\n",
       "      <td>7.478966e+05</td>\n",
       "      <td>5.043372e+05</td>\n",
       "      <td>20000.0</td>\n",
       "      <td>439000.0</td>\n",
       "      <td>615000.0</td>\n",
       "      <td>899000.00</td>\n",
       "      <td>3180000.0</td>\n",
       "    </tr>\n",
       "    <tr>\n",
       "      <th>TOYOTA</th>\n",
       "      <td>9774.0</td>\n",
       "      <td>1.399156e+06</td>\n",
       "      <td>1.235014e+06</td>\n",
       "      <td>30000.0</td>\n",
       "      <td>510000.0</td>\n",
       "      <td>1100000.0</td>\n",
       "      <td>1907442.25</td>\n",
       "      <td>25000000.0</td>\n",
       "    </tr>\n",
       "    <tr>\n",
       "      <th>VOLKSWAGEN</th>\n",
       "      <td>14890.0</td>\n",
       "      <td>1.010303e+06</td>\n",
       "      <td>9.498774e+05</td>\n",
       "      <td>23000.0</td>\n",
       "      <td>405000.0</td>\n",
       "      <td>695000.0</td>\n",
       "      <td>1350000.00</td>\n",
       "      <td>8500000.0</td>\n",
       "    </tr>\n",
       "    <tr>\n",
       "      <th>VOLVO</th>\n",
       "      <td>4458.0</td>\n",
       "      <td>1.828699e+06</td>\n",
       "      <td>1.704972e+06</td>\n",
       "      <td>30000.0</td>\n",
       "      <td>480000.0</td>\n",
       "      <td>990000.0</td>\n",
       "      <td>3472400.00</td>\n",
       "      <td>8047725.0</td>\n",
       "    </tr>\n",
       "    <tr>\n",
       "      <th>otherBrand</th>\n",
       "      <td>72803.0</td>\n",
       "      <td>8.369849e+05</td>\n",
       "      <td>1.267467e+06</td>\n",
       "      <td>16000.0</td>\n",
       "      <td>290000.0</td>\n",
       "      <td>495000.0</td>\n",
       "      <td>895000.00</td>\n",
       "      <td>99000000.0</td>\n",
       "    </tr>\n",
       "  </tbody>\n",
       "</table>\n",
       "</div>"
      ],
      "text/plain": [
       "              count          mean           std       min        25%  \\\n",
       "brand                                                                  \n",
       "AUDI         9433.0  1.522361e+06  1.561084e+06   25000.0   490000.0   \n",
       "BMW         25008.0  2.089680e+06  2.117576e+06   45000.0   680000.0   \n",
       "HONDA        2016.0  6.297659e+05  5.336129e+05   40000.0   323750.0   \n",
       "INFINITI     1783.0  1.575364e+06  1.153766e+06  105000.0   739500.0   \n",
       "LEXUS        1904.0  2.160016e+06  1.515721e+06   65000.0   970000.0   \n",
       "MERCEDES    19738.0  3.993091e+06  4.282492e+06   40000.0  1050000.0   \n",
       "MITSUBISHI   7915.0  9.034123e+05  7.729298e+05   38000.0   280000.0   \n",
       "NISSAN      12591.0  8.762658e+05  6.512968e+05   25000.0   400000.0   \n",
       "SKODA        7137.0  7.478966e+05  5.043372e+05   20000.0   439000.0   \n",
       "TOYOTA       9774.0  1.399156e+06  1.235014e+06   30000.0   510000.0   \n",
       "VOLKSWAGEN  14890.0  1.010303e+06  9.498774e+05   23000.0   405000.0   \n",
       "VOLVO        4458.0  1.828699e+06  1.704972e+06   30000.0   480000.0   \n",
       "otherBrand  72803.0  8.369849e+05  1.267467e+06   16000.0   290000.0   \n",
       "\n",
       "                  50%         75%         max  \n",
       "brand                                          \n",
       "AUDI         999000.0  1949000.00  14898500.0  \n",
       "BMW         1349000.0  2915250.00  16290000.0  \n",
       "HONDA        488000.0   780000.00   5697338.0  \n",
       "INFINITI    1290000.0  1890000.00   6849262.0  \n",
       "LEXUS       1799999.5  3019500.00  13000000.0  \n",
       "MERCEDES    2898900.0  5344400.00  72000000.0  \n",
       "MITSUBISHI   599999.0  1455500.00   3572805.0  \n",
       "NISSAN       685000.0  1200000.00   7900000.0  \n",
       "SKODA        615000.0   899000.00   3180000.0  \n",
       "TOYOTA      1100000.0  1907442.25  25000000.0  \n",
       "VOLKSWAGEN   695000.0  1350000.00   8500000.0  \n",
       "VOLVO        990000.0  3472400.00   8047725.0  \n",
       "otherBrand   495000.0   895000.00  99000000.0  "
      ]
     },
     "execution_count": 48,
     "metadata": {},
     "output_type": "execute_result"
    }
   ],
   "source": [
    "train.groupby('brand').price.describe()"
   ]
  },
  {
   "cell_type": "code",
   "execution_count": 49,
   "metadata": {},
   "outputs": [
    {
     "data": {
      "image/png": "[encoded data removed]",
      "text/plain": [
       "<Figure size 576x360 with 1 Axes>"
      ]
     },
     "metadata": {
      "needs_background": "light"
     },
     "output_type": "display_data"
    }
   ],
   "source": [
    "plt.figure(figsize=(8, 5))\n",
    "g1 = sns.boxplot(y='log_price', x='brand', \n",
    "                  data=train, color='darkgreen')\n",
    "g1.set_title(\"price of brands\", fontsize=20)\n",
    "\n",
    "g1.set_ylabel(\"log_price\", fontsize=15)\n",
    "g1.set_xticklabels(g1.get_xticklabels(),rotation=45)\n",
    "plt.show()"
   ]
  },
  {
   "cell_type": "code",
   "execution_count": 50,
   "metadata": {},
   "outputs": [],
   "source": [
    "train = train.assign(brand_length = train['brand'].apply(len))\n",
    "test = test.assign(brand_length = test['brand'].apply(len))"
   ]
  },
  {
   "cell_type": "code",
   "execution_count": 51,
   "metadata": {},
   "outputs": [
    {
     "data": {
      "image/png": "[encoded data removed]",
      "text/plain": [
       "<Figure size 576x360 with 1 Axes>"
      ]
     },
     "metadata": {
      "needs_background": "light"
     },
     "output_type": "display_data"
    }
   ],
   "source": [
    "plt.figure(figsize=(8, 5))\n",
    "g1 = sns.boxplot(y='log_price', x='brand_length', \n",
    "                  data=train, color='darkgreen')\n",
    "g1.set_title(\"price of brand_length\", fontsize=20)\n",
    "\n",
    "g1.set_ylabel(\"log_price\", fontsize=15)\n",
    "g1.set_xticklabels(g1.get_xticklabels(),rotation=45)\n",
    "plt.show()"
   ]
  },
  {
   "cell_type": "code",
   "execution_count": 52,
   "metadata": {},
   "outputs": [
    {
     "data": {
      "text/plain": [
       "544"
      ]
     },
     "execution_count": 52,
     "metadata": {},
     "output_type": "execute_result"
    }
   ],
   "source": [
    "len(test.model_name.value_counts())"
   ]
  },
  {
   "cell_type": "code",
   "execution_count": 53,
   "metadata": {},
   "outputs": [
    {
     "data": {
      "text/plain": [
       "1066"
      ]
     },
     "execution_count": 53,
     "metadata": {},
     "output_type": "execute_result"
    }
   ],
   "source": [
    "len(train.model_name.value_counts())"
   ]
  },
  {
   "cell_type": "code",
   "execution_count": 54,
   "metadata": {},
   "outputs": [
    {
     "data": {
      "text/plain": [
       "OCTAVIA      1418\n",
       "5ER          1026\n",
       "LANCER        855\n",
       "E_KLASSE      809\n",
       "PASSAT        782\n",
       "A6            757\n",
       "3ER           752\n",
       "POLO          724\n",
       "CAMRY         709\n",
       "X5            675\n",
       "X_TRAIL       654\n",
       "A4            626\n",
       "QASHQAI       609\n",
       "S_KLASSE      549\n",
       "OUTLANDER     544\n",
       "Name: model_name, dtype: int64"
      ]
     },
     "execution_count": 54,
     "metadata": {},
     "output_type": "execute_result"
    }
   ],
   "source": [
    "test.model_name.value_counts().head(15)"
   ]
  },
  {
   "cell_type": "code",
   "execution_count": 55,
   "metadata": {},
   "outputs": [
    {
     "data": {
      "text/plain": [
       "28268"
      ]
     },
     "execution_count": 55,
     "metadata": {},
     "output_type": "execute_result"
    }
   ],
   "source": [
    "test.complectation_dict.isna().sum()"
   ]
  },
  {
   "cell_type": "code",
   "execution_count": 56,
   "metadata": {},
   "outputs": [
    {
     "data": {
      "text/plain": [
       "{'id': '0'}                                                                                                                                                                                                                                                                                                                                                                                                                                                                                                                                                                                                                                                                                                                                                                                                                                                                                                                                                                                                                                                                                                                                                                                                                                                                                                                                                                                                                                                                                                                                                                                                                                                                                                                                                                                                                                                                                                                                                                                                                                                                                                                                                                                                                                                                                                                                                                                                                                                                                                                                                                                                                                                                                                                                                                                                                                                                                                                                                                                                                                                                                                                                                                                                                                                                                                                                                                                                                                                                                                                                                                                                                                              48417\n",
       "{'id': '21565419', 'name': 'GLC 200 4MATIC Premium', 'available_options': ['cruise-control', 'eco-leather', 'multi-wheel', 'auto-park', 'heated-wash-system', 'airbag-passenger', 'roof-rails', 'bas', 'lock', 'electro-mirrors', 'mirrors-heat', 'volume-sensor', 'automatic-lighting-control', 'collision-prevention-assist', 'computer', 'seat-transformation', 'android-auto', 'wheel-power', 'airbag-side', 'electro-trunk', 'abs', 'wheel-leather', 'climate-control-2', 'auto-mirrors', 'asr', 'esp', 'usb', 'audiopreparation', 'front-centre-armrest', 'apple-carplay', 'rear-camera', 'steering-wheel-gear-shift-paddles', 'electro-window-back', '18-inch-wheels', 'reduce-spare-wheel', 'park-assist-f', 'driver-seat-updown', 'led-lights', 'park-assist-r', 'knee-airbag', 'airbag-driver', 'isofix', 'aux', 'drive-mode-sys', 'electro-window-front', 'light-sensor', 'airbag-curtain', 'alarm', 'paint-metallic', 'start-button', 'rain-sensor', 'tyre-pressure', 'voice-recognition', 'audiosystem-cd', 'front-seats-heat', 'bluetooth', 'wheel-configuration2', 'wheel-configuration1', 'immo', '12v-socket', 'third-rear-headrest']}                                                                                                                                                                                                                                                                                                                                                                                                                                                                                                                                                                                                                                                                                                                                                                                                                                                                                                                                                                                                                                                                                                                                                                                                                                                                                                                                                                                                                                                                                                                                                                                                                                                                                                                                                                                                                                                                                                                                                                                                                                                                                                                                                                                                                                                                                                                                                                                                                                                                                                    266\n",
       "{'id': '21601444', 'name': 'GLS 450 4MATIC Sport', 'available_options': ['multi-wheel', 'auto-park', 'heated-wash-system', 'airbag-passenger', 'navigation', 'roof-rails', 'decorative-interior-lighting', 'bas', 'lock', 'electro-mirrors', 'activ-suspension', 'mirrors-heat', 'power-latching-doors', 'volume-sensor', 'leather', 'driver-seat-memory', 'body-kit', 'glonass', 'front-seats-heat-vent', 'start-stop-function', 'automatic-lighting-control', 'passenger-seat-updown', 'collision-prevention-assist', 'computer', 'high-beam-assist', 'seat-transformation', 'android-auto', 'dha', 'airbag-rear-side', 'airbag-side', 'electronic-gage-panel', 'electro-trunk', 'auto-cruise', 'abs', 'wheel-leather', 'third-row-seats', 'auto-mirrors', 'asr', 'tinted-glass', 'esp', 'adaptive-light', 'usb', 'audiopreparation', 'lane-keeping-assist', 'front-centre-armrest', 'apple-carplay', '21-inch-wheels', 'air-suspension', 'servo', 'electro-window-back', 'reduce-spare-wheel', 'multizone-climate-control', 'hatch', 'park-assist-f', 'rear-seats-heat', 'wheel-heat', 'led-lights', 'music-super', 'park-assist-r', 'airbag-driver', 'isofix', 'aux', 'drive-mode-sys', 'electro-window-front', 'light-sensor', 'airbag-curtain', 'keyless-entry', 'passenger-seat-electric', 'alarm', 'paint-metallic', 'traffic-sign-recognition', 'start-button', 'rain-sensor', 'tyre-pressure', 'panorama-roof', 'front-seats-heat', 'bluetooth', 'wheel-configuration2', 'wheel-configuration1', 'immo', '12v-socket', 'third-rear-headrest', '360-camera'], 'vendor_colors': [{'body_color_id': 21603365, 'mark_color_id': 21389965, 'name_ru': 'Серый Селенит', 'hex_codes': ['65696E'], 'color_type': 'METALLIC', 'stock_color': {'hex_code': '97948F', 'name_ru': 'серый'}, 'photos': [{'name': '34-front', 'sizes': {'orig': '//avatars.mds.yandex.net/get-verba/937147/2a0000016bd5bd5115eab429827220814f69/orig', 'wizardv3mr': '//avatars.mds.yandex.net/get-verba/937147/2a0000016bd5bd5115eab429827220814f69/wizardv3mr', 'wizardv3': '//avatars.mds.yandex.net/get-verba/937147/2a0000016bd5bd5115eab429827220814f69/wizardv3', 'cattouch': '//avatars.mds.yandex.net/get-verba/937147/2a0000016bd5bd5115eab429827220814f69/cattouch', 'small': '//avatars.mds.yandex.net/get-verba/937147/2a0000016bd5bd5115eab429827220814f69/small', '320x240': '//avatars.mds.yandex.net/get-verba/937147/2a0000016bd5bd5115eab429827220814f69/320x240', '1200x900': '//avatars.mds.yandex.net/get-verba/937147/2a0000016bd5bd5115eab429827220814f69/1200x900', '1200x900n': '//avatars.mds.yandex.net/get-verba/937147/2a0000016bd5bd5115eab429827220814f69/1200x900n', 'thumb_m': '//avatars.mds.yandex.net/get-verba/937147/2a0000016bd5bd5115eab429827220814f69/thumb_m', 'full': '//avatars.mds.yandex.net/get-verba/937147/2a0000016bd5bd5115eab429827220814f69/full', '832x624': '//avatars.mds.yandex.net/get-verba/937147/2a0000016bd5bd5115eab429827220814f69/832x624', '456x342': '//avatars.mds.yandex.net/get-verba/937147/2a0000016bd5bd5115eab429827220814f69/456x342', '120x90': '//avatars.mds.yandex.net/get-verba/937147/2a0000016bd5bd5115eab429827220814f69/120x90', '92x69': '//avatars.mds.yandex.net/get-verba/937147/2a0000016bd5bd5115eab429827220814f69/92x69', 'islandoff': '//avatars.mds.yandex.net/get-verba/937147/2a0000016bd5bd5115eab429827220814f69/islandoff', 'thumb_s': '//avatars.mds.yandex.net/get-verba/937147/2a0000016bd5bd5115eab429827220814f69/thumb_s', 'thumb_s_2x': '//avatars.mds.yandex.net/get-verba/937147/2a0000016bd5bd5115eab429827220814f69/thumb_s_2x'}}], 'main_color': True}]}      240\n",
       "Name: complectation_dict, dtype: int64"
      ]
     },
     "execution_count": 56,
     "metadata": {},
     "output_type": "execute_result"
    }
   ],
   "source": [
    "train.complectation_dict.value_counts().head(3)"
   ]
  },
  {
   "cell_type": "code",
   "execution_count": 57,
   "metadata": {},
   "outputs": [
    {
     "data": {
      "text/plain": [
       "{\"id\":\"4562904\",\"name\":\"Elegance\",\"available_options\":[\"cruise-control\",\"multi-wheel\",\"airbag-passenger\",\"lock\",\"electro-mirrors\",\"mirrors-heat\",\"cooling-box\",\"computer\",\"seat-transformation\",\"wheel-power\",\"fabric-seats\",\"airbag-side\",\"abs\",\"wheel-leather\",\"climate-control-1\",\"esp\",\"audiopreparation\",\"electro-window-back\",\"condition\",\"music-super\",\"park-assist-r\",\"airbag-driver\",\"isofix\",\"aux\",\"electro-window-front\",\"light-sensor\",\"hcc\",\"alarm\",\"ptf\",\"rain-sensor\",\"audiosystem-cd\",\"front-seats-heat\",\"wheel-configuration2\",\"wheel-configuration1\",\"immo\"]}                                                                                                                                                                                                                                                                                                                                                                                                                                                                                                                                                                                                                                                                                                                                                                                                                                                                                                                                                                                                                                                                                                                                                                                                                                                                                                                                                                                                                                                                                                                                                                                                                                                                                                                                                                                                                                                                                                                                                                                                                                                                                                                                                                                                                                                                                                                                                                                                                                                                                                                                                                                                                                                                                                                                                                                                                                                                                                                                                                                                                                                                                                                                                                                                                                                                                                                                                                                                                                                                                                                                                                                                                                                                                                                                                                                                                                                                                                                                                                                                                                                                                                                                                                                                                                                                                                                                                                                                                                                                                                                                                                                                                                                                                                                                                                                                                                                                                                                                                                                                                                                                                                                                                                                                                                                                                                                                                                                                                                                                                                                                                                                                                                                                                                                                                                                                                                                                                                                                                                                                                                                                                                                                                                                                                                                                                                                                                                                                                                                                                                                                                                                                                                                                                                                                                                                                                                                                                                                                                                                                                                                                                                                                                                                                                                                                                                                                                                                                                                                                                                                                                                                                                                                                                                                                                                                                                                                                                                                                                                                                                                                                                                                                                                                                                                                                                                                                                                                                                                                                                                                                                                                                                                                                                                                                                                                                                                                                                                                                                                                                                                                                                                                                                                                                                                                                                                                                                                                                                                                                        51\n",
       "{\"id\":\"20913628\",\"name\":\"Style\",\"available_options\":[\"cruise-control\",\"multi-wheel\",\"heated-wash-system\",\"airbag-passenger\",\"decorative-interior-lighting\",\"lock\",\"electro-mirrors\",\"mirrors-heat\",\"volume-sensor\",\"cooling-box\",\"glonass\",\"passenger-seat-updown\",\"computer\",\"seat-transformation\",\"fabric-seats\",\"airbag-side\",\"electronic-gage-panel\",\"abs\",\"wheel-leather\",\"climate-control-2\",\"esp\",\"usb\",\"audiopreparation\",\"ashtray-and-cigarette-lighter\",\"front-centre-armrest\",\"servo\",\"electro-window-back\",\"16-inch-wheels\",\"park-assist-r\",\"airbag-driver\",\"isofix\",\"aux\",\"electro-window-front\",\"light-sensor\",\"hcc\",\"airbag-curtain\",\"alarm\",\"leather-gear-stick\",\"ptf\",\"rain-sensor\",\"voice-recognition\",\"audiosystem-cd\",\"front-seats-heat\",\"bluetooth\",\"wheel-configuration2\",\"wheel-configuration1\",\"immo\",\"12v-socket\",\"third-rear-headrest\"],\"vendor_colors\":[{\"body_color_id\":21438108,\"mark_color_id\":21390875,\"name_ru\":\"Серый Platinum\",\"hex_codes\":[\"787672\"],\"color_type\":\"METALLIC\",\"stock_color\":{\"hex_code\":\"97948F\",\"name_ru\":\"серый\"},\"photos\":[{\"name\":\"34-front\",\"sizes\":{\"orig\":\"//avatars.mds.yandex.net/get-verba/1540742/2a0000016dcfe0e0ca95c1e01f535bff3a3c/orig\",\"wizardv3mr\":\"//avatars.mds.yandex.net/get-verba/1540742/2a0000016dcfe0e0ca95c1e01f535bff3a3c/wizardv3mr\",\"wizardv3\":\"//avatars.mds.yandex.net/get-verba/1540742/2a0000016dcfe0e0ca95c1e01f535bff3a3c/wizardv3\",\"cattouch\":\"//avatars.mds.yandex.net/get-verba/1540742/2a0000016dcfe0e0ca95c1e01f535bff3a3c/cattouch\",\"small\":\"//avatars.mds.yandex.net/get-verba/1540742/2a0000016dcfe0e0ca95c1e01f535bff3a3c/small\",\"320x240\":\"//avatars.mds.yandex.net/get-verba/1540742/2a0000016dcfe0e0ca95c1e01f535bff3a3c/320x240\",\"1200x900\":\"//avatars.mds.yandex.net/get-verba/1540742/2a0000016dcfe0e0ca95c1e01f535bff3a3c/1200x900\",\"1200x900n\":\"//avatars.mds.yandex.net/get-verba/1540742/2a0000016dcfe0e0ca95c1e01f535bff3a3c/1200x900n\",\"thumb_m\":\"//avatars.mds.yandex.net/get-verba/1540742/2a0000016dcfe0e0ca95c1e01f535bff3a3c/thumb_m\",\"full\":\"//avatars.mds.yandex.net/get-verba/1540742/2a0000016dcfe0e0ca95c1e01f535bff3a3c/full\",\"832x624\":\"//avatars.mds.yandex.net/get-verba/1540742/2a0000016dcfe0e0ca95c1e01f535bff3a3c/832x624\",\"456x342\":\"//avatars.mds.yandex.net/get-verba/1540742/2a0000016dcfe0e0ca95c1e01f535bff3a3c/456x342\",\"120x90\":\"//avatars.mds.yandex.net/get-verba/1540742/2a0000016dcfe0e0ca95c1e01f535bff3a3c/120x90\",\"92x69\":\"//avatars.mds.yandex.net/get-verba/1540742/2a0000016dcfe0e0ca95c1e01f535bff3a3c/92x69\",\"islandoff\":\"//avatars.mds.yandex.net/get-verba/1540742/2a0000016dcfe0e0ca95c1e01f535bff3a3c/islandoff\",\"thumb_s\":\"//avatars.mds.yandex.net/get-verba/1540742/2a0000016dcfe0e0ca95c1e01f535bff3a3c/thumb_s\",\"thumb_s_2x\":\"//avatars.mds.yandex.net/get-verba/1540742/2a0000016dcfe0e0ca95c1e01f535bff3a3c/thumb_s_2x\"}},{\"name\":\"34-back\",\"sizes\":{\"orig\":\"//avatars.mds.yandex.net/get-verba/937147/2a0000016dcfe0fc1be343934c10f4bd6712/orig\",\"wizardv3mr\":\"//avatars.mds.yandex.net/get-verba/937147/2a0000016dcfe0fc1be343934c10f4bd6712/wizardv3mr\",\"wizardv3\":\"//avatars.mds.yandex.net/get-verba/937147/2a0000016dcfe0fc1be343934c10f4bd6712/wizardv3\",\"cattouch\":\"//avatars.mds.yandex.net/get-verba/937147/2a0000016dcfe0fc1be343934c10f4bd6712/cattouch\",\"small\":\"//avatars.mds.yandex.net/get-verba/937147/2a0000016dcfe0fc1be343934c10f4bd6712/small\",\"320x240\":\"//avatars.mds.yandex.net/get-verba/937147/2a0000016dcfe0fc1be343934c10f4bd6712/320x240\",\"1200x900\":\"//avatars.mds.yandex.net/get-verba/937147/2a0000016dcfe0fc1be343934c10f4bd6712/1200x900\",\"1200x900n\":\"//avatars.mds.yandex.net/get-verba/937147/2a0000016dcfe0fc1be343934c10f4bd6712/1200x900n\",\"thumb_m\":\"//avatars.mds.yandex.net/get-verba/937147/2a0000016dcfe0fc1be343934c10f4bd6712/thumb_m\",\"full\":\"//avatars.mds.yandex.net/get-verba/937147/2a0000016dcfe0fc1be343934c10f4bd6712/full\",\"832x624\":\"//avatars.mds.yandex.net/get-verba/937147/2a0000016dcfe0fc1be343934c10f4bd6712/832x624\",\"456x342\":\"//avatars.mds.yandex.net/get-verba/937147/2a0000016dcfe0fc1be343934c10f4bd6712/456x342\",\"120x90\":\"//avatars.mds.yandex.net/get-verba/937147/2a0000016dcfe0fc1be343934c10f4bd6712/120x90\",\"92x69\":\"//avatars.mds.yandex.net/get-verba/937147/2a0000016dcfe0fc1be343934c10f4bd6712/92x69\",\"islandoff\":\"//avatars.mds.yandex.net/get-verba/937147/2a0000016dcfe0fc1be343934c10f4bd6712/islandoff\",\"thumb_s\":\"//avatars.mds.yandex.net/get-verba/937147/2a0000016dcfe0fc1be343934c10f4bd6712/thumb_s\",\"thumb_s_2x\":\"//avatars.mds.yandex.net/get-verba/937147/2a0000016dcfe0fc1be343934c10f4bd6712/thumb_s_2x\"}},{\"name\":\"side\",\"sizes\":{\"orig\":\"//avatars.mds.yandex.net/get-verba/997355/2a0000016dcfe11090fc6e82019c69278a4b/orig\",\"wizardv3mr\":\"//avatars.mds.yandex.net/get-verba/997355/2a0000016dcfe11090fc6e82019c69278a4b/wizardv3mr\",\"wizardv3\":\"//avatars.mds.yandex.net/get-verba/997355/2a0000016dcfe11090fc6e82019c69278a4b/wizardv3\",\"cattouch\":\"//avatars.mds.yandex.net/get-verba/997355/2a0000016dcfe11090fc6e82019c69278a4b/cattouch\",\"small\":\"//avatars.mds.yandex.net/get-verba/997355/2a0000016dcfe11090fc6e82019c69278a4b/small\",\"320x240\":\"//avatars.mds.yandex.net/get-verba/997355/2a0000016dcfe11090fc6e82019c69278a4b/320x240\",\"1200x900\":\"//avatars.mds.yandex.net/get-verba/997355/2a0000016dcfe11090fc6e82019c69278a4b/1200x900\",\"1200x900n\":\"//avatars.mds.yandex.net/get-verba/997355/2a0000016dcfe11090fc6e82019c69278a4b/1200x900n\",\"thumb_m\":\"//avatars.mds.yandex.net/get-verba/997355/2a0000016dcfe11090fc6e82019c69278a4b/thumb_m\",\"full\":\"//avatars.mds.yandex.net/get-verba/997355/2a0000016dcfe11090fc6e82019c69278a4b/full\",\"832x624\":\"//avatars.mds.yandex.net/get-verba/997355/2a0000016dcfe11090fc6e82019c69278a4b/832x624\",\"456x342\":\"//avatars.mds.yandex.net/get-verba/997355/2a0000016dcfe11090fc6e82019c69278a4b/456x342\",\"120x90\":\"//avatars.mds.yandex.net/get-verba/997355/2a0000016dcfe11090fc6e82019c69278a4b/120x90\",\"92x69\":\"//avatars.mds.yandex.net/get-verba/997355/2a0000016dcfe11090fc6e82019c69278a4b/92x69\",\"islandoff\":\"//avatars.mds.yandex.net/get-verba/997355/2a0000016dcfe11090fc6e82019c69278a4b/islandoff\",\"thumb_s\":\"//avatars.mds.yandex.net/get-verba/997355/2a0000016dcfe11090fc6e82019c69278a4b/thumb_s\",\"thumb_s_2x\":\"//avatars.mds.yandex.net/get-verba/997355/2a0000016dcfe11090fc6e82019c69278a4b/thumb_s_2x\"}},{\"name\":\"front\",\"sizes\":{\"orig\":\"//avatars.mds.yandex.net/get-verba/997355/2a0000016dcfe1479d0018532a6831caa889/orig\",\"wizardv3mr\":\"//avatars.mds.yandex.net/get-verba/997355/2a0000016dcfe1479d0018532a6831caa889/wizardv3mr\",\"wizardv3\":\"//avatars.mds.yandex.net/get-verba/997355/2a0000016dcfe1479d0018532a6831caa889/wizardv3\",\"cattouch\":\"//avatars.mds.yandex.net/get-verba/997355/2a0000016dcfe1479d0018532a6831caa889/cattouch\",\"small\":\"//avatars.mds.yandex.net/get-verba/997355/2a0000016dcfe1479d0018532a6831caa889/small\",\"320x240\":\"//avatars.mds.yandex.net/get-verba/997355/2a0000016dcfe1479d0018532a6831caa889/320x240\",\"1200x900\":\"//avatars.mds.yandex.net/get-verba/997355/2a0000016dcfe1479d0018532a6831caa889/1200x900\",\"1200x900n\":\"//avatars.mds.yandex.net/get-verba/997355/2a0000016dcfe1479d0018532a6831caa889/1200x900n\",\"thumb_m\":\"//avatars.mds.yandex.net/get-verba/997355/2a0000016dcfe1479d0018532a6831caa889/thumb_m\",\"full\":\"//avatars.mds.yandex.net/get-verba/997355/2a0000016dcfe1479d0018532a6831caa889/full\",\"832x624\":\"//avatars.mds.yandex.net/get-verba/997355/2a0000016dcfe1479d0018532a6831caa889/832x624\",\"456x342\":\"//avatars.mds.yandex.net/get-verba/997355/2a0000016dcfe1479d0018532a6831caa889/456x342\",\"120x90\":\"//avatars.mds.yandex.net/get-verba/997355/2a0000016dcfe1479d0018532a6831caa889/120x90\",\"92x69\":\"//avatars.mds.yandex.net/get-verba/997355/2a0000016dcfe1479d0018532a6831caa889/92x69\",\"islandoff\":\"//avatars.mds.yandex.net/get-verba/997355/2a0000016dcfe1479d0018532a6831caa889/islandoff\",\"thumb_s\":\"//avatars.mds.yandex.net/get-verba/997355/2a0000016dcfe1479d0018532a6831caa889/thumb_s\",\"thumb_s_2x\":\"//avatars.mds.yandex.net/get-verba/997355/2a0000016dcfe1479d0018532a6831caa889/thumb_s_2x\"}},{\"name\":\"back\",\"sizes\":{\"orig\":\"//avatars.mds.yandex.net/get-verba/997355/2a0000016dcfe170341bf5bda8080e27b18a/orig\",\"wizardv3mr\":\"//avatars.mds.yandex.net/get-verba/997355/2a0000016dcfe170341bf5bda8080e27b18a/wizardv3mr\",\"wizardv3\":\"//avatars.mds.yandex.net/get-verba/997355/2a0000016dcfe170341bf5bda8080e27b18a/wizardv3\",\"cattouch\":\"//avatars.mds.yandex.net/get-verba/997355/2a0000016dcfe170341bf5bda8080e27b18a/cattouch\",\"small\":\"//avatars.mds.yandex.net/get-verba/997355/2a0000016dcfe170341bf5bda8080e27b18a/small\",\"320x240\":\"//avatars.mds.yandex.net/get-verba/997355/2a0000016dcfe170341bf5bda8080e27b18a/320x240\",\"1200x900\":\"//avatars.mds.yandex.net/get-verba/997355/2a0000016dcfe170341bf5bda8080e27b18a/1200x900\",\"1200x900n\":\"//avatars.mds.yandex.net/get-verba/997355/2a0000016dcfe170341bf5bda8080e27b18a/1200x900n\",\"thumb_m\":\"//avatars.mds.yandex.net/get-verba/997355/2a0000016dcfe170341bf5bda8080e27b18a/thumb_m\",\"full\":\"//avatars.mds.yandex.net/get-verba/997355/2a0000016dcfe170341bf5bda8080e27b18a/full\",\"832x624\":\"//avatars.mds.yandex.net/get-verba/997355/2a0000016dcfe170341bf5bda8080e27b18a/832x624\",\"456x342\":\"//avatars.mds.yandex.net/get-verba/997355/2a0000016dcfe170341bf5bda8080e27b18a/456x342\",\"120x90\":\"//avatars.mds.yandex.net/get-verba/997355/2a0000016dcfe170341bf5bda8080e27b18a/120x90\",\"92x69\":\"//avatars.mds.yandex.net/get-verba/997355/2a0000016dcfe170341bf5bda8080e27b18a/92x69\",\"islandoff\":\"//avatars.mds.yandex.net/get-verba/997355/2a0000016dcfe170341bf5bda8080e27b18a/islandoff\",\"thumb_s\":\"//avatars.mds.yandex.net/get-verba/997355/2a0000016dcfe170341bf5bda8080e27b18a/thumb_s\",\"thumb_s_2x\":\"//avatars.mds.yandex.net/get-verba/997355/2a0000016dcfe170341bf5bda8080e27b18a/thumb_s_2x\"}}],\"main_color\":true}]}    26\n",
       "{\"id\":\"7768581\",\"name\":\"Ambition\",\"available_options\":[\"airbag-passenger\",\"lock\",\"electro-mirrors\",\"mirrors-heat\",\"computer\",\"seat-transformation\",\"wheel-power\",\"fabric-seats\",\"abs\",\"esp\",\"audiopreparation\",\"electro-window-back\",\"condition\",\"music-super\",\"airbag-driver\",\"isofix\",\"electro-window-front\",\"light-sensor\",\"hcc\",\"alarm\",\"rain-sensor\",\"audiosystem-cd\",\"front-seats-heat\",\"wheel-configuration2\",\"wheel-configuration1\",\"immo\"]}                                                                                                                                                                                                                                                                                                                                                                                                                                                                                                                                                                                                                                                                                                                                                                                                                                                                                                                                                                                                                                                                                                                                                                                                                                                                                                                                                                                                                                                                                                                                                                                                                                                                                                                                                                                                                                                                                                                                                                                                                                                                                                                                                                                                                                                                                                                                                                                                                                                                                                                                                                                                                                                                                                                                                                                                                                                                                                                                                                                                                                                                                                                                                                                                                                                                                                                                                                                                                                                                                                                                                                                                                                                                                                                                                                                                                                                                                                                                                                                                                                                                                                                                                                                                                                                                                                                                                                                                                                                                                                                                                                                                                                                                                                                                                                                                                                                                                                                                                                                                                                                                                                                                                                                                                                                                                                                                                                                                                                                                                                                                                                                                                                                                                                                                                                                                                                                                                                                                                                                                                                                                                                                                                                                                                                                                                                                                                                                                                                                                                                                                                                                                                                                                                                                                                                                                                                                                                                                                                                                                                                                                                                                                                                                                                                                                                                                                                                                                                                                                                                                                                                                                                                                                                                                                                                                                                                                                                                                                                                                                                                                                                                                                                                                                                                                                                                                                                                                                                                                                                                                                                                                                                                                                                                                                                                                                                                                                                                                                                                                                                                                                                                                                                                                                                                                                                                                                                                                                                                                                                                                                                                                                   25\n",
       "Name: complectation_dict, dtype: int64"
      ]
     },
     "execution_count": 57,
     "metadata": {},
     "output_type": "execute_result"
    }
   ],
   "source": [
    "test.complectation_dict.value_counts().head(3)"
   ]
  },
  {
   "cell_type": "code",
   "execution_count": 58,
   "metadata": {},
   "outputs": [
    {
     "data": {
      "text/plain": [
       "{\"leather\":true}                                                                                                                                                                                                                                                                                                                                                                                                                                                                                                                                           108\n",
       "{\"gbo\":true}                                                                                                                                                                                                                                                                                                                                                                                                                                                                                                                                               106\n",
       "{\"fabric-seats\":true}                                                                                                                                                                                                                                                                                                                                                                                                                                                                                                                                       59\n",
       "{\"roof-rails\":true}                                                                                                                                                                                                                                                                                                                                                                                                                                                                                                                                         37\n",
       "{\"cruise-control\":true,\"esp\":true,\"airbag-driver\":true,\"electro-window-front\":true,\"xenon\":true,\"airbag-passenger\":true,\"computer\":true,\"seat-transformation\":true,\"wheel-power\":true,\"alarm\":true,\"passenger-seat-electric\":true,\"lock\":true,\"electro-mirrors\":true,\"electro-window-back\":true,\"paint-metallic\":true,\"ptf\":true,\"airbag-side\":true,\"mirrors-heat\":true,\"hatch\":true,\"leather\":true,\"abs\":true,\"front-seats-heat\":true,\"wheel-configuration2\":true,\"wheel-configuration1\":true,\"immo\":true,\"climate-control-1\":true,\"music-super\":true}     21\n",
       "{\"hatch\":true}                                                                                                                                                                                                                                                                                                                                                                                                                                                                                                                                              20\n",
       "{\"lock\":true}                                                                                                                                                                                                                                                                                                                                                                                                                                                                                                                                               15\n",
       "{\"combo-interior\":true}                                                                                                                                                                                                                                                                                                                                                                                                                                                                                                                                     15\n",
       "{\"roof-rails\":true,\"12v-socket\":true}                                                                                                                                                                                                                                                                                                                                                                                                                                                                                                                       13\n",
       "{\"cruise-control\":true,\"esp\":true,\"airbag-driver\":true,\"electro-window-front\":true,\"xenon\":true,\"airbag-passenger\":true,\"computer\":true,\"seat-transformation\":true,\"wheel-power\":true,\"alarm\":true,\"passenger-seat-electric\":true,\"lock\":true,\"electro-mirrors\":true,\"electro-window-back\":true,\"paint-metallic\":true,\"ptf\":true,\"airbag-side\":true,\"mirrors-heat\":true,\"leather\":true,\"abs\":true,\"front-seats-heat\":true,\"wheel-configuration2\":true,\"wheel-configuration1\":true,\"immo\":true,\"climate-control-1\":true,\"music-super\":true}                  10\n",
       "Name: equipment_dict, dtype: int64"
      ]
     },
     "execution_count": 58,
     "metadata": {},
     "output_type": "execute_result"
    }
   ],
   "source": [
    "test.equipment_dict.value_counts().head(10)"
   ]
  },
  {
   "cell_type": "code",
   "execution_count": 59,
   "metadata": {},
   "outputs": [
    {
     "data": {
      "text/plain": [
       "{}                                                                                                                                                                                                                                                                                                                                                                                                                                                                                                                                                                                                                                                                                                                                                                                                                                                                                                                                                                                                                                                                                                                                                                                                                                                                                                                                                                                                                                                                                                                                                                                                                                                                                                                                17293\n",
       "{'gbo': True}                                                                                                                                                                                                                                                                                                                                                                                                                                                                                                                                                                                                                                                                                                                                                                                                                                                                                                                                                                                                                                                                                                                                                                                                                                                                                                                                                                                                                                                                                                                                                                                                                                                                                                                       192\n",
       "{'leather': True}                                                                                                                                                                                                                                                                                                                                                                                                                                                                                                                                                                                                                                                                                                                                                                                                                                                                                                                                                                                                                                                                                                                                                                                                                                                                                                                                                                                                                                                                                                                                                                                                                                                                                                                   176\n",
       "{'fabric-seats': True}                                                                                                                                                                                                                                                                                                                                                                                                                                                                                                                                                                                                                                                                                                                                                                                                                                                                                                                                                                                                                                                                                                                                                                                                                                                                                                                                                                                                                                                                                                                                                                                                                                                                                                              157\n",
       "{'glonass': True, 'asr': True, 'esp': True, 'airbag-driver': True, 'isofix': True, 'usb': True, 'electro-window-front': True, 'spare-wheel': True, 'audiosystem-tv': True, 'heated-wash-system': True, 'airbag-passenger': True, 'computer': True, 'apple-carplay': True, 'seat-transformation': True, 'bas': True, 'android-auto': True, 'alarm': True, 'lock': True, 'servo': True, 'fabric-seats': True, 'electro-mirrors': True, 'drl': True, 'electro-window-back': True, 'steel-wheels': True, 'tyre-pressure': True, 'mirrors-heat': True, 'audiosystem-cd': True, 'driver-seat-updown': True, 'condition': True, 'abs': True, 'led-lights': True, 'bluetooth': True, 'front-seats-heat': True, 'wheel-configuration2': True, 'wheel-configuration1': True, 'immo': True, '12v-socket': True, 'third-rear-headrest': True, '15-inch-wheels': True}                                                                                                                                                                                                                                                                                                                                                                                                                                                                                                                                                                                                                                                                                                                                                                                                                                                                           143\n",
       "{'cruise-control': True, 'glonass': True, 'airbag-driver': True, 'usb': True, 'isofix': True, 'aux': True, 'electro-window-front': True, 'multi-wheel': True, 'audiopreparation': True, 'airbag-passenger': True, 'computer': True, 'roof-rails': True, 'seat-transformation': True, 'wheel-power': True, 'lock': True, 'door-sill-panel': True, 'fabric-seats': True, 'electro-mirrors': True, 'drl': True, 'steel-wheels': True, 'ptf': True, 'mirrors-heat': True, 'body-mouldings': True, 'driver-seat-updown': True, 'condition': True, 'abs': True, 'front-seats-heat': True, 'bluetooth': True, 'wheel-configuration1': True, 'immo': True, 'third-rear-headrest': True}                                                                                                                                                                                                                                                                                                                                                                                                                                                                                                                                                                                                                                                                                                                                                                                                                                                                                                                                                                                                                                                      97\n",
       "{'401': True, '443': True, '500': True, '810': True, '872': True, 'cruise-control': True, 'esp': True, 'adaptive-light': True, 'usb': True, 'multi-wheel': True, 'heated-wash-system': True, 'airbag-passenger': True, 'front-centre-armrest': True, 'navigation': True, 'apple-carplay': True, '21-inch-wheels': True, 'roof-rails': True, 'lock': True, 'air-suspension': True, 'door-sill-panel': True, 'electro-mirrors': True, 'activ-suspension': True, 'electro-window-back': True, 'multizone-climate-control': True, 'mirrors-heat': True, 'power-latching-doors': True, 'volume-sensor': True, 'park-assist-f': True, 'rear-seats-heat': True, 'leather': True, 'seat-memory': True, 'wheel-heat': True, 'led-lights': True, 'music-super': True, 'electro-rear-seat': True, 'park-assist-r': True, 'front-seats-heat-vent': True, 'start-stop-function': True, 'airbag-driver': True, 'isofix': True, 'aux': True, 'electro-window-front': True, 'light-sensor': True, 'hcc': True, 'airbag-curtain': True, 'computer': True, 'high-beam-assist': True, 'keyless-entry': True, 'seat-transformation': True, 'android-auto': True, 'wheel-power': True, 'passenger-seat-electric': True, 'alarm': True, 'paint-metallic': True, 'leather-gear-stick': True, 'blind-spot': True, 'traffic-sign-recognition': True, 'start-button': True, 'rain-sensor': True, 'airbag-side': True, 'tyre-pressure': True, 'panorama-roof': True, 'electro-trunk': True, 'abs': True, 'power-child-locks-rear-doors': True, 'bluetooth': True, 'wheel-leather': True, 'wheel-configuration2': True, 'wheel-configuration1': True, 'immo': True, 'windscreen-heat': True, 'auto-mirrors': True, '12v-socket': True, '360-camera': True}       95\n",
       "{'218': True, '500': True, '632': True, '873': True, 'cruise-control': True, 'asr': True, 'esp': True, 'usb': True, 'multi-wheel': True, 'auto-park': True, 'audiosystem-tv': True, 'heated-wash-system': True, 'airbag-passenger': True, 'front-centre-armrest': True, 'apple-carplay': True, 'front-seat-support': True, 'bas': True, 'rear-camera': True, 'lock': True, 'servo': True, 'electro-mirrors': True, 'activ-suspension': True, 'drl': True, 'electro-window-back': True, 'mirrors-heat': True, '17-inch-wheels': True, 'leather': True, 'cooling-box': True, 'led-lights': True, 'knee-airbag': True, 'glonass': True, 'airbag-driver': True, 'isofix': True, 'aux': True, 'drive-mode-sys': True, 'electro-window-front': True, 'light-sensor': True, 'hcc': True, 'airbag-curtain': True, 'passenger-seat-updown': True, 'collision-prevention-assist': True, 'computer': True, 'seat-transformation': True, 'android-auto': True, 'passenger-seat-electric': True, 'paint-metallic': True, 'alloy-wheel-disks': True, 'rain-sensor': True, 'airbag-side': True, 'tyre-pressure': True, 'voice-recognition': True, 'audiosystem-cd': True, 'electronic-gage-panel': True, 'abs': True, 'front-seats-heat': True, 'power-child-locks-rear-doors': True, 'bluetooth': True, 'wheel-leather': True, 'wheel-configuration2': True, 'wheel-configuration1': True, 'immo': True, 'climate-control-2': True, 'auto-mirrors': True, '12v-socket': True, 'third-rear-headrest': True}                                                                                                                                                                                                                                         86\n",
       "{'cruise-control': True, 'asr': True, 'esp': True, 'usb': True, 'multi-wheel': True, 'airbag-passenger': True, 'front-centre-armrest': True, 'roof-rails': True, 'bas': True, 'lock': True, 'door-sill-panel': True, 'electro-mirrors': True, 'steering-wheel-gear-shift-paddles': True, 'electro-window-back': True, 'reduce-spare-wheel': True, 'mirrors-heat': True, '17-inch-wheels': True, 'body-mouldings': True, 'led-lights': True, 'park-assist-r': True, 'glonass': True, 'start-stop-function': True, 'airbag-driver': True, 'isofix': True, 'aux': True, 'drive-mode-sys': True, 'electro-window-front': True, 'hcc': True, 'automatic-lighting-control': True, 'airbag-curtain': True, 'computer': True, 'seat-transformation': True, 'wheel-power': True, 'dha': True, 'fabric-seats': True, 'leather-gear-stick': True, 'start-button': True, 'airbag-side': True, 'tyre-pressure': True, 'audiosystem-cd': True, 'electro-trunk': True, 'abs': True, 'front-seats-heat': True, 'power-child-locks-rear-doors': True, 'bluetooth': True, 'wheel-leather': True, 'wheel-configuration2': True, 'wheel-configuration1': True, 'immo': True, 'climate-control-1': True, '12v-socket': True, 'third-rear-headrest': True}                                                                                                                                                                                                                                                                                                                                                                                                                                                                                                 86\n",
       "{'cruise-control': True, 'glonass': True, 'asr': True, 'esp': True, 'airbag-driver': True, 'isofix': True, 'usb': True, 'electro-window-front': True, 'multi-wheel': True, 'spare-wheel': True, 'audiosystem-tv': True, 'heated-wash-system': True, 'airbag-passenger': True, 'front-centre-armrest': True, 'computer': True, 'apple-carplay': True, 'seat-transformation': True, 'bas': True, 'android-auto': True, 'alarm': True, 'lock': True, 'servo': True, 'fabric-seats': True, 'electro-mirrors': True, 'drl': True, 'electro-window-back': True, 'alloy-wheel-disks': True, 'leather-gear-stick': True, 'tyre-pressure': True, 'mirrors-heat': True, 'audiosystem-cd': True, 'driver-seat-updown': True, 'wheel-heat': True, 'abs': True, 'led-lights': True, 'bluetooth': True, 'front-seats-heat': True, 'wheel-leather': True, 'wheel-configuration2': True, 'wheel-configuration1': True, 'immo': True, 'climate-control-1': True, '12v-socket': True, 'third-rear-headrest': True, '15-inch-wheels': True}                                                                                                                                                                                                                                                                                                                                                                                                                                                                                                                                                                                                                                                                                                             85\n",
       "Name: equipment_dict, dtype: int64"
      ]
     },
     "execution_count": 59,
     "metadata": {},
     "output_type": "execute_result"
    }
   ],
   "source": [
    "train.equipment_dict.value_counts().head(10)"
   ]
  },
  {
   "cell_type": "code",
   "execution_count": 60,
   "metadata": {},
   "outputs": [
    {
     "data": {
      "text/plain": [
       "bodyType                     0\n",
       "brand                        0\n",
       "color                        0\n",
       "fuelType                     0\n",
       "modelDate                    0\n",
       "name                     26952\n",
       "numberOfDoors                0\n",
       "productionDate               0\n",
       "vehicleConfiguration     26952\n",
       "vehicleTransmission          0\n",
       "engineDisplacement           0\n",
       "enginePower                  0\n",
       "description              32774\n",
       "mileage                      0\n",
       "Комплектация            102597\n",
       "Привод                       0\n",
       "Руль                         0\n",
       "Владельцы                27691\n",
       "ПТС                          0\n",
       "Владение                140859\n",
       "price                        0\n",
       "start_date               26952\n",
       "hidden                  189450\n",
       "model                   102597\n",
       "complectation_dict      113805\n",
       "equipment_dict          113805\n",
       "image                   113805\n",
       "model_info              113805\n",
       "model_name               86856\n",
       "sell_id                      0\n",
       "super_gen               113805\n",
       "vendor                       0\n",
       "price_EUR               113805\n",
       "price_USD               113805\n",
       "mileageNAN                   0\n",
       "bodyType2                    0\n",
       "log_price                    0\n",
       "bT_length                    0\n",
       "brand_length                 0\n",
       "dtype: int64"
      ]
     },
     "execution_count": 60,
     "metadata": {},
     "output_type": "execute_result"
    }
   ],
   "source": [
    "train.isna().sum()"
   ]
  },
  {
   "cell_type": "code",
   "execution_count": 61,
   "metadata": {},
   "outputs": [],
   "source": [
    "train['model_name'] = train['model_name'].fillna(train['model'])"
   ]
  },
  {
   "cell_type": "code",
   "execution_count": 62,
   "metadata": {},
   "outputs": [
    {
     "data": {
      "text/plain": [
       "4                                                  NaN\n",
       "4    {'code': '100', 'name': '100', 'ru_name': '100...\n",
       "4                                                  NaN\n",
       "Name: model_info, dtype: object"
      ]
     },
     "execution_count": 62,
     "metadata": {},
     "output_type": "execute_result"
    }
   ],
   "source": [
    "train.model_info[4]"
   ]
  },
  {
   "cell_type": "code",
   "execution_count": 63,
   "metadata": {},
   "outputs": [
    {
     "data": {
      "text/plain": [
       "'{\"code\":\"OCTAVIA\",\"name\":\"Octavia\",\"ru_name\":\"Октавия\",\"morphology\":{\"gender\":\"FEMININE\"},\"nameplate\":{\"code\":\"\",\"name\":\"\",\"semantic_url\":\"\"}}'"
      ]
     },
     "execution_count": 63,
     "metadata": {},
     "output_type": "execute_result"
    }
   ],
   "source": [
    "test.model_info[4]"
   ]
  },
  {
   "cell_type": "code",
   "execution_count": 64,
   "metadata": {},
   "outputs": [
    {
     "data": {
      "text/plain": [
       "{\"leather\":true}                                                                                                                                                                                                                                                                                                                                                                                                                                                                                                                                           108\n",
       "{\"gbo\":true}                                                                                                                                                                                                                                                                                                                                                                                                                                                                                                                                               106\n",
       "{\"fabric-seats\":true}                                                                                                                                                                                                                                                                                                                                                                                                                                                                                                                                       59\n",
       "{\"roof-rails\":true}                                                                                                                                                                                                                                                                                                                                                                                                                                                                                                                                         37\n",
       "{\"cruise-control\":true,\"esp\":true,\"airbag-driver\":true,\"electro-window-front\":true,\"xenon\":true,\"airbag-passenger\":true,\"computer\":true,\"seat-transformation\":true,\"wheel-power\":true,\"alarm\":true,\"passenger-seat-electric\":true,\"lock\":true,\"electro-mirrors\":true,\"electro-window-back\":true,\"paint-metallic\":true,\"ptf\":true,\"airbag-side\":true,\"mirrors-heat\":true,\"hatch\":true,\"leather\":true,\"abs\":true,\"front-seats-heat\":true,\"wheel-configuration2\":true,\"wheel-configuration1\":true,\"immo\":true,\"climate-control-1\":true,\"music-super\":true}     21\n",
       "{\"hatch\":true}                                                                                                                                                                                                                                                                                                                                                                                                                                                                                                                                              20\n",
       "{\"lock\":true}                                                                                                                                                                                                                                                                                                                                                                                                                                                                                                                                               15\n",
       "{\"combo-interior\":true}                                                                                                                                                                                                                                                                                                                                                                                                                                                                                                                                     15\n",
       "{\"roof-rails\":true,\"12v-socket\":true}                                                                                                                                                                                                                                                                                                                                                                                                                                                                                                                       13\n",
       "{\"cruise-control\":true,\"esp\":true,\"airbag-driver\":true,\"electro-window-front\":true,\"xenon\":true,\"airbag-passenger\":true,\"computer\":true,\"seat-transformation\":true,\"wheel-power\":true,\"alarm\":true,\"passenger-seat-electric\":true,\"lock\":true,\"electro-mirrors\":true,\"electro-window-back\":true,\"paint-metallic\":true,\"ptf\":true,\"airbag-side\":true,\"mirrors-heat\":true,\"leather\":true,\"abs\":true,\"front-seats-heat\":true,\"wheel-configuration2\":true,\"wheel-configuration1\":true,\"immo\":true,\"climate-control-1\":true,\"music-super\":true}                  10\n",
       "Name: equipment_dict, dtype: int64"
      ]
     },
     "execution_count": 64,
     "metadata": {},
     "output_type": "execute_result"
    }
   ],
   "source": [
    "test.equipment_dict.value_counts().head(10)"
   ]
  },
  {
   "cell_type": "code",
   "execution_count": 65,
   "metadata": {},
   "outputs": [
    {
     "data": {
      "text/plain": [
       "{}                                                                                                                                                                                                                                                                                                                                                                                                                                                                                                                                                                                                                                                                                                                                                                                                                                                                                                                                                                                                                                                                                                                                                                                                                                                                                                                                                                                                                                                                                                                                                                                                                                                                                                                                17293\n",
       "{'gbo': True}                                                                                                                                                                                                                                                                                                                                                                                                                                                                                                                                                                                                                                                                                                                                                                                                                                                                                                                                                                                                                                                                                                                                                                                                                                                                                                                                                                                                                                                                                                                                                                                                                                                                                                                       192\n",
       "{'leather': True}                                                                                                                                                                                                                                                                                                                                                                                                                                                                                                                                                                                                                                                                                                                                                                                                                                                                                                                                                                                                                                                                                                                                                                                                                                                                                                                                                                                                                                                                                                                                                                                                                                                                                                                   176\n",
       "{'fabric-seats': True}                                                                                                                                                                                                                                                                                                                                                                                                                                                                                                                                                                                                                                                                                                                                                                                                                                                                                                                                                                                                                                                                                                                                                                                                                                                                                                                                                                                                                                                                                                                                                                                                                                                                                                              157\n",
       "{'glonass': True, 'asr': True, 'esp': True, 'airbag-driver': True, 'isofix': True, 'usb': True, 'electro-window-front': True, 'spare-wheel': True, 'audiosystem-tv': True, 'heated-wash-system': True, 'airbag-passenger': True, 'computer': True, 'apple-carplay': True, 'seat-transformation': True, 'bas': True, 'android-auto': True, 'alarm': True, 'lock': True, 'servo': True, 'fabric-seats': True, 'electro-mirrors': True, 'drl': True, 'electro-window-back': True, 'steel-wheels': True, 'tyre-pressure': True, 'mirrors-heat': True, 'audiosystem-cd': True, 'driver-seat-updown': True, 'condition': True, 'abs': True, 'led-lights': True, 'bluetooth': True, 'front-seats-heat': True, 'wheel-configuration2': True, 'wheel-configuration1': True, 'immo': True, '12v-socket': True, 'third-rear-headrest': True, '15-inch-wheels': True}                                                                                                                                                                                                                                                                                                                                                                                                                                                                                                                                                                                                                                                                                                                                                                                                                                                                           143\n",
       "{'cruise-control': True, 'glonass': True, 'airbag-driver': True, 'usb': True, 'isofix': True, 'aux': True, 'electro-window-front': True, 'multi-wheel': True, 'audiopreparation': True, 'airbag-passenger': True, 'computer': True, 'roof-rails': True, 'seat-transformation': True, 'wheel-power': True, 'lock': True, 'door-sill-panel': True, 'fabric-seats': True, 'electro-mirrors': True, 'drl': True, 'steel-wheels': True, 'ptf': True, 'mirrors-heat': True, 'body-mouldings': True, 'driver-seat-updown': True, 'condition': True, 'abs': True, 'front-seats-heat': True, 'bluetooth': True, 'wheel-configuration1': True, 'immo': True, 'third-rear-headrest': True}                                                                                                                                                                                                                                                                                                                                                                                                                                                                                                                                                                                                                                                                                                                                                                                                                                                                                                                                                                                                                                                      97\n",
       "{'401': True, '443': True, '500': True, '810': True, '872': True, 'cruise-control': True, 'esp': True, 'adaptive-light': True, 'usb': True, 'multi-wheel': True, 'heated-wash-system': True, 'airbag-passenger': True, 'front-centre-armrest': True, 'navigation': True, 'apple-carplay': True, '21-inch-wheels': True, 'roof-rails': True, 'lock': True, 'air-suspension': True, 'door-sill-panel': True, 'electro-mirrors': True, 'activ-suspension': True, 'electro-window-back': True, 'multizone-climate-control': True, 'mirrors-heat': True, 'power-latching-doors': True, 'volume-sensor': True, 'park-assist-f': True, 'rear-seats-heat': True, 'leather': True, 'seat-memory': True, 'wheel-heat': True, 'led-lights': True, 'music-super': True, 'electro-rear-seat': True, 'park-assist-r': True, 'front-seats-heat-vent': True, 'start-stop-function': True, 'airbag-driver': True, 'isofix': True, 'aux': True, 'electro-window-front': True, 'light-sensor': True, 'hcc': True, 'airbag-curtain': True, 'computer': True, 'high-beam-assist': True, 'keyless-entry': True, 'seat-transformation': True, 'android-auto': True, 'wheel-power': True, 'passenger-seat-electric': True, 'alarm': True, 'paint-metallic': True, 'leather-gear-stick': True, 'blind-spot': True, 'traffic-sign-recognition': True, 'start-button': True, 'rain-sensor': True, 'airbag-side': True, 'tyre-pressure': True, 'panorama-roof': True, 'electro-trunk': True, 'abs': True, 'power-child-locks-rear-doors': True, 'bluetooth': True, 'wheel-leather': True, 'wheel-configuration2': True, 'wheel-configuration1': True, 'immo': True, 'windscreen-heat': True, 'auto-mirrors': True, '12v-socket': True, '360-camera': True}       95\n",
       "{'218': True, '500': True, '632': True, '873': True, 'cruise-control': True, 'asr': True, 'esp': True, 'usb': True, 'multi-wheel': True, 'auto-park': True, 'audiosystem-tv': True, 'heated-wash-system': True, 'airbag-passenger': True, 'front-centre-armrest': True, 'apple-carplay': True, 'front-seat-support': True, 'bas': True, 'rear-camera': True, 'lock': True, 'servo': True, 'electro-mirrors': True, 'activ-suspension': True, 'drl': True, 'electro-window-back': True, 'mirrors-heat': True, '17-inch-wheels': True, 'leather': True, 'cooling-box': True, 'led-lights': True, 'knee-airbag': True, 'glonass': True, 'airbag-driver': True, 'isofix': True, 'aux': True, 'drive-mode-sys': True, 'electro-window-front': True, 'light-sensor': True, 'hcc': True, 'airbag-curtain': True, 'passenger-seat-updown': True, 'collision-prevention-assist': True, 'computer': True, 'seat-transformation': True, 'android-auto': True, 'passenger-seat-electric': True, 'paint-metallic': True, 'alloy-wheel-disks': True, 'rain-sensor': True, 'airbag-side': True, 'tyre-pressure': True, 'voice-recognition': True, 'audiosystem-cd': True, 'electronic-gage-panel': True, 'abs': True, 'front-seats-heat': True, 'power-child-locks-rear-doors': True, 'bluetooth': True, 'wheel-leather': True, 'wheel-configuration2': True, 'wheel-configuration1': True, 'immo': True, 'climate-control-2': True, 'auto-mirrors': True, '12v-socket': True, 'third-rear-headrest': True}                                                                                                                                                                                                                                         86\n",
       "{'cruise-control': True, 'asr': True, 'esp': True, 'usb': True, 'multi-wheel': True, 'airbag-passenger': True, 'front-centre-armrest': True, 'roof-rails': True, 'bas': True, 'lock': True, 'door-sill-panel': True, 'electro-mirrors': True, 'steering-wheel-gear-shift-paddles': True, 'electro-window-back': True, 'reduce-spare-wheel': True, 'mirrors-heat': True, '17-inch-wheels': True, 'body-mouldings': True, 'led-lights': True, 'park-assist-r': True, 'glonass': True, 'start-stop-function': True, 'airbag-driver': True, 'isofix': True, 'aux': True, 'drive-mode-sys': True, 'electro-window-front': True, 'hcc': True, 'automatic-lighting-control': True, 'airbag-curtain': True, 'computer': True, 'seat-transformation': True, 'wheel-power': True, 'dha': True, 'fabric-seats': True, 'leather-gear-stick': True, 'start-button': True, 'airbag-side': True, 'tyre-pressure': True, 'audiosystem-cd': True, 'electro-trunk': True, 'abs': True, 'front-seats-heat': True, 'power-child-locks-rear-doors': True, 'bluetooth': True, 'wheel-leather': True, 'wheel-configuration2': True, 'wheel-configuration1': True, 'immo': True, 'climate-control-1': True, '12v-socket': True, 'third-rear-headrest': True}                                                                                                                                                                                                                                                                                                                                                                                                                                                                                                 86\n",
       "{'cruise-control': True, 'glonass': True, 'asr': True, 'esp': True, 'airbag-driver': True, 'isofix': True, 'usb': True, 'electro-window-front': True, 'multi-wheel': True, 'spare-wheel': True, 'audiosystem-tv': True, 'heated-wash-system': True, 'airbag-passenger': True, 'front-centre-armrest': True, 'computer': True, 'apple-carplay': True, 'seat-transformation': True, 'bas': True, 'android-auto': True, 'alarm': True, 'lock': True, 'servo': True, 'fabric-seats': True, 'electro-mirrors': True, 'drl': True, 'electro-window-back': True, 'alloy-wheel-disks': True, 'leather-gear-stick': True, 'tyre-pressure': True, 'mirrors-heat': True, 'audiosystem-cd': True, 'driver-seat-updown': True, 'wheel-heat': True, 'abs': True, 'led-lights': True, 'bluetooth': True, 'front-seats-heat': True, 'wheel-leather': True, 'wheel-configuration2': True, 'wheel-configuration1': True, 'immo': True, 'climate-control-1': True, '12v-socket': True, 'third-rear-headrest': True, '15-inch-wheels': True}                                                                                                                                                                                                                                                                                                                                                                                                                                                                                                                                                                                                                                                                                                             85\n",
       "Name: equipment_dict, dtype: int64"
      ]
     },
     "execution_count": 65,
     "metadata": {},
     "output_type": "execute_result"
    }
   ],
   "source": [
    "train.equipment_dict.value_counts().head(10)\n"
   ]
  },
  {
   "cell_type": "code",
   "execution_count": 66,
   "metadata": {},
   "outputs": [
    {
     "data": {
      "text/plain": [
       "0         1.2 AMT (105 л.с.)\n",
       "1          1.6 MT (110 л.с.)\n",
       "2     DSG 1.8 AMT (152 л.с.)\n",
       "3          1.6 AT (110 л.с.)\n",
       "4          1.8 AT (152 л.с.)\n",
       "               ...          \n",
       "95    1.8 AMT (152 л.с.) 4WD\n",
       "96         1.6 MT (102 л.с.)\n",
       "97         1.6 AT (110 л.с.)\n",
       "98         1.4 MT (140 л.с.)\n",
       "99        1.4 AMT (150 л.с.)\n",
       "Name: name, Length: 100, dtype: object"
      ]
     },
     "execution_count": 66,
     "metadata": {},
     "output_type": "execute_result"
    }
   ],
   "source": [
    "test.name[:100]"
   ]
  },
  {
   "cell_type": "code",
   "execution_count": 67,
   "metadata": {},
   "outputs": [
    {
     "data": {
      "text/plain": [
       "<AxesSubplot:>"
      ]
     },
     "execution_count": 67,
     "metadata": {},
     "output_type": "execute_result"
    },
    {
     "data": {
      "image/png": "[encoded data removed]",
      "text/plain": [
       "<Figure size 432x288 with 1 Axes>"
      ]
     },
     "metadata": {
      "needs_background": "light"
     },
     "output_type": "display_data"
    }
   ],
   "source": [
    "train['enginePower'].hist(bins=77)"
   ]
  },
  {
   "cell_type": "code",
   "execution_count": 68,
   "metadata": {},
   "outputs": [
    {
     "data": {
      "text/plain": [
       "count    189450.000000\n",
       "mean        176.551903\n",
       "std          85.820272\n",
       "min          11.000000\n",
       "25%         117.000000\n",
       "50%         150.000000\n",
       "75%         210.000000\n",
       "max         800.000000\n",
       "Name: enginePower, dtype: float64"
      ]
     },
     "execution_count": 68,
     "metadata": {},
     "output_type": "execute_result"
    }
   ],
   "source": [
    "train.enginePower.describe()"
   ]
  },
  {
   "cell_type": "code",
   "execution_count": 69,
   "metadata": {},
   "outputs": [],
   "source": [
    "train['log_power'] = np.log(train.enginePower)"
   ]
  },
  {
   "cell_type": "code",
   "execution_count": 70,
   "metadata": {},
   "outputs": [
    {
     "data": {
      "text/plain": [
       "<AxesSubplot:>"
      ]
     },
     "execution_count": 70,
     "metadata": {},
     "output_type": "execute_result"
    },
    {
     "data": {
      "image/png": "[encoded data removed]",
      "text/plain": [
       "<Figure size 432x288 with 1 Axes>"
      ]
     },
     "metadata": {
      "needs_background": "light"
     },
     "output_type": "display_data"
    }
   ],
   "source": [
    "train['log_power'].hist(bins=77)"
   ]
  },
  {
   "cell_type": "code",
   "execution_count": 71,
   "metadata": {},
   "outputs": [
    {
     "name": "stdout",
     "output_type": "stream",
     "text": [
      "<class 'pandas.core.frame.DataFrame'>\n",
      "Int64Index: 189450 entries, 0 to 27566\n",
      "Data columns (total 40 columns):\n",
      " #   Column                Non-Null Count   Dtype  \n",
      "---  ------                --------------   -----  \n",
      " 0   bodyType              189450 non-null  object \n",
      " 1   brand                 189450 non-null  object \n",
      " 2   color                 189450 non-null  object \n",
      " 3   fuelType              189450 non-null  object \n",
      " 4   modelDate             189450 non-null  int64  \n",
      " 5   name                  162498 non-null  object \n",
      " 6   numberOfDoors         189450 non-null  int64  \n",
      " 7   productionDate        189450 non-null  int64  \n",
      " 8   vehicleConfiguration  162498 non-null  object \n",
      " 9   vehicleTransmission   189450 non-null  object \n",
      " 10  engineDisplacement    189450 non-null  object \n",
      " 11  enginePower           189450 non-null  int64  \n",
      " 12  description           156676 non-null  object \n",
      " 13  mileage               189450 non-null  int64  \n",
      " 14  Комплектация          86853 non-null   object \n",
      " 15  Привод                189450 non-null  object \n",
      " 16  Руль                  189450 non-null  object \n",
      " 17  Владельцы             161759 non-null  object \n",
      " 18  ПТС                   189450 non-null  object \n",
      " 19  Владение              48591 non-null   object \n",
      " 20  price                 189450 non-null  float32\n",
      " 21  start_date            162498 non-null  object \n",
      " 22  hidden                0 non-null       float64\n",
      " 23  model                 86853 non-null   object \n",
      " 24  complectation_dict    75645 non-null   object \n",
      " 25  equipment_dict        75645 non-null   object \n",
      " 26  image                 75645 non-null   float64\n",
      " 27  model_info            75645 non-null   object \n",
      " 28  model_name            189447 non-null  object \n",
      " 29  sell_id               189450 non-null  int64  \n",
      " 30  super_gen             75645 non-null   object \n",
      " 31  vendor                189450 non-null  object \n",
      " 32  price_EUR             75645 non-null   float64\n",
      " 33  price_USD             75645 non-null   float64\n",
      " 34  mileageNAN            189450 non-null  int64  \n",
      " 35  bodyType2             189450 non-null  object \n",
      " 36  log_price             189450 non-null  float32\n",
      " 37  bT_length             189450 non-null  int64  \n",
      " 38  brand_length          189450 non-null  int64  \n",
      " 39  log_power             189450 non-null  float64\n",
      "dtypes: float32(2), float64(5), int64(9), object(24)\n",
      "memory usage: 62.8+ MB\n"
     ]
    }
   ],
   "source": [
    "train.info()"
   ]
  },
  {
   "cell_type": "code",
   "execution_count": 72,
   "metadata": {},
   "outputs": [],
   "source": [
    "bins = [10, 35, 100, 125, 150, 175, 200, 225, 250, 801]\n",
    "numbers = ['5000','12','25','35', '45', '50', '65', '75', '150']"
   ]
  },
  {
   "cell_type": "code",
   "execution_count": 73,
   "metadata": {},
   "outputs": [],
   "source": [
    "train['Nalog_base']=pd.cut(train['enginePower'],bins,labels=numbers)\n",
    "test['Nalog_base']=pd.cut(test['enginePower'],bins,labels=numbers)\n"
   ]
  },
  {
   "cell_type": "code",
   "execution_count": 74,
   "metadata": {},
   "outputs": [],
   "source": [
    "train['Nalog_base'] = train['Nalog_base'].values.astype('int64')\n",
    "test['Nalog_base'] = test['Nalog_base'].values.astype('int64')"
   ]
  },
  {
   "cell_type": "code",
   "execution_count": 75,
   "metadata": {},
   "outputs": [
    {
     "data": {
      "text/plain": [
       "0        45\n",
       "1        12\n",
       "2        35\n",
       "3        12\n",
       "4        25\n",
       "         ..\n",
       "27562    50\n",
       "27563    35\n",
       "27564    35\n",
       "27565    35\n",
       "27566    45\n",
       "Name: Nalog_base, Length: 189450, dtype: int64"
      ]
     },
     "execution_count": 75,
     "metadata": {},
     "output_type": "execute_result"
    }
   ],
   "source": [
    "train['Nalog_base']"
   ]
  },
  {
   "cell_type": "code",
   "execution_count": 76,
   "metadata": {},
   "outputs": [],
   "source": [
    "test['enginePower'] = test['enginePower'].astype(float)"
   ]
  },
  {
   "cell_type": "code",
   "execution_count": 77,
   "metadata": {},
   "outputs": [
    {
     "data": {
      "text/plain": [
       "count    34686.000000\n",
       "mean       188.194142\n",
       "std         89.087035\n",
       "min         30.000000\n",
       "25%        125.000000\n",
       "50%        169.000000\n",
       "75%        233.000000\n",
       "max        639.000000\n",
       "Name: enginePower, dtype: float64"
      ]
     },
     "execution_count": 77,
     "metadata": {},
     "output_type": "execute_result"
    }
   ],
   "source": [
    "test.enginePower.describe()"
   ]
  },
  {
   "cell_type": "code",
   "execution_count": 78,
   "metadata": {},
   "outputs": [],
   "source": [
    "test['log_power'] = np.log(test.enginePower)\n"
   ]
  },
  {
   "cell_type": "code",
   "execution_count": 79,
   "metadata": {},
   "outputs": [],
   "source": [
    "bins = [10, 35, 100, 125, 150, 175, 200, 225, 250, 801]\n",
    "numbers = ['5000','12','25','35', '45', '50', '65', '75', '150']"
   ]
  },
  {
   "cell_type": "code",
   "execution_count": 80,
   "metadata": {},
   "outputs": [],
   "source": [
    "train['Nalog_base']=pd.cut(train['enginePower'],bins,labels=numbers)\n",
    "test['Nalog_base']=pd.cut(test['enginePower'],bins,labels=numbers)\n",
    "train['Nalog_base'] = train['Nalog_base'].values.astype('int64')\n",
    "test['Nalog_base'] = test['Nalog_base'].values.astype('int64')"
   ]
  },
  {
   "cell_type": "code",
   "execution_count": 81,
   "metadata": {},
   "outputs": [],
   "source": [
    "train['Nalog'] = train['enginePower'] * train['Nalog_base']\n",
    "test['Nalog'] = test['enginePower'] * test['Nalog_base']"
   ]
  },
  {
   "cell_type": "code",
   "execution_count": 82,
   "metadata": {},
   "outputs": [
    {
     "data": {
      "text/plain": [
       "0        7830\n",
       "1        1080\n",
       "2        4760\n",
       "3        1080\n",
       "4        2525\n",
       "         ... \n",
       "27562    8950\n",
       "27563    5180\n",
       "27564    5110\n",
       "27565    5180\n",
       "27566    7110\n",
       "Name: Nalog, Length: 189450, dtype: int64"
      ]
     },
     "execution_count": 82,
     "metadata": {},
     "output_type": "execute_result"
    }
   ],
   "source": [
    "train['Nalog'] "
   ]
  },
  {
   "cell_type": "code",
   "execution_count": 83,
   "metadata": {},
   "outputs": [
    {
     "data": {
      "text/plain": [
       "0         2625.0\n",
       "1         2750.0\n",
       "2         6840.0\n",
       "3         2750.0\n",
       "4         6840.0\n",
       "          ...   \n",
       "34681     4760.0\n",
       "34682     9500.0\n",
       "34683     7650.0\n",
       "34684     9200.0\n",
       "34685    17625.0\n",
       "Name: Nalog, Length: 34686, dtype: float64"
      ]
     },
     "execution_count": 83,
     "metadata": {},
     "output_type": "execute_result"
    }
   ],
   "source": [
    "test['Nalog']"
   ]
  },
  {
   "cell_type": "code",
   "execution_count": 84,
   "metadata": {},
   "outputs": [
    {
     "data": {
      "image/png": "[encoded data removed]",
      "text/plain": [
       "<Figure size 576x360 with 1 Axes>"
      ]
     },
     "metadata": {
      "needs_background": "light"
     },
     "output_type": "display_data"
    }
   ],
   "source": [
    "plt.figure(figsize=(8, 5))\n",
    "g1 = sns.boxplot(y='log_price', x='Nalog_base', \n",
    "                  data=train, color='darkgreen')\n",
    "g1.set_title(\"price of Nalog\", fontsize=20)\n",
    "\n",
    "g1.set_ylabel(\"log_price\", fontsize=15)\n",
    "g1.set_xticklabels(g1.get_xticklabels(),rotation=45)\n",
    "plt.show()"
   ]
  },
  {
   "cell_type": "code",
   "execution_count": 85,
   "metadata": {},
   "outputs": [
    {
     "data": {
      "text/plain": [
       "<AxesSubplot:xlabel='Nalog'>"
      ]
     },
     "execution_count": 85,
     "metadata": {},
     "output_type": "execute_result"
    },
    {
     "data": {
      "image/png": "[encoded data removed]",
      "text/plain": [
       "<Figure size 432x288 with 1 Axes>"
      ]
     },
     "metadata": {
      "needs_background": "light"
     },
     "output_type": "display_data"
    }
   ],
   "source": [
    "train.groupby('Nalog').price.mean().plot()\n"
   ]
  },
  {
   "cell_type": "code",
   "execution_count": 86,
   "metadata": {},
   "outputs": [
    {
     "data": {
      "text/plain": [
       "1.6         32135\n",
       "2.0         27700\n",
       "1.4         10290\n",
       "1.8          9597\n",
       "2.0 LTR      7805\n",
       "            ...  \n",
       "Soft            1\n",
       "Electric        1\n",
       "Easy            1\n",
       "Plus            1\n",
       "8.4             1\n",
       "Name: engineDisplacement, Length: 590, dtype: int64"
      ]
     },
     "execution_count": 86,
     "metadata": {},
     "output_type": "execute_result"
    }
   ],
   "source": [
    "train.engineDisplacement.value_counts()"
   ]
  },
  {
   "cell_type": "code",
   "execution_count": 87,
   "metadata": {},
   "outputs": [],
   "source": [
    "train['engineDisplacement'] = train['engineDisplacement'].apply(lambda x: x[:3])\n",
    "test['engineDisplacement'] = test['engineDisplacement'].apply(lambda x: x[:3])"
   ]
  },
  {
   "cell_type": "code",
   "execution_count": 88,
   "metadata": {},
   "outputs": [
    {
     "data": {
      "text/plain": [
       "2.0    41784\n",
       "1.6    35655\n",
       "3.0    13959\n",
       "1.8    11921\n",
       "1.4    11500\n",
       "2.5     9593\n",
       "2.4     7382\n",
       "1.5     5399\n",
       "3.5     3463\n",
       "4.4     2022\n",
       "2.2     1979\n",
       "1.3     1977\n",
       "1.2     1885\n",
       "2.3     1823\n",
       "200     1504\n",
       "1.7     1486\n",
       "350     1436\n",
       "2.9     1409\n",
       "2.7     1270\n",
       "4.0     1221\n",
       "3.6     1136\n",
       "2.8     1127\n",
       "320     1092\n",
       "3.2     1065\n",
       "4.5      933\n",
       "1.9      756\n",
       "4.2      675\n",
       "520      662\n",
       "300      661\n",
       "4.7      659\n",
       "2.1      653\n",
       "0.8      619\n",
       "250      581\n",
       "500      568\n",
       "450      501\n",
       "4.8      498\n",
       "30d      483\n",
       "180      472\n",
       "400      463\n",
       "6.2      462\n",
       "Name: engineDisplacement, dtype: int64"
      ]
     },
     "execution_count": 88,
     "metadata": {},
     "output_type": "execute_result"
    }
   ],
   "source": [
    "train['engineDisplacement'].value_counts().head(40)"
   ]
  },
  {
   "cell_type": "code",
   "execution_count": 89,
   "metadata": {},
   "outputs": [
    {
     "data": {
      "text/html": [
       "<div>\n",
       "<style scoped>\n",
       "    .dataframe tbody tr th:only-of-type {\n",
       "        vertical-align: middle;\n",
       "    }\n",
       "\n",
       "    .dataframe tbody tr th {\n",
       "        vertical-align: top;\n",
       "    }\n",
       "\n",
       "    .dataframe thead th {\n",
       "        text-align: right;\n",
       "    }\n",
       "</style>\n",
       "<table border=\"1\" class=\"dataframe\">\n",
       "  <thead>\n",
       "    <tr style=\"text-align: right;\">\n",
       "      <th></th>\n",
       "      <th>bodyType</th>\n",
       "      <th>brand</th>\n",
       "      <th>color</th>\n",
       "      <th>fuelType</th>\n",
       "      <th>modelDate</th>\n",
       "      <th>name</th>\n",
       "      <th>numberOfDoors</th>\n",
       "      <th>productionDate</th>\n",
       "      <th>vehicleConfiguration</th>\n",
       "      <th>vehicleTransmission</th>\n",
       "      <th>...</th>\n",
       "      <th>price_EUR</th>\n",
       "      <th>price_USD</th>\n",
       "      <th>mileageNAN</th>\n",
       "      <th>bodyType2</th>\n",
       "      <th>log_price</th>\n",
       "      <th>bT_length</th>\n",
       "      <th>brand_length</th>\n",
       "      <th>log_power</th>\n",
       "      <th>Nalog_base</th>\n",
       "      <th>Nalog</th>\n",
       "    </tr>\n",
       "  </thead>\n",
       "  <tbody>\n",
       "    <tr>\n",
       "      <th>45</th>\n",
       "      <td>седан</td>\n",
       "      <td>AUDI</td>\n",
       "      <td>черный</td>\n",
       "      <td>бензин</td>\n",
       "      <td>1990</td>\n",
       "      <td>S4 2.2 AT (230 л.с.) 4WD</td>\n",
       "      <td>4</td>\n",
       "      <td>1992</td>\n",
       "      <td>SEDAN AUTOMATIC S4</td>\n",
       "      <td>AUTOMATIC</td>\n",
       "      <td>...</td>\n",
       "      <td>NaN</td>\n",
       "      <td>NaN</td>\n",
       "      <td>0</td>\n",
       "      <td>седан</td>\n",
       "      <td>12.301383</td>\n",
       "      <td>5</td>\n",
       "      <td>4</td>\n",
       "      <td>5.438079</td>\n",
       "      <td>75</td>\n",
       "      <td>17250</td>\n",
       "    </tr>\n",
       "    <tr>\n",
       "      <th>63640</th>\n",
       "      <td>седан</td>\n",
       "      <td>otherBrand</td>\n",
       "      <td>серебристый</td>\n",
       "      <td>бензин</td>\n",
       "      <td>2014</td>\n",
       "      <td>S4 2.0 CVT (300 л.с.) 4WD</td>\n",
       "      <td>4</td>\n",
       "      <td>2014</td>\n",
       "      <td>SEDAN VARIATOR S4</td>\n",
       "      <td>VARIATOR</td>\n",
       "      <td>...</td>\n",
       "      <td>NaN</td>\n",
       "      <td>NaN</td>\n",
       "      <td>0</td>\n",
       "      <td>седан</td>\n",
       "      <td>14.187074</td>\n",
       "      <td>5</td>\n",
       "      <td>10</td>\n",
       "      <td>5.703782</td>\n",
       "      <td>150</td>\n",
       "      <td>45000</td>\n",
       "    </tr>\n",
       "  </tbody>\n",
       "</table>\n",
       "<p>2 rows × 42 columns</p>\n",
       "</div>"
      ],
      "text/plain": [
       "      bodyType       brand        color fuelType  modelDate  \\\n",
       "45       седан        AUDI       черный   бензин       1990   \n",
       "63640    седан  otherBrand  серебристый   бензин       2014   \n",
       "\n",
       "                            name  numberOfDoors  productionDate  \\\n",
       "45      S4 2.2 AT (230 л.с.) 4WD              4            1992   \n",
       "63640  S4 2.0 CVT (300 л.с.) 4WD              4            2014   \n",
       "\n",
       "      vehicleConfiguration vehicleTransmission  ... price_EUR  price_USD  \\\n",
       "45      SEDAN AUTOMATIC S4           AUTOMATIC  ...       NaN        NaN   \n",
       "63640    SEDAN VARIATOR S4            VARIATOR  ...       NaN        NaN   \n",
       "\n",
       "      mileageNAN  bodyType2  log_price bT_length brand_length log_power  \\\n",
       "45             0      седан  12.301383         5            4  5.438079   \n",
       "63640          0      седан  14.187074         5           10  5.703782   \n",
       "\n",
       "      Nalog_base  Nalog  \n",
       "45            75  17250  \n",
       "63640        150  45000  \n",
       "\n",
       "[2 rows x 42 columns]"
      ]
     },
     "execution_count": 89,
     "metadata": {},
     "output_type": "execute_result"
    }
   ],
   "source": [
    "train[train['engineDisplacement'] == 'S4']"
   ]
  },
  {
   "cell_type": "code",
   "execution_count": 90,
   "metadata": {},
   "outputs": [
    {
     "data": {
      "text/plain": [
       "55"
      ]
     },
     "execution_count": 90,
     "metadata": {},
     "output_type": "execute_result"
    }
   ],
   "source": [
    "len(test[test['engineDisplacement'] == ' LT'])"
   ]
  },
  {
   "cell_type": "code",
   "execution_count": 91,
   "metadata": {},
   "outputs": [
    {
     "data": {
      "text/html": [
       "<div>\n",
       "<style scoped>\n",
       "    .dataframe tbody tr th:only-of-type {\n",
       "        vertical-align: middle;\n",
       "    }\n",
       "\n",
       "    .dataframe tbody tr th {\n",
       "        vertical-align: top;\n",
       "    }\n",
       "\n",
       "    .dataframe thead th {\n",
       "        text-align: right;\n",
       "    }\n",
       "</style>\n",
       "<table border=\"1\" class=\"dataframe\">\n",
       "  <thead>\n",
       "    <tr style=\"text-align: right;\">\n",
       "      <th></th>\n",
       "      <th>bodyType</th>\n",
       "      <th>brand</th>\n",
       "      <th>color</th>\n",
       "      <th>fuelType</th>\n",
       "      <th>modelDate</th>\n",
       "      <th>name</th>\n",
       "      <th>numberOfDoors</th>\n",
       "      <th>productionDate</th>\n",
       "      <th>vehicleConfiguration</th>\n",
       "      <th>vehicleTransmission</th>\n",
       "      <th>...</th>\n",
       "      <th>price_EUR</th>\n",
       "      <th>price_USD</th>\n",
       "      <th>mileageNAN</th>\n",
       "      <th>bodyType2</th>\n",
       "      <th>log_price</th>\n",
       "      <th>bT_length</th>\n",
       "      <th>brand_length</th>\n",
       "      <th>log_power</th>\n",
       "      <th>Nalog_base</th>\n",
       "      <th>Nalog</th>\n",
       "    </tr>\n",
       "  </thead>\n",
       "  <tbody>\n",
       "    <tr>\n",
       "      <th>15011</th>\n",
       "      <td>хэтчбек 5 дв.</td>\n",
       "      <td>BMW</td>\n",
       "      <td>серый</td>\n",
       "      <td>электро</td>\n",
       "      <td>2013</td>\n",
       "      <td>NaN</td>\n",
       "      <td>5</td>\n",
       "      <td>2017</td>\n",
       "      <td>NaN</td>\n",
       "      <td>автоматическая</td>\n",
       "      <td>...</td>\n",
       "      <td>NaN</td>\n",
       "      <td>NaN</td>\n",
       "      <td>0</td>\n",
       "      <td>хэтчбек 5 дв.</td>\n",
       "      <td>14.403297</td>\n",
       "      <td>13</td>\n",
       "      <td>3</td>\n",
       "      <td>5.135798</td>\n",
       "      <td>45</td>\n",
       "      <td>7650</td>\n",
       "    </tr>\n",
       "    <tr>\n",
       "      <th>15013</th>\n",
       "      <td>хэтчбек 5 дв.</td>\n",
       "      <td>BMW</td>\n",
       "      <td>синий</td>\n",
       "      <td>электро</td>\n",
       "      <td>2017</td>\n",
       "      <td>NaN</td>\n",
       "      <td>5</td>\n",
       "      <td>2017</td>\n",
       "      <td>NaN</td>\n",
       "      <td>автоматическая</td>\n",
       "      <td>...</td>\n",
       "      <td>NaN</td>\n",
       "      <td>NaN</td>\n",
       "      <td>0</td>\n",
       "      <td>хэтчбек 5 дв.</td>\n",
       "      <td>14.557447</td>\n",
       "      <td>13</td>\n",
       "      <td>3</td>\n",
       "      <td>5.214936</td>\n",
       "      <td>50</td>\n",
       "      <td>9200</td>\n",
       "    </tr>\n",
       "    <tr>\n",
       "      <th>15019</th>\n",
       "      <td>хэтчбек 5 дв.</td>\n",
       "      <td>BMW</td>\n",
       "      <td>серый</td>\n",
       "      <td>электро</td>\n",
       "      <td>2017</td>\n",
       "      <td>NaN</td>\n",
       "      <td>5</td>\n",
       "      <td>2018</td>\n",
       "      <td>NaN</td>\n",
       "      <td>автоматическая</td>\n",
       "      <td>...</td>\n",
       "      <td>NaN</td>\n",
       "      <td>NaN</td>\n",
       "      <td>0</td>\n",
       "      <td>хэтчбек 5 дв.</td>\n",
       "      <td>14.483340</td>\n",
       "      <td>13</td>\n",
       "      <td>3</td>\n",
       "      <td>5.135798</td>\n",
       "      <td>45</td>\n",
       "      <td>7650</td>\n",
       "    </tr>\n",
       "    <tr>\n",
       "      <th>15022</th>\n",
       "      <td>хэтчбек 5 дв.</td>\n",
       "      <td>BMW</td>\n",
       "      <td>чёрный</td>\n",
       "      <td>электро</td>\n",
       "      <td>2013</td>\n",
       "      <td>NaN</td>\n",
       "      <td>5</td>\n",
       "      <td>2015</td>\n",
       "      <td>NaN</td>\n",
       "      <td>автоматическая</td>\n",
       "      <td>...</td>\n",
       "      <td>NaN</td>\n",
       "      <td>NaN</td>\n",
       "      <td>0</td>\n",
       "      <td>хэтчбек 5 дв.</td>\n",
       "      <td>13.864301</td>\n",
       "      <td>13</td>\n",
       "      <td>3</td>\n",
       "      <td>5.135798</td>\n",
       "      <td>45</td>\n",
       "      <td>7650</td>\n",
       "    </tr>\n",
       "    <tr>\n",
       "      <th>15029</th>\n",
       "      <td>хэтчбек 5 дв.</td>\n",
       "      <td>BMW</td>\n",
       "      <td>белый</td>\n",
       "      <td>электро</td>\n",
       "      <td>2013</td>\n",
       "      <td>NaN</td>\n",
       "      <td>5</td>\n",
       "      <td>2016</td>\n",
       "      <td>NaN</td>\n",
       "      <td>автоматическая</td>\n",
       "      <td>...</td>\n",
       "      <td>NaN</td>\n",
       "      <td>NaN</td>\n",
       "      <td>0</td>\n",
       "      <td>хэтчбек 5 дв.</td>\n",
       "      <td>13.955273</td>\n",
       "      <td>13</td>\n",
       "      <td>3</td>\n",
       "      <td>5.135798</td>\n",
       "      <td>45</td>\n",
       "      <td>7650</td>\n",
       "    </tr>\n",
       "    <tr>\n",
       "      <th>15031</th>\n",
       "      <td>хэтчбек 5 дв.</td>\n",
       "      <td>BMW</td>\n",
       "      <td>серый</td>\n",
       "      <td>электро</td>\n",
       "      <td>2013</td>\n",
       "      <td>NaN</td>\n",
       "      <td>5</td>\n",
       "      <td>2014</td>\n",
       "      <td>NaN</td>\n",
       "      <td>автоматическая</td>\n",
       "      <td>...</td>\n",
       "      <td>NaN</td>\n",
       "      <td>NaN</td>\n",
       "      <td>0</td>\n",
       "      <td>хэтчбек 5 дв.</td>\n",
       "      <td>14.508657</td>\n",
       "      <td>13</td>\n",
       "      <td>3</td>\n",
       "      <td>5.135798</td>\n",
       "      <td>45</td>\n",
       "      <td>7650</td>\n",
       "    </tr>\n",
       "    <tr>\n",
       "      <th>15032</th>\n",
       "      <td>хэтчбек 5 дв.</td>\n",
       "      <td>BMW</td>\n",
       "      <td>чёрный</td>\n",
       "      <td>электро</td>\n",
       "      <td>2013</td>\n",
       "      <td>NaN</td>\n",
       "      <td>5</td>\n",
       "      <td>2014</td>\n",
       "      <td>NaN</td>\n",
       "      <td>автоматическая</td>\n",
       "      <td>...</td>\n",
       "      <td>NaN</td>\n",
       "      <td>NaN</td>\n",
       "      <td>0</td>\n",
       "      <td>хэтчбек 5 дв.</td>\n",
       "      <td>14.247293</td>\n",
       "      <td>13</td>\n",
       "      <td>3</td>\n",
       "      <td>5.135798</td>\n",
       "      <td>45</td>\n",
       "      <td>7650</td>\n",
       "    </tr>\n",
       "    <tr>\n",
       "      <th>15033</th>\n",
       "      <td>хэтчбек 5 дв.</td>\n",
       "      <td>BMW</td>\n",
       "      <td>красный</td>\n",
       "      <td>электро</td>\n",
       "      <td>2013</td>\n",
       "      <td>NaN</td>\n",
       "      <td>5</td>\n",
       "      <td>2014</td>\n",
       "      <td>NaN</td>\n",
       "      <td>автоматическая</td>\n",
       "      <td>...</td>\n",
       "      <td>NaN</td>\n",
       "      <td>NaN</td>\n",
       "      <td>0</td>\n",
       "      <td>хэтчбек 5 дв.</td>\n",
       "      <td>14.124465</td>\n",
       "      <td>13</td>\n",
       "      <td>3</td>\n",
       "      <td>5.135798</td>\n",
       "      <td>45</td>\n",
       "      <td>7650</td>\n",
       "    </tr>\n",
       "    <tr>\n",
       "      <th>15038</th>\n",
       "      <td>хэтчбек 5 дв.</td>\n",
       "      <td>BMW</td>\n",
       "      <td>чёрный</td>\n",
       "      <td>электро</td>\n",
       "      <td>2013</td>\n",
       "      <td>NaN</td>\n",
       "      <td>5</td>\n",
       "      <td>2015</td>\n",
       "      <td>NaN</td>\n",
       "      <td>автоматическая</td>\n",
       "      <td>...</td>\n",
       "      <td>NaN</td>\n",
       "      <td>NaN</td>\n",
       "      <td>0</td>\n",
       "      <td>хэтчбек 5 дв.</td>\n",
       "      <td>13.955273</td>\n",
       "      <td>13</td>\n",
       "      <td>3</td>\n",
       "      <td>5.135798</td>\n",
       "      <td>45</td>\n",
       "      <td>7650</td>\n",
       "    </tr>\n",
       "    <tr>\n",
       "      <th>15041</th>\n",
       "      <td>хэтчбек 5 дв.</td>\n",
       "      <td>BMW</td>\n",
       "      <td>синий</td>\n",
       "      <td>электро</td>\n",
       "      <td>2017</td>\n",
       "      <td>NaN</td>\n",
       "      <td>5</td>\n",
       "      <td>2018</td>\n",
       "      <td>NaN</td>\n",
       "      <td>автоматическая</td>\n",
       "      <td>...</td>\n",
       "      <td>NaN</td>\n",
       "      <td>NaN</td>\n",
       "      <td>0</td>\n",
       "      <td>хэтчбек 5 дв.</td>\n",
       "      <td>14.815775</td>\n",
       "      <td>13</td>\n",
       "      <td>3</td>\n",
       "      <td>5.214936</td>\n",
       "      <td>50</td>\n",
       "      <td>9200</td>\n",
       "    </tr>\n",
       "    <tr>\n",
       "      <th>15045</th>\n",
       "      <td>хэтчбек 5 дв.</td>\n",
       "      <td>BMW</td>\n",
       "      <td>серебристый</td>\n",
       "      <td>электро</td>\n",
       "      <td>2013</td>\n",
       "      <td>NaN</td>\n",
       "      <td>5</td>\n",
       "      <td>2014</td>\n",
       "      <td>NaN</td>\n",
       "      <td>автоматическая</td>\n",
       "      <td>...</td>\n",
       "      <td>NaN</td>\n",
       "      <td>NaN</td>\n",
       "      <td>0</td>\n",
       "      <td>хэтчбек 5 дв.</td>\n",
       "      <td>14.269766</td>\n",
       "      <td>13</td>\n",
       "      <td>3</td>\n",
       "      <td>5.135798</td>\n",
       "      <td>45</td>\n",
       "      <td>7650</td>\n",
       "    </tr>\n",
       "    <tr>\n",
       "      <th>15046</th>\n",
       "      <td>хэтчбек 5 дв.</td>\n",
       "      <td>BMW</td>\n",
       "      <td>коричневый</td>\n",
       "      <td>электро</td>\n",
       "      <td>2013</td>\n",
       "      <td>NaN</td>\n",
       "      <td>5</td>\n",
       "      <td>2015</td>\n",
       "      <td>NaN</td>\n",
       "      <td>автоматическая</td>\n",
       "      <td>...</td>\n",
       "      <td>NaN</td>\n",
       "      <td>NaN</td>\n",
       "      <td>0</td>\n",
       "      <td>хэтчбек 5 дв.</td>\n",
       "      <td>14.195316</td>\n",
       "      <td>13</td>\n",
       "      <td>3</td>\n",
       "      <td>5.135798</td>\n",
       "      <td>45</td>\n",
       "      <td>7650</td>\n",
       "    </tr>\n",
       "    <tr>\n",
       "      <th>23584</th>\n",
       "      <td>хэтчбек 5 дв.</td>\n",
       "      <td>VOLKSWAGEN</td>\n",
       "      <td>чёрный</td>\n",
       "      <td>электро</td>\n",
       "      <td>2012</td>\n",
       "      <td>NaN</td>\n",
       "      <td>5</td>\n",
       "      <td>2016</td>\n",
       "      <td>NaN</td>\n",
       "      <td>автоматическая</td>\n",
       "      <td>...</td>\n",
       "      <td>NaN</td>\n",
       "      <td>NaN</td>\n",
       "      <td>0</td>\n",
       "      <td>хэтчбек 5 дв.</td>\n",
       "      <td>14.478199</td>\n",
       "      <td>13</td>\n",
       "      <td>10</td>\n",
       "      <td>4.744932</td>\n",
       "      <td>25</td>\n",
       "      <td>2875</td>\n",
       "    </tr>\n",
       "  </tbody>\n",
       "</table>\n",
       "<p>13 rows × 42 columns</p>\n",
       "</div>"
      ],
      "text/plain": [
       "            bodyType       brand        color fuelType  modelDate name  \\\n",
       "15011  хэтчбек 5 дв.         BMW        серый  электро       2013  NaN   \n",
       "15013  хэтчбек 5 дв.         BMW        синий  электро       2017  NaN   \n",
       "15019  хэтчбек 5 дв.         BMW        серый  электро       2017  NaN   \n",
       "15022  хэтчбек 5 дв.         BMW       чёрный  электро       2013  NaN   \n",
       "15029  хэтчбек 5 дв.         BMW        белый  электро       2013  NaN   \n",
       "15031  хэтчбек 5 дв.         BMW        серый  электро       2013  NaN   \n",
       "15032  хэтчбек 5 дв.         BMW       чёрный  электро       2013  NaN   \n",
       "15033  хэтчбек 5 дв.         BMW      красный  электро       2013  NaN   \n",
       "15038  хэтчбек 5 дв.         BMW       чёрный  электро       2013  NaN   \n",
       "15041  хэтчбек 5 дв.         BMW        синий  электро       2017  NaN   \n",
       "15045  хэтчбек 5 дв.         BMW  серебристый  электро       2013  NaN   \n",
       "15046  хэтчбек 5 дв.         BMW   коричневый  электро       2013  NaN   \n",
       "23584  хэтчбек 5 дв.  VOLKSWAGEN       чёрный  электро       2012  NaN   \n",
       "\n",
       "       numberOfDoors  productionDate vehicleConfiguration vehicleTransmission  \\\n",
       "15011              5            2017                  NaN      автоматическая   \n",
       "15013              5            2017                  NaN      автоматическая   \n",
       "15019              5            2018                  NaN      автоматическая   \n",
       "15022              5            2015                  NaN      автоматическая   \n",
       "15029              5            2016                  NaN      автоматическая   \n",
       "15031              5            2014                  NaN      автоматическая   \n",
       "15032              5            2014                  NaN      автоматическая   \n",
       "15033              5            2014                  NaN      автоматическая   \n",
       "15038              5            2015                  NaN      автоматическая   \n",
       "15041              5            2018                  NaN      автоматическая   \n",
       "15045              5            2014                  NaN      автоматическая   \n",
       "15046              5            2015                  NaN      автоматическая   \n",
       "23584              5            2016                  NaN      автоматическая   \n",
       "\n",
       "       ... price_EUR  price_USD mileageNAN      bodyType2  log_price  \\\n",
       "15011  ...       NaN        NaN          0  хэтчбек 5 дв.  14.403297   \n",
       "15013  ...       NaN        NaN          0  хэтчбек 5 дв.  14.557447   \n",
       "15019  ...       NaN        NaN          0  хэтчбек 5 дв.  14.483340   \n",
       "15022  ...       NaN        NaN          0  хэтчбек 5 дв.  13.864301   \n",
       "15029  ...       NaN        NaN          0  хэтчбек 5 дв.  13.955273   \n",
       "15031  ...       NaN        NaN          0  хэтчбек 5 дв.  14.508657   \n",
       "15032  ...       NaN        NaN          0  хэтчбек 5 дв.  14.247293   \n",
       "15033  ...       NaN        NaN          0  хэтчбек 5 дв.  14.124465   \n",
       "15038  ...       NaN        NaN          0  хэтчбек 5 дв.  13.955273   \n",
       "15041  ...       NaN        NaN          0  хэтчбек 5 дв.  14.815775   \n",
       "15045  ...       NaN        NaN          0  хэтчбек 5 дв.  14.269766   \n",
       "15046  ...       NaN        NaN          0  хэтчбек 5 дв.  14.195316   \n",
       "23584  ...       NaN        NaN          0  хэтчбек 5 дв.  14.478199   \n",
       "\n",
       "      bT_length brand_length log_power Nalog_base Nalog  \n",
       "15011        13            3  5.135798         45  7650  \n",
       "15013        13            3  5.214936         50  9200  \n",
       "15019        13            3  5.135798         45  7650  \n",
       "15022        13            3  5.135798         45  7650  \n",
       "15029        13            3  5.135798         45  7650  \n",
       "15031        13            3  5.135798         45  7650  \n",
       "15032        13            3  5.135798         45  7650  \n",
       "15033        13            3  5.135798         45  7650  \n",
       "15038        13            3  5.135798         45  7650  \n",
       "15041        13            3  5.214936         50  9200  \n",
       "15045        13            3  5.135798         45  7650  \n",
       "15046        13            3  5.135798         45  7650  \n",
       "23584        13           10  4.744932         25  2875  \n",
       "\n",
       "[13 rows x 42 columns]"
      ]
     },
     "execution_count": 91,
     "metadata": {},
     "output_type": "execute_result"
    }
   ],
   "source": [
    "train[train['engineDisplacement'] == ' LT']"
   ]
  },
  {
   "cell_type": "code",
   "execution_count": 92,
   "metadata": {},
   "outputs": [
    {
     "data": {
      "text/html": [
       "<div>\n",
       "<style scoped>\n",
       "    .dataframe tbody tr th:only-of-type {\n",
       "        vertical-align: middle;\n",
       "    }\n",
       "\n",
       "    .dataframe tbody tr th {\n",
       "        vertical-align: top;\n",
       "    }\n",
       "\n",
       "    .dataframe thead th {\n",
       "        text-align: right;\n",
       "    }\n",
       "</style>\n",
       "<table border=\"1\" class=\"dataframe\">\n",
       "  <thead>\n",
       "    <tr style=\"text-align: right;\">\n",
       "      <th></th>\n",
       "      <th>count</th>\n",
       "      <th>mean</th>\n",
       "      <th>std</th>\n",
       "      <th>min</th>\n",
       "      <th>25%</th>\n",
       "      <th>50%</th>\n",
       "      <th>75%</th>\n",
       "      <th>max</th>\n",
       "    </tr>\n",
       "    <tr>\n",
       "      <th>engineDisplacement</th>\n",
       "      <th></th>\n",
       "      <th></th>\n",
       "      <th></th>\n",
       "      <th></th>\n",
       "      <th></th>\n",
       "      <th></th>\n",
       "      <th></th>\n",
       "      <th></th>\n",
       "    </tr>\n",
       "  </thead>\n",
       "  <tbody>\n",
       "    <tr>\n",
       "      <th>LT</th>\n",
       "      <td>13.0</td>\n",
       "      <td>167.923077</td>\n",
       "      <td>16.735499</td>\n",
       "      <td>115.0</td>\n",
       "      <td>170.0</td>\n",
       "      <td>170.0</td>\n",
       "      <td>170.0</td>\n",
       "      <td>184.0</td>\n",
       "    </tr>\n",
       "    <tr>\n",
       "      <th>+</th>\n",
       "      <td>1.0</td>\n",
       "      <td>75.000000</td>\n",
       "      <td>NaN</td>\n",
       "      <td>75.0</td>\n",
       "      <td>75.0</td>\n",
       "      <td>75.0</td>\n",
       "      <td>75.0</td>\n",
       "      <td>75.0</td>\n",
       "    </tr>\n",
       "    <tr>\n",
       "      <th>0.6</th>\n",
       "      <td>8.0</td>\n",
       "      <td>173.500000</td>\n",
       "      <td>6.480741</td>\n",
       "      <td>170.0</td>\n",
       "      <td>170.0</td>\n",
       "      <td>170.0</td>\n",
       "      <td>173.5</td>\n",
       "      <td>184.0</td>\n",
       "    </tr>\n",
       "    <tr>\n",
       "      <th>0.7</th>\n",
       "      <td>166.0</td>\n",
       "      <td>75.843373</td>\n",
       "      <td>44.254356</td>\n",
       "      <td>45.0</td>\n",
       "      <td>52.0</td>\n",
       "      <td>58.0</td>\n",
       "      <td>64.0</td>\n",
       "      <td>184.0</td>\n",
       "    </tr>\n",
       "    <tr>\n",
       "      <th>0.8</th>\n",
       "      <td>619.0</td>\n",
       "      <td>51.767367</td>\n",
       "      <td>1.667557</td>\n",
       "      <td>38.0</td>\n",
       "      <td>52.0</td>\n",
       "      <td>52.0</td>\n",
       "      <td>52.0</td>\n",
       "      <td>52.0</td>\n",
       "    </tr>\n",
       "    <tr>\n",
       "      <th>1.0</th>\n",
       "      <td>384.0</td>\n",
       "      <td>64.705729</td>\n",
       "      <td>6.846651</td>\n",
       "      <td>42.0</td>\n",
       "      <td>60.0</td>\n",
       "      <td>67.0</td>\n",
       "      <td>68.0</td>\n",
       "      <td>125.0</td>\n",
       "    </tr>\n",
       "    <tr>\n",
       "      <th>1.1</th>\n",
       "      <td>144.0</td>\n",
       "      <td>65.090278</td>\n",
       "      <td>8.006914</td>\n",
       "      <td>30.0</td>\n",
       "      <td>64.0</td>\n",
       "      <td>66.0</td>\n",
       "      <td>68.0</td>\n",
       "      <td>101.0</td>\n",
       "    </tr>\n",
       "    <tr>\n",
       "      <th>1.2</th>\n",
       "      <td>1885.0</td>\n",
       "      <td>89.402653</td>\n",
       "      <td>16.469804</td>\n",
       "      <td>44.0</td>\n",
       "      <td>75.0</td>\n",
       "      <td>85.0</td>\n",
       "      <td>105.0</td>\n",
       "      <td>116.0</td>\n",
       "    </tr>\n",
       "    <tr>\n",
       "      <th>1.3</th>\n",
       "      <td>1977.0</td>\n",
       "      <td>107.830046</td>\n",
       "      <td>39.059612</td>\n",
       "      <td>40.0</td>\n",
       "      <td>82.0</td>\n",
       "      <td>88.0</td>\n",
       "      <td>150.0</td>\n",
       "      <td>255.0</td>\n",
       "    </tr>\n",
       "    <tr>\n",
       "      <th>1.4</th>\n",
       "      <td>11500.0</td>\n",
       "      <td>111.528870</td>\n",
       "      <td>27.148536</td>\n",
       "      <td>55.0</td>\n",
       "      <td>90.0</td>\n",
       "      <td>107.0</td>\n",
       "      <td>140.0</td>\n",
       "      <td>180.0</td>\n",
       "    </tr>\n",
       "    <tr>\n",
       "      <th>1.5</th>\n",
       "      <td>5399.0</td>\n",
       "      <td>103.603260</td>\n",
       "      <td>22.796595</td>\n",
       "      <td>42.0</td>\n",
       "      <td>86.0</td>\n",
       "      <td>99.0</td>\n",
       "      <td>109.0</td>\n",
       "      <td>231.0</td>\n",
       "    </tr>\n",
       "    <tr>\n",
       "      <th>1.6</th>\n",
       "      <td>35655.0</td>\n",
       "      <td>113.079175</td>\n",
       "      <td>16.852331</td>\n",
       "      <td>46.0</td>\n",
       "      <td>103.0</td>\n",
       "      <td>110.0</td>\n",
       "      <td>123.0</td>\n",
       "      <td>218.0</td>\n",
       "    </tr>\n",
       "    <tr>\n",
       "      <th>1.7</th>\n",
       "      <td>1486.0</td>\n",
       "      <td>84.242261</td>\n",
       "      <td>13.428569</td>\n",
       "      <td>38.0</td>\n",
       "      <td>80.0</td>\n",
       "      <td>80.0</td>\n",
       "      <td>80.0</td>\n",
       "      <td>141.0</td>\n",
       "    </tr>\n",
       "    <tr>\n",
       "      <th>1.8</th>\n",
       "      <td>11921.0</td>\n",
       "      <td>139.466488</td>\n",
       "      <td>25.205399</td>\n",
       "      <td>60.0</td>\n",
       "      <td>125.0</td>\n",
       "      <td>140.0</td>\n",
       "      <td>152.0</td>\n",
       "      <td>225.0</td>\n",
       "    </tr>\n",
       "    <tr>\n",
       "      <th>1.9</th>\n",
       "      <td>756.0</td>\n",
       "      <td>104.046296</td>\n",
       "      <td>21.612707</td>\n",
       "      <td>55.0</td>\n",
       "      <td>90.0</td>\n",
       "      <td>105.0</td>\n",
       "      <td>118.0</td>\n",
       "      <td>200.0</td>\n",
       "    </tr>\n",
       "    <tr>\n",
       "      <th>100</th>\n",
       "      <td>1.0</td>\n",
       "      <td>42.000000</td>\n",
       "      <td>NaN</td>\n",
       "      <td>42.0</td>\n",
       "      <td>42.0</td>\n",
       "      <td>42.0</td>\n",
       "      <td>42.0</td>\n",
       "      <td>42.0</td>\n",
       "    </tr>\n",
       "    <tr>\n",
       "      <th>105</th>\n",
       "      <td>13.0</td>\n",
       "      <td>131.000000</td>\n",
       "      <td>0.000000</td>\n",
       "      <td>131.0</td>\n",
       "      <td>131.0</td>\n",
       "      <td>131.0</td>\n",
       "      <td>131.0</td>\n",
       "      <td>131.0</td>\n",
       "    </tr>\n",
       "    <tr>\n",
       "      <th>108</th>\n",
       "      <td>15.0</td>\n",
       "      <td>80.200000</td>\n",
       "      <td>1.521278</td>\n",
       "      <td>79.0</td>\n",
       "      <td>79.0</td>\n",
       "      <td>79.0</td>\n",
       "      <td>82.0</td>\n",
       "      <td>82.0</td>\n",
       "    </tr>\n",
       "    <tr>\n",
       "      <th>109</th>\n",
       "      <td>18.0</td>\n",
       "      <td>92.111111</td>\n",
       "      <td>3.376195</td>\n",
       "      <td>88.0</td>\n",
       "      <td>88.0</td>\n",
       "      <td>95.0</td>\n",
       "      <td>95.0</td>\n",
       "      <td>95.0</td>\n",
       "    </tr>\n",
       "    <tr>\n",
       "      <th>110</th>\n",
       "      <td>37.0</td>\n",
       "      <td>113.405405</td>\n",
       "      <td>11.412614</td>\n",
       "      <td>95.0</td>\n",
       "      <td>102.0</td>\n",
       "      <td>122.0</td>\n",
       "      <td>122.0</td>\n",
       "      <td>122.0</td>\n",
       "    </tr>\n",
       "  </tbody>\n",
       "</table>\n",
       "</div>"
      ],
      "text/plain": [
       "                      count        mean        std    min    25%    50%  \\\n",
       "engineDisplacement                                                        \n",
       " LT                    13.0  167.923077  16.735499  115.0  170.0  170.0   \n",
       "+                       1.0   75.000000        NaN   75.0   75.0   75.0   \n",
       "0.6                     8.0  173.500000   6.480741  170.0  170.0  170.0   \n",
       "0.7                   166.0   75.843373  44.254356   45.0   52.0   58.0   \n",
       "0.8                   619.0   51.767367   1.667557   38.0   52.0   52.0   \n",
       "1.0                   384.0   64.705729   6.846651   42.0   60.0   67.0   \n",
       "1.1                   144.0   65.090278   8.006914   30.0   64.0   66.0   \n",
       "1.2                  1885.0   89.402653  16.469804   44.0   75.0   85.0   \n",
       "1.3                  1977.0  107.830046  39.059612   40.0   82.0   88.0   \n",
       "1.4                 11500.0  111.528870  27.148536   55.0   90.0  107.0   \n",
       "1.5                  5399.0  103.603260  22.796595   42.0   86.0   99.0   \n",
       "1.6                 35655.0  113.079175  16.852331   46.0  103.0  110.0   \n",
       "1.7                  1486.0   84.242261  13.428569   38.0   80.0   80.0   \n",
       "1.8                 11921.0  139.466488  25.205399   60.0  125.0  140.0   \n",
       "1.9                   756.0  104.046296  21.612707   55.0   90.0  105.0   \n",
       "100                     1.0   42.000000        NaN   42.0   42.0   42.0   \n",
       "105                    13.0  131.000000   0.000000  131.0  131.0  131.0   \n",
       "108                    15.0   80.200000   1.521278   79.0   79.0   79.0   \n",
       "109                    18.0   92.111111   3.376195   88.0   88.0   95.0   \n",
       "110                    37.0  113.405405  11.412614   95.0  102.0  122.0   \n",
       "\n",
       "                      75%    max  \n",
       "engineDisplacement                \n",
       " LT                 170.0  184.0  \n",
       "+                    75.0   75.0  \n",
       "0.6                 173.5  184.0  \n",
       "0.7                  64.0  184.0  \n",
       "0.8                  52.0   52.0  \n",
       "1.0                  68.0  125.0  \n",
       "1.1                  68.0  101.0  \n",
       "1.2                 105.0  116.0  \n",
       "1.3                 150.0  255.0  \n",
       "1.4                 140.0  180.0  \n",
       "1.5                 109.0  231.0  \n",
       "1.6                 123.0  218.0  \n",
       "1.7                  80.0  141.0  \n",
       "1.8                 152.0  225.0  \n",
       "1.9                 118.0  200.0  \n",
       "100                  42.0   42.0  \n",
       "105                 131.0  131.0  \n",
       "108                  82.0   82.0  \n",
       "109                  95.0   95.0  \n",
       "110                 122.0  122.0  "
      ]
     },
     "execution_count": 92,
     "metadata": {},
     "output_type": "execute_result"
    }
   ],
   "source": [
    "train.groupby('engineDisplacement').enginePower.describe().head(20)"
   ]
  },
  {
   "cell_type": "code",
   "execution_count": 93,
   "metadata": {},
   "outputs": [],
   "source": [
    "train['engineDisplacement'] = train['engineDisplacement'].apply(lambda x: 1.6 if x == ' LT' else x)\n",
    "test['engineDisplacement'] = test['engineDisplacement'].apply(lambda x: 1.6 if x == ' LT' else x)"
   ]
  },
  {
   "cell_type": "code",
   "execution_count": 94,
   "metadata": {},
   "outputs": [
    {
     "data": {
      "text/plain": [
       "Index(['2.0', '1.6', '3.0', '1.8', '1.4', '2.5', '2.4', '1.5', '3.5', '4.4',\n",
       "       '2.2', '1.3', '1.2', '2.3', '200', '1.7', '350', '2.9', '2.7', '4.0',\n",
       "       '3.6', '2.8', '320', '3.2', '4.5', '1.9', '4.2', '520', '300', '4.7',\n",
       "       '2.1', '0.8', '250', '500', '450', '4.8'],\n",
       "      dtype='object')"
      ]
     },
     "execution_count": 94,
     "metadata": {},
     "output_type": "execute_result"
    }
   ],
   "source": [
    "train['engineDisplacement'].value_counts()[:36].keys()"
   ]
  },
  {
   "cell_type": "code",
   "execution_count": 95,
   "metadata": {},
   "outputs": [],
   "source": [
    "brand_list = list(train['engineDisplacement'].value_counts()[:36].keys())\n",
    "train['engineDisplacement'] = train['engineDisplacement'].apply(lambda x: x if x in brand_list else 1.8)\n"
   ]
  },
  {
   "cell_type": "code",
   "execution_count": 96,
   "metadata": {},
   "outputs": [
    {
     "data": {
      "text/plain": [
       "<AxesSubplot:>"
      ]
     },
     "execution_count": 96,
     "metadata": {},
     "output_type": "execute_result"
    },
    {
     "data": {
      "image/png": "[encoded data removed]",
      "text/plain": [
       "<Figure size 432x288 with 1 Axes>"
      ]
     },
     "metadata": {
      "needs_background": "light"
     },
     "output_type": "display_data"
    }
   ],
   "source": [
    "train['engineDisplacement'] = train['engineDisplacement'].astype('float')\n",
    "train['engineDisplacement'].value_counts().plot(kind='bar')"
   ]
  },
  {
   "cell_type": "code",
   "execution_count": 97,
   "metadata": {},
   "outputs": [
    {
     "data": {
      "text/plain": [
       "автоматическая      19596\n",
       "механическая         7209\n",
       "вариатор             3999\n",
       "роботизированная     3882\n",
       "Name: vehicleTransmission, dtype: int64"
      ]
     },
     "execution_count": 97,
     "metadata": {},
     "output_type": "execute_result"
    }
   ],
   "source": [
    "test.vehicleTransmission.value_counts()\n"
   ]
  },
  {
   "cell_type": "code",
   "execution_count": 98,
   "metadata": {},
   "outputs": [
    {
     "data": {
      "text/plain": [
       "AUTOMATIC           89663\n",
       "MECHANICAL          46066\n",
       "автоматическая      17296\n",
       "ROBOT               14829\n",
       "VARIATOR            11940\n",
       "механическая         4478\n",
       "роботизированная     2604\n",
       "вариатор             2574\n",
       "Name: vehicleTransmission, dtype: int64"
      ]
     },
     "execution_count": 98,
     "metadata": {},
     "output_type": "execute_result"
    }
   ],
   "source": [
    "train.vehicleTransmission.value_counts()\n"
   ]
  },
  {
   "cell_type": "code",
   "execution_count": 99,
   "metadata": {},
   "outputs": [],
   "source": [
    "vehicle = {'AUTOMATIC':'автоматическая',\n",
    "'MECHANICAL':'механическая',\n",
    "'ROBOT':'роботизированная',\n",
    "'VARIATOR':'вариатор'}\n",
    "train['vehicleTransmission'] = train['vehicleTransmission'].replace(vehicle)"
   ]
  },
  {
   "cell_type": "code",
   "execution_count": 100,
   "metadata": {},
   "outputs": [
    {
     "data": {
      "image/png": "[encoded data removed]",
      "text/plain": [
       "<Figure size 576x360 with 1 Axes>"
      ]
     },
     "metadata": {
      "needs_background": "light"
     },
     "output_type": "display_data"
    }
   ],
   "source": [
    "plt.figure(figsize=(8, 5))\n",
    "g1 = sns.boxplot(y='log_price', x='vehicleTransmission', \n",
    "                  data=train, color='darkgreen')\n",
    "g1.set_title(\"price of vehicleTransmission\", fontsize=20)\n",
    "\n",
    "g1.set_ylabel(\"log_price\", fontsize=15)\n",
    "g1.set_xticklabels(g1.get_xticklabels(),rotation=45)\n",
    "plt.show()"
   ]
  },
  {
   "cell_type": "code",
   "execution_count": 101,
   "metadata": {},
   "outputs": [
    {
     "data": {
      "text/plain": [
       "676       SEDAN ROBOT 2.0\n",
       "676    SEDAN VARIATOR 1.8\n",
       "676                   NaN\n",
       "Name: vehicleConfiguration, dtype: object"
      ]
     },
     "execution_count": 101,
     "metadata": {},
     "output_type": "execute_result"
    }
   ],
   "source": [
    "train.vehicleConfiguration[676]"
   ]
  },
  {
   "cell_type": "code",
   "execution_count": 102,
   "metadata": {},
   "outputs": [
    {
     "data": {
      "text/html": [
       "<div>\n",
       "<style scoped>\n",
       "    .dataframe tbody tr th:only-of-type {\n",
       "        vertical-align: middle;\n",
       "    }\n",
       "\n",
       "    .dataframe tbody tr th {\n",
       "        vertical-align: top;\n",
       "    }\n",
       "\n",
       "    .dataframe thead th {\n",
       "        text-align: right;\n",
       "    }\n",
       "</style>\n",
       "<table border=\"1\" class=\"dataframe\">\n",
       "  <thead>\n",
       "    <tr style=\"text-align: right;\">\n",
       "      <th></th>\n",
       "      <th>bodyType</th>\n",
       "      <th>brand</th>\n",
       "      <th>car_url</th>\n",
       "      <th>color</th>\n",
       "      <th>complectation_dict</th>\n",
       "      <th>description</th>\n",
       "      <th>engineDisplacement</th>\n",
       "      <th>enginePower</th>\n",
       "      <th>equipment_dict</th>\n",
       "      <th>fuelType</th>\n",
       "      <th>...</th>\n",
       "      <th>Владение</th>\n",
       "      <th>ПТС</th>\n",
       "      <th>Привод</th>\n",
       "      <th>Руль</th>\n",
       "      <th>bodyType2</th>\n",
       "      <th>bT_length</th>\n",
       "      <th>brand_length</th>\n",
       "      <th>Nalog_base</th>\n",
       "      <th>log_power</th>\n",
       "      <th>Nalog</th>\n",
       "    </tr>\n",
       "  </thead>\n",
       "  <tbody>\n",
       "    <tr>\n",
       "      <th>16944</th>\n",
       "      <td>кабриолет</td>\n",
       "      <td>MERCEDES</td>\n",
       "      <td>https://auto.ru/cars/used/sale/mercedes/simple...</td>\n",
       "      <td>белый</td>\n",
       "      <td>NaN</td>\n",
       "      <td>на ходу. 1904 год. стоит в гараже, пылится.Кат...</td>\n",
       "      <td>5.3</td>\n",
       "      <td>32.0</td>\n",
       "      <td>NaN</td>\n",
       "      <td>бензин</td>\n",
       "      <td>...</td>\n",
       "      <td>6 лет и 8 месяцев</td>\n",
       "      <td>Оригинал</td>\n",
       "      <td>задний</td>\n",
       "      <td>Правый</td>\n",
       "      <td>other</td>\n",
       "      <td>9</td>\n",
       "      <td>8</td>\n",
       "      <td>5000</td>\n",
       "      <td>3.465736</td>\n",
       "      <td>160000.0</td>\n",
       "    </tr>\n",
       "  </tbody>\n",
       "</table>\n",
       "<p>1 rows × 35 columns</p>\n",
       "</div>"
      ],
      "text/plain": [
       "        bodyType     brand                                            car_url  \\\n",
       "16944  кабриолет  MERCEDES  https://auto.ru/cars/used/sale/mercedes/simple...   \n",
       "\n",
       "       color complectation_dict  \\\n",
       "16944  белый                NaN   \n",
       "\n",
       "                                             description engineDisplacement  \\\n",
       "16944  на ходу. 1904 год. стоит в гараже, пылится.Кат...                5.3   \n",
       "\n",
       "       enginePower equipment_dict fuelType  ...           Владение       ПТС  \\\n",
       "16944         32.0            NaN   бензин  ...  6 лет и 8 месяцев  Оригинал   \n",
       "\n",
       "       Привод    Руль bodyType2 bT_length  brand_length  Nalog_base  \\\n",
       "16944  задний  Правый     other         9             8        5000   \n",
       "\n",
       "       log_power     Nalog  \n",
       "16944   3.465736  160000.0  \n",
       "\n",
       "[1 rows x 35 columns]"
      ]
     },
     "execution_count": 102,
     "metadata": {},
     "output_type": "execute_result"
    }
   ],
   "source": [
    "test[test.numberOfDoors == 0] "
   ]
  },
  {
   "cell_type": "code",
   "execution_count": 103,
   "metadata": {},
   "outputs": [
    {
     "data": {
      "text/html": [
       "<div>\n",
       "<style scoped>\n",
       "    .dataframe tbody tr th:only-of-type {\n",
       "        vertical-align: middle;\n",
       "    }\n",
       "\n",
       "    .dataframe tbody tr th {\n",
       "        vertical-align: top;\n",
       "    }\n",
       "\n",
       "    .dataframe thead th {\n",
       "        text-align: right;\n",
       "    }\n",
       "</style>\n",
       "<table border=\"1\" class=\"dataframe\">\n",
       "  <thead>\n",
       "    <tr style=\"text-align: right;\">\n",
       "      <th></th>\n",
       "      <th>bodyType</th>\n",
       "      <th>brand</th>\n",
       "      <th>color</th>\n",
       "      <th>fuelType</th>\n",
       "      <th>modelDate</th>\n",
       "      <th>name</th>\n",
       "      <th>numberOfDoors</th>\n",
       "      <th>productionDate</th>\n",
       "      <th>vehicleConfiguration</th>\n",
       "      <th>vehicleTransmission</th>\n",
       "      <th>...</th>\n",
       "      <th>price_EUR</th>\n",
       "      <th>price_USD</th>\n",
       "      <th>mileageNAN</th>\n",
       "      <th>bodyType2</th>\n",
       "      <th>log_price</th>\n",
       "      <th>bT_length</th>\n",
       "      <th>brand_length</th>\n",
       "      <th>log_power</th>\n",
       "      <th>Nalog_base</th>\n",
       "      <th>Nalog</th>\n",
       "    </tr>\n",
       "  </thead>\n",
       "  <tbody>\n",
       "    <tr>\n",
       "      <th>88065</th>\n",
       "      <td>кабриолет</td>\n",
       "      <td>MERCEDES</td>\n",
       "      <td>белый</td>\n",
       "      <td>бензин</td>\n",
       "      <td>1904</td>\n",
       "      <td>5.3 MT (32 л.с.)</td>\n",
       "      <td>0</td>\n",
       "      <td>1904</td>\n",
       "      <td>CABRIO MECHANICAL 5.3</td>\n",
       "      <td>механическая</td>\n",
       "      <td>...</td>\n",
       "      <td>NaN</td>\n",
       "      <td>NaN</td>\n",
       "      <td>0</td>\n",
       "      <td>other</td>\n",
       "      <td>16.300417</td>\n",
       "      <td>9</td>\n",
       "      <td>8</td>\n",
       "      <td>3.465736</td>\n",
       "      <td>5000</td>\n",
       "      <td>160000</td>\n",
       "    </tr>\n",
       "    <tr>\n",
       "      <th>76332</th>\n",
       "      <td>кабриолет</td>\n",
       "      <td>MERCEDES</td>\n",
       "      <td>белый</td>\n",
       "      <td>бензин</td>\n",
       "      <td>1904</td>\n",
       "      <td>5.3 MT (32 л.с.)</td>\n",
       "      <td>0</td>\n",
       "      <td>1904</td>\n",
       "      <td>CABRIO MECHANICAL 5.3</td>\n",
       "      <td>механическая</td>\n",
       "      <td>...</td>\n",
       "      <td>131403.0</td>\n",
       "      <td>155187.0</td>\n",
       "      <td>0</td>\n",
       "      <td>other</td>\n",
       "      <td>16.300417</td>\n",
       "      <td>9</td>\n",
       "      <td>8</td>\n",
       "      <td>3.465736</td>\n",
       "      <td>5000</td>\n",
       "      <td>160000</td>\n",
       "    </tr>\n",
       "  </tbody>\n",
       "</table>\n",
       "<p>2 rows × 42 columns</p>\n",
       "</div>"
      ],
      "text/plain": [
       "        bodyType     brand  color fuelType  modelDate              name  \\\n",
       "88065  кабриолет  MERCEDES  белый   бензин       1904  5.3 MT (32 л.с.)   \n",
       "76332  кабриолет  MERCEDES  белый   бензин       1904  5.3 MT (32 л.с.)   \n",
       "\n",
       "       numberOfDoors  productionDate   vehicleConfiguration  \\\n",
       "88065              0            1904  CABRIO MECHANICAL 5.3   \n",
       "76332              0            1904  CABRIO MECHANICAL 5.3   \n",
       "\n",
       "      vehicleTransmission  ...  price_EUR  price_USD mileageNAN  bodyType2  \\\n",
       "88065        механическая  ...        NaN        NaN          0      other   \n",
       "76332        механическая  ...   131403.0   155187.0          0      other   \n",
       "\n",
       "       log_price bT_length brand_length log_power Nalog_base   Nalog  \n",
       "88065  16.300417         9            8  3.465736       5000  160000  \n",
       "76332  16.300417         9            8  3.465736       5000  160000  \n",
       "\n",
       "[2 rows x 42 columns]"
      ]
     },
     "execution_count": 103,
     "metadata": {},
     "output_type": "execute_result"
    }
   ],
   "source": [
    "train[train.numberOfDoors == 0]"
   ]
  },
  {
   "cell_type": "code",
   "execution_count": 104,
   "metadata": {},
   "outputs": [
    {
     "data": {
      "image/png": "[encoded data removed]",
      "text/plain": [
       "<Figure size 576x360 with 1 Axes>"
      ]
     },
     "metadata": {
      "needs_background": "light"
     },
     "output_type": "display_data"
    }
   ],
   "source": [
    "plt.figure(figsize=(8, 5))\n",
    "g1 = sns.boxplot(y='log_price', x='numberOfDoors', \n",
    "                  data=train, color='darkgreen')\n",
    "g1.set_title(\"price of numberOfDoors\", fontsize=20)\n",
    "\n",
    "g1.set_ylabel(\"log_price\", fontsize=15)\n",
    "g1.set_xticklabels(g1.get_xticklabels(),rotation=45)\n",
    "plt.show()"
   ]
  },
  {
   "cell_type": "code",
   "execution_count": 105,
   "metadata": {},
   "outputs": [
    {
     "data": {
      "text/html": [
       "<div>\n",
       "<style scoped>\n",
       "    .dataframe tbody tr th:only-of-type {\n",
       "        vertical-align: middle;\n",
       "    }\n",
       "\n",
       "    .dataframe tbody tr th {\n",
       "        vertical-align: top;\n",
       "    }\n",
       "\n",
       "    .dataframe thead th {\n",
       "        text-align: right;\n",
       "    }\n",
       "</style>\n",
       "<table border=\"1\" class=\"dataframe\">\n",
       "  <thead>\n",
       "    <tr style=\"text-align: right;\">\n",
       "      <th></th>\n",
       "      <th>color</th>\n",
       "    </tr>\n",
       "  </thead>\n",
       "  <tbody>\n",
       "    <tr>\n",
       "      <th>черный</th>\n",
       "      <td>45447</td>\n",
       "    </tr>\n",
       "    <tr>\n",
       "      <th>белый</th>\n",
       "      <td>33726</td>\n",
       "    </tr>\n",
       "    <tr>\n",
       "      <th>серый</th>\n",
       "      <td>23262</td>\n",
       "    </tr>\n",
       "    <tr>\n",
       "      <th>серебристый</th>\n",
       "      <td>22608</td>\n",
       "    </tr>\n",
       "    <tr>\n",
       "      <th>синий</th>\n",
       "      <td>19346</td>\n",
       "    </tr>\n",
       "    <tr>\n",
       "      <th>красный</th>\n",
       "      <td>9649</td>\n",
       "    </tr>\n",
       "    <tr>\n",
       "      <th>чёрный</th>\n",
       "      <td>9198</td>\n",
       "    </tr>\n",
       "    <tr>\n",
       "      <th>бордовый</th>\n",
       "      <td>6582</td>\n",
       "    </tr>\n",
       "    <tr>\n",
       "      <th>зелёный</th>\n",
       "      <td>5357</td>\n",
       "    </tr>\n",
       "    <tr>\n",
       "      <th>коричневый</th>\n",
       "      <td>4597</td>\n",
       "    </tr>\n",
       "    <tr>\n",
       "      <th>голубой</th>\n",
       "      <td>2791</td>\n",
       "    </tr>\n",
       "    <tr>\n",
       "      <th>золотистый</th>\n",
       "      <td>1445</td>\n",
       "    </tr>\n",
       "    <tr>\n",
       "      <th>пурпурный</th>\n",
       "      <td>1424</td>\n",
       "    </tr>\n",
       "    <tr>\n",
       "      <th>жёлтый</th>\n",
       "      <td>1387</td>\n",
       "    </tr>\n",
       "    <tr>\n",
       "      <th>бежевый</th>\n",
       "      <td>1382</td>\n",
       "    </tr>\n",
       "    <tr>\n",
       "      <th>фиолетовый</th>\n",
       "      <td>1119</td>\n",
       "    </tr>\n",
       "    <tr>\n",
       "      <th>оранжевый</th>\n",
       "      <td>83</td>\n",
       "    </tr>\n",
       "    <tr>\n",
       "      <th>розовый</th>\n",
       "      <td>47</td>\n",
       "    </tr>\n",
       "  </tbody>\n",
       "</table>\n",
       "</div>"
      ],
      "text/plain": [
       "             color\n",
       "черный       45447\n",
       "белый        33726\n",
       "серый        23262\n",
       "серебристый  22608\n",
       "синий        19346\n",
       "красный       9649\n",
       "чёрный        9198\n",
       "бордовый      6582\n",
       "зелёный       5357\n",
       "коричневый    4597\n",
       "голубой       2791\n",
       "золотистый    1445\n",
       "пурпурный     1424\n",
       "жёлтый        1387\n",
       "бежевый       1382\n",
       "фиолетовый    1119\n",
       "оранжевый       83\n",
       "розовый         47"
      ]
     },
     "metadata": {},
     "output_type": "display_data"
    }
   ],
   "source": [
    "display(pd.DataFrame(train.color.value_counts()))"
   ]
  },
  {
   "cell_type": "code",
   "execution_count": 106,
   "metadata": {},
   "outputs": [
    {
     "data": {
      "image/png": "[encoded data removed]",
      "text/plain": [
       "<Figure size 576x360 with 1 Axes>"
      ]
     },
     "metadata": {
      "needs_background": "light"
     },
     "output_type": "display_data"
    }
   ],
   "source": [
    "plt.figure(figsize=(8, 5))\n",
    "g1 = sns.boxplot(y='log_price', x='color', \n",
    "                  data=train, color='darkgreen')\n",
    "g1.set_title(\"price of colors\", fontsize=20)\n",
    "\n",
    "g1.set_ylabel(\"log_price\", fontsize=15)\n",
    "g1.set_xticklabels(g1.get_xticklabels(),rotation=45)\n",
    "plt.show()"
   ]
  },
  {
   "cell_type": "code",
   "execution_count": 107,
   "metadata": {},
   "outputs": [],
   "source": [
    "train['years_old'] = 2021 - train['productionDate']\n",
    "test['years_old'] = 2021 - test['productionDate']"
   ]
  },
  {
   "cell_type": "code",
   "execution_count": 108,
   "metadata": {},
   "outputs": [
    {
     "data": {
      "text/plain": [
       "<AxesSubplot:>"
      ]
     },
     "execution_count": 108,
     "metadata": {},
     "output_type": "execute_result"
    },
    {
     "data": {
      "image/png": "[encoded data removed]",
      "text/plain": [
       "<Figure size 432x288 with 1 Axes>"
      ]
     },
     "metadata": {
      "needs_background": "light"
     },
     "output_type": "display_data"
    }
   ],
   "source": [
    "train.boxplot(column=['productionDate'])\n"
   ]
  },
  {
   "cell_type": "code",
   "execution_count": 109,
   "metadata": {},
   "outputs": [
    {
     "data": {
      "text/html": [
       "<div>\n",
       "<style scoped>\n",
       "    .dataframe tbody tr th:only-of-type {\n",
       "        vertical-align: middle;\n",
       "    }\n",
       "\n",
       "    .dataframe tbody tr th {\n",
       "        vertical-align: top;\n",
       "    }\n",
       "\n",
       "    .dataframe thead th {\n",
       "        text-align: right;\n",
       "    }\n",
       "</style>\n",
       "<table border=\"1\" class=\"dataframe\">\n",
       "  <thead>\n",
       "    <tr style=\"text-align: right;\">\n",
       "      <th></th>\n",
       "      <th>bodyType</th>\n",
       "      <th>brand</th>\n",
       "      <th>color</th>\n",
       "      <th>fuelType</th>\n",
       "      <th>modelDate</th>\n",
       "      <th>name</th>\n",
       "      <th>numberOfDoors</th>\n",
       "      <th>productionDate</th>\n",
       "      <th>vehicleConfiguration</th>\n",
       "      <th>vehicleTransmission</th>\n",
       "      <th>...</th>\n",
       "      <th>price_USD</th>\n",
       "      <th>mileageNAN</th>\n",
       "      <th>bodyType2</th>\n",
       "      <th>log_price</th>\n",
       "      <th>bT_length</th>\n",
       "      <th>brand_length</th>\n",
       "      <th>log_power</th>\n",
       "      <th>Nalog_base</th>\n",
       "      <th>Nalog</th>\n",
       "      <th>years_old</th>\n",
       "    </tr>\n",
       "  </thead>\n",
       "  <tbody>\n",
       "    <tr>\n",
       "      <th>303</th>\n",
       "      <td>седан</td>\n",
       "      <td>AUDI</td>\n",
       "      <td>черный</td>\n",
       "      <td>бензин</td>\n",
       "      <td>1938</td>\n",
       "      <td>3.3 MT (75 л.с.)</td>\n",
       "      <td>4</td>\n",
       "      <td>1938</td>\n",
       "      <td>SEDAN MECHANICAL 3.3</td>\n",
       "      <td>механическая</td>\n",
       "      <td>...</td>\n",
       "      <td>NaN</td>\n",
       "      <td>0</td>\n",
       "      <td>седан</td>\n",
       "      <td>14.508657</td>\n",
       "      <td>5</td>\n",
       "      <td>4</td>\n",
       "      <td>4.317488</td>\n",
       "      <td>12</td>\n",
       "      <td>900</td>\n",
       "      <td>83</td>\n",
       "    </tr>\n",
       "    <tr>\n",
       "      <th>5862</th>\n",
       "      <td>седан 2 дв.</td>\n",
       "      <td>BMW</td>\n",
       "      <td>белый</td>\n",
       "      <td>бензин</td>\n",
       "      <td>1937</td>\n",
       "      <td>2.0 MT (46 л.с.)</td>\n",
       "      <td>2</td>\n",
       "      <td>1937</td>\n",
       "      <td>SEDAN_2_DOORS MECHANICAL 2.0</td>\n",
       "      <td>механическая</td>\n",
       "      <td>...</td>\n",
       "      <td>NaN</td>\n",
       "      <td>0</td>\n",
       "      <td>other</td>\n",
       "      <td>13.815511</td>\n",
       "      <td>11</td>\n",
       "      <td>3</td>\n",
       "      <td>3.828641</td>\n",
       "      <td>12</td>\n",
       "      <td>552</td>\n",
       "      <td>84</td>\n",
       "    </tr>\n",
       "    <tr>\n",
       "      <th>5865</th>\n",
       "      <td>седан 2 дв.</td>\n",
       "      <td>BMW</td>\n",
       "      <td>черный</td>\n",
       "      <td>бензин</td>\n",
       "      <td>1937</td>\n",
       "      <td>2.0 MT (46 л.с.)</td>\n",
       "      <td>2</td>\n",
       "      <td>1937</td>\n",
       "      <td>SEDAN_2_DOORS MECHANICAL 2.0</td>\n",
       "      <td>механическая</td>\n",
       "      <td>...</td>\n",
       "      <td>NaN</td>\n",
       "      <td>0</td>\n",
       "      <td>other</td>\n",
       "      <td>14.508657</td>\n",
       "      <td>11</td>\n",
       "      <td>3</td>\n",
       "      <td>3.828641</td>\n",
       "      <td>12</td>\n",
       "      <td>552</td>\n",
       "      <td>84</td>\n",
       "    </tr>\n",
       "    <tr>\n",
       "      <th>5866</th>\n",
       "      <td>седан</td>\n",
       "      <td>BMW</td>\n",
       "      <td>коричневый</td>\n",
       "      <td>бензин</td>\n",
       "      <td>1936</td>\n",
       "      <td>2.0 MT (51 л.с.)</td>\n",
       "      <td>4</td>\n",
       "      <td>1938</td>\n",
       "      <td>SEDAN MECHANICAL 2.0</td>\n",
       "      <td>механическая</td>\n",
       "      <td>...</td>\n",
       "      <td>NaN</td>\n",
       "      <td>0</td>\n",
       "      <td>седан</td>\n",
       "      <td>12.994530</td>\n",
       "      <td>5</td>\n",
       "      <td>3</td>\n",
       "      <td>3.931826</td>\n",
       "      <td>12</td>\n",
       "      <td>612</td>\n",
       "      <td>83</td>\n",
       "    </tr>\n",
       "    <tr>\n",
       "      <th>5867</th>\n",
       "      <td>седан</td>\n",
       "      <td>BMW</td>\n",
       "      <td>коричневый</td>\n",
       "      <td>бензин</td>\n",
       "      <td>1936</td>\n",
       "      <td>2.0 MT (51 л.с.)</td>\n",
       "      <td>4</td>\n",
       "      <td>1937</td>\n",
       "      <td>SEDAN MECHANICAL 2.0</td>\n",
       "      <td>механическая</td>\n",
       "      <td>...</td>\n",
       "      <td>NaN</td>\n",
       "      <td>0</td>\n",
       "      <td>седан</td>\n",
       "      <td>14.346139</td>\n",
       "      <td>5</td>\n",
       "      <td>3</td>\n",
       "      <td>3.931826</td>\n",
       "      <td>12</td>\n",
       "      <td>612</td>\n",
       "      <td>84</td>\n",
       "    </tr>\n",
       "    <tr>\n",
       "      <th>22688</th>\n",
       "      <td>хэтчбек 3 дв.</td>\n",
       "      <td>otherBrand</td>\n",
       "      <td>пурпурный</td>\n",
       "      <td>бензин</td>\n",
       "      <td>1927</td>\n",
       "      <td>3.3 MT (40 л.с.)</td>\n",
       "      <td>3</td>\n",
       "      <td>1931</td>\n",
       "      <td>HATCHBACK_3_DOORS MECHANICAL 3.3</td>\n",
       "      <td>механическая</td>\n",
       "      <td>...</td>\n",
       "      <td>NaN</td>\n",
       "      <td>0</td>\n",
       "      <td>хэтчбек 3 дв.</td>\n",
       "      <td>15.363884</td>\n",
       "      <td>13</td>\n",
       "      <td>10</td>\n",
       "      <td>3.688879</td>\n",
       "      <td>12</td>\n",
       "      <td>480</td>\n",
       "      <td>90</td>\n",
       "    </tr>\n",
       "    <tr>\n",
       "      <th>22689</th>\n",
       "      <td>хэтчбек 3 дв.</td>\n",
       "      <td>otherBrand</td>\n",
       "      <td>синий</td>\n",
       "      <td>бензин</td>\n",
       "      <td>1927</td>\n",
       "      <td>3.3 MT (40 л.с.)</td>\n",
       "      <td>3</td>\n",
       "      <td>1927</td>\n",
       "      <td>HATCHBACK_3_DOORS MECHANICAL 3.3</td>\n",
       "      <td>механическая</td>\n",
       "      <td>...</td>\n",
       "      <td>NaN</td>\n",
       "      <td>0</td>\n",
       "      <td>хэтчбек 3 дв.</td>\n",
       "      <td>15.319588</td>\n",
       "      <td>13</td>\n",
       "      <td>10</td>\n",
       "      <td>3.688879</td>\n",
       "      <td>12</td>\n",
       "      <td>480</td>\n",
       "      <td>94</td>\n",
       "    </tr>\n",
       "    <tr>\n",
       "      <th>22690</th>\n",
       "      <td>хэтчбек 3 дв.</td>\n",
       "      <td>otherBrand</td>\n",
       "      <td>черный</td>\n",
       "      <td>бензин</td>\n",
       "      <td>1927</td>\n",
       "      <td>3.3 MT (40 л.с.)</td>\n",
       "      <td>3</td>\n",
       "      <td>1927</td>\n",
       "      <td>HATCHBACK_3_DOORS MECHANICAL 3.3</td>\n",
       "      <td>механическая</td>\n",
       "      <td>...</td>\n",
       "      <td>NaN</td>\n",
       "      <td>0</td>\n",
       "      <td>хэтчбек 3 дв.</td>\n",
       "      <td>14.808763</td>\n",
       "      <td>13</td>\n",
       "      <td>10</td>\n",
       "      <td>3.688879</td>\n",
       "      <td>12</td>\n",
       "      <td>480</td>\n",
       "      <td>94</td>\n",
       "    </tr>\n",
       "    <tr>\n",
       "      <th>22691</th>\n",
       "      <td>кабриолет</td>\n",
       "      <td>otherBrand</td>\n",
       "      <td>зелёный</td>\n",
       "      <td>бензин</td>\n",
       "      <td>1908</td>\n",
       "      <td>2.9 MT (20 л.с.)</td>\n",
       "      <td>2</td>\n",
       "      <td>1923</td>\n",
       "      <td>CABRIO MECHANICAL 2.9</td>\n",
       "      <td>механическая</td>\n",
       "      <td>...</td>\n",
       "      <td>NaN</td>\n",
       "      <td>0</td>\n",
       "      <td>other</td>\n",
       "      <td>15.150512</td>\n",
       "      <td>9</td>\n",
       "      <td>10</td>\n",
       "      <td>2.995732</td>\n",
       "      <td>5000</td>\n",
       "      <td>100000</td>\n",
       "      <td>98</td>\n",
       "    </tr>\n",
       "    <tr>\n",
       "      <th>22692</th>\n",
       "      <td>кабриолет</td>\n",
       "      <td>otherBrand</td>\n",
       "      <td>черный</td>\n",
       "      <td>бензин</td>\n",
       "      <td>1908</td>\n",
       "      <td>2.9 MT (20 л.с.)</td>\n",
       "      <td>2</td>\n",
       "      <td>1924</td>\n",
       "      <td>CABRIO MECHANICAL 2.9</td>\n",
       "      <td>механическая</td>\n",
       "      <td>...</td>\n",
       "      <td>NaN</td>\n",
       "      <td>0</td>\n",
       "      <td>other</td>\n",
       "      <td>14.914123</td>\n",
       "      <td>9</td>\n",
       "      <td>10</td>\n",
       "      <td>2.995732</td>\n",
       "      <td>5000</td>\n",
       "      <td>100000</td>\n",
       "      <td>97</td>\n",
       "    </tr>\n",
       "    <tr>\n",
       "      <th>23716</th>\n",
       "      <td>седан</td>\n",
       "      <td>otherBrand</td>\n",
       "      <td>черный</td>\n",
       "      <td>бензин</td>\n",
       "      <td>1932</td>\n",
       "      <td>3.6 MT (66 л.с.)</td>\n",
       "      <td>2</td>\n",
       "      <td>1932</td>\n",
       "      <td>SEDAN MECHANICAL 3.6</td>\n",
       "      <td>механическая</td>\n",
       "      <td>...</td>\n",
       "      <td>NaN</td>\n",
       "      <td>0</td>\n",
       "      <td>седан</td>\n",
       "      <td>14.808763</td>\n",
       "      <td>5</td>\n",
       "      <td>10</td>\n",
       "      <td>4.189655</td>\n",
       "      <td>12</td>\n",
       "      <td>792</td>\n",
       "      <td>89</td>\n",
       "    </tr>\n",
       "    <tr>\n",
       "      <th>23717</th>\n",
       "      <td>седан</td>\n",
       "      <td>otherBrand</td>\n",
       "      <td>черный</td>\n",
       "      <td>бензин</td>\n",
       "      <td>1932</td>\n",
       "      <td>3.6 MT (66 л.с.)</td>\n",
       "      <td>2</td>\n",
       "      <td>1932</td>\n",
       "      <td>SEDAN MECHANICAL 3.6</td>\n",
       "      <td>механическая</td>\n",
       "      <td>...</td>\n",
       "      <td>NaN</td>\n",
       "      <td>0</td>\n",
       "      <td>седан</td>\n",
       "      <td>13.081541</td>\n",
       "      <td>5</td>\n",
       "      <td>10</td>\n",
       "      <td>4.189655</td>\n",
       "      <td>12</td>\n",
       "      <td>792</td>\n",
       "      <td>89</td>\n",
       "    </tr>\n",
       "    <tr>\n",
       "      <th>23718</th>\n",
       "      <td>фастбек</td>\n",
       "      <td>otherBrand</td>\n",
       "      <td>черный</td>\n",
       "      <td>бензин</td>\n",
       "      <td>1938</td>\n",
       "      <td>3.6 MT (85 л.с.)</td>\n",
       "      <td>4</td>\n",
       "      <td>1939</td>\n",
       "      <td>FASTBACK MECHANICAL 3.6</td>\n",
       "      <td>механическая</td>\n",
       "      <td>...</td>\n",
       "      <td>NaN</td>\n",
       "      <td>0</td>\n",
       "      <td>other</td>\n",
       "      <td>15.573368</td>\n",
       "      <td>7</td>\n",
       "      <td>10</td>\n",
       "      <td>4.442651</td>\n",
       "      <td>12</td>\n",
       "      <td>1020</td>\n",
       "      <td>82</td>\n",
       "    </tr>\n",
       "    <tr>\n",
       "      <th>51779</th>\n",
       "      <td>седан</td>\n",
       "      <td>otherBrand</td>\n",
       "      <td>белый</td>\n",
       "      <td>бензин</td>\n",
       "      <td>1937</td>\n",
       "      <td>3.6 MT (86 л.с.)</td>\n",
       "      <td>4</td>\n",
       "      <td>1939</td>\n",
       "      <td>SEDAN MECHANICAL 3.6</td>\n",
       "      <td>механическая</td>\n",
       "      <td>...</td>\n",
       "      <td>NaN</td>\n",
       "      <td>0</td>\n",
       "      <td>седан</td>\n",
       "      <td>14.731801</td>\n",
       "      <td>5</td>\n",
       "      <td>10</td>\n",
       "      <td>4.454347</td>\n",
       "      <td>12</td>\n",
       "      <td>1032</td>\n",
       "      <td>82</td>\n",
       "    </tr>\n",
       "    <tr>\n",
       "      <th>54300</th>\n",
       "      <td>седан</td>\n",
       "      <td>otherBrand</td>\n",
       "      <td>коричневый</td>\n",
       "      <td>бензин</td>\n",
       "      <td>1935</td>\n",
       "      <td>1.5 MT (44 л.с.)</td>\n",
       "      <td>2</td>\n",
       "      <td>1938</td>\n",
       "      <td>SEDAN MECHANICAL 1.5</td>\n",
       "      <td>механическая</td>\n",
       "      <td>...</td>\n",
       "      <td>NaN</td>\n",
       "      <td>0</td>\n",
       "      <td>седан</td>\n",
       "      <td>14.220976</td>\n",
       "      <td>5</td>\n",
       "      <td>10</td>\n",
       "      <td>3.784190</td>\n",
       "      <td>12</td>\n",
       "      <td>528</td>\n",
       "      <td>83</td>\n",
       "    </tr>\n",
       "    <tr>\n",
       "      <th>54401</th>\n",
       "      <td>седан</td>\n",
       "      <td>otherBrand</td>\n",
       "      <td>серый</td>\n",
       "      <td>бензин</td>\n",
       "      <td>1936</td>\n",
       "      <td>2.5 MT (40 л.с.)</td>\n",
       "      <td>4</td>\n",
       "      <td>1937</td>\n",
       "      <td>SEDAN MECHANICAL 2.5</td>\n",
       "      <td>механическая</td>\n",
       "      <td>...</td>\n",
       "      <td>NaN</td>\n",
       "      <td>0</td>\n",
       "      <td>седан</td>\n",
       "      <td>12.254863</td>\n",
       "      <td>5</td>\n",
       "      <td>10</td>\n",
       "      <td>3.688879</td>\n",
       "      <td>12</td>\n",
       "      <td>480</td>\n",
       "      <td>84</td>\n",
       "    </tr>\n",
       "    <tr>\n",
       "      <th>54402</th>\n",
       "      <td>седан</td>\n",
       "      <td>otherBrand</td>\n",
       "      <td>черный</td>\n",
       "      <td>бензин</td>\n",
       "      <td>1936</td>\n",
       "      <td>2.5 MT (40 л.с.)</td>\n",
       "      <td>4</td>\n",
       "      <td>1938</td>\n",
       "      <td>SEDAN MECHANICAL 2.5</td>\n",
       "      <td>механическая</td>\n",
       "      <td>...</td>\n",
       "      <td>NaN</td>\n",
       "      <td>0</td>\n",
       "      <td>седан</td>\n",
       "      <td>11.813030</td>\n",
       "      <td>5</td>\n",
       "      <td>10</td>\n",
       "      <td>3.688879</td>\n",
       "      <td>12</td>\n",
       "      <td>480</td>\n",
       "      <td>83</td>\n",
       "    </tr>\n",
       "    <tr>\n",
       "      <th>61846</th>\n",
       "      <td>хэтчбек 3 дв.</td>\n",
       "      <td>SKODA</td>\n",
       "      <td>черный</td>\n",
       "      <td>бензин</td>\n",
       "      <td>1934</td>\n",
       "      <td>1.1 MT (30 л.с.)</td>\n",
       "      <td>3</td>\n",
       "      <td>1939</td>\n",
       "      <td>HATCHBACK_3_DOORS MECHANICAL 1.1</td>\n",
       "      <td>механическая</td>\n",
       "      <td>...</td>\n",
       "      <td>NaN</td>\n",
       "      <td>0</td>\n",
       "      <td>хэтчбек 3 дв.</td>\n",
       "      <td>12.611538</td>\n",
       "      <td>13</td>\n",
       "      <td>5</td>\n",
       "      <td>3.401197</td>\n",
       "      <td>5000</td>\n",
       "      <td>150000</td>\n",
       "      <td>82</td>\n",
       "    </tr>\n",
       "    <tr>\n",
       "      <th>88065</th>\n",
       "      <td>кабриолет</td>\n",
       "      <td>MERCEDES</td>\n",
       "      <td>белый</td>\n",
       "      <td>бензин</td>\n",
       "      <td>1904</td>\n",
       "      <td>5.3 MT (32 л.с.)</td>\n",
       "      <td>0</td>\n",
       "      <td>1904</td>\n",
       "      <td>CABRIO MECHANICAL 5.3</td>\n",
       "      <td>механическая</td>\n",
       "      <td>...</td>\n",
       "      <td>NaN</td>\n",
       "      <td>0</td>\n",
       "      <td>other</td>\n",
       "      <td>16.300417</td>\n",
       "      <td>9</td>\n",
       "      <td>8</td>\n",
       "      <td>3.465736</td>\n",
       "      <td>5000</td>\n",
       "      <td>160000</td>\n",
       "      <td>117</td>\n",
       "    </tr>\n",
       "    <tr>\n",
       "      <th>88652</th>\n",
       "      <td>седан</td>\n",
       "      <td>MERCEDES</td>\n",
       "      <td>красный</td>\n",
       "      <td>бензин</td>\n",
       "      <td>1936</td>\n",
       "      <td>1.7 MT (38 л.с.)</td>\n",
       "      <td>4</td>\n",
       "      <td>1936</td>\n",
       "      <td>SEDAN MECHANICAL 1.7</td>\n",
       "      <td>механическая</td>\n",
       "      <td>...</td>\n",
       "      <td>NaN</td>\n",
       "      <td>0</td>\n",
       "      <td>седан</td>\n",
       "      <td>17.370859</td>\n",
       "      <td>5</td>\n",
       "      <td>8</td>\n",
       "      <td>3.637586</td>\n",
       "      <td>12</td>\n",
       "      <td>456</td>\n",
       "      <td>85</td>\n",
       "    </tr>\n",
       "    <tr>\n",
       "      <th>88653</th>\n",
       "      <td>седан</td>\n",
       "      <td>MERCEDES</td>\n",
       "      <td>черный</td>\n",
       "      <td>бензин</td>\n",
       "      <td>1936</td>\n",
       "      <td>1.7 MT (38 л.с.)</td>\n",
       "      <td>4</td>\n",
       "      <td>1938</td>\n",
       "      <td>SEDAN MECHANICAL 1.7</td>\n",
       "      <td>механическая</td>\n",
       "      <td>...</td>\n",
       "      <td>NaN</td>\n",
       "      <td>0</td>\n",
       "      <td>седан</td>\n",
       "      <td>14.648419</td>\n",
       "      <td>5</td>\n",
       "      <td>8</td>\n",
       "      <td>3.637586</td>\n",
       "      <td>12</td>\n",
       "      <td>456</td>\n",
       "      <td>83</td>\n",
       "    </tr>\n",
       "    <tr>\n",
       "      <th>264</th>\n",
       "      <td>седан</td>\n",
       "      <td>AUDI</td>\n",
       "      <td>черный</td>\n",
       "      <td>бензин</td>\n",
       "      <td>1938</td>\n",
       "      <td>3.3 MT (75 л.с.)</td>\n",
       "      <td>4</td>\n",
       "      <td>1938</td>\n",
       "      <td>SEDAN MECHANICAL 3.3</td>\n",
       "      <td>механическая</td>\n",
       "      <td>...</td>\n",
       "      <td>25864.0</td>\n",
       "      <td>0</td>\n",
       "      <td>седан</td>\n",
       "      <td>14.508657</td>\n",
       "      <td>5</td>\n",
       "      <td>4</td>\n",
       "      <td>4.317488</td>\n",
       "      <td>12</td>\n",
       "      <td>900</td>\n",
       "      <td>83</td>\n",
       "    </tr>\n",
       "    <tr>\n",
       "      <th>5178</th>\n",
       "      <td>седан</td>\n",
       "      <td>BMW</td>\n",
       "      <td>коричневый</td>\n",
       "      <td>бензин</td>\n",
       "      <td>1936</td>\n",
       "      <td>2.0 MT (51 л.с.)</td>\n",
       "      <td>4</td>\n",
       "      <td>1937</td>\n",
       "      <td>SEDAN MECHANICAL 2.0</td>\n",
       "      <td>механическая</td>\n",
       "      <td>...</td>\n",
       "      <td>21985.0</td>\n",
       "      <td>0</td>\n",
       "      <td>седан</td>\n",
       "      <td>14.346139</td>\n",
       "      <td>5</td>\n",
       "      <td>3</td>\n",
       "      <td>3.931826</td>\n",
       "      <td>12</td>\n",
       "      <td>612</td>\n",
       "      <td>84</td>\n",
       "    </tr>\n",
       "    <tr>\n",
       "      <th>18893</th>\n",
       "      <td>хэтчбек 3 дв.</td>\n",
       "      <td>otherBrand</td>\n",
       "      <td>коричневый</td>\n",
       "      <td>бензин</td>\n",
       "      <td>1927</td>\n",
       "      <td>3.3 MT (40 л.с.)</td>\n",
       "      <td>3</td>\n",
       "      <td>1928</td>\n",
       "      <td>HATCHBACK_3_DOORS MECHANICAL 3.3</td>\n",
       "      <td>механическая</td>\n",
       "      <td>...</td>\n",
       "      <td>43323.0</td>\n",
       "      <td>0</td>\n",
       "      <td>хэтчбек 3 дв.</td>\n",
       "      <td>15.024471</td>\n",
       "      <td>13</td>\n",
       "      <td>10</td>\n",
       "      <td>3.688879</td>\n",
       "      <td>12</td>\n",
       "      <td>480</td>\n",
       "      <td>93</td>\n",
       "    </tr>\n",
       "    <tr>\n",
       "      <th>18894</th>\n",
       "      <td>хэтчбек 3 дв.</td>\n",
       "      <td>otherBrand</td>\n",
       "      <td>синий</td>\n",
       "      <td>бензин</td>\n",
       "      <td>1927</td>\n",
       "      <td>3.3 MT (40 л.с.)</td>\n",
       "      <td>3</td>\n",
       "      <td>1927</td>\n",
       "      <td>HATCHBACK_3_DOORS MECHANICAL 3.3</td>\n",
       "      <td>механическая</td>\n",
       "      <td>...</td>\n",
       "      <td>51082.0</td>\n",
       "      <td>0</td>\n",
       "      <td>хэтчбек 3 дв.</td>\n",
       "      <td>15.189226</td>\n",
       "      <td>13</td>\n",
       "      <td>10</td>\n",
       "      <td>3.688879</td>\n",
       "      <td>12</td>\n",
       "      <td>480</td>\n",
       "      <td>94</td>\n",
       "    </tr>\n",
       "    <tr>\n",
       "      <th>18895</th>\n",
       "      <td>кабриолет</td>\n",
       "      <td>otherBrand</td>\n",
       "      <td>зелёный</td>\n",
       "      <td>бензин</td>\n",
       "      <td>1908</td>\n",
       "      <td>2.9 MT (20 л.с.)</td>\n",
       "      <td>2</td>\n",
       "      <td>1923</td>\n",
       "      <td>CABRIO MECHANICAL 2.9</td>\n",
       "      <td>механическая</td>\n",
       "      <td>...</td>\n",
       "      <td>49142.0</td>\n",
       "      <td>0</td>\n",
       "      <td>other</td>\n",
       "      <td>15.150512</td>\n",
       "      <td>9</td>\n",
       "      <td>10</td>\n",
       "      <td>2.995732</td>\n",
       "      <td>5000</td>\n",
       "      <td>100000</td>\n",
       "      <td>98</td>\n",
       "    </tr>\n",
       "    <tr>\n",
       "      <th>19678</th>\n",
       "      <td>седан</td>\n",
       "      <td>otherBrand</td>\n",
       "      <td>черный</td>\n",
       "      <td>бензин</td>\n",
       "      <td>1932</td>\n",
       "      <td>3.6 MT (66 л.с.)</td>\n",
       "      <td>2</td>\n",
       "      <td>1932</td>\n",
       "      <td>SEDAN MECHANICAL 3.6</td>\n",
       "      <td>механическая</td>\n",
       "      <td>...</td>\n",
       "      <td>34917.0</td>\n",
       "      <td>0</td>\n",
       "      <td>седан</td>\n",
       "      <td>14.808763</td>\n",
       "      <td>5</td>\n",
       "      <td>10</td>\n",
       "      <td>4.189655</td>\n",
       "      <td>12</td>\n",
       "      <td>792</td>\n",
       "      <td>89</td>\n",
       "    </tr>\n",
       "    <tr>\n",
       "      <th>19679</th>\n",
       "      <td>седан</td>\n",
       "      <td>otherBrand</td>\n",
       "      <td>черный</td>\n",
       "      <td>бензин</td>\n",
       "      <td>1932</td>\n",
       "      <td>3.6 MT (66 л.с.)</td>\n",
       "      <td>2</td>\n",
       "      <td>1932</td>\n",
       "      <td>SEDAN MECHANICAL 3.6</td>\n",
       "      <td>механическая</td>\n",
       "      <td>...</td>\n",
       "      <td>6207.0</td>\n",
       "      <td>0</td>\n",
       "      <td>седан</td>\n",
       "      <td>13.081541</td>\n",
       "      <td>5</td>\n",
       "      <td>10</td>\n",
       "      <td>4.189655</td>\n",
       "      <td>12</td>\n",
       "      <td>792</td>\n",
       "      <td>89</td>\n",
       "    </tr>\n",
       "    <tr>\n",
       "      <th>19680</th>\n",
       "      <td>фастбек</td>\n",
       "      <td>otherBrand</td>\n",
       "      <td>черный</td>\n",
       "      <td>бензин</td>\n",
       "      <td>1938</td>\n",
       "      <td>3.6 MT (85 л.с.)</td>\n",
       "      <td>4</td>\n",
       "      <td>1939</td>\n",
       "      <td>FASTBACK MECHANICAL 3.6</td>\n",
       "      <td>механическая</td>\n",
       "      <td>...</td>\n",
       "      <td>72420.0</td>\n",
       "      <td>0</td>\n",
       "      <td>other</td>\n",
       "      <td>15.538278</td>\n",
       "      <td>7</td>\n",
       "      <td>10</td>\n",
       "      <td>4.442651</td>\n",
       "      <td>12</td>\n",
       "      <td>1020</td>\n",
       "      <td>82</td>\n",
       "    </tr>\n",
       "    <tr>\n",
       "      <th>42134</th>\n",
       "      <td>седан</td>\n",
       "      <td>otherBrand</td>\n",
       "      <td>белый</td>\n",
       "      <td>бензин</td>\n",
       "      <td>1937</td>\n",
       "      <td>3.6 MT (86 л.с.)</td>\n",
       "      <td>4</td>\n",
       "      <td>1939</td>\n",
       "      <td>SEDAN MECHANICAL 3.6</td>\n",
       "      <td>механическая</td>\n",
       "      <td>...</td>\n",
       "      <td>32331.0</td>\n",
       "      <td>0</td>\n",
       "      <td>седан</td>\n",
       "      <td>14.731801</td>\n",
       "      <td>5</td>\n",
       "      <td>10</td>\n",
       "      <td>4.454347</td>\n",
       "      <td>12</td>\n",
       "      <td>1032</td>\n",
       "      <td>82</td>\n",
       "    </tr>\n",
       "    <tr>\n",
       "      <th>44171</th>\n",
       "      <td>седан</td>\n",
       "      <td>otherBrand</td>\n",
       "      <td>черный</td>\n",
       "      <td>бензин</td>\n",
       "      <td>1936</td>\n",
       "      <td>2.5 MT (40 л.с.)</td>\n",
       "      <td>4</td>\n",
       "      <td>1938</td>\n",
       "      <td>SEDAN MECHANICAL 2.5</td>\n",
       "      <td>механическая</td>\n",
       "      <td>...</td>\n",
       "      <td>1617.0</td>\n",
       "      <td>0</td>\n",
       "      <td>седан</td>\n",
       "      <td>11.736069</td>\n",
       "      <td>5</td>\n",
       "      <td>10</td>\n",
       "      <td>3.688879</td>\n",
       "      <td>12</td>\n",
       "      <td>480</td>\n",
       "      <td>83</td>\n",
       "    </tr>\n",
       "    <tr>\n",
       "      <th>51738</th>\n",
       "      <td>хэтчбек 3 дв.</td>\n",
       "      <td>SKODA</td>\n",
       "      <td>черный</td>\n",
       "      <td>бензин</td>\n",
       "      <td>1934</td>\n",
       "      <td>1.1 MT (30 л.с.)</td>\n",
       "      <td>3</td>\n",
       "      <td>1939</td>\n",
       "      <td>HATCHBACK_3_DOORS MECHANICAL 1.1</td>\n",
       "      <td>механическая</td>\n",
       "      <td>...</td>\n",
       "      <td>3880.0</td>\n",
       "      <td>0</td>\n",
       "      <td>хэтчбек 3 дв.</td>\n",
       "      <td>12.611538</td>\n",
       "      <td>13</td>\n",
       "      <td>5</td>\n",
       "      <td>3.401197</td>\n",
       "      <td>5000</td>\n",
       "      <td>150000</td>\n",
       "      <td>82</td>\n",
       "    </tr>\n",
       "    <tr>\n",
       "      <th>76332</th>\n",
       "      <td>кабриолет</td>\n",
       "      <td>MERCEDES</td>\n",
       "      <td>белый</td>\n",
       "      <td>бензин</td>\n",
       "      <td>1904</td>\n",
       "      <td>5.3 MT (32 л.с.)</td>\n",
       "      <td>0</td>\n",
       "      <td>1904</td>\n",
       "      <td>CABRIO MECHANICAL 5.3</td>\n",
       "      <td>механическая</td>\n",
       "      <td>...</td>\n",
       "      <td>155187.0</td>\n",
       "      <td>0</td>\n",
       "      <td>other</td>\n",
       "      <td>16.300417</td>\n",
       "      <td>9</td>\n",
       "      <td>8</td>\n",
       "      <td>3.465736</td>\n",
       "      <td>5000</td>\n",
       "      <td>160000</td>\n",
       "      <td>117</td>\n",
       "    </tr>\n",
       "    <tr>\n",
       "      <th>76908</th>\n",
       "      <td>седан</td>\n",
       "      <td>MERCEDES</td>\n",
       "      <td>черный</td>\n",
       "      <td>бензин</td>\n",
       "      <td>1936</td>\n",
       "      <td>1.7 MT (38 л.с.)</td>\n",
       "      <td>4</td>\n",
       "      <td>1938</td>\n",
       "      <td>SEDAN MECHANICAL 1.7</td>\n",
       "      <td>механическая</td>\n",
       "      <td>...</td>\n",
       "      <td>29744.0</td>\n",
       "      <td>0</td>\n",
       "      <td>седан</td>\n",
       "      <td>14.648419</td>\n",
       "      <td>5</td>\n",
       "      <td>8</td>\n",
       "      <td>3.637586</td>\n",
       "      <td>12</td>\n",
       "      <td>456</td>\n",
       "      <td>83</td>\n",
       "    </tr>\n",
       "  </tbody>\n",
       "</table>\n",
       "<p>34 rows × 43 columns</p>\n",
       "</div>"
      ],
      "text/plain": [
       "            bodyType       brand       color fuelType  modelDate  \\\n",
       "303            седан        AUDI      черный   бензин       1938   \n",
       "5862     седан 2 дв.         BMW       белый   бензин       1937   \n",
       "5865     седан 2 дв.         BMW      черный   бензин       1937   \n",
       "5866           седан         BMW  коричневый   бензин       1936   \n",
       "5867           седан         BMW  коричневый   бензин       1936   \n",
       "22688  хэтчбек 3 дв.  otherBrand   пурпурный   бензин       1927   \n",
       "22689  хэтчбек 3 дв.  otherBrand       синий   бензин       1927   \n",
       "22690  хэтчбек 3 дв.  otherBrand      черный   бензин       1927   \n",
       "22691      кабриолет  otherBrand     зелёный   бензин       1908   \n",
       "22692      кабриолет  otherBrand      черный   бензин       1908   \n",
       "23716          седан  otherBrand      черный   бензин       1932   \n",
       "23717          седан  otherBrand      черный   бензин       1932   \n",
       "23718        фастбек  otherBrand      черный   бензин       1938   \n",
       "51779          седан  otherBrand       белый   бензин       1937   \n",
       "54300          седан  otherBrand  коричневый   бензин       1935   \n",
       "54401          седан  otherBrand       серый   бензин       1936   \n",
       "54402          седан  otherBrand      черный   бензин       1936   \n",
       "61846  хэтчбек 3 дв.       SKODA      черный   бензин       1934   \n",
       "88065      кабриолет    MERCEDES       белый   бензин       1904   \n",
       "88652          седан    MERCEDES     красный   бензин       1936   \n",
       "88653          седан    MERCEDES      черный   бензин       1936   \n",
       "264            седан        AUDI      черный   бензин       1938   \n",
       "5178           седан         BMW  коричневый   бензин       1936   \n",
       "18893  хэтчбек 3 дв.  otherBrand  коричневый   бензин       1927   \n",
       "18894  хэтчбек 3 дв.  otherBrand       синий   бензин       1927   \n",
       "18895      кабриолет  otherBrand     зелёный   бензин       1908   \n",
       "19678          седан  otherBrand      черный   бензин       1932   \n",
       "19679          седан  otherBrand      черный   бензин       1932   \n",
       "19680        фастбек  otherBrand      черный   бензин       1938   \n",
       "42134          седан  otherBrand       белый   бензин       1937   \n",
       "44171          седан  otherBrand      черный   бензин       1936   \n",
       "51738  хэтчбек 3 дв.       SKODA      черный   бензин       1934   \n",
       "76332      кабриолет    MERCEDES       белый   бензин       1904   \n",
       "76908          седан    MERCEDES      черный   бензин       1936   \n",
       "\n",
       "                   name  numberOfDoors  productionDate  \\\n",
       "303    3.3 MT (75 л.с.)              4            1938   \n",
       "5862   2.0 MT (46 л.с.)              2            1937   \n",
       "5865   2.0 MT (46 л.с.)              2            1937   \n",
       "5866   2.0 MT (51 л.с.)              4            1938   \n",
       "5867   2.0 MT (51 л.с.)              4            1937   \n",
       "22688  3.3 MT (40 л.с.)              3            1931   \n",
       "22689  3.3 MT (40 л.с.)              3            1927   \n",
       "22690  3.3 MT (40 л.с.)              3            1927   \n",
       "22691  2.9 MT (20 л.с.)              2            1923   \n",
       "22692  2.9 MT (20 л.с.)              2            1924   \n",
       "23716  3.6 MT (66 л.с.)              2            1932   \n",
       "23717  3.6 MT (66 л.с.)              2            1932   \n",
       "23718  3.6 MT (85 л.с.)              4            1939   \n",
       "51779  3.6 MT (86 л.с.)              4            1939   \n",
       "54300  1.5 MT (44 л.с.)              2            1938   \n",
       "54401  2.5 MT (40 л.с.)              4            1937   \n",
       "54402  2.5 MT (40 л.с.)              4            1938   \n",
       "61846  1.1 MT (30 л.с.)              3            1939   \n",
       "88065  5.3 MT (32 л.с.)              0            1904   \n",
       "88652  1.7 MT (38 л.с.)              4            1936   \n",
       "88653  1.7 MT (38 л.с.)              4            1938   \n",
       "264    3.3 MT (75 л.с.)              4            1938   \n",
       "5178   2.0 MT (51 л.с.)              4            1937   \n",
       "18893  3.3 MT (40 л.с.)              3            1928   \n",
       "18894  3.3 MT (40 л.с.)              3            1927   \n",
       "18895  2.9 MT (20 л.с.)              2            1923   \n",
       "19678  3.6 MT (66 л.с.)              2            1932   \n",
       "19679  3.6 MT (66 л.с.)              2            1932   \n",
       "19680  3.6 MT (85 л.с.)              4            1939   \n",
       "42134  3.6 MT (86 л.с.)              4            1939   \n",
       "44171  2.5 MT (40 л.с.)              4            1938   \n",
       "51738  1.1 MT (30 л.с.)              3            1939   \n",
       "76332  5.3 MT (32 л.с.)              0            1904   \n",
       "76908  1.7 MT (38 л.с.)              4            1938   \n",
       "\n",
       "                   vehicleConfiguration vehicleTransmission  ...  price_USD  \\\n",
       "303                SEDAN MECHANICAL 3.3        механическая  ...        NaN   \n",
       "5862       SEDAN_2_DOORS MECHANICAL 2.0        механическая  ...        NaN   \n",
       "5865       SEDAN_2_DOORS MECHANICAL 2.0        механическая  ...        NaN   \n",
       "5866               SEDAN MECHANICAL 2.0        механическая  ...        NaN   \n",
       "5867               SEDAN MECHANICAL 2.0        механическая  ...        NaN   \n",
       "22688  HATCHBACK_3_DOORS MECHANICAL 3.3        механическая  ...        NaN   \n",
       "22689  HATCHBACK_3_DOORS MECHANICAL 3.3        механическая  ...        NaN   \n",
       "22690  HATCHBACK_3_DOORS MECHANICAL 3.3        механическая  ...        NaN   \n",
       "22691             CABRIO MECHANICAL 2.9        механическая  ...        NaN   \n",
       "22692             CABRIO MECHANICAL 2.9        механическая  ...        NaN   \n",
       "23716              SEDAN MECHANICAL 3.6        механическая  ...        NaN   \n",
       "23717              SEDAN MECHANICAL 3.6        механическая  ...        NaN   \n",
       "23718           FASTBACK MECHANICAL 3.6        механическая  ...        NaN   \n",
       "51779              SEDAN MECHANICAL 3.6        механическая  ...        NaN   \n",
       "54300              SEDAN MECHANICAL 1.5        механическая  ...        NaN   \n",
       "54401              SEDAN MECHANICAL 2.5        механическая  ...        NaN   \n",
       "54402              SEDAN MECHANICAL 2.5        механическая  ...        NaN   \n",
       "61846  HATCHBACK_3_DOORS MECHANICAL 1.1        механическая  ...        NaN   \n",
       "88065             CABRIO MECHANICAL 5.3        механическая  ...        NaN   \n",
       "88652              SEDAN MECHANICAL 1.7        механическая  ...        NaN   \n",
       "88653              SEDAN MECHANICAL 1.7        механическая  ...        NaN   \n",
       "264                SEDAN MECHANICAL 3.3        механическая  ...    25864.0   \n",
       "5178               SEDAN MECHANICAL 2.0        механическая  ...    21985.0   \n",
       "18893  HATCHBACK_3_DOORS MECHANICAL 3.3        механическая  ...    43323.0   \n",
       "18894  HATCHBACK_3_DOORS MECHANICAL 3.3        механическая  ...    51082.0   \n",
       "18895             CABRIO MECHANICAL 2.9        механическая  ...    49142.0   \n",
       "19678              SEDAN MECHANICAL 3.6        механическая  ...    34917.0   \n",
       "19679              SEDAN MECHANICAL 3.6        механическая  ...     6207.0   \n",
       "19680           FASTBACK MECHANICAL 3.6        механическая  ...    72420.0   \n",
       "42134              SEDAN MECHANICAL 3.6        механическая  ...    32331.0   \n",
       "44171              SEDAN MECHANICAL 2.5        механическая  ...     1617.0   \n",
       "51738  HATCHBACK_3_DOORS MECHANICAL 1.1        механическая  ...     3880.0   \n",
       "76332             CABRIO MECHANICAL 5.3        механическая  ...   155187.0   \n",
       "76908              SEDAN MECHANICAL 1.7        механическая  ...    29744.0   \n",
       "\n",
       "       mileageNAN      bodyType2  log_price bT_length brand_length log_power  \\\n",
       "303             0          седан  14.508657         5            4  4.317488   \n",
       "5862            0          other  13.815511        11            3  3.828641   \n",
       "5865            0          other  14.508657        11            3  3.828641   \n",
       "5866            0          седан  12.994530         5            3  3.931826   \n",
       "5867            0          седан  14.346139         5            3  3.931826   \n",
       "22688           0  хэтчбек 3 дв.  15.363884        13           10  3.688879   \n",
       "22689           0  хэтчбек 3 дв.  15.319588        13           10  3.688879   \n",
       "22690           0  хэтчбек 3 дв.  14.808763        13           10  3.688879   \n",
       "22691           0          other  15.150512         9           10  2.995732   \n",
       "22692           0          other  14.914123         9           10  2.995732   \n",
       "23716           0          седан  14.808763         5           10  4.189655   \n",
       "23717           0          седан  13.081541         5           10  4.189655   \n",
       "23718           0          other  15.573368         7           10  4.442651   \n",
       "51779           0          седан  14.731801         5           10  4.454347   \n",
       "54300           0          седан  14.220976         5           10  3.784190   \n",
       "54401           0          седан  12.254863         5           10  3.688879   \n",
       "54402           0          седан  11.813030         5           10  3.688879   \n",
       "61846           0  хэтчбек 3 дв.  12.611538        13            5  3.401197   \n",
       "88065           0          other  16.300417         9            8  3.465736   \n",
       "88652           0          седан  17.370859         5            8  3.637586   \n",
       "88653           0          седан  14.648419         5            8  3.637586   \n",
       "264             0          седан  14.508657         5            4  4.317488   \n",
       "5178            0          седан  14.346139         5            3  3.931826   \n",
       "18893           0  хэтчбек 3 дв.  15.024471        13           10  3.688879   \n",
       "18894           0  хэтчбек 3 дв.  15.189226        13           10  3.688879   \n",
       "18895           0          other  15.150512         9           10  2.995732   \n",
       "19678           0          седан  14.808763         5           10  4.189655   \n",
       "19679           0          седан  13.081541         5           10  4.189655   \n",
       "19680           0          other  15.538278         7           10  4.442651   \n",
       "42134           0          седан  14.731801         5           10  4.454347   \n",
       "44171           0          седан  11.736069         5           10  3.688879   \n",
       "51738           0  хэтчбек 3 дв.  12.611538        13            5  3.401197   \n",
       "76332           0          other  16.300417         9            8  3.465736   \n",
       "76908           0          седан  14.648419         5            8  3.637586   \n",
       "\n",
       "      Nalog_base   Nalog years_old  \n",
       "303           12     900        83  \n",
       "5862          12     552        84  \n",
       "5865          12     552        84  \n",
       "5866          12     612        83  \n",
       "5867          12     612        84  \n",
       "22688         12     480        90  \n",
       "22689         12     480        94  \n",
       "22690         12     480        94  \n",
       "22691       5000  100000        98  \n",
       "22692       5000  100000        97  \n",
       "23716         12     792        89  \n",
       "23717         12     792        89  \n",
       "23718         12    1020        82  \n",
       "51779         12    1032        82  \n",
       "54300         12     528        83  \n",
       "54401         12     480        84  \n",
       "54402         12     480        83  \n",
       "61846       5000  150000        82  \n",
       "88065       5000  160000       117  \n",
       "88652         12     456        85  \n",
       "88653         12     456        83  \n",
       "264           12     900        83  \n",
       "5178          12     612        84  \n",
       "18893         12     480        93  \n",
       "18894         12     480        94  \n",
       "18895       5000  100000        98  \n",
       "19678         12     792        89  \n",
       "19679         12     792        89  \n",
       "19680         12    1020        82  \n",
       "42134         12    1032        82  \n",
       "44171         12     480        83  \n",
       "51738       5000  150000        82  \n",
       "76332       5000  160000       117  \n",
       "76908         12     456        83  \n",
       "\n",
       "[34 rows x 43 columns]"
      ]
     },
     "execution_count": 109,
     "metadata": {},
     "output_type": "execute_result"
    }
   ],
   "source": [
    "train[train.productionDate < 1940]\n"
   ]
  },
  {
   "cell_type": "code",
   "execution_count": 110,
   "metadata": {},
   "outputs": [
    {
     "data": {
      "text/plain": [
       "1     27158\n",
       "13    13807\n",
       "9     13523\n",
       "10    12527\n",
       "8     11904\n",
       "14    10703\n",
       "7     10024\n",
       "11     9061\n",
       "4      7577\n",
       "6      7505\n",
       "Name: years_old, dtype: int64"
      ]
     },
     "execution_count": 110,
     "metadata": {},
     "output_type": "execute_result"
    }
   ],
   "source": [
    "train.years_old.value_counts().head(10)"
   ]
  },
  {
   "cell_type": "code",
   "execution_count": 111,
   "metadata": {},
   "outputs": [
    {
     "data": {
      "text/plain": [
       "771      1976\n",
       "1777     1939\n",
       "3174     1938\n",
       "4610     1980\n",
       "6568     1978\n",
       "7216     1970\n",
       "7256     1979\n",
       "7774     1977\n",
       "8348     1972\n",
       "8531     1975\n",
       "8627     1969\n",
       "9143     1950\n",
       "9373     1953\n",
       "9495     1949\n",
       "9625     1937\n",
       "9819     1937\n",
       "11764    1980\n",
       "11788    1979\n",
       "15806    1969\n",
       "15808    1959\n",
       "16386    1975\n",
       "16665    1968\n",
       "16844    1976\n",
       "16891    1936\n",
       "16944    1904\n",
       "17043    1974\n",
       "17067    1967\n",
       "17341    1978\n",
       "17350    1961\n",
       "17427    1976\n",
       "17440    1977\n",
       "17448    1980\n",
       "17639    1960\n",
       "17643    1959\n",
       "17653    1965\n",
       "17796    1953\n",
       "17993    1963\n",
       "18014    1957\n",
       "18070    1980\n",
       "18129    1959\n",
       "18185    1952\n",
       "19001    1980\n",
       "19223    1980\n",
       "21568    1979\n",
       "21602    1977\n",
       "24393    1973\n",
       "24597    1965\n",
       "24732    1973\n",
       "24883    1972\n",
       "26486    1972\n",
       "30324    1980\n",
       "31400    1980\n",
       "33748    1948\n",
       "34193    1978\n",
       "Name: productionDate, dtype: int64"
      ]
     },
     "execution_count": 111,
     "metadata": {},
     "output_type": "execute_result"
    }
   ],
   "source": [
    "test[test.productionDate <=1980].productionDate"
   ]
  },
  {
   "cell_type": "code",
   "execution_count": 112,
   "metadata": {},
   "outputs": [
    {
     "data": {
      "text/plain": [
       "count    189450.000000\n",
       "mean         10.007596\n",
       "std           7.124517\n",
       "min           1.000000\n",
       "25%           4.000000\n",
       "50%           9.000000\n",
       "75%          14.000000\n",
       "max         117.000000\n",
       "Name: years_old, dtype: float64"
      ]
     },
     "execution_count": 112,
     "metadata": {},
     "output_type": "execute_result"
    }
   ],
   "source": [
    "train.years_old.describe()"
   ]
  },
  {
   "cell_type": "code",
   "execution_count": 113,
   "metadata": {},
   "outputs": [
    {
     "data": {
      "text/plain": [
       "count    34686.000000\n",
       "mean        11.735398\n",
       "std          7.047661\n",
       "min          1.000000\n",
       "25%          7.000000\n",
       "50%         10.000000\n",
       "75%         15.000000\n",
       "max        117.000000\n",
       "Name: years_old, dtype: float64"
      ]
     },
     "execution_count": 113,
     "metadata": {},
     "output_type": "execute_result"
    }
   ],
   "source": [
    "test.years_old.describe()\n"
   ]
  },
  {
   "cell_type": "code",
   "execution_count": 114,
   "metadata": {},
   "outputs": [],
   "source": [
    "bins = [-1, 3, 7, 13, 20, 35, 117]\n",
    "numbers = ['3', '7','13','20','35', '117']\n",
    "\n",
    "train['age_intervals']=pd.cut(train['years_old'],bins,labels=numbers)\n",
    "test['age_intervals']=pd.cut(test['years_old'],bins,labels=numbers)"
   ]
  },
  {
   "cell_type": "code",
   "execution_count": 115,
   "metadata": {},
   "outputs": [
    {
     "data": {
      "image/png": "[encoded data removed]",
      "text/plain": [
       "<Figure size 576x360 with 1 Axes>"
      ]
     },
     "metadata": {
      "needs_background": "light"
     },
     "output_type": "display_data"
    }
   ],
   "source": [
    "plt.figure(figsize=(8, 5))\n",
    "g1 = sns.boxplot(y='log_price', x='age_intervals', \n",
    "                  data=train, color='darkgreen')\n",
    "g1.set_title(\"price of age_intervals\", fontsize=20)\n",
    "\n",
    "g1.set_ylabel(\"log_price\", fontsize=15)\n",
    "g1.set_xticklabels(g1.get_xticklabels(),rotation=45)\n",
    "plt.show()"
   ]
  },
  {
   "cell_type": "code",
   "execution_count": 116,
   "metadata": {},
   "outputs": [
    {
     "data": {
      "text/plain": [
       "count    189450.000000\n",
       "mean       2008.745796\n",
       "std           7.529783\n",
       "min        1904.000000\n",
       "25%        2005.000000\n",
       "50%        2010.000000\n",
       "75%        2014.000000\n",
       "max        2020.000000\n",
       "Name: modelDate, dtype: float64"
      ]
     },
     "execution_count": 116,
     "metadata": {},
     "output_type": "execute_result"
    }
   ],
   "source": [
    "train.modelDate.describe()"
   ]
  },
  {
   "cell_type": "code",
   "execution_count": 117,
   "metadata": {},
   "outputs": [
    {
     "data": {
      "text/plain": [
       "count    34686.000000\n",
       "mean      2007.074728\n",
       "std          7.415894\n",
       "min       1904.000000\n",
       "25%       2004.000000\n",
       "50%       2008.000000\n",
       "75%       2012.000000\n",
       "max       2020.000000\n",
       "Name: modelDate, dtype: float64"
      ]
     },
     "execution_count": 117,
     "metadata": {},
     "output_type": "execute_result"
    }
   ],
   "source": [
    "test.modelDate.describe()"
   ]
  },
  {
   "cell_type": "code",
   "execution_count": 118,
   "metadata": {},
   "outputs": [
    {
     "data": {
      "text/plain": [
       "2010    12194\n",
       "2006    12108\n",
       "2009    11305\n",
       "2018    10616\n",
       "2017    10546\n",
       "2011    10078\n",
       "2012     9621\n",
       "2005     9289\n",
       "2007     8698\n",
       "2008     8520\n",
       "2013     8482\n",
       "2014     8423\n",
       "2015     8378\n",
       "2016     7203\n",
       "2002     6335\n",
       "2019     6314\n",
       "2004     6009\n",
       "2000     5234\n",
       "2003     4053\n",
       "2020     3724\n",
       "Name: modelDate, dtype: int64"
      ]
     },
     "execution_count": 118,
     "metadata": {},
     "output_type": "execute_result"
    }
   ],
   "source": [
    "train.modelDate.value_counts().head(20)"
   ]
  },
  {
   "cell_type": "code",
   "execution_count": 119,
   "metadata": {},
   "outputs": [
    {
     "data": {
      "text/plain": [
       "27691"
      ]
     },
     "execution_count": 119,
     "metadata": {},
     "output_type": "execute_result"
    }
   ],
   "source": [
    "train['Владельцы'].isna().sum()"
   ]
  },
  {
   "cell_type": "code",
   "execution_count": 130,
   "metadata": {},
   "outputs": [
    {
     "data": {
      "text/plain": [
       "3.0    75546\n",
       "2.0    43590\n",
       "1.0    42623\n",
       "Name: Владельцы, dtype: int64"
      ]
     },
     "execution_count": 130,
     "metadata": {},
     "output_type": "execute_result"
    }
   ],
   "source": [
    "train.Владельцы.value_counts()"
   ]
  },
  {
   "cell_type": "code",
   "execution_count": 125,
   "metadata": {},
   "outputs": [
    {
     "data": {
      "text/plain": [
       "3    15957\n",
       "1     9459\n",
       "2     9270\n",
       "Name: Владельцы, dtype: int64"
      ]
     },
     "execution_count": 125,
     "metadata": {},
     "output_type": "execute_result"
    }
   ],
   "source": [
    "test.Владельцы.value_counts()"
   ]
  },
  {
   "cell_type": "code",
   "execution_count": 174,
   "metadata": {},
   "outputs": [
    {
     "data": {
      "text/plain": [
       "<AxesSubplot:>"
      ]
     },
     "execution_count": 174,
     "metadata": {},
     "output_type": "execute_result"
    },
    {
     "data": {
      "image/png": "[encoded data removed]",
      "text/plain": [
       "<Figure size 432x288 with 1 Axes>"
      ]
     },
     "metadata": {
      "needs_background": "light"
     },
     "output_type": "display_data"
    }
   ],
   "source": [
    "# data['Владельцы'] = data['Владельцы'].fillna(data['Владельцы'].describe().top)\n",
    "train['Владельцы']= train['Владельцы'].astype('category')\n",
    "train['Владельцы'].value_counts().plot(kind='bar')\n"
   ]
  },
  {
   "cell_type": "code",
   "execution_count": 175,
   "metadata": {},
   "outputs": [
    {
     "name": "stdout",
     "output_type": "stream",
     "text": [
      "<class 'pandas.core.frame.DataFrame'>\n",
      "Int64Index: 189450 entries, 0 to 27566\n",
      "Data columns (total 31 columns):\n",
      " #   Column               Non-Null Count   Dtype   \n",
      "---  ------               --------------   -----   \n",
      " 0   brand                189450 non-null  object  \n",
      " 1   color                189450 non-null  object  \n",
      " 2   fuelType             189450 non-null  object  \n",
      " 3   modelDate            189450 non-null  int64   \n",
      " 4   numberOfDoors        189450 non-null  int64   \n",
      " 5   productionDate       189450 non-null  int64   \n",
      " 6   vehicleTransmission  189450 non-null  object  \n",
      " 7   engineDisplacement   189450 non-null  float64 \n",
      " 8   enginePower          189450 non-null  int64   \n",
      " 9   mileage              189450 non-null  int64   \n",
      " 10  Комплектация         86853 non-null   object  \n",
      " 11  Привод               189450 non-null  object  \n",
      " 12  Руль                 189450 non-null  object  \n",
      " 13  Владельцы            161759 non-null  category\n",
      " 14  ПТС                  189450 non-null  object  \n",
      " 15  price                189450 non-null  float32 \n",
      " 16  start_date           162498 non-null  object  \n",
      " 17  hidden               0 non-null       float64 \n",
      " 18  model                86853 non-null   object  \n",
      " 19  model_name           189450 non-null  object  \n",
      " 20  vendor               189450 non-null  object  \n",
      " 21  price_EUR            75645 non-null   float64 \n",
      " 22  price_USD            75645 non-null   float64 \n",
      " 23  bodyType2            189450 non-null  object  \n",
      " 24  log_price            189450 non-null  float32 \n",
      " 25  bT_length            189450 non-null  int64   \n",
      " 26  brand_length         189450 non-null  int64   \n",
      " 27  Nalog_base           189450 non-null  int64   \n",
      " 28  Nalog                189450 non-null  int64   \n",
      " 29  years_old            189450 non-null  int64   \n",
      " 30  age_intervals        189450 non-null  category\n",
      "dtypes: category(2), float32(2), float64(4), int64(10), object(13)\n",
      "memory usage: 47.3+ MB\n"
     ]
    }
   ],
   "source": [
    "train.info()"
   ]
  },
  {
   "cell_type": "code",
   "execution_count": 128,
   "metadata": {},
   "outputs": [],
   "source": [
    "train['Владельцы']= train['Владельцы'].apply(lambda x: int(re.findall('\\d', str(x))[0]))"
   ]
  },
  {
   "cell_type": "code",
   "execution_count": 129,
   "metadata": {},
   "outputs": [
    {
     "data": {
      "text/plain": [
       "<AxesSubplot:>"
      ]
     },
     "execution_count": 129,
     "metadata": {},
     "output_type": "execute_result"
    },
    {
     "data": {
      "image/png": "[encoded data removed]",
      "text/plain": [
       "<Figure size 432x288 with 1 Axes>"
      ]
     },
     "metadata": {
      "needs_background": "light"
     },
     "output_type": "display_data"
    }
   ],
   "source": [
    "# data['Владельцы'] = data['Владельцы'].fillna(data['Владельцы'].describe().top)\n",
    "test['Владельцы']= test['Владельцы'].apply(lambda x: int(re.findall('\\d', str(x))[0]))\n",
    "test['Владельцы']= test['Владельцы'].astype('category')\n",
    "test['Владельцы'].value_counts().plot(kind='bar')\n"
   ]
  },
  {
   "cell_type": "code",
   "execution_count": null,
   "metadata": {},
   "outputs": [],
   "source": [
    "train['Владельцы'] = train['Владельцы'].astype(\"category\")"
   ]
  },
  {
   "cell_type": "code",
   "execution_count": 131,
   "metadata": {},
   "outputs": [],
   "source": [
    "# train.Владельцы = train.Владельцы.apply(lambda x: x[0])"
   ]
  },
  {
   "cell_type": "code",
   "execution_count": 132,
   "metadata": {},
   "outputs": [
    {
     "data": {
      "image/png": "[encoded data removed]",
      "text/plain": [
       "<Figure size 576x360 with 1 Axes>"
      ]
     },
     "metadata": {
      "needs_background": "light"
     },
     "output_type": "display_data"
    }
   ],
   "source": [
    "plt.figure(figsize=(8, 5))\n",
    "g1 = sns.boxplot(y='log_price', x='Владельцы', \n",
    "                  data=train, color='darkgreen')\n",
    "g1.set_title(\"price of Владельцы\", fontsize=20)\n",
    "\n",
    "g1.set_ylabel(\"log_price\", fontsize=15)\n",
    "g1.set_xticklabels(g1.get_xticklabels(),rotation=45)\n",
    "plt.show()"
   ]
  },
  {
   "cell_type": "code",
   "execution_count": 133,
   "metadata": {},
   "outputs": [
    {
     "data": {
      "text/plain": [
       "140859"
      ]
     },
     "execution_count": 133,
     "metadata": {},
     "output_type": "execute_result"
    }
   ],
   "source": [
    "train.Владение.isna().sum()"
   ]
  },
  {
   "cell_type": "code",
   "execution_count": 134,
   "metadata": {},
   "outputs": [
    {
     "data": {
      "text/plain": [
       "22691"
      ]
     },
     "execution_count": 134,
     "metadata": {},
     "output_type": "execute_result"
    }
   ],
   "source": [
    "test.Владение.isna().sum()"
   ]
  },
  {
   "cell_type": "code",
   "execution_count": 135,
   "metadata": {},
   "outputs": [
    {
     "data": {
      "text/plain": [
       "0        NaN\n",
       "1        NaN\n",
       "2        NaN\n",
       "3        NaN\n",
       "4        NaN\n",
       "        ... \n",
       "27562    NaN\n",
       "27563    NaN\n",
       "27564    NaN\n",
       "27565    NaN\n",
       "27566    NaN\n",
       "Name: Владение, Length: 189450, dtype: object"
      ]
     },
     "execution_count": 135,
     "metadata": {},
     "output_type": "execute_result"
    }
   ],
   "source": [
    "train.Владение"
   ]
  },
  {
   "cell_type": "code",
   "execution_count": 136,
   "metadata": {},
   "outputs": [
    {
     "data": {
      "text/html": [
       "<div>\n",
       "<style scoped>\n",
       "    .dataframe tbody tr th:only-of-type {\n",
       "        vertical-align: middle;\n",
       "    }\n",
       "\n",
       "    .dataframe tbody tr th {\n",
       "        vertical-align: top;\n",
       "    }\n",
       "\n",
       "    .dataframe thead th {\n",
       "        text-align: right;\n",
       "    }\n",
       "</style>\n",
       "<table border=\"1\" class=\"dataframe\">\n",
       "  <thead>\n",
       "    <tr style=\"text-align: right;\">\n",
       "      <th></th>\n",
       "      <th>count</th>\n",
       "      <th>unique</th>\n",
       "      <th>top</th>\n",
       "      <th>freq</th>\n",
       "    </tr>\n",
       "    <tr>\n",
       "      <th>Владельцы</th>\n",
       "      <th></th>\n",
       "      <th></th>\n",
       "      <th></th>\n",
       "      <th></th>\n",
       "    </tr>\n",
       "  </thead>\n",
       "  <tbody>\n",
       "    <tr>\n",
       "      <th>1.0</th>\n",
       "      <td>12659</td>\n",
       "      <td>265</td>\n",
       "      <td>{'year': 2018, 'month': 12}</td>\n",
       "      <td>191</td>\n",
       "    </tr>\n",
       "    <tr>\n",
       "      <th>2.0</th>\n",
       "      <td>13509</td>\n",
       "      <td>261</td>\n",
       "      <td>{'year': 2018, 'month': 11}</td>\n",
       "      <td>237</td>\n",
       "    </tr>\n",
       "    <tr>\n",
       "      <th>3.0</th>\n",
       "      <td>22423</td>\n",
       "      <td>262</td>\n",
       "      <td>{'year': 2019, 'month': 8}</td>\n",
       "      <td>503</td>\n",
       "    </tr>\n",
       "  </tbody>\n",
       "</table>\n",
       "</div>"
      ],
      "text/plain": [
       "           count unique                          top freq\n",
       "Владельцы                                                \n",
       "1.0        12659    265  {'year': 2018, 'month': 12}  191\n",
       "2.0        13509    261  {'year': 2018, 'month': 11}  237\n",
       "3.0        22423    262   {'year': 2019, 'month': 8}  503"
      ]
     },
     "execution_count": 136,
     "metadata": {},
     "output_type": "execute_result"
    }
   ],
   "source": [
    "train.groupby('Владельцы').Владение.describe()"
   ]
  },
  {
   "cell_type": "code",
   "execution_count": 137,
   "metadata": {},
   "outputs": [
    {
     "data": {
      "text/plain": [
       "(Левый     33287\n",
       " Правый     1399\n",
       " Name: Руль, dtype: int64,\n",
       " LEFT      159327\n",
       " Левый      26850\n",
       " RIGHT       3171\n",
       " Правый       102\n",
       " Name: Руль, dtype: int64)"
      ]
     },
     "execution_count": 137,
     "metadata": {},
     "output_type": "execute_result"
    }
   ],
   "source": [
    "test.Руль.value_counts(), train.Руль.value_counts()"
   ]
  },
  {
   "cell_type": "code",
   "execution_count": 138,
   "metadata": {},
   "outputs": [
    {
     "data": {
      "text/plain": [
       "(Левый     33287\n",
       " Правый     1399\n",
       " Name: Руль, dtype: int64,\n",
       " LEFT      159327\n",
       " Левый      26850\n",
       " RIGHT       3171\n",
       " Правый       102\n",
       " Name: Руль, dtype: int64)"
      ]
     },
     "execution_count": 138,
     "metadata": {},
     "output_type": "execute_result"
    }
   ],
   "source": [
    "test.Руль.value_counts(), train.Руль.value_counts()"
   ]
  },
  {
   "cell_type": "code",
   "execution_count": 139,
   "metadata": {},
   "outputs": [
    {
     "data": {
      "text/plain": [
       "<AxesSubplot:>"
      ]
     },
     "execution_count": 139,
     "metadata": {},
     "output_type": "execute_result"
    },
    {
     "data": {
      "image/png": "[encoded data removed]",
      "text/plain": [
       "<Figure size 432x288 with 1 Axes>"
      ]
     },
     "metadata": {
      "needs_background": "light"
     },
     "output_type": "display_data"
    }
   ],
   "source": [
    "rule={'LEFT': 'Левый', 'RIGHT': 'Правый' }\n",
    "train['Руль'] = train['Руль'].replace(rule)\n",
    "train['Руль'].value_counts().plot.bar()"
   ]
  },
  {
   "cell_type": "code",
   "execution_count": 140,
   "metadata": {},
   "outputs": [
    {
     "data": {
      "text/plain": [
       "Левый     186177\n",
       "Правый      3273\n",
       "Name: Руль, dtype: int64"
      ]
     },
     "execution_count": 140,
     "metadata": {},
     "output_type": "execute_result"
    }
   ],
   "source": [
    "train.Руль.value_counts()"
   ]
  },
  {
   "cell_type": "code",
   "execution_count": 141,
   "metadata": {},
   "outputs": [
    {
     "data": {
      "text/plain": [
       "Оригинал    166944\n",
       "Дубликат     22506\n",
       "Name: ПТС, dtype: int64"
      ]
     },
     "execution_count": 141,
     "metadata": {},
     "output_type": "execute_result"
    }
   ],
   "source": [
    "train.ПТС.value_counts()"
   ]
  },
  {
   "cell_type": "code",
   "execution_count": 142,
   "metadata": {},
   "outputs": [
    {
     "data": {
      "text/plain": [
       "75497"
      ]
     },
     "execution_count": 142,
     "metadata": {},
     "output_type": "execute_result"
    }
   ],
   "source": [
    "train.sell_id.nunique()"
   ]
  },
  {
   "cell_type": "code",
   "execution_count": 143,
   "metadata": {},
   "outputs": [
    {
     "data": {
      "text/plain": [
       "<AxesSubplot:>"
      ]
     },
     "execution_count": 143,
     "metadata": {},
     "output_type": "execute_result"
    },
    {
     "data": {
      "image/png": "[encoded data removed]",
      "text/plain": [
       "<Figure size 432x288 with 1 Axes>"
      ]
     },
     "metadata": {
      "needs_background": "light"
     },
     "output_type": "display_data"
    }
   ],
   "source": [
    "train['sell_id'].plot()\n"
   ]
  },
  {
   "cell_type": "code",
   "execution_count": 144,
   "metadata": {},
   "outputs": [
    {
     "data": {
      "text/plain": [
       "бензин     156426\n",
       "дизель      32216\n",
       "гибрид        561\n",
       "электро       214\n",
       "газ            33\n",
       "Name: fuelType, dtype: int64"
      ]
     },
     "execution_count": 144,
     "metadata": {},
     "output_type": "execute_result"
    }
   ],
   "source": [
    "train.fuelType.value_counts()"
   ]
  },
  {
   "cell_type": "code",
   "execution_count": 145,
   "metadata": {},
   "outputs": [
    {
     "data": {
      "image/png": "[encoded data removed]",
      "text/plain": [
       "<Figure size 576x360 with 1 Axes>"
      ]
     },
     "metadata": {
      "needs_background": "light"
     },
     "output_type": "display_data"
    }
   ],
   "source": [
    "plt.figure(figsize=(8, 5))\n",
    "g1 = sns.boxplot(y='log_price', x='fuelType', \n",
    "                  data=train, color='darkgreen')\n",
    "g1.set_title(\"price of fuelType\", fontsize=20)\n",
    "\n",
    "g1.set_ylabel(\"log_price\", fontsize=15)\n",
    "g1.set_xticklabels(g1.get_xticklabels(),rotation=45)\n",
    "\n",
    "\n",
    "plt.show()"
   ]
  },
  {
   "cell_type": "code",
   "execution_count": 146,
   "metadata": {},
   "outputs": [
    {
     "data": {
      "text/plain": [
       "'{\"id\":\"20026323\",\"nameplate\":\"DSG\",\"displacement\":1798,\"engine_type\":\"GASOLINE\",\"gear_type\":\"FORWARD_CONTROL\",\"transmission\":\"ROBOT\",\"power\":152,\"power_kvt\":112,\"human_name\":\"DSG 1.8 AMT (152 л.с.)\",\"acceleration\":8.7,\"clearance_min\":139,\"fuel_rate\":7.1,\"clearance_max\":158}'"
      ]
     },
     "execution_count": 146,
     "metadata": {},
     "output_type": "execute_result"
    }
   ],
   "source": [
    "test.super_gen[2]"
   ]
  },
  {
   "cell_type": "code",
   "execution_count": 147,
   "metadata": {},
   "outputs": [
    {
     "data": {
      "text/plain": [
       "EUROPEAN    20682\n",
       "JAPANESE    14004\n",
       "Name: vendor, dtype: int64"
      ]
     },
     "execution_count": 147,
     "metadata": {},
     "output_type": "execute_result"
    }
   ],
   "source": [
    "test.vendor.value_counts()"
   ]
  },
  {
   "cell_type": "code",
   "execution_count": 148,
   "metadata": {},
   "outputs": [
    {
     "data": {
      "text/plain": [
       "V_UNKNOWN    113805\n",
       "EUROPEAN      40010\n",
       "JAPANESE      16513\n",
       "KOREAN         9666\n",
       "AMERICAN       7359\n",
       "RUSSIAN        1057\n",
       "CHINESE        1040\n",
       "Name: vendor, dtype: int64"
      ]
     },
     "execution_count": 148,
     "metadata": {},
     "output_type": "execute_result"
    }
   ],
   "source": [
    "train.vendor.value_counts()"
   ]
  },
  {
   "cell_type": "code",
   "execution_count": 149,
   "metadata": {},
   "outputs": [
    {
     "data": {
      "image/png": "[encoded data removed]",
      "text/plain": [
       "<Figure size 576x360 with 1 Axes>"
      ]
     },
     "metadata": {
      "needs_background": "light"
     },
     "output_type": "display_data"
    }
   ],
   "source": [
    "plt.figure(figsize=(8, 5))\n",
    "g1 = sns.boxplot(y='log_price', x='vendor', \n",
    "                  data=train, color='darkgreen')\n",
    "g1.set_title(\"price of vendor\", fontsize=20)\n",
    "\n",
    "g1.set_ylabel(\"log_price\", fontsize=15)\n",
    "g1.set_xticklabels(g1.get_xticklabels(),rotation=45)\n",
    "\n",
    "\n",
    "plt.show()"
   ]
  },
  {
   "cell_type": "code",
   "execution_count": 150,
   "metadata": {},
   "outputs": [
    {
     "data": {
      "text/plain": [
       "count     189450.000000\n",
       "mean      134819.686181\n",
       "std       104190.732727\n",
       "min            0.000000\n",
       "25%        54557.250000\n",
       "50%       128000.000000\n",
       "75%       195000.000000\n",
       "max      1000000.000000\n",
       "Name: mileage, dtype: float64"
      ]
     },
     "execution_count": 150,
     "metadata": {},
     "output_type": "execute_result"
    }
   ],
   "source": [
    "train.mileage.describe()"
   ]
  },
  {
   "cell_type": "code",
   "execution_count": 151,
   "metadata": {},
   "outputs": [
    {
     "data": {
      "text/html": [
       "<div>\n",
       "<style scoped>\n",
       "    .dataframe tbody tr th:only-of-type {\n",
       "        vertical-align: middle;\n",
       "    }\n",
       "\n",
       "    .dataframe tbody tr th {\n",
       "        vertical-align: top;\n",
       "    }\n",
       "\n",
       "    .dataframe thead th {\n",
       "        text-align: right;\n",
       "    }\n",
       "</style>\n",
       "<table border=\"1\" class=\"dataframe\">\n",
       "  <thead>\n",
       "    <tr style=\"text-align: right;\">\n",
       "      <th></th>\n",
       "      <th>count</th>\n",
       "      <th>mean</th>\n",
       "      <th>std</th>\n",
       "      <th>min</th>\n",
       "      <th>25%</th>\n",
       "      <th>50%</th>\n",
       "      <th>75%</th>\n",
       "      <th>max</th>\n",
       "    </tr>\n",
       "    <tr>\n",
       "      <th>years_old</th>\n",
       "      <th></th>\n",
       "      <th></th>\n",
       "      <th></th>\n",
       "      <th></th>\n",
       "      <th></th>\n",
       "      <th></th>\n",
       "      <th></th>\n",
       "      <th></th>\n",
       "    </tr>\n",
       "  </thead>\n",
       "  <tbody>\n",
       "    <tr>\n",
       "      <th>1</th>\n",
       "      <td>26047.0</td>\n",
       "      <td>4028284.5</td>\n",
       "      <td>3125711.5</td>\n",
       "      <td>627000.0</td>\n",
       "      <td>1910500.0</td>\n",
       "      <td>3140000.0</td>\n",
       "      <td>4930000.0</td>\n",
       "      <td>65435792.0</td>\n",
       "    </tr>\n",
       "    <tr>\n",
       "      <th>2</th>\n",
       "      <td>1540.0</td>\n",
       "      <td>6147283.5</td>\n",
       "      <td>4370824.5</td>\n",
       "      <td>871900.0</td>\n",
       "      <td>2532000.0</td>\n",
       "      <td>4061500.0</td>\n",
       "      <td>9041330.0</td>\n",
       "      <td>20770330.0</td>\n",
       "    </tr>\n",
       "    <tr>\n",
       "      <th>3</th>\n",
       "      <td>101.0</td>\n",
       "      <td>14188302.0</td>\n",
       "      <td>19478218.0</td>\n",
       "      <td>899900.0</td>\n",
       "      <td>4725000.0</td>\n",
       "      <td>6570070.0</td>\n",
       "      <td>7850000.0</td>\n",
       "      <td>59087576.0</td>\n",
       "    </tr>\n",
       "    <tr>\n",
       "      <th>4</th>\n",
       "      <td>1.0</td>\n",
       "      <td>3829900.0</td>\n",
       "      <td>NaN</td>\n",
       "      <td>3829900.0</td>\n",
       "      <td>3829900.0</td>\n",
       "      <td>3829900.0</td>\n",
       "      <td>3829900.0</td>\n",
       "      <td>3829900.0</td>\n",
       "    </tr>\n",
       "  </tbody>\n",
       "</table>\n",
       "</div>"
      ],
      "text/plain": [
       "             count        mean         std        min        25%        50%  \\\n",
       "years_old                                                                     \n",
       "1          26047.0   4028284.5   3125711.5   627000.0  1910500.0  3140000.0   \n",
       "2           1540.0   6147283.5   4370824.5   871900.0  2532000.0  4061500.0   \n",
       "3            101.0  14188302.0  19478218.0   899900.0  4725000.0  6570070.0   \n",
       "4              1.0   3829900.0         NaN  3829900.0  3829900.0  3829900.0   \n",
       "\n",
       "                 75%         max  \n",
       "years_old                         \n",
       "1          4930000.0  65435792.0  \n",
       "2          9041330.0  20770330.0  \n",
       "3          7850000.0  59087576.0  \n",
       "4          3829900.0   3829900.0  "
      ]
     },
     "execution_count": 151,
     "metadata": {},
     "output_type": "execute_result"
    }
   ],
   "source": [
    "train[train.mileage == 0].groupby('years_old').price.describe()"
   ]
  },
  {
   "cell_type": "code",
   "execution_count": 152,
   "metadata": {},
   "outputs": [
    {
     "data": {
      "text/plain": [
       "years_old\n",
       "1        213.092385\n",
       "2      18403.334926\n",
       "3      47200.056068\n",
       "4      69564.483173\n",
       "5      88291.237989\n",
       "6     100859.797868\n",
       "7     115074.663508\n",
       "8     126701.015121\n",
       "9     136808.279672\n",
       "10    147303.774248\n",
       "Name: mileage, dtype: float64"
      ]
     },
     "execution_count": 152,
     "metadata": {},
     "output_type": "execute_result"
    }
   ],
   "source": [
    "train.groupby('years_old').mileage.mean().head(10)\n"
   ]
  },
  {
   "cell_type": "code",
   "execution_count": 153,
   "metadata": {},
   "outputs": [],
   "source": [
    "train['mileageNAN'] = train.mileageNAN * (train.years_old * 20000 + 10000)"
   ]
  },
  {
   "cell_type": "code",
   "execution_count": 154,
   "metadata": {},
   "outputs": [],
   "source": [
    "train.mileage = train.mileage + train.mileageNAN\n"
   ]
  },
  {
   "cell_type": "code",
   "execution_count": 155,
   "metadata": {},
   "outputs": [
    {
     "data": {
      "text/plain": [
       "count     189450.000000\n",
       "mean      139388.543399\n",
       "std        98740.065094\n",
       "min            1.000000\n",
       "25%        55000.000000\n",
       "50%       128000.000000\n",
       "75%       195000.000000\n",
       "max      1000000.000000\n",
       "Name: mileage, dtype: float64"
      ]
     },
     "execution_count": 155,
     "metadata": {},
     "output_type": "execute_result"
    }
   ],
   "source": [
    "train.mileage.describe()"
   ]
  },
  {
   "cell_type": "code",
   "execution_count": 156,
   "metadata": {},
   "outputs": [
    {
     "data": {
      "text/plain": [
       "years_old\n",
       "1      28985.829700\n",
       "2      31088.672652\n",
       "3      48251.513534\n",
       "4      69576.361225\n",
       "5      88291.237989\n",
       "6     100859.797868\n",
       "7     115074.663508\n",
       "8     126701.015121\n",
       "9     136808.279672\n",
       "10    147303.774248\n",
       "Name: mileage, dtype: float64"
      ]
     },
     "execution_count": 156,
     "metadata": {},
     "output_type": "execute_result"
    }
   ],
   "source": [
    "train.groupby('years_old').mileage.mean().head(10)\n"
   ]
  },
  {
   "cell_type": "code",
   "execution_count": 157,
   "metadata": {},
   "outputs": [
    {
     "data": {
      "text/plain": [
       "18051    2005\n",
       "24788    2019\n",
       "24789    2019\n",
       "42002    2019\n",
       "53666    1996\n",
       "59535    2014\n",
       "83747    2020\n",
       "83820    2020\n",
       "85056    2020\n",
       "86843    2020\n",
       "88166    2020\n",
       "88167    2020\n",
       "88210    2020\n",
       "88213    2020\n",
       "88290    2020\n",
       "88291    2019\n",
       "88305    2020\n",
       "88440    2008\n",
       "88652    1936\n",
       "45944    1956\n",
       "56361    2020\n",
       "70389    2020\n",
       "70483    2020\n",
       "76421    2020\n",
       "76528    2020\n",
       "76546    2020\n",
       "76548    2020\n",
       "76561    2020\n",
       "76584    2020\n",
       "8513     2020\n",
       "8558     2020\n",
       "8563     2020\n",
       "11683    1990\n",
       "15948    2020\n",
       "26081    2020\n",
       "Name: productionDate, dtype: int64"
      ]
     },
     "execution_count": 157,
     "metadata": {},
     "output_type": "execute_result"
    }
   ],
   "source": [
    "train[train.mileage == 1].productionDate"
   ]
  },
  {
   "cell_type": "code",
   "execution_count": 158,
   "metadata": {},
   "outputs": [],
   "source": [
    "train['mileage'] = train['mileage'].apply(lambda x: 1000 if x <100 else x)\n",
    "test['mileage'] = test['mileage'].apply(lambda x: 1000 if x < 100 else x)"
   ]
  },
  {
   "cell_type": "code",
   "execution_count": 159,
   "metadata": {},
   "outputs": [
    {
     "data": {
      "text/plain": [
       "count     189450.000000\n",
       "mean      139390.589945\n",
       "std        98737.186616\n",
       "min          100.000000\n",
       "25%        55000.000000\n",
       "50%       128000.000000\n",
       "75%       195000.000000\n",
       "max      1000000.000000\n",
       "Name: mileage, dtype: float64"
      ]
     },
     "execution_count": 159,
     "metadata": {},
     "output_type": "execute_result"
    }
   ],
   "source": [
    "train.mileage.describe()"
   ]
  },
  {
   "cell_type": "code",
   "execution_count": 160,
   "metadata": {},
   "outputs": [
    {
     "data": {
      "text/plain": [
       "передний    15565\n",
       "полный      15020\n",
       "задний       4101\n",
       "Name: Привод, dtype: int64"
      ]
     },
     "execution_count": 160,
     "metadata": {},
     "output_type": "execute_result"
    }
   ],
   "source": [
    "test.Привод.value_counts()"
   ]
  },
  {
   "cell_type": "code",
   "execution_count": 161,
   "metadata": {},
   "outputs": [
    {
     "data": {
      "text/plain": [
       "передний    92266\n",
       "полный      78108\n",
       "задний      19076\n",
       "Name: Привод, dtype: int64"
      ]
     },
     "execution_count": 161,
     "metadata": {},
     "output_type": "execute_result"
    }
   ],
   "source": [
    "train.Привод.value_counts()"
   ]
  },
  {
   "cell_type": "code",
   "execution_count": 162,
   "metadata": {},
   "outputs": [
    {
     "data": {
      "text/plain": [
       "count      189450.00\n",
       "mean      1451297.25\n",
       "std       2125309.75\n",
       "min         16000.00\n",
       "25%        390000.00\n",
       "50%        750000.00\n",
       "75%       1650000.00\n",
       "max      99000000.00\n",
       "Name: price, dtype: float64"
      ]
     },
     "execution_count": 162,
     "metadata": {},
     "output_type": "execute_result"
    }
   ],
   "source": [
    "train.price.describe()"
   ]
  },
  {
   "cell_type": "code",
   "execution_count": 163,
   "metadata": {},
   "outputs": [
    {
     "data": {
      "text/plain": [
       "<AxesSubplot:>"
      ]
     },
     "execution_count": 163,
     "metadata": {},
     "output_type": "execute_result"
    },
    {
     "data": {
      "image/png": "[encoded data removed]",
      "text/plain": [
       "<Figure size 432x288 with 1 Axes>"
      ]
     },
     "metadata": {
      "needs_background": "light"
     },
     "output_type": "display_data"
    }
   ],
   "source": [
    "train['price'].hist(bins=66)"
   ]
  },
  {
   "cell_type": "code",
   "execution_count": 164,
   "metadata": {},
   "outputs": [
    {
     "data": {
      "text/plain": [
       "<AxesSubplot:>"
      ]
     },
     "execution_count": 164,
     "metadata": {},
     "output_type": "execute_result"
    },
    {
     "data": {
      "image/png": "[encoded data removed]",
      "text/plain": [
       "<Figure size 432x288 with 1 Axes>"
      ]
     },
     "metadata": {
      "needs_background": "light"
     },
     "output_type": "display_data"
    }
   ],
   "source": [
    "train['log_price'].hist(bins=77)"
   ]
  },
  {
   "cell_type": "code",
   "execution_count": 165,
   "metadata": {},
   "outputs": [],
   "source": [
    "# train.info()"
   ]
  },
  {
   "cell_type": "markdown",
   "metadata": {},
   "source": [
    "Удаляем не нужные колонки "
   ]
  },
  {
   "cell_type": "code",
   "execution_count": 166,
   "metadata": {},
   "outputs": [],
   "source": [
    "columns_drop1 = ['model_info', 'name', 'car_url', 'sell_id', 'complectation_dict', 'equipment_dict',\n",
    "                'vehicleConfiguration','Владение', 'image', 'parsing_unixtime', 'super_gen',\n",
    "                'description', 'bodyType', 'log_power']"
   ]
  },
  {
   "cell_type": "code",
   "execution_count": 167,
   "metadata": {},
   "outputs": [],
   "source": [
    "columns_drop2 = ['model_info', 'name', 'sell_id', 'complectation_dict', 'equipment_dict',\n",
    "                'vehicleConfiguration','Владение', 'image', 'super_gen',\n",
    "                'description', 'bodyType', 'log_power']"
   ]
  },
  {
   "cell_type": "code",
   "execution_count": 168,
   "metadata": {},
   "outputs": [],
   "source": [
    "test.drop(columns_drop1, axis=1, inplace=True)"
   ]
  },
  {
   "cell_type": "code",
   "execution_count": 169,
   "metadata": {},
   "outputs": [],
   "source": [
    "train.drop(columns_drop2, axis=1, inplace=True)"
   ]
  },
  {
   "cell_type": "code",
   "execution_count": 170,
   "metadata": {},
   "outputs": [
    {
     "data": {
      "text/html": [
       "<div>\n",
       "<style scoped>\n",
       "    .dataframe tbody tr th:only-of-type {\n",
       "        vertical-align: middle;\n",
       "    }\n",
       "\n",
       "    .dataframe tbody tr th {\n",
       "        vertical-align: top;\n",
       "    }\n",
       "\n",
       "    .dataframe thead th {\n",
       "        text-align: right;\n",
       "    }\n",
       "</style>\n",
       "<table border=\"1\" class=\"dataframe\">\n",
       "  <thead>\n",
       "    <tr style=\"text-align: right;\">\n",
       "      <th></th>\n",
       "      <th>brand</th>\n",
       "      <th>color</th>\n",
       "      <th>fuelType</th>\n",
       "      <th>modelDate</th>\n",
       "      <th>numberOfDoors</th>\n",
       "      <th>productionDate</th>\n",
       "      <th>vehicleTransmission</th>\n",
       "      <th>engineDisplacement</th>\n",
       "      <th>enginePower</th>\n",
       "      <th>mileage</th>\n",
       "      <th>...</th>\n",
       "      <th>price_USD</th>\n",
       "      <th>mileageNAN</th>\n",
       "      <th>bodyType2</th>\n",
       "      <th>log_price</th>\n",
       "      <th>bT_length</th>\n",
       "      <th>brand_length</th>\n",
       "      <th>Nalog_base</th>\n",
       "      <th>Nalog</th>\n",
       "      <th>years_old</th>\n",
       "      <th>age_intervals</th>\n",
       "    </tr>\n",
       "  </thead>\n",
       "  <tbody>\n",
       "    <tr>\n",
       "      <th>332</th>\n",
       "      <td>AUDI</td>\n",
       "      <td>серый</td>\n",
       "      <td>бензин</td>\n",
       "      <td>2016</td>\n",
       "      <td>4</td>\n",
       "      <td>2020</td>\n",
       "      <td>роботизированная</td>\n",
       "      <td>1.4</td>\n",
       "      <td>150</td>\n",
       "      <td>30000</td>\n",
       "      <td>...</td>\n",
       "      <td>NaN</td>\n",
       "      <td>30000</td>\n",
       "      <td>седан</td>\n",
       "      <td>14.449651</td>\n",
       "      <td>5</td>\n",
       "      <td>4</td>\n",
       "      <td>35</td>\n",
       "      <td>5250</td>\n",
       "      <td>1</td>\n",
       "      <td>3</td>\n",
       "    </tr>\n",
       "    <tr>\n",
       "      <th>333</th>\n",
       "      <td>AUDI</td>\n",
       "      <td>серебристый</td>\n",
       "      <td>бензин</td>\n",
       "      <td>2016</td>\n",
       "      <td>4</td>\n",
       "      <td>2020</td>\n",
       "      <td>роботизированная</td>\n",
       "      <td>1.4</td>\n",
       "      <td>150</td>\n",
       "      <td>30000</td>\n",
       "      <td>...</td>\n",
       "      <td>NaN</td>\n",
       "      <td>30000</td>\n",
       "      <td>седан</td>\n",
       "      <td>14.449651</td>\n",
       "      <td>5</td>\n",
       "      <td>4</td>\n",
       "      <td>35</td>\n",
       "      <td>5250</td>\n",
       "      <td>1</td>\n",
       "      <td>3</td>\n",
       "    </tr>\n",
       "    <tr>\n",
       "      <th>336</th>\n",
       "      <td>AUDI</td>\n",
       "      <td>синий</td>\n",
       "      <td>бензин</td>\n",
       "      <td>2016</td>\n",
       "      <td>4</td>\n",
       "      <td>2020</td>\n",
       "      <td>роботизированная</td>\n",
       "      <td>1.4</td>\n",
       "      <td>150</td>\n",
       "      <td>30000</td>\n",
       "      <td>...</td>\n",
       "      <td>NaN</td>\n",
       "      <td>30000</td>\n",
       "      <td>седан</td>\n",
       "      <td>14.449651</td>\n",
       "      <td>5</td>\n",
       "      <td>4</td>\n",
       "      <td>35</td>\n",
       "      <td>5250</td>\n",
       "      <td>1</td>\n",
       "      <td>3</td>\n",
       "    </tr>\n",
       "    <tr>\n",
       "      <th>339</th>\n",
       "      <td>AUDI</td>\n",
       "      <td>синий</td>\n",
       "      <td>бензин</td>\n",
       "      <td>2016</td>\n",
       "      <td>4</td>\n",
       "      <td>2020</td>\n",
       "      <td>роботизированная</td>\n",
       "      <td>1.4</td>\n",
       "      <td>150</td>\n",
       "      <td>30000</td>\n",
       "      <td>...</td>\n",
       "      <td>NaN</td>\n",
       "      <td>30000</td>\n",
       "      <td>седан</td>\n",
       "      <td>14.516626</td>\n",
       "      <td>5</td>\n",
       "      <td>4</td>\n",
       "      <td>35</td>\n",
       "      <td>5250</td>\n",
       "      <td>1</td>\n",
       "      <td>3</td>\n",
       "    </tr>\n",
       "    <tr>\n",
       "      <th>342</th>\n",
       "      <td>AUDI</td>\n",
       "      <td>серый</td>\n",
       "      <td>бензин</td>\n",
       "      <td>2016</td>\n",
       "      <td>4</td>\n",
       "      <td>2020</td>\n",
       "      <td>роботизированная</td>\n",
       "      <td>1.4</td>\n",
       "      <td>150</td>\n",
       "      <td>30000</td>\n",
       "      <td>...</td>\n",
       "      <td>NaN</td>\n",
       "      <td>30000</td>\n",
       "      <td>седан</td>\n",
       "      <td>14.481287</td>\n",
       "      <td>5</td>\n",
       "      <td>4</td>\n",
       "      <td>35</td>\n",
       "      <td>5250</td>\n",
       "      <td>1</td>\n",
       "      <td>3</td>\n",
       "    </tr>\n",
       "    <tr>\n",
       "      <th>...</th>\n",
       "      <td>...</td>\n",
       "      <td>...</td>\n",
       "      <td>...</td>\n",
       "      <td>...</td>\n",
       "      <td>...</td>\n",
       "      <td>...</td>\n",
       "      <td>...</td>\n",
       "      <td>...</td>\n",
       "      <td>...</td>\n",
       "      <td>...</td>\n",
       "      <td>...</td>\n",
       "      <td>...</td>\n",
       "      <td>...</td>\n",
       "      <td>...</td>\n",
       "      <td>...</td>\n",
       "      <td>...</td>\n",
       "      <td>...</td>\n",
       "      <td>...</td>\n",
       "      <td>...</td>\n",
       "      <td>...</td>\n",
       "      <td>...</td>\n",
       "    </tr>\n",
       "    <tr>\n",
       "      <th>76707</th>\n",
       "      <td>MERCEDES</td>\n",
       "      <td>черный</td>\n",
       "      <td>дизель</td>\n",
       "      <td>2014</td>\n",
       "      <td>4</td>\n",
       "      <td>2020</td>\n",
       "      <td>автоматическая</td>\n",
       "      <td>2.1</td>\n",
       "      <td>190</td>\n",
       "      <td>30000</td>\n",
       "      <td>...</td>\n",
       "      <td>62282.0</td>\n",
       "      <td>30000</td>\n",
       "      <td>other</td>\n",
       "      <td>15.387454</td>\n",
       "      <td>10</td>\n",
       "      <td>8</td>\n",
       "      <td>50</td>\n",
       "      <td>9500</td>\n",
       "      <td>1</td>\n",
       "      <td>3</td>\n",
       "    </tr>\n",
       "    <tr>\n",
       "      <th>76710</th>\n",
       "      <td>MERCEDES</td>\n",
       "      <td>серый</td>\n",
       "      <td>дизель</td>\n",
       "      <td>2014</td>\n",
       "      <td>4</td>\n",
       "      <td>2020</td>\n",
       "      <td>автоматическая</td>\n",
       "      <td>2.1</td>\n",
       "      <td>190</td>\n",
       "      <td>30000</td>\n",
       "      <td>...</td>\n",
       "      <td>63135.0</td>\n",
       "      <td>30000</td>\n",
       "      <td>other</td>\n",
       "      <td>15.401066</td>\n",
       "      <td>10</td>\n",
       "      <td>8</td>\n",
       "      <td>50</td>\n",
       "      <td>9500</td>\n",
       "      <td>1</td>\n",
       "      <td>3</td>\n",
       "    </tr>\n",
       "    <tr>\n",
       "      <th>76715</th>\n",
       "      <td>MERCEDES</td>\n",
       "      <td>черный</td>\n",
       "      <td>дизель</td>\n",
       "      <td>2014</td>\n",
       "      <td>4</td>\n",
       "      <td>2020</td>\n",
       "      <td>автоматическая</td>\n",
       "      <td>2.1</td>\n",
       "      <td>190</td>\n",
       "      <td>30000</td>\n",
       "      <td>...</td>\n",
       "      <td>64724.0</td>\n",
       "      <td>30000</td>\n",
       "      <td>other</td>\n",
       "      <td>15.425920</td>\n",
       "      <td>10</td>\n",
       "      <td>8</td>\n",
       "      <td>50</td>\n",
       "      <td>9500</td>\n",
       "      <td>1</td>\n",
       "      <td>3</td>\n",
       "    </tr>\n",
       "    <tr>\n",
       "      <th>15737</th>\n",
       "      <td>BMW</td>\n",
       "      <td>красный</td>\n",
       "      <td>бензин</td>\n",
       "      <td>2007</td>\n",
       "      <td>5</td>\n",
       "      <td>2008</td>\n",
       "      <td>автоматическая</td>\n",
       "      <td>1.6</td>\n",
       "      <td>115</td>\n",
       "      <td>150000</td>\n",
       "      <td>...</td>\n",
       "      <td>NaN</td>\n",
       "      <td>0</td>\n",
       "      <td>хэтчбек 5 дв.</td>\n",
       "      <td>13.122363</td>\n",
       "      <td>13</td>\n",
       "      <td>3</td>\n",
       "      <td>25</td>\n",
       "      <td>2875</td>\n",
       "      <td>13</td>\n",
       "      <td>13</td>\n",
       "    </tr>\n",
       "    <tr>\n",
       "      <th>24551</th>\n",
       "      <td>VOLKSWAGEN</td>\n",
       "      <td>коричневый</td>\n",
       "      <td>бензин</td>\n",
       "      <td>2011</td>\n",
       "      <td>5</td>\n",
       "      <td>2011</td>\n",
       "      <td>роботизированная</td>\n",
       "      <td>1.8</td>\n",
       "      <td>152</td>\n",
       "      <td>107500</td>\n",
       "      <td>...</td>\n",
       "      <td>NaN</td>\n",
       "      <td>0</td>\n",
       "      <td>универсал 5 дв.</td>\n",
       "      <td>13.710150</td>\n",
       "      <td>15</td>\n",
       "      <td>10</td>\n",
       "      <td>45</td>\n",
       "      <td>6840</td>\n",
       "      <td>10</td>\n",
       "      <td>13</td>\n",
       "    </tr>\n",
       "  </tbody>\n",
       "</table>\n",
       "<p>27691 rows × 32 columns</p>\n",
       "</div>"
      ],
      "text/plain": [
       "            brand        color fuelType  modelDate  numberOfDoors  \\\n",
       "332          AUDI        серый   бензин       2016              4   \n",
       "333          AUDI  серебристый   бензин       2016              4   \n",
       "336          AUDI        синий   бензин       2016              4   \n",
       "339          AUDI        синий   бензин       2016              4   \n",
       "342          AUDI        серый   бензин       2016              4   \n",
       "...           ...          ...      ...        ...            ...   \n",
       "76707    MERCEDES       черный   дизель       2014              4   \n",
       "76710    MERCEDES        серый   дизель       2014              4   \n",
       "76715    MERCEDES       черный   дизель       2014              4   \n",
       "15737         BMW      красный   бензин       2007              5   \n",
       "24551  VOLKSWAGEN   коричневый   бензин       2011              5   \n",
       "\n",
       "       productionDate vehicleTransmission  engineDisplacement  enginePower  \\\n",
       "332              2020    роботизированная                 1.4          150   \n",
       "333              2020    роботизированная                 1.4          150   \n",
       "336              2020    роботизированная                 1.4          150   \n",
       "339              2020    роботизированная                 1.4          150   \n",
       "342              2020    роботизированная                 1.4          150   \n",
       "...               ...                 ...                 ...          ...   \n",
       "76707            2020      автоматическая                 2.1          190   \n",
       "76710            2020      автоматическая                 2.1          190   \n",
       "76715            2020      автоматическая                 2.1          190   \n",
       "15737            2008      автоматическая                 1.6          115   \n",
       "24551            2011    роботизированная                 1.8          152   \n",
       "\n",
       "       mileage  ... price_USD mileageNAN        bodyType2  log_price  \\\n",
       "332      30000  ...       NaN      30000            седан  14.449651   \n",
       "333      30000  ...       NaN      30000            седан  14.449651   \n",
       "336      30000  ...       NaN      30000            седан  14.449651   \n",
       "339      30000  ...       NaN      30000            седан  14.516626   \n",
       "342      30000  ...       NaN      30000            седан  14.481287   \n",
       "...        ...  ...       ...        ...              ...        ...   \n",
       "76707    30000  ...   62282.0      30000            other  15.387454   \n",
       "76710    30000  ...   63135.0      30000            other  15.401066   \n",
       "76715    30000  ...   64724.0      30000            other  15.425920   \n",
       "15737   150000  ...       NaN          0    хэтчбек 5 дв.  13.122363   \n",
       "24551   107500  ...       NaN          0  универсал 5 дв.  13.710150   \n",
       "\n",
       "      bT_length  brand_length Nalog_base  Nalog years_old age_intervals  \n",
       "332           5             4         35   5250         1             3  \n",
       "333           5             4         35   5250         1             3  \n",
       "336           5             4         35   5250         1             3  \n",
       "339           5             4         35   5250         1             3  \n",
       "342           5             4         35   5250         1             3  \n",
       "...         ...           ...        ...    ...       ...           ...  \n",
       "76707        10             8         50   9500         1             3  \n",
       "76710        10             8         50   9500         1             3  \n",
       "76715        10             8         50   9500         1             3  \n",
       "15737        13             3         25   2875        13            13  \n",
       "24551        15            10         45   6840        10            13  \n",
       "\n",
       "[27691 rows x 32 columns]"
      ]
     },
     "execution_count": 170,
     "metadata": {},
     "output_type": "execute_result"
    }
   ],
   "source": [
    "train[train['Владельцы'].isna()]"
   ]
  },
  {
   "cell_type": "code",
   "execution_count": 171,
   "metadata": {},
   "outputs": [],
   "source": [
    "train.drop(columns = ['mileageNAN'], axis=1, inplace=True)"
   ]
  },
  {
   "cell_type": "code",
   "execution_count": 176,
   "metadata": {},
   "outputs": [],
   "source": [
    "train['Владельцы'] = train['Владельцы'].fillna(train['Владельцы'].describe().top)"
   ]
  },
  {
   "cell_type": "code",
   "execution_count": 177,
   "metadata": {},
   "outputs": [],
   "source": [
    "train['model_name'] = train['model_name'].fillna(train['model_name'].describe().top)"
   ]
  },
  {
   "cell_type": "code",
   "execution_count": 178,
   "metadata": {},
   "outputs": [],
   "source": [
    "train.drop(['hidden', 'price_EUR', 'price_USD', 'Комплектация','model','start_date'],axis = 1, inplace=True)\n"
   ]
  },
  {
   "cell_type": "code",
   "execution_count": 179,
   "metadata": {},
   "outputs": [
    {
     "data": {
      "text/plain": [
       "brand                  0\n",
       "color                  0\n",
       "fuelType               0\n",
       "modelDate              0\n",
       "numberOfDoors          0\n",
       "productionDate         0\n",
       "vehicleTransmission    0\n",
       "engineDisplacement     0\n",
       "enginePower            0\n",
       "mileage                0\n",
       "Привод                 0\n",
       "Руль                   0\n",
       "Владельцы              0\n",
       "ПТС                    0\n",
       "price                  0\n",
       "model_name             0\n",
       "vendor                 0\n",
       "bodyType2              0\n",
       "log_price              0\n",
       "bT_length              0\n",
       "brand_length           0\n",
       "Nalog_base             0\n",
       "Nalog                  0\n",
       "years_old              0\n",
       "age_intervals          0\n",
       "dtype: int64"
      ]
     },
     "execution_count": 179,
     "metadata": {},
     "output_type": "execute_result"
    }
   ],
   "source": [
    "train.isna().sum()"
   ]
  },
  {
   "cell_type": "code",
   "execution_count": 180,
   "metadata": {},
   "outputs": [
    {
     "data": {
      "text/html": [
       "<div>\n",
       "<style scoped>\n",
       "    .dataframe tbody tr th:only-of-type {\n",
       "        vertical-align: middle;\n",
       "    }\n",
       "\n",
       "    .dataframe tbody tr th {\n",
       "        vertical-align: top;\n",
       "    }\n",
       "\n",
       "    .dataframe thead th {\n",
       "        text-align: right;\n",
       "    }\n",
       "</style>\n",
       "<table border=\"1\" class=\"dataframe\">\n",
       "  <thead>\n",
       "    <tr style=\"text-align: right;\">\n",
       "      <th></th>\n",
       "      <th>modelDate</th>\n",
       "      <th>numberOfDoors</th>\n",
       "      <th>productionDate</th>\n",
       "      <th>engineDisplacement</th>\n",
       "      <th>enginePower</th>\n",
       "      <th>mileage</th>\n",
       "      <th>price</th>\n",
       "      <th>log_price</th>\n",
       "      <th>bT_length</th>\n",
       "      <th>brand_length</th>\n",
       "      <th>Nalog_base</th>\n",
       "      <th>Nalog</th>\n",
       "      <th>years_old</th>\n",
       "    </tr>\n",
       "  </thead>\n",
       "  <tbody>\n",
       "    <tr>\n",
       "      <th>count</th>\n",
       "      <td>189450.000000</td>\n",
       "      <td>189450.000000</td>\n",
       "      <td>189450.000000</td>\n",
       "      <td>189450.000000</td>\n",
       "      <td>189450.000000</td>\n",
       "      <td>189450.000000</td>\n",
       "      <td>189450.00</td>\n",
       "      <td>189450.000000</td>\n",
       "      <td>189450.000000</td>\n",
       "      <td>189450.000000</td>\n",
       "      <td>189450.000000</td>\n",
       "      <td>189450.000000</td>\n",
       "      <td>189450.000000</td>\n",
       "    </tr>\n",
       "    <tr>\n",
       "      <th>mean</th>\n",
       "      <td>2008.745796</td>\n",
       "      <td>4.515302</td>\n",
       "      <td>2010.992404</td>\n",
       "      <td>14.405912</td>\n",
       "      <td>176.551903</td>\n",
       "      <td>139390.589945</td>\n",
       "      <td>1451297.25</td>\n",
       "      <td>13.591314</td>\n",
       "      <td>11.439636</td>\n",
       "      <td>7.668350</td>\n",
       "      <td>52.867548</td>\n",
       "      <td>12502.605532</td>\n",
       "      <td>10.007596</td>\n",
       "    </tr>\n",
       "    <tr>\n",
       "      <th>std</th>\n",
       "      <td>7.529783</td>\n",
       "      <td>0.656070</td>\n",
       "      <td>7.124517</td>\n",
       "      <td>66.098430</td>\n",
       "      <td>85.820272</td>\n",
       "      <td>98737.186616</td>\n",
       "      <td>2125309.75</td>\n",
       "      <td>1.070930</td>\n",
       "      <td>5.573693</td>\n",
       "      <td>2.686019</td>\n",
       "      <td>54.270668</td>\n",
       "      <td>16674.540000</td>\n",
       "      <td>7.124517</td>\n",
       "    </tr>\n",
       "    <tr>\n",
       "      <th>min</th>\n",
       "      <td>1904.000000</td>\n",
       "      <td>0.000000</td>\n",
       "      <td>1904.000000</td>\n",
       "      <td>0.800000</td>\n",
       "      <td>11.000000</td>\n",
       "      <td>100.000000</td>\n",
       "      <td>16000.00</td>\n",
       "      <td>9.680344</td>\n",
       "      <td>4.000000</td>\n",
       "      <td>3.000000</td>\n",
       "      <td>12.000000</td>\n",
       "      <td>456.000000</td>\n",
       "      <td>1.000000</td>\n",
       "    </tr>\n",
       "    <tr>\n",
       "      <th>25%</th>\n",
       "      <td>2005.000000</td>\n",
       "      <td>4.000000</td>\n",
       "      <td>2007.000000</td>\n",
       "      <td>1.600000</td>\n",
       "      <td>117.000000</td>\n",
       "      <td>55000.000000</td>\n",
       "      <td>390000.00</td>\n",
       "      <td>12.873902</td>\n",
       "      <td>5.000000</td>\n",
       "      <td>5.000000</td>\n",
       "      <td>25.000000</td>\n",
       "      <td>2925.000000</td>\n",
       "      <td>4.000000</td>\n",
       "    </tr>\n",
       "    <tr>\n",
       "      <th>50%</th>\n",
       "      <td>2010.000000</td>\n",
       "      <td>5.000000</td>\n",
       "      <td>2012.000000</td>\n",
       "      <td>2.000000</td>\n",
       "      <td>150.000000</td>\n",
       "      <td>128000.000000</td>\n",
       "      <td>750000.00</td>\n",
       "      <td>13.527828</td>\n",
       "      <td>13.000000</td>\n",
       "      <td>10.000000</td>\n",
       "      <td>35.000000</td>\n",
       "      <td>5250.000000</td>\n",
       "      <td>9.000000</td>\n",
       "    </tr>\n",
       "    <tr>\n",
       "      <th>75%</th>\n",
       "      <td>2014.000000</td>\n",
       "      <td>5.000000</td>\n",
       "      <td>2017.000000</td>\n",
       "      <td>2.400000</td>\n",
       "      <td>210.000000</td>\n",
       "      <td>195000.000000</td>\n",
       "      <td>1650000.00</td>\n",
       "      <td>14.316286</td>\n",
       "      <td>17.000000</td>\n",
       "      <td>10.000000</td>\n",
       "      <td>65.000000</td>\n",
       "      <td>13650.000000</td>\n",
       "      <td>14.000000</td>\n",
       "    </tr>\n",
       "    <tr>\n",
       "      <th>max</th>\n",
       "      <td>2020.000000</td>\n",
       "      <td>5.000000</td>\n",
       "      <td>2020.000000</td>\n",
       "      <td>520.000000</td>\n",
       "      <td>800.000000</td>\n",
       "      <td>1000000.000000</td>\n",
       "      <td>99000000.00</td>\n",
       "      <td>18.410631</td>\n",
       "      <td>39.000000</td>\n",
       "      <td>10.000000</td>\n",
       "      <td>5000.000000</td>\n",
       "      <td>160000.000000</td>\n",
       "      <td>117.000000</td>\n",
       "    </tr>\n",
       "  </tbody>\n",
       "</table>\n",
       "</div>"
      ],
      "text/plain": [
       "           modelDate  numberOfDoors  productionDate  engineDisplacement  \\\n",
       "count  189450.000000  189450.000000   189450.000000       189450.000000   \n",
       "mean     2008.745796       4.515302     2010.992404           14.405912   \n",
       "std         7.529783       0.656070        7.124517           66.098430   \n",
       "min      1904.000000       0.000000     1904.000000            0.800000   \n",
       "25%      2005.000000       4.000000     2007.000000            1.600000   \n",
       "50%      2010.000000       5.000000     2012.000000            2.000000   \n",
       "75%      2014.000000       5.000000     2017.000000            2.400000   \n",
       "max      2020.000000       5.000000     2020.000000          520.000000   \n",
       "\n",
       "         enginePower         mileage        price      log_price  \\\n",
       "count  189450.000000   189450.000000    189450.00  189450.000000   \n",
       "mean      176.551903   139390.589945   1451297.25      13.591314   \n",
       "std        85.820272    98737.186616   2125309.75       1.070930   \n",
       "min        11.000000      100.000000     16000.00       9.680344   \n",
       "25%       117.000000    55000.000000    390000.00      12.873902   \n",
       "50%       150.000000   128000.000000    750000.00      13.527828   \n",
       "75%       210.000000   195000.000000   1650000.00      14.316286   \n",
       "max       800.000000  1000000.000000  99000000.00      18.410631   \n",
       "\n",
       "           bT_length   brand_length     Nalog_base          Nalog  \\\n",
       "count  189450.000000  189450.000000  189450.000000  189450.000000   \n",
       "mean       11.439636       7.668350      52.867548   12502.605532   \n",
       "std         5.573693       2.686019      54.270668   16674.540000   \n",
       "min         4.000000       3.000000      12.000000     456.000000   \n",
       "25%         5.000000       5.000000      25.000000    2925.000000   \n",
       "50%        13.000000      10.000000      35.000000    5250.000000   \n",
       "75%        17.000000      10.000000      65.000000   13650.000000   \n",
       "max        39.000000      10.000000    5000.000000  160000.000000   \n",
       "\n",
       "           years_old  \n",
       "count  189450.000000  \n",
       "mean       10.007596  \n",
       "std         7.124517  \n",
       "min         1.000000  \n",
       "25%         4.000000  \n",
       "50%         9.000000  \n",
       "75%        14.000000  \n",
       "max       117.000000  "
      ]
     },
     "execution_count": 180,
     "metadata": {},
     "output_type": "execute_result"
    }
   ],
   "source": [
    "train.describe()"
   ]
  },
  {
   "cell_type": "code",
   "execution_count": 181,
   "metadata": {},
   "outputs": [],
   "source": [
    "num_cols = ['engineDisplacement', 'enginePower', 'mileage', 'bT_length', 'Nalog_base',\n",
    "       'brand_length', 'Nalog', 'years_old', 'log_price']"
   ]
  },
  {
   "cell_type": "code",
   "execution_count": 182,
   "metadata": {},
   "outputs": [
    {
     "data": {
      "text/html": [
       "<div>\n",
       "<style scoped>\n",
       "    .dataframe tbody tr th:only-of-type {\n",
       "        vertical-align: middle;\n",
       "    }\n",
       "\n",
       "    .dataframe tbody tr th {\n",
       "        vertical-align: top;\n",
       "    }\n",
       "\n",
       "    .dataframe thead th {\n",
       "        text-align: right;\n",
       "    }\n",
       "</style>\n",
       "<table border=\"1\" class=\"dataframe\">\n",
       "  <thead>\n",
       "    <tr style=\"text-align: right;\">\n",
       "      <th></th>\n",
       "      <th>engineDisplacement</th>\n",
       "      <th>enginePower</th>\n",
       "      <th>mileage</th>\n",
       "      <th>bT_length</th>\n",
       "      <th>Nalog_base</th>\n",
       "      <th>brand_length</th>\n",
       "      <th>Nalog</th>\n",
       "      <th>years_old</th>\n",
       "      <th>log_price</th>\n",
       "    </tr>\n",
       "  </thead>\n",
       "  <tbody>\n",
       "    <tr>\n",
       "      <th>engineDisplacement</th>\n",
       "      <td>1.000000</td>\n",
       "      <td>0.155808</td>\n",
       "      <td>-0.041488</td>\n",
       "      <td>-0.032796</td>\n",
       "      <td>0.121009</td>\n",
       "      <td>-0.085108</td>\n",
       "      <td>0.139257</td>\n",
       "      <td>-0.046851</td>\n",
       "      <td>0.150336</td>\n",
       "    </tr>\n",
       "    <tr>\n",
       "      <th>enginePower</th>\n",
       "      <td>0.155808</td>\n",
       "      <td>1.000000</td>\n",
       "      <td>-0.164624</td>\n",
       "      <td>0.197952</td>\n",
       "      <td>0.680352</td>\n",
       "      <td>-0.314652</td>\n",
       "      <td>0.953984</td>\n",
       "      <td>-0.202442</td>\n",
       "      <td>0.604954</td>\n",
       "    </tr>\n",
       "    <tr>\n",
       "      <th>mileage</th>\n",
       "      <td>-0.041488</td>\n",
       "      <td>-0.164624</td>\n",
       "      <td>1.000000</td>\n",
       "      <td>-0.186942</td>\n",
       "      <td>-0.086917</td>\n",
       "      <td>-0.020216</td>\n",
       "      <td>-0.126112</td>\n",
       "      <td>0.727362</td>\n",
       "      <td>-0.630377</td>\n",
       "    </tr>\n",
       "    <tr>\n",
       "      <th>bT_length</th>\n",
       "      <td>-0.032796</td>\n",
       "      <td>0.197952</td>\n",
       "      <td>-0.186942</td>\n",
       "      <td>1.000000</td>\n",
       "      <td>0.138706</td>\n",
       "      <td>0.037404</td>\n",
       "      <td>0.169424</td>\n",
       "      <td>-0.208488</td>\n",
       "      <td>0.311163</td>\n",
       "    </tr>\n",
       "    <tr>\n",
       "      <th>Nalog_base</th>\n",
       "      <td>0.121009</td>\n",
       "      <td>0.680352</td>\n",
       "      <td>-0.086917</td>\n",
       "      <td>0.138706</td>\n",
       "      <td>1.000000</td>\n",
       "      <td>-0.230279</td>\n",
       "      <td>0.740715</td>\n",
       "      <td>-0.062277</td>\n",
       "      <td>0.393028</td>\n",
       "    </tr>\n",
       "    <tr>\n",
       "      <th>brand_length</th>\n",
       "      <td>-0.085108</td>\n",
       "      <td>-0.314652</td>\n",
       "      <td>-0.020216</td>\n",
       "      <td>0.037404</td>\n",
       "      <td>-0.230279</td>\n",
       "      <td>1.000000</td>\n",
       "      <td>-0.256567</td>\n",
       "      <td>0.009991</td>\n",
       "      <td>-0.256195</td>\n",
       "    </tr>\n",
       "    <tr>\n",
       "      <th>Nalog</th>\n",
       "      <td>0.139257</td>\n",
       "      <td>0.953984</td>\n",
       "      <td>-0.126112</td>\n",
       "      <td>0.169424</td>\n",
       "      <td>0.740715</td>\n",
       "      <td>-0.256567</td>\n",
       "      <td>1.000000</td>\n",
       "      <td>-0.133779</td>\n",
       "      <td>0.495893</td>\n",
       "    </tr>\n",
       "    <tr>\n",
       "      <th>years_old</th>\n",
       "      <td>-0.046851</td>\n",
       "      <td>-0.202442</td>\n",
       "      <td>0.727362</td>\n",
       "      <td>-0.208488</td>\n",
       "      <td>-0.062277</td>\n",
       "      <td>0.009991</td>\n",
       "      <td>-0.133779</td>\n",
       "      <td>1.000000</td>\n",
       "      <td>-0.738321</td>\n",
       "    </tr>\n",
       "    <tr>\n",
       "      <th>log_price</th>\n",
       "      <td>0.150336</td>\n",
       "      <td>0.604954</td>\n",
       "      <td>-0.630377</td>\n",
       "      <td>0.311163</td>\n",
       "      <td>0.393028</td>\n",
       "      <td>-0.256195</td>\n",
       "      <td>0.495893</td>\n",
       "      <td>-0.738321</td>\n",
       "      <td>1.000000</td>\n",
       "    </tr>\n",
       "  </tbody>\n",
       "</table>\n",
       "</div>"
      ],
      "text/plain": [
       "                    engineDisplacement  enginePower   mileage  bT_length  \\\n",
       "engineDisplacement            1.000000     0.155808 -0.041488  -0.032796   \n",
       "enginePower                   0.155808     1.000000 -0.164624   0.197952   \n",
       "mileage                      -0.041488    -0.164624  1.000000  -0.186942   \n",
       "bT_length                    -0.032796     0.197952 -0.186942   1.000000   \n",
       "Nalog_base                    0.121009     0.680352 -0.086917   0.138706   \n",
       "brand_length                 -0.085108    -0.314652 -0.020216   0.037404   \n",
       "Nalog                         0.139257     0.953984 -0.126112   0.169424   \n",
       "years_old                    -0.046851    -0.202442  0.727362  -0.208488   \n",
       "log_price                     0.150336     0.604954 -0.630377   0.311163   \n",
       "\n",
       "                    Nalog_base  brand_length     Nalog  years_old  log_price  \n",
       "engineDisplacement    0.121009     -0.085108  0.139257  -0.046851   0.150336  \n",
       "enginePower           0.680352     -0.314652  0.953984  -0.202442   0.604954  \n",
       "mileage              -0.086917     -0.020216 -0.126112   0.727362  -0.630377  \n",
       "bT_length             0.138706      0.037404  0.169424  -0.208488   0.311163  \n",
       "Nalog_base            1.000000     -0.230279  0.740715  -0.062277   0.393028  \n",
       "brand_length         -0.230279      1.000000 -0.256567   0.009991  -0.256195  \n",
       "Nalog                 0.740715     -0.256567  1.000000  -0.133779   0.495893  \n",
       "years_old            -0.062277      0.009991 -0.133779   1.000000  -0.738321  \n",
       "log_price             0.393028     -0.256195  0.495893  -0.738321   1.000000  "
      ]
     },
     "execution_count": 182,
     "metadata": {},
     "output_type": "execute_result"
    }
   ],
   "source": [
    "correlation = train[num_cols].corr()\n",
    "correlation"
   ]
  },
  {
   "cell_type": "code",
   "execution_count": 183,
   "metadata": {},
   "outputs": [
    {
     "data": {
      "text/plain": [
       "<AxesSubplot:>"
      ]
     },
     "execution_count": 183,
     "metadata": {},
     "output_type": "execute_result"
    },
    {
     "data": {
      "image/png": "[encoded data removed]",
      "text/plain": [
       "<Figure size 1440x864 with 2 Axes>"
      ]
     },
     "metadata": {
      "needs_background": "light"
     },
     "output_type": "display_data"
    }
   ],
   "source": [
    "plt.figure(figsize=(20, 12))\n",
    "sns.heatmap(correlation, annot=True, cmap='coolwarm')"
   ]
  },
  {
   "cell_type": "code",
   "execution_count": 184,
   "metadata": {},
   "outputs": [],
   "source": [
    "columns_d = ['brand_length']\n",
    "train.drop(columns_d, axis=1, inplace=True)\n",
    "test.drop(columns_d, axis=1, inplace=True)"
   ]
  },
  {
   "cell_type": "code",
   "execution_count": null,
   "metadata": {},
   "outputs": [],
   "source": []
  },
  {
   "cell_type": "code",
   "execution_count": null,
   "metadata": {},
   "outputs": [],
   "source": []
  },
  {
   "cell_type": "code",
   "execution_count": 186,
   "metadata": {},
   "outputs": [],
   "source": [
    "columns = ['brand', 'color', 'engineDisplacement', 'enginePower', 'fuelType',\n",
    "       'mileage', 'modelDate', 'model_name', 'numberOfDoors',\n",
    "       'productionDate', 'vehicleTransmission', 'vendor',\n",
    "       'Владельцы', 'ПТС', 'Привод', 'Руль', 'bodyType2', 'bT_length',\n",
    "       'Nalog', 'years_old', 'age_intervals']"
   ]
  },
  {
   "cell_type": "code",
   "execution_count": 211,
   "metadata": {},
   "outputs": [],
   "source": [
    "df_train = train[columns]\n",
    "df_test = test[columns]"
   ]
  },
  {
   "cell_type": "code",
   "execution_count": 212,
   "metadata": {},
   "outputs": [
    {
     "name": "stdout",
     "output_type": "stream",
     "text": [
      "<class 'pandas.core.frame.DataFrame'>\n",
      "Int64Index: 189450 entries, 0 to 27566\n",
      "Data columns (total 21 columns):\n",
      " #   Column               Non-Null Count   Dtype   \n",
      "---  ------               --------------   -----   \n",
      " 0   brand                189450 non-null  object  \n",
      " 1   color                189450 non-null  object  \n",
      " 2   engineDisplacement   189450 non-null  float64 \n",
      " 3   enginePower          189450 non-null  int64   \n",
      " 4   fuelType             189450 non-null  object  \n",
      " 5   mileage              189450 non-null  int64   \n",
      " 6   modelDate            189450 non-null  int64   \n",
      " 7   model_name           189450 non-null  object  \n",
      " 8   numberOfDoors        189450 non-null  int64   \n",
      " 9   productionDate       189450 non-null  int64   \n",
      " 10  vehicleTransmission  189450 non-null  object  \n",
      " 11  vendor               189450 non-null  object  \n",
      " 12  Владельцы            189450 non-null  category\n",
      " 13  ПТС                  189450 non-null  object  \n",
      " 14  Привод               189450 non-null  object  \n",
      " 15  Руль                 189450 non-null  object  \n",
      " 16  bodyType2            189450 non-null  object  \n",
      " 17  bT_length            189450 non-null  int64   \n",
      " 18  Nalog                189450 non-null  int64   \n",
      " 19  years_old            189450 non-null  int64   \n",
      " 20  age_intervals        189450 non-null  category\n",
      "dtypes: category(2), float64(1), int64(8), object(10)\n",
      "memory usage: 34.3+ MB\n"
     ]
    }
   ],
   "source": [
    "df_train.info()"
   ]
  },
  {
   "cell_type": "code",
   "execution_count": 213,
   "metadata": {},
   "outputs": [
    {
     "name": "stdout",
     "output_type": "stream",
     "text": [
      "<class 'pandas.core.frame.DataFrame'>\n",
      "RangeIndex: 34686 entries, 0 to 34685\n",
      "Data columns (total 21 columns):\n",
      " #   Column               Non-Null Count  Dtype   \n",
      "---  ------               --------------  -----   \n",
      " 0   brand                34686 non-null  object  \n",
      " 1   color                34686 non-null  object  \n",
      " 2   engineDisplacement   34686 non-null  float32 \n",
      " 3   enginePower          34686 non-null  float64 \n",
      " 4   fuelType             34686 non-null  object  \n",
      " 5   mileage              34686 non-null  int64   \n",
      " 6   modelDate            34686 non-null  int64   \n",
      " 7   model_name           34686 non-null  object  \n",
      " 8   numberOfDoors        34686 non-null  int64   \n",
      " 9   productionDate       34686 non-null  int64   \n",
      " 10  vehicleTransmission  34686 non-null  object  \n",
      " 11  vendor               34686 non-null  object  \n",
      " 12  Владельцы            34686 non-null  category\n",
      " 13  ПТС                  34686 non-null  object  \n",
      " 14  Привод               34686 non-null  object  \n",
      " 15  Руль                 34686 non-null  object  \n",
      " 16  bodyType2            34686 non-null  object  \n",
      " 17  bT_length            34686 non-null  int64   \n",
      " 18  Nalog                34686 non-null  float64 \n",
      " 19  years_old            34686 non-null  int64   \n",
      " 20  age_intervals        34686 non-null  category\n",
      "dtypes: category(2), float32(1), float64(2), int64(6), object(10)\n",
      "memory usage: 5.0+ MB\n"
     ]
    }
   ],
   "source": [
    "df_test.info()"
   ]
  },
  {
   "cell_type": "code",
   "execution_count": 214,
   "metadata": {},
   "outputs": [
    {
     "name": "stdout",
     "output_type": "stream",
     "text": [
      "<class 'pandas.core.frame.DataFrame'>\n",
      "RangeIndex: 34686 entries, 0 to 34685\n",
      "Data columns (total 21 columns):\n",
      " #   Column               Non-Null Count  Dtype   \n",
      "---  ------               --------------  -----   \n",
      " 0   brand                34686 non-null  object  \n",
      " 1   color                34686 non-null  object  \n",
      " 2   engineDisplacement   34686 non-null  float32 \n",
      " 3   enginePower          34686 non-null  float64 \n",
      " 4   fuelType             34686 non-null  object  \n",
      " 5   mileage              34686 non-null  int64   \n",
      " 6   modelDate            34686 non-null  int64   \n",
      " 7   model_name           34686 non-null  object  \n",
      " 8   numberOfDoors        34686 non-null  int64   \n",
      " 9   productionDate       34686 non-null  int64   \n",
      " 10  vehicleTransmission  34686 non-null  object  \n",
      " 11  vendor               34686 non-null  object  \n",
      " 12  Владельцы            34686 non-null  category\n",
      " 13  ПТС                  34686 non-null  object  \n",
      " 14  Привод               34686 non-null  object  \n",
      " 15  Руль                 34686 non-null  object  \n",
      " 16  bodyType2            34686 non-null  object  \n",
      " 17  bT_length            34686 non-null  int64   \n",
      " 18  Nalog                34686 non-null  float64 \n",
      " 19  years_old            34686 non-null  int64   \n",
      " 20  age_intervals        34686 non-null  category\n",
      "dtypes: category(2), float32(1), float64(2), int64(6), object(10)\n",
      "memory usage: 5.0+ MB\n"
     ]
    }
   ],
   "source": [
    "df_test.info()"
   ]
  },
  {
   "cell_type": "code",
   "execution_count": 215,
   "metadata": {},
   "outputs": [],
   "source": [
    "y = train['price']"
   ]
  },
  {
   "cell_type": "markdown",
   "metadata": {},
   "source": [
    "# Label Encoding\n"
   ]
  },
  {
   "cell_type": "code",
   "execution_count": 241,
   "metadata": {},
   "outputs": [
    {
     "name": "stderr",
     "output_type": "stream",
     "text": [
      "<ipython-input-241-4e88541df81a>:1: SettingWithCopyWarning: \n",
      "A value is trying to be set on a copy of a slice from a DataFrame.\n",
      "Try using .loc[row_indexer,col_indexer] = value instead\n",
      "\n",
      "See the caveats in the documentation: https://pandas.pydata.org/pandas-docs/stable/user_guide/indexing.html#returning-a-view-versus-a-copy\n",
      "  df_train['sample'] = 1 # трейн\n"
     ]
    }
   ],
   "source": [
    "df_train['sample'] = 1 # трейн\n",
    "df_test['sample'] = 0 # тест\n",
    "\n",
    "data = df_test.append(df_train, sort=False).reset_index(drop=True) "
   ]
  },
  {
   "cell_type": "code",
   "execution_count": 217,
   "metadata": {},
   "outputs": [
    {
     "data": {
      "text/plain": [
       "brand                  0\n",
       "color                  0\n",
       "engineDisplacement     0\n",
       "enginePower            0\n",
       "fuelType               0\n",
       "mileage                0\n",
       "modelDate              0\n",
       "model_name             0\n",
       "numberOfDoors          0\n",
       "productionDate         0\n",
       "vehicleTransmission    0\n",
       "vendor                 0\n",
       "Владельцы              0\n",
       "ПТС                    0\n",
       "Привод                 0\n",
       "Руль                   0\n",
       "bodyType2              0\n",
       "bT_length              0\n",
       "Nalog                  0\n",
       "years_old              0\n",
       "age_intervals          0\n",
       "sample                 0\n",
       "dtype: int64"
      ]
     },
     "execution_count": 217,
     "metadata": {},
     "output_type": "execute_result"
    }
   ],
   "source": [
    "data.isna().sum()"
   ]
  },
  {
   "cell_type": "code",
   "execution_count": 218,
   "metadata": {},
   "outputs": [],
   "source": [
    "for column in ['bodyType2', 'brand', 'color', 'fuelType', 'model_name', 'vendor', 'Владельцы', 'vehicleTransmission', 'Привод', 'age_intervals']:\n",
    "    data[column] = data[column].astype('category').cat.codes"
   ]
  },
  {
   "cell_type": "code",
   "execution_count": 219,
   "metadata": {},
   "outputs": [
    {
     "data": {
      "text/html": [
       "<div>\n",
       "<style scoped>\n",
       "    .dataframe tbody tr th:only-of-type {\n",
       "        vertical-align: middle;\n",
       "    }\n",
       "\n",
       "    .dataframe tbody tr th {\n",
       "        vertical-align: top;\n",
       "    }\n",
       "\n",
       "    .dataframe thead th {\n",
       "        text-align: right;\n",
       "    }\n",
       "</style>\n",
       "<table border=\"1\" class=\"dataframe\">\n",
       "  <thead>\n",
       "    <tr style=\"text-align: right;\">\n",
       "      <th></th>\n",
       "      <th>brand</th>\n",
       "      <th>color</th>\n",
       "      <th>engineDisplacement</th>\n",
       "      <th>enginePower</th>\n",
       "      <th>fuelType</th>\n",
       "      <th>mileage</th>\n",
       "      <th>modelDate</th>\n",
       "      <th>model_name</th>\n",
       "      <th>numberOfDoors</th>\n",
       "      <th>productionDate</th>\n",
       "      <th>...</th>\n",
       "      <th>Владельцы</th>\n",
       "      <th>ПТС</th>\n",
       "      <th>Привод</th>\n",
       "      <th>Руль</th>\n",
       "      <th>bodyType2</th>\n",
       "      <th>bT_length</th>\n",
       "      <th>Nalog</th>\n",
       "      <th>years_old</th>\n",
       "      <th>age_intervals</th>\n",
       "      <th>sample</th>\n",
       "    </tr>\n",
       "  </thead>\n",
       "  <tbody>\n",
       "    <tr>\n",
       "      <th>0</th>\n",
       "      <td>8</td>\n",
       "      <td>14</td>\n",
       "      <td>1.2</td>\n",
       "      <td>105.0</td>\n",
       "      <td>0</td>\n",
       "      <td>74000</td>\n",
       "      <td>2013</td>\n",
       "      <td>710</td>\n",
       "      <td>5</td>\n",
       "      <td>2014</td>\n",
       "      <td>...</td>\n",
       "      <td>2</td>\n",
       "      <td>1</td>\n",
       "      <td>1</td>\n",
       "      <td>0</td>\n",
       "      <td>4</td>\n",
       "      <td>7</td>\n",
       "      <td>2625.0</td>\n",
       "      <td>7</td>\n",
       "      <td>1</td>\n",
       "      <td>0</td>\n",
       "    </tr>\n",
       "    <tr>\n",
       "      <th>1</th>\n",
       "      <td>8</td>\n",
       "      <td>17</td>\n",
       "      <td>1.6</td>\n",
       "      <td>110.0</td>\n",
       "      <td>0</td>\n",
       "      <td>60563</td>\n",
       "      <td>2017</td>\n",
       "      <td>710</td>\n",
       "      <td>5</td>\n",
       "      <td>2017</td>\n",
       "      <td>...</td>\n",
       "      <td>0</td>\n",
       "      <td>1</td>\n",
       "      <td>1</td>\n",
       "      <td>0</td>\n",
       "      <td>4</td>\n",
       "      <td>7</td>\n",
       "      <td>2750.0</td>\n",
       "      <td>4</td>\n",
       "      <td>1</td>\n",
       "      <td>0</td>\n",
       "    </tr>\n",
       "    <tr>\n",
       "      <th>2</th>\n",
       "      <td>8</td>\n",
       "      <td>13</td>\n",
       "      <td>1.8</td>\n",
       "      <td>152.0</td>\n",
       "      <td>0</td>\n",
       "      <td>88000</td>\n",
       "      <td>2013</td>\n",
       "      <td>954</td>\n",
       "      <td>5</td>\n",
       "      <td>2014</td>\n",
       "      <td>...</td>\n",
       "      <td>0</td>\n",
       "      <td>1</td>\n",
       "      <td>1</td>\n",
       "      <td>0</td>\n",
       "      <td>4</td>\n",
       "      <td>7</td>\n",
       "      <td>6840.0</td>\n",
       "      <td>7</td>\n",
       "      <td>1</td>\n",
       "      <td>0</td>\n",
       "    </tr>\n",
       "    <tr>\n",
       "      <th>3</th>\n",
       "      <td>8</td>\n",
       "      <td>7</td>\n",
       "      <td>1.6</td>\n",
       "      <td>110.0</td>\n",
       "      <td>0</td>\n",
       "      <td>95000</td>\n",
       "      <td>2013</td>\n",
       "      <td>710</td>\n",
       "      <td>5</td>\n",
       "      <td>2014</td>\n",
       "      <td>...</td>\n",
       "      <td>0</td>\n",
       "      <td>1</td>\n",
       "      <td>1</td>\n",
       "      <td>0</td>\n",
       "      <td>4</td>\n",
       "      <td>7</td>\n",
       "      <td>2750.0</td>\n",
       "      <td>7</td>\n",
       "      <td>1</td>\n",
       "      <td>0</td>\n",
       "    </tr>\n",
       "    <tr>\n",
       "      <th>4</th>\n",
       "      <td>8</td>\n",
       "      <td>1</td>\n",
       "      <td>1.8</td>\n",
       "      <td>152.0</td>\n",
       "      <td>0</td>\n",
       "      <td>58536</td>\n",
       "      <td>2008</td>\n",
       "      <td>710</td>\n",
       "      <td>5</td>\n",
       "      <td>2012</td>\n",
       "      <td>...</td>\n",
       "      <td>0</td>\n",
       "      <td>1</td>\n",
       "      <td>1</td>\n",
       "      <td>0</td>\n",
       "      <td>4</td>\n",
       "      <td>7</td>\n",
       "      <td>6840.0</td>\n",
       "      <td>9</td>\n",
       "      <td>2</td>\n",
       "      <td>0</td>\n",
       "    </tr>\n",
       "  </tbody>\n",
       "</table>\n",
       "<p>5 rows × 22 columns</p>\n",
       "</div>"
      ],
      "text/plain": [
       "   brand  color  engineDisplacement  enginePower  fuelType  mileage  \\\n",
       "0      8     14                 1.2        105.0         0    74000   \n",
       "1      8     17                 1.6        110.0         0    60563   \n",
       "2      8     13                 1.8        152.0         0    88000   \n",
       "3      8      7                 1.6        110.0         0    95000   \n",
       "4      8      1                 1.8        152.0         0    58536   \n",
       "\n",
       "   modelDate  model_name  numberOfDoors  productionDate  ...  Владельцы  ПТС  \\\n",
       "0       2013         710              5            2014  ...          2    1   \n",
       "1       2017         710              5            2017  ...          0    1   \n",
       "2       2013         954              5            2014  ...          0    1   \n",
       "3       2013         710              5            2014  ...          0    1   \n",
       "4       2008         710              5            2012  ...          0    1   \n",
       "\n",
       "   Привод  Руль  bodyType2  bT_length   Nalog  years_old  age_intervals  \\\n",
       "0       1     0          4          7  2625.0          7              1   \n",
       "1       1     0          4          7  2750.0          4              1   \n",
       "2       1     0          4          7  6840.0          7              1   \n",
       "3       1     0          4          7  2750.0          7              1   \n",
       "4       1     0          4          7  6840.0          9              2   \n",
       "\n",
       "   sample  \n",
       "0       0  \n",
       "1       0  \n",
       "2       0  \n",
       "3       0  \n",
       "4       0  \n",
       "\n",
       "[5 rows x 22 columns]"
      ]
     },
     "execution_count": 219,
     "metadata": {},
     "output_type": "execute_result"
    }
   ],
   "source": [
    "bin_cols = ['ПТС', 'Руль']\n",
    "label_encoder = LabelEncoder()\n",
    "for column in bin_cols:\n",
    "    data[column] = label_encoder.fit_transform(data[column])\n",
    "data.head()"
   ]
  },
  {
   "cell_type": "code",
   "execution_count": 220,
   "metadata": {},
   "outputs": [],
   "source": [
    "X = data.query('sample == 1').drop(['sample'], axis=1)\n",
    "X_sub = data.query('sample == 0').drop(['sample'], axis=1)"
   ]
  },
  {
   "cell_type": "markdown",
   "metadata": {},
   "source": [
    "Function to determine value of mape"
   ]
  },
  {
   "cell_type": "code",
   "execution_count": 221,
   "metadata": {},
   "outputs": [],
   "source": [
    "def mape(y_true, y_pred):\n",
    "    return np.mean(np.abs((y_pred-y_true)/y_true))"
   ]
  },
  {
   "cell_type": "markdown",
   "metadata": {},
   "source": [
    "## Train test split"
   ]
  },
  {
   "cell_type": "code",
   "execution_count": 222,
   "metadata": {},
   "outputs": [],
   "source": [
    "X_train, X_test, y_train, y_test = train_test_split(X, y, test_size=VAL_SIZE, shuffle=True, random_state=RANDOM_SEED)"
   ]
  },
  {
   "cell_type": "code",
   "execution_count": 223,
   "metadata": {},
   "outputs": [
    {
     "data": {
      "text/plain": [
       "35293    12.785491\n",
       "43487    12.206073\n",
       "16756    15.287983\n",
       "22445    13.975075\n",
       "5453     13.304685\n",
       "           ...    \n",
       "33843    13.763165\n",
       "17258    12.254863\n",
       "46120    16.077065\n",
       "61405    13.440089\n",
       "35955    12.206073\n",
       "Name: price, Length: 151560, dtype: float32"
      ]
     },
     "execution_count": 223,
     "metadata": {},
     "output_type": "execute_result"
    }
   ],
   "source": [
    "np.log(y_train)"
   ]
  },
  {
   "cell_type": "markdown",
   "metadata": {},
   "source": [
    "## CatBoost Regressor"
   ]
  },
  {
   "cell_type": "code",
   "execution_count": null,
   "metadata": {},
   "outputs": [],
   "source": [
    "model = CatBoostRegressor(iterations = 5000, random_seed = RANDOM_SEED, eval_metric='MAPE', \n",
    "                          custom_metric=['R2', 'MAE'], silent=True)"
   ]
  },
  {
   "cell_type": "code",
   "execution_count": null,
   "metadata": {},
   "outputs": [],
   "source": [
    "model.fit(X_train, np.log(y_train),   eval_set=(X_test, np.log(y_test)),\n",
    "     verbose_eval=0,\n",
    "     use_best_model=True,\n",
    "     #plot=True\n",
    "     )"
   ]
  },
  {
   "cell_type": "code",
   "execution_count": null,
   "metadata": {},
   "outputs": [],
   "source": [
    "predict_test = np.exp(model.predict(X_test)) \n",
    "predict_submission = np.exp(model.predict(X_sub))"
   ]
  },
  {
   "cell_type": "code",
   "execution_count": null,
   "metadata": {},
   "outputs": [],
   "source": [
    "print(f\"Точность модели по метрике MAPE: {(mape(y_test, predict_test))*100:0.2f}%\")"
   ]
  },
  {
   "cell_type": "code",
   "execution_count": null,
   "metadata": {},
   "outputs": [],
   "source": [
    "sample_submission['price'] = predict_submission\n",
    "sample_submission.to_csv('submission_catboost.csv', index=False)\n"
   ]
  },
  {
   "cell_type": "markdown",
   "metadata": {},
   "source": [
    "## GradientBoostingRegressor"
   ]
  },
  {
   "cell_type": "code",
   "execution_count": null,
   "metadata": {},
   "outputs": [],
   "source": [
    "gb = GradientBoostingRegressor(min_samples_split=2, learning_rate=0.03, max_depth=10, n_estimators=5000)"
   ]
  },
  {
   "cell_type": "code",
   "execution_count": null,
   "metadata": {},
   "outputs": [],
   "source": [
    "gb.fit(X_train, np.log(y_train))"
   ]
  },
  {
   "cell_type": "code",
   "execution_count": null,
   "metadata": {},
   "outputs": [],
   "source": [
    "predict_test = np.exp(gb.predict(X_test))\n",
    "predict_submission = np.exp(gb.predict(X_sub))"
   ]
  },
  {
   "cell_type": "code",
   "execution_count": null,
   "metadata": {},
   "outputs": [],
   "source": [
    "print(f\"Точность модели по метрике MAPE: {(mape(y_test, predict_test))*100:0.2f}%\")"
   ]
  },
  {
   "cell_type": "code",
   "execution_count": null,
   "metadata": {},
   "outputs": [],
   "source": [
    "sample_submission['price'] = predict_submission\n",
    "sample_submission.to_csv('submission_1601gb.csv', index=False)\n"
   ]
  },
  {
   "cell_type": "markdown",
   "metadata": {},
   "source": [
    "## RandomForestRegressor"
   ]
  },
  {
   "cell_type": "code",
   "execution_count": null,
   "metadata": {},
   "outputs": [],
   "source": [
    "rfr = RandomForestRegressor(n_estimators=1000, max_depth = 15, max_features = 'log2', random_state = 42, oob_score=True,) \n"
   ]
  },
  {
   "cell_type": "code",
   "execution_count": null,
   "metadata": {},
   "outputs": [],
   "source": [
    "rfr.fit(X_train, np.log(y_train))"
   ]
  },
  {
   "cell_type": "code",
   "execution_count": null,
   "metadata": {},
   "outputs": [],
   "source": [
    "predict_test = np.exp(rfr.predict(X_test))\n",
    "predict_submission = np.exp(rfr.predict(X_sub))"
   ]
  },
  {
   "cell_type": "code",
   "execution_count": null,
   "metadata": {},
   "outputs": [],
   "source": [
    "print(f\"Точность модели по метрике MAPE: {(mape(y_test, predict_test))*100:0.2f}%\")"
   ]
  },
  {
   "cell_type": "code",
   "execution_count": null,
   "metadata": {},
   "outputs": [],
   "source": [
    "sample_submission['price'] = predict_submission\n",
    "sample_submission.to_csv('submission_1602rfr.csv', index=False)\n"
   ]
  },
  {
   "cell_type": "code",
   "execution_count": 202,
   "metadata": {},
   "outputs": [],
   "source": [
    "import xgboost as xgb"
   ]
  },
  {
   "cell_type": "markdown",
   "metadata": {},
   "source": [
    "## XGBRegressor"
   ]
  },
  {
   "cell_type": "code",
   "execution_count": 224,
   "metadata": {},
   "outputs": [],
   "source": [
    "xg_reg = xgb.XGBRegressor(objective='reg:squarederror', colsample_bytree=0.5,booster='gbtree',\n",
    "                          learning_rate= 0.01 ,max_depth=13, alpha=1,n_jobs=1,\n",
    "                          n_estimators=5000)\n"
   ]
  },
  {
   "cell_type": "code",
   "execution_count": 226,
   "metadata": {},
   "outputs": [
    {
     "data": {
      "text/plain": [
       "XGBRegressor(alpha=1, base_score=0.5, booster='gbtree', colsample_bylevel=1,\n",
       "             colsample_bynode=1, colsample_bytree=0.5, gamma=0, gpu_id=-1,\n",
       "             importance_type='gain', interaction_constraints='',\n",
       "             learning_rate=0.01, max_delta_step=0, max_depth=13,\n",
       "             min_child_weight=1, missing=nan, monotone_constraints='()',\n",
       "             n_estimators=5000, n_jobs=1, num_parallel_tree=1, random_state=0,\n",
       "             reg_alpha=1, reg_lambda=1, scale_pos_weight=1, subsample=1,\n",
       "             tree_method='exact', validate_parameters=1, verbosity=None)"
      ]
     },
     "execution_count": 226,
     "metadata": {},
     "output_type": "execute_result"
    }
   ],
   "source": [
    "xg_reg.fit(X_train, np.log(y_train))"
   ]
  },
  {
   "cell_type": "code",
   "execution_count": 227,
   "metadata": {},
   "outputs": [],
   "source": [
    "predict_test = np.exp(xg_reg.predict(X_test)) \n",
    "predict_submission = np.exp(xg_reg.predict(X_sub))\n"
   ]
  },
  {
   "cell_type": "code",
   "execution_count": 228,
   "metadata": {},
   "outputs": [
    {
     "name": "stdout",
     "output_type": "stream",
     "text": [
      "Точность модели по метрике MAPE: 10.73%\n"
     ]
    }
   ],
   "source": [
    "print(f\"Точность модели по метрике MAPE: {(mape(y_test, predict_test))*100:0.2f}%\")"
   ]
  },
  {
   "cell_type": "code",
   "execution_count": 229,
   "metadata": {},
   "outputs": [],
   "source": [
    "sample_submission['price'] = predict_submission\n",
    "sample_submission.to_csv('submission_stackingxg.csv', index=False)\n"
   ]
  },
  {
   "cell_type": "code",
   "execution_count": null,
   "metadata": {},
   "outputs": [],
   "source": []
  },
  {
   "cell_type": "markdown",
   "metadata": {},
   "source": [
    "## StackingRegressor"
   ]
  },
  {
   "cell_type": "markdown",
   "metadata": {},
   "source": [
    "Так как лучший результат дал нам именно GradientBoostingRegressor и XGBRegressor,я использовал этих "
   ]
  },
  {
   "cell_type": "code",
   "execution_count": null,
   "metadata": {},
   "outputs": [],
   "source": [
    "from sklearn.ensemble import RandomForestRegressor\n",
    "from sklearn.ensemble import StackingRegressor\n"
   ]
  },
  {
   "cell_type": "code",
   "execution_count": null,
   "metadata": {},
   "outputs": [],
   "source": [
    "from sklearn.datasets import make_regression\n",
    "from sklearn.ensemble import GradientBoostingRegressor\n",
    "from sklearn.model_selection import train_test_split"
   ]
  },
  {
   "cell_type": "code",
   "execution_count": null,
   "metadata": {},
   "outputs": [],
   "source": [
    "estimators = [\n",
    "    ('xg_reg', xgb.XGBRegressor(objective='reg:squarederror', colsample_bytree=0.5,learning_rate=0.1, max_depth=12, alpha=1,n_estimators=5000)),\n",
    "    ('gb', GradientBoostingRegressor(min_samples_split=2, learning_rate=0.03, max_depth=12, n_estimators=5000))\n",
    "]"
   ]
  },
  {
   "cell_type": "code",
   "execution_count": null,
   "metadata": {},
   "outputs": [],
   "source": [
    "reg5 = StackingRegressor(estimators=estimators)\n"
   ]
  },
  {
   "cell_type": "code",
   "execution_count": null,
   "metadata": {},
   "outputs": [],
   "source": [
    "reg5 = StackingRegressor(estimators=estimators)\n",
    "reg5.fit(X_train, np.log(y_train))\n"
   ]
  },
  {
   "cell_type": "code",
   "execution_count": null,
   "metadata": {},
   "outputs": [],
   "source": [
    "predict_test = np.exp(reg5.predict(X_test))\n",
    "predict_submission = np.exp(reg5.predict(X_sub))\n"
   ]
  },
  {
   "cell_type": "code",
   "execution_count": null,
   "metadata": {},
   "outputs": [],
   "source": [
    "print(f\"Точность модели по метрике MAPE: {(mape(y_test, predict_test))*100:0.2f}%\")"
   ]
  },
  {
   "cell_type": "code",
   "execution_count": null,
   "metadata": {},
   "outputs": [],
   "source": [
    "sample_submission['price'] = predict_submission\n",
    "sample_submission.to_csv('submission_stackingxg.csv', index=False)\n"
   ]
  },
  {
   "cell_type": "code",
   "execution_count": 244,
   "metadata": {},
   "outputs": [
    {
     "data": {
      "text/plain": [
       "0        6.291267e+05\n",
       "1        9.902330e+05\n",
       "2        9.561991e+05\n",
       "3        8.117656e+05\n",
       "4        7.620947e+05\n",
       "             ...     \n",
       "34681    1.051706e+06\n",
       "34682    2.502585e+06\n",
       "34683    2.754434e+05\n",
       "34684    1.114308e+06\n",
       "34685    1.065745e+06\n",
       "Name: price, Length: 34686, dtype: float32"
      ]
     },
     "execution_count": 244,
     "metadata": {},
     "output_type": "execute_result"
    }
   ],
   "source": [
    "sample_submission['price']"
   ]
  },
  {
   "cell_type": "code",
   "execution_count": null,
   "metadata": {},
   "outputs": [],
   "source": []
  }
 ],
 "metadata": {
  "kernelspec": {
   "display_name": "Python 3",
   "language": "python",
   "name": "python3"
  },
  "language_info": {
   "codemirror_mode": {
    "name": "ipython",
    "version": 3
   },
   "file_extension": ".py",
   "mimetype": "text/x-python",
   "name": "python",
   "nbconvert_exporter": "python",
   "pygments_lexer": "ipython3",
   "version": "3.8.5"
  }
 },
 "nbformat": 4,
 "nbformat_minor": 4
}
