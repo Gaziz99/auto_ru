{
 "cells": [
  {
   "cell_type": "code",
   "execution_count": 31,
   "metadata": {},
   "outputs": [],
   "source": [
    "import pandas as pd\n",
    "import requests\n",
    "import numpy as np\n",
    "import matplotlib.pyplot as plt\n",
    "import seaborn as sns\n",
    "import datetime as dt\n",
    "import os\n",
    "\n",
    "from bs4 import BeautifulSoup\n",
    "from tqdm.notebook import tqdm\n",
    "from catboost import CatBoostRegressor\n",
    "from sklearn.model_selection import train_test_split\n",
    "from sklearn.model_selection import KFold\n",
    "from sklearn.ensemble import RandomForestRegressor\n",
    "from sklearn.linear_model import LinearRegression\n",
    "from sklearn.base import clone\n",
    "\n",
    "%matplotlib inline"
   ]
  },
  {
   "cell_type": "code",
   "execution_count": 32,
   "metadata": {},
   "outputs": [],
   "source": [
    "import numpy as np # linear algebra\n",
    "import pandas as pd # data processing, CSV file I/O (e.g. pd.read_csv)\n",
    "import sys\n",
    "import seaborn as sns\n",
    "%matplotlib inline\n",
    "import matplotlib.pyplot as plt\n",
    "\n",
    "import string\n",
    "from nltk.util import ngrams\n",
    "from collections import Counter\n",
    "from sklearn.preprocessing import PolynomialFeatures\n",
    "\n",
    "\n",
    "from sklearn.model_selection import train_test_split\n",
    "from sklearn.model_selection import KFold\n",
    "from tqdm.notebook import tqdm\n",
    "from catboost import CatBoostRegressor\n",
    "from sklearn.preprocessing import LabelEncoder\n",
    "from sklearn.ensemble import GradientBoostingRegressor, ExtraTreesRegressor, RandomForestRegressor\n",
    "from sklearn.linear_model import LogisticRegression"
   ]
  },
  {
   "cell_type": "code",
   "execution_count": 33,
   "metadata": {},
   "outputs": [],
   "source": [
    "RANDOM_SEED = 42"
   ]
  },
  {
   "cell_type": "code",
   "execution_count": 34,
   "metadata": {},
   "outputs": [],
   "source": [
    "VERSION    = 16"
   ]
  },
  {
   "cell_type": "code",
   "execution_count": 35,
   "metadata": {},
   "outputs": [],
   "source": [
    "VAL_SIZE   = 0.2"
   ]
  },
  {
   "cell_type": "code",
   "execution_count": 36,
   "metadata": {},
   "outputs": [],
   "source": [
    "train = pd.read_csv('all_auto_ru_14_11_2020.csv', low_memory=False) # датасет для обучения модели\n",
    "test = pd.read_csv('test.csv')\n"
   ]
  },
  {
   "cell_type": "code",
   "execution_count": 37,
   "metadata": {},
   "outputs": [],
   "source": [
    "sample_submission = pd.read_csv('sample_submission.csv')"
   ]
  },
  {
   "cell_type": "code",
   "execution_count": 38,
   "metadata": {},
   "outputs": [
    {
     "name": "stdout",
     "output_type": "stream",
     "text": [
      "<class 'pandas.core.frame.DataFrame'>\n",
      "RangeIndex: 77449 entries, 0 to 77448\n",
      "Data columns (total 34 columns):\n",
      " #   Column                Non-Null Count  Dtype  \n",
      "---  ------                --------------  -----  \n",
      " 0   bodyType              77447 non-null  object \n",
      " 1   brand                 77449 non-null  object \n",
      " 2   color                 77449 non-null  object \n",
      " 3   complectation_dict    77449 non-null  object \n",
      " 4   description           74782 non-null  object \n",
      " 5   engineDisplacement    77449 non-null  object \n",
      " 6   enginePower           77447 non-null  float64\n",
      " 7   equipment_dict        77449 non-null  object \n",
      " 8   fuelType              77449 non-null  object \n",
      " 9   image                 77449 non-null  int64  \n",
      " 10  mileage               77449 non-null  int64  \n",
      " 11  modelDate             77447 non-null  float64\n",
      " 12  model_info            77449 non-null  object \n",
      " 13  model_name            77449 non-null  object \n",
      " 14  name                  77447 non-null  object \n",
      " 15  numberOfDoors         77447 non-null  float64\n",
      " 16  start_date            77449 non-null  object \n",
      " 17  priceCurrency         77152 non-null  object \n",
      " 18  productionDate        77449 non-null  int64  \n",
      " 19  sell_id               77449 non-null  int64  \n",
      " 20  super_gen             77447 non-null  object \n",
      " 21  vehicleConfiguration  77447 non-null  object \n",
      " 22  vehicleTransmission   77447 non-null  object \n",
      " 23  vendor                77449 non-null  object \n",
      " 24  Владельцы             61521 non-null  float64\n",
      " 25  Владение              20314 non-null  object \n",
      " 26  ПТС                   76998 non-null  object \n",
      " 27  Привод                77447 non-null  object \n",
      " 28  Руль                  77449 non-null  object \n",
      " 29  Состояние             77449 non-null  bool   \n",
      " 30  Таможня               77449 non-null  bool   \n",
      " 31  price                 77152 non-null  float64\n",
      " 32  price_EUR             77152 non-null  float64\n",
      " 33  price_USD             77152 non-null  float64\n",
      "dtypes: bool(2), float64(7), int64(4), object(21)\n",
      "memory usage: 19.1+ MB\n"
     ]
    }
   ],
   "source": [
    "train.info()"
   ]
  },
  {
   "cell_type": "code",
   "execution_count": 39,
   "metadata": {},
   "outputs": [
    {
     "data": {
      "text/html": [
       "<div>\n",
       "<style scoped>\n",
       "    .dataframe tbody tr th:only-of-type {\n",
       "        vertical-align: middle;\n",
       "    }\n",
       "\n",
       "    .dataframe tbody tr th {\n",
       "        vertical-align: top;\n",
       "    }\n",
       "\n",
       "    .dataframe thead th {\n",
       "        text-align: right;\n",
       "    }\n",
       "</style>\n",
       "<table border=\"1\" class=\"dataframe\">\n",
       "  <thead>\n",
       "    <tr style=\"text-align: right;\">\n",
       "      <th></th>\n",
       "      <th>0</th>\n",
       "      <th>1</th>\n",
       "      <th>2</th>\n",
       "    </tr>\n",
       "  </thead>\n",
       "  <tbody>\n",
       "    <tr>\n",
       "      <th>bodyType</th>\n",
       "      <td>Седан</td>\n",
       "      <td>Седан</td>\n",
       "      <td>Седан</td>\n",
       "    </tr>\n",
       "    <tr>\n",
       "      <th>brand</th>\n",
       "      <td>AUDI</td>\n",
       "      <td>AUDI</td>\n",
       "      <td>AUDI</td>\n",
       "    </tr>\n",
       "    <tr>\n",
       "      <th>color</th>\n",
       "      <td>97948F</td>\n",
       "      <td>CACECB</td>\n",
       "      <td>040001</td>\n",
       "    </tr>\n",
       "    <tr>\n",
       "      <th>complectation_dict</th>\n",
       "      <td>{'id': '0'}</td>\n",
       "      <td>{'id': '0'}</td>\n",
       "      <td>{'id': '0'}</td>\n",
       "    </tr>\n",
       "    <tr>\n",
       "      <th>description</th>\n",
       "      <td>Машина на полном ходу\\nСостояние хорошее\\nС до...</td>\n",
       "      <td>Продажа от официального дилера KIA - Компания ...</td>\n",
       "      <td>Автомобиль продает Официальный дилер Hyundai. ...</td>\n",
       "    </tr>\n",
       "    <tr>\n",
       "      <th>engineDisplacement</th>\n",
       "      <td>2.3</td>\n",
       "      <td>1.8</td>\n",
       "      <td>2.6</td>\n",
       "    </tr>\n",
       "    <tr>\n",
       "      <th>enginePower</th>\n",
       "      <td>133</td>\n",
       "      <td>90</td>\n",
       "      <td>150</td>\n",
       "    </tr>\n",
       "    <tr>\n",
       "      <th>equipment_dict</th>\n",
       "      <td>{}</td>\n",
       "      <td>{'condition': True, 'audiosystem-cd': True, 'f...</td>\n",
       "      <td>{'airbag-driver': True, 'isofix': True, 'elect...</td>\n",
       "    </tr>\n",
       "    <tr>\n",
       "      <th>fuelType</th>\n",
       "      <td>бензин</td>\n",
       "      <td>бензин</td>\n",
       "      <td>бензин</td>\n",
       "    </tr>\n",
       "    <tr>\n",
       "      <th>image</th>\n",
       "      <td>5</td>\n",
       "      <td>7</td>\n",
       "      <td>11</td>\n",
       "    </tr>\n",
       "    <tr>\n",
       "      <th>mileage</th>\n",
       "      <td>359000</td>\n",
       "      <td>204700</td>\n",
       "      <td>403000</td>\n",
       "    </tr>\n",
       "    <tr>\n",
       "      <th>modelDate</th>\n",
       "      <td>1990</td>\n",
       "      <td>1982</td>\n",
       "      <td>1990</td>\n",
       "    </tr>\n",
       "    <tr>\n",
       "      <th>model_info</th>\n",
       "      <td>{'code': '100', 'name': '100', 'ru_name': '100...</td>\n",
       "      <td>{'code': '100', 'name': '100', 'ru_name': '100...</td>\n",
       "      <td>{'code': '100', 'name': '100', 'ru_name': '100...</td>\n",
       "    </tr>\n",
       "    <tr>\n",
       "      <th>model_name</th>\n",
       "      <td>100</td>\n",
       "      <td>100</td>\n",
       "      <td>100</td>\n",
       "    </tr>\n",
       "    <tr>\n",
       "      <th>name</th>\n",
       "      <td>2.3 MT (133 л.с.)</td>\n",
       "      <td>1.8 MT (90 л.с.)</td>\n",
       "      <td>2.6 MT (150 л.с.)</td>\n",
       "    </tr>\n",
       "    <tr>\n",
       "      <th>numberOfDoors</th>\n",
       "      <td>4</td>\n",
       "      <td>4</td>\n",
       "      <td>4</td>\n",
       "    </tr>\n",
       "    <tr>\n",
       "      <th>start_date</th>\n",
       "      <td>2020-11-13T23:31:09Z</td>\n",
       "      <td>2020-11-12T09:13:49Z</td>\n",
       "      <td>2020-11-12T10:14:26Z</td>\n",
       "    </tr>\n",
       "    <tr>\n",
       "      <th>priceCurrency</th>\n",
       "      <td>RUR</td>\n",
       "      <td>RUR</td>\n",
       "      <td>RUR</td>\n",
       "    </tr>\n",
       "    <tr>\n",
       "      <th>productionDate</th>\n",
       "      <td>1993</td>\n",
       "      <td>1984</td>\n",
       "      <td>1992</td>\n",
       "    </tr>\n",
       "    <tr>\n",
       "      <th>sell_id</th>\n",
       "      <td>1101578354</td>\n",
       "      <td>1101559676</td>\n",
       "      <td>1101560438</td>\n",
       "    </tr>\n",
       "    <tr>\n",
       "      <th>super_gen</th>\n",
       "      <td>{'id': '7879487', 'displacement': 2309, 'engin...</td>\n",
       "      <td>{'id': '20388757', 'displacement': 1781, 'engi...</td>\n",
       "      <td>{'id': '7879492', 'displacement': 2598, 'engin...</td>\n",
       "    </tr>\n",
       "    <tr>\n",
       "      <th>vehicleConfiguration</th>\n",
       "      <td>SEDAN MECHANICAL 2.3</td>\n",
       "      <td>SEDAN MECHANICAL 1.8</td>\n",
       "      <td>SEDAN MECHANICAL 2.6</td>\n",
       "    </tr>\n",
       "    <tr>\n",
       "      <th>vehicleTransmission</th>\n",
       "      <td>MECHANICAL</td>\n",
       "      <td>MECHANICAL</td>\n",
       "      <td>MECHANICAL</td>\n",
       "    </tr>\n",
       "    <tr>\n",
       "      <th>vendor</th>\n",
       "      <td>EUROPEAN</td>\n",
       "      <td>EUROPEAN</td>\n",
       "      <td>EUROPEAN</td>\n",
       "    </tr>\n",
       "    <tr>\n",
       "      <th>Владельцы</th>\n",
       "      <td>3</td>\n",
       "      <td>3</td>\n",
       "      <td>3</td>\n",
       "    </tr>\n",
       "    <tr>\n",
       "      <th>Владение</th>\n",
       "      <td>NaN</td>\n",
       "      <td>NaN</td>\n",
       "      <td>NaN</td>\n",
       "    </tr>\n",
       "    <tr>\n",
       "      <th>ПТС</th>\n",
       "      <td>ORIGINAL</td>\n",
       "      <td>ORIGINAL</td>\n",
       "      <td>DUPLICATE</td>\n",
       "    </tr>\n",
       "    <tr>\n",
       "      <th>Привод</th>\n",
       "      <td>передний</td>\n",
       "      <td>передний</td>\n",
       "      <td>передний</td>\n",
       "    </tr>\n",
       "    <tr>\n",
       "      <th>Руль</th>\n",
       "      <td>LEFT</td>\n",
       "      <td>LEFT</td>\n",
       "      <td>LEFT</td>\n",
       "    </tr>\n",
       "    <tr>\n",
       "      <th>Состояние</th>\n",
       "      <td>True</td>\n",
       "      <td>True</td>\n",
       "      <td>True</td>\n",
       "    </tr>\n",
       "    <tr>\n",
       "      <th>Таможня</th>\n",
       "      <td>True</td>\n",
       "      <td>True</td>\n",
       "      <td>True</td>\n",
       "    </tr>\n",
       "    <tr>\n",
       "      <th>price</th>\n",
       "      <td>106000</td>\n",
       "      <td>44000</td>\n",
       "      <td>167000</td>\n",
       "    </tr>\n",
       "    <tr>\n",
       "      <th>price_EUR</th>\n",
       "      <td>1161</td>\n",
       "      <td>482</td>\n",
       "      <td>1829</td>\n",
       "    </tr>\n",
       "    <tr>\n",
       "      <th>price_USD</th>\n",
       "      <td>1371</td>\n",
       "      <td>569</td>\n",
       "      <td>2160</td>\n",
       "    </tr>\n",
       "  </tbody>\n",
       "</table>\n",
       "</div>"
      ],
      "text/plain": [
       "                                                                      0  \\\n",
       "bodyType                                                          Седан   \n",
       "brand                                                              AUDI   \n",
       "color                                                            97948F   \n",
       "complectation_dict                                          {'id': '0'}   \n",
       "description           Машина на полном ходу\\nСостояние хорошее\\nС до...   \n",
       "engineDisplacement                                                  2.3   \n",
       "enginePower                                                         133   \n",
       "equipment_dict                                                       {}   \n",
       "fuelType                                                         бензин   \n",
       "image                                                                 5   \n",
       "mileage                                                          359000   \n",
       "modelDate                                                          1990   \n",
       "model_info            {'code': '100', 'name': '100', 'ru_name': '100...   \n",
       "model_name                                                          100   \n",
       "name                                                  2.3 MT (133 л.с.)   \n",
       "numberOfDoors                                                         4   \n",
       "start_date                                         2020-11-13T23:31:09Z   \n",
       "priceCurrency                                                       RUR   \n",
       "productionDate                                                     1993   \n",
       "sell_id                                                      1101578354   \n",
       "super_gen             {'id': '7879487', 'displacement': 2309, 'engin...   \n",
       "vehicleConfiguration                               SEDAN MECHANICAL 2.3   \n",
       "vehicleTransmission                                          MECHANICAL   \n",
       "vendor                                                         EUROPEAN   \n",
       "Владельцы                                                             3   \n",
       "Владение                                                            NaN   \n",
       "ПТС                                                            ORIGINAL   \n",
       "Привод                                                         передний   \n",
       "Руль                                                               LEFT   \n",
       "Состояние                                                          True   \n",
       "Таможня                                                            True   \n",
       "price                                                            106000   \n",
       "price_EUR                                                          1161   \n",
       "price_USD                                                          1371   \n",
       "\n",
       "                                                                      1  \\\n",
       "bodyType                                                          Седан   \n",
       "brand                                                              AUDI   \n",
       "color                                                            CACECB   \n",
       "complectation_dict                                          {'id': '0'}   \n",
       "description           Продажа от официального дилера KIA - Компания ...   \n",
       "engineDisplacement                                                  1.8   \n",
       "enginePower                                                          90   \n",
       "equipment_dict        {'condition': True, 'audiosystem-cd': True, 'f...   \n",
       "fuelType                                                         бензин   \n",
       "image                                                                 7   \n",
       "mileage                                                          204700   \n",
       "modelDate                                                          1982   \n",
       "model_info            {'code': '100', 'name': '100', 'ru_name': '100...   \n",
       "model_name                                                          100   \n",
       "name                                                   1.8 MT (90 л.с.)   \n",
       "numberOfDoors                                                         4   \n",
       "start_date                                         2020-11-12T09:13:49Z   \n",
       "priceCurrency                                                       RUR   \n",
       "productionDate                                                     1984   \n",
       "sell_id                                                      1101559676   \n",
       "super_gen             {'id': '20388757', 'displacement': 1781, 'engi...   \n",
       "vehicleConfiguration                               SEDAN MECHANICAL 1.8   \n",
       "vehicleTransmission                                          MECHANICAL   \n",
       "vendor                                                         EUROPEAN   \n",
       "Владельцы                                                             3   \n",
       "Владение                                                            NaN   \n",
       "ПТС                                                            ORIGINAL   \n",
       "Привод                                                         передний   \n",
       "Руль                                                               LEFT   \n",
       "Состояние                                                          True   \n",
       "Таможня                                                            True   \n",
       "price                                                             44000   \n",
       "price_EUR                                                           482   \n",
       "price_USD                                                           569   \n",
       "\n",
       "                                                                      2  \n",
       "bodyType                                                          Седан  \n",
       "brand                                                              AUDI  \n",
       "color                                                            040001  \n",
       "complectation_dict                                          {'id': '0'}  \n",
       "description           Автомобиль продает Официальный дилер Hyundai. ...  \n",
       "engineDisplacement                                                  2.6  \n",
       "enginePower                                                         150  \n",
       "equipment_dict        {'airbag-driver': True, 'isofix': True, 'elect...  \n",
       "fuelType                                                         бензин  \n",
       "image                                                                11  \n",
       "mileage                                                          403000  \n",
       "modelDate                                                          1990  \n",
       "model_info            {'code': '100', 'name': '100', 'ru_name': '100...  \n",
       "model_name                                                          100  \n",
       "name                                                  2.6 MT (150 л.с.)  \n",
       "numberOfDoors                                                         4  \n",
       "start_date                                         2020-11-12T10:14:26Z  \n",
       "priceCurrency                                                       RUR  \n",
       "productionDate                                                     1992  \n",
       "sell_id                                                      1101560438  \n",
       "super_gen             {'id': '7879492', 'displacement': 2598, 'engin...  \n",
       "vehicleConfiguration                               SEDAN MECHANICAL 2.6  \n",
       "vehicleTransmission                                          MECHANICAL  \n",
       "vendor                                                         EUROPEAN  \n",
       "Владельцы                                                             3  \n",
       "Владение                                                            NaN  \n",
       "ПТС                                                           DUPLICATE  \n",
       "Привод                                                         передний  \n",
       "Руль                                                               LEFT  \n",
       "Состояние                                                          True  \n",
       "Таможня                                                            True  \n",
       "price                                                            167000  \n",
       "price_EUR                                                          1829  \n",
       "price_USD                                                          2160  "
      ]
     },
     "execution_count": 39,
     "metadata": {},
     "output_type": "execute_result"
    }
   ],
   "source": [
    "train.head(3).T\n"
   ]
  },
  {
   "cell_type": "code",
   "execution_count": 40,
   "metadata": {},
   "outputs": [
    {
     "name": "stdout",
     "output_type": "stream",
     "text": [
      "<class 'pandas.core.frame.DataFrame'>\n",
      "RangeIndex: 77449 entries, 0 to 77448\n",
      "Data columns (total 34 columns):\n",
      " #   Column                Non-Null Count  Dtype  \n",
      "---  ------                --------------  -----  \n",
      " 0   bodyType              77447 non-null  object \n",
      " 1   brand                 77449 non-null  object \n",
      " 2   color                 77449 non-null  object \n",
      " 3   complectation_dict    77449 non-null  object \n",
      " 4   description           74782 non-null  object \n",
      " 5   engineDisplacement    77449 non-null  object \n",
      " 6   enginePower           77447 non-null  float64\n",
      " 7   equipment_dict        77449 non-null  object \n",
      " 8   fuelType              77449 non-null  object \n",
      " 9   image                 77449 non-null  int64  \n",
      " 10  mileage               77449 non-null  int64  \n",
      " 11  modelDate             77447 non-null  float64\n",
      " 12  model_info            77449 non-null  object \n",
      " 13  model_name            77449 non-null  object \n",
      " 14  name                  77447 non-null  object \n",
      " 15  numberOfDoors         77447 non-null  float64\n",
      " 16  start_date            77449 non-null  object \n",
      " 17  priceCurrency         77152 non-null  object \n",
      " 18  productionDate        77449 non-null  int64  \n",
      " 19  sell_id               77449 non-null  int64  \n",
      " 20  super_gen             77447 non-null  object \n",
      " 21  vehicleConfiguration  77447 non-null  object \n",
      " 22  vehicleTransmission   77447 non-null  object \n",
      " 23  vendor                77449 non-null  object \n",
      " 24  Владельцы             61521 non-null  float64\n",
      " 25  Владение              20314 non-null  object \n",
      " 26  ПТС                   76998 non-null  object \n",
      " 27  Привод                77447 non-null  object \n",
      " 28  Руль                  77449 non-null  object \n",
      " 29  Состояние             77449 non-null  bool   \n",
      " 30  Таможня               77449 non-null  bool   \n",
      " 31  price                 77152 non-null  float64\n",
      " 32  price_EUR             77152 non-null  float64\n",
      " 33  price_USD             77152 non-null  float64\n",
      "dtypes: bool(2), float64(7), int64(4), object(21)\n",
      "memory usage: 19.1+ MB\n"
     ]
    }
   ],
   "source": [
    "train.info()"
   ]
  },
  {
   "cell_type": "code",
   "execution_count": 41,
   "metadata": {},
   "outputs": [
    {
     "data": {
      "text/plain": [
       "bodyType                    2\n",
       "brand                       0\n",
       "color                       0\n",
       "complectation_dict          0\n",
       "description              2667\n",
       "engineDisplacement          0\n",
       "enginePower                 2\n",
       "equipment_dict              0\n",
       "fuelType                    0\n",
       "image                       0\n",
       "mileage                     0\n",
       "modelDate                   2\n",
       "model_info                  0\n",
       "model_name                  0\n",
       "name                        2\n",
       "numberOfDoors               2\n",
       "start_date                  0\n",
       "priceCurrency             297\n",
       "productionDate              0\n",
       "sell_id                     0\n",
       "super_gen                   2\n",
       "vehicleConfiguration        2\n",
       "vehicleTransmission         2\n",
       "vendor                      0\n",
       "Владельцы               15928\n",
       "Владение                57135\n",
       "ПТС                       451\n",
       "Привод                      2\n",
       "Руль                        0\n",
       "Состояние                   0\n",
       "Таможня                     0\n",
       "price                     297\n",
       "price_EUR                 297\n",
       "price_USD                 297\n",
       "dtype: int64"
      ]
     },
     "execution_count": 41,
     "metadata": {},
     "output_type": "execute_result"
    }
   ],
   "source": [
    "train.isna().sum()"
   ]
  },
  {
   "cell_type": "code",
   "execution_count": 42,
   "metadata": {},
   "outputs": [],
   "source": [
    "train.dropna(subset=['price', 'Привод', 'Руль'], inplace=True)"
   ]
  },
  {
   "cell_type": "code",
   "execution_count": 43,
   "metadata": {},
   "outputs": [
    {
     "data": {
      "text/plain": [
       "bodyType                    0\n",
       "brand                       0\n",
       "color                       0\n",
       "complectation_dict          0\n",
       "description              2653\n",
       "engineDisplacement          0\n",
       "enginePower                 0\n",
       "equipment_dict              0\n",
       "fuelType                    0\n",
       "image                       0\n",
       "mileage                     0\n",
       "modelDate                   0\n",
       "model_info                  0\n",
       "model_name                  0\n",
       "name                        0\n",
       "numberOfDoors               0\n",
       "start_date                  0\n",
       "priceCurrency               0\n",
       "productionDate              0\n",
       "sell_id                     0\n",
       "super_gen                   0\n",
       "vehicleConfiguration        0\n",
       "vehicleTransmission         0\n",
       "vendor                      0\n",
       "Владельцы               15927\n",
       "Владение                56964\n",
       "ПТС                       451\n",
       "Привод                      0\n",
       "Руль                        0\n",
       "Состояние                   0\n",
       "Таможня                     0\n",
       "price                       0\n",
       "price_EUR                   0\n",
       "price_USD                   0\n",
       "dtype: int64"
      ]
     },
     "execution_count": 43,
     "metadata": {},
     "output_type": "execute_result"
    }
   ],
   "source": [
    "train.isna().sum()"
   ]
  },
  {
   "cell_type": "code",
   "execution_count": 44,
   "metadata": {},
   "outputs": [
    {
     "data": {
      "text/html": [
       "<div>\n",
       "<style scoped>\n",
       "    .dataframe tbody tr th:only-of-type {\n",
       "        vertical-align: middle;\n",
       "    }\n",
       "\n",
       "    .dataframe tbody tr th {\n",
       "        vertical-align: top;\n",
       "    }\n",
       "\n",
       "    .dataframe thead th {\n",
       "        text-align: right;\n",
       "    }\n",
       "</style>\n",
       "<table border=\"1\" class=\"dataframe\">\n",
       "  <thead>\n",
       "    <tr style=\"text-align: right;\">\n",
       "      <th></th>\n",
       "      <th>0</th>\n",
       "      <th>1</th>\n",
       "      <th>2</th>\n",
       "    </tr>\n",
       "  </thead>\n",
       "  <tbody>\n",
       "    <tr>\n",
       "      <th>bodyType</th>\n",
       "      <td>лифтбек</td>\n",
       "      <td>лифтбек</td>\n",
       "      <td>лифтбек</td>\n",
       "    </tr>\n",
       "    <tr>\n",
       "      <th>brand</th>\n",
       "      <td>SKODA</td>\n",
       "      <td>SKODA</td>\n",
       "      <td>SKODA</td>\n",
       "    </tr>\n",
       "    <tr>\n",
       "      <th>car_url</th>\n",
       "      <td>https://auto.ru/cars/used/sale/skoda/octavia/1...</td>\n",
       "      <td>https://auto.ru/cars/used/sale/skoda/octavia/1...</td>\n",
       "      <td>https://auto.ru/cars/used/sale/skoda/superb/11...</td>\n",
       "    </tr>\n",
       "    <tr>\n",
       "      <th>color</th>\n",
       "      <td>синий</td>\n",
       "      <td>чёрный</td>\n",
       "      <td>серый</td>\n",
       "    </tr>\n",
       "    <tr>\n",
       "      <th>complectation_dict</th>\n",
       "      <td>NaN</td>\n",
       "      <td>NaN</td>\n",
       "      <td>{\"id\":\"20026336\",\"name\":\"Ambition\",\"available_...</td>\n",
       "    </tr>\n",
       "    <tr>\n",
       "      <th>description</th>\n",
       "      <td>Все автомобили, представленные в продаже, прох...</td>\n",
       "      <td>ЛОТ: 01217195\\nАвтопрага Север\\nДанный автомоб...</td>\n",
       "      <td>Все автомобили, представленные в продаже, прох...</td>\n",
       "    </tr>\n",
       "    <tr>\n",
       "      <th>engineDisplacement</th>\n",
       "      <td>1.2 LTR</td>\n",
       "      <td>1.6 LTR</td>\n",
       "      <td>1.8 LTR</td>\n",
       "    </tr>\n",
       "    <tr>\n",
       "      <th>enginePower</th>\n",
       "      <td>105 N12</td>\n",
       "      <td>110 N12</td>\n",
       "      <td>152 N12</td>\n",
       "    </tr>\n",
       "    <tr>\n",
       "      <th>equipment_dict</th>\n",
       "      <td>{\"engine-proof\":true,\"tinted-glass\":true,\"airb...</td>\n",
       "      <td>{\"cruise-control\":true,\"asr\":true,\"esp\":true,\"...</td>\n",
       "      <td>{\"cruise-control\":true,\"tinted-glass\":true,\"es...</td>\n",
       "    </tr>\n",
       "    <tr>\n",
       "      <th>fuelType</th>\n",
       "      <td>бензин</td>\n",
       "      <td>бензин</td>\n",
       "      <td>бензин</td>\n",
       "    </tr>\n",
       "    <tr>\n",
       "      <th>image</th>\n",
       "      <td>https://autoru.naydex.net/o9DBXQ270/5ac010hAY0...</td>\n",
       "      <td>https://autoru.naydex.net/o9DBXQ270/5ac010hAY0...</td>\n",
       "      <td>https://avatars.mds.yandex.net/get-autoru-vos/...</td>\n",
       "    </tr>\n",
       "    <tr>\n",
       "      <th>mileage</th>\n",
       "      <td>74000</td>\n",
       "      <td>60563</td>\n",
       "      <td>88000</td>\n",
       "    </tr>\n",
       "    <tr>\n",
       "      <th>modelDate</th>\n",
       "      <td>2013</td>\n",
       "      <td>2017</td>\n",
       "      <td>2013</td>\n",
       "    </tr>\n",
       "    <tr>\n",
       "      <th>model_info</th>\n",
       "      <td>{\"code\":\"OCTAVIA\",\"name\":\"Octavia\",\"ru_name\":\"...</td>\n",
       "      <td>{\"code\":\"OCTAVIA\",\"name\":\"Octavia\",\"ru_name\":\"...</td>\n",
       "      <td>{\"code\":\"SUPERB\",\"name\":\"Superb\",\"ru_name\":\"Су...</td>\n",
       "    </tr>\n",
       "    <tr>\n",
       "      <th>model_name</th>\n",
       "      <td>OCTAVIA</td>\n",
       "      <td>OCTAVIA</td>\n",
       "      <td>SUPERB</td>\n",
       "    </tr>\n",
       "    <tr>\n",
       "      <th>name</th>\n",
       "      <td>1.2 AMT (105 л.с.)</td>\n",
       "      <td>1.6 MT (110 л.с.)</td>\n",
       "      <td>DSG 1.8 AMT (152 л.с.)</td>\n",
       "    </tr>\n",
       "    <tr>\n",
       "      <th>numberOfDoors</th>\n",
       "      <td>5</td>\n",
       "      <td>5</td>\n",
       "      <td>5</td>\n",
       "    </tr>\n",
       "    <tr>\n",
       "      <th>parsing_unixtime</th>\n",
       "      <td>1603226273</td>\n",
       "      <td>1603226277</td>\n",
       "      <td>1603226280</td>\n",
       "    </tr>\n",
       "    <tr>\n",
       "      <th>priceCurrency</th>\n",
       "      <td>RUB</td>\n",
       "      <td>RUB</td>\n",
       "      <td>RUB</td>\n",
       "    </tr>\n",
       "    <tr>\n",
       "      <th>productionDate</th>\n",
       "      <td>2014</td>\n",
       "      <td>2017</td>\n",
       "      <td>2014</td>\n",
       "    </tr>\n",
       "    <tr>\n",
       "      <th>sell_id</th>\n",
       "      <td>1100575026</td>\n",
       "      <td>1100549428</td>\n",
       "      <td>1100658222</td>\n",
       "    </tr>\n",
       "    <tr>\n",
       "      <th>super_gen</th>\n",
       "      <td>{\"id\":\"10373605\",\"displacement\":1197,\"engine_t...</td>\n",
       "      <td>{\"id\":\"20913311\",\"displacement\":1598,\"engine_t...</td>\n",
       "      <td>{\"id\":\"20026323\",\"nameplate\":\"DSG\",\"displaceme...</td>\n",
       "    </tr>\n",
       "    <tr>\n",
       "      <th>vehicleConfiguration</th>\n",
       "      <td>LIFTBACK ROBOT 1.2</td>\n",
       "      <td>LIFTBACK MECHANICAL 1.6</td>\n",
       "      <td>LIFTBACK ROBOT 1.8</td>\n",
       "    </tr>\n",
       "    <tr>\n",
       "      <th>vehicleTransmission</th>\n",
       "      <td>роботизированная</td>\n",
       "      <td>механическая</td>\n",
       "      <td>роботизированная</td>\n",
       "    </tr>\n",
       "    <tr>\n",
       "      <th>vendor</th>\n",
       "      <td>EUROPEAN</td>\n",
       "      <td>EUROPEAN</td>\n",
       "      <td>EUROPEAN</td>\n",
       "    </tr>\n",
       "    <tr>\n",
       "      <th>Владельцы</th>\n",
       "      <td>3 или более</td>\n",
       "      <td>1 владелец</td>\n",
       "      <td>1 владелец</td>\n",
       "    </tr>\n",
       "    <tr>\n",
       "      <th>Владение</th>\n",
       "      <td>NaN</td>\n",
       "      <td>NaN</td>\n",
       "      <td>NaN</td>\n",
       "    </tr>\n",
       "    <tr>\n",
       "      <th>ПТС</th>\n",
       "      <td>Оригинал</td>\n",
       "      <td>Оригинал</td>\n",
       "      <td>Оригинал</td>\n",
       "    </tr>\n",
       "    <tr>\n",
       "      <th>Привод</th>\n",
       "      <td>передний</td>\n",
       "      <td>передний</td>\n",
       "      <td>передний</td>\n",
       "    </tr>\n",
       "    <tr>\n",
       "      <th>Руль</th>\n",
       "      <td>Левый</td>\n",
       "      <td>Левый</td>\n",
       "      <td>Левый</td>\n",
       "    </tr>\n",
       "    <tr>\n",
       "      <th>Состояние</th>\n",
       "      <td>Не требует ремонта</td>\n",
       "      <td>Не требует ремонта</td>\n",
       "      <td>Не требует ремонта</td>\n",
       "    </tr>\n",
       "    <tr>\n",
       "      <th>Таможня</th>\n",
       "      <td>Растаможен</td>\n",
       "      <td>Растаможен</td>\n",
       "      <td>Растаможен</td>\n",
       "    </tr>\n",
       "  </tbody>\n",
       "</table>\n",
       "</div>"
      ],
      "text/plain": [
       "                                                                      0  \\\n",
       "bodyType                                                        лифтбек   \n",
       "brand                                                             SKODA   \n",
       "car_url               https://auto.ru/cars/used/sale/skoda/octavia/1...   \n",
       "color                                                             синий   \n",
       "complectation_dict                                                  NaN   \n",
       "description           Все автомобили, представленные в продаже, прох...   \n",
       "engineDisplacement                                              1.2 LTR   \n",
       "enginePower                                                     105 N12   \n",
       "equipment_dict        {\"engine-proof\":true,\"tinted-glass\":true,\"airb...   \n",
       "fuelType                                                         бензин   \n",
       "image                 https://autoru.naydex.net/o9DBXQ270/5ac010hAY0...   \n",
       "mileage                                                           74000   \n",
       "modelDate                                                          2013   \n",
       "model_info            {\"code\":\"OCTAVIA\",\"name\":\"Octavia\",\"ru_name\":\"...   \n",
       "model_name                                                      OCTAVIA   \n",
       "name                                                 1.2 AMT (105 л.с.)   \n",
       "numberOfDoors                                                         5   \n",
       "parsing_unixtime                                             1603226273   \n",
       "priceCurrency                                                       RUB   \n",
       "productionDate                                                     2014   \n",
       "sell_id                                                      1100575026   \n",
       "super_gen             {\"id\":\"10373605\",\"displacement\":1197,\"engine_t...   \n",
       "vehicleConfiguration                                 LIFTBACK ROBOT 1.2   \n",
       "vehicleTransmission                                    роботизированная   \n",
       "vendor                                                         EUROPEAN   \n",
       "Владельцы                                                   3 или более   \n",
       "Владение                                                            NaN   \n",
       "ПТС                                                            Оригинал   \n",
       "Привод                                                         передний   \n",
       "Руль                                                              Левый   \n",
       "Состояние                                            Не требует ремонта   \n",
       "Таможня                                                      Растаможен   \n",
       "\n",
       "                                                                      1  \\\n",
       "bodyType                                                        лифтбек   \n",
       "brand                                                             SKODA   \n",
       "car_url               https://auto.ru/cars/used/sale/skoda/octavia/1...   \n",
       "color                                                            чёрный   \n",
       "complectation_dict                                                  NaN   \n",
       "description           ЛОТ: 01217195\\nАвтопрага Север\\nДанный автомоб...   \n",
       "engineDisplacement                                              1.6 LTR   \n",
       "enginePower                                                     110 N12   \n",
       "equipment_dict        {\"cruise-control\":true,\"asr\":true,\"esp\":true,\"...   \n",
       "fuelType                                                         бензин   \n",
       "image                 https://autoru.naydex.net/o9DBXQ270/5ac010hAY0...   \n",
       "mileage                                                           60563   \n",
       "modelDate                                                          2017   \n",
       "model_info            {\"code\":\"OCTAVIA\",\"name\":\"Octavia\",\"ru_name\":\"...   \n",
       "model_name                                                      OCTAVIA   \n",
       "name                                                  1.6 MT (110 л.с.)   \n",
       "numberOfDoors                                                         5   \n",
       "parsing_unixtime                                             1603226277   \n",
       "priceCurrency                                                       RUB   \n",
       "productionDate                                                     2017   \n",
       "sell_id                                                      1100549428   \n",
       "super_gen             {\"id\":\"20913311\",\"displacement\":1598,\"engine_t...   \n",
       "vehicleConfiguration                            LIFTBACK MECHANICAL 1.6   \n",
       "vehicleTransmission                                        механическая   \n",
       "vendor                                                         EUROPEAN   \n",
       "Владельцы                                                    1 владелец   \n",
       "Владение                                                            NaN   \n",
       "ПТС                                                            Оригинал   \n",
       "Привод                                                         передний   \n",
       "Руль                                                              Левый   \n",
       "Состояние                                            Не требует ремонта   \n",
       "Таможня                                                      Растаможен   \n",
       "\n",
       "                                                                      2  \n",
       "bodyType                                                        лифтбек  \n",
       "brand                                                             SKODA  \n",
       "car_url               https://auto.ru/cars/used/sale/skoda/superb/11...  \n",
       "color                                                             серый  \n",
       "complectation_dict    {\"id\":\"20026336\",\"name\":\"Ambition\",\"available_...  \n",
       "description           Все автомобили, представленные в продаже, прох...  \n",
       "engineDisplacement                                              1.8 LTR  \n",
       "enginePower                                                     152 N12  \n",
       "equipment_dict        {\"cruise-control\":true,\"tinted-glass\":true,\"es...  \n",
       "fuelType                                                         бензин  \n",
       "image                 https://avatars.mds.yandex.net/get-autoru-vos/...  \n",
       "mileage                                                           88000  \n",
       "modelDate                                                          2013  \n",
       "model_info            {\"code\":\"SUPERB\",\"name\":\"Superb\",\"ru_name\":\"Су...  \n",
       "model_name                                                       SUPERB  \n",
       "name                                             DSG 1.8 AMT (152 л.с.)  \n",
       "numberOfDoors                                                         5  \n",
       "parsing_unixtime                                             1603226280  \n",
       "priceCurrency                                                       RUB  \n",
       "productionDate                                                     2014  \n",
       "sell_id                                                      1100658222  \n",
       "super_gen             {\"id\":\"20026323\",\"nameplate\":\"DSG\",\"displaceme...  \n",
       "vehicleConfiguration                                 LIFTBACK ROBOT 1.8  \n",
       "vehicleTransmission                                    роботизированная  \n",
       "vendor                                                         EUROPEAN  \n",
       "Владельцы                                                    1 владелец  \n",
       "Владение                                                            NaN  \n",
       "ПТС                                                            Оригинал  \n",
       "Привод                                                         передний  \n",
       "Руль                                                              Левый  \n",
       "Состояние                                            Не требует ремонта  \n",
       "Таможня                                                      Растаможен  "
      ]
     },
     "execution_count": 44,
     "metadata": {},
     "output_type": "execute_result"
    }
   ],
   "source": [
    "test.head(3).T"
   ]
  },
  {
   "cell_type": "code",
   "execution_count": 45,
   "metadata": {},
   "outputs": [
    {
     "name": "stdout",
     "output_type": "stream",
     "text": [
      "<class 'pandas.core.frame.DataFrame'>\n",
      "RangeIndex: 34686 entries, 0 to 34685\n",
      "Data columns (total 32 columns):\n",
      " #   Column                Non-Null Count  Dtype \n",
      "---  ------                --------------  ----- \n",
      " 0   bodyType              34686 non-null  object\n",
      " 1   brand                 34686 non-null  object\n",
      " 2   car_url               34686 non-null  object\n",
      " 3   color                 34686 non-null  object\n",
      " 4   complectation_dict    6418 non-null   object\n",
      " 5   description           34686 non-null  object\n",
      " 6   engineDisplacement    34686 non-null  object\n",
      " 7   enginePower           34686 non-null  object\n",
      " 8   equipment_dict        24690 non-null  object\n",
      " 9   fuelType              34686 non-null  object\n",
      " 10  image                 34686 non-null  object\n",
      " 11  mileage               34686 non-null  int64 \n",
      " 12  modelDate             34686 non-null  int64 \n",
      " 13  model_info            34686 non-null  object\n",
      " 14  model_name            34686 non-null  object\n",
      " 15  name                  34686 non-null  object\n",
      " 16  numberOfDoors         34686 non-null  int64 \n",
      " 17  parsing_unixtime      34686 non-null  int64 \n",
      " 18  priceCurrency         34686 non-null  object\n",
      " 19  productionDate        34686 non-null  int64 \n",
      " 20  sell_id               34686 non-null  int64 \n",
      " 21  super_gen             34686 non-null  object\n",
      " 22  vehicleConfiguration  34686 non-null  object\n",
      " 23  vehicleTransmission   34686 non-null  object\n",
      " 24  vendor                34686 non-null  object\n",
      " 25  Владельцы             34686 non-null  object\n",
      " 26  Владение              11995 non-null  object\n",
      " 27  ПТС                   34685 non-null  object\n",
      " 28  Привод                34686 non-null  object\n",
      " 29  Руль                  34686 non-null  object\n",
      " 30  Состояние             34686 non-null  object\n",
      " 31  Таможня               34686 non-null  object\n",
      "dtypes: int64(6), object(26)\n",
      "memory usage: 8.5+ MB\n"
     ]
    }
   ],
   "source": [
    "test.info()"
   ]
  },
  {
   "cell_type": "code",
   "execution_count": 46,
   "metadata": {},
   "outputs": [
    {
     "name": "stdout",
     "output_type": "stream",
     "text": [
      "<class 'pandas.core.frame.DataFrame'>\n",
      "Int64Index: 77150 entries, 0 to 77448\n",
      "Data columns (total 34 columns):\n",
      " #   Column                Non-Null Count  Dtype  \n",
      "---  ------                --------------  -----  \n",
      " 0   bodyType              77150 non-null  object \n",
      " 1   brand                 77150 non-null  object \n",
      " 2   color                 77150 non-null  object \n",
      " 3   complectation_dict    77150 non-null  object \n",
      " 4   description           74497 non-null  object \n",
      " 5   engineDisplacement    77150 non-null  object \n",
      " 6   enginePower           77150 non-null  float64\n",
      " 7   equipment_dict        77150 non-null  object \n",
      " 8   fuelType              77150 non-null  object \n",
      " 9   image                 77150 non-null  int64  \n",
      " 10  mileage               77150 non-null  int64  \n",
      " 11  modelDate             77150 non-null  float64\n",
      " 12  model_info            77150 non-null  object \n",
      " 13  model_name            77150 non-null  object \n",
      " 14  name                  77150 non-null  object \n",
      " 15  numberOfDoors         77150 non-null  float64\n",
      " 16  start_date            77150 non-null  object \n",
      " 17  priceCurrency         77150 non-null  object \n",
      " 18  productionDate        77150 non-null  int64  \n",
      " 19  sell_id               77150 non-null  int64  \n",
      " 20  super_gen             77150 non-null  object \n",
      " 21  vehicleConfiguration  77150 non-null  object \n",
      " 22  vehicleTransmission   77150 non-null  object \n",
      " 23  vendor                77150 non-null  object \n",
      " 24  Владельцы             61223 non-null  float64\n",
      " 25  Владение              20186 non-null  object \n",
      " 26  ПТС                   76699 non-null  object \n",
      " 27  Привод                77150 non-null  object \n",
      " 28  Руль                  77150 non-null  object \n",
      " 29  Состояние             77150 non-null  bool   \n",
      " 30  Таможня               77150 non-null  bool   \n",
      " 31  price                 77150 non-null  float64\n",
      " 32  price_EUR             77150 non-null  float64\n",
      " 33  price_USD             77150 non-null  float64\n",
      "dtypes: bool(2), float64(7), int64(4), object(21)\n",
      "memory usage: 19.6+ MB\n"
     ]
    }
   ],
   "source": [
    "train.info()"
   ]
  },
  {
   "cell_type": "code",
   "execution_count": 47,
   "metadata": {},
   "outputs": [],
   "source": [
    "test['ПТС'] = test['ПТС'].fillna('Оригинал')\n",
    "train['ПТС'] = train['ПТС'].fillna('Оригинал')"
   ]
  },
  {
   "cell_type": "code",
   "execution_count": 48,
   "metadata": {},
   "outputs": [],
   "source": [
    "train['vendor'] = train['vendor'].apply(lambda x: x if x == 'EUROPEAN' else( x if x == 'JAPANESE' else 'other'))"
   ]
  },
  {
   "cell_type": "code",
   "execution_count": 49,
   "metadata": {},
   "outputs": [],
   "source": [
    "columns_drop = ['Состояние', 'Таможня', 'priceCurrency']\n",
    "train.drop(columns_drop, axis=1, inplace=True)\n",
    "test.drop(columns_drop, axis=1, inplace=True)"
   ]
  },
  {
   "cell_type": "code",
   "execution_count": 50,
   "metadata": {},
   "outputs": [],
   "source": [
    "col_drop2 = ['price_EUR', 'price_USD']\n",
    "train.drop(col_drop2, axis=1, inplace=True)"
   ]
  },
  {
   "cell_type": "code",
   "execution_count": 51,
   "metadata": {},
   "outputs": [],
   "source": [
    "train['productionDate'] = train['productionDate'].values.astype('int64')\n",
    "train['sell_id'] = train['sell_id'].values.astype('int64')\n",
    "train['modelDate'] = train['modelDate'].values.astype('int64')\n",
    "train['numberOfDoors'] = train['numberOfDoors'].values.astype('int64')"
   ]
  },
  {
   "cell_type": "code",
   "execution_count": 52,
   "metadata": {},
   "outputs": [
    {
     "data": {
      "text/plain": [
       "count      77150.000000\n",
       "mean      123501.991212\n",
       "std       104709.575201\n",
       "min            0.000000\n",
       "25%        28770.250000\n",
       "50%       117000.000000\n",
       "75%       186000.000000\n",
       "max      1000000.000000\n",
       "Name: mileage, dtype: float64"
      ]
     },
     "execution_count": 52,
     "metadata": {},
     "output_type": "execute_result"
    }
   ],
   "source": [
    "train.mileage.describe()"
   ]
  },
  {
   "cell_type": "code",
   "execution_count": 53,
   "metadata": {},
   "outputs": [],
   "source": [
    "train['mileage'] = train['mileage'].fillna('0')\n",
    "train['mileage'] = train['mileage'].values.astype('int64')\n",
    "# и поменяем тип price\n",
    "train.price = train.price.values.astype('float32')"
   ]
  },
  {
   "cell_type": "code",
   "execution_count": 54,
   "metadata": {},
   "outputs": [],
   "source": [
    "train['mileageNAN'] = train['mileage'].apply(lambda x: 1 if x == 0 else 0)"
   ]
  },
  {
   "cell_type": "markdown",
   "metadata": {},
   "source": [
    "EDA"
   ]
  },
  {
   "cell_type": "markdown",
   "metadata": {},
   "source": [
    "bodyType #1"
   ]
  },
  {
   "cell_type": "code",
   "execution_count": 55,
   "metadata": {},
   "outputs": [
    {
     "data": {
      "text/plain": [
       "Внедорожник 5 дв.                          30011\n",
       "Седан                                      23999\n",
       "Хэтчбек 5 дв.                               6901\n",
       "Универсал 5 дв.                             2870\n",
       "Лифтбек                                     2679\n",
       "                                           ...  \n",
       "Пикап Одинарная кабина Regular Cab             1\n",
       "Седан Latio                                    1\n",
       "Универсал 5 дв. XC                             1\n",
       "Седан-хардтоп Ceres                            1\n",
       "Пикап Полуторная кабина Raptor SuperCab        1\n",
       "Name: bodyType, Length: 166, dtype: int64"
      ]
     },
     "execution_count": 55,
     "metadata": {},
     "output_type": "execute_result"
    }
   ],
   "source": [
    "train.bodyType.value_counts()"
   ]
  },
  {
   "cell_type": "code",
   "execution_count": 56,
   "metadata": {},
   "outputs": [
    {
     "data": {
      "text/plain": [
       "Внедорожник 5 дв.    30011\n",
       "Седан                23999\n",
       "Хэтчбек 5 дв.         6901\n",
       "Универсал 5 дв.       2870\n",
       "Лифтбек               2679\n",
       "Минивэн               1612\n",
       "Компактвэн            1586\n",
       "Купе                  1133\n",
       "Хэтчбек 3 дв.         1115\n",
       "Name: bodyType2, dtype: int64"
      ]
     },
     "execution_count": 56,
     "metadata": {},
     "output_type": "execute_result"
    }
   ],
   "source": [
    "train['bodyType2'] = train.bodyType\n",
    "bodyType = train.bodyType2.value_counts()[:9]\n",
    "bodyType"
   ]
  },
  {
   "cell_type": "code",
   "execution_count": 57,
   "metadata": {},
   "outputs": [],
   "source": [
    "test['bodyType2'] = test.bodyType"
   ]
  },
  {
   "cell_type": "code",
   "execution_count": 58,
   "metadata": {},
   "outputs": [
    {
     "data": {
      "text/plain": [
       "седан                13147\n",
       "внедорожник 5 дв.    12228\n",
       "лифтбек               2232\n",
       "хэтчбек 5 дв.         2124\n",
       "универсал 5 дв.       1276\n",
       "минивэн                995\n",
       "купе                   824\n",
       "компактвэн             489\n",
       "хэтчбек 3 дв.          485\n",
       "Name: bodyType2, dtype: int64"
      ]
     },
     "execution_count": 58,
     "metadata": {},
     "output_type": "execute_result"
    }
   ],
   "source": [
    "bodyType1 = test.bodyType2.value_counts()[:9]\n",
    "bodyType1"
   ]
  },
  {
   "cell_type": "code",
   "execution_count": 59,
   "metadata": {},
   "outputs": [],
   "source": [
    "train['bodyType2'] = train['bodyType2'].apply(lambda x: x if x in bodyType else 'другой')"
   ]
  },
  {
   "cell_type": "code",
   "execution_count": 60,
   "metadata": {},
   "outputs": [
    {
     "data": {
      "text/plain": [
       "Внедорожник 5 дв.    30011\n",
       "Седан                23999\n",
       "Хэтчбек 5 дв.         6901\n",
       "другой                5244\n",
       "Универсал 5 дв.       2870\n",
       "Лифтбек               2679\n",
       "Минивэн               1612\n",
       "Компактвэн            1586\n",
       "Купе                  1133\n",
       "Хэтчбек 3 дв.         1115\n",
       "Name: bodyType2, dtype: int64"
      ]
     },
     "execution_count": 60,
     "metadata": {},
     "output_type": "execute_result"
    }
   ],
   "source": [
    "train['bodyType2'].value_counts()"
   ]
  },
  {
   "cell_type": "code",
   "execution_count": 61,
   "metadata": {},
   "outputs": [],
   "source": [
    "test['bodyType2'] = test['bodyType2'].apply(lambda x: x if x in bodyType1 else 'другой')"
   ]
  },
  {
   "cell_type": "code",
   "execution_count": 62,
   "metadata": {},
   "outputs": [
    {
     "data": {
      "text/plain": [
       "седан                13147\n",
       "внедорожник 5 дв.    12228\n",
       "лифтбек               2232\n",
       "хэтчбек 5 дв.         2124\n",
       "универсал 5 дв.       1276\n",
       "минивэн                995\n",
       "другой                 886\n",
       "купе                   824\n",
       "компактвэн             489\n",
       "хэтчбек 3 дв.          485\n",
       "Name: bodyType2, dtype: int64"
      ]
     },
     "execution_count": 62,
     "metadata": {},
     "output_type": "execute_result"
    }
   ],
   "source": [
    "test['bodyType2'].value_counts()"
   ]
  },
  {
   "cell_type": "code",
   "execution_count": 63,
   "metadata": {},
   "outputs": [],
   "source": [
    "train['log_price'] = np.log(train.price)"
   ]
  },
  {
   "cell_type": "code",
   "execution_count": 64,
   "metadata": {},
   "outputs": [
    {
     "data": {
      "image/png": "[encoded data removed]",
      "text/plain": [
       "<Figure size 576x360 with 1 Axes>"
      ]
     },
     "metadata": {
      "needs_background": "light"
     },
     "output_type": "display_data"
    }
   ],
   "source": [
    "plt.figure(figsize=(8, 5))\n",
    "g1 = sns.boxplot(y='log_price', x='bodyType2', \n",
    "                  data=train, color='darkgreen')\n",
    "g1.set_title(\"price of bodyTypes\", fontsize=20)\n",
    "\n",
    "g1.set_ylabel(\"log_price\", fontsize=15)\n",
    "g1.set_xticklabels(g1.get_xticklabels(),rotation=45)\n",
    "plt.show()"
   ]
  },
  {
   "cell_type": "code",
   "execution_count": 65,
   "metadata": {},
   "outputs": [],
   "source": [
    "train = train.assign(bT_length = train['bodyType'].apply(len))\n",
    "test = test.assign(bT_length = test['bodyType'].apply(len))"
   ]
  },
  {
   "cell_type": "code",
   "execution_count": 66,
   "metadata": {},
   "outputs": [
    {
     "data": {
      "image/png": "[encoded data removed]",
      "text/plain": [
       "<Figure size 576x360 with 1 Axes>"
      ]
     },
     "metadata": {
      "needs_background": "light"
     },
     "output_type": "display_data"
    }
   ],
   "source": [
    "plt.figure(figsize=(8, 5))\n",
    "g1 = sns.boxplot(y='log_price', x='bT_length', \n",
    "                  data=train, color='darkgreen')\n",
    "g1.set_title(\"price of bT_length\", fontsize=20)\n",
    "\n",
    "g1.set_ylabel(\"log_price\", fontsize=15)\n",
    "g1.set_xticklabels(g1.get_xticklabels(),rotation=45)\n",
    "plt.show()"
   ]
  },
  {
   "cell_type": "markdown",
   "metadata": {},
   "source": [
    "brand #2"
   ]
  },
  {
   "cell_type": "code",
   "execution_count": 67,
   "metadata": {},
   "outputs": [
    {
     "data": {
      "text/plain": [
       "36"
      ]
     },
     "execution_count": 67,
     "metadata": {},
     "output_type": "execute_result"
    }
   ],
   "source": [
    "len(train.brand.value_counts())"
   ]
  },
  {
   "cell_type": "code",
   "execution_count": 68,
   "metadata": {},
   "outputs": [
    {
     "data": {
      "text/plain": [
       "12"
      ]
     },
     "execution_count": 68,
     "metadata": {},
     "output_type": "execute_result"
    }
   ],
   "source": [
    "len(test.brand.value_counts())"
   ]
  },
  {
   "cell_type": "code",
   "execution_count": 69,
   "metadata": {},
   "outputs": [
    {
     "data": {
      "text/plain": [
       "BMW           4473\n",
       "VOLKSWAGEN    4404\n",
       "NISSAN        4393\n",
       "MERCEDES      4180\n",
       "TOYOTA        3913\n",
       "AUDI          3421\n",
       "MITSUBISHI    2843\n",
       "SKODA         2741\n",
       "VOLVO         1463\n",
       "HONDA         1150\n",
       "INFINITI       871\n",
       "LEXUS          834\n",
       "Name: brand, dtype: int64"
      ]
     },
     "execution_count": 69,
     "metadata": {},
     "output_type": "execute_result"
    }
   ],
   "source": [
    "brand = test.brand.value_counts()\n",
    "brand"
   ]
  },
  {
   "cell_type": "code",
   "execution_count": 70,
   "metadata": {},
   "outputs": [
    {
     "data": {
      "text/plain": [
       "MERCEDES      10045\n",
       "BMW            6100\n",
       "VOLKSWAGEN     5802\n",
       "NISSAN         4531\n",
       "HYUNDAI        4525\n",
       "KIA            4484\n",
       "FORD           3752\n",
       "AUDI           3630\n",
       "RENAULT        3519\n",
       "TOYOTA         3238\n",
       "CHEVROLET      2971\n",
       "MITSUBISHI     2846\n",
       "Name: brand, dtype: int64"
      ]
     },
     "execution_count": 70,
     "metadata": {},
     "output_type": "execute_result"
    }
   ],
   "source": [
    "train.brand.value_counts().head(12)"
   ]
  },
  {
   "cell_type": "code",
   "execution_count": 71,
   "metadata": {},
   "outputs": [],
   "source": [
    "train['brand'] = train['brand'].apply(lambda x: x if x in brand else 'other')"
   ]
  },
  {
   "cell_type": "code",
   "execution_count": 72,
   "metadata": {},
   "outputs": [
    {
     "data": {
      "text/html": [
       "<div>\n",
       "<style scoped>\n",
       "    .dataframe tbody tr th:only-of-type {\n",
       "        vertical-align: middle;\n",
       "    }\n",
       "\n",
       "    .dataframe tbody tr th {\n",
       "        vertical-align: top;\n",
       "    }\n",
       "\n",
       "    .dataframe thead th {\n",
       "        text-align: right;\n",
       "    }\n",
       "</style>\n",
       "<table border=\"1\" class=\"dataframe\">\n",
       "  <thead>\n",
       "    <tr style=\"text-align: right;\">\n",
       "      <th></th>\n",
       "      <th>count</th>\n",
       "      <th>mean</th>\n",
       "      <th>std</th>\n",
       "      <th>min</th>\n",
       "      <th>25%</th>\n",
       "      <th>50%</th>\n",
       "      <th>75%</th>\n",
       "      <th>max</th>\n",
       "    </tr>\n",
       "    <tr>\n",
       "      <th>brand</th>\n",
       "      <th></th>\n",
       "      <th></th>\n",
       "      <th></th>\n",
       "      <th></th>\n",
       "      <th></th>\n",
       "      <th></th>\n",
       "      <th></th>\n",
       "      <th></th>\n",
       "    </tr>\n",
       "  </thead>\n",
       "  <tbody>\n",
       "    <tr>\n",
       "      <th>AUDI</th>\n",
       "      <td>3630.0</td>\n",
       "      <td>1.795882e+06</td>\n",
       "      <td>1.720199e+06</td>\n",
       "      <td>25000.0</td>\n",
       "      <td>550000.0</td>\n",
       "      <td>1195000.0</td>\n",
       "      <td>2700000.0</td>\n",
       "      <td>14490000.0</td>\n",
       "    </tr>\n",
       "    <tr>\n",
       "      <th>BMW</th>\n",
       "      <td>6100.0</td>\n",
       "      <td>2.966668e+06</td>\n",
       "      <td>2.787555e+06</td>\n",
       "      <td>75000.0</td>\n",
       "      <td>960000.0</td>\n",
       "      <td>2000000.0</td>\n",
       "      <td>3730000.0</td>\n",
       "      <td>15990100.0</td>\n",
       "    </tr>\n",
       "    <tr>\n",
       "      <th>HONDA</th>\n",
       "      <td>863.0</td>\n",
       "      <td>6.824571e+05</td>\n",
       "      <td>6.071213e+05</td>\n",
       "      <td>40000.0</td>\n",
       "      <td>325000.0</td>\n",
       "      <td>499999.0</td>\n",
       "      <td>871500.0</td>\n",
       "      <td>5490161.0</td>\n",
       "    </tr>\n",
       "    <tr>\n",
       "      <th>INFINITI</th>\n",
       "      <td>782.0</td>\n",
       "      <td>1.604471e+06</td>\n",
       "      <td>1.107312e+06</td>\n",
       "      <td>105000.0</td>\n",
       "      <td>800000.0</td>\n",
       "      <td>1350000.0</td>\n",
       "      <td>1949500.0</td>\n",
       "      <td>6849262.0</td>\n",
       "    </tr>\n",
       "    <tr>\n",
       "      <th>LEXUS</th>\n",
       "      <td>897.0</td>\n",
       "      <td>2.324261e+06</td>\n",
       "      <td>1.555936e+06</td>\n",
       "      <td>65000.0</td>\n",
       "      <td>1150000.0</td>\n",
       "      <td>1980000.0</td>\n",
       "      <td>3199000.0</td>\n",
       "      <td>13000000.0</td>\n",
       "    </tr>\n",
       "    <tr>\n",
       "      <th>MERCEDES</th>\n",
       "      <td>10045.0</td>\n",
       "      <td>4.879892e+06</td>\n",
       "      <td>4.521246e+06</td>\n",
       "      <td>40000.0</td>\n",
       "      <td>1500000.0</td>\n",
       "      <td>4020000.0</td>\n",
       "      <td>6952800.0</td>\n",
       "      <td>72000000.0</td>\n",
       "    </tr>\n",
       "    <tr>\n",
       "      <th>MITSUBISHI</th>\n",
       "      <td>2846.0</td>\n",
       "      <td>9.446201e+05</td>\n",
       "      <td>8.263026e+05</td>\n",
       "      <td>38000.0</td>\n",
       "      <td>280000.0</td>\n",
       "      <td>600000.0</td>\n",
       "      <td>1585000.0</td>\n",
       "      <td>3572805.0</td>\n",
       "    </tr>\n",
       "    <tr>\n",
       "      <th>NISSAN</th>\n",
       "      <td>4531.0</td>\n",
       "      <td>9.036941e+05</td>\n",
       "      <td>6.890859e+05</td>\n",
       "      <td>25000.0</td>\n",
       "      <td>392000.0</td>\n",
       "      <td>699000.0</td>\n",
       "      <td>1250000.0</td>\n",
       "      <td>7900000.0</td>\n",
       "    </tr>\n",
       "    <tr>\n",
       "      <th>SKODA</th>\n",
       "      <td>2526.0</td>\n",
       "      <td>8.248314e+05</td>\n",
       "      <td>5.883211e+05</td>\n",
       "      <td>20000.0</td>\n",
       "      <td>450000.0</td>\n",
       "      <td>649000.0</td>\n",
       "      <td>990000.0</td>\n",
       "      <td>3180000.0</td>\n",
       "    </tr>\n",
       "    <tr>\n",
       "      <th>TOYOTA</th>\n",
       "      <td>3238.0</td>\n",
       "      <td>1.313597e+06</td>\n",
       "      <td>1.320598e+06</td>\n",
       "      <td>30000.0</td>\n",
       "      <td>455000.0</td>\n",
       "      <td>907000.0</td>\n",
       "      <td>1743750.0</td>\n",
       "      <td>25000000.0</td>\n",
       "    </tr>\n",
       "    <tr>\n",
       "      <th>VOLKSWAGEN</th>\n",
       "      <td>5802.0</td>\n",
       "      <td>1.095616e+06</td>\n",
       "      <td>1.038853e+06</td>\n",
       "      <td>25000.0</td>\n",
       "      <td>435000.0</td>\n",
       "      <td>750000.0</td>\n",
       "      <td>1450000.0</td>\n",
       "      <td>6761700.0</td>\n",
       "    </tr>\n",
       "    <tr>\n",
       "      <th>VOLVO</th>\n",
       "      <td>1809.0</td>\n",
       "      <td>2.127852e+06</td>\n",
       "      <td>1.867846e+06</td>\n",
       "      <td>30000.0</td>\n",
       "      <td>510000.0</td>\n",
       "      <td>1249000.0</td>\n",
       "      <td>3916190.0</td>\n",
       "      <td>8047725.0</td>\n",
       "    </tr>\n",
       "    <tr>\n",
       "      <th>other</th>\n",
       "      <td>34081.0</td>\n",
       "      <td>9.209191e+05</td>\n",
       "      <td>1.314901e+06</td>\n",
       "      <td>20000.0</td>\n",
       "      <td>303000.0</td>\n",
       "      <td>540000.0</td>\n",
       "      <td>999000.0</td>\n",
       "      <td>59604352.0</td>\n",
       "    </tr>\n",
       "  </tbody>\n",
       "</table>\n",
       "</div>"
      ],
      "text/plain": [
       "              count          mean           std       min        25%  \\\n",
       "brand                                                                  \n",
       "AUDI         3630.0  1.795882e+06  1.720199e+06   25000.0   550000.0   \n",
       "BMW          6100.0  2.966668e+06  2.787555e+06   75000.0   960000.0   \n",
       "HONDA         863.0  6.824571e+05  6.071213e+05   40000.0   325000.0   \n",
       "INFINITI      782.0  1.604471e+06  1.107312e+06  105000.0   800000.0   \n",
       "LEXUS         897.0  2.324261e+06  1.555936e+06   65000.0  1150000.0   \n",
       "MERCEDES    10045.0  4.879892e+06  4.521246e+06   40000.0  1500000.0   \n",
       "MITSUBISHI   2846.0  9.446201e+05  8.263026e+05   38000.0   280000.0   \n",
       "NISSAN       4531.0  9.036941e+05  6.890859e+05   25000.0   392000.0   \n",
       "SKODA        2526.0  8.248314e+05  5.883211e+05   20000.0   450000.0   \n",
       "TOYOTA       3238.0  1.313597e+06  1.320598e+06   30000.0   455000.0   \n",
       "VOLKSWAGEN   5802.0  1.095616e+06  1.038853e+06   25000.0   435000.0   \n",
       "VOLVO        1809.0  2.127852e+06  1.867846e+06   30000.0   510000.0   \n",
       "other       34081.0  9.209191e+05  1.314901e+06   20000.0   303000.0   \n",
       "\n",
       "                  50%        75%         max  \n",
       "brand                                         \n",
       "AUDI        1195000.0  2700000.0  14490000.0  \n",
       "BMW         2000000.0  3730000.0  15990100.0  \n",
       "HONDA        499999.0   871500.0   5490161.0  \n",
       "INFINITI    1350000.0  1949500.0   6849262.0  \n",
       "LEXUS       1980000.0  3199000.0  13000000.0  \n",
       "MERCEDES    4020000.0  6952800.0  72000000.0  \n",
       "MITSUBISHI   600000.0  1585000.0   3572805.0  \n",
       "NISSAN       699000.0  1250000.0   7900000.0  \n",
       "SKODA        649000.0   990000.0   3180000.0  \n",
       "TOYOTA       907000.0  1743750.0  25000000.0  \n",
       "VOLKSWAGEN   750000.0  1450000.0   6761700.0  \n",
       "VOLVO       1249000.0  3916190.0   8047725.0  \n",
       "other        540000.0   999000.0  59604352.0  "
      ]
     },
     "execution_count": 72,
     "metadata": {},
     "output_type": "execute_result"
    }
   ],
   "source": [
    "train.groupby('brand').price.describe()"
   ]
  },
  {
   "cell_type": "code",
   "execution_count": 73,
   "metadata": {},
   "outputs": [
    {
     "data": {
      "image/png": "[encoded data removed]",
      "text/plain": [
       "<Figure size 576x360 with 1 Axes>"
      ]
     },
     "metadata": {
      "needs_background": "light"
     },
     "output_type": "display_data"
    }
   ],
   "source": [
    "plt.figure(figsize=(8, 5))\n",
    "g1 = sns.boxplot(y='log_price', x='brand', \n",
    "                  data=train, color='darkgreen')\n",
    "g1.set_title(\"price of brands\", fontsize=20)\n",
    "\n",
    "g1.set_ylabel(\"log_price\", fontsize=15)\n",
    "g1.set_xticklabels(g1.get_xticklabels(),rotation=45)\n",
    "plt.show()"
   ]
  },
  {
   "cell_type": "code",
   "execution_count": 74,
   "metadata": {},
   "outputs": [],
   "source": [
    "train = train.assign(brand_length = train['brand'].apply(len))\n",
    "test = test.assign(brand_length = test['brand'].apply(len))"
   ]
  },
  {
   "cell_type": "code",
   "execution_count": 75,
   "metadata": {},
   "outputs": [
    {
     "data": {
      "image/png": "[encoded data removed]",
      "text/plain": [
       "<Figure size 576x360 with 1 Axes>"
      ]
     },
     "metadata": {
      "needs_background": "light"
     },
     "output_type": "display_data"
    }
   ],
   "source": [
    "plt.figure(figsize=(8, 5))\n",
    "g1 = sns.boxplot(y='log_price', x='brand_length', \n",
    "                  data=train, color='darkgreen')\n",
    "g1.set_title(\"price of brand_length\", fontsize=20)\n",
    "\n",
    "g1.set_ylabel(\"log_price\", fontsize=15)\n",
    "g1.set_xticklabels(g1.get_xticklabels(),rotation=45)\n",
    "plt.show()"
   ]
  },
  {
   "cell_type": "code",
   "execution_count": 76,
   "metadata": {},
   "outputs": [
    {
     "data": {
      "text/plain": [
       "544"
      ]
     },
     "execution_count": 76,
     "metadata": {},
     "output_type": "execute_result"
    }
   ],
   "source": [
    "len(test.model_name.value_counts())"
   ]
  },
  {
   "cell_type": "code",
   "execution_count": 77,
   "metadata": {},
   "outputs": [
    {
     "data": {
      "text/plain": [
       "1064"
      ]
     },
     "execution_count": 77,
     "metadata": {},
     "output_type": "execute_result"
    }
   ],
   "source": [
    "len(train.model_name.value_counts())"
   ]
  },
  {
   "cell_type": "code",
   "execution_count": 78,
   "metadata": {},
   "outputs": [
    {
     "data": {
      "text/plain": [
       "OCTAVIA      1418\n",
       "5ER          1026\n",
       "LANCER        855\n",
       "E_KLASSE      809\n",
       "PASSAT        782\n",
       "A6            757\n",
       "3ER           752\n",
       "POLO          724\n",
       "CAMRY         709\n",
       "X5            675\n",
       "X_TRAIL       654\n",
       "A4            626\n",
       "QASHQAI       609\n",
       "S_KLASSE      549\n",
       "OUTLANDER     544\n",
       "Name: model_name, dtype: int64"
      ]
     },
     "execution_count": 78,
     "metadata": {},
     "output_type": "execute_result"
    }
   ],
   "source": [
    "test.model_name.value_counts().head(15)"
   ]
  },
  {
   "cell_type": "code",
   "execution_count": 79,
   "metadata": {},
   "outputs": [
    {
     "data": {
      "text/plain": [
       "\"{'code': '100', 'name': '100', 'ru_name': '100', 'morphology': {}, 'nameplate': {'code': '', 'name': '', 'semantic_url': ''}}\""
      ]
     },
     "execution_count": 79,
     "metadata": {},
     "output_type": "execute_result"
    }
   ],
   "source": [
    "train.model_info[3]"
   ]
  },
  {
   "cell_type": "code",
   "execution_count": 80,
   "metadata": {},
   "outputs": [
    {
     "data": {
      "text/plain": [
       "'{\"code\":\"OCTAVIA\",\"name\":\"Octavia\",\"ru_name\":\"Октавия\",\"morphology\":{\"gender\":\"FEMININE\"},\"nameplate\":{\"code\":\"\",\"name\":\"\",\"semantic_url\":\"\"}}'"
      ]
     },
     "execution_count": 80,
     "metadata": {},
     "output_type": "execute_result"
    }
   ],
   "source": [
    "test.model_info[3]"
   ]
  },
  {
   "cell_type": "code",
   "execution_count": null,
   "metadata": {},
   "outputs": [],
   "source": []
  },
  {
   "cell_type": "code",
   "execution_count": 81,
   "metadata": {},
   "outputs": [
    {
     "data": {
      "text/plain": [
       "28268"
      ]
     },
     "execution_count": 81,
     "metadata": {},
     "output_type": "execute_result"
    }
   ],
   "source": [
    "test.complectation_dict.isna().sum()"
   ]
  },
  {
   "cell_type": "code",
   "execution_count": 82,
   "metadata": {},
   "outputs": [
    {
     "data": {
      "text/plain": [
       "{'id': '0'}                                                                                                                                                                                                                                                                                                                                                                                                                                                                                                                                                                                                                                                                                                                                                                                                                                                                                                                                                                                                                                                                                                                                                                                                                                                                                                                                                                                                                                                                                                                                                                                                                                                                                                                                                                                                                                                                                                                                                                                                                                                                                                                                                                                                                                                                                                                                                                                                                                                                                                                                                                                                                                                                                                                                                                                                                                                                                                                                                                                                                                                                                                                                                                                                                                                                                                                                                                                                                                                                                                                                                                                                                                              49385\n",
       "{'id': '21565419', 'name': 'GLC 200 4MATIC Premium', 'available_options': ['cruise-control', 'eco-leather', 'multi-wheel', 'auto-park', 'heated-wash-system', 'airbag-passenger', 'roof-rails', 'bas', 'lock', 'electro-mirrors', 'mirrors-heat', 'volume-sensor', 'automatic-lighting-control', 'collision-prevention-assist', 'computer', 'seat-transformation', 'android-auto', 'wheel-power', 'airbag-side', 'electro-trunk', 'abs', 'wheel-leather', 'climate-control-2', 'auto-mirrors', 'asr', 'esp', 'usb', 'audiopreparation', 'front-centre-armrest', 'apple-carplay', 'rear-camera', 'steering-wheel-gear-shift-paddles', 'electro-window-back', '18-inch-wheels', 'reduce-spare-wheel', 'park-assist-f', 'driver-seat-updown', 'led-lights', 'park-assist-r', 'knee-airbag', 'airbag-driver', 'isofix', 'aux', 'drive-mode-sys', 'electro-window-front', 'light-sensor', 'airbag-curtain', 'alarm', 'paint-metallic', 'start-button', 'rain-sensor', 'tyre-pressure', 'voice-recognition', 'audiosystem-cd', 'front-seats-heat', 'bluetooth', 'wheel-configuration2', 'wheel-configuration1', 'immo', '12v-socket', 'third-rear-headrest']}                                                                                                                                                                                                                                                                                                                                                                                                                                                                                                                                                                                                                                                                                                                                                                                                                                                                                                                                                                                                                                                                                                                                                                                                                                                                                                                                                                                                                                                                                                                                                                                                                                                                                                                                                                                                                                                                                                                                                                                                                                                                                                                                                                                                                                                                                                                                                                                                                                                                                                    288\n",
       "{'id': '21601444', 'name': 'GLS 450 4MATIC Sport', 'available_options': ['multi-wheel', 'auto-park', 'heated-wash-system', 'airbag-passenger', 'navigation', 'roof-rails', 'decorative-interior-lighting', 'bas', 'lock', 'electro-mirrors', 'activ-suspension', 'mirrors-heat', 'power-latching-doors', 'volume-sensor', 'leather', 'driver-seat-memory', 'body-kit', 'glonass', 'front-seats-heat-vent', 'start-stop-function', 'automatic-lighting-control', 'passenger-seat-updown', 'collision-prevention-assist', 'computer', 'high-beam-assist', 'seat-transformation', 'android-auto', 'dha', 'airbag-rear-side', 'airbag-side', 'electronic-gage-panel', 'electro-trunk', 'auto-cruise', 'abs', 'wheel-leather', 'third-row-seats', 'auto-mirrors', 'asr', 'tinted-glass', 'esp', 'adaptive-light', 'usb', 'audiopreparation', 'lane-keeping-assist', 'front-centre-armrest', 'apple-carplay', '21-inch-wheels', 'air-suspension', 'servo', 'electro-window-back', 'reduce-spare-wheel', 'multizone-climate-control', 'hatch', 'park-assist-f', 'rear-seats-heat', 'wheel-heat', 'led-lights', 'music-super', 'park-assist-r', 'airbag-driver', 'isofix', 'aux', 'drive-mode-sys', 'electro-window-front', 'light-sensor', 'airbag-curtain', 'keyless-entry', 'passenger-seat-electric', 'alarm', 'paint-metallic', 'traffic-sign-recognition', 'start-button', 'rain-sensor', 'tyre-pressure', 'panorama-roof', 'front-seats-heat', 'bluetooth', 'wheel-configuration2', 'wheel-configuration1', 'immo', '12v-socket', 'third-rear-headrest', '360-camera'], 'vendor_colors': [{'body_color_id': 21603365, 'mark_color_id': 21389965, 'name_ru': 'Серый Селенит', 'hex_codes': ['65696E'], 'color_type': 'METALLIC', 'stock_color': {'hex_code': '97948F', 'name_ru': 'серый'}, 'photos': [{'name': '34-front', 'sizes': {'orig': '//avatars.mds.yandex.net/get-verba/937147/2a0000016bd5bd5115eab429827220814f69/orig', 'wizardv3mr': '//avatars.mds.yandex.net/get-verba/937147/2a0000016bd5bd5115eab429827220814f69/wizardv3mr', 'wizardv3': '//avatars.mds.yandex.net/get-verba/937147/2a0000016bd5bd5115eab429827220814f69/wizardv3', 'cattouch': '//avatars.mds.yandex.net/get-verba/937147/2a0000016bd5bd5115eab429827220814f69/cattouch', 'small': '//avatars.mds.yandex.net/get-verba/937147/2a0000016bd5bd5115eab429827220814f69/small', '320x240': '//avatars.mds.yandex.net/get-verba/937147/2a0000016bd5bd5115eab429827220814f69/320x240', '1200x900': '//avatars.mds.yandex.net/get-verba/937147/2a0000016bd5bd5115eab429827220814f69/1200x900', '1200x900n': '//avatars.mds.yandex.net/get-verba/937147/2a0000016bd5bd5115eab429827220814f69/1200x900n', 'thumb_m': '//avatars.mds.yandex.net/get-verba/937147/2a0000016bd5bd5115eab429827220814f69/thumb_m', 'full': '//avatars.mds.yandex.net/get-verba/937147/2a0000016bd5bd5115eab429827220814f69/full', '832x624': '//avatars.mds.yandex.net/get-verba/937147/2a0000016bd5bd5115eab429827220814f69/832x624', '456x342': '//avatars.mds.yandex.net/get-verba/937147/2a0000016bd5bd5115eab429827220814f69/456x342', '120x90': '//avatars.mds.yandex.net/get-verba/937147/2a0000016bd5bd5115eab429827220814f69/120x90', '92x69': '//avatars.mds.yandex.net/get-verba/937147/2a0000016bd5bd5115eab429827220814f69/92x69', 'islandoff': '//avatars.mds.yandex.net/get-verba/937147/2a0000016bd5bd5115eab429827220814f69/islandoff', 'thumb_s': '//avatars.mds.yandex.net/get-verba/937147/2a0000016bd5bd5115eab429827220814f69/thumb_s', 'thumb_s_2x': '//avatars.mds.yandex.net/get-verba/937147/2a0000016bd5bd5115eab429827220814f69/thumb_s_2x'}}], 'main_color': True}]}      242\n",
       "Name: complectation_dict, dtype: int64"
      ]
     },
     "execution_count": 82,
     "metadata": {},
     "output_type": "execute_result"
    }
   ],
   "source": [
    "train.complectation_dict.value_counts().head(3)"
   ]
  },
  {
   "cell_type": "code",
   "execution_count": 83,
   "metadata": {},
   "outputs": [
    {
     "data": {
      "text/plain": [
       "{\"id\":\"4562904\",\"name\":\"Elegance\",\"available_options\":[\"cruise-control\",\"multi-wheel\",\"airbag-passenger\",\"lock\",\"electro-mirrors\",\"mirrors-heat\",\"cooling-box\",\"computer\",\"seat-transformation\",\"wheel-power\",\"fabric-seats\",\"airbag-side\",\"abs\",\"wheel-leather\",\"climate-control-1\",\"esp\",\"audiopreparation\",\"electro-window-back\",\"condition\",\"music-super\",\"park-assist-r\",\"airbag-driver\",\"isofix\",\"aux\",\"electro-window-front\",\"light-sensor\",\"hcc\",\"alarm\",\"ptf\",\"rain-sensor\",\"audiosystem-cd\",\"front-seats-heat\",\"wheel-configuration2\",\"wheel-configuration1\",\"immo\"]}                                                                                                                                                                                                                                                                                                                                                                                                                                                                                                                                                                                                                                                                                                                                                                                                                                                                                                                                                                                                                                                                                                                                                                                                                                                                                                                                                                                                                                                                                                                                                                                                                                                                                                                                                                                                                                                                                                                                                                                                                                                                                                                                                                                                                                                                                                                                                                                                                                                                                                                                                                                                                                                                                                                                                                                                                                                                                                                                                                                                                                                                                                                                                                                                                                                                                                                                                                                                                                                                                                                                                                                                                                                                                                                                                                                                                                                                                                                                                                                                                                                                                                                                                                                                                                                                                                                                                                                                                                                                                                                                                                                                                                                                                                                                                                                                                                                                                                                                                                                                                                                                                                                                                                                                                                                                                                                                                                                                                                                                                                                                                                                                                                                                                                                                                                                                                                                                                                                                                                                                                                                                                                                                                                                                                                                                                                                                                                                                                                                                                                                                                                                                                                                                                                                                                                                                                                                                                                                                                                                                                                                                                                                                                                                                                                                                                                                                                                                                                                                                                                                                                                                                                                                                                                                                                                                                                                                                                                                                                                                                                                                                                                                                                                                                                                                                                                                                                                                                                                                                                                                                                                                                                                                                                                                                                                                                                                                                                                                                                                                                                                                                                                                                                                                                                                                                                                                                                                                                                                                                        51\n",
       "{\"id\":\"20913628\",\"name\":\"Style\",\"available_options\":[\"cruise-control\",\"multi-wheel\",\"heated-wash-system\",\"airbag-passenger\",\"decorative-interior-lighting\",\"lock\",\"electro-mirrors\",\"mirrors-heat\",\"volume-sensor\",\"cooling-box\",\"glonass\",\"passenger-seat-updown\",\"computer\",\"seat-transformation\",\"fabric-seats\",\"airbag-side\",\"electronic-gage-panel\",\"abs\",\"wheel-leather\",\"climate-control-2\",\"esp\",\"usb\",\"audiopreparation\",\"ashtray-and-cigarette-lighter\",\"front-centre-armrest\",\"servo\",\"electro-window-back\",\"16-inch-wheels\",\"park-assist-r\",\"airbag-driver\",\"isofix\",\"aux\",\"electro-window-front\",\"light-sensor\",\"hcc\",\"airbag-curtain\",\"alarm\",\"leather-gear-stick\",\"ptf\",\"rain-sensor\",\"voice-recognition\",\"audiosystem-cd\",\"front-seats-heat\",\"bluetooth\",\"wheel-configuration2\",\"wheel-configuration1\",\"immo\",\"12v-socket\",\"third-rear-headrest\"],\"vendor_colors\":[{\"body_color_id\":21438108,\"mark_color_id\":21390875,\"name_ru\":\"Серый Platinum\",\"hex_codes\":[\"787672\"],\"color_type\":\"METALLIC\",\"stock_color\":{\"hex_code\":\"97948F\",\"name_ru\":\"серый\"},\"photos\":[{\"name\":\"34-front\",\"sizes\":{\"orig\":\"//avatars.mds.yandex.net/get-verba/1540742/2a0000016dcfe0e0ca95c1e01f535bff3a3c/orig\",\"wizardv3mr\":\"//avatars.mds.yandex.net/get-verba/1540742/2a0000016dcfe0e0ca95c1e01f535bff3a3c/wizardv3mr\",\"wizardv3\":\"//avatars.mds.yandex.net/get-verba/1540742/2a0000016dcfe0e0ca95c1e01f535bff3a3c/wizardv3\",\"cattouch\":\"//avatars.mds.yandex.net/get-verba/1540742/2a0000016dcfe0e0ca95c1e01f535bff3a3c/cattouch\",\"small\":\"//avatars.mds.yandex.net/get-verba/1540742/2a0000016dcfe0e0ca95c1e01f535bff3a3c/small\",\"320x240\":\"//avatars.mds.yandex.net/get-verba/1540742/2a0000016dcfe0e0ca95c1e01f535bff3a3c/320x240\",\"1200x900\":\"//avatars.mds.yandex.net/get-verba/1540742/2a0000016dcfe0e0ca95c1e01f535bff3a3c/1200x900\",\"1200x900n\":\"//avatars.mds.yandex.net/get-verba/1540742/2a0000016dcfe0e0ca95c1e01f535bff3a3c/1200x900n\",\"thumb_m\":\"//avatars.mds.yandex.net/get-verba/1540742/2a0000016dcfe0e0ca95c1e01f535bff3a3c/thumb_m\",\"full\":\"//avatars.mds.yandex.net/get-verba/1540742/2a0000016dcfe0e0ca95c1e01f535bff3a3c/full\",\"832x624\":\"//avatars.mds.yandex.net/get-verba/1540742/2a0000016dcfe0e0ca95c1e01f535bff3a3c/832x624\",\"456x342\":\"//avatars.mds.yandex.net/get-verba/1540742/2a0000016dcfe0e0ca95c1e01f535bff3a3c/456x342\",\"120x90\":\"//avatars.mds.yandex.net/get-verba/1540742/2a0000016dcfe0e0ca95c1e01f535bff3a3c/120x90\",\"92x69\":\"//avatars.mds.yandex.net/get-verba/1540742/2a0000016dcfe0e0ca95c1e01f535bff3a3c/92x69\",\"islandoff\":\"//avatars.mds.yandex.net/get-verba/1540742/2a0000016dcfe0e0ca95c1e01f535bff3a3c/islandoff\",\"thumb_s\":\"//avatars.mds.yandex.net/get-verba/1540742/2a0000016dcfe0e0ca95c1e01f535bff3a3c/thumb_s\",\"thumb_s_2x\":\"//avatars.mds.yandex.net/get-verba/1540742/2a0000016dcfe0e0ca95c1e01f535bff3a3c/thumb_s_2x\"}},{\"name\":\"34-back\",\"sizes\":{\"orig\":\"//avatars.mds.yandex.net/get-verba/937147/2a0000016dcfe0fc1be343934c10f4bd6712/orig\",\"wizardv3mr\":\"//avatars.mds.yandex.net/get-verba/937147/2a0000016dcfe0fc1be343934c10f4bd6712/wizardv3mr\",\"wizardv3\":\"//avatars.mds.yandex.net/get-verba/937147/2a0000016dcfe0fc1be343934c10f4bd6712/wizardv3\",\"cattouch\":\"//avatars.mds.yandex.net/get-verba/937147/2a0000016dcfe0fc1be343934c10f4bd6712/cattouch\",\"small\":\"//avatars.mds.yandex.net/get-verba/937147/2a0000016dcfe0fc1be343934c10f4bd6712/small\",\"320x240\":\"//avatars.mds.yandex.net/get-verba/937147/2a0000016dcfe0fc1be343934c10f4bd6712/320x240\",\"1200x900\":\"//avatars.mds.yandex.net/get-verba/937147/2a0000016dcfe0fc1be343934c10f4bd6712/1200x900\",\"1200x900n\":\"//avatars.mds.yandex.net/get-verba/937147/2a0000016dcfe0fc1be343934c10f4bd6712/1200x900n\",\"thumb_m\":\"//avatars.mds.yandex.net/get-verba/937147/2a0000016dcfe0fc1be343934c10f4bd6712/thumb_m\",\"full\":\"//avatars.mds.yandex.net/get-verba/937147/2a0000016dcfe0fc1be343934c10f4bd6712/full\",\"832x624\":\"//avatars.mds.yandex.net/get-verba/937147/2a0000016dcfe0fc1be343934c10f4bd6712/832x624\",\"456x342\":\"//avatars.mds.yandex.net/get-verba/937147/2a0000016dcfe0fc1be343934c10f4bd6712/456x342\",\"120x90\":\"//avatars.mds.yandex.net/get-verba/937147/2a0000016dcfe0fc1be343934c10f4bd6712/120x90\",\"92x69\":\"//avatars.mds.yandex.net/get-verba/937147/2a0000016dcfe0fc1be343934c10f4bd6712/92x69\",\"islandoff\":\"//avatars.mds.yandex.net/get-verba/937147/2a0000016dcfe0fc1be343934c10f4bd6712/islandoff\",\"thumb_s\":\"//avatars.mds.yandex.net/get-verba/937147/2a0000016dcfe0fc1be343934c10f4bd6712/thumb_s\",\"thumb_s_2x\":\"//avatars.mds.yandex.net/get-verba/937147/2a0000016dcfe0fc1be343934c10f4bd6712/thumb_s_2x\"}},{\"name\":\"side\",\"sizes\":{\"orig\":\"//avatars.mds.yandex.net/get-verba/997355/2a0000016dcfe11090fc6e82019c69278a4b/orig\",\"wizardv3mr\":\"//avatars.mds.yandex.net/get-verba/997355/2a0000016dcfe11090fc6e82019c69278a4b/wizardv3mr\",\"wizardv3\":\"//avatars.mds.yandex.net/get-verba/997355/2a0000016dcfe11090fc6e82019c69278a4b/wizardv3\",\"cattouch\":\"//avatars.mds.yandex.net/get-verba/997355/2a0000016dcfe11090fc6e82019c69278a4b/cattouch\",\"small\":\"//avatars.mds.yandex.net/get-verba/997355/2a0000016dcfe11090fc6e82019c69278a4b/small\",\"320x240\":\"//avatars.mds.yandex.net/get-verba/997355/2a0000016dcfe11090fc6e82019c69278a4b/320x240\",\"1200x900\":\"//avatars.mds.yandex.net/get-verba/997355/2a0000016dcfe11090fc6e82019c69278a4b/1200x900\",\"1200x900n\":\"//avatars.mds.yandex.net/get-verba/997355/2a0000016dcfe11090fc6e82019c69278a4b/1200x900n\",\"thumb_m\":\"//avatars.mds.yandex.net/get-verba/997355/2a0000016dcfe11090fc6e82019c69278a4b/thumb_m\",\"full\":\"//avatars.mds.yandex.net/get-verba/997355/2a0000016dcfe11090fc6e82019c69278a4b/full\",\"832x624\":\"//avatars.mds.yandex.net/get-verba/997355/2a0000016dcfe11090fc6e82019c69278a4b/832x624\",\"456x342\":\"//avatars.mds.yandex.net/get-verba/997355/2a0000016dcfe11090fc6e82019c69278a4b/456x342\",\"120x90\":\"//avatars.mds.yandex.net/get-verba/997355/2a0000016dcfe11090fc6e82019c69278a4b/120x90\",\"92x69\":\"//avatars.mds.yandex.net/get-verba/997355/2a0000016dcfe11090fc6e82019c69278a4b/92x69\",\"islandoff\":\"//avatars.mds.yandex.net/get-verba/997355/2a0000016dcfe11090fc6e82019c69278a4b/islandoff\",\"thumb_s\":\"//avatars.mds.yandex.net/get-verba/997355/2a0000016dcfe11090fc6e82019c69278a4b/thumb_s\",\"thumb_s_2x\":\"//avatars.mds.yandex.net/get-verba/997355/2a0000016dcfe11090fc6e82019c69278a4b/thumb_s_2x\"}},{\"name\":\"front\",\"sizes\":{\"orig\":\"//avatars.mds.yandex.net/get-verba/997355/2a0000016dcfe1479d0018532a6831caa889/orig\",\"wizardv3mr\":\"//avatars.mds.yandex.net/get-verba/997355/2a0000016dcfe1479d0018532a6831caa889/wizardv3mr\",\"wizardv3\":\"//avatars.mds.yandex.net/get-verba/997355/2a0000016dcfe1479d0018532a6831caa889/wizardv3\",\"cattouch\":\"//avatars.mds.yandex.net/get-verba/997355/2a0000016dcfe1479d0018532a6831caa889/cattouch\",\"small\":\"//avatars.mds.yandex.net/get-verba/997355/2a0000016dcfe1479d0018532a6831caa889/small\",\"320x240\":\"//avatars.mds.yandex.net/get-verba/997355/2a0000016dcfe1479d0018532a6831caa889/320x240\",\"1200x900\":\"//avatars.mds.yandex.net/get-verba/997355/2a0000016dcfe1479d0018532a6831caa889/1200x900\",\"1200x900n\":\"//avatars.mds.yandex.net/get-verba/997355/2a0000016dcfe1479d0018532a6831caa889/1200x900n\",\"thumb_m\":\"//avatars.mds.yandex.net/get-verba/997355/2a0000016dcfe1479d0018532a6831caa889/thumb_m\",\"full\":\"//avatars.mds.yandex.net/get-verba/997355/2a0000016dcfe1479d0018532a6831caa889/full\",\"832x624\":\"//avatars.mds.yandex.net/get-verba/997355/2a0000016dcfe1479d0018532a6831caa889/832x624\",\"456x342\":\"//avatars.mds.yandex.net/get-verba/997355/2a0000016dcfe1479d0018532a6831caa889/456x342\",\"120x90\":\"//avatars.mds.yandex.net/get-verba/997355/2a0000016dcfe1479d0018532a6831caa889/120x90\",\"92x69\":\"//avatars.mds.yandex.net/get-verba/997355/2a0000016dcfe1479d0018532a6831caa889/92x69\",\"islandoff\":\"//avatars.mds.yandex.net/get-verba/997355/2a0000016dcfe1479d0018532a6831caa889/islandoff\",\"thumb_s\":\"//avatars.mds.yandex.net/get-verba/997355/2a0000016dcfe1479d0018532a6831caa889/thumb_s\",\"thumb_s_2x\":\"//avatars.mds.yandex.net/get-verba/997355/2a0000016dcfe1479d0018532a6831caa889/thumb_s_2x\"}},{\"name\":\"back\",\"sizes\":{\"orig\":\"//avatars.mds.yandex.net/get-verba/997355/2a0000016dcfe170341bf5bda8080e27b18a/orig\",\"wizardv3mr\":\"//avatars.mds.yandex.net/get-verba/997355/2a0000016dcfe170341bf5bda8080e27b18a/wizardv3mr\",\"wizardv3\":\"//avatars.mds.yandex.net/get-verba/997355/2a0000016dcfe170341bf5bda8080e27b18a/wizardv3\",\"cattouch\":\"//avatars.mds.yandex.net/get-verba/997355/2a0000016dcfe170341bf5bda8080e27b18a/cattouch\",\"small\":\"//avatars.mds.yandex.net/get-verba/997355/2a0000016dcfe170341bf5bda8080e27b18a/small\",\"320x240\":\"//avatars.mds.yandex.net/get-verba/997355/2a0000016dcfe170341bf5bda8080e27b18a/320x240\",\"1200x900\":\"//avatars.mds.yandex.net/get-verba/997355/2a0000016dcfe170341bf5bda8080e27b18a/1200x900\",\"1200x900n\":\"//avatars.mds.yandex.net/get-verba/997355/2a0000016dcfe170341bf5bda8080e27b18a/1200x900n\",\"thumb_m\":\"//avatars.mds.yandex.net/get-verba/997355/2a0000016dcfe170341bf5bda8080e27b18a/thumb_m\",\"full\":\"//avatars.mds.yandex.net/get-verba/997355/2a0000016dcfe170341bf5bda8080e27b18a/full\",\"832x624\":\"//avatars.mds.yandex.net/get-verba/997355/2a0000016dcfe170341bf5bda8080e27b18a/832x624\",\"456x342\":\"//avatars.mds.yandex.net/get-verba/997355/2a0000016dcfe170341bf5bda8080e27b18a/456x342\",\"120x90\":\"//avatars.mds.yandex.net/get-verba/997355/2a0000016dcfe170341bf5bda8080e27b18a/120x90\",\"92x69\":\"//avatars.mds.yandex.net/get-verba/997355/2a0000016dcfe170341bf5bda8080e27b18a/92x69\",\"islandoff\":\"//avatars.mds.yandex.net/get-verba/997355/2a0000016dcfe170341bf5bda8080e27b18a/islandoff\",\"thumb_s\":\"//avatars.mds.yandex.net/get-verba/997355/2a0000016dcfe170341bf5bda8080e27b18a/thumb_s\",\"thumb_s_2x\":\"//avatars.mds.yandex.net/get-verba/997355/2a0000016dcfe170341bf5bda8080e27b18a/thumb_s_2x\"}}],\"main_color\":true}]}    26\n",
       "{\"id\":\"7768581\",\"name\":\"Ambition\",\"available_options\":[\"airbag-passenger\",\"lock\",\"electro-mirrors\",\"mirrors-heat\",\"computer\",\"seat-transformation\",\"wheel-power\",\"fabric-seats\",\"abs\",\"esp\",\"audiopreparation\",\"electro-window-back\",\"condition\",\"music-super\",\"airbag-driver\",\"isofix\",\"electro-window-front\",\"light-sensor\",\"hcc\",\"alarm\",\"rain-sensor\",\"audiosystem-cd\",\"front-seats-heat\",\"wheel-configuration2\",\"wheel-configuration1\",\"immo\"]}                                                                                                                                                                                                                                                                                                                                                                                                                                                                                                                                                                                                                                                                                                                                                                                                                                                                                                                                                                                                                                                                                                                                                                                                                                                                                                                                                                                                                                                                                                                                                                                                                                                                                                                                                                                                                                                                                                                                                                                                                                                                                                                                                                                                                                                                                                                                                                                                                                                                                                                                                                                                                                                                                                                                                                                                                                                                                                                                                                                                                                                                                                                                                                                                                                                                                                                                                                                                                                                                                                                                                                                                                                                                                                                                                                                                                                                                                                                                                                                                                                                                                                                                                                                                                                                                                                                                                                                                                                                                                                                                                                                                                                                                                                                                                                                                                                                                                                                                                                                                                                                                                                                                                                                                                                                                                                                                                                                                                                                                                                                                                                                                                                                                                                                                                                                                                                                                                                                                                                                                                                                                                                                                                                                                                                                                                                                                                                                                                                                                                                                                                                                                                                                                                                                                                                                                                                                                                                                                                                                                                                                                                                                                                                                                                                                                                                                                                                                                                                                                                                                                                                                                                                                                                                                                                                                                                                                                                                                                                                                                                                                                                                                                                                                                                                                                                                                                                                                                                                                                                                                                                                                                                                                                                                                                                                                                                                                                                                                                                                                                                                                                                                                                                                                                                                                                                                                                                                                                                                                                                                                                                                                                   25\n",
       "Name: complectation_dict, dtype: int64"
      ]
     },
     "execution_count": 83,
     "metadata": {},
     "output_type": "execute_result"
    }
   ],
   "source": [
    "test.complectation_dict.value_counts().head(3)"
   ]
  },
  {
   "cell_type": "code",
   "execution_count": null,
   "metadata": {},
   "outputs": [],
   "source": []
  },
  {
   "cell_type": "code",
   "execution_count": 84,
   "metadata": {},
   "outputs": [
    {
     "data": {
      "text/plain": [
       "{\"leather\":true}                                                                                                                                                                                                                                                                                                                                                                                                                                                                                                                                           108\n",
       "{\"gbo\":true}                                                                                                                                                                                                                                                                                                                                                                                                                                                                                                                                               106\n",
       "{\"fabric-seats\":true}                                                                                                                                                                                                                                                                                                                                                                                                                                                                                                                                       59\n",
       "{\"roof-rails\":true}                                                                                                                                                                                                                                                                                                                                                                                                                                                                                                                                         37\n",
       "{\"cruise-control\":true,\"esp\":true,\"airbag-driver\":true,\"electro-window-front\":true,\"xenon\":true,\"airbag-passenger\":true,\"computer\":true,\"seat-transformation\":true,\"wheel-power\":true,\"alarm\":true,\"passenger-seat-electric\":true,\"lock\":true,\"electro-mirrors\":true,\"electro-window-back\":true,\"paint-metallic\":true,\"ptf\":true,\"airbag-side\":true,\"mirrors-heat\":true,\"hatch\":true,\"leather\":true,\"abs\":true,\"front-seats-heat\":true,\"wheel-configuration2\":true,\"wheel-configuration1\":true,\"immo\":true,\"climate-control-1\":true,\"music-super\":true}     21\n",
       "{\"hatch\":true}                                                                                                                                                                                                                                                                                                                                                                                                                                                                                                                                              20\n",
       "{\"combo-interior\":true}                                                                                                                                                                                                                                                                                                                                                                                                                                                                                                                                     15\n",
       "{\"lock\":true}                                                                                                                                                                                                                                                                                                                                                                                                                                                                                                                                               15\n",
       "{\"roof-rails\":true,\"12v-socket\":true}                                                                                                                                                                                                                                                                                                                                                                                                                                                                                                                       13\n",
       "{\"cruise-control\":true,\"esp\":true,\"airbag-driver\":true,\"electro-window-front\":true,\"xenon\":true,\"airbag-passenger\":true,\"computer\":true,\"seat-transformation\":true,\"wheel-power\":true,\"alarm\":true,\"passenger-seat-electric\":true,\"lock\":true,\"electro-mirrors\":true,\"electro-window-back\":true,\"paint-metallic\":true,\"ptf\":true,\"airbag-side\":true,\"mirrors-heat\":true,\"leather\":true,\"abs\":true,\"front-seats-heat\":true,\"wheel-configuration2\":true,\"wheel-configuration1\":true,\"immo\":true,\"climate-control-1\":true,\"music-super\":true}                  10\n",
       "Name: equipment_dict, dtype: int64"
      ]
     },
     "execution_count": 84,
     "metadata": {},
     "output_type": "execute_result"
    }
   ],
   "source": [
    "test.equipment_dict.value_counts().head(10)"
   ]
  },
  {
   "cell_type": "code",
   "execution_count": 85,
   "metadata": {},
   "outputs": [
    {
     "data": {
      "text/plain": [
       "{}                                                                                                                                                                                                                                                                                                                                                                                                                                                                                                                                                                                                                                                                                                                                                                                                                                                                                                                                                                                                                                                                                                                                                                                                                                                                                                                                                                                                                                                                                                                                                                                                                                                                                                                                17647\n",
       "{'gbo': True}                                                                                                                                                                                                                                                                                                                                                                                                                                                                                                                                                                                                                                                                                                                                                                                                                                                                                                                                                                                                                                                                                                                                                                                                                                                                                                                                                                                                                                                                                                                                                                                                                                                                                                                       195\n",
       "{'leather': True}                                                                                                                                                                                                                                                                                                                                                                                                                                                                                                                                                                                                                                                                                                                                                                                                                                                                                                                                                                                                                                                                                                                                                                                                                                                                                                                                                                                                                                                                                                                                                                                                                                                                                                                   178\n",
       "{'fabric-seats': True}                                                                                                                                                                                                                                                                                                                                                                                                                                                                                                                                                                                                                                                                                                                                                                                                                                                                                                                                                                                                                                                                                                                                                                                                                                                                                                                                                                                                                                                                                                                                                                                                                                                                                                              160\n",
       "{'glonass': True, 'asr': True, 'esp': True, 'airbag-driver': True, 'isofix': True, 'usb': True, 'electro-window-front': True, 'spare-wheel': True, 'audiosystem-tv': True, 'heated-wash-system': True, 'airbag-passenger': True, 'computer': True, 'apple-carplay': True, 'seat-transformation': True, 'bas': True, 'android-auto': True, 'alarm': True, 'lock': True, 'servo': True, 'fabric-seats': True, 'electro-mirrors': True, 'drl': True, 'electro-window-back': True, 'steel-wheels': True, 'tyre-pressure': True, 'mirrors-heat': True, 'audiosystem-cd': True, 'driver-seat-updown': True, 'condition': True, 'abs': True, 'led-lights': True, 'bluetooth': True, 'front-seats-heat': True, 'wheel-configuration2': True, 'wheel-configuration1': True, 'immo': True, '12v-socket': True, 'third-rear-headrest': True, '15-inch-wheels': True}                                                                                                                                                                                                                                                                                                                                                                                                                                                                                                                                                                                                                                                                                                                                                                                                                                                                           148\n",
       "{'401': True, '443': True, '500': True, '810': True, '872': True, 'cruise-control': True, 'esp': True, 'adaptive-light': True, 'usb': True, 'multi-wheel': True, 'heated-wash-system': True, 'airbag-passenger': True, 'front-centre-armrest': True, 'navigation': True, 'apple-carplay': True, '21-inch-wheels': True, 'roof-rails': True, 'lock': True, 'air-suspension': True, 'door-sill-panel': True, 'electro-mirrors': True, 'activ-suspension': True, 'electro-window-back': True, 'multizone-climate-control': True, 'mirrors-heat': True, 'power-latching-doors': True, 'volume-sensor': True, 'park-assist-f': True, 'rear-seats-heat': True, 'leather': True, 'seat-memory': True, 'wheel-heat': True, 'led-lights': True, 'music-super': True, 'electro-rear-seat': True, 'park-assist-r': True, 'front-seats-heat-vent': True, 'start-stop-function': True, 'airbag-driver': True, 'isofix': True, 'aux': True, 'electro-window-front': True, 'light-sensor': True, 'hcc': True, 'airbag-curtain': True, 'computer': True, 'high-beam-assist': True, 'keyless-entry': True, 'seat-transformation': True, 'android-auto': True, 'wheel-power': True, 'passenger-seat-electric': True, 'alarm': True, 'paint-metallic': True, 'leather-gear-stick': True, 'blind-spot': True, 'traffic-sign-recognition': True, 'start-button': True, 'rain-sensor': True, 'airbag-side': True, 'tyre-pressure': True, 'panorama-roof': True, 'electro-trunk': True, 'abs': True, 'power-child-locks-rear-doors': True, 'bluetooth': True, 'wheel-leather': True, 'wheel-configuration2': True, 'wheel-configuration1': True, 'immo': True, 'windscreen-heat': True, 'auto-mirrors': True, '12v-socket': True, '360-camera': True}       98\n",
       "{'cruise-control': True, 'glonass': True, 'airbag-driver': True, 'usb': True, 'isofix': True, 'aux': True, 'electro-window-front': True, 'multi-wheel': True, 'audiopreparation': True, 'airbag-passenger': True, 'computer': True, 'roof-rails': True, 'seat-transformation': True, 'wheel-power': True, 'lock': True, 'door-sill-panel': True, 'fabric-seats': True, 'electro-mirrors': True, 'drl': True, 'steel-wheels': True, 'ptf': True, 'mirrors-heat': True, 'body-mouldings': True, 'driver-seat-updown': True, 'condition': True, 'abs': True, 'front-seats-heat': True, 'bluetooth': True, 'wheel-configuration1': True, 'immo': True, 'third-rear-headrest': True}                                                                                                                                                                                                                                                                                                                                                                                                                                                                                                                                                                                                                                                                                                                                                                                                                                                                                                                                                                                                                                                      97\n",
       "{'632': True, '873': True, 'cruise-control': True, 'asr': True, 'esp': True, 'eco-leather': True, 'usb': True, 'multi-wheel': True, 'auto-park': True, 'audiosystem-tv': True, 'heated-wash-system': True, 'airbag-passenger': True, 'front-centre-armrest': True, 'navigation': True, 'apple-carplay': True, 'front-seat-support': True, 'decorative-interior-lighting': True, 'bas': True, 'rear-camera': True, 'lock': True, 'servo': True, 'electro-mirrors': True, 'activ-suspension': True, 'drl': True, 'steering-wheel-gear-shift-paddles': True, 'electro-window-back': True, 'mirrors-heat': True, 'volume-sensor': True, 'combo-interior': True, 'cooling-box': True, '19-inch-wheels': True, 'led-lights': True, 'sport-pedals': True, '51U': True, 'knee-airbag': True, 'engine-proof': True, 'body-kit': True, 'glonass': True, 'airbag-driver': True, 'isofix': True, 'aux': True, 'drive-mode-sys': True, 'electro-window-front': True, 'light-sensor': True, 'hcc': True, 'airbag-curtain': True, 'passenger-seat-updown': True, 'collision-prevention-assist': True, 'computer': True, 'seat-transformation': True, 'android-auto': True, 'passenger-seat-electric': True, 'alarm': True, 'paint-metallic': True, 'rain-sensor': True, 'airbag-side': True, 'tyre-pressure': True, 'voice-recognition': True, 'audiosystem-cd': True, 'electronic-gage-panel': True, 'abs': True, 'front-seats-heat': True, 'power-child-locks-rear-doors': True, 'bluetooth': True, 'wheel-leather': True, 'wheel-configuration2': True, 'wheel-configuration1': True, 'immo': True, 'climate-control-2': True, 'auto-mirrors': True, '12v-socket': True, 'third-rear-headrest': True, 'black-roof': True}                        91\n",
       "{'cruise-control': True, 'glonass': True, 'asr': True, 'esp': True, 'airbag-driver': True, 'isofix': True, 'usb': True, 'electro-window-front': True, 'multi-wheel': True, 'spare-wheel': True, 'audiosystem-tv': True, 'heated-wash-system': True, 'airbag-passenger': True, 'front-centre-armrest': True, 'computer': True, 'apple-carplay': True, 'seat-transformation': True, 'bas': True, 'android-auto': True, 'alarm': True, 'lock': True, 'servo': True, 'fabric-seats': True, 'electro-mirrors': True, 'drl': True, 'electro-window-back': True, 'alloy-wheel-disks': True, 'leather-gear-stick': True, 'tyre-pressure': True, 'mirrors-heat': True, 'audiosystem-cd': True, 'driver-seat-updown': True, 'wheel-heat': True, 'abs': True, 'led-lights': True, 'bluetooth': True, 'front-seats-heat': True, 'wheel-leather': True, 'wheel-configuration2': True, 'wheel-configuration1': True, 'immo': True, 'climate-control-1': True, '12v-socket': True, 'third-rear-headrest': True, '15-inch-wheels': True}                                                                                                                                                                                                                                                                                                                                                                                                                                                                                                                                                                                                                                                                                                             87\n",
       "{'cruise-control': True, 'asr': True, 'esp': True, 'usb': True, 'multi-wheel': True, 'airbag-passenger': True, 'front-centre-armrest': True, 'roof-rails': True, 'bas': True, 'lock': True, 'door-sill-panel': True, 'electro-mirrors': True, 'steering-wheel-gear-shift-paddles': True, 'electro-window-back': True, 'reduce-spare-wheel': True, 'mirrors-heat': True, '17-inch-wheels': True, 'body-mouldings': True, 'led-lights': True, 'park-assist-r': True, 'glonass': True, 'start-stop-function': True, 'airbag-driver': True, 'isofix': True, 'aux': True, 'drive-mode-sys': True, 'electro-window-front': True, 'hcc': True, 'automatic-lighting-control': True, 'airbag-curtain': True, 'computer': True, 'seat-transformation': True, 'wheel-power': True, 'dha': True, 'fabric-seats': True, 'leather-gear-stick': True, 'start-button': True, 'airbag-side': True, 'tyre-pressure': True, 'audiosystem-cd': True, 'electro-trunk': True, 'abs': True, 'front-seats-heat': True, 'power-child-locks-rear-doors': True, 'bluetooth': True, 'wheel-leather': True, 'wheel-configuration2': True, 'wheel-configuration1': True, 'immo': True, 'climate-control-1': True, '12v-socket': True, 'third-rear-headrest': True}                                                                                                                                                                                                                                                                                                                                                                                                                                                                                                 87\n",
       "Name: equipment_dict, dtype: int64"
      ]
     },
     "execution_count": 85,
     "metadata": {},
     "output_type": "execute_result"
    }
   ],
   "source": [
    "train.equipment_dict.value_counts().head(10)"
   ]
  },
  {
   "cell_type": "code",
   "execution_count": 86,
   "metadata": {},
   "outputs": [
    {
     "data": {
      "text/plain": [
       "'1.8 AT (152 л.с.)'"
      ]
     },
     "execution_count": 86,
     "metadata": {},
     "output_type": "execute_result"
    }
   ],
   "source": [
    "test.name[4]"
   ]
  },
  {
   "cell_type": "code",
   "execution_count": 87,
   "metadata": {},
   "outputs": [
    {
     "data": {
      "text/plain": [
       "<AxesSubplot:>"
      ]
     },
     "execution_count": 87,
     "metadata": {},
     "output_type": "execute_result"
    },
    {
     "data": {
      "image/png": "[encoded data removed]",
      "text/plain": [
       "<Figure size 432x288 with 1 Axes>"
      ]
     },
     "metadata": {
      "needs_background": "light"
     },
     "output_type": "display_data"
    }
   ],
   "source": [
    "train['enginePower'].hist(bins=77)"
   ]
  },
  {
   "cell_type": "code",
   "execution_count": 88,
   "metadata": {},
   "outputs": [
    {
     "data": {
      "text/plain": [
       "count    77150.000000\n",
       "mean       176.484614\n",
       "std         89.704091\n",
       "min         11.000000\n",
       "25%        115.000000\n",
       "50%        150.000000\n",
       "75%        205.000000\n",
       "max        800.000000\n",
       "Name: enginePower, dtype: float64"
      ]
     },
     "execution_count": 88,
     "metadata": {},
     "output_type": "execute_result"
    }
   ],
   "source": [
    "train.enginePower.describe()"
   ]
  },
  {
   "cell_type": "code",
   "execution_count": 89,
   "metadata": {},
   "outputs": [
    {
     "data": {
      "text/html": [
       "<div>\n",
       "<style scoped>\n",
       "    .dataframe tbody tr th:only-of-type {\n",
       "        vertical-align: middle;\n",
       "    }\n",
       "\n",
       "    .dataframe tbody tr th {\n",
       "        vertical-align: top;\n",
       "    }\n",
       "\n",
       "    .dataframe thead th {\n",
       "        text-align: right;\n",
       "    }\n",
       "</style>\n",
       "<table border=\"1\" class=\"dataframe\">\n",
       "  <thead>\n",
       "    <tr style=\"text-align: right;\">\n",
       "      <th></th>\n",
       "      <th>bodyType</th>\n",
       "      <th>brand</th>\n",
       "      <th>color</th>\n",
       "      <th>complectation_dict</th>\n",
       "      <th>description</th>\n",
       "      <th>engineDisplacement</th>\n",
       "      <th>enginePower</th>\n",
       "      <th>equipment_dict</th>\n",
       "      <th>fuelType</th>\n",
       "      <th>image</th>\n",
       "      <th>...</th>\n",
       "      <th>Владение</th>\n",
       "      <th>ПТС</th>\n",
       "      <th>Привод</th>\n",
       "      <th>Руль</th>\n",
       "      <th>price</th>\n",
       "      <th>mileageNAN</th>\n",
       "      <th>bodyType2</th>\n",
       "      <th>log_price</th>\n",
       "      <th>bT_length</th>\n",
       "      <th>brand_length</th>\n",
       "    </tr>\n",
       "  </thead>\n",
       "  <tbody>\n",
       "    <tr>\n",
       "      <th>18895</th>\n",
       "      <td>Кабриолет</td>\n",
       "      <td>other</td>\n",
       "      <td>007F00</td>\n",
       "      <td>{'id': '0'}</td>\n",
       "      <td>1 октября 1908 Форд воплотил в жизнь свою мечт...</td>\n",
       "      <td>2.9</td>\n",
       "      <td>20.0</td>\n",
       "      <td>{}</td>\n",
       "      <td>бензин</td>\n",
       "      <td>11</td>\n",
       "      <td>...</td>\n",
       "      <td>NaN</td>\n",
       "      <td>ORIGINAL</td>\n",
       "      <td>задний</td>\n",
       "      <td>LEFT</td>\n",
       "      <td>3800000.0</td>\n",
       "      <td>0</td>\n",
       "      <td>другой</td>\n",
       "      <td>15.150512</td>\n",
       "      <td>9</td>\n",
       "      <td>5</td>\n",
       "    </tr>\n",
       "    <tr>\n",
       "      <th>50072</th>\n",
       "      <td>Купе</td>\n",
       "      <td>other</td>\n",
       "      <td>040001</td>\n",
       "      <td>{'id': '20841229', 'name': 'CARGO', 'available...</td>\n",
       "      <td>Идеальное состояние, использовался очень береж...</td>\n",
       "      <td>Electro</td>\n",
       "      <td>11.0</td>\n",
       "      <td>{'computer': True, 'steel-wheels': True, 'blue...</td>\n",
       "      <td>электро</td>\n",
       "      <td>9</td>\n",
       "      <td>...</td>\n",
       "      <td>{'year': 2018, 'month': 10}</td>\n",
       "      <td>ORIGINAL</td>\n",
       "      <td>задний</td>\n",
       "      <td>LEFT</td>\n",
       "      <td>549000.0</td>\n",
       "      <td>0</td>\n",
       "      <td>Купе</td>\n",
       "      <td>13.215854</td>\n",
       "      <td>4</td>\n",
       "      <td>5</td>\n",
       "    </tr>\n",
       "  </tbody>\n",
       "</table>\n",
       "<p>2 rows × 34 columns</p>\n",
       "</div>"
      ],
      "text/plain": [
       "        bodyType  brand   color  \\\n",
       "18895  Кабриолет  other  007F00   \n",
       "50072       Купе  other  040001   \n",
       "\n",
       "                                      complectation_dict  \\\n",
       "18895                                        {'id': '0'}   \n",
       "50072  {'id': '20841229', 'name': 'CARGO', 'available...   \n",
       "\n",
       "                                             description engineDisplacement  \\\n",
       "18895  1 октября 1908 Форд воплотил в жизнь свою мечт...                2.9   \n",
       "50072  Идеальное состояние, использовался очень береж...            Electro   \n",
       "\n",
       "       enginePower                                     equipment_dict  \\\n",
       "18895         20.0                                                 {}   \n",
       "50072         11.0  {'computer': True, 'steel-wheels': True, 'blue...   \n",
       "\n",
       "      fuelType  image  ...                     Владение       ПТС  Привод  \\\n",
       "18895   бензин     11  ...                          NaN  ORIGINAL  задний   \n",
       "50072  электро      9  ...  {'year': 2018, 'month': 10}  ORIGINAL  задний   \n",
       "\n",
       "       Руль      price  mileageNAN bodyType2  log_price  bT_length  \\\n",
       "18895  LEFT  3800000.0           0    другой  15.150512          9   \n",
       "50072  LEFT   549000.0           0      Купе  13.215854          4   \n",
       "\n",
       "      brand_length  \n",
       "18895            5  \n",
       "50072            5  \n",
       "\n",
       "[2 rows x 34 columns]"
      ]
     },
     "execution_count": 89,
     "metadata": {},
     "output_type": "execute_result"
    }
   ],
   "source": [
    "train[train.enginePower < 30]"
   ]
  },
  {
   "cell_type": "code",
   "execution_count": 90,
   "metadata": {},
   "outputs": [
    {
     "data": {
      "text/html": [
       "<div>\n",
       "<style scoped>\n",
       "    .dataframe tbody tr th:only-of-type {\n",
       "        vertical-align: middle;\n",
       "    }\n",
       "\n",
       "    .dataframe tbody tr th {\n",
       "        vertical-align: top;\n",
       "    }\n",
       "\n",
       "    .dataframe thead th {\n",
       "        text-align: right;\n",
       "    }\n",
       "</style>\n",
       "<table border=\"1\" class=\"dataframe\">\n",
       "  <thead>\n",
       "    <tr style=\"text-align: right;\">\n",
       "      <th></th>\n",
       "      <th>bodyType</th>\n",
       "      <th>brand</th>\n",
       "      <th>color</th>\n",
       "      <th>complectation_dict</th>\n",
       "      <th>description</th>\n",
       "      <th>engineDisplacement</th>\n",
       "      <th>enginePower</th>\n",
       "      <th>equipment_dict</th>\n",
       "      <th>fuelType</th>\n",
       "      <th>image</th>\n",
       "      <th>...</th>\n",
       "      <th>Владение</th>\n",
       "      <th>ПТС</th>\n",
       "      <th>Привод</th>\n",
       "      <th>Руль</th>\n",
       "      <th>price</th>\n",
       "      <th>mileageNAN</th>\n",
       "      <th>bodyType2</th>\n",
       "      <th>log_price</th>\n",
       "      <th>bT_length</th>\n",
       "      <th>brand_length</th>\n",
       "    </tr>\n",
       "  </thead>\n",
       "  <tbody>\n",
       "    <tr>\n",
       "      <th>3547</th>\n",
       "      <td>Универсал 5 дв.</td>\n",
       "      <td>AUDI</td>\n",
       "      <td>200204</td>\n",
       "      <td>{'id': '0'}</td>\n",
       "      <td>• 1 владелец\\n• На гарантии до 17.02.2023\\n• К...</td>\n",
       "      <td>4.0</td>\n",
       "      <td>605.0</td>\n",
       "      <td>{'asr': True, 'tinted-glass': True, 'adaptive-...</td>\n",
       "      <td>бензин</td>\n",
       "      <td>32</td>\n",
       "      <td>...</td>\n",
       "      <td>NaN</td>\n",
       "      <td>ORIGINAL</td>\n",
       "      <td>полный</td>\n",
       "      <td>LEFT</td>\n",
       "      <td>5149000.0</td>\n",
       "      <td>0</td>\n",
       "      <td>Универсал 5 дв.</td>\n",
       "      <td>15.454313</td>\n",
       "      <td>15</td>\n",
       "      <td>4</td>\n",
       "    </tr>\n",
       "    <tr>\n",
       "      <th>3551</th>\n",
       "      <td>Универсал 5 дв.</td>\n",
       "      <td>AUDI</td>\n",
       "      <td>0000CC</td>\n",
       "      <td>{'id': '0'}</td>\n",
       "      <td>• Автомобиль проверен по 110 пунктам\\n• Автокр...</td>\n",
       "      <td>4.0</td>\n",
       "      <td>605.0</td>\n",
       "      <td>{'cruise-control': True, 'asr': True, 'start-s...</td>\n",
       "      <td>бензин</td>\n",
       "      <td>30</td>\n",
       "      <td>...</td>\n",
       "      <td>NaN</td>\n",
       "      <td>ORIGINAL</td>\n",
       "      <td>полный</td>\n",
       "      <td>LEFT</td>\n",
       "      <td>4599000.0</td>\n",
       "      <td>0</td>\n",
       "      <td>Универсал 5 дв.</td>\n",
       "      <td>15.341350</td>\n",
       "      <td>15</td>\n",
       "      <td>4</td>\n",
       "    </tr>\n",
       "    <tr>\n",
       "      <th>3554</th>\n",
       "      <td>Лифтбек Sportback</td>\n",
       "      <td>AUDI</td>\n",
       "      <td>CACECB</td>\n",
       "      <td>{'id': '20752831', 'name': 'Performance', 'ava...</td>\n",
       "      <td>Машина в прекрасном состоянии. \\nПо кузову нет...</td>\n",
       "      <td>4.0</td>\n",
       "      <td>605.0</td>\n",
       "      <td>{'cruise-control': True, 'tinted-glass': True,...</td>\n",
       "      <td>бензин</td>\n",
       "      <td>30</td>\n",
       "      <td>...</td>\n",
       "      <td>NaN</td>\n",
       "      <td>ORIGINAL</td>\n",
       "      <td>полный</td>\n",
       "      <td>LEFT</td>\n",
       "      <td>5555555.0</td>\n",
       "      <td>0</td>\n",
       "      <td>другой</td>\n",
       "      <td>15.530309</td>\n",
       "      <td>17</td>\n",
       "      <td>4</td>\n",
       "    </tr>\n",
       "    <tr>\n",
       "      <th>3595</th>\n",
       "      <td>Седан</td>\n",
       "      <td>AUDI</td>\n",
       "      <td>040001</td>\n",
       "      <td>{'id': '20755659', 'name': 'Plus', 'available_...</td>\n",
       "      <td>Куплена весной 2018 года\\nЯ 3й владелец\\n\\nНи ...</td>\n",
       "      <td>4.0</td>\n",
       "      <td>605.0</td>\n",
       "      <td>{'roller-blind-for-rear-window': True, 'esp': ...</td>\n",
       "      <td>бензин</td>\n",
       "      <td>23</td>\n",
       "      <td>...</td>\n",
       "      <td>NaN</td>\n",
       "      <td>DUPLICATE</td>\n",
       "      <td>полный</td>\n",
       "      <td>LEFT</td>\n",
       "      <td>5500000.0</td>\n",
       "      <td>0</td>\n",
       "      <td>Седан</td>\n",
       "      <td>15.520259</td>\n",
       "      <td>5</td>\n",
       "      <td>4</td>\n",
       "    </tr>\n",
       "    <tr>\n",
       "      <th>3600</th>\n",
       "      <td>Седан</td>\n",
       "      <td>AUDI</td>\n",
       "      <td>040001</td>\n",
       "      <td>{'id': '20755659', 'name': 'Plus', 'available_...</td>\n",
       "      <td>Внимание! Только для клиентов AVILON Автомобил...</td>\n",
       "      <td>4.0</td>\n",
       "      <td>605.0</td>\n",
       "      <td>{'roller-blind-for-rear-window': True, 'tinted...</td>\n",
       "      <td>бензин</td>\n",
       "      <td>22</td>\n",
       "      <td>...</td>\n",
       "      <td>NaN</td>\n",
       "      <td>ORIGINAL</td>\n",
       "      <td>полный</td>\n",
       "      <td>LEFT</td>\n",
       "      <td>5385000.0</td>\n",
       "      <td>0</td>\n",
       "      <td>Седан</td>\n",
       "      <td>15.499128</td>\n",
       "      <td>5</td>\n",
       "      <td>4</td>\n",
       "    </tr>\n",
       "    <tr>\n",
       "      <th>...</th>\n",
       "      <td>...</td>\n",
       "      <td>...</td>\n",
       "      <td>...</td>\n",
       "      <td>...</td>\n",
       "      <td>...</td>\n",
       "      <td>...</td>\n",
       "      <td>...</td>\n",
       "      <td>...</td>\n",
       "      <td>...</td>\n",
       "      <td>...</td>\n",
       "      <td>...</td>\n",
       "      <td>...</td>\n",
       "      <td>...</td>\n",
       "      <td>...</td>\n",
       "      <td>...</td>\n",
       "      <td>...</td>\n",
       "      <td>...</td>\n",
       "      <td>...</td>\n",
       "      <td>...</td>\n",
       "      <td>...</td>\n",
       "      <td>...</td>\n",
       "    </tr>\n",
       "    <tr>\n",
       "      <th>76310</th>\n",
       "      <td>Седан</td>\n",
       "      <td>MERCEDES</td>\n",
       "      <td>040001</td>\n",
       "      <td>{'id': '0'}</td>\n",
       "      <td>Комплект зимних шин в подарок. Непрокуренный с...</td>\n",
       "      <td>4.0</td>\n",
       "      <td>612.0</td>\n",
       "      <td>{'cruise-control': True, 'asr': True, 'tinted-...</td>\n",
       "      <td>бензин</td>\n",
       "      <td>23</td>\n",
       "      <td>...</td>\n",
       "      <td>{'year': 2019, 'month': 3}</td>\n",
       "      <td>ORIGINAL</td>\n",
       "      <td>полный</td>\n",
       "      <td>LEFT</td>\n",
       "      <td>8100000.0</td>\n",
       "      <td>0</td>\n",
       "      <td>Седан</td>\n",
       "      <td>15.907374</td>\n",
       "      <td>5</td>\n",
       "      <td>8</td>\n",
       "    </tr>\n",
       "    <tr>\n",
       "      <th>76312</th>\n",
       "      <td>Купе</td>\n",
       "      <td>MERCEDES</td>\n",
       "      <td>040001</td>\n",
       "      <td>{'id': '0'}</td>\n",
       "      <td>Автомобиль был куплен в сентябре 2020 у дилера...</td>\n",
       "      <td>4.0</td>\n",
       "      <td>612.0</td>\n",
       "      <td>{'tinted-glass': True, 'esp': True, 'usb': Tru...</td>\n",
       "      <td>бензин</td>\n",
       "      <td>13</td>\n",
       "      <td>...</td>\n",
       "      <td>{'year': 2020, 'month': 3}</td>\n",
       "      <td>ORIGINAL</td>\n",
       "      <td>полный</td>\n",
       "      <td>LEFT</td>\n",
       "      <td>13000000.0</td>\n",
       "      <td>0</td>\n",
       "      <td>Купе</td>\n",
       "      <td>16.380461</td>\n",
       "      <td>4</td>\n",
       "      <td>8</td>\n",
       "    </tr>\n",
       "    <tr>\n",
       "      <th>76318</th>\n",
       "      <td>Купе</td>\n",
       "      <td>MERCEDES</td>\n",
       "      <td>040001</td>\n",
       "      <td>{'id': '0'}</td>\n",
       "      <td>Добрый день. \\n\\nАвтомобиль третий в семье, ис...</td>\n",
       "      <td>4.0</td>\n",
       "      <td>612.0</td>\n",
       "      <td>{}</td>\n",
       "      <td>бензин</td>\n",
       "      <td>16</td>\n",
       "      <td>...</td>\n",
       "      <td>NaN</td>\n",
       "      <td>ORIGINAL</td>\n",
       "      <td>полный</td>\n",
       "      <td>LEFT</td>\n",
       "      <td>9150000.0</td>\n",
       "      <td>0</td>\n",
       "      <td>Купе</td>\n",
       "      <td>16.029264</td>\n",
       "      <td>4</td>\n",
       "      <td>8</td>\n",
       "    </tr>\n",
       "    <tr>\n",
       "      <th>76415</th>\n",
       "      <td>Купе</td>\n",
       "      <td>MERCEDES</td>\n",
       "      <td>040001</td>\n",
       "      <td>{'id': '0'}</td>\n",
       "      <td>Продам  Slr  в идеальном состоянии .\\nМашина и...</td>\n",
       "      <td>5.4</td>\n",
       "      <td>626.0</td>\n",
       "      <td>{}</td>\n",
       "      <td>бензин</td>\n",
       "      <td>13</td>\n",
       "      <td>...</td>\n",
       "      <td>NaN</td>\n",
       "      <td>ORIGINAL</td>\n",
       "      <td>задний</td>\n",
       "      <td>LEFT</td>\n",
       "      <td>72000000.0</td>\n",
       "      <td>0</td>\n",
       "      <td>Купе</td>\n",
       "      <td>18.092176</td>\n",
       "      <td>4</td>\n",
       "      <td>8</td>\n",
       "    </tr>\n",
       "    <tr>\n",
       "      <th>76416</th>\n",
       "      <td>Купе</td>\n",
       "      <td>MERCEDES</td>\n",
       "      <td>97948F</td>\n",
       "      <td>{'id': '2534065', 'name': 'SLR McLaren', 'avai...</td>\n",
       "      <td>ВСЕ ШТРАФЫ ПО АВТОМОБИЛЮ ОПЛАЧЕНЫ, ОГРАНИЧЕНИЯ...</td>\n",
       "      <td>5.4</td>\n",
       "      <td>626.0</td>\n",
       "      <td>{'cruise-control': True, 'asr': True, 'esp': T...</td>\n",
       "      <td>бензин</td>\n",
       "      <td>17</td>\n",
       "      <td>...</td>\n",
       "      <td>NaN</td>\n",
       "      <td>DUPLICATE</td>\n",
       "      <td>задний</td>\n",
       "      <td>LEFT</td>\n",
       "      <td>23900000.0</td>\n",
       "      <td>0</td>\n",
       "      <td>Купе</td>\n",
       "      <td>16.989389</td>\n",
       "      <td>4</td>\n",
       "      <td>8</td>\n",
       "    </tr>\n",
       "  </tbody>\n",
       "</table>\n",
       "<p>243 rows × 34 columns</p>\n",
       "</div>"
      ],
      "text/plain": [
       "                bodyType     brand   color  \\\n",
       "3547     Универсал 5 дв.      AUDI  200204   \n",
       "3551     Универсал 5 дв.      AUDI  0000CC   \n",
       "3554   Лифтбек Sportback      AUDI  CACECB   \n",
       "3595               Седан      AUDI  040001   \n",
       "3600               Седан      AUDI  040001   \n",
       "...                  ...       ...     ...   \n",
       "76310              Седан  MERCEDES  040001   \n",
       "76312               Купе  MERCEDES  040001   \n",
       "76318               Купе  MERCEDES  040001   \n",
       "76415               Купе  MERCEDES  040001   \n",
       "76416               Купе  MERCEDES  97948F   \n",
       "\n",
       "                                      complectation_dict  \\\n",
       "3547                                         {'id': '0'}   \n",
       "3551                                         {'id': '0'}   \n",
       "3554   {'id': '20752831', 'name': 'Performance', 'ava...   \n",
       "3595   {'id': '20755659', 'name': 'Plus', 'available_...   \n",
       "3600   {'id': '20755659', 'name': 'Plus', 'available_...   \n",
       "...                                                  ...   \n",
       "76310                                        {'id': '0'}   \n",
       "76312                                        {'id': '0'}   \n",
       "76318                                        {'id': '0'}   \n",
       "76415                                        {'id': '0'}   \n",
       "76416  {'id': '2534065', 'name': 'SLR McLaren', 'avai...   \n",
       "\n",
       "                                             description engineDisplacement  \\\n",
       "3547   • 1 владелец\\n• На гарантии до 17.02.2023\\n• К...                4.0   \n",
       "3551   • Автомобиль проверен по 110 пунктам\\n• Автокр...                4.0   \n",
       "3554   Машина в прекрасном состоянии. \\nПо кузову нет...                4.0   \n",
       "3595   Куплена весной 2018 года\\nЯ 3й владелец\\n\\nНи ...                4.0   \n",
       "3600   Внимание! Только для клиентов AVILON Автомобил...                4.0   \n",
       "...                                                  ...                ...   \n",
       "76310  Комплект зимних шин в подарок. Непрокуренный с...                4.0   \n",
       "76312  Автомобиль был куплен в сентябре 2020 у дилера...                4.0   \n",
       "76318  Добрый день. \\n\\nАвтомобиль третий в семье, ис...                4.0   \n",
       "76415  Продам  Slr  в идеальном состоянии .\\nМашина и...                5.4   \n",
       "76416  ВСЕ ШТРАФЫ ПО АВТОМОБИЛЮ ОПЛАЧЕНЫ, ОГРАНИЧЕНИЯ...                5.4   \n",
       "\n",
       "       enginePower                                     equipment_dict  \\\n",
       "3547         605.0  {'asr': True, 'tinted-glass': True, 'adaptive-...   \n",
       "3551         605.0  {'cruise-control': True, 'asr': True, 'start-s...   \n",
       "3554         605.0  {'cruise-control': True, 'tinted-glass': True,...   \n",
       "3595         605.0  {'roller-blind-for-rear-window': True, 'esp': ...   \n",
       "3600         605.0  {'roller-blind-for-rear-window': True, 'tinted...   \n",
       "...            ...                                                ...   \n",
       "76310        612.0  {'cruise-control': True, 'asr': True, 'tinted-...   \n",
       "76312        612.0  {'tinted-glass': True, 'esp': True, 'usb': Tru...   \n",
       "76318        612.0                                                 {}   \n",
       "76415        626.0                                                 {}   \n",
       "76416        626.0  {'cruise-control': True, 'asr': True, 'esp': T...   \n",
       "\n",
       "      fuelType  image  ...                    Владение        ПТС  Привод  \\\n",
       "3547    бензин     32  ...                         NaN   ORIGINAL  полный   \n",
       "3551    бензин     30  ...                         NaN   ORIGINAL  полный   \n",
       "3554    бензин     30  ...                         NaN   ORIGINAL  полный   \n",
       "3595    бензин     23  ...                         NaN  DUPLICATE  полный   \n",
       "3600    бензин     22  ...                         NaN   ORIGINAL  полный   \n",
       "...        ...    ...  ...                         ...        ...     ...   \n",
       "76310   бензин     23  ...  {'year': 2019, 'month': 3}   ORIGINAL  полный   \n",
       "76312   бензин     13  ...  {'year': 2020, 'month': 3}   ORIGINAL  полный   \n",
       "76318   бензин     16  ...                         NaN   ORIGINAL  полный   \n",
       "76415   бензин     13  ...                         NaN   ORIGINAL  задний   \n",
       "76416   бензин     17  ...                         NaN  DUPLICATE  задний   \n",
       "\n",
       "       Руль       price  mileageNAN        bodyType2  log_price  bT_length  \\\n",
       "3547   LEFT   5149000.0           0  Универсал 5 дв.  15.454313         15   \n",
       "3551   LEFT   4599000.0           0  Универсал 5 дв.  15.341350         15   \n",
       "3554   LEFT   5555555.0           0           другой  15.530309         17   \n",
       "3595   LEFT   5500000.0           0            Седан  15.520259          5   \n",
       "3600   LEFT   5385000.0           0            Седан  15.499128          5   \n",
       "...     ...         ...         ...              ...        ...        ...   \n",
       "76310  LEFT   8100000.0           0            Седан  15.907374          5   \n",
       "76312  LEFT  13000000.0           0             Купе  16.380461          4   \n",
       "76318  LEFT   9150000.0           0             Купе  16.029264          4   \n",
       "76415  LEFT  72000000.0           0             Купе  18.092176          4   \n",
       "76416  LEFT  23900000.0           0             Купе  16.989389          4   \n",
       "\n",
       "      brand_length  \n",
       "3547             4  \n",
       "3551             4  \n",
       "3554             4  \n",
       "3595             4  \n",
       "3600             4  \n",
       "...            ...  \n",
       "76310            8  \n",
       "76312            8  \n",
       "76318            8  \n",
       "76415            8  \n",
       "76416            8  \n",
       "\n",
       "[243 rows x 34 columns]"
      ]
     },
     "execution_count": 90,
     "metadata": {},
     "output_type": "execute_result"
    }
   ],
   "source": [
    "train[train.enginePower > 600]"
   ]
  },
  {
   "cell_type": "code",
   "execution_count": 91,
   "metadata": {},
   "outputs": [],
   "source": [
    "train['log_power'] = np.log(train.enginePower)"
   ]
  },
  {
   "cell_type": "code",
   "execution_count": 92,
   "metadata": {},
   "outputs": [
    {
     "data": {
      "text/plain": [
       "<AxesSubplot:>"
      ]
     },
     "execution_count": 92,
     "metadata": {},
     "output_type": "execute_result"
    },
    {
     "data": {
      "image/png": "[encoded data removed]",
      "text/plain": [
       "<Figure size 432x288 with 1 Axes>"
      ]
     },
     "metadata": {
      "needs_background": "light"
     },
     "output_type": "display_data"
    }
   ],
   "source": [
    "train['log_power'].hist(bins=77)"
   ]
  },
  {
   "cell_type": "code",
   "execution_count": 93,
   "metadata": {},
   "outputs": [],
   "source": [
    "test['enginePower'] = test['enginePower'].str.split(' ').str[0]"
   ]
  },
  {
   "cell_type": "code",
   "execution_count": 94,
   "metadata": {},
   "outputs": [
    {
     "data": {
      "text/plain": [
       "count     34686\n",
       "unique      315\n",
       "top         249\n",
       "freq       1708\n",
       "Name: enginePower, dtype: object"
      ]
     },
     "execution_count": 94,
     "metadata": {},
     "output_type": "execute_result"
    }
   ],
   "source": [
    "test.enginePower.describe()"
   ]
  },
  {
   "cell_type": "code",
   "execution_count": 95,
   "metadata": {},
   "outputs": [],
   "source": [
    "test['enginePower'] = test['enginePower'].astype(float)"
   ]
  },
  {
   "cell_type": "code",
   "execution_count": 96,
   "metadata": {},
   "outputs": [
    {
     "data": {
      "text/plain": [
       "count    34686.000000\n",
       "mean       188.194142\n",
       "std         89.087035\n",
       "min         30.000000\n",
       "25%        125.000000\n",
       "50%        169.000000\n",
       "75%        233.000000\n",
       "max        639.000000\n",
       "Name: enginePower, dtype: float64"
      ]
     },
     "execution_count": 96,
     "metadata": {},
     "output_type": "execute_result"
    }
   ],
   "source": [
    "test.enginePower.describe()"
   ]
  },
  {
   "cell_type": "code",
   "execution_count": 97,
   "metadata": {},
   "outputs": [],
   "source": [
    "test['log_power'] = np.log(test.enginePower)\n"
   ]
  },
  {
   "cell_type": "code",
   "execution_count": 98,
   "metadata": {},
   "outputs": [],
   "source": [
    "bins = [10, 35, 100, 125, 150, 175, 200, 225, 250, 801]\n",
    "numbers = ['5000','12','25','35', '45', '50', '65', '75', '150']"
   ]
  },
  {
   "cell_type": "code",
   "execution_count": 99,
   "metadata": {},
   "outputs": [],
   "source": [
    "train['Nalog_base']=pd.cut(train['enginePower'],bins,labels=numbers)\n",
    "test['Nalog_base']=pd.cut(test['enginePower'],bins,labels=numbers)\n",
    "train['Nalog_base'] = train['Nalog_base'].values.astype('int64')\n",
    "test['Nalog_base'] = test['Nalog_base'].values.astype('int64')"
   ]
  },
  {
   "cell_type": "code",
   "execution_count": 100,
   "metadata": {},
   "outputs": [],
   "source": [
    "train['Nalog'] = train['enginePower'] * train['Nalog_base']\n",
    "test['Nalog'] = test['enginePower'] * test['Nalog_base']"
   ]
  },
  {
   "cell_type": "code",
   "execution_count": 101,
   "metadata": {},
   "outputs": [
    {
     "data": {
      "image/png": "[encoded data removed]",
      "text/plain": [
       "<Figure size 576x360 with 1 Axes>"
      ]
     },
     "metadata": {
      "needs_background": "light"
     },
     "output_type": "display_data"
    }
   ],
   "source": [
    "plt.figure(figsize=(8, 5))\n",
    "g1 = sns.boxplot(y='log_price', x='Nalog_base', \n",
    "                  data=train, color='darkgreen')\n",
    "g1.set_title(\"price of Nalog\", fontsize=20)\n",
    "\n",
    "g1.set_ylabel(\"log_price\", fontsize=15)\n",
    "g1.set_xticklabels(g1.get_xticklabels(),rotation=45)\n",
    "plt.show()"
   ]
  },
  {
   "cell_type": "code",
   "execution_count": 102,
   "metadata": {},
   "outputs": [
    {
     "data": {
      "text/plain": [
       "<AxesSubplot:xlabel='Nalog'>"
      ]
     },
     "execution_count": 102,
     "metadata": {},
     "output_type": "execute_result"
    },
    {
     "data": {
      "image/png": "[encoded data removed]",
      "text/plain": [
       "<Figure size 432x288 with 1 Axes>"
      ]
     },
     "metadata": {
      "needs_background": "light"
     },
     "output_type": "display_data"
    }
   ],
   "source": [
    "train.groupby('Nalog').price.mean().plot()\n"
   ]
  },
  {
   "cell_type": "code",
   "execution_count": 103,
   "metadata": {},
   "outputs": [
    {
     "data": {
      "text/plain": [
       "1.6     15810\n",
       "2.0     15154\n",
       "1.4      4840\n",
       "1.8      4646\n",
       "2.0d     4318\n",
       "        ...  \n",
       "8.1         1\n",
       "7.0         1\n",
       "3.5d        1\n",
       "8.4         1\n",
       "7.3d        1\n",
       "Name: engineDisplacement, Length: 101, dtype: int64"
      ]
     },
     "execution_count": 103,
     "metadata": {},
     "output_type": "execute_result"
    }
   ],
   "source": [
    "train.engineDisplacement.value_counts()"
   ]
  },
  {
   "cell_type": "code",
   "execution_count": 104,
   "metadata": {},
   "outputs": [],
   "source": [
    "train['engineDisplacement'] = train['engineDisplacement'].apply(lambda x: x[:3])\n",
    "test['engineDisplacement'] = test['engineDisplacement'].apply(lambda x: x[:3])"
   ]
  },
  {
   "cell_type": "code",
   "execution_count": 105,
   "metadata": {},
   "outputs": [
    {
     "data": {
      "text/html": [
       "<div>\n",
       "<style scoped>\n",
       "    .dataframe tbody tr th:only-of-type {\n",
       "        vertical-align: middle;\n",
       "    }\n",
       "\n",
       "    .dataframe tbody tr th {\n",
       "        vertical-align: top;\n",
       "    }\n",
       "\n",
       "    .dataframe thead th {\n",
       "        text-align: right;\n",
       "    }\n",
       "</style>\n",
       "<table border=\"1\" class=\"dataframe\">\n",
       "  <thead>\n",
       "    <tr style=\"text-align: right;\">\n",
       "      <th></th>\n",
       "      <th>bodyType</th>\n",
       "      <th>brand</th>\n",
       "      <th>color</th>\n",
       "      <th>complectation_dict</th>\n",
       "      <th>description</th>\n",
       "      <th>engineDisplacement</th>\n",
       "      <th>enginePower</th>\n",
       "      <th>equipment_dict</th>\n",
       "      <th>fuelType</th>\n",
       "      <th>image</th>\n",
       "      <th>...</th>\n",
       "      <th>Руль</th>\n",
       "      <th>price</th>\n",
       "      <th>mileageNAN</th>\n",
       "      <th>bodyType2</th>\n",
       "      <th>log_price</th>\n",
       "      <th>bT_length</th>\n",
       "      <th>brand_length</th>\n",
       "      <th>log_power</th>\n",
       "      <th>Nalog_base</th>\n",
       "      <th>Nalog</th>\n",
       "    </tr>\n",
       "  </thead>\n",
       "  <tbody>\n",
       "    <tr>\n",
       "      <th>2558</th>\n",
       "      <td>Внедорожник 5 дв.</td>\n",
       "      <td>AUDI</td>\n",
       "      <td>0000CC</td>\n",
       "      <td>{'id': '22291467', 'name': 'Sport 55 quattro',...</td>\n",
       "      <td>Новый дилерский центр Ауди в Москве.\\n\\nУникал...</td>\n",
       "      <td>Ele</td>\n",
       "      <td>408.0</td>\n",
       "      <td>{'asr': True, 'esp': True, 'adaptive-light': T...</td>\n",
       "      <td>электро</td>\n",
       "      <td>8</td>\n",
       "      <td>...</td>\n",
       "      <td>LEFT</td>\n",
       "      <td>7303159.0</td>\n",
       "      <td>1</td>\n",
       "      <td>Внедорожник 5 дв.</td>\n",
       "      <td>15.803818</td>\n",
       "      <td>17</td>\n",
       "      <td>4</td>\n",
       "      <td>6.011267</td>\n",
       "      <td>150</td>\n",
       "      <td>61200.0</td>\n",
       "    </tr>\n",
       "    <tr>\n",
       "      <th>2559</th>\n",
       "      <td>Внедорожник 5 дв.</td>\n",
       "      <td>AUDI</td>\n",
       "      <td>0000CC</td>\n",
       "      <td>{'id': '22291462', 'name': 'Design 55 quattro'...</td>\n",
       "      <td>Ауди Центр Запад. Ваш дилер Audi на западе Мос...</td>\n",
       "      <td>Ele</td>\n",
       "      <td>408.0</td>\n",
       "      <td>{'asr': True, 'esp': True, 'adaptive-light': T...</td>\n",
       "      <td>электро</td>\n",
       "      <td>9</td>\n",
       "      <td>...</td>\n",
       "      <td>LEFT</td>\n",
       "      <td>7300011.0</td>\n",
       "      <td>1</td>\n",
       "      <td>Внедорожник 5 дв.</td>\n",
       "      <td>15.803387</td>\n",
       "      <td>17</td>\n",
       "      <td>4</td>\n",
       "      <td>6.011267</td>\n",
       "      <td>150</td>\n",
       "      <td>61200.0</td>\n",
       "    </tr>\n",
       "    <tr>\n",
       "      <th>2560</th>\n",
       "      <td>Внедорожник 5 дв.</td>\n",
       "      <td>AUDI</td>\n",
       "      <td>FAFBFB</td>\n",
       "      <td>{'id': '0'}</td>\n",
       "      <td>Audi e-tron Prestige quattro от Moscow Tesla C...</td>\n",
       "      <td>Ele</td>\n",
       "      <td>408.0</td>\n",
       "      <td>{'asr': True, 'esp': True, 'usb': True, 'e-adj...</td>\n",
       "      <td>электро</td>\n",
       "      <td>24</td>\n",
       "      <td>...</td>\n",
       "      <td>LEFT</td>\n",
       "      <td>6186096.0</td>\n",
       "      <td>0</td>\n",
       "      <td>Внедорожник 5 дв.</td>\n",
       "      <td>15.637815</td>\n",
       "      <td>17</td>\n",
       "      <td>4</td>\n",
       "      <td>6.011267</td>\n",
       "      <td>150</td>\n",
       "      <td>61200.0</td>\n",
       "    </tr>\n",
       "    <tr>\n",
       "      <th>2561</th>\n",
       "      <td>Внедорожник 5 дв.</td>\n",
       "      <td>AUDI</td>\n",
       "      <td>040001</td>\n",
       "      <td>{'id': '22291462', 'name': 'Design 55 quattro'...</td>\n",
       "      <td>Ауди Центр Запад. Ваш дилер Audi на западе Мос...</td>\n",
       "      <td>Ele</td>\n",
       "      <td>408.0</td>\n",
       "      <td>{'asr': True, 'esp': True, 'adaptive-light': T...</td>\n",
       "      <td>электро</td>\n",
       "      <td>11</td>\n",
       "      <td>...</td>\n",
       "      <td>LEFT</td>\n",
       "      <td>7608650.0</td>\n",
       "      <td>1</td>\n",
       "      <td>Внедорожник 5 дв.</td>\n",
       "      <td>15.844796</td>\n",
       "      <td>17</td>\n",
       "      <td>4</td>\n",
       "      <td>6.011267</td>\n",
       "      <td>150</td>\n",
       "      <td>61200.0</td>\n",
       "    </tr>\n",
       "    <tr>\n",
       "      <th>2562</th>\n",
       "      <td>Внедорожник 5 дв.</td>\n",
       "      <td>AUDI</td>\n",
       "      <td>040001</td>\n",
       "      <td>{'id': '22291467', 'name': 'Sport 55 quattro',...</td>\n",
       "      <td>Ауди Центр Запад. Ваш дилер Audi на западе Мос...</td>\n",
       "      <td>Ele</td>\n",
       "      <td>408.0</td>\n",
       "      <td>{'asr': True, 'esp': True, 'adaptive-light': T...</td>\n",
       "      <td>электро</td>\n",
       "      <td>7</td>\n",
       "      <td>...</td>\n",
       "      <td>LEFT</td>\n",
       "      <td>7846900.0</td>\n",
       "      <td>1</td>\n",
       "      <td>Внедорожник 5 дв.</td>\n",
       "      <td>15.875629</td>\n",
       "      <td>17</td>\n",
       "      <td>4</td>\n",
       "      <td>6.011267</td>\n",
       "      <td>150</td>\n",
       "      <td>61200.0</td>\n",
       "    </tr>\n",
       "    <tr>\n",
       "      <th>...</th>\n",
       "      <td>...</td>\n",
       "      <td>...</td>\n",
       "      <td>...</td>\n",
       "      <td>...</td>\n",
       "      <td>...</td>\n",
       "      <td>...</td>\n",
       "      <td>...</td>\n",
       "      <td>...</td>\n",
       "      <td>...</td>\n",
       "      <td>...</td>\n",
       "      <td>...</td>\n",
       "      <td>...</td>\n",
       "      <td>...</td>\n",
       "      <td>...</td>\n",
       "      <td>...</td>\n",
       "      <td>...</td>\n",
       "      <td>...</td>\n",
       "      <td>...</td>\n",
       "      <td>...</td>\n",
       "      <td>...</td>\n",
       "      <td>...</td>\n",
       "    </tr>\n",
       "    <tr>\n",
       "      <th>46545</th>\n",
       "      <td>Седан</td>\n",
       "      <td>other</td>\n",
       "      <td>FAFBFB</td>\n",
       "      <td>{'id': '21659687', 'name': 'Turbo S', 'availab...</td>\n",
       "      <td>Новый Porsche Taycan. \\n\\nАвтомобиль в самой п...</td>\n",
       "      <td>Ele</td>\n",
       "      <td>761.0</td>\n",
       "      <td>{'cruise-control': True, 'asr': True, 'esp': T...</td>\n",
       "      <td>электро</td>\n",
       "      <td>23</td>\n",
       "      <td>...</td>\n",
       "      <td>LEFT</td>\n",
       "      <td>11600000.0</td>\n",
       "      <td>0</td>\n",
       "      <td>Седан</td>\n",
       "      <td>16.266516</td>\n",
       "      <td>5</td>\n",
       "      <td>5</td>\n",
       "      <td>6.634633</td>\n",
       "      <td>150</td>\n",
       "      <td>114150.0</td>\n",
       "    </tr>\n",
       "    <tr>\n",
       "      <th>50072</th>\n",
       "      <td>Купе</td>\n",
       "      <td>other</td>\n",
       "      <td>040001</td>\n",
       "      <td>{'id': '20841229', 'name': 'CARGO', 'available...</td>\n",
       "      <td>Идеальное состояние, использовался очень береж...</td>\n",
       "      <td>Ele</td>\n",
       "      <td>11.0</td>\n",
       "      <td>{'computer': True, 'steel-wheels': True, 'blue...</td>\n",
       "      <td>электро</td>\n",
       "      <td>9</td>\n",
       "      <td>...</td>\n",
       "      <td>LEFT</td>\n",
       "      <td>549000.0</td>\n",
       "      <td>0</td>\n",
       "      <td>Купе</td>\n",
       "      <td>13.215854</td>\n",
       "      <td>4</td>\n",
       "      <td>5</td>\n",
       "      <td>2.397895</td>\n",
       "      <td>5000</td>\n",
       "      <td>55000.0</td>\n",
       "    </tr>\n",
       "    <tr>\n",
       "      <th>58076</th>\n",
       "      <td>Хэтчбек 5 дв.</td>\n",
       "      <td>VOLKSWAGEN</td>\n",
       "      <td>040001</td>\n",
       "      <td>{'id': '0'}</td>\n",
       "      <td>Отличный, немецкий, полностью электрический ав...</td>\n",
       "      <td>Ele</td>\n",
       "      <td>115.0</td>\n",
       "      <td>{'cruise-control': True, 'asr': True, 'esp': T...</td>\n",
       "      <td>электро</td>\n",
       "      <td>13</td>\n",
       "      <td>...</td>\n",
       "      <td>LEFT</td>\n",
       "      <td>1950000.0</td>\n",
       "      <td>0</td>\n",
       "      <td>Хэтчбек 5 дв.</td>\n",
       "      <td>14.483340</td>\n",
       "      <td>13</td>\n",
       "      <td>10</td>\n",
       "      <td>4.744932</td>\n",
       "      <td>25</td>\n",
       "      <td>2875.0</td>\n",
       "    </tr>\n",
       "    <tr>\n",
       "      <th>58086</th>\n",
       "      <td>Хэтчбек 5 дв.</td>\n",
       "      <td>VOLKSWAGEN</td>\n",
       "      <td>FAFBFB</td>\n",
       "      <td>{'id': '0'}</td>\n",
       "      <td>Внимание! Только для клиентов AVILON Автомобил...</td>\n",
       "      <td>Ele</td>\n",
       "      <td>115.0</td>\n",
       "      <td>{'cruise-control': True, 'engine-proof': True,...</td>\n",
       "      <td>электро</td>\n",
       "      <td>20</td>\n",
       "      <td>...</td>\n",
       "      <td>LEFT</td>\n",
       "      <td>1900000.0</td>\n",
       "      <td>0</td>\n",
       "      <td>Хэтчбек 5 дв.</td>\n",
       "      <td>14.457364</td>\n",
       "      <td>13</td>\n",
       "      <td>10</td>\n",
       "      <td>4.744932</td>\n",
       "      <td>25</td>\n",
       "      <td>2875.0</td>\n",
       "    </tr>\n",
       "    <tr>\n",
       "      <th>70099</th>\n",
       "      <td>Внедорожник 5 дв.</td>\n",
       "      <td>MERCEDES</td>\n",
       "      <td>CACECB</td>\n",
       "      <td>{'id': '0'}</td>\n",
       "      <td>«ЛУКАВТО» – официальный дилер Mercedes-Benz в ...</td>\n",
       "      <td>Ele</td>\n",
       "      <td>408.0</td>\n",
       "      <td>{'glonass': True, 'airbag-driver': True, 'usb'...</td>\n",
       "      <td>электро</td>\n",
       "      <td>21</td>\n",
       "      <td>...</td>\n",
       "      <td>LEFT</td>\n",
       "      <td>7190000.0</td>\n",
       "      <td>0</td>\n",
       "      <td>Внедорожник 5 дв.</td>\n",
       "      <td>15.788201</td>\n",
       "      <td>17</td>\n",
       "      <td>8</td>\n",
       "      <td>6.011267</td>\n",
       "      <td>150</td>\n",
       "      <td>61200.0</td>\n",
       "    </tr>\n",
       "  </tbody>\n",
       "</table>\n",
       "<p>93 rows × 37 columns</p>\n",
       "</div>"
      ],
      "text/plain": [
       "                bodyType       brand   color  \\\n",
       "2558   Внедорожник 5 дв.        AUDI  0000CC   \n",
       "2559   Внедорожник 5 дв.        AUDI  0000CC   \n",
       "2560   Внедорожник 5 дв.        AUDI  FAFBFB   \n",
       "2561   Внедорожник 5 дв.        AUDI  040001   \n",
       "2562   Внедорожник 5 дв.        AUDI  040001   \n",
       "...                  ...         ...     ...   \n",
       "46545              Седан       other  FAFBFB   \n",
       "50072               Купе       other  040001   \n",
       "58076      Хэтчбек 5 дв.  VOLKSWAGEN  040001   \n",
       "58086      Хэтчбек 5 дв.  VOLKSWAGEN  FAFBFB   \n",
       "70099  Внедорожник 5 дв.    MERCEDES  CACECB   \n",
       "\n",
       "                                      complectation_dict  \\\n",
       "2558   {'id': '22291467', 'name': 'Sport 55 quattro',...   \n",
       "2559   {'id': '22291462', 'name': 'Design 55 quattro'...   \n",
       "2560                                         {'id': '0'}   \n",
       "2561   {'id': '22291462', 'name': 'Design 55 quattro'...   \n",
       "2562   {'id': '22291467', 'name': 'Sport 55 quattro',...   \n",
       "...                                                  ...   \n",
       "46545  {'id': '21659687', 'name': 'Turbo S', 'availab...   \n",
       "50072  {'id': '20841229', 'name': 'CARGO', 'available...   \n",
       "58076                                        {'id': '0'}   \n",
       "58086                                        {'id': '0'}   \n",
       "70099                                        {'id': '0'}   \n",
       "\n",
       "                                             description engineDisplacement  \\\n",
       "2558   Новый дилерский центр Ауди в Москве.\\n\\nУникал...                Ele   \n",
       "2559   Ауди Центр Запад. Ваш дилер Audi на западе Мос...                Ele   \n",
       "2560   Audi e-tron Prestige quattro от Moscow Tesla C...                Ele   \n",
       "2561   Ауди Центр Запад. Ваш дилер Audi на западе Мос...                Ele   \n",
       "2562   Ауди Центр Запад. Ваш дилер Audi на западе Мос...                Ele   \n",
       "...                                                  ...                ...   \n",
       "46545  Новый Porsche Taycan. \\n\\nАвтомобиль в самой п...                Ele   \n",
       "50072  Идеальное состояние, использовался очень береж...                Ele   \n",
       "58076  Отличный, немецкий, полностью электрический ав...                Ele   \n",
       "58086  Внимание! Только для клиентов AVILON Автомобил...                Ele   \n",
       "70099  «ЛУКАВТО» – официальный дилер Mercedes-Benz в ...                Ele   \n",
       "\n",
       "       enginePower                                     equipment_dict  \\\n",
       "2558         408.0  {'asr': True, 'esp': True, 'adaptive-light': T...   \n",
       "2559         408.0  {'asr': True, 'esp': True, 'adaptive-light': T...   \n",
       "2560         408.0  {'asr': True, 'esp': True, 'usb': True, 'e-adj...   \n",
       "2561         408.0  {'asr': True, 'esp': True, 'adaptive-light': T...   \n",
       "2562         408.0  {'asr': True, 'esp': True, 'adaptive-light': T...   \n",
       "...            ...                                                ...   \n",
       "46545        761.0  {'cruise-control': True, 'asr': True, 'esp': T...   \n",
       "50072         11.0  {'computer': True, 'steel-wheels': True, 'blue...   \n",
       "58076        115.0  {'cruise-control': True, 'asr': True, 'esp': T...   \n",
       "58086        115.0  {'cruise-control': True, 'engine-proof': True,...   \n",
       "70099        408.0  {'glonass': True, 'airbag-driver': True, 'usb'...   \n",
       "\n",
       "      fuelType  image  ...  Руль       price mileageNAN          bodyType2  \\\n",
       "2558   электро      8  ...  LEFT   7303159.0          1  Внедорожник 5 дв.   \n",
       "2559   электро      9  ...  LEFT   7300011.0          1  Внедорожник 5 дв.   \n",
       "2560   электро     24  ...  LEFT   6186096.0          0  Внедорожник 5 дв.   \n",
       "2561   электро     11  ...  LEFT   7608650.0          1  Внедорожник 5 дв.   \n",
       "2562   электро      7  ...  LEFT   7846900.0          1  Внедорожник 5 дв.   \n",
       "...        ...    ...  ...   ...         ...        ...                ...   \n",
       "46545  электро     23  ...  LEFT  11600000.0          0              Седан   \n",
       "50072  электро      9  ...  LEFT    549000.0          0               Купе   \n",
       "58076  электро     13  ...  LEFT   1950000.0          0      Хэтчбек 5 дв.   \n",
       "58086  электро     20  ...  LEFT   1900000.0          0      Хэтчбек 5 дв.   \n",
       "70099  электро     21  ...  LEFT   7190000.0          0  Внедорожник 5 дв.   \n",
       "\n",
       "       log_price  bT_length brand_length  log_power  Nalog_base     Nalog  \n",
       "2558   15.803818         17            4   6.011267         150   61200.0  \n",
       "2559   15.803387         17            4   6.011267         150   61200.0  \n",
       "2560   15.637815         17            4   6.011267         150   61200.0  \n",
       "2561   15.844796         17            4   6.011267         150   61200.0  \n",
       "2562   15.875629         17            4   6.011267         150   61200.0  \n",
       "...          ...        ...          ...        ...         ...       ...  \n",
       "46545  16.266516          5            5   6.634633         150  114150.0  \n",
       "50072  13.215854          4            5   2.397895        5000   55000.0  \n",
       "58076  14.483340         13           10   4.744932          25    2875.0  \n",
       "58086  14.457364         13           10   4.744932          25    2875.0  \n",
       "70099  15.788201         17            8   6.011267         150   61200.0  \n",
       "\n",
       "[93 rows x 37 columns]"
      ]
     },
     "execution_count": 105,
     "metadata": {},
     "output_type": "execute_result"
    }
   ],
   "source": [
    "train[train['engineDisplacement'] == 'Ele']"
   ]
  },
  {
   "cell_type": "code",
   "execution_count": 106,
   "metadata": {},
   "outputs": [
    {
     "data": {
      "text/plain": [
       "55"
      ]
     },
     "execution_count": 106,
     "metadata": {},
     "output_type": "execute_result"
    }
   ],
   "source": [
    "len(test[test['engineDisplacement'] == ' LT'])"
   ]
  },
  {
   "cell_type": "code",
   "execution_count": 107,
   "metadata": {},
   "outputs": [],
   "source": [
    "train['engineDisplacement'] = train['engineDisplacement'].apply(lambda x: 1.6 if x == 'Ele' else x)\n",
    "test['engineDisplacement'] = test['engineDisplacement'].apply(lambda x: 1.6 if x == ' LT' else x)"
   ]
  },
  {
   "cell_type": "code",
   "execution_count": 108,
   "metadata": {},
   "outputs": [],
   "source": [
    "train['engineDisplacement'] = train['engineDisplacement'].values.astype('float32')\n",
    "test['engineDisplacement'] = test['engineDisplacement'].values.astype('float32')\n"
   ]
  },
  {
   "cell_type": "code",
   "execution_count": null,
   "metadata": {},
   "outputs": [],
   "source": []
  },
  {
   "cell_type": "code",
   "execution_count": 109,
   "metadata": {},
   "outputs": [
    {
     "data": {
      "text/plain": [
       "автоматическая      19596\n",
       "механическая         7209\n",
       "вариатор             3999\n",
       "роботизированная     3882\n",
       "Name: vehicleTransmission, dtype: int64"
      ]
     },
     "execution_count": 109,
     "metadata": {},
     "output_type": "execute_result"
    }
   ],
   "source": [
    "test.vehicleTransmission.value_counts()\n"
   ]
  },
  {
   "cell_type": "code",
   "execution_count": 110,
   "metadata": {},
   "outputs": [],
   "source": [
    "train.vehicleTransmission = train.vehicleTransmission.apply(lambda x: 'автоматическая' if x == 'AUTOMATIC' else 'механическая' if x == 'MECHANICAL' else 'вариатор' if x == 'VARIATOR' else 'роботизированная' )"
   ]
  },
  {
   "cell_type": "code",
   "execution_count": 111,
   "metadata": {},
   "outputs": [
    {
     "data": {
      "image/png": "[encoded data removed]",
      "text/plain": [
       "<Figure size 576x360 with 1 Axes>"
      ]
     },
     "metadata": {
      "needs_background": "light"
     },
     "output_type": "display_data"
    }
   ],
   "source": [
    "plt.figure(figsize=(8, 5))\n",
    "g1 = sns.boxplot(y='log_price', x='vehicleTransmission', \n",
    "                  data=train, color='darkgreen')\n",
    "g1.set_title(\"price of vehicleTransmission\", fontsize=20)\n",
    "\n",
    "g1.set_ylabel(\"log_price\", fontsize=15)\n",
    "g1.set_xticklabels(g1.get_xticklabels(),rotation=45)\n",
    "plt.show()"
   ]
  },
  {
   "cell_type": "code",
   "execution_count": 112,
   "metadata": {},
   "outputs": [
    {
     "data": {
      "text/plain": [
       "'SEDAN MECHANICAL 2.0'"
      ]
     },
     "execution_count": 112,
     "metadata": {},
     "output_type": "execute_result"
    }
   ],
   "source": [
    "train.vehicleConfiguration[12]"
   ]
  },
  {
   "cell_type": "code",
   "execution_count": 113,
   "metadata": {},
   "outputs": [
    {
     "data": {
      "text/html": [
       "<div>\n",
       "<style scoped>\n",
       "    .dataframe tbody tr th:only-of-type {\n",
       "        vertical-align: middle;\n",
       "    }\n",
       "\n",
       "    .dataframe tbody tr th {\n",
       "        vertical-align: top;\n",
       "    }\n",
       "\n",
       "    .dataframe thead th {\n",
       "        text-align: right;\n",
       "    }\n",
       "</style>\n",
       "<table border=\"1\" class=\"dataframe\">\n",
       "  <thead>\n",
       "    <tr style=\"text-align: right;\">\n",
       "      <th></th>\n",
       "      <th>bodyType</th>\n",
       "      <th>brand</th>\n",
       "      <th>car_url</th>\n",
       "      <th>color</th>\n",
       "      <th>complectation_dict</th>\n",
       "      <th>description</th>\n",
       "      <th>engineDisplacement</th>\n",
       "      <th>enginePower</th>\n",
       "      <th>equipment_dict</th>\n",
       "      <th>fuelType</th>\n",
       "      <th>...</th>\n",
       "      <th>Владение</th>\n",
       "      <th>ПТС</th>\n",
       "      <th>Привод</th>\n",
       "      <th>Руль</th>\n",
       "      <th>bodyType2</th>\n",
       "      <th>bT_length</th>\n",
       "      <th>brand_length</th>\n",
       "      <th>log_power</th>\n",
       "      <th>Nalog_base</th>\n",
       "      <th>Nalog</th>\n",
       "    </tr>\n",
       "  </thead>\n",
       "  <tbody>\n",
       "    <tr>\n",
       "      <th>16944</th>\n",
       "      <td>кабриолет</td>\n",
       "      <td>MERCEDES</td>\n",
       "      <td>https://auto.ru/cars/used/sale/mercedes/simple...</td>\n",
       "      <td>белый</td>\n",
       "      <td>NaN</td>\n",
       "      <td>на ходу. 1904 год. стоит в гараже, пылится.Кат...</td>\n",
       "      <td>5.3</td>\n",
       "      <td>32.0</td>\n",
       "      <td>NaN</td>\n",
       "      <td>бензин</td>\n",
       "      <td>...</td>\n",
       "      <td>6 лет и 8 месяцев</td>\n",
       "      <td>Оригинал</td>\n",
       "      <td>задний</td>\n",
       "      <td>Правый</td>\n",
       "      <td>другой</td>\n",
       "      <td>9</td>\n",
       "      <td>8</td>\n",
       "      <td>3.465736</td>\n",
       "      <td>5000</td>\n",
       "      <td>160000.0</td>\n",
       "    </tr>\n",
       "  </tbody>\n",
       "</table>\n",
       "<p>1 rows × 35 columns</p>\n",
       "</div>"
      ],
      "text/plain": [
       "        bodyType     brand                                            car_url  \\\n",
       "16944  кабриолет  MERCEDES  https://auto.ru/cars/used/sale/mercedes/simple...   \n",
       "\n",
       "       color complectation_dict  \\\n",
       "16944  белый                NaN   \n",
       "\n",
       "                                             description  engineDisplacement  \\\n",
       "16944  на ходу. 1904 год. стоит в гараже, пылится.Кат...                 5.3   \n",
       "\n",
       "       enginePower equipment_dict fuelType  ...           Владение       ПТС  \\\n",
       "16944         32.0            NaN   бензин  ...  6 лет и 8 месяцев  Оригинал   \n",
       "\n",
       "       Привод    Руль bodyType2 bT_length  brand_length  log_power  \\\n",
       "16944  задний  Правый    другой         9             8   3.465736   \n",
       "\n",
       "       Nalog_base     Nalog  \n",
       "16944        5000  160000.0  \n",
       "\n",
       "[1 rows x 35 columns]"
      ]
     },
     "execution_count": 113,
     "metadata": {},
     "output_type": "execute_result"
    }
   ],
   "source": [
    "test[test.numberOfDoors == 0]"
   ]
  },
  {
   "cell_type": "code",
   "execution_count": 114,
   "metadata": {},
   "outputs": [
    {
     "data": {
      "text/html": [
       "<div>\n",
       "<style scoped>\n",
       "    .dataframe tbody tr th:only-of-type {\n",
       "        vertical-align: middle;\n",
       "    }\n",
       "\n",
       "    .dataframe tbody tr th {\n",
       "        vertical-align: top;\n",
       "    }\n",
       "\n",
       "    .dataframe thead th {\n",
       "        text-align: right;\n",
       "    }\n",
       "</style>\n",
       "<table border=\"1\" class=\"dataframe\">\n",
       "  <thead>\n",
       "    <tr style=\"text-align: right;\">\n",
       "      <th></th>\n",
       "      <th>bodyType</th>\n",
       "      <th>brand</th>\n",
       "      <th>color</th>\n",
       "      <th>complectation_dict</th>\n",
       "      <th>description</th>\n",
       "      <th>engineDisplacement</th>\n",
       "      <th>enginePower</th>\n",
       "      <th>equipment_dict</th>\n",
       "      <th>fuelType</th>\n",
       "      <th>image</th>\n",
       "      <th>...</th>\n",
       "      <th>Руль</th>\n",
       "      <th>price</th>\n",
       "      <th>mileageNAN</th>\n",
       "      <th>bodyType2</th>\n",
       "      <th>log_price</th>\n",
       "      <th>bT_length</th>\n",
       "      <th>brand_length</th>\n",
       "      <th>log_power</th>\n",
       "      <th>Nalog_base</th>\n",
       "      <th>Nalog</th>\n",
       "    </tr>\n",
       "  </thead>\n",
       "  <tbody>\n",
       "    <tr>\n",
       "      <th>76332</th>\n",
       "      <td>Кабриолет</td>\n",
       "      <td>MERCEDES</td>\n",
       "      <td>FAFBFB</td>\n",
       "      <td>{'id': '0'}</td>\n",
       "      <td>на ходу. 1904 год. стоит в гараже, пылится.Кат...</td>\n",
       "      <td>5.3</td>\n",
       "      <td>32.0</td>\n",
       "      <td>{}</td>\n",
       "      <td>бензин</td>\n",
       "      <td>13</td>\n",
       "      <td>...</td>\n",
       "      <td>RIGHT</td>\n",
       "      <td>12000000.0</td>\n",
       "      <td>0</td>\n",
       "      <td>другой</td>\n",
       "      <td>16.300417</td>\n",
       "      <td>9</td>\n",
       "      <td>8</td>\n",
       "      <td>3.465736</td>\n",
       "      <td>5000</td>\n",
       "      <td>160000.0</td>\n",
       "    </tr>\n",
       "  </tbody>\n",
       "</table>\n",
       "<p>1 rows × 37 columns</p>\n",
       "</div>"
      ],
      "text/plain": [
       "        bodyType     brand   color complectation_dict  \\\n",
       "76332  Кабриолет  MERCEDES  FAFBFB        {'id': '0'}   \n",
       "\n",
       "                                             description  engineDisplacement  \\\n",
       "76332  на ходу. 1904 год. стоит в гараже, пылится.Кат...                 5.3   \n",
       "\n",
       "       enginePower equipment_dict fuelType  image  ...   Руль       price  \\\n",
       "76332         32.0             {}   бензин     13  ...  RIGHT  12000000.0   \n",
       "\n",
       "      mileageNAN bodyType2  log_price  bT_length brand_length  log_power  \\\n",
       "76332          0    другой  16.300417          9            8   3.465736   \n",
       "\n",
       "       Nalog_base     Nalog  \n",
       "76332        5000  160000.0  \n",
       "\n",
       "[1 rows x 37 columns]"
      ]
     },
     "execution_count": 114,
     "metadata": {},
     "output_type": "execute_result"
    }
   ],
   "source": [
    "train[train.numberOfDoors == 0]"
   ]
  },
  {
   "cell_type": "code",
   "execution_count": 115,
   "metadata": {},
   "outputs": [
    {
     "data": {
      "image/png": "[encoded data removed]",
      "text/plain": [
       "<Figure size 576x360 with 1 Axes>"
      ]
     },
     "metadata": {
      "needs_background": "light"
     },
     "output_type": "display_data"
    }
   ],
   "source": [
    "plt.figure(figsize=(8, 5))\n",
    "g1 = sns.boxplot(y='log_price', x='numberOfDoors', \n",
    "                  data=train, color='darkgreen')\n",
    "g1.set_title(\"price of numberOfDoors\", fontsize=20)\n",
    "\n",
    "g1.set_ylabel(\"log_price\", fontsize=15)\n",
    "g1.set_xticklabels(g1.get_xticklabels(),rotation=45)\n",
    "plt.show()"
   ]
  },
  {
   "cell_type": "code",
   "execution_count": 116,
   "metadata": {},
   "outputs": [],
   "source": [
    "color_dict = {'040001':'чёрный', 'EE1D19':'красный', '0000CC':'синий', 'CACECB':'серебристый', '007F00':'зелёный', 'FAFBFB':'белый', '97948F':'серый', '22A0F8':'голубой', '660099':'пурпурный', '200204':'коричневый', 'C49648':'бежевый', 'DEA522':'золотистый', '4A2197':'фиолетовый', 'FFD600':'жёлтый', 'FF8649':'оранжевый', 'FFC0CB':'розовый'} \n",
    "train['color'] = train['color'].map(color_dict)"
   ]
  },
  {
   "cell_type": "code",
   "execution_count": 117,
   "metadata": {},
   "outputs": [
    {
     "data": {
      "text/html": [
       "<div>\n",
       "<style scoped>\n",
       "    .dataframe tbody tr th:only-of-type {\n",
       "        vertical-align: middle;\n",
       "    }\n",
       "\n",
       "    .dataframe tbody tr th {\n",
       "        vertical-align: top;\n",
       "    }\n",
       "\n",
       "    .dataframe thead th {\n",
       "        text-align: right;\n",
       "    }\n",
       "</style>\n",
       "<table border=\"1\" class=\"dataframe\">\n",
       "  <thead>\n",
       "    <tr style=\"text-align: right;\">\n",
       "      <th></th>\n",
       "      <th>color</th>\n",
       "    </tr>\n",
       "  </thead>\n",
       "  <tbody>\n",
       "    <tr>\n",
       "      <th>чёрный</th>\n",
       "      <td>21577</td>\n",
       "    </tr>\n",
       "    <tr>\n",
       "      <th>белый</th>\n",
       "      <td>13546</td>\n",
       "    </tr>\n",
       "    <tr>\n",
       "      <th>серый</th>\n",
       "      <td>9721</td>\n",
       "    </tr>\n",
       "    <tr>\n",
       "      <th>серебристый</th>\n",
       "      <td>8904</td>\n",
       "    </tr>\n",
       "    <tr>\n",
       "      <th>синий</th>\n",
       "      <td>8255</td>\n",
       "    </tr>\n",
       "    <tr>\n",
       "      <th>красный</th>\n",
       "      <td>4265</td>\n",
       "    </tr>\n",
       "    <tr>\n",
       "      <th>коричневый</th>\n",
       "      <td>3147</td>\n",
       "    </tr>\n",
       "    <tr>\n",
       "      <th>зелёный</th>\n",
       "      <td>2225</td>\n",
       "    </tr>\n",
       "    <tr>\n",
       "      <th>бежевый</th>\n",
       "      <td>1730</td>\n",
       "    </tr>\n",
       "    <tr>\n",
       "      <th>голубой</th>\n",
       "      <td>1168</td>\n",
       "    </tr>\n",
       "    <tr>\n",
       "      <th>жёлтый</th>\n",
       "      <td>612</td>\n",
       "    </tr>\n",
       "    <tr>\n",
       "      <th>золотистый</th>\n",
       "      <td>552</td>\n",
       "    </tr>\n",
       "    <tr>\n",
       "      <th>пурпурный</th>\n",
       "      <td>547</td>\n",
       "    </tr>\n",
       "    <tr>\n",
       "      <th>оранжевый</th>\n",
       "      <td>467</td>\n",
       "    </tr>\n",
       "    <tr>\n",
       "      <th>фиолетовый</th>\n",
       "      <td>414</td>\n",
       "    </tr>\n",
       "    <tr>\n",
       "      <th>розовый</th>\n",
       "      <td>20</td>\n",
       "    </tr>\n",
       "  </tbody>\n",
       "</table>\n",
       "</div>"
      ],
      "text/plain": [
       "             color\n",
       "чёрный       21577\n",
       "белый        13546\n",
       "серый         9721\n",
       "серебристый   8904\n",
       "синий         8255\n",
       "красный       4265\n",
       "коричневый    3147\n",
       "зелёный       2225\n",
       "бежевый       1730\n",
       "голубой       1168\n",
       "жёлтый         612\n",
       "золотистый     552\n",
       "пурпурный      547\n",
       "оранжевый      467\n",
       "фиолетовый     414\n",
       "розовый         20"
      ]
     },
     "metadata": {},
     "output_type": "display_data"
    }
   ],
   "source": [
    "display(pd.DataFrame(train.color.value_counts()))\n"
   ]
  },
  {
   "cell_type": "code",
   "execution_count": 118,
   "metadata": {},
   "outputs": [
    {
     "data": {
      "image/png": "[encoded data removed]",
      "text/plain": [
       "<Figure size 576x360 with 1 Axes>"
      ]
     },
     "metadata": {
      "needs_background": "light"
     },
     "output_type": "display_data"
    }
   ],
   "source": [
    "plt.figure(figsize=(8, 5))\n",
    "g1 = sns.boxplot(y='log_price', x='color', \n",
    "                  data=train, color='darkgreen')\n",
    "g1.set_title(\"price of colors\", fontsize=20)\n",
    "\n",
    "g1.set_ylabel(\"log_price\", fontsize=15)\n",
    "g1.set_xticklabels(g1.get_xticklabels(),rotation=45)\n",
    "plt.show()"
   ]
  },
  {
   "cell_type": "code",
   "execution_count": 119,
   "metadata": {},
   "outputs": [],
   "source": [
    "train['years_old'] = 2020 - train['productionDate']\n",
    "test['years_old'] = 2020 - test['productionDate']"
   ]
  },
  {
   "cell_type": "code",
   "execution_count": 120,
   "metadata": {},
   "outputs": [
    {
     "data": {
      "text/plain": [
       "<AxesSubplot:>"
      ]
     },
     "execution_count": 120,
     "metadata": {},
     "output_type": "execute_result"
    },
    {
     "data": {
      "image/png": "[encoded data removed]",
      "text/plain": [
       "<Figure size 432x288 with 1 Axes>"
      ]
     },
     "metadata": {
      "needs_background": "light"
     },
     "output_type": "display_data"
    }
   ],
   "source": [
    "train.boxplot(column=['productionDate'])\n"
   ]
  },
  {
   "cell_type": "code",
   "execution_count": 121,
   "metadata": {},
   "outputs": [
    {
     "data": {
      "text/html": [
       "<div>\n",
       "<style scoped>\n",
       "    .dataframe tbody tr th:only-of-type {\n",
       "        vertical-align: middle;\n",
       "    }\n",
       "\n",
       "    .dataframe tbody tr th {\n",
       "        vertical-align: top;\n",
       "    }\n",
       "\n",
       "    .dataframe thead th {\n",
       "        text-align: right;\n",
       "    }\n",
       "</style>\n",
       "<table border=\"1\" class=\"dataframe\">\n",
       "  <thead>\n",
       "    <tr style=\"text-align: right;\">\n",
       "      <th></th>\n",
       "      <th>bodyType</th>\n",
       "      <th>brand</th>\n",
       "      <th>color</th>\n",
       "      <th>complectation_dict</th>\n",
       "      <th>description</th>\n",
       "      <th>engineDisplacement</th>\n",
       "      <th>enginePower</th>\n",
       "      <th>equipment_dict</th>\n",
       "      <th>fuelType</th>\n",
       "      <th>image</th>\n",
       "      <th>...</th>\n",
       "      <th>price</th>\n",
       "      <th>mileageNAN</th>\n",
       "      <th>bodyType2</th>\n",
       "      <th>log_price</th>\n",
       "      <th>bT_length</th>\n",
       "      <th>brand_length</th>\n",
       "      <th>log_power</th>\n",
       "      <th>Nalog_base</th>\n",
       "      <th>Nalog</th>\n",
       "      <th>years_old</th>\n",
       "    </tr>\n",
       "  </thead>\n",
       "  <tbody>\n",
       "    <tr>\n",
       "      <th>264</th>\n",
       "      <td>Седан</td>\n",
       "      <td>AUDI</td>\n",
       "      <td>чёрный</td>\n",
       "      <td>{'id': '0'}</td>\n",
       "      <td>Ауди кабриолет, 1938 г., ретро, на ходу, есть ...</td>\n",
       "      <td>3.3</td>\n",
       "      <td>75.0</td>\n",
       "      <td>{}</td>\n",
       "      <td>бензин</td>\n",
       "      <td>5</td>\n",
       "      <td>...</td>\n",
       "      <td>2000000.0</td>\n",
       "      <td>0</td>\n",
       "      <td>Седан</td>\n",
       "      <td>14.508657</td>\n",
       "      <td>5</td>\n",
       "      <td>4</td>\n",
       "      <td>4.317488</td>\n",
       "      <td>12</td>\n",
       "      <td>900.0</td>\n",
       "      <td>82</td>\n",
       "    </tr>\n",
       "    <tr>\n",
       "      <th>5178</th>\n",
       "      <td>Седан</td>\n",
       "      <td>BMW</td>\n",
       "      <td>бежевый</td>\n",
       "      <td>{'id': '0'}</td>\n",
       "      <td>Оригинальные запчасти. Своевременное обслужива...</td>\n",
       "      <td>2.0</td>\n",
       "      <td>51.0</td>\n",
       "      <td>{}</td>\n",
       "      <td>бензин</td>\n",
       "      <td>5</td>\n",
       "      <td>...</td>\n",
       "      <td>1700000.0</td>\n",
       "      <td>0</td>\n",
       "      <td>Седан</td>\n",
       "      <td>14.346139</td>\n",
       "      <td>5</td>\n",
       "      <td>3</td>\n",
       "      <td>3.931826</td>\n",
       "      <td>12</td>\n",
       "      <td>612.0</td>\n",
       "      <td>83</td>\n",
       "    </tr>\n",
       "    <tr>\n",
       "      <th>18893</th>\n",
       "      <td>Хэтчбек 3 дв.</td>\n",
       "      <td>other</td>\n",
       "      <td>бежевый</td>\n",
       "      <td>{'id': '0'}</td>\n",
       "      <td>Это Форд А 28 года. Только перебран двигатель....</td>\n",
       "      <td>3.3</td>\n",
       "      <td>40.0</td>\n",
       "      <td>{}</td>\n",
       "      <td>бензин</td>\n",
       "      <td>6</td>\n",
       "      <td>...</td>\n",
       "      <td>3350000.0</td>\n",
       "      <td>0</td>\n",
       "      <td>Хэтчбек 3 дв.</td>\n",
       "      <td>15.024471</td>\n",
       "      <td>13</td>\n",
       "      <td>5</td>\n",
       "      <td>3.688879</td>\n",
       "      <td>12</td>\n",
       "      <td>480.0</td>\n",
       "      <td>92</td>\n",
       "    </tr>\n",
       "    <tr>\n",
       "      <th>18894</th>\n",
       "      <td>Хэтчбек 3 дв.</td>\n",
       "      <td>other</td>\n",
       "      <td>синий</td>\n",
       "      <td>{'id': '0'}</td>\n",
       "      <td>Машина растаможена в лоб\\nНалог низкий\\nМотор ...</td>\n",
       "      <td>3.3</td>\n",
       "      <td>40.0</td>\n",
       "      <td>{}</td>\n",
       "      <td>бензин</td>\n",
       "      <td>6</td>\n",
       "      <td>...</td>\n",
       "      <td>3950000.0</td>\n",
       "      <td>0</td>\n",
       "      <td>Хэтчбек 3 дв.</td>\n",
       "      <td>15.189226</td>\n",
       "      <td>13</td>\n",
       "      <td>5</td>\n",
       "      <td>3.688879</td>\n",
       "      <td>12</td>\n",
       "      <td>480.0</td>\n",
       "      <td>93</td>\n",
       "    </tr>\n",
       "    <tr>\n",
       "      <th>18895</th>\n",
       "      <td>Кабриолет</td>\n",
       "      <td>other</td>\n",
       "      <td>зелёный</td>\n",
       "      <td>{'id': '0'}</td>\n",
       "      <td>1 октября 1908 Форд воплотил в жизнь свою мечт...</td>\n",
       "      <td>2.9</td>\n",
       "      <td>20.0</td>\n",
       "      <td>{}</td>\n",
       "      <td>бензин</td>\n",
       "      <td>11</td>\n",
       "      <td>...</td>\n",
       "      <td>3800000.0</td>\n",
       "      <td>0</td>\n",
       "      <td>другой</td>\n",
       "      <td>15.150512</td>\n",
       "      <td>9</td>\n",
       "      <td>5</td>\n",
       "      <td>2.995732</td>\n",
       "      <td>5000</td>\n",
       "      <td>100000.0</td>\n",
       "      <td>97</td>\n",
       "    </tr>\n",
       "    <tr>\n",
       "      <th>19678</th>\n",
       "      <td>Седан</td>\n",
       "      <td>other</td>\n",
       "      <td>чёрный</td>\n",
       "      <td>{'id': '0'}</td>\n",
       "      <td>Форд А 1930 год. Купил в музее в США. На отлич...</td>\n",
       "      <td>3.6</td>\n",
       "      <td>66.0</td>\n",
       "      <td>{}</td>\n",
       "      <td>бензин</td>\n",
       "      <td>5</td>\n",
       "      <td>...</td>\n",
       "      <td>2700000.0</td>\n",
       "      <td>0</td>\n",
       "      <td>Седан</td>\n",
       "      <td>14.808763</td>\n",
       "      <td>5</td>\n",
       "      <td>5</td>\n",
       "      <td>4.189655</td>\n",
       "      <td>12</td>\n",
       "      <td>792.0</td>\n",
       "      <td>88</td>\n",
       "    </tr>\n",
       "    <tr>\n",
       "      <th>19679</th>\n",
       "      <td>Седан</td>\n",
       "      <td>other</td>\n",
       "      <td>чёрный</td>\n",
       "      <td>{'id': '0'}</td>\n",
       "      <td>Форд 8 реплика на базе газ 69, полный привод,в...</td>\n",
       "      <td>3.6</td>\n",
       "      <td>66.0</td>\n",
       "      <td>{}</td>\n",
       "      <td>бензин</td>\n",
       "      <td>3</td>\n",
       "      <td>...</td>\n",
       "      <td>480000.0</td>\n",
       "      <td>0</td>\n",
       "      <td>Седан</td>\n",
       "      <td>13.081541</td>\n",
       "      <td>5</td>\n",
       "      <td>5</td>\n",
       "      <td>4.189655</td>\n",
       "      <td>12</td>\n",
       "      <td>792.0</td>\n",
       "      <td>88</td>\n",
       "    </tr>\n",
       "    <tr>\n",
       "      <th>19680</th>\n",
       "      <td>Фастбек</td>\n",
       "      <td>other</td>\n",
       "      <td>чёрный</td>\n",
       "      <td>{'id': '0'}</td>\n",
       "      <td>Ford V8 De Luxe Fordor Sedan 1939 г. (модель 9...</td>\n",
       "      <td>3.6</td>\n",
       "      <td>85.0</td>\n",
       "      <td>{'steel-wheels': True, '16-inch-wheels': True,...</td>\n",
       "      <td>бензин</td>\n",
       "      <td>18</td>\n",
       "      <td>...</td>\n",
       "      <td>5600000.0</td>\n",
       "      <td>0</td>\n",
       "      <td>другой</td>\n",
       "      <td>15.538278</td>\n",
       "      <td>7</td>\n",
       "      <td>5</td>\n",
       "      <td>4.442651</td>\n",
       "      <td>12</td>\n",
       "      <td>1020.0</td>\n",
       "      <td>81</td>\n",
       "    </tr>\n",
       "    <tr>\n",
       "      <th>42134</th>\n",
       "      <td>Седан</td>\n",
       "      <td>other</td>\n",
       "      <td>белый</td>\n",
       "      <td>{'id': '0'}</td>\n",
       "      <td>Опел Адмирал 1939 г,находу,требуеца ремонт по ...</td>\n",
       "      <td>3.6</td>\n",
       "      <td>86.0</td>\n",
       "      <td>{}</td>\n",
       "      <td>бензин</td>\n",
       "      <td>4</td>\n",
       "      <td>...</td>\n",
       "      <td>2500000.0</td>\n",
       "      <td>0</td>\n",
       "      <td>Седан</td>\n",
       "      <td>14.731801</td>\n",
       "      <td>5</td>\n",
       "      <td>5</td>\n",
       "      <td>4.454347</td>\n",
       "      <td>12</td>\n",
       "      <td>1032.0</td>\n",
       "      <td>81</td>\n",
       "    </tr>\n",
       "    <tr>\n",
       "      <th>44171</th>\n",
       "      <td>Седан</td>\n",
       "      <td>other</td>\n",
       "      <td>чёрный</td>\n",
       "      <td>{'id': '0'}</td>\n",
       "      <td>Автомобиль Opel Super 6 (Type 1397). 1938г.в. ...</td>\n",
       "      <td>2.5</td>\n",
       "      <td>40.0</td>\n",
       "      <td>{}</td>\n",
       "      <td>бензин</td>\n",
       "      <td>9</td>\n",
       "      <td>...</td>\n",
       "      <td>125000.0</td>\n",
       "      <td>0</td>\n",
       "      <td>Седан</td>\n",
       "      <td>11.736069</td>\n",
       "      <td>5</td>\n",
       "      <td>5</td>\n",
       "      <td>3.688879</td>\n",
       "      <td>12</td>\n",
       "      <td>480.0</td>\n",
       "      <td>82</td>\n",
       "    </tr>\n",
       "    <tr>\n",
       "      <th>51738</th>\n",
       "      <td>Хэтчбек 3 дв.</td>\n",
       "      <td>SKODA</td>\n",
       "      <td>чёрный</td>\n",
       "      <td>{'id': '0'}</td>\n",
       "      <td>Авто после длительного простоя, под восстановл...</td>\n",
       "      <td>1.1</td>\n",
       "      <td>30.0</td>\n",
       "      <td>{}</td>\n",
       "      <td>бензин</td>\n",
       "      <td>7</td>\n",
       "      <td>...</td>\n",
       "      <td>300000.0</td>\n",
       "      <td>0</td>\n",
       "      <td>Хэтчбек 3 дв.</td>\n",
       "      <td>12.611538</td>\n",
       "      <td>13</td>\n",
       "      <td>5</td>\n",
       "      <td>3.401197</td>\n",
       "      <td>5000</td>\n",
       "      <td>150000.0</td>\n",
       "      <td>81</td>\n",
       "    </tr>\n",
       "    <tr>\n",
       "      <th>76332</th>\n",
       "      <td>Кабриолет</td>\n",
       "      <td>MERCEDES</td>\n",
       "      <td>белый</td>\n",
       "      <td>{'id': '0'}</td>\n",
       "      <td>на ходу. 1904 год. стоит в гараже, пылится.Кат...</td>\n",
       "      <td>5.3</td>\n",
       "      <td>32.0</td>\n",
       "      <td>{}</td>\n",
       "      <td>бензин</td>\n",
       "      <td>13</td>\n",
       "      <td>...</td>\n",
       "      <td>12000000.0</td>\n",
       "      <td>0</td>\n",
       "      <td>другой</td>\n",
       "      <td>16.300417</td>\n",
       "      <td>9</td>\n",
       "      <td>8</td>\n",
       "      <td>3.465736</td>\n",
       "      <td>5000</td>\n",
       "      <td>160000.0</td>\n",
       "      <td>116</td>\n",
       "    </tr>\n",
       "    <tr>\n",
       "      <th>76908</th>\n",
       "      <td>Седан</td>\n",
       "      <td>MERCEDES</td>\n",
       "      <td>чёрный</td>\n",
       "      <td>{'id': '0'}</td>\n",
       "      <td>ретро автомобиль , для своих годов очень хорош...</td>\n",
       "      <td>1.7</td>\n",
       "      <td>38.0</td>\n",
       "      <td>{}</td>\n",
       "      <td>бензин</td>\n",
       "      <td>5</td>\n",
       "      <td>...</td>\n",
       "      <td>2300000.0</td>\n",
       "      <td>0</td>\n",
       "      <td>Седан</td>\n",
       "      <td>14.648419</td>\n",
       "      <td>5</td>\n",
       "      <td>8</td>\n",
       "      <td>3.637586</td>\n",
       "      <td>12</td>\n",
       "      <td>456.0</td>\n",
       "      <td>82</td>\n",
       "    </tr>\n",
       "  </tbody>\n",
       "</table>\n",
       "<p>13 rows × 38 columns</p>\n",
       "</div>"
      ],
      "text/plain": [
       "            bodyType     brand    color complectation_dict  \\\n",
       "264            Седан      AUDI   чёрный        {'id': '0'}   \n",
       "5178           Седан       BMW  бежевый        {'id': '0'}   \n",
       "18893  Хэтчбек 3 дв.     other  бежевый        {'id': '0'}   \n",
       "18894  Хэтчбек 3 дв.     other    синий        {'id': '0'}   \n",
       "18895      Кабриолет     other  зелёный        {'id': '0'}   \n",
       "19678          Седан     other   чёрный        {'id': '0'}   \n",
       "19679          Седан     other   чёрный        {'id': '0'}   \n",
       "19680        Фастбек     other   чёрный        {'id': '0'}   \n",
       "42134          Седан     other    белый        {'id': '0'}   \n",
       "44171          Седан     other   чёрный        {'id': '0'}   \n",
       "51738  Хэтчбек 3 дв.     SKODA   чёрный        {'id': '0'}   \n",
       "76332      Кабриолет  MERCEDES    белый        {'id': '0'}   \n",
       "76908          Седан  MERCEDES   чёрный        {'id': '0'}   \n",
       "\n",
       "                                             description  engineDisplacement  \\\n",
       "264    Ауди кабриолет, 1938 г., ретро, на ходу, есть ...                 3.3   \n",
       "5178   Оригинальные запчасти. Своевременное обслужива...                 2.0   \n",
       "18893  Это Форд А 28 года. Только перебран двигатель....                 3.3   \n",
       "18894  Машина растаможена в лоб\\nНалог низкий\\nМотор ...                 3.3   \n",
       "18895  1 октября 1908 Форд воплотил в жизнь свою мечт...                 2.9   \n",
       "19678  Форд А 1930 год. Купил в музее в США. На отлич...                 3.6   \n",
       "19679  Форд 8 реплика на базе газ 69, полный привод,в...                 3.6   \n",
       "19680  Ford V8 De Luxe Fordor Sedan 1939 г. (модель 9...                 3.6   \n",
       "42134  Опел Адмирал 1939 г,находу,требуеца ремонт по ...                 3.6   \n",
       "44171  Автомобиль Opel Super 6 (Type 1397). 1938г.в. ...                 2.5   \n",
       "51738  Авто после длительного простоя, под восстановл...                 1.1   \n",
       "76332  на ходу. 1904 год. стоит в гараже, пылится.Кат...                 5.3   \n",
       "76908  ретро автомобиль , для своих годов очень хорош...                 1.7   \n",
       "\n",
       "       enginePower                                     equipment_dict  \\\n",
       "264           75.0                                                 {}   \n",
       "5178          51.0                                                 {}   \n",
       "18893         40.0                                                 {}   \n",
       "18894         40.0                                                 {}   \n",
       "18895         20.0                                                 {}   \n",
       "19678         66.0                                                 {}   \n",
       "19679         66.0                                                 {}   \n",
       "19680         85.0  {'steel-wheels': True, '16-inch-wheels': True,...   \n",
       "42134         86.0                                                 {}   \n",
       "44171         40.0                                                 {}   \n",
       "51738         30.0                                                 {}   \n",
       "76332         32.0                                                 {}   \n",
       "76908         38.0                                                 {}   \n",
       "\n",
       "      fuelType  image  ...       price  mileageNAN      bodyType2  log_price  \\\n",
       "264     бензин      5  ...   2000000.0           0          Седан  14.508657   \n",
       "5178    бензин      5  ...   1700000.0           0          Седан  14.346139   \n",
       "18893   бензин      6  ...   3350000.0           0  Хэтчбек 3 дв.  15.024471   \n",
       "18894   бензин      6  ...   3950000.0           0  Хэтчбек 3 дв.  15.189226   \n",
       "18895   бензин     11  ...   3800000.0           0         другой  15.150512   \n",
       "19678   бензин      5  ...   2700000.0           0          Седан  14.808763   \n",
       "19679   бензин      3  ...    480000.0           0          Седан  13.081541   \n",
       "19680   бензин     18  ...   5600000.0           0         другой  15.538278   \n",
       "42134   бензин      4  ...   2500000.0           0          Седан  14.731801   \n",
       "44171   бензин      9  ...    125000.0           0          Седан  11.736069   \n",
       "51738   бензин      7  ...    300000.0           0  Хэтчбек 3 дв.  12.611538   \n",
       "76332   бензин     13  ...  12000000.0           0         другой  16.300417   \n",
       "76908   бензин      5  ...   2300000.0           0          Седан  14.648419   \n",
       "\n",
       "      bT_length  brand_length log_power  Nalog_base     Nalog years_old  \n",
       "264           5             4  4.317488          12     900.0        82  \n",
       "5178          5             3  3.931826          12     612.0        83  \n",
       "18893        13             5  3.688879          12     480.0        92  \n",
       "18894        13             5  3.688879          12     480.0        93  \n",
       "18895         9             5  2.995732        5000  100000.0        97  \n",
       "19678         5             5  4.189655          12     792.0        88  \n",
       "19679         5             5  4.189655          12     792.0        88  \n",
       "19680         7             5  4.442651          12    1020.0        81  \n",
       "42134         5             5  4.454347          12    1032.0        81  \n",
       "44171         5             5  3.688879          12     480.0        82  \n",
       "51738        13             5  3.401197        5000  150000.0        81  \n",
       "76332         9             8  3.465736        5000  160000.0       116  \n",
       "76908         5             8  3.637586          12     456.0        82  \n",
       "\n",
       "[13 rows x 38 columns]"
      ]
     },
     "execution_count": 121,
     "metadata": {},
     "output_type": "execute_result"
    }
   ],
   "source": [
    "train[train.productionDate < 1940]"
   ]
  },
  {
   "cell_type": "code",
   "execution_count": 122,
   "metadata": {},
   "outputs": [
    {
     "data": {
      "text/plain": [
       "0     15847\n",
       "12     5222\n",
       "8      5010\n",
       "9      4648\n",
       "7      4502\n",
       "13     4105\n",
       "6      3890\n",
       "10     3369\n",
       "3      2948\n",
       "5      2928\n",
       "Name: years_old, dtype: int64"
      ]
     },
     "execution_count": 122,
     "metadata": {},
     "output_type": "execute_result"
    }
   ],
   "source": [
    "train.years_old.value_counts().head(10)"
   ]
  },
  {
   "cell_type": "code",
   "execution_count": 123,
   "metadata": {},
   "outputs": [
    {
     "data": {
      "text/plain": [
       "771      1976\n",
       "1777     1939\n",
       "3174     1938\n",
       "4610     1980\n",
       "6568     1978\n",
       "7216     1970\n",
       "7256     1979\n",
       "7774     1977\n",
       "8348     1972\n",
       "8531     1975\n",
       "8627     1969\n",
       "9143     1950\n",
       "9373     1953\n",
       "9495     1949\n",
       "9625     1937\n",
       "9819     1937\n",
       "11764    1980\n",
       "11788    1979\n",
       "15806    1969\n",
       "15808    1959\n",
       "16386    1975\n",
       "16665    1968\n",
       "16844    1976\n",
       "16891    1936\n",
       "16944    1904\n",
       "17043    1974\n",
       "17067    1967\n",
       "17341    1978\n",
       "17350    1961\n",
       "17427    1976\n",
       "17440    1977\n",
       "17448    1980\n",
       "17639    1960\n",
       "17643    1959\n",
       "17653    1965\n",
       "17796    1953\n",
       "17993    1963\n",
       "18014    1957\n",
       "18070    1980\n",
       "18129    1959\n",
       "18185    1952\n",
       "19001    1980\n",
       "19223    1980\n",
       "21568    1979\n",
       "21602    1977\n",
       "24393    1973\n",
       "24597    1965\n",
       "24732    1973\n",
       "24883    1972\n",
       "26486    1972\n",
       "30324    1980\n",
       "31400    1980\n",
       "33748    1948\n",
       "34193    1978\n",
       "Name: productionDate, dtype: int64"
      ]
     },
     "execution_count": 123,
     "metadata": {},
     "output_type": "execute_result"
    }
   ],
   "source": [
    "test[test.productionDate <=1980].productionDate"
   ]
  },
  {
   "cell_type": "code",
   "execution_count": 124,
   "metadata": {},
   "outputs": [
    {
     "data": {
      "text/plain": [
       "count    77150.000000\n",
       "mean         8.302735\n",
       "std          7.238553\n",
       "min          0.000000\n",
       "25%          2.000000\n",
       "50%          8.000000\n",
       "75%         12.000000\n",
       "max        116.000000\n",
       "Name: years_old, dtype: float64"
      ]
     },
     "execution_count": 124,
     "metadata": {},
     "output_type": "execute_result"
    }
   ],
   "source": [
    "train.years_old.describe()"
   ]
  },
  {
   "cell_type": "code",
   "execution_count": 125,
   "metadata": {},
   "outputs": [
    {
     "data": {
      "text/plain": [
       "count    34686.000000\n",
       "mean        10.735398\n",
       "std          7.047661\n",
       "min          0.000000\n",
       "25%          6.000000\n",
       "50%          9.000000\n",
       "75%         14.000000\n",
       "max        116.000000\n",
       "Name: years_old, dtype: float64"
      ]
     },
     "execution_count": 125,
     "metadata": {},
     "output_type": "execute_result"
    }
   ],
   "source": [
    "test.years_old.describe()"
   ]
  },
  {
   "cell_type": "code",
   "execution_count": 126,
   "metadata": {},
   "outputs": [
    {
     "data": {
      "text/html": [
       "<div>\n",
       "<style scoped>\n",
       "    .dataframe tbody tr th:only-of-type {\n",
       "        vertical-align: middle;\n",
       "    }\n",
       "\n",
       "    .dataframe tbody tr th {\n",
       "        vertical-align: top;\n",
       "    }\n",
       "\n",
       "    .dataframe thead th {\n",
       "        text-align: right;\n",
       "    }\n",
       "</style>\n",
       "<table border=\"1\" class=\"dataframe\">\n",
       "  <thead>\n",
       "    <tr style=\"text-align: right;\">\n",
       "      <th></th>\n",
       "      <th>bodyType</th>\n",
       "      <th>brand</th>\n",
       "      <th>color</th>\n",
       "      <th>complectation_dict</th>\n",
       "      <th>description</th>\n",
       "      <th>engineDisplacement</th>\n",
       "      <th>enginePower</th>\n",
       "      <th>equipment_dict</th>\n",
       "      <th>fuelType</th>\n",
       "      <th>image</th>\n",
       "      <th>...</th>\n",
       "      <th>price</th>\n",
       "      <th>mileageNAN</th>\n",
       "      <th>bodyType2</th>\n",
       "      <th>log_price</th>\n",
       "      <th>bT_length</th>\n",
       "      <th>brand_length</th>\n",
       "      <th>log_power</th>\n",
       "      <th>Nalog_base</th>\n",
       "      <th>Nalog</th>\n",
       "      <th>years_old</th>\n",
       "    </tr>\n",
       "  </thead>\n",
       "  <tbody>\n",
       "    <tr>\n",
       "      <th>76332</th>\n",
       "      <td>Кабриолет</td>\n",
       "      <td>MERCEDES</td>\n",
       "      <td>белый</td>\n",
       "      <td>{'id': '0'}</td>\n",
       "      <td>на ходу. 1904 год. стоит в гараже, пылится.Кат...</td>\n",
       "      <td>5.3</td>\n",
       "      <td>32.0</td>\n",
       "      <td>{}</td>\n",
       "      <td>бензин</td>\n",
       "      <td>13</td>\n",
       "      <td>...</td>\n",
       "      <td>12000000.0</td>\n",
       "      <td>0</td>\n",
       "      <td>другой</td>\n",
       "      <td>16.300417</td>\n",
       "      <td>9</td>\n",
       "      <td>8</td>\n",
       "      <td>3.465736</td>\n",
       "      <td>5000</td>\n",
       "      <td>160000.0</td>\n",
       "      <td>116</td>\n",
       "    </tr>\n",
       "  </tbody>\n",
       "</table>\n",
       "<p>1 rows × 38 columns</p>\n",
       "</div>"
      ],
      "text/plain": [
       "        bodyType     brand  color complectation_dict  \\\n",
       "76332  Кабриолет  MERCEDES  белый        {'id': '0'}   \n",
       "\n",
       "                                             description  engineDisplacement  \\\n",
       "76332  на ходу. 1904 год. стоит в гараже, пылится.Кат...                 5.3   \n",
       "\n",
       "       enginePower equipment_dict fuelType  image  ...       price  \\\n",
       "76332         32.0             {}   бензин     13  ...  12000000.0   \n",
       "\n",
       "       mileageNAN bodyType2  log_price bT_length  brand_length log_power  \\\n",
       "76332           0    другой  16.300417         9             8  3.465736   \n",
       "\n",
       "       Nalog_base     Nalog years_old  \n",
       "76332        5000  160000.0       116  \n",
       "\n",
       "[1 rows x 38 columns]"
      ]
     },
     "execution_count": 126,
     "metadata": {},
     "output_type": "execute_result"
    }
   ],
   "source": [
    "train[train.years_old == 116]"
   ]
  },
  {
   "cell_type": "code",
   "execution_count": 127,
   "metadata": {},
   "outputs": [],
   "source": [
    "bins = [-1, 3, 6, 13, 20, 35, 116]\n",
    "numbers = ['3', '6','13','20','35', '116']\n",
    "\n",
    "train['age_intervals']=pd.cut(train['years_old'],bins,labels=numbers)\n",
    "test['age_intervals']=pd.cut(test['years_old'],bins,labels=numbers)"
   ]
  },
  {
   "cell_type": "code",
   "execution_count": 128,
   "metadata": {},
   "outputs": [
    {
     "data": {
      "image/png": "[encoded data removed]",
      "text/plain": [
       "<Figure size 576x360 with 1 Axes>"
      ]
     },
     "metadata": {
      "needs_background": "light"
     },
     "output_type": "display_data"
    }
   ],
   "source": [
    "plt.figure(figsize=(8, 5))\n",
    "g1 = sns.boxplot(y='log_price', x='age_intervals', \n",
    "                  data=train, color='darkgreen')\n",
    "g1.set_title(\"price of age_intervals\", fontsize=20)\n",
    "\n",
    "g1.set_ylabel(\"log_price\", fontsize=15)\n",
    "g1.set_xticklabels(g1.get_xticklabels(),rotation=45)\n",
    "plt.show()"
   ]
  },
  {
   "cell_type": "code",
   "execution_count": 129,
   "metadata": {},
   "outputs": [
    {
     "data": {
      "text/plain": [
       "count    77150.000000\n",
       "mean      2009.456630\n",
       "std          7.696198\n",
       "min       1904.000000\n",
       "25%       2005.000000\n",
       "50%       2010.000000\n",
       "75%       2016.000000\n",
       "max       2020.000000\n",
       "Name: modelDate, dtype: float64"
      ]
     },
     "execution_count": 129,
     "metadata": {},
     "output_type": "execute_result"
    }
   ],
   "source": [
    "train.modelDate.describe()"
   ]
  },
  {
   "cell_type": "code",
   "execution_count": 130,
   "metadata": {},
   "outputs": [
    {
     "data": {
      "text/plain": [
       "count    34686.000000\n",
       "mean      2007.074728\n",
       "std          7.415894\n",
       "min       1904.000000\n",
       "25%       2004.000000\n",
       "50%       2008.000000\n",
       "75%       2012.000000\n",
       "max       2020.000000\n",
       "Name: modelDate, dtype: float64"
      ]
     },
     "execution_count": 130,
     "metadata": {},
     "output_type": "execute_result"
    }
   ],
   "source": [
    "test.modelDate.describe()"
   ]
  },
  {
   "cell_type": "code",
   "execution_count": 131,
   "metadata": {},
   "outputs": [
    {
     "data": {
      "text/plain": [
       "2018    5555\n",
       "2010    4774\n",
       "2006    4557\n",
       "2017    4473\n",
       "2019    4415\n",
       "2009    4298\n",
       "2012    3688\n",
       "2011    3613\n",
       "2005    3553\n",
       "2014    3506\n",
       "2015    3373\n",
       "2013    3121\n",
       "2008    3113\n",
       "2016    2998\n",
       "2007    2988\n",
       "Name: modelDate, dtype: int64"
      ]
     },
     "execution_count": 131,
     "metadata": {},
     "output_type": "execute_result"
    }
   ],
   "source": [
    "train.modelDate.value_counts().head(15)"
   ]
  },
  {
   "cell_type": "code",
   "execution_count": null,
   "metadata": {},
   "outputs": [],
   "source": []
  },
  {
   "cell_type": "code",
   "execution_count": 132,
   "metadata": {},
   "outputs": [
    {
     "data": {
      "text/plain": [
       "0        3.0\n",
       "1        3.0\n",
       "2        3.0\n",
       "3        3.0\n",
       "4        2.0\n",
       "        ... \n",
       "77444    3.0\n",
       "77445    3.0\n",
       "77446    3.0\n",
       "77447    3.0\n",
       "77448    1.0\n",
       "Name: Владельцы, Length: 77150, dtype: float64"
      ]
     },
     "execution_count": 132,
     "metadata": {},
     "output_type": "execute_result"
    }
   ],
   "source": [
    "train.Владельцы"
   ]
  },
  {
   "cell_type": "code",
   "execution_count": 133,
   "metadata": {},
   "outputs": [
    {
     "data": {
      "text/plain": [
       "3.0    27669\n",
       "1.0    17211\n",
       "2.0    16343\n",
       "Name: Владельцы, dtype: int64"
      ]
     },
     "execution_count": 133,
     "metadata": {},
     "output_type": "execute_result"
    }
   ],
   "source": [
    "train.Владельцы.value_counts()"
   ]
  },
  {
   "cell_type": "code",
   "execution_count": 134,
   "metadata": {},
   "outputs": [],
   "source": [
    "train.Владельцы = train.Владельцы.fillna('3')"
   ]
  },
  {
   "cell_type": "code",
   "execution_count": 135,
   "metadata": {},
   "outputs": [
    {
     "data": {
      "text/plain": [
       "3.0    27669\n",
       "1.0    17211\n",
       "2.0    16343\n",
       "3      15927\n",
       "Name: Владельцы, dtype: int64"
      ]
     },
     "execution_count": 135,
     "metadata": {},
     "output_type": "execute_result"
    }
   ],
   "source": [
    "train.Владельцы.value_counts()"
   ]
  },
  {
   "cell_type": "code",
   "execution_count": 136,
   "metadata": {},
   "outputs": [],
   "source": [
    "test.Владельцы = test.Владельцы.apply(lambda x: x[0])"
   ]
  },
  {
   "cell_type": "code",
   "execution_count": 137,
   "metadata": {},
   "outputs": [
    {
     "data": {
      "text/plain": [
       "3    15957\n",
       "1     9459\n",
       "2     9270\n",
       "Name: Владельцы, dtype: int64"
      ]
     },
     "execution_count": 137,
     "metadata": {},
     "output_type": "execute_result"
    }
   ],
   "source": [
    "test.Владельцы.value_counts()"
   ]
  },
  {
   "cell_type": "code",
   "execution_count": 138,
   "metadata": {},
   "outputs": [],
   "source": [
    "train.Владельцы = train.Владельцы.values.astype('int64')\n",
    "test.Владельцы = test.Владельцы.values.astype('int64')"
   ]
  },
  {
   "cell_type": "code",
   "execution_count": 139,
   "metadata": {},
   "outputs": [
    {
     "data": {
      "image/png": "[encoded data removed]",
      "text/plain": [
       "<Figure size 576x360 with 1 Axes>"
      ]
     },
     "metadata": {
      "needs_background": "light"
     },
     "output_type": "display_data"
    }
   ],
   "source": [
    "plt.figure(figsize=(8, 5))\n",
    "g1 = sns.boxplot(y='log_price', x='Владельцы', \n",
    "                  data=train, color='darkgreen')\n",
    "g1.set_title(\"price of Владельцы\", fontsize=20)\n",
    "\n",
    "g1.set_ylabel(\"log_price\", fontsize=15)\n",
    "g1.set_xticklabels(g1.get_xticklabels(),rotation=45)\n",
    "plt.show()"
   ]
  },
  {
   "cell_type": "code",
   "execution_count": null,
   "metadata": {},
   "outputs": [],
   "source": []
  },
  {
   "cell_type": "code",
   "execution_count": 140,
   "metadata": {},
   "outputs": [
    {
     "data": {
      "text/plain": [
       "56964"
      ]
     },
     "execution_count": 140,
     "metadata": {},
     "output_type": "execute_result"
    }
   ],
   "source": [
    "train.Владение.isna().sum()"
   ]
  },
  {
   "cell_type": "code",
   "execution_count": 141,
   "metadata": {},
   "outputs": [
    {
     "data": {
      "text/plain": [
       "22691"
      ]
     },
     "execution_count": 141,
     "metadata": {},
     "output_type": "execute_result"
    }
   ],
   "source": [
    "test.Владение.isna().sum()"
   ]
  },
  {
   "cell_type": "code",
   "execution_count": 142,
   "metadata": {},
   "outputs": [
    {
     "data": {
      "text/plain": [
       "0                                NaN\n",
       "1                                NaN\n",
       "2                                NaN\n",
       "3                                NaN\n",
       "4                                NaN\n",
       "                    ...             \n",
       "77444                            NaN\n",
       "77445                            NaN\n",
       "77446     {'year': 2018, 'month': 4}\n",
       "77447    {'year': 2017, 'month': 10}\n",
       "77448    {'year': 2013, 'month': 12}\n",
       "Name: Владение, Length: 77150, dtype: object"
      ]
     },
     "execution_count": 142,
     "metadata": {},
     "output_type": "execute_result"
    }
   ],
   "source": [
    "train.Владение"
   ]
  },
  {
   "cell_type": "code",
   "execution_count": 143,
   "metadata": {},
   "outputs": [
    {
     "data": {
      "text/html": [
       "<div>\n",
       "<style scoped>\n",
       "    .dataframe tbody tr th:only-of-type {\n",
       "        vertical-align: middle;\n",
       "    }\n",
       "\n",
       "    .dataframe tbody tr th {\n",
       "        vertical-align: top;\n",
       "    }\n",
       "\n",
       "    .dataframe thead th {\n",
       "        text-align: right;\n",
       "    }\n",
       "</style>\n",
       "<table border=\"1\" class=\"dataframe\">\n",
       "  <thead>\n",
       "    <tr style=\"text-align: right;\">\n",
       "      <th></th>\n",
       "      <th>count</th>\n",
       "      <th>unique</th>\n",
       "      <th>top</th>\n",
       "      <th>freq</th>\n",
       "    </tr>\n",
       "    <tr>\n",
       "      <th>Владельцы</th>\n",
       "      <th></th>\n",
       "      <th></th>\n",
       "      <th></th>\n",
       "      <th></th>\n",
       "    </tr>\n",
       "  </thead>\n",
       "  <tbody>\n",
       "    <tr>\n",
       "      <th>1</th>\n",
       "      <td>5365</td>\n",
       "      <td>245</td>\n",
       "      <td>{'year': 2018, 'month': 12}</td>\n",
       "      <td>85</td>\n",
       "    </tr>\n",
       "    <tr>\n",
       "      <th>2</th>\n",
       "      <td>5448</td>\n",
       "      <td>239</td>\n",
       "      <td>{'year': 2018, 'month': 11}</td>\n",
       "      <td>119</td>\n",
       "    </tr>\n",
       "    <tr>\n",
       "      <th>3</th>\n",
       "      <td>9373</td>\n",
       "      <td>242</td>\n",
       "      <td>{'year': 2019, 'month': 8}</td>\n",
       "      <td>212</td>\n",
       "    </tr>\n",
       "  </tbody>\n",
       "</table>\n",
       "</div>"
      ],
      "text/plain": [
       "          count unique                          top freq\n",
       "Владельцы                                               \n",
       "1          5365    245  {'year': 2018, 'month': 12}   85\n",
       "2          5448    239  {'year': 2018, 'month': 11}  119\n",
       "3          9373    242   {'year': 2019, 'month': 8}  212"
      ]
     },
     "execution_count": 143,
     "metadata": {},
     "output_type": "execute_result"
    }
   ],
   "source": [
    "train.groupby('Владельцы').Владение.describe()"
   ]
  },
  {
   "cell_type": "code",
   "execution_count": null,
   "metadata": {},
   "outputs": [],
   "source": []
  },
  {
   "cell_type": "code",
   "execution_count": 144,
   "metadata": {},
   "outputs": [],
   "source": [
    "train.Руль = train.Руль.apply(lambda x: 'Левый' if x == 'LEFT' else 'Правый')"
   ]
  },
  {
   "cell_type": "code",
   "execution_count": 145,
   "metadata": {},
   "outputs": [
    {
     "data": {
      "text/plain": [
       "Левый     33287\n",
       "Правый     1399\n",
       "Name: Руль, dtype: int64"
      ]
     },
     "execution_count": 145,
     "metadata": {},
     "output_type": "execute_result"
    }
   ],
   "source": [
    "test.Руль.value_counts()"
   ]
  },
  {
   "cell_type": "code",
   "execution_count": 146,
   "metadata": {},
   "outputs": [
    {
     "data": {
      "text/plain": [
       "Левый     75753\n",
       "Правый     1397\n",
       "Name: Руль, dtype: int64"
      ]
     },
     "execution_count": 146,
     "metadata": {},
     "output_type": "execute_result"
    }
   ],
   "source": [
    "train.Руль.value_counts()"
   ]
  },
  {
   "cell_type": "code",
   "execution_count": 147,
   "metadata": {},
   "outputs": [
    {
     "data": {
      "image/png": "[encoded data removed]",
      "text/plain": [
       "<Figure size 576x360 with 1 Axes>"
      ]
     },
     "metadata": {
      "needs_background": "light"
     },
     "output_type": "display_data"
    }
   ],
   "source": [
    "plt.figure(figsize=(8, 5))\n",
    "g1 = sns.boxplot(y='log_price', x='Руль', \n",
    "                  data=train, color='darkgreen')\n",
    "g1.set_title(\"price of Руль\", fontsize=20)\n",
    "\n",
    "g1.set_ylabel(\"log_price\", fontsize=15)\n",
    "g1.set_xticklabels(g1.get_xticklabels(),rotation=45)\n",
    "plt.show()"
   ]
  },
  {
   "cell_type": "code",
   "execution_count": 148,
   "metadata": {},
   "outputs": [],
   "source": [
    "train.ПТС = train.ПТС.apply(lambda x: 'Оригинал' if x == 'ORIGINAL' else 'Дубликат')"
   ]
  },
  {
   "cell_type": "code",
   "execution_count": 149,
   "metadata": {},
   "outputs": [
    {
     "data": {
      "text/plain": [
       "Оригинал    68473\n",
       "Дубликат     8677\n",
       "Name: ПТС, dtype: int64"
      ]
     },
     "execution_count": 149,
     "metadata": {},
     "output_type": "execute_result"
    }
   ],
   "source": [
    "train.ПТС.value_counts()"
   ]
  },
  {
   "cell_type": "code",
   "execution_count": 150,
   "metadata": {},
   "outputs": [
    {
     "data": {
      "image/png": "[encoded data removed]",
      "text/plain": [
       "<Figure size 576x360 with 1 Axes>"
      ]
     },
     "metadata": {
      "needs_background": "light"
     },
     "output_type": "display_data"
    }
   ],
   "source": [
    "plt.figure(figsize=(8, 5))\n",
    "g1 = sns.boxplot(y='log_price', x='ПТС', \n",
    "                  data=train, color='darkgreen')\n",
    "g1.set_title(\"price of ПТС\", fontsize=20)\n",
    "\n",
    "g1.set_ylabel(\"log_price\", fontsize=15)\n",
    "g1.set_xticklabels(g1.get_xticklabels(),rotation=45)\n",
    "plt.show()"
   ]
  },
  {
   "cell_type": "code",
   "execution_count": 151,
   "metadata": {},
   "outputs": [
    {
     "data": {
      "text/plain": [
       "75496"
      ]
     },
     "execution_count": 151,
     "metadata": {},
     "output_type": "execute_result"
    }
   ],
   "source": [
    "train.sell_id.nunique()"
   ]
  },
  {
   "cell_type": "code",
   "execution_count": 152,
   "metadata": {},
   "outputs": [
    {
     "data": {
      "text/plain": [
       "<AxesSubplot:>"
      ]
     },
     "execution_count": 152,
     "metadata": {},
     "output_type": "execute_result"
    },
    {
     "data": {
      "image/png": "[encoded data removed]",
      "text/plain": [
       "<Figure size 432x288 with 1 Axes>"
      ]
     },
     "metadata": {
      "needs_background": "light"
     },
     "output_type": "display_data"
    }
   ],
   "source": [
    "train['sell_id'].plot()"
   ]
  },
  {
   "cell_type": "code",
   "execution_count": null,
   "metadata": {},
   "outputs": [],
   "source": []
  },
  {
   "cell_type": "code",
   "execution_count": 153,
   "metadata": {},
   "outputs": [
    {
     "data": {
      "text/plain": [
       "бензин     63671\n",
       "дизель     13139\n",
       "гибрид       233\n",
       "электро       93\n",
       "газ           14\n",
       "Name: fuelType, dtype: int64"
      ]
     },
     "execution_count": 153,
     "metadata": {},
     "output_type": "execute_result"
    }
   ],
   "source": [
    "train.fuelType.value_counts()"
   ]
  },
  {
   "cell_type": "code",
   "execution_count": 154,
   "metadata": {},
   "outputs": [
    {
     "data": {
      "image/png": "[encoded data removed]",
      "text/plain": [
       "<Figure size 576x360 with 1 Axes>"
      ]
     },
     "metadata": {
      "needs_background": "light"
     },
     "output_type": "display_data"
    }
   ],
   "source": [
    "plt.figure(figsize=(8, 5))\n",
    "g1 = sns.boxplot(y='log_price', x='fuelType', \n",
    "                  data=train, color='darkgreen')\n",
    "g1.set_title(\"price of fuelType\", fontsize=20)\n",
    "\n",
    "g1.set_ylabel(\"log_price\", fontsize=15)\n",
    "g1.set_xticklabels(g1.get_xticklabels(),rotation=45)\n",
    "\n",
    "\n",
    "plt.show()"
   ]
  },
  {
   "cell_type": "code",
   "execution_count": 155,
   "metadata": {},
   "outputs": [
    {
     "data": {
      "text/plain": [
       "\"{'id': '7879492', 'displacement': 2598, 'engine_type': 'GASOLINE', 'gear_type': 'FORWARD_CONTROL', 'transmission': 'MECHANICAL', 'power': 150, 'power_kvt': 110, 'human_name': '2.6 MT (150 л.с.)', 'acceleration': 9.5, 'clearance_min': 130, 'fuel_rate': 8.7}\""
      ]
     },
     "execution_count": 155,
     "metadata": {},
     "output_type": "execute_result"
    }
   ],
   "source": [
    "train.super_gen[2]"
   ]
  },
  {
   "cell_type": "code",
   "execution_count": 156,
   "metadata": {},
   "outputs": [
    {
     "data": {
      "text/plain": [
       "'{\"id\":\"20026323\",\"nameplate\":\"DSG\",\"displacement\":1798,\"engine_type\":\"GASOLINE\",\"gear_type\":\"FORWARD_CONTROL\",\"transmission\":\"ROBOT\",\"power\":152,\"power_kvt\":112,\"human_name\":\"DSG 1.8 AMT (152 л.с.)\",\"acceleration\":8.7,\"clearance_min\":139,\"fuel_rate\":7.1,\"clearance_max\":158}'"
      ]
     },
     "execution_count": 156,
     "metadata": {},
     "output_type": "execute_result"
    }
   ],
   "source": [
    "test.super_gen[2]"
   ]
  },
  {
   "cell_type": "code",
   "execution_count": null,
   "metadata": {},
   "outputs": [],
   "source": []
  },
  {
   "cell_type": "code",
   "execution_count": 157,
   "metadata": {},
   "outputs": [
    {
     "data": {
      "text/plain": [
       "EUROPEAN    20682\n",
       "JAPANESE    14004\n",
       "Name: vendor, dtype: int64"
      ]
     },
     "execution_count": 157,
     "metadata": {},
     "output_type": "execute_result"
    }
   ],
   "source": [
    "test.vendor.value_counts()\n"
   ]
  },
  {
   "cell_type": "code",
   "execution_count": 158,
   "metadata": {},
   "outputs": [
    {
     "data": {
      "image/png": "[encoded data removed]",
      "text/plain": [
       "<Figure size 576x360 with 1 Axes>"
      ]
     },
     "metadata": {
      "needs_background": "light"
     },
     "output_type": "display_data"
    }
   ],
   "source": [
    "plt.figure(figsize=(8, 5))\n",
    "g1 = sns.boxplot(y='log_price', x='vendor', \n",
    "                  data=train, color='darkgreen')\n",
    "g1.set_title(\"price of vendor\", fontsize=20)\n",
    "\n",
    "g1.set_ylabel(\"log_price\", fontsize=15)\n",
    "g1.set_xticklabels(g1.get_xticklabels(),rotation=45)\n",
    "\n",
    "\n",
    "plt.show()"
   ]
  },
  {
   "cell_type": "code",
   "execution_count": 159,
   "metadata": {},
   "outputs": [
    {
     "data": {
      "text/plain": [
       "count      77150.000000\n",
       "mean      123501.991212\n",
       "std       104709.575201\n",
       "min            0.000000\n",
       "25%        28770.250000\n",
       "50%       117000.000000\n",
       "75%       186000.000000\n",
       "max      1000000.000000\n",
       "Name: mileage, dtype: float64"
      ]
     },
     "execution_count": 159,
     "metadata": {},
     "output_type": "execute_result"
    }
   ],
   "source": [
    "train.mileage.describe()"
   ]
  },
  {
   "cell_type": "code",
   "execution_count": 160,
   "metadata": {},
   "outputs": [
    {
     "data": {
      "text/html": [
       "<div>\n",
       "<style scoped>\n",
       "    .dataframe tbody tr th:only-of-type {\n",
       "        vertical-align: middle;\n",
       "    }\n",
       "\n",
       "    .dataframe tbody tr th {\n",
       "        vertical-align: top;\n",
       "    }\n",
       "\n",
       "    .dataframe thead th {\n",
       "        text-align: right;\n",
       "    }\n",
       "</style>\n",
       "<table border=\"1\" class=\"dataframe\">\n",
       "  <thead>\n",
       "    <tr style=\"text-align: right;\">\n",
       "      <th></th>\n",
       "      <th>count</th>\n",
       "      <th>mean</th>\n",
       "      <th>std</th>\n",
       "      <th>min</th>\n",
       "      <th>25%</th>\n",
       "      <th>50%</th>\n",
       "      <th>75%</th>\n",
       "      <th>max</th>\n",
       "    </tr>\n",
       "    <tr>\n",
       "      <th>years_old</th>\n",
       "      <th></th>\n",
       "      <th></th>\n",
       "      <th></th>\n",
       "      <th></th>\n",
       "      <th></th>\n",
       "      <th></th>\n",
       "      <th></th>\n",
       "      <th></th>\n",
       "    </tr>\n",
       "  </thead>\n",
       "  <tbody>\n",
       "    <tr>\n",
       "      <th>0</th>\n",
       "      <td>15423.0</td>\n",
       "      <td>4368962.5</td>\n",
       "      <td>3406891.0</td>\n",
       "      <td>627000.0</td>\n",
       "      <td>1920950.0</td>\n",
       "      <td>3459000.0</td>\n",
       "      <td>5581870.5</td>\n",
       "      <td>32400000.0</td>\n",
       "    </tr>\n",
       "    <tr>\n",
       "      <th>1</th>\n",
       "      <td>485.0</td>\n",
       "      <td>7805545.5</td>\n",
       "      <td>4756930.5</td>\n",
       "      <td>959900.0</td>\n",
       "      <td>3460000.0</td>\n",
       "      <td>7600000.0</td>\n",
       "      <td>12667200.0</td>\n",
       "      <td>20770330.0</td>\n",
       "    </tr>\n",
       "    <tr>\n",
       "      <th>2</th>\n",
       "      <td>19.0</td>\n",
       "      <td>29321222.0</td>\n",
       "      <td>27220474.0</td>\n",
       "      <td>1673000.0</td>\n",
       "      <td>4642500.0</td>\n",
       "      <td>7123538.0</td>\n",
       "      <td>58043592.0</td>\n",
       "      <td>58997576.0</td>\n",
       "    </tr>\n",
       "  </tbody>\n",
       "</table>\n",
       "</div>"
      ],
      "text/plain": [
       "             count        mean         std        min        25%        50%  \\\n",
       "years_old                                                                     \n",
       "0          15423.0   4368962.5   3406891.0   627000.0  1920950.0  3459000.0   \n",
       "1            485.0   7805545.5   4756930.5   959900.0  3460000.0  7600000.0   \n",
       "2             19.0  29321222.0  27220474.0  1673000.0  4642500.0  7123538.0   \n",
       "\n",
       "                  75%         max  \n",
       "years_old                          \n",
       "0           5581870.5  32400000.0  \n",
       "1          12667200.0  20770330.0  \n",
       "2          58043592.0  58997576.0  "
      ]
     },
     "execution_count": 160,
     "metadata": {},
     "output_type": "execute_result"
    }
   ],
   "source": [
    "train[train.mileage == 0].groupby('years_old').price.describe()\n"
   ]
  },
  {
   "cell_type": "markdown",
   "metadata": {},
   "source": []
  },
  {
   "cell_type": "code",
   "execution_count": 161,
   "metadata": {},
   "outputs": [
    {
     "data": {
      "text/plain": [
       "years_old\n",
       "0       120.078311\n",
       "1     19717.065450\n",
       "2     48917.504817\n",
       "3     70666.392130\n",
       "4     88128.355848\n",
       "5    100563.808743\n",
       "6    114901.665296\n",
       "7    127096.045980\n",
       "8    135968.694611\n",
       "9    147173.074225\n",
       "Name: mileage, dtype: float64"
      ]
     },
     "execution_count": 161,
     "metadata": {},
     "output_type": "execute_result"
    }
   ],
   "source": [
    "train.groupby('years_old').mileage.mean().head(10)\n"
   ]
  },
  {
   "cell_type": "code",
   "execution_count": 162,
   "metadata": {},
   "outputs": [],
   "source": [
    "train['mileageNAN'] = train.mileageNAN * (train.years_old * 20000 + 10000)"
   ]
  },
  {
   "cell_type": "code",
   "execution_count": 163,
   "metadata": {},
   "outputs": [],
   "source": [
    "train.mileage = train.mileage + train.mileageNAN\n"
   ]
  },
  {
   "cell_type": "code",
   "execution_count": 164,
   "metadata": {},
   "outputs": [
    {
     "data": {
      "text/plain": [
       "count      77150.000000\n",
       "mean      125701.991212\n",
       "std       102186.613759\n",
       "min            1.000000\n",
       "25%        30000.000000\n",
       "50%       117000.000000\n",
       "75%       186000.000000\n",
       "max      1000000.000000\n",
       "Name: mileage, dtype: float64"
      ]
     },
     "execution_count": 164,
     "metadata": {},
     "output_type": "execute_result"
    }
   ],
   "source": [
    "train.mileage.describe()\n"
   ]
  },
  {
   "cell_type": "code",
   "execution_count": 165,
   "metadata": {},
   "outputs": [
    {
     "data": {
      "text/plain": [
       "45944    1956\n",
       "56361    2020\n",
       "70389    2020\n",
       "70483    2020\n",
       "76421    2020\n",
       "76528    2020\n",
       "76546    2020\n",
       "76548    2020\n",
       "76561    2020\n",
       "76584    2020\n",
       "Name: productionDate, dtype: int64"
      ]
     },
     "execution_count": 165,
     "metadata": {},
     "output_type": "execute_result"
    }
   ],
   "source": [
    "train[train.mileage == 1].productionDate\n"
   ]
  },
  {
   "cell_type": "code",
   "execution_count": 166,
   "metadata": {},
   "outputs": [],
   "source": [
    "train['mileage'] = train['mileage'].apply(lambda x: 1000 if x <100 else x)\n",
    "test['mileage'] = test['mileage'].apply(lambda x: 1000 if x < 100 else x)"
   ]
  },
  {
   "cell_type": "code",
   "execution_count": 167,
   "metadata": {},
   "outputs": [
    {
     "data": {
      "text/plain": [
       "count      77150.000000\n",
       "mean      125703.979209\n",
       "std       102184.178207\n",
       "min          100.000000\n",
       "25%        30000.000000\n",
       "50%       117000.000000\n",
       "75%       186000.000000\n",
       "max      1000000.000000\n",
       "Name: mileage, dtype: float64"
      ]
     },
     "execution_count": 167,
     "metadata": {},
     "output_type": "execute_result"
    }
   ],
   "source": [
    "train.mileage.describe()"
   ]
  },
  {
   "cell_type": "code",
   "execution_count": 168,
   "metadata": {},
   "outputs": [
    {
     "data": {
      "text/plain": [
       "передний    15565\n",
       "полный      15020\n",
       "задний       4101\n",
       "Name: Привод, dtype: int64"
      ]
     },
     "execution_count": 168,
     "metadata": {},
     "output_type": "execute_result"
    }
   ],
   "source": [
    "test.Привод.value_counts()"
   ]
  },
  {
   "cell_type": "code",
   "execution_count": 169,
   "metadata": {},
   "outputs": [
    {
     "data": {
      "image/png": "[encoded data removed]",
      "text/plain": [
       "<Figure size 576x360 with 1 Axes>"
      ]
     },
     "metadata": {
      "needs_background": "light"
     },
     "output_type": "display_data"
    }
   ],
   "source": [
    "plt.figure(figsize=(8, 5))\n",
    "g1 = sns.boxplot(y='log_price', x='Привод', \n",
    "                  data=train, color='darkgreen')\n",
    "g1.set_title(\"price of Привод\", fontsize=20)\n",
    "\n",
    "g1.set_ylabel(\"log_price\", fontsize=15)\n",
    "g1.set_xticklabels(g1.get_xticklabels(),rotation=45)\n",
    "\n",
    "\n",
    "plt.show()"
   ]
  },
  {
   "cell_type": "code",
   "execution_count": 170,
   "metadata": {},
   "outputs": [
    {
     "data": {
      "text/plain": [
       "count    7.715000e+04\n",
       "mean     1.714545e+06\n",
       "std      2.524509e+06\n",
       "min      2.000000e+04\n",
       "25%      4.000000e+05\n",
       "50%      8.000000e+05\n",
       "75%      1.890000e+06\n",
       "max      7.200000e+07\n",
       "Name: price, dtype: float64"
      ]
     },
     "execution_count": 170,
     "metadata": {},
     "output_type": "execute_result"
    }
   ],
   "source": [
    "train.price.describe()"
   ]
  },
  {
   "cell_type": "code",
   "execution_count": 171,
   "metadata": {},
   "outputs": [
    {
     "data": {
      "text/html": [
       "<div>\n",
       "<style scoped>\n",
       "    .dataframe tbody tr th:only-of-type {\n",
       "        vertical-align: middle;\n",
       "    }\n",
       "\n",
       "    .dataframe tbody tr th {\n",
       "        vertical-align: top;\n",
       "    }\n",
       "\n",
       "    .dataframe thead th {\n",
       "        text-align: right;\n",
       "    }\n",
       "</style>\n",
       "<table border=\"1\" class=\"dataframe\">\n",
       "  <thead>\n",
       "    <tr style=\"text-align: right;\">\n",
       "      <th></th>\n",
       "      <th>bodyType</th>\n",
       "      <th>brand</th>\n",
       "      <th>color</th>\n",
       "      <th>complectation_dict</th>\n",
       "      <th>description</th>\n",
       "      <th>engineDisplacement</th>\n",
       "      <th>enginePower</th>\n",
       "      <th>equipment_dict</th>\n",
       "      <th>fuelType</th>\n",
       "      <th>image</th>\n",
       "      <th>...</th>\n",
       "      <th>mileageNAN</th>\n",
       "      <th>bodyType2</th>\n",
       "      <th>log_price</th>\n",
       "      <th>bT_length</th>\n",
       "      <th>brand_length</th>\n",
       "      <th>log_power</th>\n",
       "      <th>Nalog_base</th>\n",
       "      <th>Nalog</th>\n",
       "      <th>years_old</th>\n",
       "      <th>age_intervals</th>\n",
       "    </tr>\n",
       "  </thead>\n",
       "  <tbody>\n",
       "    <tr>\n",
       "      <th>45944</th>\n",
       "      <td>Кабриолет</td>\n",
       "      <td>other</td>\n",
       "      <td>серый</td>\n",
       "      <td>{'id': '0'}</td>\n",
       "      <td>Porsche 356 Speedster 1956 года. \\nОдин из 300...</td>\n",
       "      <td>1.6</td>\n",
       "      <td>105.0</td>\n",
       "      <td>{'12v-socket': True, 'drl': True}</td>\n",
       "      <td>бензин</td>\n",
       "      <td>6</td>\n",
       "      <td>...</td>\n",
       "      <td>0</td>\n",
       "      <td>другой</td>\n",
       "      <td>17.903238</td>\n",
       "      <td>9</td>\n",
       "      <td>5</td>\n",
       "      <td>4.653960</td>\n",
       "      <td>25</td>\n",
       "      <td>2625.0</td>\n",
       "      <td>64</td>\n",
       "      <td>116</td>\n",
       "    </tr>\n",
       "    <tr>\n",
       "      <th>70349</th>\n",
       "      <td>Внедорожник 5 дв.</td>\n",
       "      <td>MERCEDES</td>\n",
       "      <td>чёрный</td>\n",
       "      <td>{'id': '21715492', 'name': 'Individual', 'avai...</td>\n",
       "      <td>BRABUS G700 WIDESTAR на базе G63\\n700 л.с.\\n\\n...</td>\n",
       "      <td>4.0</td>\n",
       "      <td>700.0</td>\n",
       "      <td>{'cruise-control': True, 'asr': True, 'tinted-...</td>\n",
       "      <td>бензин</td>\n",
       "      <td>15</td>\n",
       "      <td>...</td>\n",
       "      <td>10000</td>\n",
       "      <td>Внедорожник 5 дв.</td>\n",
       "      <td>17.223352</td>\n",
       "      <td>17</td>\n",
       "      <td>8</td>\n",
       "      <td>6.551080</td>\n",
       "      <td>150</td>\n",
       "      <td>105000.0</td>\n",
       "      <td>0</td>\n",
       "      <td>3</td>\n",
       "    </tr>\n",
       "    <tr>\n",
       "      <th>70507</th>\n",
       "      <td>Внедорожник 5 дв.</td>\n",
       "      <td>MERCEDES</td>\n",
       "      <td>чёрный</td>\n",
       "      <td>{'id': '21715492', 'name': 'Individual', 'avai...</td>\n",
       "      <td>BRABUS G800 WIDESTAR на базе G63\\n800 л.с.\\n\\n...</td>\n",
       "      <td>4.0</td>\n",
       "      <td>800.0</td>\n",
       "      <td>{'cruise-control': True, 'asr': True, 'tinted-...</td>\n",
       "      <td>бензин</td>\n",
       "      <td>18</td>\n",
       "      <td>...</td>\n",
       "      <td>10000</td>\n",
       "      <td>Внедорожник 5 дв.</td>\n",
       "      <td>17.293669</td>\n",
       "      <td>17</td>\n",
       "      <td>8</td>\n",
       "      <td>6.684612</td>\n",
       "      <td>150</td>\n",
       "      <td>120000.0</td>\n",
       "      <td>0</td>\n",
       "      <td>3</td>\n",
       "    </tr>\n",
       "    <tr>\n",
       "      <th>75406</th>\n",
       "      <td>Седан</td>\n",
       "      <td>MERCEDES</td>\n",
       "      <td>чёрный</td>\n",
       "      <td>{'id': '21193010', 'name': 'S 650', 'available...</td>\n",
       "      <td>Гарантия сохранения цены.\\n\\nДни продаж «Мерсе...</td>\n",
       "      <td>6.0</td>\n",
       "      <td>630.0</td>\n",
       "      <td>{'228': True, '301': True, '401': True, '443':...</td>\n",
       "      <td>бензин</td>\n",
       "      <td>16</td>\n",
       "      <td>...</td>\n",
       "      <td>50000</td>\n",
       "      <td>Седан</td>\n",
       "      <td>17.893007</td>\n",
       "      <td>5</td>\n",
       "      <td>8</td>\n",
       "      <td>6.445720</td>\n",
       "      <td>150</td>\n",
       "      <td>94500.0</td>\n",
       "      <td>2</td>\n",
       "      <td>3</td>\n",
       "    </tr>\n",
       "    <tr>\n",
       "      <th>75409</th>\n",
       "      <td>Седан</td>\n",
       "      <td>MERCEDES</td>\n",
       "      <td>серебристый</td>\n",
       "      <td>{'id': '21193010', 'name': 'S 650', 'available...</td>\n",
       "      <td>Гарантия сохранения цены.\\n\\nДни продаж «Мерсе...</td>\n",
       "      <td>6.0</td>\n",
       "      <td>630.0</td>\n",
       "      <td>{'228': True, '301': True, '401': True, '531':...</td>\n",
       "      <td>бензин</td>\n",
       "      <td>12</td>\n",
       "      <td>...</td>\n",
       "      <td>50000</td>\n",
       "      <td>Седан</td>\n",
       "      <td>17.876705</td>\n",
       "      <td>5</td>\n",
       "      <td>8</td>\n",
       "      <td>6.445720</td>\n",
       "      <td>150</td>\n",
       "      <td>94500.0</td>\n",
       "      <td>2</td>\n",
       "      <td>3</td>\n",
       "    </tr>\n",
       "    <tr>\n",
       "      <th>75411</th>\n",
       "      <td>Седан</td>\n",
       "      <td>MERCEDES</td>\n",
       "      <td>серый</td>\n",
       "      <td>{'id': '21193010', 'name': 'S 650', 'available...</td>\n",
       "      <td>Гарантия сохранения цены.\\n\\nДни продаж «Мерсе...</td>\n",
       "      <td>6.0</td>\n",
       "      <td>630.0</td>\n",
       "      <td>{'301': True, '401': True, '443': True, '531':...</td>\n",
       "      <td>бензин</td>\n",
       "      <td>5</td>\n",
       "      <td>...</td>\n",
       "      <td>50000</td>\n",
       "      <td>Седан</td>\n",
       "      <td>17.814140</td>\n",
       "      <td>5</td>\n",
       "      <td>8</td>\n",
       "      <td>6.445720</td>\n",
       "      <td>150</td>\n",
       "      <td>94500.0</td>\n",
       "      <td>2</td>\n",
       "      <td>3</td>\n",
       "    </tr>\n",
       "    <tr>\n",
       "      <th>75413</th>\n",
       "      <td>Седан</td>\n",
       "      <td>MERCEDES</td>\n",
       "      <td>чёрный</td>\n",
       "      <td>{'id': '21193010', 'name': 'S 650', 'available...</td>\n",
       "      <td>Гарантия сохранения цены.\\n\\nДни продаж «Мерсе...</td>\n",
       "      <td>6.0</td>\n",
       "      <td>630.0</td>\n",
       "      <td>{'228': True, '301': True, '401': True, '443':...</td>\n",
       "      <td>бензин</td>\n",
       "      <td>2</td>\n",
       "      <td>...</td>\n",
       "      <td>50000</td>\n",
       "      <td>Седан</td>\n",
       "      <td>17.893007</td>\n",
       "      <td>5</td>\n",
       "      <td>8</td>\n",
       "      <td>6.445720</td>\n",
       "      <td>150</td>\n",
       "      <td>94500.0</td>\n",
       "      <td>2</td>\n",
       "      <td>3</td>\n",
       "    </tr>\n",
       "    <tr>\n",
       "      <th>75444</th>\n",
       "      <td>Седан</td>\n",
       "      <td>MERCEDES</td>\n",
       "      <td>серебристый</td>\n",
       "      <td>{'id': '21193010', 'name': 'S 650', 'available...</td>\n",
       "      <td>Гарантия сохранения цены.\\n\\nДни продаж «Мерсе...</td>\n",
       "      <td>6.0</td>\n",
       "      <td>630.0</td>\n",
       "      <td>{'228': True, '301': True, '401': True, '531':...</td>\n",
       "      <td>бензин</td>\n",
       "      <td>2</td>\n",
       "      <td>...</td>\n",
       "      <td>50000</td>\n",
       "      <td>Седан</td>\n",
       "      <td>17.876705</td>\n",
       "      <td>5</td>\n",
       "      <td>8</td>\n",
       "      <td>6.445720</td>\n",
       "      <td>150</td>\n",
       "      <td>94500.0</td>\n",
       "      <td>2</td>\n",
       "      <td>3</td>\n",
       "    </tr>\n",
       "    <tr>\n",
       "      <th>75448</th>\n",
       "      <td>Седан</td>\n",
       "      <td>MERCEDES</td>\n",
       "      <td>серый</td>\n",
       "      <td>{'id': '21193010', 'name': 'S 650', 'available...</td>\n",
       "      <td>Гарантия сохранения цены.\\n\\nДни продаж «Мерсе...</td>\n",
       "      <td>6.0</td>\n",
       "      <td>630.0</td>\n",
       "      <td>{'301': True, '401': True, '443': True, '531':...</td>\n",
       "      <td>бензин</td>\n",
       "      <td>2</td>\n",
       "      <td>...</td>\n",
       "      <td>50000</td>\n",
       "      <td>Седан</td>\n",
       "      <td>17.814140</td>\n",
       "      <td>5</td>\n",
       "      <td>8</td>\n",
       "      <td>6.445720</td>\n",
       "      <td>150</td>\n",
       "      <td>94500.0</td>\n",
       "      <td>2</td>\n",
       "      <td>3</td>\n",
       "    </tr>\n",
       "    <tr>\n",
       "      <th>75496</th>\n",
       "      <td>Седан</td>\n",
       "      <td>MERCEDES</td>\n",
       "      <td>чёрный</td>\n",
       "      <td>{'id': '21193010', 'name': 'S 650', 'available...</td>\n",
       "      <td>Гарантия сохранения цены.\\n\\nАвилон. Жара в го...</td>\n",
       "      <td>6.0</td>\n",
       "      <td>630.0</td>\n",
       "      <td>{'228': True, '301': True, '401': True, '443':...</td>\n",
       "      <td>бензин</td>\n",
       "      <td>16</td>\n",
       "      <td>...</td>\n",
       "      <td>50000</td>\n",
       "      <td>Седан</td>\n",
       "      <td>17.893007</td>\n",
       "      <td>5</td>\n",
       "      <td>8</td>\n",
       "      <td>6.445720</td>\n",
       "      <td>150</td>\n",
       "      <td>94500.0</td>\n",
       "      <td>2</td>\n",
       "      <td>3</td>\n",
       "    </tr>\n",
       "    <tr>\n",
       "      <th>75498</th>\n",
       "      <td>Седан</td>\n",
       "      <td>MERCEDES</td>\n",
       "      <td>серебристый</td>\n",
       "      <td>{'id': '21193010', 'name': 'S 650', 'available...</td>\n",
       "      <td>Гарантия сохранения цены.\\n\\nАвилон. Жара в го...</td>\n",
       "      <td>6.0</td>\n",
       "      <td>630.0</td>\n",
       "      <td>{'228': True, '301': True, '401': True, '531':...</td>\n",
       "      <td>бензин</td>\n",
       "      <td>12</td>\n",
       "      <td>...</td>\n",
       "      <td>50000</td>\n",
       "      <td>Седан</td>\n",
       "      <td>17.876705</td>\n",
       "      <td>5</td>\n",
       "      <td>8</td>\n",
       "      <td>6.445720</td>\n",
       "      <td>150</td>\n",
       "      <td>94500.0</td>\n",
       "      <td>2</td>\n",
       "      <td>3</td>\n",
       "    </tr>\n",
       "    <tr>\n",
       "      <th>75499</th>\n",
       "      <td>Седан</td>\n",
       "      <td>MERCEDES</td>\n",
       "      <td>серый</td>\n",
       "      <td>{'id': '21193010', 'name': 'S 650', 'available...</td>\n",
       "      <td>Гарантия сохранения цены.\\n\\nАвилон. Жара в го...</td>\n",
       "      <td>6.0</td>\n",
       "      <td>630.0</td>\n",
       "      <td>{'301': True, '401': True, '443': True, '531':...</td>\n",
       "      <td>бензин</td>\n",
       "      <td>5</td>\n",
       "      <td>...</td>\n",
       "      <td>50000</td>\n",
       "      <td>Седан</td>\n",
       "      <td>17.814140</td>\n",
       "      <td>5</td>\n",
       "      <td>8</td>\n",
       "      <td>6.445720</td>\n",
       "      <td>150</td>\n",
       "      <td>94500.0</td>\n",
       "      <td>2</td>\n",
       "      <td>3</td>\n",
       "    </tr>\n",
       "    <tr>\n",
       "      <th>76415</th>\n",
       "      <td>Купе</td>\n",
       "      <td>MERCEDES</td>\n",
       "      <td>чёрный</td>\n",
       "      <td>{'id': '0'}</td>\n",
       "      <td>Продам  Slr  в идеальном состоянии .\\nМашина и...</td>\n",
       "      <td>5.4</td>\n",
       "      <td>626.0</td>\n",
       "      <td>{}</td>\n",
       "      <td>бензин</td>\n",
       "      <td>13</td>\n",
       "      <td>...</td>\n",
       "      <td>0</td>\n",
       "      <td>Купе</td>\n",
       "      <td>18.092176</td>\n",
       "      <td>4</td>\n",
       "      <td>8</td>\n",
       "      <td>6.439350</td>\n",
       "      <td>150</td>\n",
       "      <td>93900.0</td>\n",
       "      <td>15</td>\n",
       "      <td>20</td>\n",
       "    </tr>\n",
       "    <tr>\n",
       "      <th>76910</th>\n",
       "      <td>Купе</td>\n",
       "      <td>MERCEDES</td>\n",
       "      <td>чёрный</td>\n",
       "      <td>{'id': '0'}</td>\n",
       "      <td>Автомобиль отреставрирован в Kienle, состояние...</td>\n",
       "      <td>3.0</td>\n",
       "      <td>150.0</td>\n",
       "      <td>{}</td>\n",
       "      <td>бензин</td>\n",
       "      <td>17</td>\n",
       "      <td>...</td>\n",
       "      <td>0</td>\n",
       "      <td>Купе</td>\n",
       "      <td>17.776323</td>\n",
       "      <td>4</td>\n",
       "      <td>8</td>\n",
       "      <td>5.010635</td>\n",
       "      <td>35</td>\n",
       "      <td>5250.0</td>\n",
       "      <td>68</td>\n",
       "      <td>116</td>\n",
       "    </tr>\n",
       "  </tbody>\n",
       "</table>\n",
       "<p>14 rows × 39 columns</p>\n",
       "</div>"
      ],
      "text/plain": [
       "                bodyType     brand        color  \\\n",
       "45944          Кабриолет     other        серый   \n",
       "70349  Внедорожник 5 дв.  MERCEDES       чёрный   \n",
       "70507  Внедорожник 5 дв.  MERCEDES       чёрный   \n",
       "75406              Седан  MERCEDES       чёрный   \n",
       "75409              Седан  MERCEDES  серебристый   \n",
       "75411              Седан  MERCEDES        серый   \n",
       "75413              Седан  MERCEDES       чёрный   \n",
       "75444              Седан  MERCEDES  серебристый   \n",
       "75448              Седан  MERCEDES        серый   \n",
       "75496              Седан  MERCEDES       чёрный   \n",
       "75498              Седан  MERCEDES  серебристый   \n",
       "75499              Седан  MERCEDES        серый   \n",
       "76415               Купе  MERCEDES       чёрный   \n",
       "76910               Купе  MERCEDES       чёрный   \n",
       "\n",
       "                                      complectation_dict  \\\n",
       "45944                                        {'id': '0'}   \n",
       "70349  {'id': '21715492', 'name': 'Individual', 'avai...   \n",
       "70507  {'id': '21715492', 'name': 'Individual', 'avai...   \n",
       "75406  {'id': '21193010', 'name': 'S 650', 'available...   \n",
       "75409  {'id': '21193010', 'name': 'S 650', 'available...   \n",
       "75411  {'id': '21193010', 'name': 'S 650', 'available...   \n",
       "75413  {'id': '21193010', 'name': 'S 650', 'available...   \n",
       "75444  {'id': '21193010', 'name': 'S 650', 'available...   \n",
       "75448  {'id': '21193010', 'name': 'S 650', 'available...   \n",
       "75496  {'id': '21193010', 'name': 'S 650', 'available...   \n",
       "75498  {'id': '21193010', 'name': 'S 650', 'available...   \n",
       "75499  {'id': '21193010', 'name': 'S 650', 'available...   \n",
       "76415                                        {'id': '0'}   \n",
       "76910                                        {'id': '0'}   \n",
       "\n",
       "                                             description  engineDisplacement  \\\n",
       "45944  Porsche 356 Speedster 1956 года. \\nОдин из 300...                 1.6   \n",
       "70349  BRABUS G700 WIDESTAR на базе G63\\n700 л.с.\\n\\n...                 4.0   \n",
       "70507  BRABUS G800 WIDESTAR на базе G63\\n800 л.с.\\n\\n...                 4.0   \n",
       "75406  Гарантия сохранения цены.\\n\\nДни продаж «Мерсе...                 6.0   \n",
       "75409  Гарантия сохранения цены.\\n\\nДни продаж «Мерсе...                 6.0   \n",
       "75411  Гарантия сохранения цены.\\n\\nДни продаж «Мерсе...                 6.0   \n",
       "75413  Гарантия сохранения цены.\\n\\nДни продаж «Мерсе...                 6.0   \n",
       "75444  Гарантия сохранения цены.\\n\\nДни продаж «Мерсе...                 6.0   \n",
       "75448  Гарантия сохранения цены.\\n\\nДни продаж «Мерсе...                 6.0   \n",
       "75496  Гарантия сохранения цены.\\n\\nАвилон. Жара в го...                 6.0   \n",
       "75498  Гарантия сохранения цены.\\n\\nАвилон. Жара в го...                 6.0   \n",
       "75499  Гарантия сохранения цены.\\n\\nАвилон. Жара в го...                 6.0   \n",
       "76415  Продам  Slr  в идеальном состоянии .\\nМашина и...                 5.4   \n",
       "76910  Автомобиль отреставрирован в Kienle, состояние...                 3.0   \n",
       "\n",
       "       enginePower                                     equipment_dict  \\\n",
       "45944        105.0                  {'12v-socket': True, 'drl': True}   \n",
       "70349        700.0  {'cruise-control': True, 'asr': True, 'tinted-...   \n",
       "70507        800.0  {'cruise-control': True, 'asr': True, 'tinted-...   \n",
       "75406        630.0  {'228': True, '301': True, '401': True, '443':...   \n",
       "75409        630.0  {'228': True, '301': True, '401': True, '531':...   \n",
       "75411        630.0  {'301': True, '401': True, '443': True, '531':...   \n",
       "75413        630.0  {'228': True, '301': True, '401': True, '443':...   \n",
       "75444        630.0  {'228': True, '301': True, '401': True, '531':...   \n",
       "75448        630.0  {'301': True, '401': True, '443': True, '531':...   \n",
       "75496        630.0  {'228': True, '301': True, '401': True, '443':...   \n",
       "75498        630.0  {'228': True, '301': True, '401': True, '531':...   \n",
       "75499        630.0  {'301': True, '401': True, '443': True, '531':...   \n",
       "76415        626.0                                                 {}   \n",
       "76910        150.0                                                 {}   \n",
       "\n",
       "      fuelType  image  ...  mileageNAN          bodyType2  log_price  \\\n",
       "45944   бензин      6  ...           0             другой  17.903238   \n",
       "70349   бензин     15  ...       10000  Внедорожник 5 дв.  17.223352   \n",
       "70507   бензин     18  ...       10000  Внедорожник 5 дв.  17.293669   \n",
       "75406   бензин     16  ...       50000              Седан  17.893007   \n",
       "75409   бензин     12  ...       50000              Седан  17.876705   \n",
       "75411   бензин      5  ...       50000              Седан  17.814140   \n",
       "75413   бензин      2  ...       50000              Седан  17.893007   \n",
       "75444   бензин      2  ...       50000              Седан  17.876705   \n",
       "75448   бензин      2  ...       50000              Седан  17.814140   \n",
       "75496   бензин     16  ...       50000              Седан  17.893007   \n",
       "75498   бензин     12  ...       50000              Седан  17.876705   \n",
       "75499   бензин      5  ...       50000              Седан  17.814140   \n",
       "76415   бензин     13  ...           0               Купе  18.092176   \n",
       "76910   бензин     17  ...           0               Купе  17.776323   \n",
       "\n",
       "      bT_length brand_length  log_power Nalog_base     Nalog  years_old  \\\n",
       "45944         9            5   4.653960         25    2625.0         64   \n",
       "70349        17            8   6.551080        150  105000.0          0   \n",
       "70507        17            8   6.684612        150  120000.0          0   \n",
       "75406         5            8   6.445720        150   94500.0          2   \n",
       "75409         5            8   6.445720        150   94500.0          2   \n",
       "75411         5            8   6.445720        150   94500.0          2   \n",
       "75413         5            8   6.445720        150   94500.0          2   \n",
       "75444         5            8   6.445720        150   94500.0          2   \n",
       "75448         5            8   6.445720        150   94500.0          2   \n",
       "75496         5            8   6.445720        150   94500.0          2   \n",
       "75498         5            8   6.445720        150   94500.0          2   \n",
       "75499         5            8   6.445720        150   94500.0          2   \n",
       "76415         4            8   6.439350        150   93900.0         15   \n",
       "76910         4            8   5.010635         35    5250.0         68   \n",
       "\n",
       "      age_intervals  \n",
       "45944           116  \n",
       "70349             3  \n",
       "70507             3  \n",
       "75406             3  \n",
       "75409             3  \n",
       "75411             3  \n",
       "75413             3  \n",
       "75444             3  \n",
       "75448             3  \n",
       "75496             3  \n",
       "75498             3  \n",
       "75499             3  \n",
       "76415            20  \n",
       "76910           116  \n",
       "\n",
       "[14 rows x 39 columns]"
      ]
     },
     "execution_count": 171,
     "metadata": {},
     "output_type": "execute_result"
    }
   ],
   "source": [
    "train[train.price > 30000000]"
   ]
  },
  {
   "cell_type": "code",
   "execution_count": 172,
   "metadata": {},
   "outputs": [
    {
     "data": {
      "text/plain": [
       "<AxesSubplot:>"
      ]
     },
     "execution_count": 172,
     "metadata": {},
     "output_type": "execute_result"
    },
    {
     "data": {
      "image/png": "[encoded data removed]",
      "text/plain": [
       "<Figure size 432x288 with 1 Axes>"
      ]
     },
     "metadata": {
      "needs_background": "light"
     },
     "output_type": "display_data"
    }
   ],
   "source": [
    "train['price'].hist(bins=77)"
   ]
  },
  {
   "cell_type": "code",
   "execution_count": 173,
   "metadata": {},
   "outputs": [
    {
     "data": {
      "text/plain": [
       "<AxesSubplot:>"
      ]
     },
     "execution_count": 173,
     "metadata": {},
     "output_type": "execute_result"
    },
    {
     "data": {
      "image/png": "[encoded data removed]",
      "text/plain": [
       "<Figure size 432x288 with 1 Axes>"
      ]
     },
     "metadata": {
      "needs_background": "light"
     },
     "output_type": "display_data"
    }
   ],
   "source": [
    "train['log_price'].hist(bins=77)"
   ]
  },
  {
   "cell_type": "code",
   "execution_count": 174,
   "metadata": {},
   "outputs": [],
   "source": [
    "columns_drop = ['model_info', 'name', 'car_url', 'sell_id', 'complectation_dict', 'equipment_dict',\n",
    "                'vehicleConfiguration','Владение', 'image', 'parsing_unixtime', 'super_gen',\n",
    "                'description', 'bodyType', 'log_power']\n",
    "# train.drop(columns_drop, axis=1, inplace=True)\n",
    "test.drop(columns_drop, axis=1, inplace=True)"
   ]
  },
  {
   "cell_type": "code",
   "execution_count": 175,
   "metadata": {},
   "outputs": [],
   "source": [
    "columns_drop1 = ['model_info', 'name',  'sell_id', 'complectation_dict', 'equipment_dict',\n",
    "                'vehicleConfiguration','Владение', 'image', 'super_gen',\n",
    "                'description', 'bodyType', 'log_power']\n",
    "train.drop(columns_drop1, axis=1, inplace=True)\n"
   ]
  },
  {
   "cell_type": "code",
   "execution_count": 176,
   "metadata": {},
   "outputs": [],
   "source": [
    "train.drop(columns = ['mileageNAN'], axis=1, inplace=True)"
   ]
  },
  {
   "cell_type": "code",
   "execution_count": 177,
   "metadata": {},
   "outputs": [
    {
     "data": {
      "text/html": [
       "<div>\n",
       "<style scoped>\n",
       "    .dataframe tbody tr th:only-of-type {\n",
       "        vertical-align: middle;\n",
       "    }\n",
       "\n",
       "    .dataframe tbody tr th {\n",
       "        vertical-align: top;\n",
       "    }\n",
       "\n",
       "    .dataframe thead th {\n",
       "        text-align: right;\n",
       "    }\n",
       "</style>\n",
       "<table border=\"1\" class=\"dataframe\">\n",
       "  <thead>\n",
       "    <tr style=\"text-align: right;\">\n",
       "      <th></th>\n",
       "      <th>engineDisplacement</th>\n",
       "      <th>enginePower</th>\n",
       "      <th>mileage</th>\n",
       "      <th>modelDate</th>\n",
       "      <th>numberOfDoors</th>\n",
       "      <th>productionDate</th>\n",
       "      <th>Владельцы</th>\n",
       "      <th>price</th>\n",
       "      <th>log_price</th>\n",
       "      <th>bT_length</th>\n",
       "      <th>brand_length</th>\n",
       "      <th>Nalog_base</th>\n",
       "      <th>Nalog</th>\n",
       "      <th>years_old</th>\n",
       "    </tr>\n",
       "  </thead>\n",
       "  <tbody>\n",
       "    <tr>\n",
       "      <th>count</th>\n",
       "      <td>77150.000000</td>\n",
       "      <td>77150.000000</td>\n",
       "      <td>77150.000000</td>\n",
       "      <td>77150.000000</td>\n",
       "      <td>77150.000000</td>\n",
       "      <td>77150.000000</td>\n",
       "      <td>77150.000000</td>\n",
       "      <td>7.715000e+04</td>\n",
       "      <td>77150.000000</td>\n",
       "      <td>77150.000000</td>\n",
       "      <td>77150.000000</td>\n",
       "      <td>77150.000000</td>\n",
       "      <td>77150.000000</td>\n",
       "      <td>77150.000000</td>\n",
       "    </tr>\n",
       "    <tr>\n",
       "      <th>mean</th>\n",
       "      <td>2.204995</td>\n",
       "      <td>176.484614</td>\n",
       "      <td>125703.979209</td>\n",
       "      <td>2009.456630</td>\n",
       "      <td>4.539248</td>\n",
       "      <td>2011.697265</td>\n",
       "      <td>2.341996</td>\n",
       "      <td>1.714545e+06</td>\n",
       "      <td>13.688847</td>\n",
       "      <td>11.796293</td>\n",
       "      <td>5.876993</td>\n",
       "      <td>52.348905</td>\n",
       "      <td>12603.235165</td>\n",
       "      <td>8.302735</td>\n",
       "    </tr>\n",
       "    <tr>\n",
       "      <th>std</th>\n",
       "      <td>0.882192</td>\n",
       "      <td>89.704091</td>\n",
       "      <td>102184.178207</td>\n",
       "      <td>7.696198</td>\n",
       "      <td>0.654107</td>\n",
       "      <td>7.238553</td>\n",
       "      <td>0.819276</td>\n",
       "      <td>2.524509e+06</td>\n",
       "      <td>1.140330</td>\n",
       "      <td>5.548183</td>\n",
       "      <td>1.939154</td>\n",
       "      <td>54.408711</td>\n",
       "      <td>17308.309867</td>\n",
       "      <td>7.238553</td>\n",
       "    </tr>\n",
       "    <tr>\n",
       "      <th>min</th>\n",
       "      <td>0.600000</td>\n",
       "      <td>11.000000</td>\n",
       "      <td>100.000000</td>\n",
       "      <td>1904.000000</td>\n",
       "      <td>0.000000</td>\n",
       "      <td>1904.000000</td>\n",
       "      <td>1.000000</td>\n",
       "      <td>2.000000e+04</td>\n",
       "      <td>9.903487</td>\n",
       "      <td>4.000000</td>\n",
       "      <td>3.000000</td>\n",
       "      <td>12.000000</td>\n",
       "      <td>456.000000</td>\n",
       "      <td>0.000000</td>\n",
       "    </tr>\n",
       "    <tr>\n",
       "      <th>25%</th>\n",
       "      <td>1.600000</td>\n",
       "      <td>115.000000</td>\n",
       "      <td>30000.000000</td>\n",
       "      <td>2005.000000</td>\n",
       "      <td>4.000000</td>\n",
       "      <td>2008.000000</td>\n",
       "      <td>2.000000</td>\n",
       "      <td>4.000000e+05</td>\n",
       "      <td>12.899220</td>\n",
       "      <td>5.000000</td>\n",
       "      <td>5.000000</td>\n",
       "      <td>25.000000</td>\n",
       "      <td>2875.000000</td>\n",
       "      <td>2.000000</td>\n",
       "    </tr>\n",
       "    <tr>\n",
       "      <th>50%</th>\n",
       "      <td>2.000000</td>\n",
       "      <td>150.000000</td>\n",
       "      <td>117000.000000</td>\n",
       "      <td>2010.000000</td>\n",
       "      <td>5.000000</td>\n",
       "      <td>2012.000000</td>\n",
       "      <td>3.000000</td>\n",
       "      <td>8.000000e+05</td>\n",
       "      <td>13.592367</td>\n",
       "      <td>13.000000</td>\n",
       "      <td>5.000000</td>\n",
       "      <td>35.000000</td>\n",
       "      <td>5250.000000</td>\n",
       "      <td>8.000000</td>\n",
       "    </tr>\n",
       "    <tr>\n",
       "      <th>75%</th>\n",
       "      <td>2.500000</td>\n",
       "      <td>205.000000</td>\n",
       "      <td>186000.000000</td>\n",
       "      <td>2016.000000</td>\n",
       "      <td>5.000000</td>\n",
       "      <td>2018.000000</td>\n",
       "      <td>3.000000</td>\n",
       "      <td>1.890000e+06</td>\n",
       "      <td>14.452087</td>\n",
       "      <td>17.000000</td>\n",
       "      <td>8.000000</td>\n",
       "      <td>65.000000</td>\n",
       "      <td>13325.000000</td>\n",
       "      <td>12.000000</td>\n",
       "    </tr>\n",
       "    <tr>\n",
       "      <th>max</th>\n",
       "      <td>8.400000</td>\n",
       "      <td>800.000000</td>\n",
       "      <td>1000000.000000</td>\n",
       "      <td>2020.000000</td>\n",
       "      <td>5.000000</td>\n",
       "      <td>2020.000000</td>\n",
       "      <td>3.000000</td>\n",
       "      <td>7.200000e+07</td>\n",
       "      <td>18.092176</td>\n",
       "      <td>39.000000</td>\n",
       "      <td>10.000000</td>\n",
       "      <td>5000.000000</td>\n",
       "      <td>160000.000000</td>\n",
       "      <td>116.000000</td>\n",
       "    </tr>\n",
       "  </tbody>\n",
       "</table>\n",
       "</div>"
      ],
      "text/plain": [
       "       engineDisplacement   enginePower         mileage     modelDate  \\\n",
       "count        77150.000000  77150.000000    77150.000000  77150.000000   \n",
       "mean             2.204995    176.484614   125703.979209   2009.456630   \n",
       "std              0.882192     89.704091   102184.178207      7.696198   \n",
       "min              0.600000     11.000000      100.000000   1904.000000   \n",
       "25%              1.600000    115.000000    30000.000000   2005.000000   \n",
       "50%              2.000000    150.000000   117000.000000   2010.000000   \n",
       "75%              2.500000    205.000000   186000.000000   2016.000000   \n",
       "max              8.400000    800.000000  1000000.000000   2020.000000   \n",
       "\n",
       "       numberOfDoors  productionDate     Владельцы         price  \\\n",
       "count   77150.000000    77150.000000  77150.000000  7.715000e+04   \n",
       "mean        4.539248     2011.697265      2.341996  1.714545e+06   \n",
       "std         0.654107        7.238553      0.819276  2.524509e+06   \n",
       "min         0.000000     1904.000000      1.000000  2.000000e+04   \n",
       "25%         4.000000     2008.000000      2.000000  4.000000e+05   \n",
       "50%         5.000000     2012.000000      3.000000  8.000000e+05   \n",
       "75%         5.000000     2018.000000      3.000000  1.890000e+06   \n",
       "max         5.000000     2020.000000      3.000000  7.200000e+07   \n",
       "\n",
       "          log_price     bT_length  brand_length    Nalog_base          Nalog  \\\n",
       "count  77150.000000  77150.000000  77150.000000  77150.000000   77150.000000   \n",
       "mean      13.688847     11.796293      5.876993     52.348905   12603.235165   \n",
       "std        1.140330      5.548183      1.939154     54.408711   17308.309867   \n",
       "min        9.903487      4.000000      3.000000     12.000000     456.000000   \n",
       "25%       12.899220      5.000000      5.000000     25.000000    2875.000000   \n",
       "50%       13.592367     13.000000      5.000000     35.000000    5250.000000   \n",
       "75%       14.452087     17.000000      8.000000     65.000000   13325.000000   \n",
       "max       18.092176     39.000000     10.000000   5000.000000  160000.000000   \n",
       "\n",
       "          years_old  \n",
       "count  77150.000000  \n",
       "mean       8.302735  \n",
       "std        7.238553  \n",
       "min        0.000000  \n",
       "25%        2.000000  \n",
       "50%        8.000000  \n",
       "75%       12.000000  \n",
       "max      116.000000  "
      ]
     },
     "execution_count": 177,
     "metadata": {},
     "output_type": "execute_result"
    }
   ],
   "source": [
    "train.describe()"
   ]
  },
  {
   "cell_type": "code",
   "execution_count": 178,
   "metadata": {},
   "outputs": [
    {
     "data": {
      "text/html": [
       "<div>\n",
       "<style scoped>\n",
       "    .dataframe tbody tr th:only-of-type {\n",
       "        vertical-align: middle;\n",
       "    }\n",
       "\n",
       "    .dataframe tbody tr th {\n",
       "        vertical-align: top;\n",
       "    }\n",
       "\n",
       "    .dataframe thead th {\n",
       "        text-align: right;\n",
       "    }\n",
       "</style>\n",
       "<table border=\"1\" class=\"dataframe\">\n",
       "  <thead>\n",
       "    <tr style=\"text-align: right;\">\n",
       "      <th></th>\n",
       "      <th>numberOfDoors</th>\n",
       "      <th>Владельцы</th>\n",
       "    </tr>\n",
       "  </thead>\n",
       "  <tbody>\n",
       "    <tr>\n",
       "      <th>numberOfDoors</th>\n",
       "      <td>1.000000</td>\n",
       "      <td>-0.051131</td>\n",
       "    </tr>\n",
       "    <tr>\n",
       "      <th>Владельцы</th>\n",
       "      <td>-0.051131</td>\n",
       "      <td>1.000000</td>\n",
       "    </tr>\n",
       "  </tbody>\n",
       "</table>\n",
       "</div>"
      ],
      "text/plain": [
       "               numberOfDoors  Владельцы\n",
       "numberOfDoors       1.000000  -0.051131\n",
       "Владельцы          -0.051131   1.000000"
      ]
     },
     "execution_count": 178,
     "metadata": {},
     "output_type": "execute_result"
    }
   ],
   "source": [
    "train[['numberOfDoors', 'Владельцы']].corr(method='spearman')"
   ]
  },
  {
   "cell_type": "code",
   "execution_count": 179,
   "metadata": {},
   "outputs": [
    {
     "name": "stdout",
     "output_type": "stream",
     "text": [
      "<class 'pandas.core.frame.DataFrame'>\n",
      "Int64Index: 77150 entries, 0 to 77448\n",
      "Data columns (total 26 columns):\n",
      " #   Column               Non-Null Count  Dtype   \n",
      "---  ------               --------------  -----   \n",
      " 0   brand                77150 non-null  object  \n",
      " 1   color                77150 non-null  object  \n",
      " 2   engineDisplacement   77150 non-null  float32 \n",
      " 3   enginePower          77150 non-null  float64 \n",
      " 4   fuelType             77150 non-null  object  \n",
      " 5   mileage              77150 non-null  int64   \n",
      " 6   modelDate            77150 non-null  int64   \n",
      " 7   model_name           77150 non-null  object  \n",
      " 8   numberOfDoors        77150 non-null  int64   \n",
      " 9   start_date           77150 non-null  object  \n",
      " 10  productionDate       77150 non-null  int64   \n",
      " 11  vehicleTransmission  77150 non-null  object  \n",
      " 12  vendor               77150 non-null  object  \n",
      " 13  Владельцы            77150 non-null  int64   \n",
      " 14  ПТС                  77150 non-null  object  \n",
      " 15  Привод               77150 non-null  object  \n",
      " 16  Руль                 77150 non-null  object  \n",
      " 17  price                77150 non-null  float32 \n",
      " 18  bodyType2            77150 non-null  object  \n",
      " 19  log_price            77150 non-null  float32 \n",
      " 20  bT_length            77150 non-null  int64   \n",
      " 21  brand_length         77150 non-null  int64   \n",
      " 22  Nalog_base           77150 non-null  int64   \n",
      " 23  Nalog                77150 non-null  float64 \n",
      " 24  years_old            77150 non-null  int64   \n",
      " 25  age_intervals        77150 non-null  category\n",
      "dtypes: category(1), float32(3), float64(2), int64(9), object(11)\n",
      "memory usage: 17.0+ MB\n"
     ]
    }
   ],
   "source": [
    "train.info()"
   ]
  },
  {
   "cell_type": "code",
   "execution_count": null,
   "metadata": {},
   "outputs": [],
   "source": []
  },
  {
   "cell_type": "code",
   "execution_count": 180,
   "metadata": {},
   "outputs": [],
   "source": [
    "num_cols = ['engineDisplacement', 'enginePower', 'mileage', 'bT_length', 'Nalog_base',\n",
    "       'brand_length', 'Nalog', 'years_old', 'log_price']"
   ]
  },
  {
   "cell_type": "code",
   "execution_count": 181,
   "metadata": {},
   "outputs": [
    {
     "data": {
      "text/html": [
       "<div>\n",
       "<style scoped>\n",
       "    .dataframe tbody tr th:only-of-type {\n",
       "        vertical-align: middle;\n",
       "    }\n",
       "\n",
       "    .dataframe tbody tr th {\n",
       "        vertical-align: top;\n",
       "    }\n",
       "\n",
       "    .dataframe thead th {\n",
       "        text-align: right;\n",
       "    }\n",
       "</style>\n",
       "<table border=\"1\" class=\"dataframe\">\n",
       "  <thead>\n",
       "    <tr style=\"text-align: right;\">\n",
       "      <th></th>\n",
       "      <th>engineDisplacement</th>\n",
       "      <th>enginePower</th>\n",
       "      <th>mileage</th>\n",
       "      <th>bT_length</th>\n",
       "      <th>Nalog_base</th>\n",
       "      <th>brand_length</th>\n",
       "      <th>Nalog</th>\n",
       "      <th>years_old</th>\n",
       "      <th>log_price</th>\n",
       "    </tr>\n",
       "  </thead>\n",
       "  <tbody>\n",
       "    <tr>\n",
       "      <th>engineDisplacement</th>\n",
       "      <td>1.000000</td>\n",
       "      <td>0.816676</td>\n",
       "      <td>0.037801</td>\n",
       "      <td>0.211901</td>\n",
       "      <td>0.608284</td>\n",
       "      <td>0.010759</td>\n",
       "      <td>0.798548</td>\n",
       "      <td>0.049001</td>\n",
       "      <td>0.381048</td>\n",
       "    </tr>\n",
       "    <tr>\n",
       "      <th>enginePower</th>\n",
       "      <td>0.816676</td>\n",
       "      <td>1.000000</td>\n",
       "      <td>-0.205440</td>\n",
       "      <td>0.209718</td>\n",
       "      <td>0.689351</td>\n",
       "      <td>0.009883</td>\n",
       "      <td>0.957849</td>\n",
       "      <td>-0.231272</td>\n",
       "      <td>0.631702</td>\n",
       "    </tr>\n",
       "    <tr>\n",
       "      <th>mileage</th>\n",
       "      <td>0.037801</td>\n",
       "      <td>-0.205440</td>\n",
       "      <td>1.000000</td>\n",
       "      <td>-0.211365</td>\n",
       "      <td>-0.118057</td>\n",
       "      <td>-0.017065</td>\n",
       "      <td>-0.162866</td>\n",
       "      <td>0.755262</td>\n",
       "      <td>-0.672780</td>\n",
       "    </tr>\n",
       "    <tr>\n",
       "      <th>bT_length</th>\n",
       "      <td>0.211901</td>\n",
       "      <td>0.209718</td>\n",
       "      <td>-0.211365</td>\n",
       "      <td>1.000000</td>\n",
       "      <td>0.149064</td>\n",
       "      <td>-0.003435</td>\n",
       "      <td>0.178633</td>\n",
       "      <td>-0.226430</td>\n",
       "      <td>0.325093</td>\n",
       "    </tr>\n",
       "    <tr>\n",
       "      <th>Nalog_base</th>\n",
       "      <td>0.608284</td>\n",
       "      <td>0.689351</td>\n",
       "      <td>-0.118057</td>\n",
       "      <td>0.149064</td>\n",
       "      <td>1.000000</td>\n",
       "      <td>0.006691</td>\n",
       "      <td>0.745702</td>\n",
       "      <td>-0.085330</td>\n",
       "      <td>0.422980</td>\n",
       "    </tr>\n",
       "    <tr>\n",
       "      <th>brand_length</th>\n",
       "      <td>0.010759</td>\n",
       "      <td>0.009883</td>\n",
       "      <td>-0.017065</td>\n",
       "      <td>-0.003435</td>\n",
       "      <td>0.006691</td>\n",
       "      <td>1.000000</td>\n",
       "      <td>0.010660</td>\n",
       "      <td>-0.019671</td>\n",
       "      <td>0.097984</td>\n",
       "    </tr>\n",
       "    <tr>\n",
       "      <th>Nalog</th>\n",
       "      <td>0.798548</td>\n",
       "      <td>0.957849</td>\n",
       "      <td>-0.162866</td>\n",
       "      <td>0.178633</td>\n",
       "      <td>0.745702</td>\n",
       "      <td>0.010660</td>\n",
       "      <td>1.000000</td>\n",
       "      <td>-0.163087</td>\n",
       "      <td>0.530100</td>\n",
       "    </tr>\n",
       "    <tr>\n",
       "      <th>years_old</th>\n",
       "      <td>0.049001</td>\n",
       "      <td>-0.231272</td>\n",
       "      <td>0.755262</td>\n",
       "      <td>-0.226430</td>\n",
       "      <td>-0.085330</td>\n",
       "      <td>-0.019671</td>\n",
       "      <td>-0.163087</td>\n",
       "      <td>1.000000</td>\n",
       "      <td>-0.744699</td>\n",
       "    </tr>\n",
       "    <tr>\n",
       "      <th>log_price</th>\n",
       "      <td>0.381048</td>\n",
       "      <td>0.631702</td>\n",
       "      <td>-0.672780</td>\n",
       "      <td>0.325093</td>\n",
       "      <td>0.422980</td>\n",
       "      <td>0.097984</td>\n",
       "      <td>0.530100</td>\n",
       "      <td>-0.744699</td>\n",
       "      <td>1.000000</td>\n",
       "    </tr>\n",
       "  </tbody>\n",
       "</table>\n",
       "</div>"
      ],
      "text/plain": [
       "                    engineDisplacement  enginePower   mileage  bT_length  \\\n",
       "engineDisplacement            1.000000     0.816676  0.037801   0.211901   \n",
       "enginePower                   0.816676     1.000000 -0.205440   0.209718   \n",
       "mileage                       0.037801    -0.205440  1.000000  -0.211365   \n",
       "bT_length                     0.211901     0.209718 -0.211365   1.000000   \n",
       "Nalog_base                    0.608284     0.689351 -0.118057   0.149064   \n",
       "brand_length                  0.010759     0.009883 -0.017065  -0.003435   \n",
       "Nalog                         0.798548     0.957849 -0.162866   0.178633   \n",
       "years_old                     0.049001    -0.231272  0.755262  -0.226430   \n",
       "log_price                     0.381048     0.631702 -0.672780   0.325093   \n",
       "\n",
       "                    Nalog_base  brand_length     Nalog  years_old  log_price  \n",
       "engineDisplacement    0.608284      0.010759  0.798548   0.049001   0.381048  \n",
       "enginePower           0.689351      0.009883  0.957849  -0.231272   0.631702  \n",
       "mileage              -0.118057     -0.017065 -0.162866   0.755262  -0.672780  \n",
       "bT_length             0.149064     -0.003435  0.178633  -0.226430   0.325093  \n",
       "Nalog_base            1.000000      0.006691  0.745702  -0.085330   0.422980  \n",
       "brand_length          0.006691      1.000000  0.010660  -0.019671   0.097984  \n",
       "Nalog                 0.745702      0.010660  1.000000  -0.163087   0.530100  \n",
       "years_old            -0.085330     -0.019671 -0.163087   1.000000  -0.744699  \n",
       "log_price             0.422980      0.097984  0.530100  -0.744699   1.000000  "
      ]
     },
     "execution_count": 181,
     "metadata": {},
     "output_type": "execute_result"
    }
   ],
   "source": [
    "correlation = train[num_cols].corr()\n",
    "correlation"
   ]
  },
  {
   "cell_type": "code",
   "execution_count": null,
   "metadata": {},
   "outputs": [],
   "source": []
  },
  {
   "cell_type": "code",
   "execution_count": 182,
   "metadata": {},
   "outputs": [],
   "source": [
    "columns = ['brand', 'color', 'engineDisplacement', 'enginePower', 'fuelType',\n",
    "       'mileage', 'modelDate', 'model_name', 'numberOfDoors',\n",
    "       'productionDate', 'vehicleTransmission', 'vendor',\n",
    "       'Владельцы', 'ПТС', 'Привод', 'Руль', 'bodyType2', 'bT_length',\n",
    "       'Nalog', 'years_old', 'age_intervals']"
   ]
  },
  {
   "cell_type": "code",
   "execution_count": 183,
   "metadata": {},
   "outputs": [],
   "source": [
    "df_train = train[columns]\n",
    "df_test = test[columns]"
   ]
  },
  {
   "cell_type": "code",
   "execution_count": 184,
   "metadata": {},
   "outputs": [
    {
     "name": "stdout",
     "output_type": "stream",
     "text": [
      "<class 'pandas.core.frame.DataFrame'>\n",
      "Int64Index: 77150 entries, 0 to 77448\n",
      "Data columns (total 21 columns):\n",
      " #   Column               Non-Null Count  Dtype   \n",
      "---  ------               --------------  -----   \n",
      " 0   brand                77150 non-null  object  \n",
      " 1   color                77150 non-null  object  \n",
      " 2   engineDisplacement   77150 non-null  float32 \n",
      " 3   enginePower          77150 non-null  float64 \n",
      " 4   fuelType             77150 non-null  object  \n",
      " 5   mileage              77150 non-null  int64   \n",
      " 6   modelDate            77150 non-null  int64   \n",
      " 7   model_name           77150 non-null  object  \n",
      " 8   numberOfDoors        77150 non-null  int64   \n",
      " 9   productionDate       77150 non-null  int64   \n",
      " 10  vehicleTransmission  77150 non-null  object  \n",
      " 11  vendor               77150 non-null  object  \n",
      " 12  Владельцы            77150 non-null  int64   \n",
      " 13  ПТС                  77150 non-null  object  \n",
      " 14  Привод               77150 non-null  object  \n",
      " 15  Руль                 77150 non-null  object  \n",
      " 16  bodyType2            77150 non-null  object  \n",
      " 17  bT_length            77150 non-null  int64   \n",
      " 18  Nalog                77150 non-null  float64 \n",
      " 19  years_old            77150 non-null  int64   \n",
      " 20  age_intervals        77150 non-null  category\n",
      "dtypes: category(1), float32(1), float64(2), int64(7), object(10)\n",
      "memory usage: 14.6+ MB\n"
     ]
    }
   ],
   "source": [
    "df_train.info()"
   ]
  },
  {
   "cell_type": "code",
   "execution_count": 185,
   "metadata": {},
   "outputs": [
    {
     "data": {
      "text/html": [
       "<div>\n",
       "<style scoped>\n",
       "    .dataframe tbody tr th:only-of-type {\n",
       "        vertical-align: middle;\n",
       "    }\n",
       "\n",
       "    .dataframe tbody tr th {\n",
       "        vertical-align: top;\n",
       "    }\n",
       "\n",
       "    .dataframe thead th {\n",
       "        text-align: right;\n",
       "    }\n",
       "</style>\n",
       "<table border=\"1\" class=\"dataframe\">\n",
       "  <thead>\n",
       "    <tr style=\"text-align: right;\">\n",
       "      <th></th>\n",
       "      <th>29057</th>\n",
       "      <th>56270</th>\n",
       "      <th>72267</th>\n",
       "    </tr>\n",
       "  </thead>\n",
       "  <tbody>\n",
       "    <tr>\n",
       "      <th>brand</th>\n",
       "      <td>other</td>\n",
       "      <td>TOYOTA</td>\n",
       "      <td>MERCEDES</td>\n",
       "    </tr>\n",
       "    <tr>\n",
       "      <th>color</th>\n",
       "      <td>белый</td>\n",
       "      <td>чёрный</td>\n",
       "      <td>синий</td>\n",
       "    </tr>\n",
       "    <tr>\n",
       "      <th>engineDisplacement</th>\n",
       "      <td>1.6</td>\n",
       "      <td>4.7</td>\n",
       "      <td>2</td>\n",
       "    </tr>\n",
       "    <tr>\n",
       "      <th>enginePower</th>\n",
       "      <td>123</td>\n",
       "      <td>235</td>\n",
       "      <td>194</td>\n",
       "    </tr>\n",
       "    <tr>\n",
       "      <th>fuelType</th>\n",
       "      <td>бензин</td>\n",
       "      <td>бензин</td>\n",
       "      <td>дизель</td>\n",
       "    </tr>\n",
       "    <tr>\n",
       "      <th>mileage</th>\n",
       "      <td>10000</td>\n",
       "      <td>388411</td>\n",
       "      <td>10000</td>\n",
       "    </tr>\n",
       "    <tr>\n",
       "      <th>modelDate</th>\n",
       "      <td>2020</td>\n",
       "      <td>2002</td>\n",
       "      <td>2019</td>\n",
       "    </tr>\n",
       "    <tr>\n",
       "      <th>model_name</th>\n",
       "      <td>RIO</td>\n",
       "      <td>LAND_CRUISER</td>\n",
       "      <td>GLC_COUPE</td>\n",
       "    </tr>\n",
       "    <tr>\n",
       "      <th>numberOfDoors</th>\n",
       "      <td>4</td>\n",
       "      <td>5</td>\n",
       "      <td>5</td>\n",
       "    </tr>\n",
       "    <tr>\n",
       "      <th>start_date</th>\n",
       "      <td>2020-10-13T13:31:30Z</td>\n",
       "      <td>2020-10-11T11:16:27Z</td>\n",
       "      <td>2020-10-26T12:09:36Z</td>\n",
       "    </tr>\n",
       "    <tr>\n",
       "      <th>productionDate</th>\n",
       "      <td>2020</td>\n",
       "      <td>2004</td>\n",
       "      <td>2020</td>\n",
       "    </tr>\n",
       "    <tr>\n",
       "      <th>vehicleTransmission</th>\n",
       "      <td>автоматическая</td>\n",
       "      <td>автоматическая</td>\n",
       "      <td>автоматическая</td>\n",
       "    </tr>\n",
       "    <tr>\n",
       "      <th>vendor</th>\n",
       "      <td>other</td>\n",
       "      <td>JAPANESE</td>\n",
       "      <td>EUROPEAN</td>\n",
       "    </tr>\n",
       "    <tr>\n",
       "      <th>Владельцы</th>\n",
       "      <td>3</td>\n",
       "      <td>2</td>\n",
       "      <td>3</td>\n",
       "    </tr>\n",
       "    <tr>\n",
       "      <th>ПТС</th>\n",
       "      <td>Оригинал</td>\n",
       "      <td>Дубликат</td>\n",
       "      <td>Оригинал</td>\n",
       "    </tr>\n",
       "    <tr>\n",
       "      <th>Привод</th>\n",
       "      <td>передний</td>\n",
       "      <td>полный</td>\n",
       "      <td>полный</td>\n",
       "    </tr>\n",
       "    <tr>\n",
       "      <th>Руль</th>\n",
       "      <td>Левый</td>\n",
       "      <td>Левый</td>\n",
       "      <td>Левый</td>\n",
       "    </tr>\n",
       "    <tr>\n",
       "      <th>price</th>\n",
       "      <td>974900</td>\n",
       "      <td>870000</td>\n",
       "      <td>5.3444e+06</td>\n",
       "    </tr>\n",
       "    <tr>\n",
       "      <th>bodyType2</th>\n",
       "      <td>Седан</td>\n",
       "      <td>Внедорожник 5 дв.</td>\n",
       "      <td>Внедорожник 5 дв.</td>\n",
       "    </tr>\n",
       "    <tr>\n",
       "      <th>log_price</th>\n",
       "      <td>13.7901</td>\n",
       "      <td>13.6762</td>\n",
       "      <td>15.4916</td>\n",
       "    </tr>\n",
       "    <tr>\n",
       "      <th>bT_length</th>\n",
       "      <td>5</td>\n",
       "      <td>17</td>\n",
       "      <td>17</td>\n",
       "    </tr>\n",
       "    <tr>\n",
       "      <th>brand_length</th>\n",
       "      <td>5</td>\n",
       "      <td>6</td>\n",
       "      <td>8</td>\n",
       "    </tr>\n",
       "    <tr>\n",
       "      <th>Nalog_base</th>\n",
       "      <td>25</td>\n",
       "      <td>75</td>\n",
       "      <td>50</td>\n",
       "    </tr>\n",
       "    <tr>\n",
       "      <th>Nalog</th>\n",
       "      <td>3075</td>\n",
       "      <td>17625</td>\n",
       "      <td>9700</td>\n",
       "    </tr>\n",
       "    <tr>\n",
       "      <th>years_old</th>\n",
       "      <td>0</td>\n",
       "      <td>16</td>\n",
       "      <td>0</td>\n",
       "    </tr>\n",
       "    <tr>\n",
       "      <th>age_intervals</th>\n",
       "      <td>3</td>\n",
       "      <td>20</td>\n",
       "      <td>3</td>\n",
       "    </tr>\n",
       "  </tbody>\n",
       "</table>\n",
       "</div>"
      ],
      "text/plain": [
       "                                    29057                 56270  \\\n",
       "brand                               other                TOYOTA   \n",
       "color                               белый                чёрный   \n",
       "engineDisplacement                    1.6                   4.7   \n",
       "enginePower                           123                   235   \n",
       "fuelType                           бензин                бензин   \n",
       "mileage                             10000                388411   \n",
       "modelDate                            2020                  2002   \n",
       "model_name                            RIO          LAND_CRUISER   \n",
       "numberOfDoors                           4                     5   \n",
       "start_date           2020-10-13T13:31:30Z  2020-10-11T11:16:27Z   \n",
       "productionDate                       2020                  2004   \n",
       "vehicleTransmission        автоматическая        автоматическая   \n",
       "vendor                              other              JAPANESE   \n",
       "Владельцы                               3                     2   \n",
       "ПТС                              Оригинал              Дубликат   \n",
       "Привод                           передний                полный   \n",
       "Руль                                Левый                 Левый   \n",
       "price                              974900                870000   \n",
       "bodyType2                           Седан     Внедорожник 5 дв.   \n",
       "log_price                         13.7901               13.6762   \n",
       "bT_length                               5                    17   \n",
       "brand_length                            5                     6   \n",
       "Nalog_base                             25                    75   \n",
       "Nalog                                3075                 17625   \n",
       "years_old                               0                    16   \n",
       "age_intervals                           3                    20   \n",
       "\n",
       "                                    72267  \n",
       "brand                            MERCEDES  \n",
       "color                               синий  \n",
       "engineDisplacement                      2  \n",
       "enginePower                           194  \n",
       "fuelType                           дизель  \n",
       "mileage                             10000  \n",
       "modelDate                            2019  \n",
       "model_name                      GLC_COUPE  \n",
       "numberOfDoors                           5  \n",
       "start_date           2020-10-26T12:09:36Z  \n",
       "productionDate                       2020  \n",
       "vehicleTransmission        автоматическая  \n",
       "vendor                           EUROPEAN  \n",
       "Владельцы                               3  \n",
       "ПТС                              Оригинал  \n",
       "Привод                             полный  \n",
       "Руль                                Левый  \n",
       "price                          5.3444e+06  \n",
       "bodyType2               Внедорожник 5 дв.  \n",
       "log_price                         15.4916  \n",
       "bT_length                              17  \n",
       "brand_length                            8  \n",
       "Nalog_base                             50  \n",
       "Nalog                                9700  \n",
       "years_old                               0  \n",
       "age_intervals                           3  "
      ]
     },
     "execution_count": 185,
     "metadata": {},
     "output_type": "execute_result"
    }
   ],
   "source": [
    "train.sample(3).T"
   ]
  },
  {
   "cell_type": "code",
   "execution_count": 186,
   "metadata": {},
   "outputs": [
    {
     "name": "stdout",
     "output_type": "stream",
     "text": [
      "<class 'pandas.core.frame.DataFrame'>\n",
      "RangeIndex: 34686 entries, 0 to 34685\n",
      "Data columns (total 21 columns):\n",
      " #   Column               Non-Null Count  Dtype   \n",
      "---  ------               --------------  -----   \n",
      " 0   brand                34686 non-null  object  \n",
      " 1   color                34686 non-null  object  \n",
      " 2   engineDisplacement   34686 non-null  float32 \n",
      " 3   enginePower          34686 non-null  float64 \n",
      " 4   fuelType             34686 non-null  object  \n",
      " 5   mileage              34686 non-null  int64   \n",
      " 6   modelDate            34686 non-null  int64   \n",
      " 7   model_name           34686 non-null  object  \n",
      " 8   numberOfDoors        34686 non-null  int64   \n",
      " 9   productionDate       34686 non-null  int64   \n",
      " 10  vehicleTransmission  34686 non-null  object  \n",
      " 11  vendor               34686 non-null  object  \n",
      " 12  Владельцы            34686 non-null  int64   \n",
      " 13  ПТС                  34686 non-null  object  \n",
      " 14  Привод               34686 non-null  object  \n",
      " 15  Руль                 34686 non-null  object  \n",
      " 16  bodyType2            34686 non-null  object  \n",
      " 17  bT_length            34686 non-null  int64   \n",
      " 18  Nalog                34686 non-null  float64 \n",
      " 19  years_old            34686 non-null  int64   \n",
      " 20  age_intervals        34686 non-null  category\n",
      "dtypes: category(1), float32(1), float64(2), int64(7), object(10)\n",
      "memory usage: 5.2+ MB\n"
     ]
    }
   ],
   "source": [
    "df_test.info()"
   ]
  },
  {
   "cell_type": "code",
   "execution_count": 187,
   "metadata": {},
   "outputs": [],
   "source": [
    "y = train['price']"
   ]
  },
  {
   "cell_type": "code",
   "execution_count": 188,
   "metadata": {},
   "outputs": [
    {
     "data": {
      "text/plain": [
       "0         106000.0\n",
       "1          44000.0\n",
       "2         167000.0\n",
       "3         135000.0\n",
       "4         130000.0\n",
       "           ...    \n",
       "77444    1098000.0\n",
       "77445    1130000.0\n",
       "77446    1300000.0\n",
       "77447    1250000.0\n",
       "77448    1170000.0\n",
       "Name: price, Length: 77150, dtype: float32"
      ]
     },
     "execution_count": 188,
     "metadata": {},
     "output_type": "execute_result"
    }
   ],
   "source": [
    "y"
   ]
  },
  {
   "cell_type": "code",
   "execution_count": 189,
   "metadata": {},
   "outputs": [
    {
     "name": "stderr",
     "output_type": "stream",
     "text": [
      "<ipython-input-189-df20c6c161d3>:1: SettingWithCopyWarning: \n",
      "A value is trying to be set on a copy of a slice from a DataFrame.\n",
      "Try using .loc[row_indexer,col_indexer] = value instead\n",
      "\n",
      "See the caveats in the documentation: https://pandas.pydata.org/pandas-docs/stable/user_guide/indexing.html#returning-a-view-versus-a-copy\n",
      "  df_train['sample'] = 1 # помечаем где у нас трейн\n",
      "<ipython-input-189-df20c6c161d3>:2: SettingWithCopyWarning: \n",
      "A value is trying to be set on a copy of a slice from a DataFrame.\n",
      "Try using .loc[row_indexer,col_indexer] = value instead\n",
      "\n",
      "See the caveats in the documentation: https://pandas.pydata.org/pandas-docs/stable/user_guide/indexing.html#returning-a-view-versus-a-copy\n",
      "  df_test['sample'] = 0 # помечаем где у нас тест\n"
     ]
    }
   ],
   "source": [
    "df_train['sample'] = 1 # помечаем где у нас трейн\n",
    "df_test['sample'] = 0 # помечаем где у нас тест\n",
    "\n",
    "data = df_test.append(df_train, sort=False).reset_index(drop=True) # объединяем"
   ]
  },
  {
   "cell_type": "code",
   "execution_count": null,
   "metadata": {},
   "outputs": [],
   "source": []
  },
  {
   "cell_type": "code",
   "execution_count": 190,
   "metadata": {},
   "outputs": [
    {
     "name": "stdout",
     "output_type": "stream",
     "text": [
      "<class 'pandas.core.frame.DataFrame'>\n",
      "Int64Index: 77150 entries, 0 to 77448\n",
      "Data columns (total 22 columns):\n",
      " #   Column               Non-Null Count  Dtype   \n",
      "---  ------               --------------  -----   \n",
      " 0   brand                77150 non-null  object  \n",
      " 1   color                77150 non-null  object  \n",
      " 2   engineDisplacement   77150 non-null  float32 \n",
      " 3   enginePower          77150 non-null  float64 \n",
      " 4   fuelType             77150 non-null  object  \n",
      " 5   mileage              77150 non-null  int64   \n",
      " 6   modelDate            77150 non-null  int64   \n",
      " 7   model_name           77150 non-null  object  \n",
      " 8   numberOfDoors        77150 non-null  int64   \n",
      " 9   productionDate       77150 non-null  int64   \n",
      " 10  vehicleTransmission  77150 non-null  object  \n",
      " 11  vendor               77150 non-null  object  \n",
      " 12  Владельцы            77150 non-null  int64   \n",
      " 13  ПТС                  77150 non-null  object  \n",
      " 14  Привод               77150 non-null  object  \n",
      " 15  Руль                 77150 non-null  object  \n",
      " 16  bodyType2            77150 non-null  object  \n",
      " 17  bT_length            77150 non-null  int64   \n",
      " 18  Nalog                77150 non-null  float64 \n",
      " 19  years_old            77150 non-null  int64   \n",
      " 20  age_intervals        77150 non-null  category\n",
      " 21  sample               77150 non-null  int64   \n",
      "dtypes: category(1), float32(1), float64(2), int64(8), object(10)\n",
      "memory usage: 15.2+ MB\n"
     ]
    }
   ],
   "source": [
    "df_train.info()"
   ]
  },
  {
   "cell_type": "code",
   "execution_count": 191,
   "metadata": {},
   "outputs": [],
   "source": [
    "for column in ['bodyType2', 'brand', 'color', 'fuelType', 'model_name', 'vendor', 'Владельцы', 'vehicleTransmission', 'Привод', 'age_intervals']:\n",
    "    data[column] = data[column].astype('category').cat.codes"
   ]
  },
  {
   "cell_type": "code",
   "execution_count": 192,
   "metadata": {},
   "outputs": [
    {
     "data": {
      "text/html": [
       "<div>\n",
       "<style scoped>\n",
       "    .dataframe tbody tr th:only-of-type {\n",
       "        vertical-align: middle;\n",
       "    }\n",
       "\n",
       "    .dataframe tbody tr th {\n",
       "        vertical-align: top;\n",
       "    }\n",
       "\n",
       "    .dataframe thead th {\n",
       "        text-align: right;\n",
       "    }\n",
       "</style>\n",
       "<table border=\"1\" class=\"dataframe\">\n",
       "  <thead>\n",
       "    <tr style=\"text-align: right;\">\n",
       "      <th></th>\n",
       "      <th>brand</th>\n",
       "      <th>color</th>\n",
       "      <th>engineDisplacement</th>\n",
       "      <th>enginePower</th>\n",
       "      <th>fuelType</th>\n",
       "      <th>mileage</th>\n",
       "      <th>modelDate</th>\n",
       "      <th>model_name</th>\n",
       "      <th>numberOfDoors</th>\n",
       "      <th>productionDate</th>\n",
       "      <th>...</th>\n",
       "      <th>Владельцы</th>\n",
       "      <th>ПТС</th>\n",
       "      <th>Привод</th>\n",
       "      <th>Руль</th>\n",
       "      <th>bodyType2</th>\n",
       "      <th>bT_length</th>\n",
       "      <th>Nalog</th>\n",
       "      <th>years_old</th>\n",
       "      <th>age_intervals</th>\n",
       "      <th>sample</th>\n",
       "    </tr>\n",
       "  </thead>\n",
       "  <tbody>\n",
       "    <tr>\n",
       "      <th>0</th>\n",
       "      <td>8</td>\n",
       "      <td>13</td>\n",
       "      <td>1.2</td>\n",
       "      <td>105.0</td>\n",
       "      <td>0</td>\n",
       "      <td>74000</td>\n",
       "      <td>2013</td>\n",
       "      <td>672</td>\n",
       "      <td>5</td>\n",
       "      <td>2014</td>\n",
       "      <td>...</td>\n",
       "      <td>2</td>\n",
       "      <td>1</td>\n",
       "      <td>1</td>\n",
       "      <td>0</td>\n",
       "      <td>13</td>\n",
       "      <td>7</td>\n",
       "      <td>2625.0</td>\n",
       "      <td>6</td>\n",
       "      <td>1</td>\n",
       "      <td>0</td>\n",
       "    </tr>\n",
       "    <tr>\n",
       "      <th>1</th>\n",
       "      <td>8</td>\n",
       "      <td>15</td>\n",
       "      <td>1.6</td>\n",
       "      <td>110.0</td>\n",
       "      <td>0</td>\n",
       "      <td>60563</td>\n",
       "      <td>2017</td>\n",
       "      <td>672</td>\n",
       "      <td>5</td>\n",
       "      <td>2017</td>\n",
       "      <td>...</td>\n",
       "      <td>0</td>\n",
       "      <td>1</td>\n",
       "      <td>1</td>\n",
       "      <td>0</td>\n",
       "      <td>13</td>\n",
       "      <td>7</td>\n",
       "      <td>2750.0</td>\n",
       "      <td>3</td>\n",
       "      <td>0</td>\n",
       "      <td>0</td>\n",
       "    </tr>\n",
       "    <tr>\n",
       "      <th>2</th>\n",
       "      <td>8</td>\n",
       "      <td>12</td>\n",
       "      <td>1.8</td>\n",
       "      <td>152.0</td>\n",
       "      <td>0</td>\n",
       "      <td>88000</td>\n",
       "      <td>2013</td>\n",
       "      <td>900</td>\n",
       "      <td>5</td>\n",
       "      <td>2014</td>\n",
       "      <td>...</td>\n",
       "      <td>0</td>\n",
       "      <td>1</td>\n",
       "      <td>1</td>\n",
       "      <td>0</td>\n",
       "      <td>13</td>\n",
       "      <td>7</td>\n",
       "      <td>6840.0</td>\n",
       "      <td>6</td>\n",
       "      <td>1</td>\n",
       "      <td>0</td>\n",
       "    </tr>\n",
       "    <tr>\n",
       "      <th>3</th>\n",
       "      <td>8</td>\n",
       "      <td>6</td>\n",
       "      <td>1.6</td>\n",
       "      <td>110.0</td>\n",
       "      <td>0</td>\n",
       "      <td>95000</td>\n",
       "      <td>2013</td>\n",
       "      <td>672</td>\n",
       "      <td>5</td>\n",
       "      <td>2014</td>\n",
       "      <td>...</td>\n",
       "      <td>0</td>\n",
       "      <td>1</td>\n",
       "      <td>1</td>\n",
       "      <td>0</td>\n",
       "      <td>13</td>\n",
       "      <td>7</td>\n",
       "      <td>2750.0</td>\n",
       "      <td>6</td>\n",
       "      <td>1</td>\n",
       "      <td>0</td>\n",
       "    </tr>\n",
       "    <tr>\n",
       "      <th>4</th>\n",
       "      <td>8</td>\n",
       "      <td>1</td>\n",
       "      <td>1.8</td>\n",
       "      <td>152.0</td>\n",
       "      <td>0</td>\n",
       "      <td>58536</td>\n",
       "      <td>2008</td>\n",
       "      <td>672</td>\n",
       "      <td>5</td>\n",
       "      <td>2012</td>\n",
       "      <td>...</td>\n",
       "      <td>0</td>\n",
       "      <td>1</td>\n",
       "      <td>1</td>\n",
       "      <td>0</td>\n",
       "      <td>13</td>\n",
       "      <td>7</td>\n",
       "      <td>6840.0</td>\n",
       "      <td>8</td>\n",
       "      <td>2</td>\n",
       "      <td>0</td>\n",
       "    </tr>\n",
       "  </tbody>\n",
       "</table>\n",
       "<p>5 rows × 22 columns</p>\n",
       "</div>"
      ],
      "text/plain": [
       "   brand  color  engineDisplacement  enginePower  fuelType  mileage  \\\n",
       "0      8     13                 1.2        105.0         0    74000   \n",
       "1      8     15                 1.6        110.0         0    60563   \n",
       "2      8     12                 1.8        152.0         0    88000   \n",
       "3      8      6                 1.6        110.0         0    95000   \n",
       "4      8      1                 1.8        152.0         0    58536   \n",
       "\n",
       "   modelDate  model_name  numberOfDoors  productionDate  ...  Владельцы  ПТС  \\\n",
       "0       2013         672              5            2014  ...          2    1   \n",
       "1       2017         672              5            2017  ...          0    1   \n",
       "2       2013         900              5            2014  ...          0    1   \n",
       "3       2013         672              5            2014  ...          0    1   \n",
       "4       2008         672              5            2012  ...          0    1   \n",
       "\n",
       "   Привод  Руль  bodyType2  bT_length   Nalog  years_old  age_intervals  \\\n",
       "0       1     0         13          7  2625.0          6              1   \n",
       "1       1     0         13          7  2750.0          3              0   \n",
       "2       1     0         13          7  6840.0          6              1   \n",
       "3       1     0         13          7  2750.0          6              1   \n",
       "4       1     0         13          7  6840.0          8              2   \n",
       "\n",
       "   sample  \n",
       "0       0  \n",
       "1       0  \n",
       "2       0  \n",
       "3       0  \n",
       "4       0  \n",
       "\n",
       "[5 rows x 22 columns]"
      ]
     },
     "execution_count": 192,
     "metadata": {},
     "output_type": "execute_result"
    }
   ],
   "source": [
    "bin_cols = ['ПТС', 'Руль']\n",
    "label_encoder = LabelEncoder()\n",
    "for column in bin_cols:\n",
    "    data[column] = label_encoder.fit_transform(data[column])\n",
    "data.head()"
   ]
  },
  {
   "cell_type": "code",
   "execution_count": 193,
   "metadata": {},
   "outputs": [],
   "source": [
    "X = data.query('sample == 1').drop(['sample'], axis=1)\n",
    "X_sub = data.query('sample == 0').drop(['sample'], axis=1)\n"
   ]
  },
  {
   "cell_type": "code",
   "execution_count": null,
   "metadata": {},
   "outputs": [],
   "source": []
  },
  {
   "cell_type": "code",
   "execution_count": null,
   "metadata": {},
   "outputs": [],
   "source": []
  },
  {
   "cell_type": "code",
   "execution_count": 194,
   "metadata": {},
   "outputs": [],
   "source": [
    "def mape(y_true, y_pred):\n",
    "    return np.mean(np.abs((y_pred-y_true)/y_true))"
   ]
  },
  {
   "cell_type": "code",
   "execution_count": 195,
   "metadata": {},
   "outputs": [],
   "source": [
    "X_train, X_test, y_train, y_test = train_test_split(X, y, test_size=VAL_SIZE, shuffle=True, random_state=RANDOM_SEED)\n"
   ]
  },
  {
   "cell_type": "code",
   "execution_count": 196,
   "metadata": {},
   "outputs": [
    {
     "data": {
      "text/plain": [
       "61960    14.523792\n",
       "16493    13.091905\n",
       "10014    15.958619\n",
       "57346    15.068274\n",
       "48343    13.574712\n",
       "           ...    \n",
       "6283     14.430696\n",
       "55113    12.660328\n",
       "77117    13.304685\n",
       "865      13.329377\n",
       "15853    14.751604\n",
       "Name: price, Length: 61720, dtype: float32"
      ]
     },
     "execution_count": 196,
     "metadata": {},
     "output_type": "execute_result"
    }
   ],
   "source": [
    "np.log(y_train)"
   ]
  },
  {
   "cell_type": "code",
   "execution_count": null,
   "metadata": {},
   "outputs": [],
   "source": []
  },
  {
   "cell_type": "code",
   "execution_count": 197,
   "metadata": {},
   "outputs": [],
   "source": [
    "model = CatBoostRegressor(iterations = 10000, random_seed = RANDOM_SEED, eval_metric='MAPE', \n",
    "                          custom_metric=['R2', 'MAE'], silent=True)"
   ]
  },
  {
   "cell_type": "code",
   "execution_count": 198,
   "metadata": {},
   "outputs": [
    {
     "data": {
      "text/plain": [
       "<catboost.core.CatBoostRegressor at 0x1ee9a08c070>"
      ]
     },
     "execution_count": 198,
     "metadata": {},
     "output_type": "execute_result"
    }
   ],
   "source": [
    "model.fit(X_train, np.log(y_train),   eval_set=(X_test, np.log(y_test)),\n",
    "     verbose_eval=0,\n",
    "     use_best_model=True,\n",
    "     #plot=True\n",
    "     )"
   ]
  },
  {
   "cell_type": "code",
   "execution_count": 199,
   "metadata": {},
   "outputs": [],
   "source": [
    "# model.save_model('catboost_single_model.model')"
   ]
  },
  {
   "cell_type": "code",
   "execution_count": 200,
   "metadata": {},
   "outputs": [],
   "source": [
    "predict_test = np.exp(model.predict(X_test)) \n",
    "predict_submission = np.exp(model.predict(X_sub))"
   ]
  },
  {
   "cell_type": "code",
   "execution_count": 201,
   "metadata": {},
   "outputs": [
    {
     "name": "stdout",
     "output_type": "stream",
     "text": [
      "Точность модели по метрике MAPE: 11.97%\n"
     ]
    }
   ],
   "source": [
    "print(f\"Точность модели по метрике MAPE: {(mape(y_test, predict_test))*100:0.2f}%\")"
   ]
  },
  {
   "cell_type": "code",
   "execution_count": 202,
   "metadata": {},
   "outputs": [],
   "source": [
    "sample_submission['price'] = predict_submission\n",
    "sample_submission.to_csv('submission_1.csv', index=False)\n"
   ]
  },
  {
   "cell_type": "code",
   "execution_count": 203,
   "metadata": {},
   "outputs": [
    {
     "data": {
      "text/html": [
       "<div>\n",
       "<style scoped>\n",
       "    .dataframe tbody tr th:only-of-type {\n",
       "        vertical-align: middle;\n",
       "    }\n",
       "\n",
       "    .dataframe tbody tr th {\n",
       "        vertical-align: top;\n",
       "    }\n",
       "\n",
       "    .dataframe thead th {\n",
       "        text-align: right;\n",
       "    }\n",
       "</style>\n",
       "<table border=\"1\" class=\"dataframe\">\n",
       "  <thead>\n",
       "    <tr style=\"text-align: right;\">\n",
       "      <th></th>\n",
       "      <th>sell_id</th>\n",
       "      <th>price</th>\n",
       "    </tr>\n",
       "  </thead>\n",
       "  <tbody>\n",
       "    <tr>\n",
       "      <th>0</th>\n",
       "      <td>1100575026</td>\n",
       "      <td>7.730964e+05</td>\n",
       "    </tr>\n",
       "    <tr>\n",
       "      <th>1</th>\n",
       "      <td>1100549428</td>\n",
       "      <td>1.124416e+06</td>\n",
       "    </tr>\n",
       "    <tr>\n",
       "      <th>2</th>\n",
       "      <td>1100658222</td>\n",
       "      <td>1.144573e+06</td>\n",
       "    </tr>\n",
       "    <tr>\n",
       "      <th>3</th>\n",
       "      <td>1100937408</td>\n",
       "      <td>8.747791e+05</td>\n",
       "    </tr>\n",
       "    <tr>\n",
       "      <th>4</th>\n",
       "      <td>1101037972</td>\n",
       "      <td>9.087452e+05</td>\n",
       "    </tr>\n",
       "    <tr>\n",
       "      <th>...</th>\n",
       "      <td>...</td>\n",
       "      <td>...</td>\n",
       "    </tr>\n",
       "    <tr>\n",
       "      <th>34681</th>\n",
       "      <td>1101369263</td>\n",
       "      <td>1.227982e+06</td>\n",
       "    </tr>\n",
       "    <tr>\n",
       "      <th>34682</th>\n",
       "      <td>1101369581</td>\n",
       "      <td>2.827853e+06</td>\n",
       "    </tr>\n",
       "    <tr>\n",
       "      <th>34683</th>\n",
       "      <td>1101364889</td>\n",
       "      <td>3.471016e+05</td>\n",
       "    </tr>\n",
       "    <tr>\n",
       "      <th>34684</th>\n",
       "      <td>1101362518</td>\n",
       "      <td>1.344959e+06</td>\n",
       "    </tr>\n",
       "    <tr>\n",
       "      <th>34685</th>\n",
       "      <td>1101256068</td>\n",
       "      <td>1.061588e+06</td>\n",
       "    </tr>\n",
       "  </tbody>\n",
       "</table>\n",
       "<p>34686 rows × 2 columns</p>\n",
       "</div>"
      ],
      "text/plain": [
       "          sell_id         price\n",
       "0      1100575026  7.730964e+05\n",
       "1      1100549428  1.124416e+06\n",
       "2      1100658222  1.144573e+06\n",
       "3      1100937408  8.747791e+05\n",
       "4      1101037972  9.087452e+05\n",
       "...           ...           ...\n",
       "34681  1101369263  1.227982e+06\n",
       "34682  1101369581  2.827853e+06\n",
       "34683  1101364889  3.471016e+05\n",
       "34684  1101362518  1.344959e+06\n",
       "34685  1101256068  1.061588e+06\n",
       "\n",
       "[34686 rows x 2 columns]"
      ]
     },
     "execution_count": 203,
     "metadata": {},
     "output_type": "execute_result"
    }
   ],
   "source": [
    "sample_submission"
   ]
  },
  {
   "cell_type": "code",
   "execution_count": 204,
   "metadata": {},
   "outputs": [],
   "source": [
    "gb = GradientBoostingRegressor(min_samples_split=2, learning_rate=0.03, max_depth=10, n_estimators=1000)\n"
   ]
  },
  {
   "cell_type": "code",
   "execution_count": 205,
   "metadata": {},
   "outputs": [
    {
     "data": {
      "text/plain": [
       "GradientBoostingRegressor(learning_rate=0.03, max_depth=10, n_estimators=1000)"
      ]
     },
     "execution_count": 205,
     "metadata": {},
     "output_type": "execute_result"
    }
   ],
   "source": [
    "gb.fit(X_train, np.log(y_train))"
   ]
  },
  {
   "cell_type": "code",
   "execution_count": 206,
   "metadata": {},
   "outputs": [],
   "source": [
    "predict_test = np.exp(gb.predict(X_test))\n",
    "predict_submission = np.exp(gb.predict(X_sub))"
   ]
  },
  {
   "cell_type": "code",
   "execution_count": 207,
   "metadata": {},
   "outputs": [
    {
     "name": "stdout",
     "output_type": "stream",
     "text": [
      "Точность модели по метрике MAPE: 12.14%\n"
     ]
    }
   ],
   "source": [
    "print(f\"Точность модели по метрике MAPE: {(mape(y_test, predict_test))*100:0.2f}%\")"
   ]
  },
  {
   "cell_type": "code",
   "execution_count": 208,
   "metadata": {},
   "outputs": [],
   "source": [
    "sample_submission['price'] = predict_submission\n",
    "sample_submission.to_csv('submission_2.csv', index=False)\n"
   ]
  },
  {
   "cell_type": "code",
   "execution_count": 209,
   "metadata": {},
   "outputs": [
    {
     "data": {
      "text/html": [
       "<div>\n",
       "<style scoped>\n",
       "    .dataframe tbody tr th:only-of-type {\n",
       "        vertical-align: middle;\n",
       "    }\n",
       "\n",
       "    .dataframe tbody tr th {\n",
       "        vertical-align: top;\n",
       "    }\n",
       "\n",
       "    .dataframe thead th {\n",
       "        text-align: right;\n",
       "    }\n",
       "</style>\n",
       "<table border=\"1\" class=\"dataframe\">\n",
       "  <thead>\n",
       "    <tr style=\"text-align: right;\">\n",
       "      <th></th>\n",
       "      <th>sell_id</th>\n",
       "      <th>price</th>\n",
       "    </tr>\n",
       "  </thead>\n",
       "  <tbody>\n",
       "    <tr>\n",
       "      <th>0</th>\n",
       "      <td>1100575026</td>\n",
       "      <td>6.573516e+05</td>\n",
       "    </tr>\n",
       "    <tr>\n",
       "      <th>1</th>\n",
       "      <td>1100549428</td>\n",
       "      <td>1.028694e+06</td>\n",
       "    </tr>\n",
       "    <tr>\n",
       "      <th>2</th>\n",
       "      <td>1100658222</td>\n",
       "      <td>9.832551e+05</td>\n",
       "    </tr>\n",
       "    <tr>\n",
       "      <th>3</th>\n",
       "      <td>1100937408</td>\n",
       "      <td>8.474247e+05</td>\n",
       "    </tr>\n",
       "    <tr>\n",
       "      <th>4</th>\n",
       "      <td>1101037972</td>\n",
       "      <td>8.332460e+05</td>\n",
       "    </tr>\n",
       "    <tr>\n",
       "      <th>...</th>\n",
       "      <td>...</td>\n",
       "      <td>...</td>\n",
       "    </tr>\n",
       "    <tr>\n",
       "      <th>34681</th>\n",
       "      <td>1101369263</td>\n",
       "      <td>1.123554e+06</td>\n",
       "    </tr>\n",
       "    <tr>\n",
       "      <th>34682</th>\n",
       "      <td>1101369581</td>\n",
       "      <td>2.672919e+06</td>\n",
       "    </tr>\n",
       "    <tr>\n",
       "      <th>34683</th>\n",
       "      <td>1101364889</td>\n",
       "      <td>2.709439e+05</td>\n",
       "    </tr>\n",
       "    <tr>\n",
       "      <th>34684</th>\n",
       "      <td>1101362518</td>\n",
       "      <td>1.193765e+06</td>\n",
       "    </tr>\n",
       "    <tr>\n",
       "      <th>34685</th>\n",
       "      <td>1101256068</td>\n",
       "      <td>1.017823e+06</td>\n",
       "    </tr>\n",
       "  </tbody>\n",
       "</table>\n",
       "<p>34686 rows × 2 columns</p>\n",
       "</div>"
      ],
      "text/plain": [
       "          sell_id         price\n",
       "0      1100575026  6.573516e+05\n",
       "1      1100549428  1.028694e+06\n",
       "2      1100658222  9.832551e+05\n",
       "3      1100937408  8.474247e+05\n",
       "4      1101037972  8.332460e+05\n",
       "...           ...           ...\n",
       "34681  1101369263  1.123554e+06\n",
       "34682  1101369581  2.672919e+06\n",
       "34683  1101364889  2.709439e+05\n",
       "34684  1101362518  1.193765e+06\n",
       "34685  1101256068  1.017823e+06\n",
       "\n",
       "[34686 rows x 2 columns]"
      ]
     },
     "execution_count": 209,
     "metadata": {},
     "output_type": "execute_result"
    }
   ],
   "source": [
    "sample_submission"
   ]
  },
  {
   "cell_type": "code",
   "execution_count": 210,
   "metadata": {},
   "outputs": [],
   "source": [
    "rfr = RandomForestRegressor(n_estimators=1000, max_depth = 15, max_features = 'log2', random_state = 42, oob_score=True,) \n"
   ]
  },
  {
   "cell_type": "code",
   "execution_count": 211,
   "metadata": {},
   "outputs": [
    {
     "data": {
      "text/plain": [
       "RandomForestRegressor(max_depth=15, max_features='log2', n_estimators=1000,\n",
       "                      oob_score=True, random_state=42)"
      ]
     },
     "execution_count": 211,
     "metadata": {},
     "output_type": "execute_result"
    }
   ],
   "source": [
    "rfr.fit(X_train, np.log(y_train))"
   ]
  },
  {
   "cell_type": "code",
   "execution_count": 212,
   "metadata": {},
   "outputs": [],
   "source": [
    "predict_test = np.exp(rfr.predict(X_test)) \n",
    "predict_submission = np.exp(rfr.predict(X_sub))\n",
    "\n"
   ]
  },
  {
   "cell_type": "code",
   "execution_count": 213,
   "metadata": {},
   "outputs": [
    {
     "name": "stdout",
     "output_type": "stream",
     "text": [
      "Точность модели по метрике MAPE: 12.64%\n"
     ]
    }
   ],
   "source": [
    "print(f\"Точность модели по метрике MAPE: {(mape(y_test, predict_test))*100:0.2f}%\")"
   ]
  },
  {
   "cell_type": "code",
   "execution_count": 214,
   "metadata": {},
   "outputs": [],
   "source": [
    "from sklearn.ensemble import RandomForestRegressor, RandomForestClassifier, GradientBoostingRegressor, ExtraTreesRegressor, BaggingRegressor"
   ]
  },
  {
   "cell_type": "code",
   "execution_count": 215,
   "metadata": {},
   "outputs": [],
   "source": [
    "from sklearn.tree import ExtraTreeRegressor"
   ]
  },
  {
   "cell_type": "code",
   "execution_count": 216,
   "metadata": {},
   "outputs": [],
   "source": [
    "bg = BaggingRegressor(ExtraTreeRegressor(random_state=42), random_state=42,n_estimators =1000)"
   ]
  },
  {
   "cell_type": "code",
   "execution_count": null,
   "metadata": {},
   "outputs": [],
   "source": [
    "bg.fit(X_train, np.log(y_train))"
   ]
  },
  {
   "cell_type": "code",
   "execution_count": null,
   "metadata": {},
   "outputs": [],
   "source": [
    "predict_test = np.exp(bg.predict(X_test)) \n",
    "predict_submission = np.exp(bg.predict(X_sub))\n",
    "\n"
   ]
  },
  {
   "cell_type": "code",
   "execution_count": null,
   "metadata": {},
   "outputs": [],
   "source": [
    "print(f\"Точность модели по метрике MAPE: {(mape(y_test, predict_test))*100:0.2f}%\")"
   ]
  },
  {
   "cell_type": "code",
   "execution_count": null,
   "metadata": {},
   "outputs": [],
   "source": [
    "import xgboost as xgb"
   ]
  },
  {
   "cell_type": "code",
   "execution_count": null,
   "metadata": {},
   "outputs": [],
   "source": [
    "xg_reg = xgb.XGBRegressor(objective='reg:squarederror', colsample_bytree=0.5,\n",
    "                          learning_rate= 0.07 ,max_depth=12, alpha=1,\n",
    "                          n_estimators=50000)"
   ]
  },
  {
   "cell_type": "code",
   "execution_count": null,
   "metadata": {},
   "outputs": [],
   "source": [
    "xg_reg.fit(X_train, np.log(y_train))"
   ]
  },
  {
   "cell_type": "code",
   "execution_count": null,
   "metadata": {},
   "outputs": [],
   "source": [
    "predict_test = np.exp(xg_reg.predict(X_test)) \n",
    "predict_submission = np.exp(xg_reg.predict(X_sub))\n"
   ]
  },
  {
   "cell_type": "code",
   "execution_count": null,
   "metadata": {},
   "outputs": [],
   "source": [
    "print(f\"Точность модели по метрике MAPE: {(mape(y_test, predict_test))*100:0.2f}%\")"
   ]
  },
  {
   "cell_type": "code",
   "execution_count": null,
   "metadata": {},
   "outputs": [],
   "source": [
    "sample_submission['price'] = predict_submission\n",
    "sample_submission.to_csv('submission_12.csv', index=False)\n"
   ]
  },
  {
   "cell_type": "code",
   "execution_count": null,
   "metadata": {},
   "outputs": [],
   "source": [
    "sample_submission['price'] = predict_submission\n",
    "sample_submission.to_csv('submission_3.csv', index=False)\n"
   ]
  },
  {
   "cell_type": "code",
   "execution_count": null,
   "metadata": {},
   "outputs": [],
   "source": [
    "sample_submission"
   ]
  },
  {
   "cell_type": "code",
   "execution_count": null,
   "metadata": {},
   "outputs": [],
   "source": [
    "from sklearn.ensemble import RandomForestRegressor\n",
    "from sklearn.ensemble import StackingRegressor\n"
   ]
  },
  {
   "cell_type": "code",
   "execution_count": null,
   "metadata": {},
   "outputs": [],
   "source": []
  },
  {
   "cell_type": "code",
   "execution_count": null,
   "metadata": {},
   "outputs": [],
   "source": [
    "def create_best_cat_boost_regressor():\n",
    "    return CatBoostRegressor(iterations = 5000,\n",
    "                          learning_rate = 0.1,\n",
    "                          random_seed = 42,\n",
    "                          eval_metric='MAPE',\n",
    "                          bagging_temperature=1,\n",
    "                          one_hot_max_size=2,\n",
    "                          random_strength=1,\n",
    "                          custom_metric=['R2', 'MAE'],\n",
    "                          silent=True,\n",
    "                         )"
   ]
  },
  {
   "cell_type": "code",
   "execution_count": null,
   "metadata": {},
   "outputs": [],
   "source": [
    "estimators = [\n",
    "    ('catboost',create_best_cat_boost_regressor()),\n",
    "    ('ranfor',RandomForestRegressor(n_estimators=1000, max_depth = 15, max_features = 'log2', random_state = 42, oob_score=True,))\n",
    "]\n",
    "    "
   ]
  },
  {
   "cell_type": "code",
   "execution_count": null,
   "metadata": {},
   "outputs": [],
   "source": [
    "reg = StackingRegressor(estimators=estimators)\n"
   ]
  },
  {
   "cell_type": "code",
   "execution_count": null,
   "metadata": {},
   "outputs": [],
   "source": [
    "reg.fit(X_train, np.log(y_train))\n"
   ]
  },
  {
   "cell_type": "code",
   "execution_count": null,
   "metadata": {},
   "outputs": [],
   "source": [
    "predict_test = np.exp(reg.predict(X_test))\n",
    "predict_submission = np.exp(reg.predict(X_sub))\n"
   ]
  },
  {
   "cell_type": "code",
   "execution_count": null,
   "metadata": {},
   "outputs": [],
   "source": [
    "print(f\"Точность модели по метрике MAPE: {(mape(y_test, predict_test))*100:0.2f}%\")"
   ]
  },
  {
   "cell_type": "code",
   "execution_count": null,
   "metadata": {},
   "outputs": [],
   "source": [
    "sample_submission['price'] = predict_submission\n",
    "sample_submission.to_csv('submission_4.csv', index=False)\n"
   ]
  },
  {
   "cell_type": "code",
   "execution_count": null,
   "metadata": {},
   "outputs": [],
   "source": [
    "sample_submission.head()"
   ]
  },
  {
   "cell_type": "code",
   "execution_count": null,
   "metadata": {},
   "outputs": [],
   "source": [
    "estimators = [\n",
    "    ('catboost', CatBoostRegressor(iterations = 5000, random_seed = 42, eval_metric='MAPE', custom_metric=['R2', 'MAE'], silent=True)),\n",
    "    ('ranfor', RandomForestRegressor(n_estimators=1000, max_depth = 15, max_features = 'log2', random_state = 42, oob_score=True,)),\n",
    "    ('xg_reg', xgb.XGBRegressor(objective='reg:squarederror', colsample_bytree=0.5,\n",
    "                          learning_rate=0.05, max_depth=12, alpha=1,\n",
    "                          n_estimators=1000))\n",
    "]"
   ]
  },
  {
   "cell_type": "code",
   "execution_count": null,
   "metadata": {},
   "outputs": [],
   "source": [
    "reg1 = StackingRegressor(estimators=estimators)\n"
   ]
  },
  {
   "cell_type": "code",
   "execution_count": null,
   "metadata": {},
   "outputs": [],
   "source": [
    "reg1.fit(X_train, np.log(y_train))\n"
   ]
  },
  {
   "cell_type": "code",
   "execution_count": null,
   "metadata": {},
   "outputs": [],
   "source": [
    "predict_test = np.exp(reg1.predict(X_test))\n",
    "predict_submission = np.exp(reg1.predict(X_sub))\n"
   ]
  },
  {
   "cell_type": "code",
   "execution_count": null,
   "metadata": {},
   "outputs": [],
   "source": [
    "print(f\"Точность модели по метрике MAPE: {(mape(y_test, predict_test))*100:0.2f}%\")"
   ]
  },
  {
   "cell_type": "code",
   "execution_count": null,
   "metadata": {},
   "outputs": [],
   "source": [
    "sample_submission['price'] = predict_submission\n",
    "sample_submission.to_csv('submission_5.csv', index=False)\n"
   ]
  },
  {
   "cell_type": "code",
   "execution_count": null,
   "metadata": {},
   "outputs": [],
   "source": [
    "sample_submission.head()"
   ]
  },
  {
   "cell_type": "code",
   "execution_count": null,
   "metadata": {},
   "outputs": [],
   "source": []
  },
  {
   "cell_type": "code",
   "execution_count": null,
   "metadata": {},
   "outputs": [],
   "source": [
    "estimators = [\n",
    "    ('catboost', CatBoostRegressor(iterations = 5000, random_seed = 42, eval_metric='MAPE', custom_metric=['R2', 'MAE'], silent=True)),\n",
    "    ('ranfor', RandomForestRegressor(n_estimators=1000, max_depth = 15, max_features = 'log2', random_state = 42, oob_score=True,)),\n",
    "    ('xg_reg', xgb.XGBRegressor(objective='reg:squarederror', colsample_bytree=0.5,learning_rate=0.05, max_depth=12, alpha=1,n_estimators=1000)),\n",
    "    ('gb', GradientBoostingRegressor(min_samples_split=2, learning_rate=0.03, max_depth=10, n_estimators=1000)\n",
    ")\n",
    "]"
   ]
  },
  {
   "cell_type": "code",
   "execution_count": null,
   "metadata": {},
   "outputs": [],
   "source": [
    "reg2 = StackingRegressor(estimators=estimators)\n",
    "reg2.fit(X_train, np.log(y_train))\n"
   ]
  },
  {
   "cell_type": "code",
   "execution_count": null,
   "metadata": {},
   "outputs": [],
   "source": [
    "predict_test = np.exp(reg2.predict(X_test))\n",
    "predict_submission = np.exp(reg2.predict(X_sub))\n"
   ]
  },
  {
   "cell_type": "code",
   "execution_count": null,
   "metadata": {},
   "outputs": [],
   "source": [
    "print(f\"Точность модели по метрике MAPE: {(mape(y_test, predict_test))*100:0.2f}%\")"
   ]
  },
  {
   "cell_type": "code",
   "execution_count": null,
   "metadata": {},
   "outputs": [],
   "source": [
    "sample_submission['price'] = predict_submission\n",
    "sample_submission.to_csv('submission_6.csv', index=False)\n"
   ]
  },
  {
   "cell_type": "code",
   "execution_count": null,
   "metadata": {},
   "outputs": [],
   "source": []
  },
  {
   "cell_type": "code",
   "execution_count": null,
   "metadata": {},
   "outputs": [],
   "source": [
    "estimators = [\n",
    "    ('catboost', CatBoostRegressor(iterations = 5000, random_seed = 42, eval_metric='MAPE', custom_metric=['R2', 'MAE'], silent=True)),\n",
    "#     ('xg_reg', xgb.XGBRegressor(objective='reg:squarederror', colsample_bytree=0.5,learning_rate=0.05, max_depth=12, alpha=1,n_estimators=1000)),\n",
    "    ('gb', GradientBoostingRegressor(min_samples_split=2, learning_rate=0.03, max_depth=10, n_estimators=1000)\n",
    ")\n",
    "]"
   ]
  },
  {
   "cell_type": "code",
   "execution_count": null,
   "metadata": {},
   "outputs": [],
   "source": [
    "reg3 = StackingRegressor(estimators=estimators)\n",
    "reg3.fit(X_train, np.log(y_train))\n"
   ]
  },
  {
   "cell_type": "code",
   "execution_count": null,
   "metadata": {},
   "outputs": [],
   "source": [
    "predict_test = np.exp(reg3.predict(X_test))\n",
    "predict_submission = np.exp(reg3.predict(X_sub))\n"
   ]
  },
  {
   "cell_type": "code",
   "execution_count": null,
   "metadata": {},
   "outputs": [],
   "source": [
    "print(f\"Точность модели по метрике MAPE: {(mape(y_test, predict_test))*100:0.2f}%\")"
   ]
  },
  {
   "cell_type": "code",
   "execution_count": null,
   "metadata": {},
   "outputs": [],
   "source": [
    "sample_submission['price'] = predict_submission\n",
    "sample_submission.to_csv('submission_7.csv', index=False)\n"
   ]
  },
  {
   "cell_type": "code",
   "execution_count": null,
   "metadata": {},
   "outputs": [],
   "source": []
  },
  {
   "cell_type": "code",
   "execution_count": null,
   "metadata": {},
   "outputs": [],
   "source": [
    "estimators = [\n",
    "    ('catboost', CatBoostRegressor(iterations = 5000, random_seed = 42, eval_metric='MAPE', custom_metric=['R2', 'MAE'], silent=True)),\n",
    "    ('xg_reg', xgb.XGBRegressor(objective='reg:squarederror', colsample_bytree=0.5,learning_rate=0.05, max_depth=12, alpha=1,n_estimators=1000)),\n",
    "    ('gb', GradientBoostingRegressor(min_samples_split=2, learning_rate=0.03, max_depth=10, n_estimators=1000)\n",
    ")\n",
    "]"
   ]
  },
  {
   "cell_type": "code",
   "execution_count": null,
   "metadata": {},
   "outputs": [],
   "source": [
    "reg4 = StackingRegressor(estimators=estimators)\n",
    "reg4.fit(X_train, np.log(y_train))\n"
   ]
  },
  {
   "cell_type": "code",
   "execution_count": null,
   "metadata": {},
   "outputs": [],
   "source": [
    "predict_test = np.exp(reg4.predict(X_test))\n",
    "predict_submission = np.exp(reg4.predict(X_sub))\n"
   ]
  },
  {
   "cell_type": "code",
   "execution_count": null,
   "metadata": {},
   "outputs": [],
   "source": [
    "print(f\"Точность модели по метрике MAPE: {(mape(y_test, predict_test))*100:0.2f}%\")"
   ]
  },
  {
   "cell_type": "code",
   "execution_count": null,
   "metadata": {},
   "outputs": [],
   "source": [
    "sample_submission['price'] = predict_submission\n",
    "sample_submission.to_csv('submission_8.csv', index=False)\n"
   ]
  },
  {
   "cell_type": "code",
   "execution_count": null,
   "metadata": {},
   "outputs": [],
   "source": [
    "estimators = [\n",
    "    ('catboost', CatBoostRegressor(iterations = 5000, random_seed = 42, eval_metric='MAPE', custom_metric=['R2', 'MAE'], silent=True)),\n",
    "    ('xg_reg', xgb.XGBRegressor(objective='reg:squarederror', colsample_bytree=0.5,learning_rate=0.05, max_depth=12, alpha=1,n_estimators=1000))\n",
    "]"
   ]
  },
  {
   "cell_type": "code",
   "execution_count": null,
   "metadata": {},
   "outputs": [],
   "source": [
    "estimators = [\n",
    "    ('catboost', CatBoostRegressor(iterations = 5000, random_seed = 42, eval_metric='MAPE', custom_metric=['R2', 'MAE'], silent=True)),\n",
    "    ('xg_reg', xgb.XGBRegressor(objective='reg:squarederror', colsample_bytree=0.5,learning_rate=0.05, max_depth=13, alpha=1,n_estimators=5000))\n",
    "]"
   ]
  },
  {
   "cell_type": "code",
   "execution_count": null,
   "metadata": {},
   "outputs": [],
   "source": [
    "reg5 = StackingRegressor(estimators=estimators)\n",
    "reg5.fit(X_train, np.log(y_train))\n"
   ]
  },
  {
   "cell_type": "code",
   "execution_count": null,
   "metadata": {},
   "outputs": [],
   "source": [
    "predict_test = np.exp(reg5.predict(X_test))\n",
    "predict_submission = np.exp(reg5.predict(X_sub))\n"
   ]
  },
  {
   "cell_type": "code",
   "execution_count": null,
   "metadata": {},
   "outputs": [],
   "source": [
    "print(f\"Точность модели по метрике MAPE: {(mape(y_test, predict_test))*100:0.2f}%\")"
   ]
  },
  {
   "cell_type": "code",
   "execution_count": null,
   "metadata": {},
   "outputs": [],
   "source": [
    "sample_submission['price'] = predict_submission\n",
    "sample_submission.to_csv('submission_9.csv', index=False)\n"
   ]
  },
  {
   "cell_type": "code",
   "execution_count": null,
   "metadata": {},
   "outputs": [],
   "source": []
  }
 ],
 "metadata": {
  "kernelspec": {
   "display_name": "Python 3",
   "language": "python",
   "name": "python3"
  },
  "language_info": {
   "codemirror_mode": {
    "name": "ipython",
    "version": 3
   },
   "file_extension": ".py",
   "mimetype": "text/x-python",
   "name": "python",
   "nbconvert_exporter": "python",
   "pygments_lexer": "ipython3",
   "version": "3.8.5"
  }
 },
 "nbformat": 4,
 "nbformat_minor": 4
}
