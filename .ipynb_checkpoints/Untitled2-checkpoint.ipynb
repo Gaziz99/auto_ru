{
 "cells": [
  {
   "cell_type": "code",
   "execution_count": 352,
   "metadata": {},
   "outputs": [],
   "source": [
    "import pandas as pd\n",
    "import requests\n",
    "import numpy as np\n",
    "import matplotlib.pyplot as plt\n",
    "import seaborn as sns\n",
    "import datetime as dt\n",
    "import os\n",
    "\n",
    "from bs4 import BeautifulSoup\n",
    "from tqdm.notebook import tqdm\n",
    "from catboost import CatBoostRegressor\n",
    "from sklearn.model_selection import train_test_split\n",
    "from sklearn.model_selection import KFold\n",
    "from sklearn.ensemble import RandomForestRegressor\n",
    "from sklearn.linear_model import LinearRegression\n",
    "from sklearn.base import clone\n",
    "\n",
    "%matplotlib inline"
   ]
  },
  {
   "cell_type": "code",
   "execution_count": 353,
   "metadata": {},
   "outputs": [],
   "source": [
    "import numpy as np # linear algebra\n",
    "import pandas as pd # data processing, CSV file I/O (e.g. pd.read_csv)\n",
    "import sys\n",
    "import seaborn as sns\n",
    "%matplotlib inline\n",
    "import matplotlib.pyplot as plt\n",
    "\n",
    "import string\n",
    "from nltk.util import ngrams\n",
    "from collections import Counter\n",
    "from sklearn.preprocessing import PolynomialFeatures\n",
    "\n",
    "\n",
    "from sklearn.model_selection import train_test_split\n",
    "from sklearn.model_selection import KFold\n",
    "from tqdm.notebook import tqdm\n",
    "from catboost import CatBoostRegressor\n",
    "from sklearn.preprocessing import LabelEncoder\n",
    "from sklearn.ensemble import GradientBoostingRegressor, ExtraTreesRegressor, RandomForestRegressor\n",
    "from sklearn.linear_model import LogisticRegression"
   ]
  },
  {
   "cell_type": "code",
   "execution_count": 354,
   "metadata": {},
   "outputs": [],
   "source": [
    "RANDOM_SEED = 42"
   ]
  },
  {
   "cell_type": "code",
   "execution_count": 355,
   "metadata": {},
   "outputs": [],
   "source": [
    "VERSION    = 16"
   ]
  },
  {
   "cell_type": "code",
   "execution_count": 356,
   "metadata": {},
   "outputs": [],
   "source": [
    "VAL_SIZE   = 0.2"
   ]
  },
  {
   "cell_type": "code",
   "execution_count": 357,
   "metadata": {},
   "outputs": [],
   "source": [
    "train1 = pd.read_csv('all_auto_ru_09_09_2020.csv', low_memory=False) # датасет для обучения модели\n",
    "train2 = pd.read_csv('all_auto_ru_14_11_2020.csv', low_memory=False)\n",
    "test = pd.read_csv('test.csv')\n",
    "sample_submission = pd.read_csv('sample_submission.csv')\n"
   ]
  },
  {
   "cell_type": "code",
   "execution_count": 130,
   "metadata": {},
   "outputs": [],
   "source": [
    "train3 = pd.read_csv('train_cars.csv')"
   ]
  },
  {
   "cell_type": "code",
   "execution_count": 131,
   "metadata": {},
   "outputs": [],
   "source": [
    "columns_drop = ['Unnamed: 0']\n",
    "train3 = train3.drop(columns_drop, axis=1)"
   ]
  },
  {
   "cell_type": "code",
   "execution_count": 51,
   "metadata": {},
   "outputs": [
    {
     "name": "stdout",
     "output_type": "stream",
     "text": [
      "<class 'pandas.core.frame.DataFrame'>\n",
      "RangeIndex: 27567 entries, 0 to 27566\n",
      "Data columns (total 16 columns):\n",
      " #   Column               Non-Null Count  Dtype  \n",
      "---  ------               --------------  -----  \n",
      " 0   bodyType             27566 non-null  object \n",
      " 1   color                27566 non-null  object \n",
      " 2   fuelType             27566 non-null  object \n",
      " 3   modelDate            27566 non-null  float64\n",
      " 4   numberOfDoors        27566 non-null  float64\n",
      " 5   productionDate       27566 non-null  float64\n",
      " 6   vehicleTransmission  27566 non-null  object \n",
      " 7   engineDisplacement   27566 non-null  object \n",
      " 8   enginePower          27566 non-null  object \n",
      " 9   mileage              27563 non-null  float64\n",
      " 10  Привод               27563 non-null  object \n",
      " 11  Руль                 27563 non-null  object \n",
      " 12  Владельцы            27561 non-null  object \n",
      " 13  ПТС                  27562 non-null  object \n",
      " 14  price                27308 non-null  float64\n",
      " 15  brand                27567 non-null  object \n",
      "dtypes: float64(5), object(11)\n",
      "memory usage: 3.4+ MB\n"
     ]
    }
   ],
   "source": [
    "train3.info()"
   ]
  },
  {
   "cell_type": "code",
   "execution_count": 133,
   "metadata": {},
   "outputs": [
    {
     "name": "stdout",
     "output_type": "stream",
     "text": [
      "<class 'pandas.core.frame.DataFrame'>\n",
      "RangeIndex: 89378 entries, 0 to 89377\n",
      "Data columns (total 26 columns):\n",
      " #   Column                Non-Null Count  Dtype  \n",
      "---  ------                --------------  -----  \n",
      " 0   bodyType              89377 non-null  object \n",
      " 1   brand                 89378 non-null  object \n",
      " 2   color                 89378 non-null  object \n",
      " 3   fuelType              89378 non-null  object \n",
      " 4   modelDate             89377 non-null  float64\n",
      " 5   name                  89377 non-null  object \n",
      " 6   numberOfDoors         89377 non-null  float64\n",
      " 7   productionDate        89378 non-null  int64  \n",
      " 8   vehicleConfiguration  89377 non-null  object \n",
      " 9   vehicleTransmission   89377 non-null  object \n",
      " 10  engineDisplacement    89377 non-null  object \n",
      " 11  enginePower           89377 non-null  float64\n",
      " 12  description           86124 non-null  object \n",
      " 13  mileage               89378 non-null  int64  \n",
      " 14  Комплектация          89378 non-null  object \n",
      " 15  Привод                89377 non-null  object \n",
      " 16  Руль                  89378 non-null  object \n",
      " 17  Состояние             0 non-null      float64\n",
      " 18  Владельцы             75790 non-null  float64\n",
      " 19  ПТС                   89017 non-null  object \n",
      " 20  Таможня               89378 non-null  bool   \n",
      " 21  Владение              29201 non-null  object \n",
      " 22  price                 88968 non-null  float64\n",
      " 23  start_date            89378 non-null  object \n",
      " 24  hidden                0 non-null      float64\n",
      " 25  model                 89378 non-null  object \n",
      "dtypes: bool(1), float64(7), int64(2), object(16)\n",
      "memory usage: 17.1+ MB\n"
     ]
    },
    {
     "data": {
      "text/plain": [
       "(None,\n",
       " <bound method DataFrame.info of       bodyType       brand   color  \\\n",
       " 0        Седан        AUDI  97948F   \n",
       " 1        Седан        AUDI  CACECB   \n",
       " 2        Седан        AUDI  040001   \n",
       " 3        Седан        AUDI  DEA522   \n",
       " 4        Седан        AUDI  0000CC   \n",
       " ...        ...         ...     ...   \n",
       " 77444  Минивэн  SSANG_YONG  CACECB   \n",
       " 77445  Минивэн  SSANG_YONG  97948F   \n",
       " 77446  Минивэн  SSANG_YONG  FAFBFB   \n",
       " 77447  Минивэн  SSANG_YONG  97948F   \n",
       " 77448  Минивэн  SSANG_YONG  FAFBFB   \n",
       " \n",
       "                                       complectation_dict  \\\n",
       " 0                                            {'id': '0'}   \n",
       " 1                                            {'id': '0'}   \n",
       " 2                                            {'id': '0'}   \n",
       " 3                                            {'id': '0'}   \n",
       " 4                                            {'id': '0'}   \n",
       " ...                                                  ...   \n",
       " 77444                                        {'id': '0'}   \n",
       " 77445                                        {'id': '0'}   \n",
       " 77446  {'id': '10408082', 'name': 'Luxury', 'availabl...   \n",
       " 77447  {'id': '10408081', 'name': 'Elegance', 'availa...   \n",
       " 77448  {'id': '10408082', 'name': 'Luxury', 'availabl...   \n",
       " \n",
       "                                              description engineDisplacement  \\\n",
       " 0      Машина на полном ходу\\nСостояние хорошее\\nС до...                2.3   \n",
       " 1      Продажа от официального дилера KIA - Компания ...                1.8   \n",
       " 2      Автомобиль продает Официальный дилер Hyundai. ...                2.6   \n",
       " 3      Продам машину в нормальном состоянии не гнилая...                2.0   \n",
       " 4      Комплектация:\\n• Антиблокировочная система\\n• ...                2.3   \n",
       " ...                                                  ...                ...   \n",
       " 77444                                                NaN               2.0d   \n",
       " 77445  РОЛЬФ Северо-Запад - это первый мегамолл автом...               2.0d   \n",
       " 77446  Подключаемый полный привод. Максимальная компл...               2.0d   \n",
       " 77447  Продаю семейного любимца. Большой вместительны...               2.0d   \n",
       " 77448  Автомобиль в комплектации Luxury покупался  и ...               2.0d   \n",
       " \n",
       "        enginePower                                     equipment_dict  \\\n",
       " 0            133.0                                                 {}   \n",
       " 1             90.0  {'condition': True, 'audiosystem-cd': True, 'f...   \n",
       " 2            150.0  {'airbag-driver': True, 'isofix': True, 'elect...   \n",
       " 3            101.0                                                 {}   \n",
       " 4            133.0  {'alloy-wheel-disks': True, 'abs': True, 'whee...   \n",
       " ...            ...                                                ...   \n",
       " 77444        149.0  {'cruise-control': True, 'asr': True, 'tinted-...   \n",
       " 77445        149.0  {'electro-window-back': True, 'tinted-glass': ...   \n",
       " 77446        149.0  {'cruise-control': True, 'engine-proof': True,...   \n",
       " 77447        149.0  {'cruise-control': True, 'esp': True, 'airbag-...   \n",
       " 77448        149.0  {'cruise-control': True, 'tinted-glass': True,...   \n",
       " \n",
       "       fuelType  image  ...  Владельцы                     Владение        ПТС  \\\n",
       " 0       бензин      5  ...        3.0                          NaN   ORIGINAL   \n",
       " 1       бензин      7  ...        3.0                          NaN   ORIGINAL   \n",
       " 2       бензин     11  ...        3.0                          NaN  DUPLICATE   \n",
       " 3       бензин      7  ...        3.0                          NaN  DUPLICATE   \n",
       " 4       бензин     15  ...        2.0                          NaN   ORIGINAL   \n",
       " ...        ...    ...  ...        ...                          ...        ...   \n",
       " 77444   дизель     21  ...        3.0                          NaN   ORIGINAL   \n",
       " 77445   дизель     17  ...        3.0                          NaN   ORIGINAL   \n",
       " 77446   дизель     22  ...        3.0   {'year': 2018, 'month': 4}   ORIGINAL   \n",
       " 77447   дизель      9  ...        3.0  {'year': 2017, 'month': 10}   ORIGINAL   \n",
       " 77448   дизель     10  ...        1.0  {'year': 2013, 'month': 12}   ORIGINAL   \n",
       " \n",
       "          Привод  Руль  Состояние Таможня      price  price_EUR  price_USD  \n",
       " 0      передний  LEFT       True    True   106000.0     1161.0     1371.0  \n",
       " 1      передний  LEFT       True    True    44000.0      482.0      569.0  \n",
       " 2      передний  LEFT       True    True   167000.0     1829.0     2160.0  \n",
       " 3      передний  LEFT       True    True   135000.0     1478.0     1746.0  \n",
       " 4      передний  LEFT       True    True   130000.0     1424.0     1681.0  \n",
       " ...         ...   ...        ...     ...        ...        ...        ...  \n",
       " 77444    задний  LEFT       True    True  1098000.0    12023.0    14200.0  \n",
       " 77445    полный  LEFT       True    True  1130000.0    12374.0    14613.0  \n",
       " 77446    полный  LEFT       True    True  1300000.0    14235.0    16812.0  \n",
       " 77447    полный  LEFT       True    True  1250000.0    13688.0    16165.0  \n",
       " 77448    полный  LEFT       True    True  1170000.0    12812.0    15131.0  \n",
       " \n",
       " [77449 rows x 34 columns]>)"
      ]
     },
     "execution_count": 133,
     "metadata": {},
     "output_type": "execute_result"
    }
   ],
   "source": [
    "train1.info(), train2.info"
   ]
  },
  {
   "cell_type": "code",
   "execution_count": 134,
   "metadata": {},
   "outputs": [
    {
     "data": {
      "text/plain": [
       "(89378, 26)"
      ]
     },
     "execution_count": 134,
     "metadata": {},
     "output_type": "execute_result"
    }
   ],
   "source": [
    "train1.shape"
   ]
  },
  {
   "cell_type": "code",
   "execution_count": 135,
   "metadata": {},
   "outputs": [
    {
     "data": {
      "text/plain": [
       "(77449, 34)"
      ]
     },
     "execution_count": 135,
     "metadata": {},
     "output_type": "execute_result"
    }
   ],
   "source": [
    "train2.shape"
   ]
  },
  {
   "cell_type": "code",
   "execution_count": 136,
   "metadata": {},
   "outputs": [
    {
     "data": {
      "text/plain": [
       "(27567, 16)"
      ]
     },
     "execution_count": 136,
     "metadata": {},
     "output_type": "execute_result"
    }
   ],
   "source": [
    "train3.shape"
   ]
  },
  {
   "cell_type": "code",
   "execution_count": 256,
   "metadata": {},
   "outputs": [],
   "source": [
    "train = []"
   ]
  },
  {
   "cell_type": "code",
   "execution_count": 257,
   "metadata": {},
   "outputs": [],
   "source": [
    "train = pd.concat([train1, train2,train3])"
   ]
  },
  {
   "cell_type": "code",
   "execution_count": 260,
   "metadata": {},
   "outputs": [
    {
     "data": {
      "text/plain": [
       "(190299, 37)"
      ]
     },
     "execution_count": 260,
     "metadata": {},
     "output_type": "execute_result"
    }
   ],
   "source": [
    "train.shape"
   ]
  },
  {
   "cell_type": "code",
   "execution_count": 259,
   "metadata": {},
   "outputs": [],
   "source": [
    "train = train.drop_duplicates()"
   ]
  },
  {
   "cell_type": "code",
   "execution_count": 261,
   "metadata": {},
   "outputs": [
    {
     "name": "stdout",
     "output_type": "stream",
     "text": [
      "<class 'pandas.core.frame.DataFrame'>\n",
      "Int64Index: 190299 entries, 0 to 27566\n",
      "Data columns (total 37 columns):\n",
      " #   Column                Non-Null Count   Dtype  \n",
      "---  ------                --------------   -----  \n",
      " 0   bodyType              190295 non-null  object \n",
      " 1   brand                 190299 non-null  object \n",
      " 2   color                 190298 non-null  object \n",
      " 3   fuelType              190298 non-null  object \n",
      " 4   modelDate             190295 non-null  float64\n",
      " 5   name                  163204 non-null  object \n",
      " 6   numberOfDoors         190295 non-null  float64\n",
      " 7   productionDate        190298 non-null  float64\n",
      " 8   vehicleConfiguration  163204 non-null  object \n",
      " 9   vehicleTransmission   190295 non-null  object \n",
      " 10  engineDisplacement    190297 non-null  object \n",
      " 11  enginePower           190295 non-null  object \n",
      " 12  description           157351 non-null  object \n",
      " 13  mileage               190295 non-null  float64\n",
      " 14  Комплектация          87264 non-null   object \n",
      " 15  Привод                190292 non-null  object \n",
      " 16  Руль                  190295 non-null  object \n",
      " 17  Состояние             75943 non-null   object \n",
      " 18  Владельцы             162584 non-null  object \n",
      " 19  ПТС                   189487 non-null  object \n",
      " 20  Таможня               163207 non-null  object \n",
      " 21  Владение              48874 non-null   object \n",
      " 22  price                 189335 non-null  float64\n",
      " 23  start_date            163207 non-null  object \n",
      " 24  hidden                0 non-null       float64\n",
      " 25  model                 87264 non-null   object \n",
      " 26  complectation_dict    75943 non-null   object \n",
      " 27  equipment_dict        75943 non-null   object \n",
      " 28  image                 75943 non-null   float64\n",
      " 29  model_info            75943 non-null   object \n",
      " 30  model_name            75943 non-null   object \n",
      " 31  priceCurrency         75647 non-null   object \n",
      " 32  sell_id               75943 non-null   float64\n",
      " 33  super_gen             75941 non-null   object \n",
      " 34  vendor                75943 non-null   object \n",
      " 35  price_EUR             75647 non-null   float64\n",
      " 36  price_USD             75647 non-null   float64\n",
      "dtypes: float64(10), object(27)\n",
      "memory usage: 55.2+ MB\n"
     ]
    }
   ],
   "source": [
    "train.info()"
   ]
  },
  {
   "cell_type": "code",
   "execution_count": 262,
   "metadata": {},
   "outputs": [
    {
     "name": "stdout",
     "output_type": "stream",
     "text": [
      "<class 'pandas.core.frame.DataFrame'>\n",
      "RangeIndex: 34686 entries, 0 to 34685\n",
      "Data columns (total 32 columns):\n",
      " #   Column                Non-Null Count  Dtype \n",
      "---  ------                --------------  ----- \n",
      " 0   bodyType              34686 non-null  object\n",
      " 1   brand                 34686 non-null  object\n",
      " 2   car_url               34686 non-null  object\n",
      " 3   color                 34686 non-null  object\n",
      " 4   complectation_dict    6418 non-null   object\n",
      " 5   description           34686 non-null  object\n",
      " 6   engineDisplacement    34686 non-null  object\n",
      " 7   enginePower           34686 non-null  object\n",
      " 8   equipment_dict        24690 non-null  object\n",
      " 9   fuelType              34686 non-null  object\n",
      " 10  image                 34686 non-null  object\n",
      " 11  mileage               34686 non-null  int64 \n",
      " 12  modelDate             34686 non-null  int64 \n",
      " 13  model_info            34686 non-null  object\n",
      " 14  model_name            34686 non-null  object\n",
      " 15  name                  34686 non-null  object\n",
      " 16  numberOfDoors         34686 non-null  int64 \n",
      " 17  parsing_unixtime      34686 non-null  int64 \n",
      " 18  priceCurrency         34686 non-null  object\n",
      " 19  productionDate        34686 non-null  int64 \n",
      " 20  sell_id               34686 non-null  int64 \n",
      " 21  super_gen             34686 non-null  object\n",
      " 22  vehicleConfiguration  34686 non-null  object\n",
      " 23  vehicleTransmission   34686 non-null  object\n",
      " 24  vendor                34686 non-null  object\n",
      " 25  Владельцы             34686 non-null  object\n",
      " 26  Владение              11995 non-null  object\n",
      " 27  ПТС                   34685 non-null  object\n",
      " 28  Привод                34686 non-null  object\n",
      " 29  Руль                  34686 non-null  object\n",
      " 30  Состояние             34686 non-null  object\n",
      " 31  Таможня               34686 non-null  object\n",
      "dtypes: int64(6), object(26)\n",
      "memory usage: 8.5+ MB\n"
     ]
    }
   ],
   "source": [
    "test.info()"
   ]
  },
  {
   "cell_type": "markdown",
   "metadata": {},
   "source": [
    "STAAAAAAAAART"
   ]
  },
  {
   "cell_type": "code",
   "execution_count": 263,
   "metadata": {},
   "outputs": [],
   "source": [
    "df_train = train.copy()\n",
    "df_test = test.copy()\n",
    "df_test['price'] = 0"
   ]
  },
  {
   "cell_type": "code",
   "execution_count": 264,
   "metadata": {},
   "outputs": [],
   "source": [
    "df_train['sample'] = 1 # помечаем где у нас трейн\n",
    "df_test['sample'] = 0 # помечаем где у нас тест"
   ]
  },
  {
   "cell_type": "code",
   "execution_count": 265,
   "metadata": {},
   "outputs": [],
   "source": [
    "data = df_test.append(df_train, sort=False)"
   ]
  },
  {
   "cell_type": "markdown",
   "metadata": {},
   "source": [
    "Data Preprocessing"
   ]
  },
  {
   "cell_type": "code",
   "execution_count": 266,
   "metadata": {},
   "outputs": [
    {
     "name": "stdout",
     "output_type": "stream",
     "text": [
      "<class 'pandas.core.frame.DataFrame'>\n",
      "Int64Index: 224985 entries, 0 to 27566\n",
      "Data columns (total 40 columns):\n",
      " #   Column                Non-Null Count   Dtype  \n",
      "---  ------                --------------   -----  \n",
      " 0   bodyType              224981 non-null  object \n",
      " 1   brand                 224985 non-null  object \n",
      " 2   car_url               34686 non-null   object \n",
      " 3   color                 224984 non-null  object \n",
      " 4   complectation_dict    82361 non-null   object \n",
      " 5   description           192037 non-null  object \n",
      " 6   engineDisplacement    224983 non-null  object \n",
      " 7   enginePower           224981 non-null  object \n",
      " 8   equipment_dict        100633 non-null  object \n",
      " 9   fuelType              224984 non-null  object \n",
      " 10  image                 110629 non-null  object \n",
      " 11  mileage               224981 non-null  float64\n",
      " 12  modelDate             224981 non-null  float64\n",
      " 13  model_info            110629 non-null  object \n",
      " 14  model_name            110629 non-null  object \n",
      " 15  name                  197890 non-null  object \n",
      " 16  numberOfDoors         224981 non-null  float64\n",
      " 17  parsing_unixtime      34686 non-null   float64\n",
      " 18  priceCurrency         110333 non-null  object \n",
      " 19  productionDate        224984 non-null  float64\n",
      " 20  sell_id               110629 non-null  float64\n",
      " 21  super_gen             110627 non-null  object \n",
      " 22  vehicleConfiguration  197890 non-null  object \n",
      " 23  vehicleTransmission   224981 non-null  object \n",
      " 24  vendor                110629 non-null  object \n",
      " 25  Владельцы             197270 non-null  object \n",
      " 26  Владение              60869 non-null   object \n",
      " 27  ПТС                   224172 non-null  object \n",
      " 28  Привод                224978 non-null  object \n",
      " 29  Руль                  224981 non-null  object \n",
      " 30  Состояние             110629 non-null  object \n",
      " 31  Таможня               197893 non-null  object \n",
      " 32  price                 224021 non-null  float64\n",
      " 33  sample                224985 non-null  int64  \n",
      " 34  Комплектация          87264 non-null   object \n",
      " 35  start_date            163207 non-null  object \n",
      " 36  hidden                0 non-null       float64\n",
      " 37  model                 87264 non-null   object \n",
      " 38  price_EUR             75647 non-null   float64\n",
      " 39  price_USD             75647 non-null   float64\n",
      "dtypes: float64(10), int64(1), object(29)\n",
      "memory usage: 70.4+ MB\n"
     ]
    }
   ],
   "source": [
    "data.info()"
   ]
  },
  {
   "cell_type": "code",
   "execution_count": 267,
   "metadata": {},
   "outputs": [
    {
     "data": {
      "text/html": [
       "<div>\n",
       "<style scoped>\n",
       "    .dataframe tbody tr th:only-of-type {\n",
       "        vertical-align: middle;\n",
       "    }\n",
       "\n",
       "    .dataframe tbody tr th {\n",
       "        vertical-align: top;\n",
       "    }\n",
       "\n",
       "    .dataframe thead th {\n",
       "        text-align: right;\n",
       "    }\n",
       "</style>\n",
       "<table border=\"1\" class=\"dataframe\">\n",
       "  <thead>\n",
       "    <tr style=\"text-align: right;\">\n",
       "      <th></th>\n",
       "      <th>mileage</th>\n",
       "      <th>modelDate</th>\n",
       "      <th>numberOfDoors</th>\n",
       "      <th>parsing_unixtime</th>\n",
       "      <th>productionDate</th>\n",
       "      <th>sell_id</th>\n",
       "      <th>price</th>\n",
       "      <th>sample</th>\n",
       "      <th>hidden</th>\n",
       "      <th>price_EUR</th>\n",
       "      <th>price_USD</th>\n",
       "    </tr>\n",
       "  </thead>\n",
       "  <tbody>\n",
       "    <tr>\n",
       "      <th>mileage</th>\n",
       "      <td>1.000000</td>\n",
       "      <td>-0.710569</td>\n",
       "      <td>-0.111489</td>\n",
       "      <td>-0.012309</td>\n",
       "      <td>-0.735431</td>\n",
       "      <td>-0.064221</td>\n",
       "      <td>-0.448199</td>\n",
       "      <td>-0.094235</td>\n",
       "      <td>NaN</td>\n",
       "      <td>-0.489995</td>\n",
       "      <td>-0.489995</td>\n",
       "    </tr>\n",
       "    <tr>\n",
       "      <th>modelDate</th>\n",
       "      <td>-0.710569</td>\n",
       "      <td>1.000000</td>\n",
       "      <td>0.195440</td>\n",
       "      <td>0.008318</td>\n",
       "      <td>0.972372</td>\n",
       "      <td>0.086340</td>\n",
       "      <td>0.429456</td>\n",
       "      <td>0.079915</td>\n",
       "      <td>NaN</td>\n",
       "      <td>0.466775</td>\n",
       "      <td>0.466776</td>\n",
       "    </tr>\n",
       "    <tr>\n",
       "      <th>numberOfDoors</th>\n",
       "      <td>-0.111489</td>\n",
       "      <td>0.195440</td>\n",
       "      <td>1.000000</td>\n",
       "      <td>0.059327</td>\n",
       "      <td>0.206186</td>\n",
       "      <td>0.029899</td>\n",
       "      <td>0.082215</td>\n",
       "      <td>0.035207</td>\n",
       "      <td>NaN</td>\n",
       "      <td>0.099599</td>\n",
       "      <td>0.099599</td>\n",
       "    </tr>\n",
       "    <tr>\n",
       "      <th>parsing_unixtime</th>\n",
       "      <td>-0.012309</td>\n",
       "      <td>0.008318</td>\n",
       "      <td>0.059327</td>\n",
       "      <td>1.000000</td>\n",
       "      <td>0.010808</td>\n",
       "      <td>0.034509</td>\n",
       "      <td>NaN</td>\n",
       "      <td>NaN</td>\n",
       "      <td>NaN</td>\n",
       "      <td>NaN</td>\n",
       "      <td>NaN</td>\n",
       "    </tr>\n",
       "    <tr>\n",
       "      <th>productionDate</th>\n",
       "      <td>-0.735431</td>\n",
       "      <td>0.972372</td>\n",
       "      <td>0.206186</td>\n",
       "      <td>0.010808</td>\n",
       "      <td>1.000000</td>\n",
       "      <td>0.088676</td>\n",
       "      <td>0.436526</td>\n",
       "      <td>0.087213</td>\n",
       "      <td>NaN</td>\n",
       "      <td>0.470953</td>\n",
       "      <td>0.470954</td>\n",
       "    </tr>\n",
       "    <tr>\n",
       "      <th>sell_id</th>\n",
       "      <td>-0.064221</td>\n",
       "      <td>0.086340</td>\n",
       "      <td>0.029899</td>\n",
       "      <td>0.034509</td>\n",
       "      <td>0.088676</td>\n",
       "      <td>1.000000</td>\n",
       "      <td>0.052712</td>\n",
       "      <td>0.052995</td>\n",
       "      <td>NaN</td>\n",
       "      <td>0.091880</td>\n",
       "      <td>0.091881</td>\n",
       "    </tr>\n",
       "    <tr>\n",
       "      <th>price</th>\n",
       "      <td>-0.448199</td>\n",
       "      <td>0.429456</td>\n",
       "      <td>0.082215</td>\n",
       "      <td>NaN</td>\n",
       "      <td>0.436526</td>\n",
       "      <td>0.052712</td>\n",
       "      <td>1.000000</td>\n",
       "      <td>0.259481</td>\n",
       "      <td>NaN</td>\n",
       "      <td>1.000000</td>\n",
       "      <td>1.000000</td>\n",
       "    </tr>\n",
       "    <tr>\n",
       "      <th>sample</th>\n",
       "      <td>-0.094235</td>\n",
       "      <td>0.079915</td>\n",
       "      <td>0.035207</td>\n",
       "      <td>NaN</td>\n",
       "      <td>0.087213</td>\n",
       "      <td>0.052995</td>\n",
       "      <td>0.259481</td>\n",
       "      <td>1.000000</td>\n",
       "      <td>NaN</td>\n",
       "      <td>NaN</td>\n",
       "      <td>NaN</td>\n",
       "    </tr>\n",
       "    <tr>\n",
       "      <th>hidden</th>\n",
       "      <td>NaN</td>\n",
       "      <td>NaN</td>\n",
       "      <td>NaN</td>\n",
       "      <td>NaN</td>\n",
       "      <td>NaN</td>\n",
       "      <td>NaN</td>\n",
       "      <td>NaN</td>\n",
       "      <td>NaN</td>\n",
       "      <td>NaN</td>\n",
       "      <td>NaN</td>\n",
       "      <td>NaN</td>\n",
       "    </tr>\n",
       "    <tr>\n",
       "      <th>price_EUR</th>\n",
       "      <td>-0.489995</td>\n",
       "      <td>0.466775</td>\n",
       "      <td>0.099599</td>\n",
       "      <td>NaN</td>\n",
       "      <td>0.470953</td>\n",
       "      <td>0.091880</td>\n",
       "      <td>1.000000</td>\n",
       "      <td>NaN</td>\n",
       "      <td>NaN</td>\n",
       "      <td>1.000000</td>\n",
       "      <td>1.000000</td>\n",
       "    </tr>\n",
       "    <tr>\n",
       "      <th>price_USD</th>\n",
       "      <td>-0.489995</td>\n",
       "      <td>0.466776</td>\n",
       "      <td>0.099599</td>\n",
       "      <td>NaN</td>\n",
       "      <td>0.470954</td>\n",
       "      <td>0.091881</td>\n",
       "      <td>1.000000</td>\n",
       "      <td>NaN</td>\n",
       "      <td>NaN</td>\n",
       "      <td>1.000000</td>\n",
       "      <td>1.000000</td>\n",
       "    </tr>\n",
       "  </tbody>\n",
       "</table>\n",
       "</div>"
      ],
      "text/plain": [
       "                   mileage  modelDate  numberOfDoors  parsing_unixtime  \\\n",
       "mileage           1.000000  -0.710569      -0.111489         -0.012309   \n",
       "modelDate        -0.710569   1.000000       0.195440          0.008318   \n",
       "numberOfDoors    -0.111489   0.195440       1.000000          0.059327   \n",
       "parsing_unixtime -0.012309   0.008318       0.059327          1.000000   \n",
       "productionDate   -0.735431   0.972372       0.206186          0.010808   \n",
       "sell_id          -0.064221   0.086340       0.029899          0.034509   \n",
       "price            -0.448199   0.429456       0.082215               NaN   \n",
       "sample           -0.094235   0.079915       0.035207               NaN   \n",
       "hidden                 NaN        NaN            NaN               NaN   \n",
       "price_EUR        -0.489995   0.466775       0.099599               NaN   \n",
       "price_USD        -0.489995   0.466776       0.099599               NaN   \n",
       "\n",
       "                  productionDate   sell_id     price    sample  hidden  \\\n",
       "mileage                -0.735431 -0.064221 -0.448199 -0.094235     NaN   \n",
       "modelDate               0.972372  0.086340  0.429456  0.079915     NaN   \n",
       "numberOfDoors           0.206186  0.029899  0.082215  0.035207     NaN   \n",
       "parsing_unixtime        0.010808  0.034509       NaN       NaN     NaN   \n",
       "productionDate          1.000000  0.088676  0.436526  0.087213     NaN   \n",
       "sell_id                 0.088676  1.000000  0.052712  0.052995     NaN   \n",
       "price                   0.436526  0.052712  1.000000  0.259481     NaN   \n",
       "sample                  0.087213  0.052995  0.259481  1.000000     NaN   \n",
       "hidden                       NaN       NaN       NaN       NaN     NaN   \n",
       "price_EUR               0.470953  0.091880  1.000000       NaN     NaN   \n",
       "price_USD               0.470954  0.091881  1.000000       NaN     NaN   \n",
       "\n",
       "                  price_EUR  price_USD  \n",
       "mileage           -0.489995  -0.489995  \n",
       "modelDate          0.466775   0.466776  \n",
       "numberOfDoors      0.099599   0.099599  \n",
       "parsing_unixtime        NaN        NaN  \n",
       "productionDate     0.470953   0.470954  \n",
       "sell_id            0.091880   0.091881  \n",
       "price              1.000000   1.000000  \n",
       "sample                  NaN        NaN  \n",
       "hidden                  NaN        NaN  \n",
       "price_EUR          1.000000   1.000000  \n",
       "price_USD          1.000000   1.000000  "
      ]
     },
     "execution_count": 267,
     "metadata": {},
     "output_type": "execute_result"
    }
   ],
   "source": [
    "data.corr()"
   ]
  },
  {
   "cell_type": "code",
   "execution_count": 268,
   "metadata": {},
   "outputs": [],
   "source": [
    "data = data.drop(['hidden', 'car_url','image', 'sell_id','modelDate', 'price_EUR', 'price_USD',\n",
    "                  'Таможня', 'Состояние', 'model_info','parsing_unixtime', 'complectation_dict','description', 'equipment_dict',\n",
    "                  'priceCurrency','super_gen','Комплектация','start_date','Владение','vehicleConfiguration','name'],axis = 1)"
   ]
  },
  {
   "cell_type": "code",
   "execution_count": 269,
   "metadata": {},
   "outputs": [
    {
     "name": "stdout",
     "output_type": "stream",
     "text": [
      "<class 'pandas.core.frame.DataFrame'>\n",
      "Int64Index: 224985 entries, 0 to 27566\n",
      "Data columns (total 19 columns):\n",
      " #   Column               Non-Null Count   Dtype  \n",
      "---  ------               --------------   -----  \n",
      " 0   bodyType             224981 non-null  object \n",
      " 1   brand                224985 non-null  object \n",
      " 2   color                224984 non-null  object \n",
      " 3   engineDisplacement   224983 non-null  object \n",
      " 4   enginePower          224981 non-null  object \n",
      " 5   fuelType             224984 non-null  object \n",
      " 6   mileage              224981 non-null  float64\n",
      " 7   model_name           110629 non-null  object \n",
      " 8   numberOfDoors        224981 non-null  float64\n",
      " 9   productionDate       224984 non-null  float64\n",
      " 10  vehicleTransmission  224981 non-null  object \n",
      " 11  vendor               110629 non-null  object \n",
      " 12  Владельцы            197270 non-null  object \n",
      " 13  ПТС                  224172 non-null  object \n",
      " 14  Привод               224978 non-null  object \n",
      " 15  Руль                 224981 non-null  object \n",
      " 16  price                224021 non-null  float64\n",
      " 17  sample               224985 non-null  int64  \n",
      " 18  model                87264 non-null   object \n",
      "dtypes: float64(4), int64(1), object(14)\n",
      "memory usage: 34.3+ MB\n"
     ]
    }
   ],
   "source": [
    "data.info()"
   ]
  },
  {
   "cell_type": "code",
   "execution_count": 270,
   "metadata": {},
   "outputs": [
    {
     "name": "stdout",
     "output_type": "stream",
     "text": [
      "bodyType 206\n",
      "brand 36\n",
      "color 32\n",
      "engineDisplacement 600\n",
      "enginePower 720\n",
      "fuelType 7\n",
      "mileage 39802\n",
      "model_name 1080\n",
      "numberOfDoors 5\n",
      "productionDate 83\n",
      "vehicleTransmission 8\n",
      "vendor 6\n",
      "Владельцы 8\n",
      "ПТС 4\n",
      "Привод 3\n",
      "Руль 4\n",
      "price 15011\n",
      "sample 2\n",
      "model 1086\n"
     ]
    }
   ],
   "source": [
    "for i in data.columns:\n",
    "    print(i ,len(data[i].value_counts()))"
   ]
  },
  {
   "cell_type": "code",
   "execution_count": 271,
   "metadata": {},
   "outputs": [
    {
     "name": "stdout",
     "output_type": "stream",
     "text": [
      "bodyType 4\n",
      "brand 0\n",
      "color 1\n",
      "engineDisplacement 2\n",
      "enginePower 4\n",
      "fuelType 1\n",
      "mileage 4\n",
      "model_name 114356\n",
      "numberOfDoors 4\n",
      "productionDate 1\n",
      "vehicleTransmission 4\n",
      "vendor 114356\n",
      "Владельцы 27715\n",
      "ПТС 813\n",
      "Привод 7\n",
      "Руль 4\n",
      "price 964\n",
      "sample 0\n",
      "model 137721\n"
     ]
    }
   ],
   "source": [
    "for i in data.columns:\n",
    "    print(i, len(data[data[i].isna()]))"
   ]
  },
  {
   "cell_type": "code",
   "execution_count": 272,
   "metadata": {},
   "outputs": [
    {
     "name": "stdout",
     "output_type": "stream",
     "text": [
      "bodyType 0\n",
      "brand 0\n",
      "color 0\n",
      "engineDisplacement 0\n",
      "enginePower 0\n",
      "fuelType 0\n",
      "mileage 0\n",
      "model_name 113687\n",
      "numberOfDoors 0\n",
      "productionDate 0\n",
      "vehicleTransmission 0\n",
      "vendor 113687\n",
      "Владельцы 27691\n",
      "ПТС 809\n",
      "Привод 0\n",
      "Руль 0\n",
      "price 0\n",
      "sample 0\n",
      "model 137165\n"
     ]
    }
   ],
   "source": [
    "data.dropna(subset=['price', 'Привод', 'Руль'], inplace=True)\n",
    "for i in data.columns:\n",
    "    print(i, len(data[data[i].isna()]))"
   ]
  },
  {
   "cell_type": "code",
   "execution_count": 273,
   "metadata": {},
   "outputs": [
    {
     "data": {
      "text/plain": [
       "Внедорожник 5 дв.                   60018\n",
       "Седан                               53437\n",
       "седан                               24207\n",
       "внедорожник 5 дв.                   23055\n",
       "Хэтчбек 5 дв.                       15337\n",
       "                                    ...  \n",
       "Универсал 5 дв. Plus                    1\n",
       "Пикап Полуторная кабина Rap Cab         1\n",
       "Пикап Полуторная кабина Club Cab        1\n",
       "Микровэн Hobio                          1\n",
       "Минивэн Cargo                           1\n",
       "Name: bodyType, Length: 206, dtype: int64"
      ]
     },
     "execution_count": 273,
     "metadata": {},
     "output_type": "execute_result"
    }
   ],
   "source": [
    "data['bodyType'].value_counts()"
   ]
  },
  {
   "cell_type": "code",
   "execution_count": 274,
   "metadata": {},
   "outputs": [],
   "source": [
    "import re"
   ]
  },
  {
   "cell_type": "code",
   "execution_count": 275,
   "metadata": {},
   "outputs": [],
   "source": [
    "data['bodyType'] = data['bodyType'].apply(lambda x: str(x).lower())\n",
    "data['bodyType'] = data['bodyType'].apply(lambda x: re.findall(r'\\w+', x)[0])"
   ]
  },
  {
   "cell_type": "code",
   "execution_count": 276,
   "metadata": {},
   "outputs": [],
   "source": [
    "data = data[data['bodyType'] !='nan']"
   ]
  },
  {
   "cell_type": "code",
   "execution_count": 277,
   "metadata": {},
   "outputs": [
    {
     "data": {
      "text/plain": [
       "внедорожник    84603\n",
       "седан          80157\n",
       "хэтчбек        23584\n",
       "лифтбек        10075\n",
       "универсал       8429\n",
       "минивэн         5807\n",
       "купе            4383\n",
       "компактвэн      4341\n",
       "пикап           1397\n",
       "кабриолет        456\n",
       "родстер          376\n",
       "фургон           321\n",
       "микровэн          51\n",
       "лимузин           18\n",
       "тарга             14\n",
       "фастбек            6\n",
       "Name: bodyType, dtype: int64"
      ]
     },
     "execution_count": 277,
     "metadata": {},
     "output_type": "execute_result"
    }
   ],
   "source": [
    "data['bodyType'].value_counts()"
   ]
  },
  {
   "cell_type": "code",
   "execution_count": 278,
   "metadata": {},
   "outputs": [],
   "source": [
    "other_cars = [ 'кабриолет', 'родстер', 'фургон','микровэн', 'лимузин', 'тарга', 'фастбек']\n",
    "data['bodyType'] = data['bodyType'].apply(lambda x: 'другое' if x in other_cars else x )\n",
    "data['bodyType'] = data['bodyType'].astype('category')"
   ]
  },
  {
   "cell_type": "code",
   "execution_count": 279,
   "metadata": {},
   "outputs": [
    {
     "data": {
      "text/plain": [
       "<AxesSubplot:>"
      ]
     },
     "execution_count": 279,
     "metadata": {},
     "output_type": "execute_result"
    },
    {
     "data": {
      "image/png": "[encoded data removed]",
      "text/plain": [
       "<Figure size 432x288 with 1 Axes>"
      ]
     },
     "metadata": {
      "needs_background": "light"
     },
     "output_type": "display_data"
    }
   ],
   "source": [
    "data['bodyType'].value_counts().plot(kind='bar')"
   ]
  },
  {
   "cell_type": "code",
   "execution_count": 280,
   "metadata": {},
   "outputs": [],
   "source": [
    "data = data[data['numberOfDoors'].notna()]\n",
    "data['numberOfDoors'] = data['numberOfDoors'].apply(lambda x: 2 if x == 0 else x)"
   ]
  },
  {
   "cell_type": "code",
   "execution_count": 281,
   "metadata": {},
   "outputs": [
    {
     "data": {
      "text/plain": [
       "<AxesSubplot:>"
      ]
     },
     "execution_count": 281,
     "metadata": {},
     "output_type": "execute_result"
    },
    {
     "data": {
      "image/png": "[encoded data removed]",
      "text/plain": [
       "<Figure size 432x288 with 1 Axes>"
      ]
     },
     "metadata": {
      "needs_background": "light"
     },
     "output_type": "display_data"
    }
   ],
   "source": [
    "data['numberOfDoors'].value_counts().plot(kind='bar')"
   ]
  },
  {
   "cell_type": "code",
   "execution_count": 282,
   "metadata": {},
   "outputs": [
    {
     "data": {
      "text/plain": [
       "040001         45447\n",
       "FAFBFB         28519\n",
       "чёрный         20172\n",
       "97948F         20071\n",
       "CACECB         19843\n",
       "0000CC         16708\n",
       "белый          11293\n",
       "EE1D19          8646\n",
       "серый           7170\n",
       "серебристый     6873\n",
       "200204          6582\n",
       "синий           5914\n",
       "007F00          4749\n",
       "C49648          3513\n",
       "коричневый      2583\n",
       "22A0F8          2530\n",
       "красный         2530\n",
       "зелёный         1560\n",
       "DEA522          1309\n",
       "FFD600          1292\n",
       "660099          1278\n",
       "бежевый         1055\n",
       "4A2197          1001\n",
       "FF8649           965\n",
       "голубой          718\n",
       "золотистый       402\n",
       "пурпурный        399\n",
       "фиолетовый       336\n",
       "жёлтый           289\n",
       "оранжевый        211\n",
       "FFC0CB            45\n",
       "розовый           15\n",
       "Name: color, dtype: int64"
      ]
     },
     "execution_count": 282,
     "metadata": {},
     "output_type": "execute_result"
    }
   ],
   "source": [
    "data['color'].value_counts()"
   ]
  },
  {
   "cell_type": "code",
   "execution_count": 283,
   "metadata": {},
   "outputs": [],
   "source": [
    "colors = {\n",
    "'040001': 'черный',\n",
    "'FAFBFB': 'белый',\n",
    "'97948F': 'серый',\n",
    "'CACECB': 'серебристый',\n",
    "'0000CC': 'синий',\n",
    "'EE1D19': 'красный',\n",
    "'200204': 'бордовый',\n",
    "'007F00': 'зелёный',\n",
    "'C49648': 'коричневый',\n",
    "'22A0F8': 'голубой',\n",
    "'DEA522': 'золотистый',\n",
    "'FFD600': 'жёлтый',\n",
    "'660099': 'пурпурный',\n",
    "'4A2197': 'фиолетовый',\n",
    "'FF8649': 'бежевый',\n",
    "'FFC0CB': 'розовый',\n",
    "}"
   ]
  },
  {
   "cell_type": "code",
   "execution_count": 284,
   "metadata": {},
   "outputs": [],
   "source": [
    "data['color'] = data['color'].replace(colors).apply(lambda x: x.lower())\n",
    "data['color'] = data['color'].astype(\"category\")"
   ]
  },
  {
   "cell_type": "code",
   "execution_count": 285,
   "metadata": {},
   "outputs": [
    {
     "data": {
      "text/plain": [
       "<AxesSubplot:>"
      ]
     },
     "execution_count": 285,
     "metadata": {},
     "output_type": "execute_result"
    },
    {
     "data": {
      "image/png": "[encoded data removed]",
      "text/plain": [
       "<Figure size 432x288 with 1 Axes>"
      ]
     },
     "metadata": {
      "needs_background": "light"
     },
     "output_type": "display_data"
    }
   ],
   "source": [
    "data['color'].value_counts().plot(kind='bar')"
   ]
  },
  {
   "cell_type": "code",
   "execution_count": 289,
   "metadata": {},
   "outputs": [],
   "source": [
    "data = data[data['fuelType'].notna()]\n",
    "data['fuelType'] = data['fuelType'].astype(\"category\")"
   ]
  },
  {
   "cell_type": "code",
   "execution_count": 290,
   "metadata": {},
   "outputs": [
    {
     "data": {
      "text/plain": [
       "<AxesSubplot:>"
      ]
     },
     "execution_count": 290,
     "metadata": {},
     "output_type": "execute_result"
    },
    {
     "data": {
      "image/png": "[encoded data removed]",
      "text/plain": [
       "<Figure size 432x288 with 1 Axes>"
      ]
     },
     "metadata": {
      "needs_background": "light"
     },
     "output_type": "display_data"
    }
   ],
   "source": [
    "data['fuelType'].value_counts().plot(kind='bar')"
   ]
  },
  {
   "cell_type": "code",
   "execution_count": 291,
   "metadata": {},
   "outputs": [],
   "source": [
    "data = data[data['mileage'].notna()]"
   ]
  },
  {
   "cell_type": "code",
   "execution_count": 292,
   "metadata": {},
   "outputs": [
    {
     "data": {
      "text/plain": [
       "<AxesSubplot:ylabel='Frequency'>"
      ]
     },
     "execution_count": 292,
     "metadata": {},
     "output_type": "execute_result"
    },
    {
     "data": {
      "image/png": "[encoded data removed]",
      "text/plain": [
       "<Figure size 432x288 with 1 Axes>"
      ]
     },
     "metadata": {
      "needs_background": "light"
     },
     "output_type": "display_data"
    }
   ],
   "source": [
    "data['mileage'].plot(kind='hist')"
   ]
  },
  {
   "cell_type": "code",
   "execution_count": 293,
   "metadata": {},
   "outputs": [
    {
     "data": {
      "text/plain": [
       "E_KLASSE        2555\n",
       "OCTAVIA         2503\n",
       "3ER             1970\n",
       "5ER             1930\n",
       "POLO            1883\n",
       "                ... \n",
       "DART               1\n",
       "K3                 1\n",
       "SAMBAR             1\n",
       "MAXCRUZ            1\n",
       "ORIENTAL_SON       1\n",
       "Name: model_name, Length: 1080, dtype: int64"
      ]
     },
     "execution_count": 293,
     "metadata": {},
     "output_type": "execute_result"
    }
   ],
   "source": [
    "data['model_name'].value_counts()"
   ]
  },
  {
   "cell_type": "code",
   "execution_count": 301,
   "metadata": {},
   "outputs": [
    {
     "name": "stdout",
     "output_type": "stream",
     "text": [
      "<class 'pandas.core.frame.DataFrame'>\n",
      "Int64Index: 224018 entries, 0 to 27566\n",
      "Data columns (total 19 columns):\n",
      " #   Column               Non-Null Count   Dtype   \n",
      "---  ------               --------------   -----   \n",
      " 0   bodyType             224018 non-null  category\n",
      " 1   brand                224018 non-null  object  \n",
      " 2   color                224018 non-null  category\n",
      " 3   engineDisplacement   224018 non-null  object  \n",
      " 4   enginePower          224018 non-null  object  \n",
      " 5   fuelType             224018 non-null  category\n",
      " 6   mileage              224018 non-null  float64 \n",
      " 7   model_name           197184 non-null  object  \n",
      " 8   numberOfDoors        224018 non-null  float64 \n",
      " 9   productionDate       224018 non-null  float64 \n",
      " 10  vehicleTransmission  224018 non-null  object  \n",
      " 11  vendor               110331 non-null  object  \n",
      " 12  Владельцы            196327 non-null  object  \n",
      " 13  ПТС                  223209 non-null  object  \n",
      " 14  Привод               224018 non-null  object  \n",
      " 15  Руль                 224018 non-null  object  \n",
      " 16  price                224018 non-null  float64 \n",
      " 17  sample               224018 non-null  int64   \n",
      " 18  model                86853 non-null   object  \n",
      "dtypes: category(3), float64(4), int64(1), object(11)\n",
      "memory usage: 29.7+ MB\n"
     ]
    }
   ],
   "source": [
    "data.info()"
   ]
  },
  {
   "cell_type": "code",
   "execution_count": 302,
   "metadata": {},
   "outputs": [
    {
     "data": {
      "text/plain": [
       "FOCUS        4213\n",
       "E_KLASSE     3937\n",
       "OCTAVIA      3932\n",
       "5ER          3567\n",
       "3ER          3320\n",
       "POLO         3127\n",
       "PASSAT       3079\n",
       "SOLARIS      2864\n",
       "ASTRA        2687\n",
       "RIO          2597\n",
       "X_TRAIL      2590\n",
       "OUTLANDER    2467\n",
       "X5           2453\n",
       "LANCER       2377\n",
       "A6           2316\n",
       "TIGUAN       2310\n",
       "QASHQAI      2297\n",
       "CAMRY        2090\n",
       "S_KLASSE     2056\n",
       "A4           1953\n",
       "C_KLASSE     1767\n",
       "Name: model_name, dtype: int64"
      ]
     },
     "execution_count": 302,
     "metadata": {},
     "output_type": "execute_result"
    }
   ],
   "source": [
    "data['model_name'].value_counts().head(21)"
   ]
  },
  {
   "cell_type": "code",
   "execution_count": 303,
   "metadata": {},
   "outputs": [
    {
     "data": {
      "text/plain": [
       "Index(['BMW', 'MERCEDES', 'VOLKSWAGEN', 'NISSAN', 'TOYOTA', 'AUDI',\n",
       "       'MITSUBISHI', 'HYUNDAI', 'KIA', 'SKODA', 'FORD', 'CHEVROLET', 'RENAULT',\n",
       "       'VOLVO', 'OPEL', 'MAZDA', 'HONDA', 'LAND_ROVER', 'PEUGEOT', 'LEXUS',\n",
       "       'INFINITI'],\n",
       "      dtype='object')"
      ]
     },
     "execution_count": 303,
     "metadata": {},
     "output_type": "execute_result"
    }
   ],
   "source": [
    "data['brand'].value_counts()[:21].keys()"
   ]
  },
  {
   "cell_type": "code",
   "execution_count": 304,
   "metadata": {},
   "outputs": [],
   "source": [
    "brand_list = list(data['brand'].value_counts()[:21].keys())\n",
    "data['brand'] = data['brand'].apply(lambda x: x if x in brand_list else \"OTHER\")\n",
    "data['brand'] = data['brand'].astype('category')"
   ]
  },
  {
   "cell_type": "code",
   "execution_count": 305,
   "metadata": {},
   "outputs": [
    {
     "data": {
      "text/plain": [
       "<AxesSubplot:>"
      ]
     },
     "execution_count": 305,
     "metadata": {},
     "output_type": "execute_result"
    },
    {
     "data": {
      "image/png": "[encoded data removed]",
      "text/plain": [
       "<Figure size 432x288 with 1 Axes>"
      ]
     },
     "metadata": {
      "needs_background": "light"
     },
     "output_type": "display_data"
    }
   ],
   "source": [
    "data['brand'].value_counts().plot(kind='bar')"
   ]
  },
  {
   "cell_type": "code",
   "execution_count": 306,
   "metadata": {},
   "outputs": [
    {
     "data": {
      "text/plain": [
       "<AxesSubplot:>"
      ]
     },
     "execution_count": 306,
     "metadata": {},
     "output_type": "execute_result"
    },
    {
     "data": {
      "image/png": "[encoded data removed]",
      "text/plain": [
       "<Figure size 432x288 with 1 Axes>"
      ]
     },
     "metadata": {
      "needs_background": "light"
     },
     "output_type": "display_data"
    }
   ],
   "source": [
    "engine_list = list(data['engineDisplacement'].value_counts()[:30].keys())\n",
    "data['engineDisplacement'] = data['engineDisplacement'].apply(lambda x: x if x in engine_list else 'OTHER')\n",
    "data['engineDisplacement'].value_counts().plot(kind='bar')"
   ]
  },
  {
   "cell_type": "code",
   "execution_count": 307,
   "metadata": {},
   "outputs": [
    {
     "data": {
      "text/plain": [
       "150.0      13486\n",
       "249.0       7153\n",
       "140.0       5069\n",
       "105.0       4119\n",
       "123.0       3885\n",
       "           ...  \n",
       "626 N12        1\n",
       "485 N12        1\n",
       "164 N12        1\n",
       "32 N12         1\n",
       "195 N12        1\n",
       "Name: enginePower, Length: 720, dtype: int64"
      ]
     },
     "execution_count": 307,
     "metadata": {},
     "output_type": "execute_result"
    }
   ],
   "source": [
    "data['enginePower'].value_counts()"
   ]
  },
  {
   "cell_type": "code",
   "execution_count": 308,
   "metadata": {},
   "outputs": [],
   "source": [
    "data['enginePower'] = data['enginePower'].apply(lambda x: int(re.findall('(\\d+)', str(x))[0]))\n",
    "data['enginePower']= data['enginePower'].astype('int')"
   ]
  },
  {
   "cell_type": "code",
   "execution_count": 309,
   "metadata": {},
   "outputs": [
    {
     "data": {
      "text/plain": [
       "<AxesSubplot:ylabel='Frequency'>"
      ]
     },
     "execution_count": 309,
     "metadata": {},
     "output_type": "execute_result"
    },
    {
     "data": {
      "image/png": "[encoded data removed]",
      "text/plain": [
       "<Figure size 432x288 with 1 Axes>"
      ]
     },
     "metadata": {
      "needs_background": "light"
     },
     "output_type": "display_data"
    }
   ],
   "source": [
    "data['enginePower'].sort_values().plot.hist(bins=20)"
   ]
  },
  {
   "cell_type": "code",
   "execution_count": 310,
   "metadata": {},
   "outputs": [
    {
     "data": {
      "text/plain": [
       "<AxesSubplot:>"
      ]
     },
     "execution_count": 310,
     "metadata": {},
     "output_type": "execute_result"
    },
    {
     "data": {
      "image/png": "[encoded data removed]",
      "text/plain": [
       "<Figure size 432x288 with 1 Axes>"
      ]
     },
     "metadata": {
      "needs_background": "light"
     },
     "output_type": "display_data"
    }
   ],
   "source": [
    "data['fuelType'] = data['fuelType'].astype('category')\n",
    "data['fuelType'].value_counts().plot(kind='bar')"
   ]
  },
  {
   "cell_type": "code",
   "execution_count": 311,
   "metadata": {},
   "outputs": [
    {
     "data": {
      "text/plain": [
       "2020.0    27418\n",
       "2008.0    16403\n",
       "2012.0    16301\n",
       "2011.0    15100\n",
       "2013.0    14374\n",
       "          ...  \n",
       "1966.0        1\n",
       "1931.0        1\n",
       "1928.0        1\n",
       "1924.0        1\n",
       "1956.0        1\n",
       "Name: productionDate, Length: 83, dtype: int64"
      ]
     },
     "execution_count": 311,
     "metadata": {},
     "output_type": "execute_result"
    }
   ],
   "source": [
    "data['productionDate'].value_counts()"
   ]
  },
  {
   "cell_type": "code",
   "execution_count": 314,
   "metadata": {},
   "outputs": [
    {
     "data": {
      "text/plain": [
       "автоматическая      126439\n",
       "механическая         57751\n",
       "роботизированная     21315\n",
       "вариатор             18513\n",
       "Name: vehicleTransmission, dtype: int64"
      ]
     },
     "execution_count": 314,
     "metadata": {},
     "output_type": "execute_result"
    }
   ],
   "source": [
    "data['vehicleTransmission'].value_counts()"
   ]
  },
  {
   "cell_type": "code",
   "execution_count": 313,
   "metadata": {},
   "outputs": [],
   "source": [
    "vehicle = {'AUTOMATIC':'автоматическая',\n",
    "'MECHANICAL':'механическая',\n",
    "'ROBOT':'роботизированная',\n",
    "'VARIATOR':'вариатор'}\n",
    "data['vehicleTransmission'] = data['vehicleTransmission'].replace(vehicle)"
   ]
  },
  {
   "cell_type": "code",
   "execution_count": 315,
   "metadata": {},
   "outputs": [
    {
     "data": {
      "text/plain": [
       "<AxesSubplot:>"
      ]
     },
     "execution_count": 315,
     "metadata": {},
     "output_type": "execute_result"
    },
    {
     "data": {
      "image/png": "[encoded data removed]",
      "text/plain": [
       "<Figure size 432x288 with 1 Axes>"
      ]
     },
     "metadata": {
      "needs_background": "light"
     },
     "output_type": "display_data"
    }
   ],
   "source": [
    "data['vehicleTransmission'] = data['vehicleTransmission'].astype('category')\n",
    "data['vehicleTransmission'].value_counts().plot.bar()"
   ]
  },
  {
   "cell_type": "code",
   "execution_count": 316,
   "metadata": {},
   "outputs": [
    {
     "data": {
      "text/plain": [
       "EUROPEAN    60692\n",
       "JAPANESE    30517\n",
       "KOREAN       9666\n",
       "AMERICAN     7359\n",
       "RUSSIAN      1057\n",
       "CHINESE      1040\n",
       "Name: vendor, dtype: int64"
      ]
     },
     "execution_count": 316,
     "metadata": {},
     "output_type": "execute_result"
    }
   ],
   "source": [
    "data['vendor'].value_counts()"
   ]
  },
  {
   "cell_type": "code",
   "execution_count": 317,
   "metadata": {},
   "outputs": [
    {
     "data": {
      "image/png": "[encoded data removed]",
      "text/plain": [
       "<Figure size 432x288 with 1 Axes>"
      ]
     },
     "metadata": {
      "needs_background": "light"
     },
     "output_type": "display_data"
    }
   ],
   "source": [
    "data['vendor'] = data['vendor'].fillna('V_UNKNOWN')\n",
    "data['vendor'].value_counts().plot.bar()\n",
    "data['vendor'] = data['vendor'].astype('category')"
   ]
  },
  {
   "cell_type": "code",
   "execution_count": 318,
   "metadata": {},
   "outputs": [],
   "source": [
    "data['Владельцы'] = data['Владельцы'].fillna(data['Владельцы'].describe().top)"
   ]
  },
  {
   "cell_type": "code",
   "execution_count": 319,
   "metadata": {},
   "outputs": [
    {
     "data": {
      "text/plain": [
       "<AxesSubplot:>"
      ]
     },
     "execution_count": 319,
     "metadata": {},
     "output_type": "execute_result"
    },
    {
     "data": {
      "image/png": "[encoded data removed]",
      "text/plain": [
       "<Figure size 432x288 with 1 Axes>"
      ]
     },
     "metadata": {
      "needs_background": "light"
     },
     "output_type": "display_data"
    }
   ],
   "source": [
    "data['Владельцы'] = data['Владельцы'].apply(lambda x: int(re.findall('\\d', str(x))[0]))\n",
    "data['Владельцы'] = data['Владельцы'].astype('category')\n",
    "data['Владельцы'].value_counts().plot(kind='bar')\n"
   ]
  },
  {
   "cell_type": "code",
   "execution_count": 320,
   "metadata": {},
   "outputs": [
    {
     "data": {
      "text/plain": [
       "3    119125\n",
       "2     52828\n",
       "1     52065\n",
       "Name: Владельцы, dtype: int64"
      ]
     },
     "execution_count": 320,
     "metadata": {},
     "output_type": "execute_result"
    }
   ],
   "source": [
    "data['Владельцы'].value_counts()"
   ]
  },
  {
   "cell_type": "code",
   "execution_count": 321,
   "metadata": {},
   "outputs": [
    {
     "data": {
      "text/plain": [
       "ORIGINAL     143326\n",
       "Оригинал      52817\n",
       "DUPLICATE     18365\n",
       "Дубликат       8701\n",
       "Name: ПТС, dtype: int64"
      ]
     },
     "execution_count": 321,
     "metadata": {},
     "output_type": "execute_result"
    }
   ],
   "source": [
    "data['ПТС'].value_counts()"
   ]
  },
  {
   "cell_type": "code",
   "execution_count": 322,
   "metadata": {},
   "outputs": [],
   "source": [
    "orig_or_dupl = {'ORIGINAL':'Оригинал','DUPLICATE':'Дубликат'} "
   ]
  },
  {
   "cell_type": "code",
   "execution_count": 323,
   "metadata": {},
   "outputs": [
    {
     "data": {
      "text/plain": [
       "<AxesSubplot:>"
      ]
     },
     "execution_count": 323,
     "metadata": {},
     "output_type": "execute_result"
    },
    {
     "data": {
      "image/png": "[encoded data removed]",
      "text/plain": [
       "<Figure size 432x288 with 1 Axes>"
      ]
     },
     "metadata": {
      "needs_background": "light"
     },
     "output_type": "display_data"
    }
   ],
   "source": [
    "data['ПТС'] = data['ПТС'].replace(orig_or_dupl)\n",
    "data['ПТС'] = data['ПТС'].fillna(data['ПТС'].describe().top)\n",
    "data['ПТС'].value_counts().plot(kind='bar')"
   ]
  },
  {
   "cell_type": "code",
   "execution_count": 324,
   "metadata": {},
   "outputs": [
    {
     "data": {
      "text/plain": [
       "<AxesSubplot:>"
      ]
     },
     "execution_count": 324,
     "metadata": {},
     "output_type": "execute_result"
    },
    {
     "data": {
      "image/png": "[encoded data removed]",
      "text/plain": [
       "<Figure size 432x288 with 1 Axes>"
      ]
     },
     "metadata": {
      "needs_background": "light"
     },
     "output_type": "display_data"
    }
   ],
   "source": [
    "data['Привод'] = data['Привод'].astype('category')\n",
    "data['Привод'].value_counts().plot(kind='bar')"
   ]
  },
  {
   "cell_type": "code",
   "execution_count": 325,
   "metadata": {},
   "outputs": [
    {
     "data": {
      "text/plain": [
       "<AxesSubplot:>"
      ]
     },
     "execution_count": 325,
     "metadata": {},
     "output_type": "execute_result"
    },
    {
     "data": {
      "image/png": "[encoded data removed]",
      "text/plain": [
       "<Figure size 432x288 with 1 Axes>"
      ]
     },
     "metadata": {
      "needs_background": "light"
     },
     "output_type": "display_data"
    }
   ],
   "source": [
    "rule={'LEFT': 'Левый', 'RIGHT': 'Правый' }\n",
    "data['Руль'] = data['Руль'].replace(rule)\n",
    "data['Руль'].value_counts().plot.bar()"
   ]
  },
  {
   "cell_type": "code",
   "execution_count": 329,
   "metadata": {},
   "outputs": [
    {
     "name": "stdout",
     "output_type": "stream",
     "text": [
      "<class 'pandas.core.frame.DataFrame'>\n",
      "Int64Index: 224018 entries, 0 to 27566\n",
      "Data columns (total 19 columns):\n",
      " #   Column               Non-Null Count   Dtype   \n",
      "---  ------               --------------   -----   \n",
      " 0   bodyType             224018 non-null  category\n",
      " 1   brand                224018 non-null  category\n",
      " 2   color                224018 non-null  category\n",
      " 3   engineDisplacement   224018 non-null  object  \n",
      " 4   enginePower          224018 non-null  int32   \n",
      " 5   fuelType             224018 non-null  category\n",
      " 6   mileage              224018 non-null  float64 \n",
      " 7   model_name           197184 non-null  object  \n",
      " 8   numberOfDoors        224018 non-null  float64 \n",
      " 9   productionDate       224018 non-null  float64 \n",
      " 10  vehicleTransmission  224018 non-null  category\n",
      " 11  vendor               224018 non-null  category\n",
      " 12  Владельцы            224018 non-null  category\n",
      " 13  ПТС                  224018 non-null  object  \n",
      " 14  Привод               224018 non-null  category\n",
      " 15  Руль                 224018 non-null  object  \n",
      " 16  price                224018 non-null  float64 \n",
      " 17  sample               224018 non-null  int64   \n",
      " 18  model                86853 non-null   object  \n",
      "dtypes: category(8), float64(4), int32(1), int64(1), object(5)\n",
      "memory usage: 21.4+ MB\n"
     ]
    }
   ],
   "source": [
    "data.info()"
   ]
  },
  {
   "cell_type": "code",
   "execution_count": 341,
   "metadata": {},
   "outputs": [],
   "source": [
    "data['price'] = data['price'].fillna(0).astype('int')\n"
   ]
  },
  {
   "cell_type": "code",
   "execution_count": 342,
   "metadata": {},
   "outputs": [
    {
     "data": {
      "text/plain": [
       "<AxesSubplot:>"
      ]
     },
     "execution_count": 342,
     "metadata": {},
     "output_type": "execute_result"
    },
    {
     "data": {
      "image/png": "[encoded data removed]",
      "text/plain": [
       "<Figure size 432x288 with 1 Axes>"
      ]
     },
     "metadata": {
      "needs_background": "light"
     },
     "output_type": "display_data"
    }
   ],
   "source": [
    "data[data['sample'] == 1]['price'].value_counts().plot.box()\n"
   ]
  },
  {
   "cell_type": "code",
   "execution_count": 343,
   "metadata": {},
   "outputs": [],
   "source": [
    "data = data.drop(['model'], axis=1)"
   ]
  },
  {
   "cell_type": "code",
   "execution_count": 344,
   "metadata": {},
   "outputs": [
    {
     "name": "stdout",
     "output_type": "stream",
     "text": [
      "<class 'pandas.core.frame.DataFrame'>\n",
      "Int64Index: 224018 entries, 0 to 27566\n",
      "Data columns (total 18 columns):\n",
      " #   Column               Non-Null Count   Dtype   \n",
      "---  ------               --------------   -----   \n",
      " 0   bodyType             224018 non-null  category\n",
      " 1   brand                224018 non-null  category\n",
      " 2   color                224018 non-null  category\n",
      " 3   engineDisplacement   224018 non-null  object  \n",
      " 4   enginePower          224018 non-null  int32   \n",
      " 5   fuelType             224018 non-null  category\n",
      " 6   mileage              224018 non-null  float64 \n",
      " 7   model_name           197184 non-null  object  \n",
      " 8   numberOfDoors        224018 non-null  float64 \n",
      " 9   productionDate       224018 non-null  float64 \n",
      " 10  vehicleTransmission  224018 non-null  category\n",
      " 11  vendor               224018 non-null  category\n",
      " 12  Владельцы            224018 non-null  category\n",
      " 13  ПТС                  224018 non-null  object  \n",
      " 14  Привод               224018 non-null  category\n",
      " 15  Руль                 224018 non-null  object  \n",
      " 16  price                224018 non-null  int32   \n",
      " 17  sample               224018 non-null  int64   \n",
      "dtypes: category(8), float64(3), int32(2), int64(1), object(4)\n",
      "memory usage: 18.8+ MB\n"
     ]
    }
   ],
   "source": [
    "data.info()"
   ]
  },
  {
   "cell_type": "code",
   "execution_count": 345,
   "metadata": {},
   "outputs": [
    {
     "data": {
      "text/html": [
       "<div>\n",
       "<style scoped>\n",
       "    .dataframe tbody tr th:only-of-type {\n",
       "        vertical-align: middle;\n",
       "    }\n",
       "\n",
       "    .dataframe tbody tr th {\n",
       "        vertical-align: top;\n",
       "    }\n",
       "\n",
       "    .dataframe thead th {\n",
       "        text-align: right;\n",
       "    }\n",
       "</style>\n",
       "<table border=\"1\" class=\"dataframe\">\n",
       "  <thead>\n",
       "    <tr style=\"text-align: right;\">\n",
       "      <th></th>\n",
       "      <th>enginePower</th>\n",
       "      <th>mileage</th>\n",
       "      <th>numberOfDoors</th>\n",
       "      <th>productionDate</th>\n",
       "      <th>price</th>\n",
       "      <th>sample</th>\n",
       "    </tr>\n",
       "  </thead>\n",
       "  <tbody>\n",
       "    <tr>\n",
       "      <th>enginePower</th>\n",
       "      <td>1.000000</td>\n",
       "      <td>-0.171604</td>\n",
       "      <td>0.019138</td>\n",
       "      <td>0.200944</td>\n",
       "      <td>0.496241</td>\n",
       "      <td>-0.048661</td>\n",
       "    </tr>\n",
       "    <tr>\n",
       "      <th>mileage</th>\n",
       "      <td>-0.171604</td>\n",
       "      <td>1.000000</td>\n",
       "      <td>-0.111550</td>\n",
       "      <td>-0.735416</td>\n",
       "      <td>-0.448200</td>\n",
       "      <td>-0.094425</td>\n",
       "    </tr>\n",
       "    <tr>\n",
       "      <th>numberOfDoors</th>\n",
       "      <td>0.019138</td>\n",
       "      <td>-0.111550</td>\n",
       "      <td>1.000000</td>\n",
       "      <td>0.205650</td>\n",
       "      <td>0.082368</td>\n",
       "      <td>0.035144</td>\n",
       "    </tr>\n",
       "    <tr>\n",
       "      <th>productionDate</th>\n",
       "      <td>0.200944</td>\n",
       "      <td>-0.735416</td>\n",
       "      <td>0.205650</td>\n",
       "      <td>1.000000</td>\n",
       "      <td>0.436530</td>\n",
       "      <td>0.087486</td>\n",
       "    </tr>\n",
       "    <tr>\n",
       "      <th>price</th>\n",
       "      <td>0.496241</td>\n",
       "      <td>-0.448200</td>\n",
       "      <td>0.082368</td>\n",
       "      <td>0.436530</td>\n",
       "      <td>1.000000</td>\n",
       "      <td>0.259484</td>\n",
       "    </tr>\n",
       "    <tr>\n",
       "      <th>sample</th>\n",
       "      <td>-0.048661</td>\n",
       "      <td>-0.094425</td>\n",
       "      <td>0.035144</td>\n",
       "      <td>0.087486</td>\n",
       "      <td>0.259484</td>\n",
       "      <td>1.000000</td>\n",
       "    </tr>\n",
       "  </tbody>\n",
       "</table>\n",
       "</div>"
      ],
      "text/plain": [
       "                enginePower   mileage  numberOfDoors  productionDate  \\\n",
       "enginePower        1.000000 -0.171604       0.019138        0.200944   \n",
       "mileage           -0.171604  1.000000      -0.111550       -0.735416   \n",
       "numberOfDoors      0.019138 -0.111550       1.000000        0.205650   \n",
       "productionDate     0.200944 -0.735416       0.205650        1.000000   \n",
       "price              0.496241 -0.448200       0.082368        0.436530   \n",
       "sample            -0.048661 -0.094425       0.035144        0.087486   \n",
       "\n",
       "                   price    sample  \n",
       "enginePower     0.496241 -0.048661  \n",
       "mileage        -0.448200 -0.094425  \n",
       "numberOfDoors   0.082368  0.035144  \n",
       "productionDate  0.436530  0.087486  \n",
       "price           1.000000  0.259484  \n",
       "sample          0.259484  1.000000  "
      ]
     },
     "execution_count": 345,
     "metadata": {},
     "output_type": "execute_result"
    }
   ],
   "source": [
    "data.corr()"
   ]
  },
  {
   "cell_type": "code",
   "execution_count": 346,
   "metadata": {},
   "outputs": [],
   "source": [
    "data = data.drop(['productionDate'], axis=1)"
   ]
  },
  {
   "cell_type": "code",
   "execution_count": 348,
   "metadata": {},
   "outputs": [
    {
     "data": {
      "text/plain": [
       "0        False\n",
       "1        False\n",
       "2        False\n",
       "3        False\n",
       "4        False\n",
       "         ...  \n",
       "27562     True\n",
       "27563     True\n",
       "27564     True\n",
       "27565     True\n",
       "27566     True\n",
       "Name: model_name, Length: 224018, dtype: bool"
      ]
     },
     "execution_count": 348,
     "metadata": {},
     "output_type": "execute_result"
    }
   ],
   "source": [
    "data['model_name'].isna()"
   ]
  },
  {
   "cell_type": "code",
   "execution_count": 351,
   "metadata": {},
   "outputs": [
    {
     "data": {
      "text/plain": [
       "BMW           4473\n",
       "VOLKSWAGEN    4404\n",
       "NISSAN        4393\n",
       "MERCEDES      4180\n",
       "TOYOTA        3913\n",
       "AUDI          3421\n",
       "MITSUBISHI    2843\n",
       "SKODA         2741\n",
       "VOLVO         1463\n",
       "HONDA         1150\n",
       "INFINITI       871\n",
       "LEXUS          834\n",
       "Name: brand, dtype: int64"
      ]
     },
     "execution_count": 351,
     "metadata": {},
     "output_type": "execute_result"
    }
   ],
   "source": [
    "test.brand.value_counts()"
   ]
  },
  {
   "cell_type": "code",
   "execution_count": null,
   "metadata": {},
   "outputs": [],
   "source": []
  }
 ],
 "metadata": {
  "kernelspec": {
   "display_name": "Python 3",
   "language": "python",
   "name": "python3"
  },
  "language_info": {
   "codemirror_mode": {
    "name": "ipython",
    "version": 3
   },
   "file_extension": ".py",
   "mimetype": "text/x-python",
   "name": "python",
   "nbconvert_exporter": "python",
   "pygments_lexer": "ipython3",
   "version": "3.8.5"
  }
 },
 "nbformat": 4,
 "nbformat_minor": 4
}
