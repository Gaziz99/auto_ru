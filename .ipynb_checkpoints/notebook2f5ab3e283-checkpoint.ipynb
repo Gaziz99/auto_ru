{
 "cells": [
  {
   "cell_type": "code",
   "execution_count": 4,
   "metadata": {
    "_cell_guid": "b1076dfc-b9ad-4769-8c92-a6c4dae69d19",
    "_uuid": "8f2839f25d086af736a60e9eeb907d3b93b6e0e5"
   },
   "outputs": [],
   "source": [
    "# This Python 3 environment comes with many helpful analytics libraries installed\n",
    "# It is defined by the kaggle/python Docker image: https://github.com/kaggle/docker-python\n",
    "# For example, here's several helpful packages to load\n",
    "\n",
    "import numpy as np # linear algebra\n",
    "import pandas as pd # data processing, CSV file I/O (e.g. pd.read_csv)\n",
    "\n",
    "# Input data files are available in the read-only \"../input/\" directory\n",
    "# For example, running this (by clicking run or pressing Shift+Enter) will list all files under the input directory\n",
    "\n",
    "# import os\n",
    "# for dirname, _, filenames in os.walk('/kaggle/input'):\n",
    "#     for filename in filenames:\n",
    "#         print(os.path.join(dirname, filename))\n",
    "\n",
    "# You can write up to 20GB to the current directory (/kaggle/working/) that gets preserved as output when you create a version using \"Save & Run All\" \n",
    "# You can also write temporary files to /kaggle/temp/, but they won't be saved outside of the current session"
   ]
  },
  {
   "cell_type": "code",
   "execution_count": 5,
   "metadata": {},
   "outputs": [],
   "source": [
    "import re\n",
    "import sys\n",
    "from sklearn.model_selection import train_test_split\n",
    "from sklearn.model_selection import KFold\n",
    "from tqdm.notebook import tqdm\n",
    "from catboost import CatBoostRegressor\n",
    "from sklearn.preprocessing import LabelEncoder"
   ]
  },
  {
   "cell_type": "code",
   "execution_count": 6,
   "metadata": {
    "_cell_guid": "79c7e3d0-c299-4dcb-8224-4455121ee9b0",
    "_uuid": "d629ff2d2480ee46fbb7e2d37f6b5fab8052498a"
   },
   "outputs": [],
   "source": [
    "train1 = pd.read_csv('all_auto_ru_09_09_2020.csv')\n",
    "train2 = pd.read_csv('all_auto_ru_14_11_2020.csv')\n",
    "test = pd.read_csv('test.csv')\n",
    "sample_submission = pd.read_csv('sample_submission.csv')"
   ]
  },
  {
   "cell_type": "code",
   "execution_count": null,
   "metadata": {},
   "outputs": [],
   "source": []
  },
  {
   "cell_type": "code",
   "execution_count": 7,
   "metadata": {},
   "outputs": [
    {
     "data": {
      "text/html": [
       "<div>\n",
       "<style scoped>\n",
       "    .dataframe tbody tr th:only-of-type {\n",
       "        vertical-align: middle;\n",
       "    }\n",
       "\n",
       "    .dataframe tbody tr th {\n",
       "        vertical-align: top;\n",
       "    }\n",
       "\n",
       "    .dataframe thead th {\n",
       "        text-align: right;\n",
       "    }\n",
       "</style>\n",
       "<table border=\"1\" class=\"dataframe\">\n",
       "  <thead>\n",
       "    <tr style=\"text-align: right;\">\n",
       "      <th></th>\n",
       "      <th>bodyType</th>\n",
       "      <th>brand</th>\n",
       "      <th>color</th>\n",
       "      <th>fuelType</th>\n",
       "      <th>modelDate</th>\n",
       "      <th>name</th>\n",
       "      <th>numberOfDoors</th>\n",
       "      <th>productionDate</th>\n",
       "      <th>vehicleConfiguration</th>\n",
       "      <th>vehicleTransmission</th>\n",
       "      <th>...</th>\n",
       "      <th>Руль</th>\n",
       "      <th>Состояние</th>\n",
       "      <th>Владельцы</th>\n",
       "      <th>ПТС</th>\n",
       "      <th>Таможня</th>\n",
       "      <th>Владение</th>\n",
       "      <th>price</th>\n",
       "      <th>start_date</th>\n",
       "      <th>hidden</th>\n",
       "      <th>model</th>\n",
       "    </tr>\n",
       "  </thead>\n",
       "  <tbody>\n",
       "    <tr>\n",
       "      <th>0</th>\n",
       "      <td>Седан</td>\n",
       "      <td>AUDI</td>\n",
       "      <td>040001</td>\n",
       "      <td>бензин</td>\n",
       "      <td>1990.0</td>\n",
       "      <td>2.8 MT (174 л.с.) 4WD</td>\n",
       "      <td>4.0</td>\n",
       "      <td>1991</td>\n",
       "      <td>SEDAN MECHANICAL 2.8</td>\n",
       "      <td>MECHANICAL</td>\n",
       "      <td>...</td>\n",
       "      <td>LEFT</td>\n",
       "      <td>NaN</td>\n",
       "      <td>3.0</td>\n",
       "      <td>ORIGINAL</td>\n",
       "      <td>True</td>\n",
       "      <td>NaN</td>\n",
       "      <td>200000.0</td>\n",
       "      <td>2019-10-03T08:09:11Z</td>\n",
       "      <td>NaN</td>\n",
       "      <td>100</td>\n",
       "    </tr>\n",
       "    <tr>\n",
       "      <th>1</th>\n",
       "      <td>Седан</td>\n",
       "      <td>AUDI</td>\n",
       "      <td>EE1D19</td>\n",
       "      <td>бензин</td>\n",
       "      <td>1982.0</td>\n",
       "      <td>1.8 MT (90 л.с.)</td>\n",
       "      <td>4.0</td>\n",
       "      <td>1986</td>\n",
       "      <td>SEDAN MECHANICAL 1.8</td>\n",
       "      <td>MECHANICAL</td>\n",
       "      <td>...</td>\n",
       "      <td>LEFT</td>\n",
       "      <td>NaN</td>\n",
       "      <td>3.0</td>\n",
       "      <td>ORIGINAL</td>\n",
       "      <td>True</td>\n",
       "      <td>NaN</td>\n",
       "      <td>60000.0</td>\n",
       "      <td>2020-09-06T06:49:40Z</td>\n",
       "      <td>NaN</td>\n",
       "      <td>100</td>\n",
       "    </tr>\n",
       "    <tr>\n",
       "      <th>2</th>\n",
       "      <td>Универсал 5 дв.</td>\n",
       "      <td>AUDI</td>\n",
       "      <td>0000CC</td>\n",
       "      <td>бензин</td>\n",
       "      <td>1988.0</td>\n",
       "      <td>2.3 MT (136 л.с.) 4WD</td>\n",
       "      <td>5.0</td>\n",
       "      <td>1989</td>\n",
       "      <td>WAGON_5_DOORS MECHANICAL 2.3</td>\n",
       "      <td>MECHANICAL</td>\n",
       "      <td>...</td>\n",
       "      <td>LEFT</td>\n",
       "      <td>NaN</td>\n",
       "      <td>3.0</td>\n",
       "      <td>ORIGINAL</td>\n",
       "      <td>True</td>\n",
       "      <td>NaN</td>\n",
       "      <td>99000.0</td>\n",
       "      <td>2020-09-02T14:04:21Z</td>\n",
       "      <td>NaN</td>\n",
       "      <td>100</td>\n",
       "    </tr>\n",
       "    <tr>\n",
       "      <th>3</th>\n",
       "      <td>Седан</td>\n",
       "      <td>AUDI</td>\n",
       "      <td>CACECB</td>\n",
       "      <td>бензин</td>\n",
       "      <td>1988.0</td>\n",
       "      <td>1.8 MT (90 л.с.)</td>\n",
       "      <td>4.0</td>\n",
       "      <td>1989</td>\n",
       "      <td>SEDAN MECHANICAL 1.8</td>\n",
       "      <td>MECHANICAL</td>\n",
       "      <td>...</td>\n",
       "      <td>LEFT</td>\n",
       "      <td>NaN</td>\n",
       "      <td>3.0</td>\n",
       "      <td>ORIGINAL</td>\n",
       "      <td>True</td>\n",
       "      <td>NaN</td>\n",
       "      <td>65000.0</td>\n",
       "      <td>2020-08-23T17:40:09Z</td>\n",
       "      <td>NaN</td>\n",
       "      <td>100</td>\n",
       "    </tr>\n",
       "    <tr>\n",
       "      <th>4</th>\n",
       "      <td>Седан</td>\n",
       "      <td>AUDI</td>\n",
       "      <td>040001</td>\n",
       "      <td>бензин</td>\n",
       "      <td>1990.0</td>\n",
       "      <td>2.0 MT (101 л.с.)</td>\n",
       "      <td>4.0</td>\n",
       "      <td>1991</td>\n",
       "      <td>SEDAN MECHANICAL 2.0</td>\n",
       "      <td>MECHANICAL</td>\n",
       "      <td>...</td>\n",
       "      <td>LEFT</td>\n",
       "      <td>NaN</td>\n",
       "      <td>3.0</td>\n",
       "      <td>DUPLICATE</td>\n",
       "      <td>True</td>\n",
       "      <td>NaN</td>\n",
       "      <td>100000.0</td>\n",
       "      <td>2020-09-08T09:22:07Z</td>\n",
       "      <td>NaN</td>\n",
       "      <td>100</td>\n",
       "    </tr>\n",
       "  </tbody>\n",
       "</table>\n",
       "<p>5 rows × 26 columns</p>\n",
       "</div>"
      ],
      "text/plain": [
       "          bodyType brand   color fuelType  modelDate                   name  \\\n",
       "0            Седан  AUDI  040001   бензин     1990.0  2.8 MT (174 л.с.) 4WD   \n",
       "1            Седан  AUDI  EE1D19   бензин     1982.0       1.8 MT (90 л.с.)   \n",
       "2  Универсал 5 дв.  AUDI  0000CC   бензин     1988.0  2.3 MT (136 л.с.) 4WD   \n",
       "3            Седан  AUDI  CACECB   бензин     1988.0       1.8 MT (90 л.с.)   \n",
       "4            Седан  AUDI  040001   бензин     1990.0      2.0 MT (101 л.с.)   \n",
       "\n",
       "   numberOfDoors  productionDate          vehicleConfiguration  \\\n",
       "0            4.0            1991          SEDAN MECHANICAL 2.8   \n",
       "1            4.0            1986          SEDAN MECHANICAL 1.8   \n",
       "2            5.0            1989  WAGON_5_DOORS MECHANICAL 2.3   \n",
       "3            4.0            1989          SEDAN MECHANICAL 1.8   \n",
       "4            4.0            1991          SEDAN MECHANICAL 2.0   \n",
       "\n",
       "  vehicleTransmission  ...  Руль  Состояние Владельцы        ПТС Таможня  \\\n",
       "0          MECHANICAL  ...  LEFT        NaN       3.0   ORIGINAL    True   \n",
       "1          MECHANICAL  ...  LEFT        NaN       3.0   ORIGINAL    True   \n",
       "2          MECHANICAL  ...  LEFT        NaN       3.0   ORIGINAL    True   \n",
       "3          MECHANICAL  ...  LEFT        NaN       3.0   ORIGINAL    True   \n",
       "4          MECHANICAL  ...  LEFT        NaN       3.0  DUPLICATE    True   \n",
       "\n",
       "  Владение     price            start_date  hidden model  \n",
       "0      NaN  200000.0  2019-10-03T08:09:11Z     NaN   100  \n",
       "1      NaN   60000.0  2020-09-06T06:49:40Z     NaN   100  \n",
       "2      NaN   99000.0  2020-09-02T14:04:21Z     NaN   100  \n",
       "3      NaN   65000.0  2020-08-23T17:40:09Z     NaN   100  \n",
       "4      NaN  100000.0  2020-09-08T09:22:07Z     NaN   100  \n",
       "\n",
       "[5 rows x 26 columns]"
      ]
     },
     "execution_count": 7,
     "metadata": {},
     "output_type": "execute_result"
    }
   ],
   "source": [
    "train1.head() "
   ]
  },
  {
   "cell_type": "code",
   "execution_count": 8,
   "metadata": {},
   "outputs": [
    {
     "data": {
      "text/html": [
       "<div>\n",
       "<style scoped>\n",
       "    .dataframe tbody tr th:only-of-type {\n",
       "        vertical-align: middle;\n",
       "    }\n",
       "\n",
       "    .dataframe tbody tr th {\n",
       "        vertical-align: top;\n",
       "    }\n",
       "\n",
       "    .dataframe thead th {\n",
       "        text-align: right;\n",
       "    }\n",
       "</style>\n",
       "<table border=\"1\" class=\"dataframe\">\n",
       "  <thead>\n",
       "    <tr style=\"text-align: right;\">\n",
       "      <th></th>\n",
       "      <th>bodyType</th>\n",
       "      <th>brand</th>\n",
       "      <th>color</th>\n",
       "      <th>complectation_dict</th>\n",
       "      <th>description</th>\n",
       "      <th>engineDisplacement</th>\n",
       "      <th>enginePower</th>\n",
       "      <th>equipment_dict</th>\n",
       "      <th>fuelType</th>\n",
       "      <th>image</th>\n",
       "      <th>...</th>\n",
       "      <th>Владельцы</th>\n",
       "      <th>Владение</th>\n",
       "      <th>ПТС</th>\n",
       "      <th>Привод</th>\n",
       "      <th>Руль</th>\n",
       "      <th>Состояние</th>\n",
       "      <th>Таможня</th>\n",
       "      <th>price</th>\n",
       "      <th>price_EUR</th>\n",
       "      <th>price_USD</th>\n",
       "    </tr>\n",
       "  </thead>\n",
       "  <tbody>\n",
       "    <tr>\n",
       "      <th>0</th>\n",
       "      <td>Седан</td>\n",
       "      <td>AUDI</td>\n",
       "      <td>97948F</td>\n",
       "      <td>{'id': '0'}</td>\n",
       "      <td>Машина на полном ходу\\nСостояние хорошее\\nС до...</td>\n",
       "      <td>2.3</td>\n",
       "      <td>133.0</td>\n",
       "      <td>{}</td>\n",
       "      <td>бензин</td>\n",
       "      <td>5</td>\n",
       "      <td>...</td>\n",
       "      <td>3.0</td>\n",
       "      <td>NaN</td>\n",
       "      <td>ORIGINAL</td>\n",
       "      <td>передний</td>\n",
       "      <td>LEFT</td>\n",
       "      <td>True</td>\n",
       "      <td>True</td>\n",
       "      <td>106000.0</td>\n",
       "      <td>1161.0</td>\n",
       "      <td>1371.0</td>\n",
       "    </tr>\n",
       "    <tr>\n",
       "      <th>1</th>\n",
       "      <td>Седан</td>\n",
       "      <td>AUDI</td>\n",
       "      <td>CACECB</td>\n",
       "      <td>{'id': '0'}</td>\n",
       "      <td>Продажа от официального дилера KIA - Компания ...</td>\n",
       "      <td>1.8</td>\n",
       "      <td>90.0</td>\n",
       "      <td>{'condition': True, 'audiosystem-cd': True, 'f...</td>\n",
       "      <td>бензин</td>\n",
       "      <td>7</td>\n",
       "      <td>...</td>\n",
       "      <td>3.0</td>\n",
       "      <td>NaN</td>\n",
       "      <td>ORIGINAL</td>\n",
       "      <td>передний</td>\n",
       "      <td>LEFT</td>\n",
       "      <td>True</td>\n",
       "      <td>True</td>\n",
       "      <td>44000.0</td>\n",
       "      <td>482.0</td>\n",
       "      <td>569.0</td>\n",
       "    </tr>\n",
       "    <tr>\n",
       "      <th>2</th>\n",
       "      <td>Седан</td>\n",
       "      <td>AUDI</td>\n",
       "      <td>040001</td>\n",
       "      <td>{'id': '0'}</td>\n",
       "      <td>Автомобиль продает Официальный дилер Hyundai. ...</td>\n",
       "      <td>2.6</td>\n",
       "      <td>150.0</td>\n",
       "      <td>{'airbag-driver': True, 'isofix': True, 'elect...</td>\n",
       "      <td>бензин</td>\n",
       "      <td>11</td>\n",
       "      <td>...</td>\n",
       "      <td>3.0</td>\n",
       "      <td>NaN</td>\n",
       "      <td>DUPLICATE</td>\n",
       "      <td>передний</td>\n",
       "      <td>LEFT</td>\n",
       "      <td>True</td>\n",
       "      <td>True</td>\n",
       "      <td>167000.0</td>\n",
       "      <td>1829.0</td>\n",
       "      <td>2160.0</td>\n",
       "    </tr>\n",
       "    <tr>\n",
       "      <th>3</th>\n",
       "      <td>Седан</td>\n",
       "      <td>AUDI</td>\n",
       "      <td>DEA522</td>\n",
       "      <td>{'id': '0'}</td>\n",
       "      <td>Продам машину в нормальном состоянии не гнилая...</td>\n",
       "      <td>2.0</td>\n",
       "      <td>101.0</td>\n",
       "      <td>{}</td>\n",
       "      <td>бензин</td>\n",
       "      <td>7</td>\n",
       "      <td>...</td>\n",
       "      <td>3.0</td>\n",
       "      <td>NaN</td>\n",
       "      <td>DUPLICATE</td>\n",
       "      <td>передний</td>\n",
       "      <td>LEFT</td>\n",
       "      <td>True</td>\n",
       "      <td>True</td>\n",
       "      <td>135000.0</td>\n",
       "      <td>1478.0</td>\n",
       "      <td>1746.0</td>\n",
       "    </tr>\n",
       "    <tr>\n",
       "      <th>4</th>\n",
       "      <td>Седан</td>\n",
       "      <td>AUDI</td>\n",
       "      <td>0000CC</td>\n",
       "      <td>{'id': '0'}</td>\n",
       "      <td>Комплектация:\\n• Антиблокировочная система\\n• ...</td>\n",
       "      <td>2.3</td>\n",
       "      <td>133.0</td>\n",
       "      <td>{'alloy-wheel-disks': True, 'abs': True, 'whee...</td>\n",
       "      <td>бензин</td>\n",
       "      <td>15</td>\n",
       "      <td>...</td>\n",
       "      <td>2.0</td>\n",
       "      <td>NaN</td>\n",
       "      <td>ORIGINAL</td>\n",
       "      <td>передний</td>\n",
       "      <td>LEFT</td>\n",
       "      <td>True</td>\n",
       "      <td>True</td>\n",
       "      <td>130000.0</td>\n",
       "      <td>1424.0</td>\n",
       "      <td>1681.0</td>\n",
       "    </tr>\n",
       "  </tbody>\n",
       "</table>\n",
       "<p>5 rows × 34 columns</p>\n",
       "</div>"
      ],
      "text/plain": [
       "  bodyType brand   color complectation_dict  \\\n",
       "0    Седан  AUDI  97948F        {'id': '0'}   \n",
       "1    Седан  AUDI  CACECB        {'id': '0'}   \n",
       "2    Седан  AUDI  040001        {'id': '0'}   \n",
       "3    Седан  AUDI  DEA522        {'id': '0'}   \n",
       "4    Седан  AUDI  0000CC        {'id': '0'}   \n",
       "\n",
       "                                         description engineDisplacement  \\\n",
       "0  Машина на полном ходу\\nСостояние хорошее\\nС до...                2.3   \n",
       "1  Продажа от официального дилера KIA - Компания ...                1.8   \n",
       "2  Автомобиль продает Официальный дилер Hyundai. ...                2.6   \n",
       "3  Продам машину в нормальном состоянии не гнилая...                2.0   \n",
       "4  Комплектация:\\n• Антиблокировочная система\\n• ...                2.3   \n",
       "\n",
       "   enginePower                                     equipment_dict fuelType  \\\n",
       "0        133.0                                                 {}   бензин   \n",
       "1         90.0  {'condition': True, 'audiosystem-cd': True, 'f...   бензин   \n",
       "2        150.0  {'airbag-driver': True, 'isofix': True, 'elect...   бензин   \n",
       "3        101.0                                                 {}   бензин   \n",
       "4        133.0  {'alloy-wheel-disks': True, 'abs': True, 'whee...   бензин   \n",
       "\n",
       "   image  ...  Владельцы  Владение        ПТС    Привод  Руль  Состояние  \\\n",
       "0      5  ...        3.0       NaN   ORIGINAL  передний  LEFT       True   \n",
       "1      7  ...        3.0       NaN   ORIGINAL  передний  LEFT       True   \n",
       "2     11  ...        3.0       NaN  DUPLICATE  передний  LEFT       True   \n",
       "3      7  ...        3.0       NaN  DUPLICATE  передний  LEFT       True   \n",
       "4     15  ...        2.0       NaN   ORIGINAL  передний  LEFT       True   \n",
       "\n",
       "  Таможня     price  price_EUR  price_USD  \n",
       "0    True  106000.0     1161.0     1371.0  \n",
       "1    True   44000.0      482.0      569.0  \n",
       "2    True  167000.0     1829.0     2160.0  \n",
       "3    True  135000.0     1478.0     1746.0  \n",
       "4    True  130000.0     1424.0     1681.0  \n",
       "\n",
       "[5 rows x 34 columns]"
      ]
     },
     "execution_count": 8,
     "metadata": {},
     "output_type": "execute_result"
    }
   ],
   "source": [
    "train2.head()"
   ]
  },
  {
   "cell_type": "code",
   "execution_count": 9,
   "metadata": {},
   "outputs": [
    {
     "data": {
      "text/html": [
       "<div>\n",
       "<style scoped>\n",
       "    .dataframe tbody tr th:only-of-type {\n",
       "        vertical-align: middle;\n",
       "    }\n",
       "\n",
       "    .dataframe tbody tr th {\n",
       "        vertical-align: top;\n",
       "    }\n",
       "\n",
       "    .dataframe thead th {\n",
       "        text-align: right;\n",
       "    }\n",
       "</style>\n",
       "<table border=\"1\" class=\"dataframe\">\n",
       "  <thead>\n",
       "    <tr style=\"text-align: right;\">\n",
       "      <th></th>\n",
       "      <th>bodyType</th>\n",
       "      <th>brand</th>\n",
       "      <th>car_url</th>\n",
       "      <th>color</th>\n",
       "      <th>complectation_dict</th>\n",
       "      <th>description</th>\n",
       "      <th>engineDisplacement</th>\n",
       "      <th>enginePower</th>\n",
       "      <th>equipment_dict</th>\n",
       "      <th>fuelType</th>\n",
       "      <th>...</th>\n",
       "      <th>vehicleConfiguration</th>\n",
       "      <th>vehicleTransmission</th>\n",
       "      <th>vendor</th>\n",
       "      <th>Владельцы</th>\n",
       "      <th>Владение</th>\n",
       "      <th>ПТС</th>\n",
       "      <th>Привод</th>\n",
       "      <th>Руль</th>\n",
       "      <th>Состояние</th>\n",
       "      <th>Таможня</th>\n",
       "    </tr>\n",
       "  </thead>\n",
       "  <tbody>\n",
       "    <tr>\n",
       "      <th>0</th>\n",
       "      <td>лифтбек</td>\n",
       "      <td>SKODA</td>\n",
       "      <td>https://auto.ru/cars/used/sale/skoda/octavia/1...</td>\n",
       "      <td>синий</td>\n",
       "      <td>NaN</td>\n",
       "      <td>Все автомобили, представленные в продаже, прох...</td>\n",
       "      <td>1.2 LTR</td>\n",
       "      <td>105 N12</td>\n",
       "      <td>{\"engine-proof\":true,\"tinted-glass\":true,\"airb...</td>\n",
       "      <td>бензин</td>\n",
       "      <td>...</td>\n",
       "      <td>LIFTBACK ROBOT 1.2</td>\n",
       "      <td>роботизированная</td>\n",
       "      <td>EUROPEAN</td>\n",
       "      <td>3 или более</td>\n",
       "      <td>NaN</td>\n",
       "      <td>Оригинал</td>\n",
       "      <td>передний</td>\n",
       "      <td>Левый</td>\n",
       "      <td>Не требует ремонта</td>\n",
       "      <td>Растаможен</td>\n",
       "    </tr>\n",
       "    <tr>\n",
       "      <th>1</th>\n",
       "      <td>лифтбек</td>\n",
       "      <td>SKODA</td>\n",
       "      <td>https://auto.ru/cars/used/sale/skoda/octavia/1...</td>\n",
       "      <td>чёрный</td>\n",
       "      <td>NaN</td>\n",
       "      <td>ЛОТ: 01217195\\nАвтопрага Север\\nДанный автомоб...</td>\n",
       "      <td>1.6 LTR</td>\n",
       "      <td>110 N12</td>\n",
       "      <td>{\"cruise-control\":true,\"asr\":true,\"esp\":true,\"...</td>\n",
       "      <td>бензин</td>\n",
       "      <td>...</td>\n",
       "      <td>LIFTBACK MECHANICAL 1.6</td>\n",
       "      <td>механическая</td>\n",
       "      <td>EUROPEAN</td>\n",
       "      <td>1 владелец</td>\n",
       "      <td>NaN</td>\n",
       "      <td>Оригинал</td>\n",
       "      <td>передний</td>\n",
       "      <td>Левый</td>\n",
       "      <td>Не требует ремонта</td>\n",
       "      <td>Растаможен</td>\n",
       "    </tr>\n",
       "    <tr>\n",
       "      <th>2</th>\n",
       "      <td>лифтбек</td>\n",
       "      <td>SKODA</td>\n",
       "      <td>https://auto.ru/cars/used/sale/skoda/superb/11...</td>\n",
       "      <td>серый</td>\n",
       "      <td>{\"id\":\"20026336\",\"name\":\"Ambition\",\"available_...</td>\n",
       "      <td>Все автомобили, представленные в продаже, прох...</td>\n",
       "      <td>1.8 LTR</td>\n",
       "      <td>152 N12</td>\n",
       "      <td>{\"cruise-control\":true,\"tinted-glass\":true,\"es...</td>\n",
       "      <td>бензин</td>\n",
       "      <td>...</td>\n",
       "      <td>LIFTBACK ROBOT 1.8</td>\n",
       "      <td>роботизированная</td>\n",
       "      <td>EUROPEAN</td>\n",
       "      <td>1 владелец</td>\n",
       "      <td>NaN</td>\n",
       "      <td>Оригинал</td>\n",
       "      <td>передний</td>\n",
       "      <td>Левый</td>\n",
       "      <td>Не требует ремонта</td>\n",
       "      <td>Растаможен</td>\n",
       "    </tr>\n",
       "    <tr>\n",
       "      <th>3</th>\n",
       "      <td>лифтбек</td>\n",
       "      <td>SKODA</td>\n",
       "      <td>https://auto.ru/cars/used/sale/skoda/octavia/1...</td>\n",
       "      <td>коричневый</td>\n",
       "      <td>{\"id\":\"20803582\",\"name\":\"Ambition\",\"available_...</td>\n",
       "      <td>КОМПЛЕКТ ЗИМНЕЙ (ЛЕТНЕЙ) РЕЗИНЫ ПО СЕЗОНУ В ПО...</td>\n",
       "      <td>1.6 LTR</td>\n",
       "      <td>110 N12</td>\n",
       "      <td>{\"cruise-control\":true,\"roller-blind-for-rear-...</td>\n",
       "      <td>бензин</td>\n",
       "      <td>...</td>\n",
       "      <td>LIFTBACK AUTOMATIC 1.6</td>\n",
       "      <td>автоматическая</td>\n",
       "      <td>EUROPEAN</td>\n",
       "      <td>1 владелец</td>\n",
       "      <td>NaN</td>\n",
       "      <td>Оригинал</td>\n",
       "      <td>передний</td>\n",
       "      <td>Левый</td>\n",
       "      <td>Не требует ремонта</td>\n",
       "      <td>Растаможен</td>\n",
       "    </tr>\n",
       "    <tr>\n",
       "      <th>4</th>\n",
       "      <td>лифтбек</td>\n",
       "      <td>SKODA</td>\n",
       "      <td>https://auto.ru/cars/used/sale/skoda/octavia/1...</td>\n",
       "      <td>белый</td>\n",
       "      <td>NaN</td>\n",
       "      <td>ЛОТ: 01220889\\nАвтопрага Север\\n\\nВы можете по...</td>\n",
       "      <td>1.8 LTR</td>\n",
       "      <td>152 N12</td>\n",
       "      <td>{\"cruise-control\":true,\"asr\":true,\"esp\":true,\"...</td>\n",
       "      <td>бензин</td>\n",
       "      <td>...</td>\n",
       "      <td>LIFTBACK AUTOMATIC 1.8</td>\n",
       "      <td>автоматическая</td>\n",
       "      <td>EUROPEAN</td>\n",
       "      <td>1 владелец</td>\n",
       "      <td>NaN</td>\n",
       "      <td>Оригинал</td>\n",
       "      <td>передний</td>\n",
       "      <td>Левый</td>\n",
       "      <td>Не требует ремонта</td>\n",
       "      <td>Растаможен</td>\n",
       "    </tr>\n",
       "  </tbody>\n",
       "</table>\n",
       "<p>5 rows × 32 columns</p>\n",
       "</div>"
      ],
      "text/plain": [
       "  bodyType  brand                                            car_url  \\\n",
       "0  лифтбек  SKODA  https://auto.ru/cars/used/sale/skoda/octavia/1...   \n",
       "1  лифтбек  SKODA  https://auto.ru/cars/used/sale/skoda/octavia/1...   \n",
       "2  лифтбек  SKODA  https://auto.ru/cars/used/sale/skoda/superb/11...   \n",
       "3  лифтбек  SKODA  https://auto.ru/cars/used/sale/skoda/octavia/1...   \n",
       "4  лифтбек  SKODA  https://auto.ru/cars/used/sale/skoda/octavia/1...   \n",
       "\n",
       "        color                                 complectation_dict  \\\n",
       "0       синий                                                NaN   \n",
       "1      чёрный                                                NaN   \n",
       "2       серый  {\"id\":\"20026336\",\"name\":\"Ambition\",\"available_...   \n",
       "3  коричневый  {\"id\":\"20803582\",\"name\":\"Ambition\",\"available_...   \n",
       "4       белый                                                NaN   \n",
       "\n",
       "                                         description engineDisplacement  \\\n",
       "0  Все автомобили, представленные в продаже, прох...            1.2 LTR   \n",
       "1  ЛОТ: 01217195\\nАвтопрага Север\\nДанный автомоб...            1.6 LTR   \n",
       "2  Все автомобили, представленные в продаже, прох...            1.8 LTR   \n",
       "3  КОМПЛЕКТ ЗИМНЕЙ (ЛЕТНЕЙ) РЕЗИНЫ ПО СЕЗОНУ В ПО...            1.6 LTR   \n",
       "4  ЛОТ: 01220889\\nАвтопрага Север\\n\\nВы можете по...            1.8 LTR   \n",
       "\n",
       "  enginePower                                     equipment_dict fuelType  \\\n",
       "0     105 N12  {\"engine-proof\":true,\"tinted-glass\":true,\"airb...   бензин   \n",
       "1     110 N12  {\"cruise-control\":true,\"asr\":true,\"esp\":true,\"...   бензин   \n",
       "2     152 N12  {\"cruise-control\":true,\"tinted-glass\":true,\"es...   бензин   \n",
       "3     110 N12  {\"cruise-control\":true,\"roller-blind-for-rear-...   бензин   \n",
       "4     152 N12  {\"cruise-control\":true,\"asr\":true,\"esp\":true,\"...   бензин   \n",
       "\n",
       "   ...     vehicleConfiguration  vehicleTransmission    vendor    Владельцы  \\\n",
       "0  ...       LIFTBACK ROBOT 1.2     роботизированная  EUROPEAN  3 или более   \n",
       "1  ...  LIFTBACK MECHANICAL 1.6         механическая  EUROPEAN   1 владелец   \n",
       "2  ...       LIFTBACK ROBOT 1.8     роботизированная  EUROPEAN   1 владелец   \n",
       "3  ...   LIFTBACK AUTOMATIC 1.6       автоматическая  EUROPEAN   1 владелец   \n",
       "4  ...   LIFTBACK AUTOMATIC 1.8       автоматическая  EUROPEAN   1 владелец   \n",
       "\n",
       "  Владение       ПТС    Привод   Руль           Состояние     Таможня  \n",
       "0      NaN  Оригинал  передний  Левый  Не требует ремонта  Растаможен  \n",
       "1      NaN  Оригинал  передний  Левый  Не требует ремонта  Растаможен  \n",
       "2      NaN  Оригинал  передний  Левый  Не требует ремонта  Растаможен  \n",
       "3      NaN  Оригинал  передний  Левый  Не требует ремонта  Растаможен  \n",
       "4      NaN  Оригинал  передний  Левый  Не требует ремонта  Растаможен  \n",
       "\n",
       "[5 rows x 32 columns]"
      ]
     },
     "execution_count": 9,
     "metadata": {},
     "output_type": "execute_result"
    }
   ],
   "source": [
    "test.head()"
   ]
  },
  {
   "cell_type": "code",
   "execution_count": 10,
   "metadata": {},
   "outputs": [
    {
     "data": {
      "text/html": [
       "<div>\n",
       "<style scoped>\n",
       "    .dataframe tbody tr th:only-of-type {\n",
       "        vertical-align: middle;\n",
       "    }\n",
       "\n",
       "    .dataframe tbody tr th {\n",
       "        vertical-align: top;\n",
       "    }\n",
       "\n",
       "    .dataframe thead th {\n",
       "        text-align: right;\n",
       "    }\n",
       "</style>\n",
       "<table border=\"1\" class=\"dataframe\">\n",
       "  <thead>\n",
       "    <tr style=\"text-align: right;\">\n",
       "      <th></th>\n",
       "      <th>sell_id</th>\n",
       "      <th>price</th>\n",
       "    </tr>\n",
       "  </thead>\n",
       "  <tbody>\n",
       "    <tr>\n",
       "      <th>0</th>\n",
       "      <td>1100575026</td>\n",
       "      <td>0</td>\n",
       "    </tr>\n",
       "    <tr>\n",
       "      <th>1</th>\n",
       "      <td>1100549428</td>\n",
       "      <td>0</td>\n",
       "    </tr>\n",
       "    <tr>\n",
       "      <th>2</th>\n",
       "      <td>1100658222</td>\n",
       "      <td>0</td>\n",
       "    </tr>\n",
       "    <tr>\n",
       "      <th>3</th>\n",
       "      <td>1100937408</td>\n",
       "      <td>0</td>\n",
       "    </tr>\n",
       "    <tr>\n",
       "      <th>4</th>\n",
       "      <td>1101037972</td>\n",
       "      <td>0</td>\n",
       "    </tr>\n",
       "  </tbody>\n",
       "</table>\n",
       "</div>"
      ],
      "text/plain": [
       "      sell_id  price\n",
       "0  1100575026      0\n",
       "1  1100549428      0\n",
       "2  1100658222      0\n",
       "3  1100937408      0\n",
       "4  1101037972      0"
      ]
     },
     "execution_count": 10,
     "metadata": {},
     "output_type": "execute_result"
    }
   ],
   "source": [
    "sample_submission.head()"
   ]
  },
  {
   "cell_type": "code",
   "execution_count": 11,
   "metadata": {},
   "outputs": [
    {
     "name": "stdout",
     "output_type": "stream",
     "text": [
      "train1 shape :  (89378, 26)\n",
      "train2 shape :  (77449, 34)\n",
      "test shape :  (34686, 32)\n"
     ]
    }
   ],
   "source": [
    "print('train1 shape : ' , train1.shape)\n",
    "print('train2 shape : ' , train2.shape)\n",
    "print('test shape : ' , test.shape)"
   ]
  },
  {
   "cell_type": "code",
   "execution_count": 12,
   "metadata": {},
   "outputs": [],
   "source": [
    "train = pd.concat([train1,train2])"
   ]
  },
  {
   "cell_type": "code",
   "execution_count": 13,
   "metadata": {},
   "outputs": [
    {
     "data": {
      "text/plain": [
       "166827"
      ]
     },
     "execution_count": 13,
     "metadata": {},
     "output_type": "execute_result"
    }
   ],
   "source": [
    "len(train)"
   ]
  },
  {
   "cell_type": "code",
   "execution_count": 14,
   "metadata": {},
   "outputs": [],
   "source": [
    "train = train.drop_duplicates()"
   ]
  },
  {
   "cell_type": "code",
   "execution_count": 15,
   "metadata": {},
   "outputs": [
    {
     "name": "stdout",
     "output_type": "stream",
     "text": [
      "<class 'pandas.core.frame.DataFrame'>\n",
      "Int64Index: 163207 entries, 0 to 77448\n",
      "Data columns (total 37 columns):\n",
      " #   Column                Non-Null Count   Dtype  \n",
      "---  ------                --------------   -----  \n",
      " 0   bodyType              163204 non-null  object \n",
      " 1   brand                 163207 non-null  object \n",
      " 2   color                 163207 non-null  object \n",
      " 3   fuelType              163207 non-null  object \n",
      " 4   modelDate             163204 non-null  float64\n",
      " 5   name                  163204 non-null  object \n",
      " 6   numberOfDoors         163204 non-null  float64\n",
      " 7   productionDate        163207 non-null  int64  \n",
      " 8   vehicleConfiguration  163204 non-null  object \n",
      " 9   vehicleTransmission   163204 non-null  object \n",
      " 10  engineDisplacement    163206 non-null  object \n",
      " 11  enginePower           163204 non-null  float64\n",
      " 12  description           157351 non-null  object \n",
      " 13  mileage               163207 non-null  int64  \n",
      " 14  Комплектация          87264 non-null   object \n",
      " 15  Привод                163204 non-null  object \n",
      " 16  Руль                  163207 non-null  object \n",
      " 17  Состояние             75943 non-null   float64\n",
      " 18  Владельцы             135498 non-null  float64\n",
      " 19  ПТС                   162400 non-null  object \n",
      " 20  Таможня               163207 non-null  bool   \n",
      " 21  Владение              48874 non-null   object \n",
      " 22  price                 162501 non-null  float64\n",
      " 23  start_date            163207 non-null  object \n",
      " 24  hidden                0 non-null       float64\n",
      " 25  model                 87264 non-null   object \n",
      " 26  complectation_dict    75943 non-null   object \n",
      " 27  equipment_dict        75943 non-null   object \n",
      " 28  image                 75943 non-null   float64\n",
      " 29  model_info            75943 non-null   object \n",
      " 30  model_name            75943 non-null   object \n",
      " 31  priceCurrency         75647 non-null   object \n",
      " 32  sell_id               75943 non-null   float64\n",
      " 33  super_gen             75941 non-null   object \n",
      " 34  vendor                75943 non-null   object \n",
      " 35  price_EUR             75647 non-null   float64\n",
      " 36  price_USD             75647 non-null   float64\n",
      "dtypes: bool(1), float64(11), int64(2), object(23)\n",
      "memory usage: 46.2+ MB\n"
     ]
    }
   ],
   "source": [
    "train.info()"
   ]
  },
  {
   "cell_type": "code",
   "execution_count": 16,
   "metadata": {},
   "outputs": [
    {
     "data": {
      "text/html": [
       "<div>\n",
       "<style scoped>\n",
       "    .dataframe tbody tr th:only-of-type {\n",
       "        vertical-align: middle;\n",
       "    }\n",
       "\n",
       "    .dataframe tbody tr th {\n",
       "        vertical-align: top;\n",
       "    }\n",
       "\n",
       "    .dataframe thead th {\n",
       "        text-align: right;\n",
       "    }\n",
       "</style>\n",
       "<table border=\"1\" class=\"dataframe\">\n",
       "  <thead>\n",
       "    <tr style=\"text-align: right;\">\n",
       "      <th></th>\n",
       "      <th>bodyType</th>\n",
       "      <th>brand</th>\n",
       "      <th>car_url</th>\n",
       "      <th>color</th>\n",
       "      <th>complectation_dict</th>\n",
       "      <th>description</th>\n",
       "      <th>engineDisplacement</th>\n",
       "      <th>enginePower</th>\n",
       "      <th>equipment_dict</th>\n",
       "      <th>fuelType</th>\n",
       "      <th>...</th>\n",
       "      <th>vehicleConfiguration</th>\n",
       "      <th>vehicleTransmission</th>\n",
       "      <th>vendor</th>\n",
       "      <th>Владельцы</th>\n",
       "      <th>Владение</th>\n",
       "      <th>ПТС</th>\n",
       "      <th>Привод</th>\n",
       "      <th>Руль</th>\n",
       "      <th>Состояние</th>\n",
       "      <th>Таможня</th>\n",
       "    </tr>\n",
       "  </thead>\n",
       "  <tbody>\n",
       "    <tr>\n",
       "      <th>0</th>\n",
       "      <td>лифтбек</td>\n",
       "      <td>SKODA</td>\n",
       "      <td>https://auto.ru/cars/used/sale/skoda/octavia/1...</td>\n",
       "      <td>синий</td>\n",
       "      <td>NaN</td>\n",
       "      <td>Все автомобили, представленные в продаже, прох...</td>\n",
       "      <td>1.2 LTR</td>\n",
       "      <td>105 N12</td>\n",
       "      <td>{\"engine-proof\":true,\"tinted-glass\":true,\"airb...</td>\n",
       "      <td>бензин</td>\n",
       "      <td>...</td>\n",
       "      <td>LIFTBACK ROBOT 1.2</td>\n",
       "      <td>роботизированная</td>\n",
       "      <td>EUROPEAN</td>\n",
       "      <td>3 или более</td>\n",
       "      <td>NaN</td>\n",
       "      <td>Оригинал</td>\n",
       "      <td>передний</td>\n",
       "      <td>Левый</td>\n",
       "      <td>Не требует ремонта</td>\n",
       "      <td>Растаможен</td>\n",
       "    </tr>\n",
       "    <tr>\n",
       "      <th>1</th>\n",
       "      <td>лифтбек</td>\n",
       "      <td>SKODA</td>\n",
       "      <td>https://auto.ru/cars/used/sale/skoda/octavia/1...</td>\n",
       "      <td>чёрный</td>\n",
       "      <td>NaN</td>\n",
       "      <td>ЛОТ: 01217195\\nАвтопрага Север\\nДанный автомоб...</td>\n",
       "      <td>1.6 LTR</td>\n",
       "      <td>110 N12</td>\n",
       "      <td>{\"cruise-control\":true,\"asr\":true,\"esp\":true,\"...</td>\n",
       "      <td>бензин</td>\n",
       "      <td>...</td>\n",
       "      <td>LIFTBACK MECHANICAL 1.6</td>\n",
       "      <td>механическая</td>\n",
       "      <td>EUROPEAN</td>\n",
       "      <td>1 владелец</td>\n",
       "      <td>NaN</td>\n",
       "      <td>Оригинал</td>\n",
       "      <td>передний</td>\n",
       "      <td>Левый</td>\n",
       "      <td>Не требует ремонта</td>\n",
       "      <td>Растаможен</td>\n",
       "    </tr>\n",
       "    <tr>\n",
       "      <th>2</th>\n",
       "      <td>лифтбек</td>\n",
       "      <td>SKODA</td>\n",
       "      <td>https://auto.ru/cars/used/sale/skoda/superb/11...</td>\n",
       "      <td>серый</td>\n",
       "      <td>{\"id\":\"20026336\",\"name\":\"Ambition\",\"available_...</td>\n",
       "      <td>Все автомобили, представленные в продаже, прох...</td>\n",
       "      <td>1.8 LTR</td>\n",
       "      <td>152 N12</td>\n",
       "      <td>{\"cruise-control\":true,\"tinted-glass\":true,\"es...</td>\n",
       "      <td>бензин</td>\n",
       "      <td>...</td>\n",
       "      <td>LIFTBACK ROBOT 1.8</td>\n",
       "      <td>роботизированная</td>\n",
       "      <td>EUROPEAN</td>\n",
       "      <td>1 владелец</td>\n",
       "      <td>NaN</td>\n",
       "      <td>Оригинал</td>\n",
       "      <td>передний</td>\n",
       "      <td>Левый</td>\n",
       "      <td>Не требует ремонта</td>\n",
       "      <td>Растаможен</td>\n",
       "    </tr>\n",
       "    <tr>\n",
       "      <th>3</th>\n",
       "      <td>лифтбек</td>\n",
       "      <td>SKODA</td>\n",
       "      <td>https://auto.ru/cars/used/sale/skoda/octavia/1...</td>\n",
       "      <td>коричневый</td>\n",
       "      <td>{\"id\":\"20803582\",\"name\":\"Ambition\",\"available_...</td>\n",
       "      <td>КОМПЛЕКТ ЗИМНЕЙ (ЛЕТНЕЙ) РЕЗИНЫ ПО СЕЗОНУ В ПО...</td>\n",
       "      <td>1.6 LTR</td>\n",
       "      <td>110 N12</td>\n",
       "      <td>{\"cruise-control\":true,\"roller-blind-for-rear-...</td>\n",
       "      <td>бензин</td>\n",
       "      <td>...</td>\n",
       "      <td>LIFTBACK AUTOMATIC 1.6</td>\n",
       "      <td>автоматическая</td>\n",
       "      <td>EUROPEAN</td>\n",
       "      <td>1 владелец</td>\n",
       "      <td>NaN</td>\n",
       "      <td>Оригинал</td>\n",
       "      <td>передний</td>\n",
       "      <td>Левый</td>\n",
       "      <td>Не требует ремонта</td>\n",
       "      <td>Растаможен</td>\n",
       "    </tr>\n",
       "    <tr>\n",
       "      <th>4</th>\n",
       "      <td>лифтбек</td>\n",
       "      <td>SKODA</td>\n",
       "      <td>https://auto.ru/cars/used/sale/skoda/octavia/1...</td>\n",
       "      <td>белый</td>\n",
       "      <td>NaN</td>\n",
       "      <td>ЛОТ: 01220889\\nАвтопрага Север\\n\\nВы можете по...</td>\n",
       "      <td>1.8 LTR</td>\n",
       "      <td>152 N12</td>\n",
       "      <td>{\"cruise-control\":true,\"asr\":true,\"esp\":true,\"...</td>\n",
       "      <td>бензин</td>\n",
       "      <td>...</td>\n",
       "      <td>LIFTBACK AUTOMATIC 1.8</td>\n",
       "      <td>автоматическая</td>\n",
       "      <td>EUROPEAN</td>\n",
       "      <td>1 владелец</td>\n",
       "      <td>NaN</td>\n",
       "      <td>Оригинал</td>\n",
       "      <td>передний</td>\n",
       "      <td>Левый</td>\n",
       "      <td>Не требует ремонта</td>\n",
       "      <td>Растаможен</td>\n",
       "    </tr>\n",
       "  </tbody>\n",
       "</table>\n",
       "<p>5 rows × 32 columns</p>\n",
       "</div>"
      ],
      "text/plain": [
       "  bodyType  brand                                            car_url  \\\n",
       "0  лифтбек  SKODA  https://auto.ru/cars/used/sale/skoda/octavia/1...   \n",
       "1  лифтбек  SKODA  https://auto.ru/cars/used/sale/skoda/octavia/1...   \n",
       "2  лифтбек  SKODA  https://auto.ru/cars/used/sale/skoda/superb/11...   \n",
       "3  лифтбек  SKODA  https://auto.ru/cars/used/sale/skoda/octavia/1...   \n",
       "4  лифтбек  SKODA  https://auto.ru/cars/used/sale/skoda/octavia/1...   \n",
       "\n",
       "        color                                 complectation_dict  \\\n",
       "0       синий                                                NaN   \n",
       "1      чёрный                                                NaN   \n",
       "2       серый  {\"id\":\"20026336\",\"name\":\"Ambition\",\"available_...   \n",
       "3  коричневый  {\"id\":\"20803582\",\"name\":\"Ambition\",\"available_...   \n",
       "4       белый                                                NaN   \n",
       "\n",
       "                                         description engineDisplacement  \\\n",
       "0  Все автомобили, представленные в продаже, прох...            1.2 LTR   \n",
       "1  ЛОТ: 01217195\\nАвтопрага Север\\nДанный автомоб...            1.6 LTR   \n",
       "2  Все автомобили, представленные в продаже, прох...            1.8 LTR   \n",
       "3  КОМПЛЕКТ ЗИМНЕЙ (ЛЕТНЕЙ) РЕЗИНЫ ПО СЕЗОНУ В ПО...            1.6 LTR   \n",
       "4  ЛОТ: 01220889\\nАвтопрага Север\\n\\nВы можете по...            1.8 LTR   \n",
       "\n",
       "  enginePower                                     equipment_dict fuelType  \\\n",
       "0     105 N12  {\"engine-proof\":true,\"tinted-glass\":true,\"airb...   бензин   \n",
       "1     110 N12  {\"cruise-control\":true,\"asr\":true,\"esp\":true,\"...   бензин   \n",
       "2     152 N12  {\"cruise-control\":true,\"tinted-glass\":true,\"es...   бензин   \n",
       "3     110 N12  {\"cruise-control\":true,\"roller-blind-for-rear-...   бензин   \n",
       "4     152 N12  {\"cruise-control\":true,\"asr\":true,\"esp\":true,\"...   бензин   \n",
       "\n",
       "   ...     vehicleConfiguration  vehicleTransmission    vendor    Владельцы  \\\n",
       "0  ...       LIFTBACK ROBOT 1.2     роботизированная  EUROPEAN  3 или более   \n",
       "1  ...  LIFTBACK MECHANICAL 1.6         механическая  EUROPEAN   1 владелец   \n",
       "2  ...       LIFTBACK ROBOT 1.8     роботизированная  EUROPEAN   1 владелец   \n",
       "3  ...   LIFTBACK AUTOMATIC 1.6       автоматическая  EUROPEAN   1 владелец   \n",
       "4  ...   LIFTBACK AUTOMATIC 1.8       автоматическая  EUROPEAN   1 владелец   \n",
       "\n",
       "  Владение       ПТС    Привод   Руль           Состояние     Таможня  \n",
       "0      NaN  Оригинал  передний  Левый  Не требует ремонта  Растаможен  \n",
       "1      NaN  Оригинал  передний  Левый  Не требует ремонта  Растаможен  \n",
       "2      NaN  Оригинал  передний  Левый  Не требует ремонта  Растаможен  \n",
       "3      NaN  Оригинал  передний  Левый  Не требует ремонта  Растаможен  \n",
       "4      NaN  Оригинал  передний  Левый  Не требует ремонта  Растаможен  \n",
       "\n",
       "[5 rows x 32 columns]"
      ]
     },
     "execution_count": 16,
     "metadata": {},
     "output_type": "execute_result"
    }
   ],
   "source": [
    "test.head(5)"
   ]
  },
  {
   "cell_type": "code",
   "execution_count": 17,
   "metadata": {},
   "outputs": [
    {
     "name": "stdout",
     "output_type": "stream",
     "text": [
      "<class 'pandas.core.frame.DataFrame'>\n",
      "RangeIndex: 34686 entries, 0 to 34685\n",
      "Data columns (total 32 columns):\n",
      " #   Column                Non-Null Count  Dtype \n",
      "---  ------                --------------  ----- \n",
      " 0   bodyType              34686 non-null  object\n",
      " 1   brand                 34686 non-null  object\n",
      " 2   car_url               34686 non-null  object\n",
      " 3   color                 34686 non-null  object\n",
      " 4   complectation_dict    6418 non-null   object\n",
      " 5   description           34686 non-null  object\n",
      " 6   engineDisplacement    34686 non-null  object\n",
      " 7   enginePower           34686 non-null  object\n",
      " 8   equipment_dict        24690 non-null  object\n",
      " 9   fuelType              34686 non-null  object\n",
      " 10  image                 34686 non-null  object\n",
      " 11  mileage               34686 non-null  int64 \n",
      " 12  modelDate             34686 non-null  int64 \n",
      " 13  model_info            34686 non-null  object\n",
      " 14  model_name            34686 non-null  object\n",
      " 15  name                  34686 non-null  object\n",
      " 16  numberOfDoors         34686 non-null  int64 \n",
      " 17  parsing_unixtime      34686 non-null  int64 \n",
      " 18  priceCurrency         34686 non-null  object\n",
      " 19  productionDate        34686 non-null  int64 \n",
      " 20  sell_id               34686 non-null  int64 \n",
      " 21  super_gen             34686 non-null  object\n",
      " 22  vehicleConfiguration  34686 non-null  object\n",
      " 23  vehicleTransmission   34686 non-null  object\n",
      " 24  vendor                34686 non-null  object\n",
      " 25  Владельцы             34686 non-null  object\n",
      " 26  Владение              11995 non-null  object\n",
      " 27  ПТС                   34685 non-null  object\n",
      " 28  Привод                34686 non-null  object\n",
      " 29  Руль                  34686 non-null  object\n",
      " 30  Состояние             34686 non-null  object\n",
      " 31  Таможня               34686 non-null  object\n",
      "dtypes: int64(6), object(26)\n",
      "memory usage: 8.5+ MB\n"
     ]
    }
   ],
   "source": [
    "test.info()"
   ]
  },
  {
   "cell_type": "code",
   "execution_count": 18,
   "metadata": {},
   "outputs": [],
   "source": [
    "df_train = train.copy()\n",
    "df_test = test.copy()"
   ]
  },
  {
   "cell_type": "code",
   "execution_count": 19,
   "metadata": {},
   "outputs": [],
   "source": [
    "df_test['price'] = 0"
   ]
  },
  {
   "cell_type": "code",
   "execution_count": 20,
   "metadata": {},
   "outputs": [],
   "source": [
    "df_train['sample'] = 1\n",
    "df_test['sample'] = 0"
   ]
  },
  {
   "cell_type": "code",
   "execution_count": 21,
   "metadata": {},
   "outputs": [],
   "source": [
    "data = df_test.append(df_train, sort=False)"
   ]
  },
  {
   "cell_type": "code",
   "execution_count": 22,
   "metadata": {},
   "outputs": [
    {
     "data": {
      "text/plain": [
       "197893"
      ]
     },
     "execution_count": 22,
     "metadata": {},
     "output_type": "execute_result"
    }
   ],
   "source": [
    "len(data)"
   ]
  },
  {
   "cell_type": "code",
   "execution_count": 23,
   "metadata": {},
   "outputs": [
    {
     "data": {
      "text/html": [
       "<div>\n",
       "<style scoped>\n",
       "    .dataframe tbody tr th:only-of-type {\n",
       "        vertical-align: middle;\n",
       "    }\n",
       "\n",
       "    .dataframe tbody tr th {\n",
       "        vertical-align: top;\n",
       "    }\n",
       "\n",
       "    .dataframe thead th {\n",
       "        text-align: right;\n",
       "    }\n",
       "</style>\n",
       "<table border=\"1\" class=\"dataframe\">\n",
       "  <thead>\n",
       "    <tr style=\"text-align: right;\">\n",
       "      <th></th>\n",
       "      <th>bodyType</th>\n",
       "      <th>brand</th>\n",
       "      <th>car_url</th>\n",
       "      <th>color</th>\n",
       "      <th>complectation_dict</th>\n",
       "      <th>description</th>\n",
       "      <th>engineDisplacement</th>\n",
       "      <th>enginePower</th>\n",
       "      <th>equipment_dict</th>\n",
       "      <th>fuelType</th>\n",
       "      <th>...</th>\n",
       "      <th>Состояние</th>\n",
       "      <th>Таможня</th>\n",
       "      <th>price</th>\n",
       "      <th>sample</th>\n",
       "      <th>Комплектация</th>\n",
       "      <th>start_date</th>\n",
       "      <th>hidden</th>\n",
       "      <th>model</th>\n",
       "      <th>price_EUR</th>\n",
       "      <th>price_USD</th>\n",
       "    </tr>\n",
       "  </thead>\n",
       "  <tbody>\n",
       "    <tr>\n",
       "      <th>0</th>\n",
       "      <td>лифтбек</td>\n",
       "      <td>SKODA</td>\n",
       "      <td>https://auto.ru/cars/used/sale/skoda/octavia/1...</td>\n",
       "      <td>синий</td>\n",
       "      <td>NaN</td>\n",
       "      <td>Все автомобили, представленные в продаже, прох...</td>\n",
       "      <td>1.2 LTR</td>\n",
       "      <td>105 N12</td>\n",
       "      <td>{\"engine-proof\":true,\"tinted-glass\":true,\"airb...</td>\n",
       "      <td>бензин</td>\n",
       "      <td>...</td>\n",
       "      <td>Не требует ремонта</td>\n",
       "      <td>Растаможен</td>\n",
       "      <td>0.0</td>\n",
       "      <td>0</td>\n",
       "      <td>NaN</td>\n",
       "      <td>NaN</td>\n",
       "      <td>NaN</td>\n",
       "      <td>NaN</td>\n",
       "      <td>NaN</td>\n",
       "      <td>NaN</td>\n",
       "    </tr>\n",
       "    <tr>\n",
       "      <th>1</th>\n",
       "      <td>лифтбек</td>\n",
       "      <td>SKODA</td>\n",
       "      <td>https://auto.ru/cars/used/sale/skoda/octavia/1...</td>\n",
       "      <td>чёрный</td>\n",
       "      <td>NaN</td>\n",
       "      <td>ЛОТ: 01217195\\nАвтопрага Север\\nДанный автомоб...</td>\n",
       "      <td>1.6 LTR</td>\n",
       "      <td>110 N12</td>\n",
       "      <td>{\"cruise-control\":true,\"asr\":true,\"esp\":true,\"...</td>\n",
       "      <td>бензин</td>\n",
       "      <td>...</td>\n",
       "      <td>Не требует ремонта</td>\n",
       "      <td>Растаможен</td>\n",
       "      <td>0.0</td>\n",
       "      <td>0</td>\n",
       "      <td>NaN</td>\n",
       "      <td>NaN</td>\n",
       "      <td>NaN</td>\n",
       "      <td>NaN</td>\n",
       "      <td>NaN</td>\n",
       "      <td>NaN</td>\n",
       "    </tr>\n",
       "    <tr>\n",
       "      <th>2</th>\n",
       "      <td>лифтбек</td>\n",
       "      <td>SKODA</td>\n",
       "      <td>https://auto.ru/cars/used/sale/skoda/superb/11...</td>\n",
       "      <td>серый</td>\n",
       "      <td>{\"id\":\"20026336\",\"name\":\"Ambition\",\"available_...</td>\n",
       "      <td>Все автомобили, представленные в продаже, прох...</td>\n",
       "      <td>1.8 LTR</td>\n",
       "      <td>152 N12</td>\n",
       "      <td>{\"cruise-control\":true,\"tinted-glass\":true,\"es...</td>\n",
       "      <td>бензин</td>\n",
       "      <td>...</td>\n",
       "      <td>Не требует ремонта</td>\n",
       "      <td>Растаможен</td>\n",
       "      <td>0.0</td>\n",
       "      <td>0</td>\n",
       "      <td>NaN</td>\n",
       "      <td>NaN</td>\n",
       "      <td>NaN</td>\n",
       "      <td>NaN</td>\n",
       "      <td>NaN</td>\n",
       "      <td>NaN</td>\n",
       "    </tr>\n",
       "    <tr>\n",
       "      <th>3</th>\n",
       "      <td>лифтбек</td>\n",
       "      <td>SKODA</td>\n",
       "      <td>https://auto.ru/cars/used/sale/skoda/octavia/1...</td>\n",
       "      <td>коричневый</td>\n",
       "      <td>{\"id\":\"20803582\",\"name\":\"Ambition\",\"available_...</td>\n",
       "      <td>КОМПЛЕКТ ЗИМНЕЙ (ЛЕТНЕЙ) РЕЗИНЫ ПО СЕЗОНУ В ПО...</td>\n",
       "      <td>1.6 LTR</td>\n",
       "      <td>110 N12</td>\n",
       "      <td>{\"cruise-control\":true,\"roller-blind-for-rear-...</td>\n",
       "      <td>бензин</td>\n",
       "      <td>...</td>\n",
       "      <td>Не требует ремонта</td>\n",
       "      <td>Растаможен</td>\n",
       "      <td>0.0</td>\n",
       "      <td>0</td>\n",
       "      <td>NaN</td>\n",
       "      <td>NaN</td>\n",
       "      <td>NaN</td>\n",
       "      <td>NaN</td>\n",
       "      <td>NaN</td>\n",
       "      <td>NaN</td>\n",
       "    </tr>\n",
       "    <tr>\n",
       "      <th>4</th>\n",
       "      <td>лифтбек</td>\n",
       "      <td>SKODA</td>\n",
       "      <td>https://auto.ru/cars/used/sale/skoda/octavia/1...</td>\n",
       "      <td>белый</td>\n",
       "      <td>NaN</td>\n",
       "      <td>ЛОТ: 01220889\\nАвтопрага Север\\n\\nВы можете по...</td>\n",
       "      <td>1.8 LTR</td>\n",
       "      <td>152 N12</td>\n",
       "      <td>{\"cruise-control\":true,\"asr\":true,\"esp\":true,\"...</td>\n",
       "      <td>бензин</td>\n",
       "      <td>...</td>\n",
       "      <td>Не требует ремонта</td>\n",
       "      <td>Растаможен</td>\n",
       "      <td>0.0</td>\n",
       "      <td>0</td>\n",
       "      <td>NaN</td>\n",
       "      <td>NaN</td>\n",
       "      <td>NaN</td>\n",
       "      <td>NaN</td>\n",
       "      <td>NaN</td>\n",
       "      <td>NaN</td>\n",
       "    </tr>\n",
       "  </tbody>\n",
       "</table>\n",
       "<p>5 rows × 40 columns</p>\n",
       "</div>"
      ],
      "text/plain": [
       "  bodyType  brand                                            car_url  \\\n",
       "0  лифтбек  SKODA  https://auto.ru/cars/used/sale/skoda/octavia/1...   \n",
       "1  лифтбек  SKODA  https://auto.ru/cars/used/sale/skoda/octavia/1...   \n",
       "2  лифтбек  SKODA  https://auto.ru/cars/used/sale/skoda/superb/11...   \n",
       "3  лифтбек  SKODA  https://auto.ru/cars/used/sale/skoda/octavia/1...   \n",
       "4  лифтбек  SKODA  https://auto.ru/cars/used/sale/skoda/octavia/1...   \n",
       "\n",
       "        color                                 complectation_dict  \\\n",
       "0       синий                                                NaN   \n",
       "1      чёрный                                                NaN   \n",
       "2       серый  {\"id\":\"20026336\",\"name\":\"Ambition\",\"available_...   \n",
       "3  коричневый  {\"id\":\"20803582\",\"name\":\"Ambition\",\"available_...   \n",
       "4       белый                                                NaN   \n",
       "\n",
       "                                         description engineDisplacement  \\\n",
       "0  Все автомобили, представленные в продаже, прох...            1.2 LTR   \n",
       "1  ЛОТ: 01217195\\nАвтопрага Север\\nДанный автомоб...            1.6 LTR   \n",
       "2  Все автомобили, представленные в продаже, прох...            1.8 LTR   \n",
       "3  КОМПЛЕКТ ЗИМНЕЙ (ЛЕТНЕЙ) РЕЗИНЫ ПО СЕЗОНУ В ПО...            1.6 LTR   \n",
       "4  ЛОТ: 01220889\\nАвтопрага Север\\n\\nВы можете по...            1.8 LTR   \n",
       "\n",
       "  enginePower                                     equipment_dict fuelType  \\\n",
       "0     105 N12  {\"engine-proof\":true,\"tinted-glass\":true,\"airb...   бензин   \n",
       "1     110 N12  {\"cruise-control\":true,\"asr\":true,\"esp\":true,\"...   бензин   \n",
       "2     152 N12  {\"cruise-control\":true,\"tinted-glass\":true,\"es...   бензин   \n",
       "3     110 N12  {\"cruise-control\":true,\"roller-blind-for-rear-...   бензин   \n",
       "4     152 N12  {\"cruise-control\":true,\"asr\":true,\"esp\":true,\"...   бензин   \n",
       "\n",
       "   ...           Состояние     Таможня  price sample Комплектация start_date  \\\n",
       "0  ...  Не требует ремонта  Растаможен    0.0      0          NaN        NaN   \n",
       "1  ...  Не требует ремонта  Растаможен    0.0      0          NaN        NaN   \n",
       "2  ...  Не требует ремонта  Растаможен    0.0      0          NaN        NaN   \n",
       "3  ...  Не требует ремонта  Растаможен    0.0      0          NaN        NaN   \n",
       "4  ...  Не требует ремонта  Растаможен    0.0      0          NaN        NaN   \n",
       "\n",
       "   hidden  model price_EUR  price_USD  \n",
       "0     NaN    NaN       NaN        NaN  \n",
       "1     NaN    NaN       NaN        NaN  \n",
       "2     NaN    NaN       NaN        NaN  \n",
       "3     NaN    NaN       NaN        NaN  \n",
       "4     NaN    NaN       NaN        NaN  \n",
       "\n",
       "[5 rows x 40 columns]"
      ]
     },
     "execution_count": 23,
     "metadata": {},
     "output_type": "execute_result"
    }
   ],
   "source": [
    "data.head()"
   ]
  },
  {
   "cell_type": "code",
   "execution_count": 24,
   "metadata": {},
   "outputs": [
    {
     "name": "stdout",
     "output_type": "stream",
     "text": [
      "<class 'pandas.core.frame.DataFrame'>\n",
      "Int64Index: 197893 entries, 0 to 77448\n",
      "Data columns (total 40 columns):\n",
      " #   Column                Non-Null Count   Dtype  \n",
      "---  ------                --------------   -----  \n",
      " 0   bodyType              197890 non-null  object \n",
      " 1   brand                 197893 non-null  object \n",
      " 2   car_url               34686 non-null   object \n",
      " 3   color                 197893 non-null  object \n",
      " 4   complectation_dict    82361 non-null   object \n",
      " 5   description           192037 non-null  object \n",
      " 6   engineDisplacement    197892 non-null  object \n",
      " 7   enginePower           197890 non-null  object \n",
      " 8   equipment_dict        100633 non-null  object \n",
      " 9   fuelType              197893 non-null  object \n",
      " 10  image                 110629 non-null  object \n",
      " 11  mileage               197893 non-null  int64  \n",
      " 12  modelDate             197890 non-null  float64\n",
      " 13  model_info            110629 non-null  object \n",
      " 14  model_name            110629 non-null  object \n",
      " 15  name                  197890 non-null  object \n",
      " 16  numberOfDoors         197890 non-null  float64\n",
      " 17  parsing_unixtime      34686 non-null   float64\n",
      " 18  priceCurrency         110333 non-null  object \n",
      " 19  productionDate        197893 non-null  int64  \n",
      " 20  sell_id               110629 non-null  float64\n",
      " 21  super_gen             110627 non-null  object \n",
      " 22  vehicleConfiguration  197890 non-null  object \n",
      " 23  vehicleTransmission   197890 non-null  object \n",
      " 24  vendor                110629 non-null  object \n",
      " 25  Владельцы             170184 non-null  object \n",
      " 26  Владение              60869 non-null   object \n",
      " 27  ПТС                   197085 non-null  object \n",
      " 28  Привод                197890 non-null  object \n",
      " 29  Руль                  197893 non-null  object \n",
      " 30  Состояние             110629 non-null  object \n",
      " 31  Таможня               197893 non-null  object \n",
      " 32  price                 197187 non-null  float64\n",
      " 33  sample                197893 non-null  int64  \n",
      " 34  Комплектация          87264 non-null   object \n",
      " 35  start_date            163207 non-null  object \n",
      " 36  hidden                0 non-null       float64\n",
      " 37  model                 87264 non-null   object \n",
      " 38  price_EUR             75647 non-null   float64\n",
      " 39  price_USD             75647 non-null   float64\n",
      "dtypes: float64(8), int64(3), object(29)\n",
      "memory usage: 61.9+ MB\n"
     ]
    }
   ],
   "source": [
    "data.info()"
   ]
  },
  {
   "cell_type": "code",
   "execution_count": 25,
   "metadata": {},
   "outputs": [
    {
     "data": {
      "text/html": [
       "<div>\n",
       "<style scoped>\n",
       "    .dataframe tbody tr th:only-of-type {\n",
       "        vertical-align: middle;\n",
       "    }\n",
       "\n",
       "    .dataframe tbody tr th {\n",
       "        vertical-align: top;\n",
       "    }\n",
       "\n",
       "    .dataframe thead th {\n",
       "        text-align: right;\n",
       "    }\n",
       "</style>\n",
       "<table border=\"1\" class=\"dataframe\">\n",
       "  <thead>\n",
       "    <tr style=\"text-align: right;\">\n",
       "      <th></th>\n",
       "      <th>mileage</th>\n",
       "      <th>modelDate</th>\n",
       "      <th>numberOfDoors</th>\n",
       "      <th>parsing_unixtime</th>\n",
       "      <th>productionDate</th>\n",
       "      <th>sell_id</th>\n",
       "      <th>price</th>\n",
       "      <th>sample</th>\n",
       "      <th>hidden</th>\n",
       "      <th>price_EUR</th>\n",
       "      <th>price_USD</th>\n",
       "    </tr>\n",
       "  </thead>\n",
       "  <tbody>\n",
       "    <tr>\n",
       "      <th>mileage</th>\n",
       "      <td>1.000000</td>\n",
       "      <td>-0.708695</td>\n",
       "      <td>-0.107369</td>\n",
       "      <td>-0.012309</td>\n",
       "      <td>-0.733970</td>\n",
       "      <td>-0.064221</td>\n",
       "      <td>-0.446574</td>\n",
       "      <td>-0.113927</td>\n",
       "      <td>NaN</td>\n",
       "      <td>-0.489995</td>\n",
       "      <td>-0.489995</td>\n",
       "    </tr>\n",
       "    <tr>\n",
       "      <th>modelDate</th>\n",
       "      <td>-0.708695</td>\n",
       "      <td>1.000000</td>\n",
       "      <td>0.192438</td>\n",
       "      <td>0.008318</td>\n",
       "      <td>0.971450</td>\n",
       "      <td>0.086340</td>\n",
       "      <td>0.420694</td>\n",
       "      <td>0.090536</td>\n",
       "      <td>NaN</td>\n",
       "      <td>0.466775</td>\n",
       "      <td>0.466776</td>\n",
       "    </tr>\n",
       "    <tr>\n",
       "      <th>numberOfDoors</th>\n",
       "      <td>-0.107369</td>\n",
       "      <td>0.192438</td>\n",
       "      <td>1.000000</td>\n",
       "      <td>0.059327</td>\n",
       "      <td>0.203312</td>\n",
       "      <td>0.029899</td>\n",
       "      <td>0.078269</td>\n",
       "      <td>0.040688</td>\n",
       "      <td>NaN</td>\n",
       "      <td>0.099599</td>\n",
       "      <td>0.099599</td>\n",
       "    </tr>\n",
       "    <tr>\n",
       "      <th>parsing_unixtime</th>\n",
       "      <td>-0.012309</td>\n",
       "      <td>0.008318</td>\n",
       "      <td>0.059327</td>\n",
       "      <td>1.000000</td>\n",
       "      <td>0.010808</td>\n",
       "      <td>0.034509</td>\n",
       "      <td>NaN</td>\n",
       "      <td>NaN</td>\n",
       "      <td>NaN</td>\n",
       "      <td>NaN</td>\n",
       "      <td>NaN</td>\n",
       "    </tr>\n",
       "    <tr>\n",
       "      <th>productionDate</th>\n",
       "      <td>-0.733970</td>\n",
       "      <td>0.971450</td>\n",
       "      <td>0.203312</td>\n",
       "      <td>0.010808</td>\n",
       "      <td>1.000000</td>\n",
       "      <td>0.088676</td>\n",
       "      <td>0.428144</td>\n",
       "      <td>0.099878</td>\n",
       "      <td>NaN</td>\n",
       "      <td>0.470953</td>\n",
       "      <td>0.470954</td>\n",
       "    </tr>\n",
       "    <tr>\n",
       "      <th>sell_id</th>\n",
       "      <td>-0.064221</td>\n",
       "      <td>0.086340</td>\n",
       "      <td>0.029899</td>\n",
       "      <td>0.034509</td>\n",
       "      <td>0.088676</td>\n",
       "      <td>1.000000</td>\n",
       "      <td>0.052712</td>\n",
       "      <td>0.052995</td>\n",
       "      <td>NaN</td>\n",
       "      <td>0.091880</td>\n",
       "      <td>0.091881</td>\n",
       "    </tr>\n",
       "    <tr>\n",
       "      <th>price</th>\n",
       "      <td>-0.446574</td>\n",
       "      <td>0.420694</td>\n",
       "      <td>0.078269</td>\n",
       "      <td>NaN</td>\n",
       "      <td>0.428144</td>\n",
       "      <td>0.052712</td>\n",
       "      <td>1.000000</td>\n",
       "      <td>0.266012</td>\n",
       "      <td>NaN</td>\n",
       "      <td>1.000000</td>\n",
       "      <td>1.000000</td>\n",
       "    </tr>\n",
       "    <tr>\n",
       "      <th>sample</th>\n",
       "      <td>-0.113927</td>\n",
       "      <td>0.090536</td>\n",
       "      <td>0.040688</td>\n",
       "      <td>NaN</td>\n",
       "      <td>0.099878</td>\n",
       "      <td>0.052995</td>\n",
       "      <td>0.266012</td>\n",
       "      <td>1.000000</td>\n",
       "      <td>NaN</td>\n",
       "      <td>NaN</td>\n",
       "      <td>NaN</td>\n",
       "    </tr>\n",
       "    <tr>\n",
       "      <th>hidden</th>\n",
       "      <td>NaN</td>\n",
       "      <td>NaN</td>\n",
       "      <td>NaN</td>\n",
       "      <td>NaN</td>\n",
       "      <td>NaN</td>\n",
       "      <td>NaN</td>\n",
       "      <td>NaN</td>\n",
       "      <td>NaN</td>\n",
       "      <td>NaN</td>\n",
       "      <td>NaN</td>\n",
       "      <td>NaN</td>\n",
       "    </tr>\n",
       "    <tr>\n",
       "      <th>price_EUR</th>\n",
       "      <td>-0.489995</td>\n",
       "      <td>0.466775</td>\n",
       "      <td>0.099599</td>\n",
       "      <td>NaN</td>\n",
       "      <td>0.470953</td>\n",
       "      <td>0.091880</td>\n",
       "      <td>1.000000</td>\n",
       "      <td>NaN</td>\n",
       "      <td>NaN</td>\n",
       "      <td>1.000000</td>\n",
       "      <td>1.000000</td>\n",
       "    </tr>\n",
       "    <tr>\n",
       "      <th>price_USD</th>\n",
       "      <td>-0.489995</td>\n",
       "      <td>0.466776</td>\n",
       "      <td>0.099599</td>\n",
       "      <td>NaN</td>\n",
       "      <td>0.470954</td>\n",
       "      <td>0.091881</td>\n",
       "      <td>1.000000</td>\n",
       "      <td>NaN</td>\n",
       "      <td>NaN</td>\n",
       "      <td>1.000000</td>\n",
       "      <td>1.000000</td>\n",
       "    </tr>\n",
       "  </tbody>\n",
       "</table>\n",
       "</div>"
      ],
      "text/plain": [
       "                   mileage  modelDate  numberOfDoors  parsing_unixtime  \\\n",
       "mileage           1.000000  -0.708695      -0.107369         -0.012309   \n",
       "modelDate        -0.708695   1.000000       0.192438          0.008318   \n",
       "numberOfDoors    -0.107369   0.192438       1.000000          0.059327   \n",
       "parsing_unixtime -0.012309   0.008318       0.059327          1.000000   \n",
       "productionDate   -0.733970   0.971450       0.203312          0.010808   \n",
       "sell_id          -0.064221   0.086340       0.029899          0.034509   \n",
       "price            -0.446574   0.420694       0.078269               NaN   \n",
       "sample           -0.113927   0.090536       0.040688               NaN   \n",
       "hidden                 NaN        NaN            NaN               NaN   \n",
       "price_EUR        -0.489995   0.466775       0.099599               NaN   \n",
       "price_USD        -0.489995   0.466776       0.099599               NaN   \n",
       "\n",
       "                  productionDate   sell_id     price    sample  hidden  \\\n",
       "mileage                -0.733970 -0.064221 -0.446574 -0.113927     NaN   \n",
       "modelDate               0.971450  0.086340  0.420694  0.090536     NaN   \n",
       "numberOfDoors           0.203312  0.029899  0.078269  0.040688     NaN   \n",
       "parsing_unixtime        0.010808  0.034509       NaN       NaN     NaN   \n",
       "productionDate          1.000000  0.088676  0.428144  0.099878     NaN   \n",
       "sell_id                 0.088676  1.000000  0.052712  0.052995     NaN   \n",
       "price                   0.428144  0.052712  1.000000  0.266012     NaN   \n",
       "sample                  0.099878  0.052995  0.266012  1.000000     NaN   \n",
       "hidden                       NaN       NaN       NaN       NaN     NaN   \n",
       "price_EUR               0.470953  0.091880  1.000000       NaN     NaN   \n",
       "price_USD               0.470954  0.091881  1.000000       NaN     NaN   \n",
       "\n",
       "                  price_EUR  price_USD  \n",
       "mileage           -0.489995  -0.489995  \n",
       "modelDate          0.466775   0.466776  \n",
       "numberOfDoors      0.099599   0.099599  \n",
       "parsing_unixtime        NaN        NaN  \n",
       "productionDate     0.470953   0.470954  \n",
       "sell_id            0.091880   0.091881  \n",
       "price              1.000000   1.000000  \n",
       "sample                  NaN        NaN  \n",
       "hidden                  NaN        NaN  \n",
       "price_EUR          1.000000   1.000000  \n",
       "price_USD          1.000000   1.000000  "
      ]
     },
     "execution_count": 25,
     "metadata": {},
     "output_type": "execute_result"
    }
   ],
   "source": [
    "data.corr()"
   ]
  },
  {
   "cell_type": "code",
   "execution_count": 26,
   "metadata": {},
   "outputs": [
    {
     "name": "stdout",
     "output_type": "stream",
     "text": [
      "<class 'pandas.core.frame.DataFrame'>\n",
      "Int64Index: 197893 entries, 0 to 77448\n",
      "Data columns (total 40 columns):\n",
      " #   Column                Non-Null Count   Dtype  \n",
      "---  ------                --------------   -----  \n",
      " 0   bodyType              197890 non-null  object \n",
      " 1   brand                 197893 non-null  object \n",
      " 2   car_url               34686 non-null   object \n",
      " 3   color                 197893 non-null  object \n",
      " 4   complectation_dict    82361 non-null   object \n",
      " 5   description           192037 non-null  object \n",
      " 6   engineDisplacement    197892 non-null  object \n",
      " 7   enginePower           197890 non-null  object \n",
      " 8   equipment_dict        100633 non-null  object \n",
      " 9   fuelType              197893 non-null  object \n",
      " 10  image                 110629 non-null  object \n",
      " 11  mileage               197893 non-null  int64  \n",
      " 12  modelDate             197890 non-null  float64\n",
      " 13  model_info            110629 non-null  object \n",
      " 14  model_name            110629 non-null  object \n",
      " 15  name                  197890 non-null  object \n",
      " 16  numberOfDoors         197890 non-null  float64\n",
      " 17  parsing_unixtime      34686 non-null   float64\n",
      " 18  priceCurrency         110333 non-null  object \n",
      " 19  productionDate        197893 non-null  int64  \n",
      " 20  sell_id               110629 non-null  float64\n",
      " 21  super_gen             110627 non-null  object \n",
      " 22  vehicleConfiguration  197890 non-null  object \n",
      " 23  vehicleTransmission   197890 non-null  object \n",
      " 24  vendor                110629 non-null  object \n",
      " 25  Владельцы             170184 non-null  object \n",
      " 26  Владение              60869 non-null   object \n",
      " 27  ПТС                   197085 non-null  object \n",
      " 28  Привод                197890 non-null  object \n",
      " 29  Руль                  197893 non-null  object \n",
      " 30  Состояние             110629 non-null  object \n",
      " 31  Таможня               197893 non-null  object \n",
      " 32  price                 197187 non-null  float64\n",
      " 33  sample                197893 non-null  int64  \n",
      " 34  Комплектация          87264 non-null   object \n",
      " 35  start_date            163207 non-null  object \n",
      " 36  hidden                0 non-null       float64\n",
      " 37  model                 87264 non-null   object \n",
      " 38  price_EUR             75647 non-null   float64\n",
      " 39  price_USD             75647 non-null   float64\n",
      "dtypes: float64(8), int64(3), object(29)\n",
      "memory usage: 61.9+ MB\n"
     ]
    }
   ],
   "source": [
    "data.info()"
   ]
  },
  {
   "cell_type": "code",
   "execution_count": 27,
   "metadata": {},
   "outputs": [
    {
     "name": "stdout",
     "output_type": "stream",
     "text": [
      "bodyType 206\n",
      "brand 36\n",
      "car_url 34686\n",
      "color 32\n",
      "complectation_dict 7590\n",
      "description 141438\n",
      "engineDisplacement 600\n",
      "enginePower 719\n",
      "equipment_dict 69253\n",
      "fuelType 7\n",
      "image 34604\n",
      "mileage 34137\n",
      "modelDate 79\n",
      "model_info 2567\n",
      "model_name 1080\n",
      "name 5152\n",
      "numberOfDoors 5\n",
      "parsing_unixtime 34686\n",
      "priceCurrency 2\n",
      "productionDate 83\n",
      "sell_id 93521\n",
      "super_gen 16073\n",
      "vehicleConfiguration 2158\n",
      "vehicleTransmission 8\n",
      "vendor 6\n",
      "Владельцы 6\n",
      "Владение 585\n",
      "ПТС 4\n",
      "Привод 3\n",
      "Руль 4\n",
      "Состояние 2\n",
      "Таможня 2\n",
      "price 14269\n",
      "sample 2\n",
      "Комплектация 5839\n",
      "start_date 114362\n",
      "hidden 0\n",
      "model 1086\n",
      "price_EUR 8973\n",
      "price_USD 9009\n",
      "________________________________________________\n",
      "проверим пустые элементы\n",
      "bodyType 3\n",
      "brand 0\n",
      "car_url 163207\n",
      "color 0\n",
      "complectation_dict 115532\n",
      "description 5856\n",
      "engineDisplacement 1\n",
      "enginePower 3\n",
      "equipment_dict 97260\n",
      "fuelType 0\n",
      "image 87264\n",
      "mileage 0\n",
      "modelDate 3\n",
      "model_info 87264\n",
      "model_name 87264\n",
      "name 3\n",
      "numberOfDoors 3\n",
      "parsing_unixtime 163207\n",
      "priceCurrency 87560\n",
      "productionDate 0\n",
      "sell_id 87264\n",
      "super_gen 87266\n",
      "vehicleConfiguration 3\n",
      "vehicleTransmission 3\n",
      "vendor 87264\n",
      "Владельцы 27709\n",
      "Владение 137024\n",
      "ПТС 808\n",
      "Привод 3\n",
      "Руль 0\n",
      "Состояние 87264\n",
      "Таможня 0\n",
      "price 706\n",
      "sample 0\n",
      "Комплектация 110629\n",
      "start_date 34686\n",
      "hidden 197893\n",
      "model 110629\n",
      "price_EUR 122246\n",
      "price_USD 122246\n"
     ]
    }
   ],
   "source": [
    "for i in data.columns:\n",
    "    print(i, len(data[i].value_counts()))\n",
    "print(\"________________________________________________\")    \n",
    "print(\"проверим пустые элементы\")\n",
    "for i in data.columns:\n",
    "    print(i, len(data[data[i].isna()]))\n"
   ]
  },
  {
   "cell_type": "code",
   "execution_count": 28,
   "metadata": {},
   "outputs": [],
   "source": [
    "data['bodyType'] =  data['bodyType'].apply(lambda  x: str(x).lower())\n",
    "data['bodyType'] = data['bodyType'].apply(lambda x: re.findall(r'\\w+',x)[0])"
   ]
  },
  {
   "cell_type": "code",
   "execution_count": 29,
   "metadata": {},
   "outputs": [],
   "source": [
    "data = data[data['bodyType'] != 'nan']"
   ]
  },
  {
   "cell_type": "code",
   "execution_count": 30,
   "metadata": {},
   "outputs": [
    {
     "data": {
      "text/plain": [
       "197890"
      ]
     },
     "execution_count": 30,
     "metadata": {},
     "output_type": "execute_result"
    }
   ],
   "source": [
    "len(data)"
   ]
  },
  {
   "cell_type": "code",
   "execution_count": 31,
   "metadata": {},
   "outputs": [
    {
     "data": {
      "text/plain": [
       "внедорожник    73964\n",
       "седан          69314\n",
       "хэтчбек        22411\n",
       "лифтбек         8410\n",
       "универсал       7607\n",
       "минивэн         5572\n",
       "компактвэн      4301\n",
       "купе            3763\n",
       "пикап           1365\n",
       "кабриолет        393\n",
       "родстер          379\n",
       "фургон           322\n",
       "микровэн          51\n",
       "лимузин           18\n",
       "тарга             14\n",
       "фастбек            6\n",
       "Name: bodyType, dtype: int64"
      ]
     },
     "execution_count": 31,
     "metadata": {},
     "output_type": "execute_result"
    }
   ],
   "source": [
    "data['bodyType'].value_counts()"
   ]
  },
  {
   "cell_type": "code",
   "execution_count": 32,
   "metadata": {},
   "outputs": [],
   "source": [
    "min_value_cars = ['кабриолет', 'родстер', 'фургон','микровэн', 'лимузин','тарга','фастбек']"
   ]
  },
  {
   "cell_type": "code",
   "execution_count": 33,
   "metadata": {},
   "outputs": [],
   "source": [
    "data['bodyType'] = data['bodyType'].apply(lambda x: 'another' if x in min_value_cars else x )\n",
    "data['bodyType'] = data['bodyType'].astype('category')"
   ]
  },
  {
   "cell_type": "code",
   "execution_count": 34,
   "metadata": {},
   "outputs": [
    {
     "data": {
      "text/plain": [
       "<AxesSubplot:>"
      ]
     },
     "execution_count": 34,
     "metadata": {},
     "output_type": "execute_result"
    },
    {
     "data": {
      "image/png": "[encoded data removed]",
      "text/plain": [
       "<Figure size 432x288 with 1 Axes>"
      ]
     },
     "metadata": {
      "needs_background": "light"
     },
     "output_type": "display_data"
    }
   ],
   "source": [
    "data['bodyType'].value_counts().plot(kind='bar')"
   ]
  },
  {
   "cell_type": "code",
   "execution_count": 35,
   "metadata": {},
   "outputs": [],
   "source": [
    "data = data[data['numberOfDoors'].notna()]\n",
    "data['numberOfDoors'] = data['numberOfDoors'].apply(lambda x: 2 if x == 0 else x)"
   ]
  },
  {
   "cell_type": "code",
   "execution_count": 36,
   "metadata": {},
   "outputs": [
    {
     "data": {
      "text/plain": [
       "<AxesSubplot:>"
      ]
     },
     "execution_count": 36,
     "metadata": {},
     "output_type": "execute_result"
    },
    {
     "data": {
      "image/png": "[encoded data removed]",
      "text/plain": [
       "<Figure size 432x288 with 1 Axes>"
      ]
     },
     "metadata": {
      "needs_background": "light"
     },
     "output_type": "display_data"
    }
   ],
   "source": [
    "data['numberOfDoors'].value_counts().plot(kind='bar')"
   ]
  },
  {
   "cell_type": "code",
   "execution_count": 37,
   "metadata": {},
   "outputs": [
    {
     "data": {
      "text/plain": [
       "040001         45643\n",
       "FAFBFB         28630\n",
       "97948F         20151\n",
       "CACECB         19936\n",
       "0000CC         16787\n",
       "чёрный         11010\n",
       "EE1D19          8683\n",
       "200204          6620\n",
       "белый           6133\n",
       "007F00          4763\n",
       "серебристый     4113\n",
       "серый           3984\n",
       "C49648          3531\n",
       "синий           3289\n",
       "22A0F8          2545\n",
       "красный         1531\n",
       "коричневый      1501\n",
       "DEA522          1313\n",
       "FFD600          1295\n",
       "660099          1284\n",
       "4A2197          1008\n",
       "FF8649           970\n",
       "зелёный          952\n",
       "бежевый          639\n",
       "голубой          457\n",
       "золотистый       266\n",
       "пурпурный        254\n",
       "фиолетовый       219\n",
       "жёлтый           194\n",
       "оранжевый        131\n",
       "FFC0CB            45\n",
       "розовый           13\n",
       "Name: color, dtype: int64"
      ]
     },
     "execution_count": 37,
     "metadata": {},
     "output_type": "execute_result"
    }
   ],
   "source": [
    "data['color'].value_counts()"
   ]
  },
  {
   "cell_type": "code",
   "execution_count": 38,
   "metadata": {},
   "outputs": [],
   "source": [
    "colors = {\n",
    "'040001': 'черный',\n",
    "'FAFBFB': 'белый',\n",
    "'97948F': 'серый',\n",
    "'CACECB': 'серебристый',\n",
    "'0000CC': 'синий',\n",
    "'EE1D19': 'красный',\n",
    "'200204': 'бордовый',\n",
    "'007F00': 'зелёный',\n",
    "'C49648': 'коричневый',\n",
    "'22A0F8': 'голубой',\n",
    "'DEA522': 'золотистый',\n",
    "'FFD600': 'жёлтый',\n",
    "'660099': 'пурпурный',\n",
    "'4A2197': 'фиолетовый',\n",
    "'FF8649': 'бежевый',\n",
    "'FFC0CB': 'розовый',\n",
    "}"
   ]
  },
  {
   "cell_type": "code",
   "execution_count": 39,
   "metadata": {},
   "outputs": [],
   "source": [
    "data['color'] = data['color'].replace(colors).apply(lambda x:x.lower())\n",
    "data['color'] = data['color'].astype('category')"
   ]
  },
  {
   "cell_type": "code",
   "execution_count": 40,
   "metadata": {},
   "outputs": [
    {
     "data": {
      "text/plain": [
       "<AxesSubplot:>"
      ]
     },
     "execution_count": 40,
     "metadata": {},
     "output_type": "execute_result"
    },
    {
     "data": {
      "image/png": "[encoded data removed]",
      "text/plain": [
       "<Figure size 432x288 with 1 Axes>"
      ]
     },
     "metadata": {
      "needs_background": "light"
     },
     "output_type": "display_data"
    }
   ],
   "source": [
    "data['color'].value_counts().plot(kind='bar')"
   ]
  },
  {
   "cell_type": "code",
   "execution_count": 41,
   "metadata": {},
   "outputs": [
    {
     "data": {
      "text/plain": [
       "черный         45643\n",
       "белый          34763\n",
       "серый          24135\n",
       "серебристый    24049\n",
       "синий          20076\n",
       "чёрный         11010\n",
       "красный        10214\n",
       "бордовый        6620\n",
       "зелёный         5715\n",
       "коричневый      5032\n",
       "голубой         3002\n",
       "бежевый         1609\n",
       "золотистый      1579\n",
       "пурпурный       1538\n",
       "жёлтый          1489\n",
       "фиолетовый      1227\n",
       "оранжевый        131\n",
       "розовый           58\n",
       "Name: color, dtype: int64"
      ]
     },
     "execution_count": 41,
     "metadata": {},
     "output_type": "execute_result"
    }
   ],
   "source": [
    "data['color'].value_counts()"
   ]
  },
  {
   "cell_type": "code",
   "execution_count": 42,
   "metadata": {},
   "outputs": [
    {
     "data": {
      "text/plain": [
       "<AxesSubplot:>"
      ]
     },
     "execution_count": 42,
     "metadata": {},
     "output_type": "execute_result"
    },
    {
     "data": {
      "image/png": "[encoded data removed]",
      "text/plain": [
       "<Figure size 432x288 with 1 Axes>"
      ]
     },
     "metadata": {
      "needs_background": "light"
     },
     "output_type": "display_data"
    }
   ],
   "source": [
    "data['fuelType'].value_counts().plot(kind='bar')"
   ]
  },
  {
   "cell_type": "code",
   "execution_count": 43,
   "metadata": {},
   "outputs": [],
   "source": [
    "data = data[data['fuelType'].notna()]\n",
    "data['fuelType'] = data['fuelType'].astype(\"category\")"
   ]
  },
  {
   "cell_type": "code",
   "execution_count": 44,
   "metadata": {},
   "outputs": [
    {
     "data": {
      "text/plain": [
       "<AxesSubplot:>"
      ]
     },
     "execution_count": 44,
     "metadata": {},
     "output_type": "execute_result"
    },
    {
     "data": {
      "image/png": "[encoded data removed]",
      "text/plain": [
       "<Figure size 432x288 with 1 Axes>"
      ]
     },
     "metadata": {
      "needs_background": "light"
     },
     "output_type": "display_data"
    }
   ],
   "source": [
    "data['fuelType'].value_counts().plot(kind='bar')"
   ]
  },
  {
   "cell_type": "code",
   "execution_count": 45,
   "metadata": {},
   "outputs": [],
   "source": [
    "data = data[data['mileage'].notna()]"
   ]
  },
  {
   "cell_type": "code",
   "execution_count": 46,
   "metadata": {},
   "outputs": [
    {
     "data": {
      "text/plain": [
       "<AxesSubplot:ylabel='Frequency'>"
      ]
     },
     "execution_count": 46,
     "metadata": {},
     "output_type": "execute_result"
    },
    {
     "data": {
      "image/png": "[encoded data removed]",
      "text/plain": [
       "<Figure size 432x288 with 1 Axes>"
      ]
     },
     "metadata": {
      "needs_background": "light"
     },
     "output_type": "display_data"
    }
   ],
   "source": [
    "data['mileage'].plot(kind='hist')"
   ]
  },
  {
   "cell_type": "code",
   "execution_count": 47,
   "metadata": {},
   "outputs": [
    {
     "data": {
      "text/plain": [
       "E_KLASSE          2558\n",
       "OCTAVIA           2507\n",
       "3ER               1972\n",
       "5ER               1933\n",
       "POLO              1887\n",
       "                  ... \n",
       "KORANDO_SPORTS       1\n",
       "M1                   1\n",
       "R1                   1\n",
       "911_GT2              1\n",
       "PAJERO_JUNIOR        1\n",
       "Name: model_name, Length: 1080, dtype: int64"
      ]
     },
     "execution_count": 47,
     "metadata": {},
     "output_type": "execute_result"
    }
   ],
   "source": [
    "data['model_name'].value_counts()"
   ]
  },
  {
   "cell_type": "code",
   "execution_count": 48,
   "metadata": {},
   "outputs": [],
   "source": [
    "data['model_name'] = data['model_name'].fillna(data['model'])"
   ]
  },
  {
   "cell_type": "code",
   "execution_count": 49,
   "metadata": {},
   "outputs": [
    {
     "data": {
      "text/plain": [
       "FOCUS            4227\n",
       "E_KLASSE         3946\n",
       "OCTAVIA          3941\n",
       "5ER              3576\n",
       "3ER              3327\n",
       "                 ... \n",
       "SOCOOL              1\n",
       "OLYMPIA             1\n",
       "918_SPYDER          1\n",
       "FREESTYLE           1\n",
       "PAJERO_JUNIOR       1\n",
       "Name: model_name, Length: 1142, dtype: int64"
      ]
     },
     "execution_count": 49,
     "metadata": {},
     "output_type": "execute_result"
    }
   ],
   "source": [
    "data['model_name'].value_counts()"
   ]
  },
  {
   "cell_type": "code",
   "execution_count": 50,
   "metadata": {},
   "outputs": [
    {
     "name": "stdout",
     "output_type": "stream",
     "text": [
      "<class 'pandas.core.frame.DataFrame'>\n",
      "Int64Index: 197890 entries, 0 to 77448\n",
      "Data columns (total 40 columns):\n",
      " #   Column                Non-Null Count   Dtype   \n",
      "---  ------                --------------   -----   \n",
      " 0   bodyType              197890 non-null  category\n",
      " 1   brand                 197890 non-null  object  \n",
      " 2   car_url               34686 non-null   object  \n",
      " 3   color                 197890 non-null  category\n",
      " 4   complectation_dict    82359 non-null   object  \n",
      " 5   description           192034 non-null  object  \n",
      " 6   engineDisplacement    197890 non-null  object  \n",
      " 7   enginePower           197890 non-null  object  \n",
      " 8   equipment_dict        100631 non-null  object  \n",
      " 9   fuelType              197890 non-null  category\n",
      " 10  image                 110627 non-null  object  \n",
      " 11  mileage               197890 non-null  int64   \n",
      " 12  modelDate             197890 non-null  float64 \n",
      " 13  model_info            110627 non-null  object  \n",
      " 14  model_name            197890 non-null  object  \n",
      " 15  name                  197890 non-null  object  \n",
      " 16  numberOfDoors         197890 non-null  float64 \n",
      " 17  parsing_unixtime      34686 non-null   float64 \n",
      " 18  priceCurrency         110331 non-null  object  \n",
      " 19  productionDate        197890 non-null  int64   \n",
      " 20  sell_id               110627 non-null  float64 \n",
      " 21  super_gen             110627 non-null  object  \n",
      " 22  vehicleConfiguration  197890 non-null  object  \n",
      " 23  vehicleTransmission   197890 non-null  object  \n",
      " 24  vendor                110627 non-null  object  \n",
      " 25  Владельцы             170181 non-null  object  \n",
      " 26  Владение              60869 non-null   object  \n",
      " 27  ПТС                   197082 non-null  object  \n",
      " 28  Привод                197890 non-null  object  \n",
      " 29  Руль                  197890 non-null  object  \n",
      " 30  Состояние             110627 non-null  object  \n",
      " 31  Таможня               197890 non-null  object  \n",
      " 32  price                 197184 non-null  float64 \n",
      " 33  sample                197890 non-null  int64   \n",
      " 34  Комплектация          87263 non-null   object  \n",
      " 35  start_date            163204 non-null  object  \n",
      " 36  hidden                0 non-null       float64 \n",
      " 37  model                 87263 non-null   object  \n",
      " 38  price_EUR             75645 non-null   float64 \n",
      " 39  price_USD             75645 non-null   float64 \n",
      "dtypes: category(3), float64(8), int64(3), object(26)\n",
      "memory usage: 57.9+ MB\n"
     ]
    }
   ],
   "source": [
    "data.info()"
   ]
  },
  {
   "cell_type": "code",
   "execution_count": 51,
   "metadata": {},
   "outputs": [],
   "source": [
    "data = data.drop(['hidden', 'car_url','image', 'sell_id','modelDate', 'price_EUR', 'price_USD',\n",
    "                  'Таможня', 'Состояние', 'model_info','parsing_unixtime', 'complectation_dict','description', 'equipment_dict',\n",
    "                  'priceCurrency','super_gen','Комплектация','start_date','Владение','vehicleConfiguration','name'],axis = 1)"
   ]
  },
  {
   "cell_type": "code",
   "execution_count": 52,
   "metadata": {},
   "outputs": [
    {
     "name": "stdout",
     "output_type": "stream",
     "text": [
      "<class 'pandas.core.frame.DataFrame'>\n",
      "Int64Index: 197890 entries, 0 to 77448\n",
      "Data columns (total 19 columns):\n",
      " #   Column               Non-Null Count   Dtype   \n",
      "---  ------               --------------   -----   \n",
      " 0   bodyType             197890 non-null  category\n",
      " 1   brand                197890 non-null  object  \n",
      " 2   color                197890 non-null  category\n",
      " 3   engineDisplacement   197890 non-null  object  \n",
      " 4   enginePower          197890 non-null  object  \n",
      " 5   fuelType             197890 non-null  category\n",
      " 6   mileage              197890 non-null  int64   \n",
      " 7   model_name           197890 non-null  object  \n",
      " 8   numberOfDoors        197890 non-null  float64 \n",
      " 9   productionDate       197890 non-null  int64   \n",
      " 10  vehicleTransmission  197890 non-null  object  \n",
      " 11  vendor               110627 non-null  object  \n",
      " 12  Владельцы            170181 non-null  object  \n",
      " 13  ПТС                  197082 non-null  object  \n",
      " 14  Привод               197890 non-null  object  \n",
      " 15  Руль                 197890 non-null  object  \n",
      " 16  price                197184 non-null  float64 \n",
      " 17  sample               197890 non-null  int64   \n",
      " 18  model                87263 non-null   object  \n",
      "dtypes: category(3), float64(2), int64(3), object(11)\n",
      "memory usage: 26.2+ MB\n"
     ]
    }
   ],
   "source": [
    "data.info()"
   ]
  },
  {
   "cell_type": "code",
   "execution_count": 53,
   "metadata": {},
   "outputs": [],
   "source": [
    "import math"
   ]
  },
  {
   "cell_type": "code",
   "execution_count": 54,
   "metadata": {},
   "outputs": [],
   "source": [
    "def func(thc):\n",
    "    if thc == '1\\xa0владелец':\n",
    "        return 1\n",
    "    elif thc == '3 или более':\n",
    "        return 4\n",
    "    elif thc == '2\\xa0владельца':\n",
    "        return 2\n",
    "    else:\n",
    "        return thc"
   ]
  },
  {
   "cell_type": "code",
   "execution_count": 55,
   "metadata": {},
   "outputs": [],
   "source": [
    "data['Владельцы'] = data['Владельцы'].apply(lambda x: 0 if str(x)=='nan' else x)"
   ]
  },
  {
   "cell_type": "code",
   "execution_count": 56,
   "metadata": {},
   "outputs": [
    {
     "data": {
      "text/plain": [
       "'2\\xa0владельца'"
      ]
     },
     "execution_count": 56,
     "metadata": {},
     "output_type": "execute_result"
    }
   ],
   "source": [
    "data.iloc[12333]['Владельцы']"
   ]
  },
  {
   "cell_type": "code",
   "execution_count": 57,
   "metadata": {},
   "outputs": [],
   "source": [
    "# type(data[data['Владельцы'].isna()].iloc[210]['Владельцы'])"
   ]
  },
  {
   "cell_type": "code",
   "execution_count": 58,
   "metadata": {},
   "outputs": [
    {
     "data": {
      "text/plain": [
       "3.0            63228\n",
       "2.0            36954\n",
       "1.0            35313\n",
       "0              27709\n",
       "3 или более    15957\n",
       "1 владелец      9459\n",
       "2 владельца     9270\n",
       "Name: Владельцы, dtype: int64"
      ]
     },
     "execution_count": 58,
     "metadata": {},
     "output_type": "execute_result"
    }
   ],
   "source": [
    "data['Владельцы'].value_counts()"
   ]
  },
  {
   "cell_type": "code",
   "execution_count": 59,
   "metadata": {},
   "outputs": [],
   "source": [
    "data['Владельцы'] = data['Владельцы'].apply(func)"
   ]
  },
  {
   "cell_type": "markdown",
   "metadata": {},
   "source": [
    "owners is done"
   ]
  },
  {
   "cell_type": "code",
   "execution_count": 60,
   "metadata": {},
   "outputs": [
    {
     "name": "stdout",
     "output_type": "stream",
     "text": [
      "<class 'pandas.core.frame.DataFrame'>\n",
      "Int64Index: 197890 entries, 0 to 77448\n",
      "Data columns (total 19 columns):\n",
      " #   Column               Non-Null Count   Dtype   \n",
      "---  ------               --------------   -----   \n",
      " 0   bodyType             197890 non-null  category\n",
      " 1   brand                197890 non-null  object  \n",
      " 2   color                197890 non-null  category\n",
      " 3   engineDisplacement   197890 non-null  object  \n",
      " 4   enginePower          197890 non-null  object  \n",
      " 5   fuelType             197890 non-null  category\n",
      " 6   mileage              197890 non-null  int64   \n",
      " 7   model_name           197890 non-null  object  \n",
      " 8   numberOfDoors        197890 non-null  float64 \n",
      " 9   productionDate       197890 non-null  int64   \n",
      " 10  vehicleTransmission  197890 non-null  object  \n",
      " 11  vendor               110627 non-null  object  \n",
      " 12  Владельцы            197890 non-null  float64 \n",
      " 13  ПТС                  197082 non-null  object  \n",
      " 14  Привод               197890 non-null  object  \n",
      " 15  Руль                 197890 non-null  object  \n",
      " 16  price                197184 non-null  float64 \n",
      " 17  sample               197890 non-null  int64   \n",
      " 18  model                87263 non-null   object  \n",
      "dtypes: category(3), float64(3), int64(3), object(10)\n",
      "memory usage: 26.2+ MB\n"
     ]
    }
   ],
   "source": [
    "data.info()"
   ]
  },
  {
   "cell_type": "code",
   "execution_count": 61,
   "metadata": {},
   "outputs": [
    {
     "data": {
      "text/html": [
       "<div>\n",
       "<style scoped>\n",
       "    .dataframe tbody tr th:only-of-type {\n",
       "        vertical-align: middle;\n",
       "    }\n",
       "\n",
       "    .dataframe tbody tr th {\n",
       "        vertical-align: top;\n",
       "    }\n",
       "\n",
       "    .dataframe thead th {\n",
       "        text-align: right;\n",
       "    }\n",
       "</style>\n",
       "<table border=\"1\" class=\"dataframe\">\n",
       "  <thead>\n",
       "    <tr style=\"text-align: right;\">\n",
       "      <th></th>\n",
       "      <th>bodyType</th>\n",
       "      <th>brand</th>\n",
       "      <th>color</th>\n",
       "      <th>engineDisplacement</th>\n",
       "      <th>enginePower</th>\n",
       "      <th>fuelType</th>\n",
       "      <th>mileage</th>\n",
       "      <th>model_name</th>\n",
       "      <th>numberOfDoors</th>\n",
       "      <th>productionDate</th>\n",
       "      <th>vehicleTransmission</th>\n",
       "      <th>vendor</th>\n",
       "      <th>Владельцы</th>\n",
       "      <th>ПТС</th>\n",
       "      <th>Привод</th>\n",
       "      <th>Руль</th>\n",
       "      <th>price</th>\n",
       "      <th>sample</th>\n",
       "      <th>model</th>\n",
       "    </tr>\n",
       "  </thead>\n",
       "  <tbody>\n",
       "    <tr>\n",
       "      <th>10412</th>\n",
       "      <td>седан</td>\n",
       "      <td>BMW</td>\n",
       "      <td>синий</td>\n",
       "      <td>2.5 LTR</td>\n",
       "      <td>170 N12</td>\n",
       "      <td>бензин</td>\n",
       "      <td>276000</td>\n",
       "      <td>3ER</td>\n",
       "      <td>4.0</td>\n",
       "      <td>1999</td>\n",
       "      <td>автоматическая</td>\n",
       "      <td>EUROPEAN</td>\n",
       "      <td>4.0</td>\n",
       "      <td>NaN</td>\n",
       "      <td>задний</td>\n",
       "      <td>Левый</td>\n",
       "      <td>0.0</td>\n",
       "      <td>0</td>\n",
       "      <td>NaN</td>\n",
       "    </tr>\n",
       "    <tr>\n",
       "      <th>639</th>\n",
       "      <td>седан</td>\n",
       "      <td>AUDI</td>\n",
       "      <td>синий</td>\n",
       "      <td>1.4</td>\n",
       "      <td>150</td>\n",
       "      <td>бензин</td>\n",
       "      <td>0</td>\n",
       "      <td>A3</td>\n",
       "      <td>4.0</td>\n",
       "      <td>2020</td>\n",
       "      <td>ROBOT</td>\n",
       "      <td>NaN</td>\n",
       "      <td>0.0</td>\n",
       "      <td>NaN</td>\n",
       "      <td>передний</td>\n",
       "      <td>LEFT</td>\n",
       "      <td>2050000.0</td>\n",
       "      <td>1</td>\n",
       "      <td>A3</td>\n",
       "    </tr>\n",
       "    <tr>\n",
       "      <th>1575</th>\n",
       "      <td>седан</td>\n",
       "      <td>AUDI</td>\n",
       "      <td>серебристый</td>\n",
       "      <td>40</td>\n",
       "      <td>190</td>\n",
       "      <td>бензин</td>\n",
       "      <td>0</td>\n",
       "      <td>A6</td>\n",
       "      <td>4.0</td>\n",
       "      <td>2020</td>\n",
       "      <td>ROBOT</td>\n",
       "      <td>NaN</td>\n",
       "      <td>0.0</td>\n",
       "      <td>NaN</td>\n",
       "      <td>передний</td>\n",
       "      <td>LEFT</td>\n",
       "      <td>3089848.0</td>\n",
       "      <td>1</td>\n",
       "      <td>A6</td>\n",
       "    </tr>\n",
       "    <tr>\n",
       "      <th>1579</th>\n",
       "      <td>седан</td>\n",
       "      <td>AUDI</td>\n",
       "      <td>черный</td>\n",
       "      <td>40</td>\n",
       "      <td>190</td>\n",
       "      <td>бензин</td>\n",
       "      <td>0</td>\n",
       "      <td>A6</td>\n",
       "      <td>4.0</td>\n",
       "      <td>2020</td>\n",
       "      <td>ROBOT</td>\n",
       "      <td>NaN</td>\n",
       "      <td>0.0</td>\n",
       "      <td>NaN</td>\n",
       "      <td>передний</td>\n",
       "      <td>LEFT</td>\n",
       "      <td>3089848.0</td>\n",
       "      <td>1</td>\n",
       "      <td>A6</td>\n",
       "    </tr>\n",
       "    <tr>\n",
       "      <th>1590</th>\n",
       "      <td>седан</td>\n",
       "      <td>AUDI</td>\n",
       "      <td>белый</td>\n",
       "      <td>40</td>\n",
       "      <td>190</td>\n",
       "      <td>бензин</td>\n",
       "      <td>0</td>\n",
       "      <td>A6</td>\n",
       "      <td>4.0</td>\n",
       "      <td>2020</td>\n",
       "      <td>ROBOT</td>\n",
       "      <td>NaN</td>\n",
       "      <td>0.0</td>\n",
       "      <td>NaN</td>\n",
       "      <td>передний</td>\n",
       "      <td>LEFT</td>\n",
       "      <td>3089848.0</td>\n",
       "      <td>1</td>\n",
       "      <td>A6</td>\n",
       "    </tr>\n",
       "    <tr>\n",
       "      <th>...</th>\n",
       "      <td>...</td>\n",
       "      <td>...</td>\n",
       "      <td>...</td>\n",
       "      <td>...</td>\n",
       "      <td>...</td>\n",
       "      <td>...</td>\n",
       "      <td>...</td>\n",
       "      <td>...</td>\n",
       "      <td>...</td>\n",
       "      <td>...</td>\n",
       "      <td>...</td>\n",
       "      <td>...</td>\n",
       "      <td>...</td>\n",
       "      <td>...</td>\n",
       "      <td>...</td>\n",
       "      <td>...</td>\n",
       "      <td>...</td>\n",
       "      <td>...</td>\n",
       "      <td>...</td>\n",
       "    </tr>\n",
       "    <tr>\n",
       "      <th>74232</th>\n",
       "      <td>внедорожник</td>\n",
       "      <td>MERCEDES</td>\n",
       "      <td>черный</td>\n",
       "      <td>2.9d</td>\n",
       "      <td>330</td>\n",
       "      <td>дизель</td>\n",
       "      <td>0</td>\n",
       "      <td>GLS_KLASSE</td>\n",
       "      <td>5.0</td>\n",
       "      <td>2020</td>\n",
       "      <td>AUTOMATIC</td>\n",
       "      <td>EUROPEAN</td>\n",
       "      <td>0.0</td>\n",
       "      <td>NaN</td>\n",
       "      <td>полный</td>\n",
       "      <td>LEFT</td>\n",
       "      <td>8290000.0</td>\n",
       "      <td>1</td>\n",
       "      <td>NaN</td>\n",
       "    </tr>\n",
       "    <tr>\n",
       "      <th>75512</th>\n",
       "      <td>седан</td>\n",
       "      <td>MERCEDES</td>\n",
       "      <td>черный</td>\n",
       "      <td>3.0</td>\n",
       "      <td>367</td>\n",
       "      <td>бензин</td>\n",
       "      <td>0</td>\n",
       "      <td>S_CLASS_MAYBACH</td>\n",
       "      <td>4.0</td>\n",
       "      <td>2019</td>\n",
       "      <td>AUTOMATIC</td>\n",
       "      <td>EUROPEAN</td>\n",
       "      <td>0.0</td>\n",
       "      <td>NaN</td>\n",
       "      <td>полный</td>\n",
       "      <td>LEFT</td>\n",
       "      <td>11507120.0</td>\n",
       "      <td>1</td>\n",
       "      <td>NaN</td>\n",
       "    </tr>\n",
       "    <tr>\n",
       "      <th>76428</th>\n",
       "      <td>минивэн</td>\n",
       "      <td>MERCEDES</td>\n",
       "      <td>черный</td>\n",
       "      <td>2.1d</td>\n",
       "      <td>190</td>\n",
       "      <td>дизель</td>\n",
       "      <td>0</td>\n",
       "      <td>V_KLASSE</td>\n",
       "      <td>5.0</td>\n",
       "      <td>2020</td>\n",
       "      <td>AUTOMATIC</td>\n",
       "      <td>EUROPEAN</td>\n",
       "      <td>0.0</td>\n",
       "      <td>NaN</td>\n",
       "      <td>полный</td>\n",
       "      <td>LEFT</td>\n",
       "      <td>15515000.0</td>\n",
       "      <td>1</td>\n",
       "      <td>NaN</td>\n",
       "    </tr>\n",
       "    <tr>\n",
       "      <th>76590</th>\n",
       "      <td>минивэн</td>\n",
       "      <td>MERCEDES</td>\n",
       "      <td>черный</td>\n",
       "      <td>2.1d</td>\n",
       "      <td>190</td>\n",
       "      <td>дизель</td>\n",
       "      <td>0</td>\n",
       "      <td>V_KLASSE</td>\n",
       "      <td>5.0</td>\n",
       "      <td>2020</td>\n",
       "      <td>AUTOMATIC</td>\n",
       "      <td>EUROPEAN</td>\n",
       "      <td>0.0</td>\n",
       "      <td>NaN</td>\n",
       "      <td>полный</td>\n",
       "      <td>LEFT</td>\n",
       "      <td>18215000.0</td>\n",
       "      <td>1</td>\n",
       "      <td>NaN</td>\n",
       "    </tr>\n",
       "    <tr>\n",
       "      <th>76591</th>\n",
       "      <td>минивэн</td>\n",
       "      <td>MERCEDES</td>\n",
       "      <td>черный</td>\n",
       "      <td>2.1d</td>\n",
       "      <td>190</td>\n",
       "      <td>дизель</td>\n",
       "      <td>0</td>\n",
       "      <td>V_KLASSE</td>\n",
       "      <td>5.0</td>\n",
       "      <td>2020</td>\n",
       "      <td>AUTOMATIC</td>\n",
       "      <td>EUROPEAN</td>\n",
       "      <td>0.0</td>\n",
       "      <td>NaN</td>\n",
       "      <td>полный</td>\n",
       "      <td>LEFT</td>\n",
       "      <td>18150000.0</td>\n",
       "      <td>1</td>\n",
       "      <td>NaN</td>\n",
       "    </tr>\n",
       "  </tbody>\n",
       "</table>\n",
       "<p>808 rows × 19 columns</p>\n",
       "</div>"
      ],
      "text/plain": [
       "          bodyType     brand        color engineDisplacement enginePower  \\\n",
       "10412        седан       BMW        синий            2.5 LTR     170 N12   \n",
       "639          седан      AUDI        синий                1.4         150   \n",
       "1575         седан      AUDI  серебристый                 40         190   \n",
       "1579         седан      AUDI       черный                 40         190   \n",
       "1590         седан      AUDI        белый                 40         190   \n",
       "...            ...       ...          ...                ...         ...   \n",
       "74232  внедорожник  MERCEDES       черный               2.9d         330   \n",
       "75512        седан  MERCEDES       черный                3.0         367   \n",
       "76428      минивэн  MERCEDES       черный               2.1d         190   \n",
       "76590      минивэн  MERCEDES       черный               2.1d         190   \n",
       "76591      минивэн  MERCEDES       черный               2.1d         190   \n",
       "\n",
       "      fuelType  mileage       model_name  numberOfDoors  productionDate  \\\n",
       "10412   бензин   276000              3ER            4.0            1999   \n",
       "639     бензин        0               A3            4.0            2020   \n",
       "1575    бензин        0               A6            4.0            2020   \n",
       "1579    бензин        0               A6            4.0            2020   \n",
       "1590    бензин        0               A6            4.0            2020   \n",
       "...        ...      ...              ...            ...             ...   \n",
       "74232   дизель        0       GLS_KLASSE            5.0            2020   \n",
       "75512   бензин        0  S_CLASS_MAYBACH            4.0            2019   \n",
       "76428   дизель        0         V_KLASSE            5.0            2020   \n",
       "76590   дизель        0         V_KLASSE            5.0            2020   \n",
       "76591   дизель        0         V_KLASSE            5.0            2020   \n",
       "\n",
       "      vehicleTransmission    vendor  Владельцы  ПТС    Привод   Руль  \\\n",
       "10412      автоматическая  EUROPEAN        4.0  NaN    задний  Левый   \n",
       "639                 ROBOT       NaN        0.0  NaN  передний   LEFT   \n",
       "1575                ROBOT       NaN        0.0  NaN  передний   LEFT   \n",
       "1579                ROBOT       NaN        0.0  NaN  передний   LEFT   \n",
       "1590                ROBOT       NaN        0.0  NaN  передний   LEFT   \n",
       "...                   ...       ...        ...  ...       ...    ...   \n",
       "74232           AUTOMATIC  EUROPEAN        0.0  NaN    полный   LEFT   \n",
       "75512           AUTOMATIC  EUROPEAN        0.0  NaN    полный   LEFT   \n",
       "76428           AUTOMATIC  EUROPEAN        0.0  NaN    полный   LEFT   \n",
       "76590           AUTOMATIC  EUROPEAN        0.0  NaN    полный   LEFT   \n",
       "76591           AUTOMATIC  EUROPEAN        0.0  NaN    полный   LEFT   \n",
       "\n",
       "            price  sample model  \n",
       "10412         0.0       0   NaN  \n",
       "639     2050000.0       1    A3  \n",
       "1575    3089848.0       1    A6  \n",
       "1579    3089848.0       1    A6  \n",
       "1590    3089848.0       1    A6  \n",
       "...           ...     ...   ...  \n",
       "74232   8290000.0       1   NaN  \n",
       "75512  11507120.0       1   NaN  \n",
       "76428  15515000.0       1   NaN  \n",
       "76590  18215000.0       1   NaN  \n",
       "76591  18150000.0       1   NaN  \n",
       "\n",
       "[808 rows x 19 columns]"
      ]
     },
     "execution_count": 61,
     "metadata": {},
     "output_type": "execute_result"
    }
   ],
   "source": [
    "data[data['ПТС'].isna()]"
   ]
  },
  {
   "cell_type": "code",
   "execution_count": 62,
   "metadata": {},
   "outputs": [
    {
     "name": "stdout",
     "output_type": "stream",
     "text": [
      "<class 'pandas.core.frame.DataFrame'>\n",
      "Int64Index: 197890 entries, 0 to 77448\n",
      "Data columns (total 19 columns):\n",
      " #   Column               Non-Null Count   Dtype   \n",
      "---  ------               --------------   -----   \n",
      " 0   bodyType             197890 non-null  category\n",
      " 1   brand                197890 non-null  object  \n",
      " 2   color                197890 non-null  category\n",
      " 3   engineDisplacement   197890 non-null  object  \n",
      " 4   enginePower          197890 non-null  object  \n",
      " 5   fuelType             197890 non-null  category\n",
      " 6   mileage              197890 non-null  int64   \n",
      " 7   model_name           197890 non-null  object  \n",
      " 8   numberOfDoors        197890 non-null  float64 \n",
      " 9   productionDate       197890 non-null  int64   \n",
      " 10  vehicleTransmission  197890 non-null  object  \n",
      " 11  vendor               110627 non-null  object  \n",
      " 12  Владельцы            197890 non-null  float64 \n",
      " 13  ПТС                  197082 non-null  object  \n",
      " 14  Привод               197890 non-null  object  \n",
      " 15  Руль                 197890 non-null  object  \n",
      " 16  price                197184 non-null  float64 \n",
      " 17  sample               197890 non-null  int64   \n",
      " 18  model                87263 non-null   object  \n",
      "dtypes: category(3), float64(3), int64(3), object(10)\n",
      "memory usage: 26.2+ MB\n"
     ]
    }
   ],
   "source": [
    "data.info()"
   ]
  },
  {
   "cell_type": "code",
   "execution_count": 63,
   "metadata": {},
   "outputs": [],
   "source": [
    "brand_list = list(data['brand'].value_counts()[:15].keys())"
   ]
  },
  {
   "cell_type": "code",
   "execution_count": 64,
   "metadata": {},
   "outputs": [
    {
     "data": {
      "text/plain": [
       "['MERCEDES',\n",
       " 'BMW',\n",
       " 'VOLKSWAGEN',\n",
       " 'NISSAN',\n",
       " 'TOYOTA',\n",
       " 'AUDI',\n",
       " 'HYUNDAI',\n",
       " 'KIA',\n",
       " 'MITSUBISHI',\n",
       " 'FORD',\n",
       " 'SKODA',\n",
       " 'CHEVROLET',\n",
       " 'RENAULT',\n",
       " 'OPEL',\n",
       " 'VOLVO']"
      ]
     },
     "execution_count": 64,
     "metadata": {},
     "output_type": "execute_result"
    }
   ],
   "source": [
    "brand_list"
   ]
  },
  {
   "cell_type": "code",
   "execution_count": 65,
   "metadata": {},
   "outputs": [
    {
     "data": {
      "text/plain": [
       "<AxesSubplot:>"
      ]
     },
     "execution_count": 65,
     "metadata": {},
     "output_type": "execute_result"
    },
    {
     "data": {
      "image/png": "[encoded data removed]",
      "text/plain": [
       "<Figure size 432x288 with 1 Axes>"
      ]
     },
     "metadata": {
      "needs_background": "light"
     },
     "output_type": "display_data"
    }
   ],
   "source": [
    "data['brand'] = data['brand'].apply(lambda x: x if x in brand_list else 'OTHER')\n",
    "data['brand'] = data['brand'].astype('category')\n",
    "data['brand'].value_counts().plot(kind='bar')"
   ]
  },
  {
   "cell_type": "code",
   "execution_count": 66,
   "metadata": {},
   "outputs": [
    {
     "data": {
      "text/plain": [
       "0        1.2 LTR\n",
       "1        1.6 LTR\n",
       "2        1.8 LTR\n",
       "3        1.6 LTR\n",
       "4        1.8 LTR\n",
       "          ...   \n",
       "77444       2.0d\n",
       "77445       2.0d\n",
       "77446       2.0d\n",
       "77447       2.0d\n",
       "77448       2.0d\n",
       "Name: engineDisplacement, Length: 197890, dtype: object"
      ]
     },
     "execution_count": 66,
     "metadata": {},
     "output_type": "execute_result"
    }
   ],
   "source": [
    "data['engineDisplacement']"
   ]
  },
  {
   "cell_type": "code",
   "execution_count": 67,
   "metadata": {},
   "outputs": [
    {
     "data": {
      "text/plain": [
       "['1.6',\n",
       " '2.0',\n",
       " '1.4',\n",
       " '1.8',\n",
       " '2.0 LTR',\n",
       " '2.0d',\n",
       " '2.4',\n",
       " '2.5',\n",
       " '1.6 LTR',\n",
       " '1.5',\n",
       " '3.0d',\n",
       " '3.0',\n",
       " '3.0 LTR',\n",
       " '1.8 LTR',\n",
       " '3.5',\n",
       " '2.5 LTR',\n",
       " '2.5d',\n",
       " '1.3',\n",
       " '2.4 LTR',\n",
       " '2.3',\n",
       " '3.5 LTR',\n",
       " '1.4 LTR',\n",
       " '1.2',\n",
       " '200',\n",
       " '350',\n",
       " '1.7',\n",
       " '2.2d',\n",
       " '2.9d',\n",
       " '4.0',\n",
       " '3.6']"
      ]
     },
     "execution_count": 67,
     "metadata": {},
     "output_type": "execute_result"
    }
   ],
   "source": [
    "engine_list = list(data['engineDisplacement'].value_counts()[:30].keys())\n",
    "engine_list"
   ]
  },
  {
   "cell_type": "code",
   "execution_count": 68,
   "metadata": {},
   "outputs": [
    {
     "data": {
      "text/plain": [
       "<AxesSubplot:>"
      ]
     },
     "execution_count": 68,
     "metadata": {},
     "output_type": "execute_result"
    },
    {
     "data": {
      "image/png": "[encoded data removed]",
      "text/plain": [
       "<Figure size 432x288 with 1 Axes>"
      ]
     },
     "metadata": {
      "needs_background": "light"
     },
     "output_type": "display_data"
    }
   ],
   "source": [
    "data['engineDisplacement'] = data['engineDisplacement'].apply(lambda x: x if x in engine_list else 'OTHER')\n",
    "data['engineDisplacement'].value_counts().plot(kind='bar')"
   ]
  },
  {
   "cell_type": "code",
   "execution_count": 69,
   "metadata": {},
   "outputs": [
    {
     "data": {
      "text/plain": [
       "150.0     13536\n",
       "249.0      7177\n",
       "140.0      5094\n",
       "105.0      4135\n",
       "123.0      3899\n",
       "          ...  \n",
       "32 N12        1\n",
       "66 N12        1\n",
       "437.0         1\n",
       "42 N12        1\n",
       "236.0         1\n",
       "Name: enginePower, Length: 719, dtype: int64"
      ]
     },
     "execution_count": 69,
     "metadata": {},
     "output_type": "execute_result"
    }
   ],
   "source": [
    "data['enginePower'].value_counts()"
   ]
  },
  {
   "cell_type": "code",
   "execution_count": 70,
   "metadata": {},
   "outputs": [],
   "source": [
    "data['enginePower'] = data['enginePower'].apply(lambda x: int(re.findall('(\\d+)', str(x))[0]))\n",
    "data['enginePower']= data['enginePower'].astype('int')"
   ]
  },
  {
   "cell_type": "code",
   "execution_count": 71,
   "metadata": {},
   "outputs": [
    {
     "data": {
      "text/plain": [
       "<AxesSubplot:ylabel='Frequency'>"
      ]
     },
     "execution_count": 71,
     "metadata": {},
     "output_type": "execute_result"
    },
    {
     "data": {
      "image/png": "[encoded data removed]",
      "text/plain": [
       "<Figure size 432x288 with 1 Axes>"
      ]
     },
     "metadata": {
      "needs_background": "light"
     },
     "output_type": "display_data"
    }
   ],
   "source": [
    "data['enginePower'].sort_values().plot.hist(bins=20)"
   ]
  },
  {
   "cell_type": "code",
   "execution_count": 72,
   "metadata": {},
   "outputs": [
    {
     "name": "stdout",
     "output_type": "stream",
     "text": [
      "<class 'pandas.core.frame.DataFrame'>\n",
      "Int64Index: 197890 entries, 0 to 77448\n",
      "Data columns (total 19 columns):\n",
      " #   Column               Non-Null Count   Dtype   \n",
      "---  ------               --------------   -----   \n",
      " 0   bodyType             197890 non-null  category\n",
      " 1   brand                197890 non-null  category\n",
      " 2   color                197890 non-null  category\n",
      " 3   engineDisplacement   197890 non-null  object  \n",
      " 4   enginePower          197890 non-null  int32   \n",
      " 5   fuelType             197890 non-null  category\n",
      " 6   mileage              197890 non-null  int64   \n",
      " 7   model_name           197890 non-null  object  \n",
      " 8   numberOfDoors        197890 non-null  float64 \n",
      " 9   productionDate       197890 non-null  int64   \n",
      " 10  vehicleTransmission  197890 non-null  object  \n",
      " 11  vendor               110627 non-null  object  \n",
      " 12  Владельцы            197890 non-null  float64 \n",
      " 13  ПТС                  197082 non-null  object  \n",
      " 14  Привод               197890 non-null  object  \n",
      " 15  Руль                 197890 non-null  object  \n",
      " 16  price                197184 non-null  float64 \n",
      " 17  sample               197890 non-null  int64   \n",
      " 18  model                87263 non-null   object  \n",
      "dtypes: category(4), float64(3), int32(1), int64(3), object(8)\n",
      "memory usage: 24.2+ MB\n"
     ]
    }
   ],
   "source": [
    "data.info()"
   ]
  },
  {
   "cell_type": "code",
   "execution_count": 73,
   "metadata": {},
   "outputs": [
    {
     "data": {
      "text/plain": [
       "<AxesSubplot:>"
      ]
     },
     "execution_count": 73,
     "metadata": {},
     "output_type": "execute_result"
    },
    {
     "data": {
      "image/png": "[encoded data removed]",
      "text/plain": [
       "<Figure size 432x288 with 1 Axes>"
      ]
     },
     "metadata": {
      "needs_background": "light"
     },
     "output_type": "display_data"
    }
   ],
   "source": [
    "data['fuelType'] = data['fuelType'].astype('category')\n",
    "data['fuelType'].value_counts().plot(kind='bar')"
   ]
  },
  {
   "cell_type": "code",
   "execution_count": 74,
   "metadata": {},
   "outputs": [
    {
     "data": {
      "text/plain": [
       "бензин     164662\n",
       "дизель      32194\n",
       "гибрид        745\n",
       "электро       257\n",
       "газ            32\n",
       "Name: fuelType, dtype: int64"
      ]
     },
     "execution_count": 74,
     "metadata": {},
     "output_type": "execute_result"
    }
   ],
   "source": [
    "data['fuelType'].value_counts()"
   ]
  },
  {
   "cell_type": "code",
   "execution_count": 75,
   "metadata": {},
   "outputs": [
    {
     "name": "stdout",
     "output_type": "stream",
     "text": [
      "<class 'pandas.core.frame.DataFrame'>\n",
      "Int64Index: 197890 entries, 0 to 77448\n",
      "Data columns (total 19 columns):\n",
      " #   Column               Non-Null Count   Dtype   \n",
      "---  ------               --------------   -----   \n",
      " 0   bodyType             197890 non-null  category\n",
      " 1   brand                197890 non-null  category\n",
      " 2   color                197890 non-null  category\n",
      " 3   engineDisplacement   197890 non-null  object  \n",
      " 4   enginePower          197890 non-null  int32   \n",
      " 5   fuelType             197890 non-null  category\n",
      " 6   mileage              197890 non-null  int64   \n",
      " 7   model_name           197890 non-null  object  \n",
      " 8   numberOfDoors        197890 non-null  float64 \n",
      " 9   productionDate       197890 non-null  int64   \n",
      " 10  vehicleTransmission  197890 non-null  object  \n",
      " 11  vendor               110627 non-null  object  \n",
      " 12  Владельцы            197890 non-null  float64 \n",
      " 13  ПТС                  197082 non-null  object  \n",
      " 14  Привод               197890 non-null  object  \n",
      " 15  Руль                 197890 non-null  object  \n",
      " 16  price                197184 non-null  float64 \n",
      " 17  sample               197890 non-null  int64   \n",
      " 18  model                87263 non-null   object  \n",
      "dtypes: category(4), float64(3), int32(1), int64(3), object(8)\n",
      "memory usage: 24.2+ MB\n"
     ]
    }
   ],
   "source": [
    "data.info()"
   ]
  },
  {
   "cell_type": "code",
   "execution_count": 76,
   "metadata": {},
   "outputs": [
    {
     "data": {
      "text/plain": [
       "2020    26992\n",
       "2008    14751\n",
       "2012    14307\n",
       "2011    13328\n",
       "2013    12444\n",
       "        ...  \n",
       "1943        1\n",
       "1966        1\n",
       "1931        1\n",
       "1928        1\n",
       "1924        1\n",
       "Name: productionDate, Length: 83, dtype: int64"
      ]
     },
     "execution_count": 76,
     "metadata": {},
     "output_type": "execute_result"
    }
   ],
   "source": [
    "data['productionDate'].value_counts()"
   ]
  },
  {
   "cell_type": "code",
   "execution_count": 77,
   "metadata": {},
   "outputs": [
    {
     "data": {
      "text/plain": [
       "AUTOMATIC           90101\n",
       "MECHANICAL          46245\n",
       "автоматическая      19596\n",
       "ROBOT               14885\n",
       "VARIATOR            11973\n",
       "механическая         7209\n",
       "вариатор             3999\n",
       "роботизированная     3882\n",
       "Name: vehicleTransmission, dtype: int64"
      ]
     },
     "execution_count": 77,
     "metadata": {},
     "output_type": "execute_result"
    }
   ],
   "source": [
    "data['vehicleTransmission'].value_counts()"
   ]
  },
  {
   "cell_type": "code",
   "execution_count": 78,
   "metadata": {},
   "outputs": [
    {
     "data": {
      "text/plain": [
       "AUTOMATIC           90101\n",
       "MECHANICAL          46245\n",
       "автоматическая      19596\n",
       "ROBOT               14885\n",
       "VARIATOR            11973\n",
       "механическая         7209\n",
       "вариатор             3999\n",
       "роботизированная     3882\n",
       "Name: vehicleTransmission, dtype: int64"
      ]
     },
     "execution_count": 78,
     "metadata": {},
     "output_type": "execute_result"
    }
   ],
   "source": [
    "data['vehicleTransmission'].value_counts()"
   ]
  },
  {
   "cell_type": "code",
   "execution_count": 79,
   "metadata": {},
   "outputs": [],
   "source": [
    "vehicle = {'автомат':'автоматическая',\n",
    "'механика':'механическая',\n",
    "'роботизированный':'роботизированная'}\n",
    "data['vehicleTransmission'] = data['vehicleTransmission'].replace(vehicle)"
   ]
  },
  {
   "cell_type": "code",
   "execution_count": 80,
   "metadata": {},
   "outputs": [],
   "source": [
    "vehicle = {'AUTOMATIC':'автоматическая',\n",
    "'MECHANICAL':'механическая',\n",
    "'ROBOT':'роботизированная',\n",
    "'VARIATOR':'вариатор'}\n",
    "data['vehicleTransmission'] = data['vehicleTransmission'].replace(vehicle)"
   ]
  },
  {
   "cell_type": "code",
   "execution_count": 81,
   "metadata": {},
   "outputs": [],
   "source": [
    "# data['vehicleTransmission'] = data['vehicleTransmission'].replace(vehicles)"
   ]
  },
  {
   "cell_type": "code",
   "execution_count": 82,
   "metadata": {},
   "outputs": [
    {
     "data": {
      "text/plain": [
       "<AxesSubplot:>"
      ]
     },
     "execution_count": 82,
     "metadata": {},
     "output_type": "execute_result"
    },
    {
     "data": {
      "image/png": "[encoded data removed]",
      "text/plain": [
       "<Figure size 432x288 with 1 Axes>"
      ]
     },
     "metadata": {
      "needs_background": "light"
     },
     "output_type": "display_data"
    }
   ],
   "source": [
    "data['vehicleTransmission'] = data['vehicleTransmission'].astype('category')\n",
    "data['vehicleTransmission'].value_counts().plot.bar()"
   ]
  },
  {
   "cell_type": "code",
   "execution_count": 83,
   "metadata": {},
   "outputs": [
    {
     "name": "stdout",
     "output_type": "stream",
     "text": [
      "<class 'pandas.core.frame.DataFrame'>\n",
      "Int64Index: 197890 entries, 0 to 77448\n",
      "Data columns (total 19 columns):\n",
      " #   Column               Non-Null Count   Dtype   \n",
      "---  ------               --------------   -----   \n",
      " 0   bodyType             197890 non-null  category\n",
      " 1   brand                197890 non-null  category\n",
      " 2   color                197890 non-null  category\n",
      " 3   engineDisplacement   197890 non-null  object  \n",
      " 4   enginePower          197890 non-null  int32   \n",
      " 5   fuelType             197890 non-null  category\n",
      " 6   mileage              197890 non-null  int64   \n",
      " 7   model_name           197890 non-null  object  \n",
      " 8   numberOfDoors        197890 non-null  float64 \n",
      " 9   productionDate       197890 non-null  int64   \n",
      " 10  vehicleTransmission  197890 non-null  category\n",
      " 11  vendor               110627 non-null  object  \n",
      " 12  Владельцы            197890 non-null  float64 \n",
      " 13  ПТС                  197082 non-null  object  \n",
      " 14  Привод               197890 non-null  object  \n",
      " 15  Руль                 197890 non-null  object  \n",
      " 16  price                197184 non-null  float64 \n",
      " 17  sample               197890 non-null  int64   \n",
      " 18  model                87263 non-null   object  \n",
      "dtypes: category(5), float64(3), int32(1), int64(3), object(7)\n",
      "memory usage: 22.8+ MB\n"
     ]
    }
   ],
   "source": [
    "data.info()"
   ]
  },
  {
   "cell_type": "code",
   "execution_count": 84,
   "metadata": {},
   "outputs": [
    {
     "data": {
      "text/plain": [
       "EUROPEAN    60816\n",
       "JAPANESE    30604\n",
       "KOREAN       9710\n",
       "AMERICAN     7389\n",
       "RUSSIAN      1061\n",
       "CHINESE      1047\n",
       "Name: vendor, dtype: int64"
      ]
     },
     "execution_count": 84,
     "metadata": {},
     "output_type": "execute_result"
    }
   ],
   "source": [
    "data['vendor'].value_counts()"
   ]
  },
  {
   "cell_type": "code",
   "execution_count": 85,
   "metadata": {},
   "outputs": [
    {
     "data": {
      "image/png": "[encoded data removed]",
      "text/plain": [
       "<Figure size 432x288 with 1 Axes>"
      ]
     },
     "metadata": {
      "needs_background": "light"
     },
     "output_type": "display_data"
    }
   ],
   "source": [
    "data['vendor'] = data['vendor'].fillna('VENDOR_UNKNOWN')\n",
    "data['vendor'].value_counts().plot.bar()\n",
    "data['vendor'] = data['vendor'].astype('category')"
   ]
  },
  {
   "cell_type": "code",
   "execution_count": 86,
   "metadata": {},
   "outputs": [
    {
     "data": {
      "text/plain": [
       "3.0    63228\n",
       "2.0    46224\n",
       "1.0    44772\n",
       "0.0    27709\n",
       "4.0    15957\n",
       "Name: Владельцы, dtype: int64"
      ]
     },
     "execution_count": 86,
     "metadata": {},
     "output_type": "execute_result"
    }
   ],
   "source": [
    "data['Владельцы'].value_counts()"
   ]
  },
  {
   "cell_type": "code",
   "execution_count": 87,
   "metadata": {},
   "outputs": [
    {
     "name": "stdout",
     "output_type": "stream",
     "text": [
      "<class 'pandas.core.frame.DataFrame'>\n",
      "Int64Index: 197890 entries, 0 to 77448\n",
      "Data columns (total 19 columns):\n",
      " #   Column               Non-Null Count   Dtype   \n",
      "---  ------               --------------   -----   \n",
      " 0   bodyType             197890 non-null  category\n",
      " 1   brand                197890 non-null  category\n",
      " 2   color                197890 non-null  category\n",
      " 3   engineDisplacement   197890 non-null  object  \n",
      " 4   enginePower          197890 non-null  int32   \n",
      " 5   fuelType             197890 non-null  category\n",
      " 6   mileage              197890 non-null  int64   \n",
      " 7   model_name           197890 non-null  object  \n",
      " 8   numberOfDoors        197890 non-null  float64 \n",
      " 9   productionDate       197890 non-null  int64   \n",
      " 10  vehicleTransmission  197890 non-null  category\n",
      " 11  vendor               197890 non-null  category\n",
      " 12  Владельцы            197890 non-null  float64 \n",
      " 13  ПТС                  197082 non-null  object  \n",
      " 14  Привод               197890 non-null  object  \n",
      " 15  Руль                 197890 non-null  object  \n",
      " 16  price                197184 non-null  float64 \n",
      " 17  sample               197890 non-null  int64   \n",
      " 18  model                87263 non-null   object  \n",
      "dtypes: category(6), float64(3), int32(1), int64(3), object(6)\n",
      "memory usage: 21.5+ MB\n"
     ]
    }
   ],
   "source": [
    "data.info()"
   ]
  },
  {
   "cell_type": "code",
   "execution_count": 88,
   "metadata": {},
   "outputs": [],
   "source": [
    "def func_2(thc):\n",
    "    if thc == 'Оригинал':\n",
    "        return 'ORIGINAL'\n",
    "    elif thc == 'Дубликат':\n",
    "        return 'DUPLICATE'\n",
    "    return thc"
   ]
  },
  {
   "cell_type": "code",
   "execution_count": 89,
   "metadata": {},
   "outputs": [],
   "source": [
    "data['ПТС'] = data['ПТС'].apply(func_2)"
   ]
  },
  {
   "cell_type": "code",
   "execution_count": 90,
   "metadata": {},
   "outputs": [],
   "source": [
    "data['ПТС'] = data['ПТС'].fillna('DUPLICATE')"
   ]
  },
  {
   "cell_type": "code",
   "execution_count": 91,
   "metadata": {},
   "outputs": [
    {
     "data": {
      "text/plain": [
       "ORIGINAL     174050\n",
       "DUPLICATE     23840\n",
       "Name: ПТС, dtype: int64"
      ]
     },
     "execution_count": 91,
     "metadata": {},
     "output_type": "execute_result"
    }
   ],
   "source": [
    "data['ПТС'].value_counts()"
   ]
  },
  {
   "cell_type": "code",
   "execution_count": 92,
   "metadata": {},
   "outputs": [],
   "source": [
    "data.drop('model', axis=1, inplace=True)"
   ]
  },
  {
   "cell_type": "code",
   "execution_count": 93,
   "metadata": {},
   "outputs": [
    {
     "name": "stdout",
     "output_type": "stream",
     "text": [
      "<class 'pandas.core.frame.DataFrame'>\n",
      "Int64Index: 197890 entries, 0 to 77448\n",
      "Data columns (total 18 columns):\n",
      " #   Column               Non-Null Count   Dtype   \n",
      "---  ------               --------------   -----   \n",
      " 0   bodyType             197890 non-null  category\n",
      " 1   brand                197890 non-null  category\n",
      " 2   color                197890 non-null  category\n",
      " 3   engineDisplacement   197890 non-null  object  \n",
      " 4   enginePower          197890 non-null  int32   \n",
      " 5   fuelType             197890 non-null  category\n",
      " 6   mileage              197890 non-null  int64   \n",
      " 7   model_name           197890 non-null  object  \n",
      " 8   numberOfDoors        197890 non-null  float64 \n",
      " 9   productionDate       197890 non-null  int64   \n",
      " 10  vehicleTransmission  197890 non-null  category\n",
      " 11  vendor               197890 non-null  category\n",
      " 12  Владельцы            197890 non-null  float64 \n",
      " 13  ПТС                  197890 non-null  object  \n",
      " 14  Привод               197890 non-null  object  \n",
      " 15  Руль                 197890 non-null  object  \n",
      " 16  price                197184 non-null  float64 \n",
      " 17  sample               197890 non-null  int64   \n",
      "dtypes: category(6), float64(3), int32(1), int64(3), object(5)\n",
      "memory usage: 20.0+ MB\n"
     ]
    }
   ],
   "source": [
    "data.info()"
   ]
  },
  {
   "cell_type": "code",
   "execution_count": 94,
   "metadata": {},
   "outputs": [],
   "source": [
    "data.dropna(inplace=True)"
   ]
  },
  {
   "cell_type": "code",
   "execution_count": 95,
   "metadata": {},
   "outputs": [
    {
     "name": "stdout",
     "output_type": "stream",
     "text": [
      "<class 'pandas.core.frame.DataFrame'>\n",
      "RangeIndex: 34686 entries, 0 to 34685\n",
      "Data columns (total 32 columns):\n",
      " #   Column                Non-Null Count  Dtype \n",
      "---  ------                --------------  ----- \n",
      " 0   bodyType              34686 non-null  object\n",
      " 1   brand                 34686 non-null  object\n",
      " 2   car_url               34686 non-null  object\n",
      " 3   color                 34686 non-null  object\n",
      " 4   complectation_dict    6418 non-null   object\n",
      " 5   description           34686 non-null  object\n",
      " 6   engineDisplacement    34686 non-null  object\n",
      " 7   enginePower           34686 non-null  object\n",
      " 8   equipment_dict        24690 non-null  object\n",
      " 9   fuelType              34686 non-null  object\n",
      " 10  image                 34686 non-null  object\n",
      " 11  mileage               34686 non-null  int64 \n",
      " 12  modelDate             34686 non-null  int64 \n",
      " 13  model_info            34686 non-null  object\n",
      " 14  model_name            34686 non-null  object\n",
      " 15  name                  34686 non-null  object\n",
      " 16  numberOfDoors         34686 non-null  int64 \n",
      " 17  parsing_unixtime      34686 non-null  int64 \n",
      " 18  priceCurrency         34686 non-null  object\n",
      " 19  productionDate        34686 non-null  int64 \n",
      " 20  sell_id               34686 non-null  int64 \n",
      " 21  super_gen             34686 non-null  object\n",
      " 22  vehicleConfiguration  34686 non-null  object\n",
      " 23  vehicleTransmission   34686 non-null  object\n",
      " 24  vendor                34686 non-null  object\n",
      " 25  Владельцы             34686 non-null  object\n",
      " 26  Владение              11995 non-null  object\n",
      " 27  ПТС                   34685 non-null  object\n",
      " 28  Привод                34686 non-null  object\n",
      " 29  Руль                  34686 non-null  object\n",
      " 30  Состояние             34686 non-null  object\n",
      " 31  Таможня               34686 non-null  object\n",
      "dtypes: int64(6), object(26)\n",
      "memory usage: 8.5+ MB\n"
     ]
    }
   ],
   "source": [
    "test.info()"
   ]
  },
  {
   "cell_type": "code",
   "execution_count": 96,
   "metadata": {},
   "outputs": [
    {
     "data": {
      "text/plain": [
       "<AxesSubplot:>"
      ]
     },
     "execution_count": 96,
     "metadata": {},
     "output_type": "execute_result"
    },
    {
     "data": {
      "image/png": "[encoded data removed]",
      "text/plain": [
       "<Figure size 432x288 with 1 Axes>"
      ]
     },
     "metadata": {
      "needs_background": "light"
     },
     "output_type": "display_data"
    }
   ],
   "source": [
    "data['Привод'] = data['Привод'].astype('category')\n",
    "data['Привод'].value_counts().plot(kind='bar')"
   ]
  },
  {
   "cell_type": "code",
   "execution_count": 97,
   "metadata": {},
   "outputs": [
    {
     "data": {
      "text/plain": [
       "<AxesSubplot:>"
      ]
     },
     "execution_count": 97,
     "metadata": {},
     "output_type": "execute_result"
    },
    {
     "data": {
      "image/png": "[encoded data removed]",
      "text/plain": [
       "<Figure size 432x288 with 1 Axes>"
      ]
     },
     "metadata": {
      "needs_background": "light"
     },
     "output_type": "display_data"
    }
   ],
   "source": [
    "rule={\n",
    "'Левый':'LEFT',      \n",
    "'Правый':'RIGHT'\n",
    "}\n",
    "data['Руль'] = data['Руль'].replace(rule)\n",
    "data['Руль'].value_counts().plot.bar()"
   ]
  },
  {
   "cell_type": "code",
   "execution_count": 98,
   "metadata": {},
   "outputs": [],
   "source": [
    "data['price'] = data['price'].fillna(0).astype('int')"
   ]
  },
  {
   "cell_type": "code",
   "execution_count": 99,
   "metadata": {},
   "outputs": [
    {
     "data": {
      "text/html": [
       "<div>\n",
       "<style scoped>\n",
       "    .dataframe tbody tr th:only-of-type {\n",
       "        vertical-align: middle;\n",
       "    }\n",
       "\n",
       "    .dataframe tbody tr th {\n",
       "        vertical-align: top;\n",
       "    }\n",
       "\n",
       "    .dataframe thead th {\n",
       "        text-align: right;\n",
       "    }\n",
       "</style>\n",
       "<table border=\"1\" class=\"dataframe\">\n",
       "  <thead>\n",
       "    <tr style=\"text-align: right;\">\n",
       "      <th></th>\n",
       "      <th>enginePower</th>\n",
       "      <th>mileage</th>\n",
       "      <th>numberOfDoors</th>\n",
       "      <th>productionDate</th>\n",
       "      <th>Владельцы</th>\n",
       "      <th>price</th>\n",
       "      <th>sample</th>\n",
       "    </tr>\n",
       "  </thead>\n",
       "  <tbody>\n",
       "    <tr>\n",
       "      <th>enginePower</th>\n",
       "      <td>1.000000</td>\n",
       "      <td>-0.183203</td>\n",
       "      <td>0.015118</td>\n",
       "      <td>0.207588</td>\n",
       "      <td>-0.098333</td>\n",
       "      <td>0.501910</td>\n",
       "      <td>-0.064741</td>\n",
       "    </tr>\n",
       "    <tr>\n",
       "      <th>mileage</th>\n",
       "      <td>-0.183203</td>\n",
       "      <td>1.000000</td>\n",
       "      <td>-0.107472</td>\n",
       "      <td>-0.734010</td>\n",
       "      <td>0.616535</td>\n",
       "      <td>-0.446575</td>\n",
       "      <td>-0.114184</td>\n",
       "    </tr>\n",
       "    <tr>\n",
       "      <th>numberOfDoors</th>\n",
       "      <td>0.015118</td>\n",
       "      <td>-0.107472</td>\n",
       "      <td>1.000000</td>\n",
       "      <td>0.202814</td>\n",
       "      <td>-0.169562</td>\n",
       "      <td>0.078436</td>\n",
       "      <td>0.040677</td>\n",
       "    </tr>\n",
       "    <tr>\n",
       "      <th>productionDate</th>\n",
       "      <td>0.207588</td>\n",
       "      <td>-0.734010</td>\n",
       "      <td>0.202814</td>\n",
       "      <td>1.000000</td>\n",
       "      <td>-0.649166</td>\n",
       "      <td>0.428150</td>\n",
       "      <td>0.100282</td>\n",
       "    </tr>\n",
       "    <tr>\n",
       "      <th>Владельцы</th>\n",
       "      <td>-0.098333</td>\n",
       "      <td>0.616535</td>\n",
       "      <td>-0.169562</td>\n",
       "      <td>-0.649166</td>\n",
       "      <td>1.000000</td>\n",
       "      <td>-0.486658</td>\n",
       "      <td>-0.259984</td>\n",
       "    </tr>\n",
       "    <tr>\n",
       "      <th>price</th>\n",
       "      <td>0.501910</td>\n",
       "      <td>-0.446575</td>\n",
       "      <td>0.078436</td>\n",
       "      <td>0.428150</td>\n",
       "      <td>-0.486658</td>\n",
       "      <td>1.000000</td>\n",
       "      <td>0.266016</td>\n",
       "    </tr>\n",
       "    <tr>\n",
       "      <th>sample</th>\n",
       "      <td>-0.064741</td>\n",
       "      <td>-0.114184</td>\n",
       "      <td>0.040677</td>\n",
       "      <td>0.100282</td>\n",
       "      <td>-0.259984</td>\n",
       "      <td>0.266016</td>\n",
       "      <td>1.000000</td>\n",
       "    </tr>\n",
       "  </tbody>\n",
       "</table>\n",
       "</div>"
      ],
      "text/plain": [
       "                enginePower   mileage  numberOfDoors  productionDate  \\\n",
       "enginePower        1.000000 -0.183203       0.015118        0.207588   \n",
       "mileage           -0.183203  1.000000      -0.107472       -0.734010   \n",
       "numberOfDoors      0.015118 -0.107472       1.000000        0.202814   \n",
       "productionDate     0.207588 -0.734010       0.202814        1.000000   \n",
       "Владельцы         -0.098333  0.616535      -0.169562       -0.649166   \n",
       "price              0.501910 -0.446575       0.078436        0.428150   \n",
       "sample            -0.064741 -0.114184       0.040677        0.100282   \n",
       "\n",
       "                Владельцы     price    sample  \n",
       "enginePower     -0.098333  0.501910 -0.064741  \n",
       "mileage          0.616535 -0.446575 -0.114184  \n",
       "numberOfDoors   -0.169562  0.078436  0.040677  \n",
       "productionDate  -0.649166  0.428150  0.100282  \n",
       "Владельцы        1.000000 -0.486658 -0.259984  \n",
       "price           -0.486658  1.000000  0.266016  \n",
       "sample          -0.259984  0.266016  1.000000  "
      ]
     },
     "execution_count": 99,
     "metadata": {},
     "output_type": "execute_result"
    }
   ],
   "source": [
    "data.corr()"
   ]
  },
  {
   "cell_type": "code",
   "execution_count": 187,
   "metadata": {},
   "outputs": [
    {
     "data": {
      "text/plain": [
       "<AxesSubplot:>"
      ]
     },
     "execution_count": 187,
     "metadata": {},
     "output_type": "execute_result"
    },
    {
     "data": {
      "image/png": "[encoded data removed]",
      "text/plain": [
       "<Figure size 1080x720 with 2 Axes>"
      ]
     },
     "metadata": {
      "needs_background": "light"
     },
     "output_type": "display_data"
    }
   ],
   "source": [
    "corr = data.corr()\n",
    "corr_features = corr.index\n",
    "plt.figure(figsize=(15,10))\n",
    "sns.heatmap(data[corr_features].corr(), annot=True)"
   ]
  },
  {
   "cell_type": "code",
   "execution_count": 100,
   "metadata": {},
   "outputs": [],
   "source": [
    "data = data.drop(['productionDate'], axis=1)"
   ]
  },
  {
   "cell_type": "code",
   "execution_count": 101,
   "metadata": {},
   "outputs": [],
   "source": [
    "for col in ['bodyType', 'brand', 'color', 'engineDisplacement', 'fuelType', 'model_name', 'vehicleTransmission', 'vendor', 'Владельцы', 'Привод','ПТС','Руль']:\n",
    "    data[col] = data[col].astype('category').cat.codes"
   ]
  },
  {
   "cell_type": "code",
   "execution_count": 102,
   "metadata": {},
   "outputs": [
    {
     "name": "stdout",
     "output_type": "stream",
     "text": [
      "<class 'pandas.core.frame.DataFrame'>\n",
      "Int64Index: 197184 entries, 0 to 77448\n",
      "Data columns (total 17 columns):\n",
      " #   Column               Non-Null Count   Dtype  \n",
      "---  ------               --------------   -----  \n",
      " 0   bodyType             197184 non-null  int8   \n",
      " 1   brand                197184 non-null  int8   \n",
      " 2   color                197184 non-null  int8   \n",
      " 3   engineDisplacement   197184 non-null  int8   \n",
      " 4   enginePower          197184 non-null  int32  \n",
      " 5   fuelType             197184 non-null  int8   \n",
      " 6   mileage              197184 non-null  int64  \n",
      " 7   model_name           197184 non-null  int16  \n",
      " 8   numberOfDoors        197184 non-null  float64\n",
      " 9   vehicleTransmission  197184 non-null  int8   \n",
      " 10  vendor               197184 non-null  int8   \n",
      " 11  Владельцы            197184 non-null  int8   \n",
      " 12  ПТС                  197184 non-null  int8   \n",
      " 13  Привод               197184 non-null  int8   \n",
      " 14  Руль                 197184 non-null  int8   \n",
      " 15  price                197184 non-null  int32  \n",
      " 16  sample               197184 non-null  int64  \n",
      "dtypes: float64(1), int16(1), int32(2), int64(2), int8(11)\n",
      "memory usage: 10.0 MB\n"
     ]
    }
   ],
   "source": [
    "data.info()"
   ]
  },
  {
   "cell_type": "code",
   "execution_count": 103,
   "metadata": {},
   "outputs": [
    {
     "data": {
      "text/html": [
       "<div>\n",
       "<style scoped>\n",
       "    .dataframe tbody tr th:only-of-type {\n",
       "        vertical-align: middle;\n",
       "    }\n",
       "\n",
       "    .dataframe tbody tr th {\n",
       "        vertical-align: top;\n",
       "    }\n",
       "\n",
       "    .dataframe thead th {\n",
       "        text-align: right;\n",
       "    }\n",
       "</style>\n",
       "<table border=\"1\" class=\"dataframe\">\n",
       "  <thead>\n",
       "    <tr style=\"text-align: right;\">\n",
       "      <th></th>\n",
       "      <th>bodyType</th>\n",
       "      <th>brand</th>\n",
       "      <th>color</th>\n",
       "      <th>engineDisplacement</th>\n",
       "      <th>enginePower</th>\n",
       "      <th>fuelType</th>\n",
       "      <th>mileage</th>\n",
       "      <th>model_name</th>\n",
       "      <th>numberOfDoors</th>\n",
       "      <th>vehicleTransmission</th>\n",
       "      <th>vendor</th>\n",
       "      <th>Владельцы</th>\n",
       "      <th>ПТС</th>\n",
       "      <th>Привод</th>\n",
       "      <th>Руль</th>\n",
       "      <th>price</th>\n",
       "      <th>sample</th>\n",
       "    </tr>\n",
       "  </thead>\n",
       "  <tbody>\n",
       "    <tr>\n",
       "      <th>0</th>\n",
       "      <td>7</td>\n",
       "      <td>0</td>\n",
       "      <td>16</td>\n",
       "      <td>30</td>\n",
       "      <td>174</td>\n",
       "      <td>0</td>\n",
       "      <td>350000</td>\n",
       "      <td>1</td>\n",
       "      <td>4.0</td>\n",
       "      <td>2</td>\n",
       "      <td>6</td>\n",
       "      <td>3</td>\n",
       "      <td>1</td>\n",
       "      <td>2</td>\n",
       "      <td>0</td>\n",
       "      <td>200000</td>\n",
       "      <td>1</td>\n",
       "    </tr>\n",
       "    <tr>\n",
       "      <th>1</th>\n",
       "      <td>7</td>\n",
       "      <td>0</td>\n",
       "      <td>8</td>\n",
       "      <td>8</td>\n",
       "      <td>90</td>\n",
       "      <td>0</td>\n",
       "      <td>173424</td>\n",
       "      <td>1</td>\n",
       "      <td>4.0</td>\n",
       "      <td>2</td>\n",
       "      <td>6</td>\n",
       "      <td>3</td>\n",
       "      <td>1</td>\n",
       "      <td>1</td>\n",
       "      <td>0</td>\n",
       "      <td>60000</td>\n",
       "      <td>1</td>\n",
       "    </tr>\n",
       "    <tr>\n",
       "      <th>2</th>\n",
       "      <td>8</td>\n",
       "      <td>0</td>\n",
       "      <td>14</td>\n",
       "      <td>14</td>\n",
       "      <td>136</td>\n",
       "      <td>0</td>\n",
       "      <td>230000</td>\n",
       "      <td>1</td>\n",
       "      <td>5.0</td>\n",
       "      <td>2</td>\n",
       "      <td>6</td>\n",
       "      <td>3</td>\n",
       "      <td>1</td>\n",
       "      <td>2</td>\n",
       "      <td>0</td>\n",
       "      <td>99000</td>\n",
       "      <td>1</td>\n",
       "    </tr>\n",
       "    <tr>\n",
       "      <th>3</th>\n",
       "      <td>7</td>\n",
       "      <td>0</td>\n",
       "      <td>12</td>\n",
       "      <td>8</td>\n",
       "      <td>90</td>\n",
       "      <td>0</td>\n",
       "      <td>240000</td>\n",
       "      <td>1</td>\n",
       "      <td>4.0</td>\n",
       "      <td>2</td>\n",
       "      <td>6</td>\n",
       "      <td>3</td>\n",
       "      <td>1</td>\n",
       "      <td>1</td>\n",
       "      <td>0</td>\n",
       "      <td>65000</td>\n",
       "      <td>1</td>\n",
       "    </tr>\n",
       "    <tr>\n",
       "      <th>4</th>\n",
       "      <td>7</td>\n",
       "      <td>0</td>\n",
       "      <td>16</td>\n",
       "      <td>10</td>\n",
       "      <td>101</td>\n",
       "      <td>0</td>\n",
       "      <td>300000</td>\n",
       "      <td>1</td>\n",
       "      <td>4.0</td>\n",
       "      <td>2</td>\n",
       "      <td>6</td>\n",
       "      <td>3</td>\n",
       "      <td>0</td>\n",
       "      <td>1</td>\n",
       "      <td>0</td>\n",
       "      <td>100000</td>\n",
       "      <td>1</td>\n",
       "    </tr>\n",
       "  </tbody>\n",
       "</table>\n",
       "</div>"
      ],
      "text/plain": [
       "   bodyType  brand  color  engineDisplacement  enginePower  fuelType  mileage  \\\n",
       "0         7      0     16                  30          174         0   350000   \n",
       "1         7      0      8                   8           90         0   173424   \n",
       "2         8      0     14                  14          136         0   230000   \n",
       "3         7      0     12                   8           90         0   240000   \n",
       "4         7      0     16                  10          101         0   300000   \n",
       "\n",
       "   model_name  numberOfDoors  vehicleTransmission  vendor  Владельцы  ПТС  \\\n",
       "0           1            4.0                    2       6          3    1   \n",
       "1           1            4.0                    2       6          3    1   \n",
       "2           1            5.0                    2       6          3    1   \n",
       "3           1            4.0                    2       6          3    1   \n",
       "4           1            4.0                    2       6          3    0   \n",
       "\n",
       "   Привод  Руль   price  sample  \n",
       "0       2     0  200000       1  \n",
       "1       1     0   60000       1  \n",
       "2       2     0   99000       1  \n",
       "3       1     0   65000       1  \n",
       "4       1     0  100000       1  "
      ]
     },
     "execution_count": 103,
     "metadata": {},
     "output_type": "execute_result"
    }
   ],
   "source": [
    "data[data['price']!=0].head()"
   ]
  },
  {
   "cell_type": "code",
   "execution_count": 104,
   "metadata": {},
   "outputs": [],
   "source": [
    "X = data.query('sample == 1').drop(['sample'], axis=1)"
   ]
  },
  {
   "cell_type": "code",
   "execution_count": 105,
   "metadata": {},
   "outputs": [
    {
     "data": {
      "text/plain": [
       "162498"
      ]
     },
     "execution_count": 105,
     "metadata": {},
     "output_type": "execute_result"
    }
   ],
   "source": [
    "len(X)"
   ]
  },
  {
   "cell_type": "code",
   "execution_count": 106,
   "metadata": {},
   "outputs": [
    {
     "ename": "KeyError",
     "evalue": "'rinat'",
     "output_type": "error",
     "traceback": [
      "\u001b[1;31m---------------------------------------------------------------------------\u001b[0m",
      "\u001b[1;31mKeyError\u001b[0m                                  Traceback (most recent call last)",
      "\u001b[1;32m~\\anaconda3\\lib\\site-packages\\pandas\\core\\indexes\\base.py\u001b[0m in \u001b[0;36mget_loc\u001b[1;34m(self, key, method, tolerance)\u001b[0m\n\u001b[0;32m   2894\u001b[0m             \u001b[1;32mtry\u001b[0m\u001b[1;33m:\u001b[0m\u001b[1;33m\u001b[0m\u001b[1;33m\u001b[0m\u001b[0m\n\u001b[1;32m-> 2895\u001b[1;33m                 \u001b[1;32mreturn\u001b[0m \u001b[0mself\u001b[0m\u001b[1;33m.\u001b[0m\u001b[0m_engine\u001b[0m\u001b[1;33m.\u001b[0m\u001b[0mget_loc\u001b[0m\u001b[1;33m(\u001b[0m\u001b[0mcasted_key\u001b[0m\u001b[1;33m)\u001b[0m\u001b[1;33m\u001b[0m\u001b[1;33m\u001b[0m\u001b[0m\n\u001b[0m\u001b[0;32m   2896\u001b[0m             \u001b[1;32mexcept\u001b[0m \u001b[0mKeyError\u001b[0m \u001b[1;32mas\u001b[0m \u001b[0merr\u001b[0m\u001b[1;33m:\u001b[0m\u001b[1;33m\u001b[0m\u001b[1;33m\u001b[0m\u001b[0m\n",
      "\u001b[1;32mpandas\\_libs\\index.pyx\u001b[0m in \u001b[0;36mpandas._libs.index.IndexEngine.get_loc\u001b[1;34m()\u001b[0m\n",
      "\u001b[1;32mpandas\\_libs\\index.pyx\u001b[0m in \u001b[0;36mpandas._libs.index.IndexEngine.get_loc\u001b[1;34m()\u001b[0m\n",
      "\u001b[1;32mpandas\\_libs\\hashtable_class_helper.pxi\u001b[0m in \u001b[0;36mpandas._libs.hashtable.PyObjectHashTable.get_item\u001b[1;34m()\u001b[0m\n",
      "\u001b[1;32mpandas\\_libs\\hashtable_class_helper.pxi\u001b[0m in \u001b[0;36mpandas._libs.hashtable.PyObjectHashTable.get_item\u001b[1;34m()\u001b[0m\n",
      "\u001b[1;31mKeyError\u001b[0m: 'rinat'",
      "\nThe above exception was the direct cause of the following exception:\n",
      "\u001b[1;31mKeyError\u001b[0m                                  Traceback (most recent call last)",
      "\u001b[1;32m<ipython-input-106-f378243a8ef9>\u001b[0m in \u001b[0;36m<module>\u001b[1;34m\u001b[0m\n\u001b[1;32m----> 1\u001b[1;33m \u001b[0mX\u001b[0m\u001b[1;33m[\u001b[0m\u001b[1;34m'rinat'\u001b[0m\u001b[1;33m]\u001b[0m\u001b[1;33m\u001b[0m\u001b[1;33m\u001b[0m\u001b[0m\n\u001b[0m",
      "\u001b[1;32m~\\anaconda3\\lib\\site-packages\\pandas\\core\\frame.py\u001b[0m in \u001b[0;36m__getitem__\u001b[1;34m(self, key)\u001b[0m\n\u001b[0;32m   2900\u001b[0m             \u001b[1;32mif\u001b[0m \u001b[0mself\u001b[0m\u001b[1;33m.\u001b[0m\u001b[0mcolumns\u001b[0m\u001b[1;33m.\u001b[0m\u001b[0mnlevels\u001b[0m \u001b[1;33m>\u001b[0m \u001b[1;36m1\u001b[0m\u001b[1;33m:\u001b[0m\u001b[1;33m\u001b[0m\u001b[1;33m\u001b[0m\u001b[0m\n\u001b[0;32m   2901\u001b[0m                 \u001b[1;32mreturn\u001b[0m \u001b[0mself\u001b[0m\u001b[1;33m.\u001b[0m\u001b[0m_getitem_multilevel\u001b[0m\u001b[1;33m(\u001b[0m\u001b[0mkey\u001b[0m\u001b[1;33m)\u001b[0m\u001b[1;33m\u001b[0m\u001b[1;33m\u001b[0m\u001b[0m\n\u001b[1;32m-> 2902\u001b[1;33m             \u001b[0mindexer\u001b[0m \u001b[1;33m=\u001b[0m \u001b[0mself\u001b[0m\u001b[1;33m.\u001b[0m\u001b[0mcolumns\u001b[0m\u001b[1;33m.\u001b[0m\u001b[0mget_loc\u001b[0m\u001b[1;33m(\u001b[0m\u001b[0mkey\u001b[0m\u001b[1;33m)\u001b[0m\u001b[1;33m\u001b[0m\u001b[1;33m\u001b[0m\u001b[0m\n\u001b[0m\u001b[0;32m   2903\u001b[0m             \u001b[1;32mif\u001b[0m \u001b[0mis_integer\u001b[0m\u001b[1;33m(\u001b[0m\u001b[0mindexer\u001b[0m\u001b[1;33m)\u001b[0m\u001b[1;33m:\u001b[0m\u001b[1;33m\u001b[0m\u001b[1;33m\u001b[0m\u001b[0m\n\u001b[0;32m   2904\u001b[0m                 \u001b[0mindexer\u001b[0m \u001b[1;33m=\u001b[0m \u001b[1;33m[\u001b[0m\u001b[0mindexer\u001b[0m\u001b[1;33m]\u001b[0m\u001b[1;33m\u001b[0m\u001b[1;33m\u001b[0m\u001b[0m\n",
      "\u001b[1;32m~\\anaconda3\\lib\\site-packages\\pandas\\core\\indexes\\base.py\u001b[0m in \u001b[0;36mget_loc\u001b[1;34m(self, key, method, tolerance)\u001b[0m\n\u001b[0;32m   2895\u001b[0m                 \u001b[1;32mreturn\u001b[0m \u001b[0mself\u001b[0m\u001b[1;33m.\u001b[0m\u001b[0m_engine\u001b[0m\u001b[1;33m.\u001b[0m\u001b[0mget_loc\u001b[0m\u001b[1;33m(\u001b[0m\u001b[0mcasted_key\u001b[0m\u001b[1;33m)\u001b[0m\u001b[1;33m\u001b[0m\u001b[1;33m\u001b[0m\u001b[0m\n\u001b[0;32m   2896\u001b[0m             \u001b[1;32mexcept\u001b[0m \u001b[0mKeyError\u001b[0m \u001b[1;32mas\u001b[0m \u001b[0merr\u001b[0m\u001b[1;33m:\u001b[0m\u001b[1;33m\u001b[0m\u001b[1;33m\u001b[0m\u001b[0m\n\u001b[1;32m-> 2897\u001b[1;33m                 \u001b[1;32mraise\u001b[0m \u001b[0mKeyError\u001b[0m\u001b[1;33m(\u001b[0m\u001b[0mkey\u001b[0m\u001b[1;33m)\u001b[0m \u001b[1;32mfrom\u001b[0m \u001b[0merr\u001b[0m\u001b[1;33m\u001b[0m\u001b[1;33m\u001b[0m\u001b[0m\n\u001b[0m\u001b[0;32m   2898\u001b[0m \u001b[1;33m\u001b[0m\u001b[0m\n\u001b[0;32m   2899\u001b[0m         \u001b[1;32mif\u001b[0m \u001b[0mtolerance\u001b[0m \u001b[1;32mis\u001b[0m \u001b[1;32mnot\u001b[0m \u001b[1;32mNone\u001b[0m\u001b[1;33m:\u001b[0m\u001b[1;33m\u001b[0m\u001b[1;33m\u001b[0m\u001b[0m\n",
      "\u001b[1;31mKeyError\u001b[0m: 'rinat'"
     ]
    }
   ],
   "source": [
    "X['rinat']"
   ]
  },
  {
   "cell_type": "code",
   "execution_count": 190,
   "metadata": {},
   "outputs": [
    {
     "ename": "KeyError",
     "evalue": "'price'",
     "output_type": "error",
     "traceback": [
      "\u001b[1;31m---------------------------------------------------------------------------\u001b[0m",
      "\u001b[1;31mKeyError\u001b[0m                                  Traceback (most recent call last)",
      "\u001b[1;32m~\\anaconda3\\lib\\site-packages\\pandas\\core\\indexes\\base.py\u001b[0m in \u001b[0;36mget_loc\u001b[1;34m(self, key, method, tolerance)\u001b[0m\n\u001b[0;32m   2894\u001b[0m             \u001b[1;32mtry\u001b[0m\u001b[1;33m:\u001b[0m\u001b[1;33m\u001b[0m\u001b[1;33m\u001b[0m\u001b[0m\n\u001b[1;32m-> 2895\u001b[1;33m                 \u001b[1;32mreturn\u001b[0m \u001b[0mself\u001b[0m\u001b[1;33m.\u001b[0m\u001b[0m_engine\u001b[0m\u001b[1;33m.\u001b[0m\u001b[0mget_loc\u001b[0m\u001b[1;33m(\u001b[0m\u001b[0mcasted_key\u001b[0m\u001b[1;33m)\u001b[0m\u001b[1;33m\u001b[0m\u001b[1;33m\u001b[0m\u001b[0m\n\u001b[0m\u001b[0;32m   2896\u001b[0m             \u001b[1;32mexcept\u001b[0m \u001b[0mKeyError\u001b[0m \u001b[1;32mas\u001b[0m \u001b[0merr\u001b[0m\u001b[1;33m:\u001b[0m\u001b[1;33m\u001b[0m\u001b[1;33m\u001b[0m\u001b[0m\n",
      "\u001b[1;32mpandas\\_libs\\index.pyx\u001b[0m in \u001b[0;36mpandas._libs.index.IndexEngine.get_loc\u001b[1;34m()\u001b[0m\n",
      "\u001b[1;32mpandas\\_libs\\index.pyx\u001b[0m in \u001b[0;36mpandas._libs.index.IndexEngine.get_loc\u001b[1;34m()\u001b[0m\n",
      "\u001b[1;32mpandas\\_libs\\hashtable_class_helper.pxi\u001b[0m in \u001b[0;36mpandas._libs.hashtable.PyObjectHashTable.get_item\u001b[1;34m()\u001b[0m\n",
      "\u001b[1;32mpandas\\_libs\\hashtable_class_helper.pxi\u001b[0m in \u001b[0;36mpandas._libs.hashtable.PyObjectHashTable.get_item\u001b[1;34m()\u001b[0m\n",
      "\u001b[1;31mKeyError\u001b[0m: 'price'",
      "\nThe above exception was the direct cause of the following exception:\n",
      "\u001b[1;31mKeyError\u001b[0m                                  Traceback (most recent call last)",
      "\u001b[1;32m<ipython-input-190-adea148b2f5e>\u001b[0m in \u001b[0;36m<module>\u001b[1;34m\u001b[0m\n\u001b[1;32m----> 1\u001b[1;33m \u001b[0mX\u001b[0m \u001b[1;33m=\u001b[0m \u001b[0mX\u001b[0m\u001b[1;33m[\u001b[0m\u001b[0mX\u001b[0m\u001b[1;33m[\u001b[0m\u001b[1;34m'price'\u001b[0m\u001b[1;33m]\u001b[0m \u001b[1;33m!=\u001b[0m \u001b[1;36m0\u001b[0m\u001b[1;33m]\u001b[0m\u001b[1;33m\u001b[0m\u001b[1;33m\u001b[0m\u001b[0m\n\u001b[0m",
      "\u001b[1;32m~\\anaconda3\\lib\\site-packages\\pandas\\core\\frame.py\u001b[0m in \u001b[0;36m__getitem__\u001b[1;34m(self, key)\u001b[0m\n\u001b[0;32m   2900\u001b[0m             \u001b[1;32mif\u001b[0m \u001b[0mself\u001b[0m\u001b[1;33m.\u001b[0m\u001b[0mcolumns\u001b[0m\u001b[1;33m.\u001b[0m\u001b[0mnlevels\u001b[0m \u001b[1;33m>\u001b[0m \u001b[1;36m1\u001b[0m\u001b[1;33m:\u001b[0m\u001b[1;33m\u001b[0m\u001b[1;33m\u001b[0m\u001b[0m\n\u001b[0;32m   2901\u001b[0m                 \u001b[1;32mreturn\u001b[0m \u001b[0mself\u001b[0m\u001b[1;33m.\u001b[0m\u001b[0m_getitem_multilevel\u001b[0m\u001b[1;33m(\u001b[0m\u001b[0mkey\u001b[0m\u001b[1;33m)\u001b[0m\u001b[1;33m\u001b[0m\u001b[1;33m\u001b[0m\u001b[0m\n\u001b[1;32m-> 2902\u001b[1;33m             \u001b[0mindexer\u001b[0m \u001b[1;33m=\u001b[0m \u001b[0mself\u001b[0m\u001b[1;33m.\u001b[0m\u001b[0mcolumns\u001b[0m\u001b[1;33m.\u001b[0m\u001b[0mget_loc\u001b[0m\u001b[1;33m(\u001b[0m\u001b[0mkey\u001b[0m\u001b[1;33m)\u001b[0m\u001b[1;33m\u001b[0m\u001b[1;33m\u001b[0m\u001b[0m\n\u001b[0m\u001b[0;32m   2903\u001b[0m             \u001b[1;32mif\u001b[0m \u001b[0mis_integer\u001b[0m\u001b[1;33m(\u001b[0m\u001b[0mindexer\u001b[0m\u001b[1;33m)\u001b[0m\u001b[1;33m:\u001b[0m\u001b[1;33m\u001b[0m\u001b[1;33m\u001b[0m\u001b[0m\n\u001b[0;32m   2904\u001b[0m                 \u001b[0mindexer\u001b[0m \u001b[1;33m=\u001b[0m \u001b[1;33m[\u001b[0m\u001b[0mindexer\u001b[0m\u001b[1;33m]\u001b[0m\u001b[1;33m\u001b[0m\u001b[1;33m\u001b[0m\u001b[0m\n",
      "\u001b[1;32m~\\anaconda3\\lib\\site-packages\\pandas\\core\\indexes\\base.py\u001b[0m in \u001b[0;36mget_loc\u001b[1;34m(self, key, method, tolerance)\u001b[0m\n\u001b[0;32m   2895\u001b[0m                 \u001b[1;32mreturn\u001b[0m \u001b[0mself\u001b[0m\u001b[1;33m.\u001b[0m\u001b[0m_engine\u001b[0m\u001b[1;33m.\u001b[0m\u001b[0mget_loc\u001b[0m\u001b[1;33m(\u001b[0m\u001b[0mcasted_key\u001b[0m\u001b[1;33m)\u001b[0m\u001b[1;33m\u001b[0m\u001b[1;33m\u001b[0m\u001b[0m\n\u001b[0;32m   2896\u001b[0m             \u001b[1;32mexcept\u001b[0m \u001b[0mKeyError\u001b[0m \u001b[1;32mas\u001b[0m \u001b[0merr\u001b[0m\u001b[1;33m:\u001b[0m\u001b[1;33m\u001b[0m\u001b[1;33m\u001b[0m\u001b[0m\n\u001b[1;32m-> 2897\u001b[1;33m                 \u001b[1;32mraise\u001b[0m \u001b[0mKeyError\u001b[0m\u001b[1;33m(\u001b[0m\u001b[0mkey\u001b[0m\u001b[1;33m)\u001b[0m \u001b[1;32mfrom\u001b[0m \u001b[0merr\u001b[0m\u001b[1;33m\u001b[0m\u001b[1;33m\u001b[0m\u001b[0m\n\u001b[0m\u001b[0;32m   2898\u001b[0m \u001b[1;33m\u001b[0m\u001b[0m\n\u001b[0;32m   2899\u001b[0m         \u001b[1;32mif\u001b[0m \u001b[0mtolerance\u001b[0m \u001b[1;32mis\u001b[0m \u001b[1;32mnot\u001b[0m \u001b[1;32mNone\u001b[0m\u001b[1;33m:\u001b[0m\u001b[1;33m\u001b[0m\u001b[1;33m\u001b[0m\u001b[0m\n",
      "\u001b[1;31mKeyError\u001b[0m: 'price'"
     ]
    }
   ],
   "source": [
    "X = X[X['price'] != 0]"
   ]
  },
  {
   "cell_type": "code",
   "execution_count": 108,
   "metadata": {},
   "outputs": [],
   "source": [
    "y = X['price']\n",
    "X = X.drop(['price'], axis=1)"
   ]
  },
  {
   "cell_type": "code",
   "execution_count": 226,
   "metadata": {},
   "outputs": [],
   "source": [
    "X_sub = data.query('sample == 0').drop(['sample', 'price'], axis=1)"
   ]
  },
  {
   "cell_type": "code",
   "execution_count": 191,
   "metadata": {},
   "outputs": [],
   "source": [
    "from sklearn.model_selection import train_test_split"
   ]
  },
  {
   "cell_type": "code",
   "execution_count": 192,
   "metadata": {},
   "outputs": [],
   "source": [
    "X_train, X_test, y_train, y_test = train_test_split(X, y, test_size=0.2, random_state=42)"
   ]
  },
  {
   "cell_type": "code",
   "execution_count": 193,
   "metadata": {},
   "outputs": [],
   "source": [
    "from sklearn.preprocessing import MinMaxScaler\n",
    "scaler = MinMaxScaler()\n",
    "scaler.fit(X_train)\n",
    "X_train = scaler.transform(X_train)\n",
    "X_test = scaler.transform(X_test)"
   ]
  },
  {
   "cell_type": "code",
   "execution_count": 194,
   "metadata": {},
   "outputs": [
    {
     "data": {
      "text/plain": [
       "2367     12.301383\n",
       "43605    12.736701\n",
       "26642    13.353475\n",
       "76575    12.560244\n",
       "25017    13.270783\n",
       "           ...    \n",
       "33843    13.763164\n",
       "17258    12.254863\n",
       "46120    16.077065\n",
       "61405    13.440090\n",
       "35955    12.206073\n",
       "Name: price, Length: 129998, dtype: float64"
      ]
     },
     "execution_count": 194,
     "metadata": {},
     "output_type": "execute_result"
    }
   ],
   "source": [
    "np.log(y_train)"
   ]
  },
  {
   "cell_type": "code",
   "execution_count": 203,
   "metadata": {},
   "outputs": [
    {
     "data": {
      "text/plain": [
       "(129998, 15)"
      ]
     },
     "execution_count": 203,
     "metadata": {},
     "output_type": "execute_result"
    }
   ],
   "source": [
    "X_train.shape"
   ]
  },
  {
   "cell_type": "code",
   "execution_count": 195,
   "metadata": {},
   "outputs": [],
   "source": [
    "from catboost import CatBoostRegressor"
   ]
  },
  {
   "cell_type": "code",
   "execution_count": 116,
   "metadata": {},
   "outputs": [],
   "source": [
    "model = CatBoostRegressor(\n",
    "    iterations = 5000, \n",
    "    random_seed = 42, \n",
    "    eval_metric='MAPE', \n",
    "    custom_metric=['R2', 'MAE'], \n",
    "    silent=True\n",
    ") "
   ]
  },
  {
   "cell_type": "code",
   "execution_count": 117,
   "metadata": {},
   "outputs": [
    {
     "data": {
      "text/plain": [
       "<catboost.core.CatBoostRegressor at 0x223d6871df0>"
      ]
     },
     "execution_count": 117,
     "metadata": {},
     "output_type": "execute_result"
    }
   ],
   "source": [
    "model.fit(X_train, np.log(y_train))"
   ]
  },
  {
   "cell_type": "code",
   "execution_count": null,
   "metadata": {},
   "outputs": [],
   "source": [
    "# model.save_model('model1.model')"
   ]
  },
  {
   "cell_type": "code",
   "execution_count": 118,
   "metadata": {},
   "outputs": [],
   "source": [
    "predict_test_1 = np.exp(model.predict(X_test)) \n",
    "predict_submission_1 = np.exp(model.predict(X_sub))"
   ]
  },
  {
   "cell_type": "code",
   "execution_count": 119,
   "metadata": {},
   "outputs": [],
   "source": [
    "def mape(Y_actual,Y_Predicted):\n",
    "    mape1 = np.mean(np.abs((Y_actual - Y_Predicted)/Y_actual))*100\n",
    "    return mape1"
   ]
  },
  {
   "cell_type": "code",
   "execution_count": 120,
   "metadata": {},
   "outputs": [
    {
     "data": {
      "text/plain": [
       "18.2032558377389"
      ]
     },
     "execution_count": 120,
     "metadata": {},
     "output_type": "execute_result"
    }
   ],
   "source": [
    "mape(y_test, predict_test_1)"
   ]
  },
  {
   "cell_type": "code",
   "execution_count": 121,
   "metadata": {},
   "outputs": [
    {
     "data": {
      "text/plain": [
       "<matplotlib.collections.PathCollection at 0x223d6a70d90>"
      ]
     },
     "execution_count": 121,
     "metadata": {},
     "output_type": "execute_result"
    },
    {
     "data": {
      "image/png": "[encoded data removed]",
      "text/plain": [
       "<Figure size 432x288 with 1 Axes>"
      ]
     },
     "metadata": {
      "needs_background": "light"
     },
     "output_type": "display_data"
    }
   ],
   "source": [
    "import matplotlib.pyplot as plt\n",
    "plt.scatter(y_test, predict_test_1)"
   ]
  },
  {
   "cell_type": "code",
   "execution_count": 122,
   "metadata": {},
   "outputs": [],
   "source": [
    "from sklearn.linear_model import LinearRegression\n",
    "model_2 = LinearRegression(normalize=True)"
   ]
  },
  {
   "cell_type": "code",
   "execution_count": 123,
   "metadata": {},
   "outputs": [
    {
     "data": {
      "text/plain": [
       "LinearRegression(normalize=True)"
      ]
     },
     "execution_count": 123,
     "metadata": {},
     "output_type": "execute_result"
    }
   ],
   "source": [
    "model_2.fit(X_train, np.log(y_train))"
   ]
  },
  {
   "cell_type": "code",
   "execution_count": 124,
   "metadata": {},
   "outputs": [],
   "source": [
    "# model.save_model('model2.model')"
   ]
  },
  {
   "cell_type": "code",
   "execution_count": 125,
   "metadata": {},
   "outputs": [
    {
     "name": "stderr",
     "output_type": "stream",
     "text": [
      "<ipython-input-125-7b7657ae55c3>:2: RuntimeWarning: overflow encountered in exp\n",
      "  predict_submission_2 = np.exp(model_2.predict(X_sub))\n"
     ]
    }
   ],
   "source": [
    "predict_test_2 = np.exp(model_2.predict(X_test)) \n",
    "predict_submission_2 = np.exp(model_2.predict(X_sub))"
   ]
  },
  {
   "cell_type": "code",
   "execution_count": 126,
   "metadata": {},
   "outputs": [
    {
     "data": {
      "text/plain": [
       "40.70789469065161"
      ]
     },
     "execution_count": 126,
     "metadata": {},
     "output_type": "execute_result"
    }
   ],
   "source": [
    "mape(y_test, predict_test_2)"
   ]
  },
  {
   "cell_type": "code",
   "execution_count": 127,
   "metadata": {},
   "outputs": [
    {
     "data": {
      "text/plain": [
       "<matplotlib.collections.PathCollection at 0x223d6c2b220>"
      ]
     },
     "execution_count": 127,
     "metadata": {},
     "output_type": "execute_result"
    },
    {
     "data": {
      "image/png": "[encoded data removed]",
      "text/plain": [
       "<Figure size 432x288 with 1 Axes>"
      ]
     },
     "metadata": {
      "needs_background": "light"
     },
     "output_type": "display_data"
    }
   ],
   "source": [
    "plt.scatter(y_test, predict_test_2)"
   ]
  },
  {
   "cell_type": "code",
   "execution_count": 128,
   "metadata": {},
   "outputs": [
    {
     "data": {
      "text/plain": [
       "34686"
      ]
     },
     "execution_count": 128,
     "metadata": {},
     "output_type": "execute_result"
    }
   ],
   "source": [
    "len(test)"
   ]
  },
  {
   "cell_type": "code",
   "execution_count": 129,
   "metadata": {},
   "outputs": [
    {
     "data": {
      "text/plain": [
       "34686"
      ]
     },
     "execution_count": 129,
     "metadata": {},
     "output_type": "execute_result"
    }
   ],
   "source": [
    "len(predict_submission_2)"
   ]
  },
  {
   "cell_type": "code",
   "execution_count": 130,
   "metadata": {},
   "outputs": [],
   "source": [
    "from sklearn.ensemble import GradientBoostingRegressor, ExtraTreesRegressor, RandomForestRegressor"
   ]
  },
  {
   "cell_type": "code",
   "execution_count": 131,
   "metadata": {},
   "outputs": [],
   "source": [
    "gb = GradientBoostingRegressor(\n",
    "    min_samples_split=2, \n",
    "    learning_rate=0.03, \n",
    "    max_depth=10, \n",
    "    n_estimators=1000\n",
    ")"
   ]
  },
  {
   "cell_type": "code",
   "execution_count": 132,
   "metadata": {},
   "outputs": [
    {
     "data": {
      "text/plain": [
       "GradientBoostingRegressor(learning_rate=0.03, max_depth=10, n_estimators=1000)"
      ]
     },
     "execution_count": 132,
     "metadata": {},
     "output_type": "execute_result"
    }
   ],
   "source": [
    "gb.fit(X_train, np.log(y_train))"
   ]
  },
  {
   "cell_type": "code",
   "execution_count": 133,
   "metadata": {},
   "outputs": [],
   "source": [
    "predict_test_3 = np.exp(gb.predict(X_test))\n",
    "predict_submission_3 = np.exp(gb.predict(X_sub))"
   ]
  },
  {
   "cell_type": "code",
   "execution_count": 205,
   "metadata": {},
   "outputs": [
    {
     "data": {
      "text/plain": [
       "15.631608947470424"
      ]
     },
     "execution_count": 205,
     "metadata": {},
     "output_type": "execute_result"
    }
   ],
   "source": [
    "mape(y_test, predict_test_3)"
   ]
  },
  {
   "cell_type": "code",
   "execution_count": 235,
   "metadata": {},
   "outputs": [
    {
     "data": {
      "text/html": [
       "<div>\n",
       "<style scoped>\n",
       "    .dataframe tbody tr th:only-of-type {\n",
       "        vertical-align: middle;\n",
       "    }\n",
       "\n",
       "    .dataframe tbody tr th {\n",
       "        vertical-align: top;\n",
       "    }\n",
       "\n",
       "    .dataframe thead th {\n",
       "        text-align: right;\n",
       "    }\n",
       "</style>\n",
       "<table border=\"1\" class=\"dataframe\">\n",
       "  <thead>\n",
       "    <tr style=\"text-align: right;\">\n",
       "      <th></th>\n",
       "      <th>sell_id</th>\n",
       "      <th>price</th>\n",
       "    </tr>\n",
       "  </thead>\n",
       "  <tbody>\n",
       "    <tr>\n",
       "      <th>0</th>\n",
       "      <td>1100575026</td>\n",
       "      <td>957274.035774</td>\n",
       "    </tr>\n",
       "    <tr>\n",
       "      <th>1</th>\n",
       "      <td>1100549428</td>\n",
       "      <td>957274.035774</td>\n",
       "    </tr>\n",
       "    <tr>\n",
       "      <th>2</th>\n",
       "      <td>1100658222</td>\n",
       "      <td>957274.035774</td>\n",
       "    </tr>\n",
       "    <tr>\n",
       "      <th>3</th>\n",
       "      <td>1100937408</td>\n",
       "      <td>825241.088150</td>\n",
       "    </tr>\n",
       "    <tr>\n",
       "      <th>4</th>\n",
       "      <td>1101037972</td>\n",
       "      <td>825241.088150</td>\n",
       "    </tr>\n",
       "    <tr>\n",
       "      <th>...</th>\n",
       "      <td>...</td>\n",
       "      <td>...</td>\n",
       "    </tr>\n",
       "    <tr>\n",
       "      <th>34681</th>\n",
       "      <td>1101369263</td>\n",
       "      <td>415006.533252</td>\n",
       "    </tr>\n",
       "    <tr>\n",
       "      <th>34682</th>\n",
       "      <td>1101369581</td>\n",
       "      <td>836106.220380</td>\n",
       "    </tr>\n",
       "    <tr>\n",
       "      <th>34683</th>\n",
       "      <td>1101364889</td>\n",
       "      <td>461160.338631</td>\n",
       "    </tr>\n",
       "    <tr>\n",
       "      <th>34684</th>\n",
       "      <td>1101362518</td>\n",
       "      <td>836106.220380</td>\n",
       "    </tr>\n",
       "    <tr>\n",
       "      <th>34685</th>\n",
       "      <td>1101256068</td>\n",
       "      <td>836106.220380</td>\n",
       "    </tr>\n",
       "  </tbody>\n",
       "</table>\n",
       "<p>34686 rows × 2 columns</p>\n",
       "</div>"
      ],
      "text/plain": [
       "          sell_id          price\n",
       "0      1100575026  957274.035774\n",
       "1      1100549428  957274.035774\n",
       "2      1100658222  957274.035774\n",
       "3      1100937408  825241.088150\n",
       "4      1101037972  825241.088150\n",
       "...           ...            ...\n",
       "34681  1101369263  415006.533252\n",
       "34682  1101369581  836106.220380\n",
       "34683  1101364889  461160.338631\n",
       "34684  1101362518  836106.220380\n",
       "34685  1101256068  836106.220380\n",
       "\n",
       "[34686 rows x 2 columns]"
      ]
     },
     "execution_count": 235,
     "metadata": {},
     "output_type": "execute_result"
    }
   ],
   "source": [
    "sample_submission['price'] = predict_submission_3\n",
    "sample_submission.to_csv(f'submission_2_v1.csv', index=False)\n",
    "sample_submission"
   ]
  },
  {
   "cell_type": "code",
   "execution_count": 135,
   "metadata": {},
   "outputs": [
    {
     "data": {
      "text/plain": [
       "<matplotlib.collections.PathCollection at 0x223d7964a60>"
      ]
     },
     "execution_count": 135,
     "metadata": {},
     "output_type": "execute_result"
    },
    {
     "data": {
      "image/png": "[encoded data removed]",
      "text/plain": [
       "<Figure size 432x288 with 1 Axes>"
      ]
     },
     "metadata": {
      "needs_background": "light"
     },
     "output_type": "display_data"
    }
   ],
   "source": [
    "plt.scatter(y_test, predict_test_3)"
   ]
  },
  {
   "cell_type": "code",
   "execution_count": 136,
   "metadata": {},
   "outputs": [],
   "source": [
    "rfr = RandomForestRegressor(\n",
    "    n_estimators=1000, \n",
    "    max_depth = 15, \n",
    "    max_features = 'log2', \n",
    "    random_state = 42, \n",
    "    oob_score=True\n",
    ")"
   ]
  },
  {
   "cell_type": "code",
   "execution_count": 137,
   "metadata": {},
   "outputs": [
    {
     "data": {
      "text/plain": [
       "RandomForestRegressor(max_depth=15, max_features='log2', n_estimators=1000,\n",
       "                      oob_score=True, random_state=42)"
      ]
     },
     "execution_count": 137,
     "metadata": {},
     "output_type": "execute_result"
    }
   ],
   "source": [
    "rfr.fit(X_train, np.log(y_train))"
   ]
  },
  {
   "cell_type": "code",
   "execution_count": 138,
   "metadata": {},
   "outputs": [],
   "source": [
    "predict_test_4 = np.exp(rfr.predict(X_test)) \n",
    "predict_submission_4 = np.exp(rfr.predict(X_sub))"
   ]
  },
  {
   "cell_type": "code",
   "execution_count": 139,
   "metadata": {},
   "outputs": [
    {
     "data": {
      "text/plain": [
       "20.410399055321044"
      ]
     },
     "execution_count": 139,
     "metadata": {},
     "output_type": "execute_result"
    }
   ],
   "source": [
    "mape(y_test, predict_test_4)"
   ]
  },
  {
   "cell_type": "code",
   "execution_count": 140,
   "metadata": {},
   "outputs": [
    {
     "data": {
      "text/plain": [
       "<matplotlib.collections.PathCollection at 0x223d79f9280>"
      ]
     },
     "execution_count": 140,
     "metadata": {},
     "output_type": "execute_result"
    },
    {
     "data": {
      "image/png": "[encoded data removed]",
      "text/plain": [
       "<Figure size 432x288 with 1 Axes>"
      ]
     },
     "metadata": {
      "needs_background": "light"
     },
     "output_type": "display_data"
    }
   ],
   "source": [
    "plt.scatter(y_test, predict_test_4)"
   ]
  },
  {
   "cell_type": "code",
   "execution_count": 141,
   "metadata": {},
   "outputs": [],
   "source": [
    "from sklearn.ensemble import AdaBoostRegressor\n",
    "regr = AdaBoostRegressor(\n",
    "    random_state=42, \n",
    "    n_estimators=1000, \n",
    "    learning_rate=0.1\n",
    ")"
   ]
  },
  {
   "cell_type": "code",
   "execution_count": 142,
   "metadata": {},
   "outputs": [
    {
     "data": {
      "text/plain": [
       "AdaBoostRegressor(learning_rate=0.1, n_estimators=1000, random_state=42)"
      ]
     },
     "execution_count": 142,
     "metadata": {},
     "output_type": "execute_result"
    }
   ],
   "source": [
    "regr.fit(X_train, np.log(y_train))"
   ]
  },
  {
   "cell_type": "code",
   "execution_count": 143,
   "metadata": {},
   "outputs": [],
   "source": [
    "predict_test_5 = np.exp(regr.predict(X_test)) \n",
    "predict_submission_5 = np.exp(regr.predict(X_sub))"
   ]
  },
  {
   "cell_type": "code",
   "execution_count": 144,
   "metadata": {},
   "outputs": [
    {
     "data": {
      "text/plain": [
       "39.907272699693195"
      ]
     },
     "execution_count": 144,
     "metadata": {},
     "output_type": "execute_result"
    }
   ],
   "source": [
    "mape(y_test, predict_test_5)"
   ]
  },
  {
   "cell_type": "code",
   "execution_count": 145,
   "metadata": {},
   "outputs": [
    {
     "data": {
      "text/plain": [
       "<matplotlib.collections.PathCollection at 0x223d8612220>"
      ]
     },
     "execution_count": 145,
     "metadata": {},
     "output_type": "execute_result"
    },
    {
     "data": {
      "image/png": "[encoded data removed]",
      "text/plain": [
       "<Figure size 432x288 with 1 Axes>"
      ]
     },
     "metadata": {
      "needs_background": "light"
     },
     "output_type": "display_data"
    }
   ],
   "source": [
    "plt.scatter(y_test, predict_test_5)"
   ]
  },
  {
   "cell_type": "code",
   "execution_count": 146,
   "metadata": {},
   "outputs": [],
   "source": [
    "from xgboost import XGBRegressor\n",
    "from sklearn.model_selection import cross_val_score\n",
    "from sklearn.model_selection  import RepeatedKFold"
   ]
  },
  {
   "cell_type": "markdown",
   "metadata": {},
   "source": []
  },
  {
   "cell_type": "code",
   "execution_count": 158,
   "metadata": {},
   "outputs": [],
   "source": [
    "from sklearn.tree import ExtraTreeRegressor\n",
    "from sklearn.ensemble import BaggingRegressor\n",
    "from sklearn.datasets import make_regression"
   ]
  },
  {
   "cell_type": "code",
   "execution_count": 165,
   "metadata": {},
   "outputs": [
    {
     "ename": "ImportError",
     "evalue": "cannot import name 'mean_absolute_percentage_error' from 'sklearn.metrics' (C:\\Users\\rok05\\anaconda3\\lib\\site-packages\\sklearn\\metrics\\__init__.py)",
     "output_type": "error",
     "traceback": [
      "\u001b[1;31m---------------------------------------------------------------------------\u001b[0m",
      "\u001b[1;31mImportError\u001b[0m                               Traceback (most recent call last)",
      "\u001b[1;32m<ipython-input-165-6c95b1f00cdd>\u001b[0m in \u001b[0;36m<module>\u001b[1;34m\u001b[0m\n\u001b[1;32m----> 1\u001b[1;33m \u001b[1;32mfrom\u001b[0m \u001b[0msklearn\u001b[0m\u001b[1;33m.\u001b[0m\u001b[0mmetrics\u001b[0m \u001b[1;32mimport\u001b[0m \u001b[0mmean_absolute_percentage_error\u001b[0m\u001b[1;33m\u001b[0m\u001b[1;33m\u001b[0m\u001b[0m\n\u001b[0m",
      "\u001b[1;31mImportError\u001b[0m: cannot import name 'mean_absolute_percentage_error' from 'sklearn.metrics' (C:\\Users\\rok05\\anaconda3\\lib\\site-packages\\sklearn\\metrics\\__init__.py)"
     ]
    }
   ],
   "source": [
    "from sklearn.metrics import mean_absolute_percentage_error"
   ]
  },
  {
   "cell_type": "code",
   "execution_count": 159,
   "metadata": {},
   "outputs": [],
   "source": [
    "from sklearn.tree import DecisionTreeRegressor"
   ]
  },
  {
   "cell_type": "code",
   "execution_count": 161,
   "metadata": {},
   "outputs": [],
   "source": [
    " bgr = BaggingRegressor(ExtraTreeRegressor(random_state=42), random_state=42)"
   ]
  },
  {
   "cell_type": "code",
   "execution_count": 162,
   "metadata": {},
   "outputs": [
    {
     "data": {
      "text/plain": [
       "BaggingRegressor(base_estimator=ExtraTreeRegressor(random_state=42),\n",
       "                 random_state=42)"
      ]
     },
     "execution_count": 162,
     "metadata": {},
     "output_type": "execute_result"
    }
   ],
   "source": [
    "bgr.fit(X_train, np.log(y_train))"
   ]
  },
  {
   "cell_type": "code",
   "execution_count": 214,
   "metadata": {},
   "outputs": [],
   "source": [
    "predict_test_bgr = np.exp(bgr.predict(X_test)) \n",
    "predict_submission_bgr = np.exp(bgr.predict(X_sub))"
   ]
  },
  {
   "cell_type": "code",
   "execution_count": 215,
   "metadata": {},
   "outputs": [
    {
     "data": {
      "text/plain": [
       "18.300744018266922"
      ]
     },
     "execution_count": 215,
     "metadata": {},
     "output_type": "execute_result"
    }
   ],
   "source": [
    "mape(y_test, predict_test_bgr)"
   ]
  },
  {
   "cell_type": "code",
   "execution_count": 184,
   "metadata": {},
   "outputs": [],
   "source": [
    "import seaborn as sns"
   ]
  },
  {
   "cell_type": "code",
   "execution_count": 229,
   "metadata": {},
   "outputs": [
    {
     "data": {
      "text/plain": [
       "XGBRegressor(base_score=0.5, booster='gbtree', colsample_bylevel=1,\n",
       "             colsample_bynode=1, colsample_bytree=1, gamma=0, gpu_id=-1,\n",
       "             importance_type='gain', interaction_constraints='',\n",
       "             learning_rate=0.300000012, max_delta_step=0, max_depth=6,\n",
       "             min_child_weight=1, missing=nan, monotone_constraints='()',\n",
       "             n_estimators=100, n_jobs=2, num_parallel_tree=1, random_state=0,\n",
       "             reg_alpha=0, reg_lambda=1, scale_pos_weight=1, subsample=1,\n",
       "             tree_method='exact', validate_parameters=1, verbosity=None)"
      ]
     },
     "execution_count": 229,
     "metadata": {},
     "output_type": "execute_result"
    }
   ],
   "source": [
    "xg = XGBRegressor()\n",
    "xg.fit(X_train, y_train)\n"
   ]
  },
  {
   "cell_type": "code",
   "execution_count": null,
   "metadata": {},
   "outputs": [],
   "source": []
  },
  {
   "cell_type": "code",
   "execution_count": null,
   "metadata": {},
   "outputs": [],
   "source": []
  },
  {
   "cell_type": "code",
   "execution_count": 231,
   "metadata": {},
   "outputs": [],
   "source": [
    "predict_test_xg = xg.predict(X_test)\n"
   ]
  },
  {
   "cell_type": "code",
   "execution_count": 232,
   "metadata": {},
   "outputs": [
    {
     "data": {
      "text/html": [
       "<div>\n",
       "<style scoped>\n",
       "    .dataframe tbody tr th:only-of-type {\n",
       "        vertical-align: middle;\n",
       "    }\n",
       "\n",
       "    .dataframe tbody tr th {\n",
       "        vertical-align: top;\n",
       "    }\n",
       "\n",
       "    .dataframe thead th {\n",
       "        text-align: right;\n",
       "    }\n",
       "</style>\n",
       "<table border=\"1\" class=\"dataframe\">\n",
       "  <thead>\n",
       "    <tr style=\"text-align: right;\">\n",
       "      <th></th>\n",
       "      <th>bodyType</th>\n",
       "      <th>brand</th>\n",
       "      <th>color</th>\n",
       "      <th>engineDisplacement</th>\n",
       "      <th>enginePower</th>\n",
       "      <th>fuelType</th>\n",
       "      <th>mileage</th>\n",
       "      <th>model_name</th>\n",
       "      <th>numberOfDoors</th>\n",
       "      <th>vehicleTransmission</th>\n",
       "      <th>vendor</th>\n",
       "      <th>Владельцы</th>\n",
       "      <th>ПТС</th>\n",
       "      <th>Привод</th>\n",
       "      <th>Руль</th>\n",
       "    </tr>\n",
       "  </thead>\n",
       "  <tbody>\n",
       "    <tr>\n",
       "      <th>0</th>\n",
       "      <td>4</td>\n",
       "      <td>12</td>\n",
       "      <td>14</td>\n",
       "      <td>30</td>\n",
       "      <td>105</td>\n",
       "      <td>0</td>\n",
       "      <td>74000</td>\n",
       "      <td>708</td>\n",
       "      <td>5.0</td>\n",
       "      <td>3</td>\n",
       "      <td>2</td>\n",
       "      <td>4</td>\n",
       "      <td>1</td>\n",
       "      <td>1</td>\n",
       "      <td>0</td>\n",
       "    </tr>\n",
       "    <tr>\n",
       "      <th>1</th>\n",
       "      <td>4</td>\n",
       "      <td>12</td>\n",
       "      <td>17</td>\n",
       "      <td>6</td>\n",
       "      <td>110</td>\n",
       "      <td>0</td>\n",
       "      <td>60563</td>\n",
       "      <td>708</td>\n",
       "      <td>5.0</td>\n",
       "      <td>2</td>\n",
       "      <td>2</td>\n",
       "      <td>1</td>\n",
       "      <td>1</td>\n",
       "      <td>1</td>\n",
       "      <td>0</td>\n",
       "    </tr>\n",
       "    <tr>\n",
       "      <th>2</th>\n",
       "      <td>4</td>\n",
       "      <td>12</td>\n",
       "      <td>13</td>\n",
       "      <td>9</td>\n",
       "      <td>152</td>\n",
       "      <td>0</td>\n",
       "      <td>88000</td>\n",
       "      <td>952</td>\n",
       "      <td>5.0</td>\n",
       "      <td>3</td>\n",
       "      <td>2</td>\n",
       "      <td>1</td>\n",
       "      <td>1</td>\n",
       "      <td>1</td>\n",
       "      <td>0</td>\n",
       "    </tr>\n",
       "    <tr>\n",
       "      <th>3</th>\n",
       "      <td>4</td>\n",
       "      <td>12</td>\n",
       "      <td>7</td>\n",
       "      <td>6</td>\n",
       "      <td>110</td>\n",
       "      <td>0</td>\n",
       "      <td>95000</td>\n",
       "      <td>708</td>\n",
       "      <td>5.0</td>\n",
       "      <td>0</td>\n",
       "      <td>2</td>\n",
       "      <td>1</td>\n",
       "      <td>1</td>\n",
       "      <td>1</td>\n",
       "      <td>0</td>\n",
       "    </tr>\n",
       "    <tr>\n",
       "      <th>4</th>\n",
       "      <td>4</td>\n",
       "      <td>12</td>\n",
       "      <td>1</td>\n",
       "      <td>9</td>\n",
       "      <td>152</td>\n",
       "      <td>0</td>\n",
       "      <td>58536</td>\n",
       "      <td>708</td>\n",
       "      <td>5.0</td>\n",
       "      <td>0</td>\n",
       "      <td>2</td>\n",
       "      <td>1</td>\n",
       "      <td>1</td>\n",
       "      <td>1</td>\n",
       "      <td>0</td>\n",
       "    </tr>\n",
       "    <tr>\n",
       "      <th>...</th>\n",
       "      <td>...</td>\n",
       "      <td>...</td>\n",
       "      <td>...</td>\n",
       "      <td>...</td>\n",
       "      <td>...</td>\n",
       "      <td>...</td>\n",
       "      <td>...</td>\n",
       "      <td>...</td>\n",
       "      <td>...</td>\n",
       "      <td>...</td>\n",
       "      <td>...</td>\n",
       "      <td>...</td>\n",
       "      <td>...</td>\n",
       "      <td>...</td>\n",
       "      <td>...</td>\n",
       "    </tr>\n",
       "    <tr>\n",
       "      <th>34681</th>\n",
       "      <td>7</td>\n",
       "      <td>1</td>\n",
       "      <td>7</td>\n",
       "      <td>6</td>\n",
       "      <td>136</td>\n",
       "      <td>0</td>\n",
       "      <td>115000</td>\n",
       "      <td>47</td>\n",
       "      <td>4.0</td>\n",
       "      <td>0</td>\n",
       "      <td>2</td>\n",
       "      <td>4</td>\n",
       "      <td>1</td>\n",
       "      <td>0</td>\n",
       "      <td>0</td>\n",
       "    </tr>\n",
       "    <tr>\n",
       "      <th>34682</th>\n",
       "      <td>7</td>\n",
       "      <td>1</td>\n",
       "      <td>17</td>\n",
       "      <td>11</td>\n",
       "      <td>190</td>\n",
       "      <td>3</td>\n",
       "      <td>98000</td>\n",
       "      <td>62</td>\n",
       "      <td>4.0</td>\n",
       "      <td>0</td>\n",
       "      <td>2</td>\n",
       "      <td>1</td>\n",
       "      <td>1</td>\n",
       "      <td>2</td>\n",
       "      <td>0</td>\n",
       "    </tr>\n",
       "    <tr>\n",
       "      <th>34683</th>\n",
       "      <td>7</td>\n",
       "      <td>1</td>\n",
       "      <td>13</td>\n",
       "      <td>18</td>\n",
       "      <td>170</td>\n",
       "      <td>0</td>\n",
       "      <td>360000</td>\n",
       "      <td>62</td>\n",
       "      <td>4.0</td>\n",
       "      <td>0</td>\n",
       "      <td>2</td>\n",
       "      <td>4</td>\n",
       "      <td>0</td>\n",
       "      <td>0</td>\n",
       "      <td>0</td>\n",
       "    </tr>\n",
       "    <tr>\n",
       "      <th>34684</th>\n",
       "      <td>1</td>\n",
       "      <td>1</td>\n",
       "      <td>7</td>\n",
       "      <td>11</td>\n",
       "      <td>184</td>\n",
       "      <td>3</td>\n",
       "      <td>90500</td>\n",
       "      <td>1091</td>\n",
       "      <td>5.0</td>\n",
       "      <td>0</td>\n",
       "      <td>2</td>\n",
       "      <td>2</td>\n",
       "      <td>1</td>\n",
       "      <td>2</td>\n",
       "      <td>0</td>\n",
       "    </tr>\n",
       "    <tr>\n",
       "      <th>34685</th>\n",
       "      <td>1</td>\n",
       "      <td>1</td>\n",
       "      <td>17</td>\n",
       "      <td>23</td>\n",
       "      <td>235</td>\n",
       "      <td>3</td>\n",
       "      <td>240000</td>\n",
       "      <td>1097</td>\n",
       "      <td>5.0</td>\n",
       "      <td>0</td>\n",
       "      <td>2</td>\n",
       "      <td>4</td>\n",
       "      <td>1</td>\n",
       "      <td>2</td>\n",
       "      <td>0</td>\n",
       "    </tr>\n",
       "  </tbody>\n",
       "</table>\n",
       "<p>34686 rows × 15 columns</p>\n",
       "</div>"
      ],
      "text/plain": [
       "       bodyType  brand  color  engineDisplacement  enginePower  fuelType  \\\n",
       "0             4     12     14                  30          105         0   \n",
       "1             4     12     17                   6          110         0   \n",
       "2             4     12     13                   9          152         0   \n",
       "3             4     12      7                   6          110         0   \n",
       "4             4     12      1                   9          152         0   \n",
       "...         ...    ...    ...                 ...          ...       ...   \n",
       "34681         7      1      7                   6          136         0   \n",
       "34682         7      1     17                  11          190         3   \n",
       "34683         7      1     13                  18          170         0   \n",
       "34684         1      1      7                  11          184         3   \n",
       "34685         1      1     17                  23          235         3   \n",
       "\n",
       "       mileage  model_name  numberOfDoors  vehicleTransmission  vendor  \\\n",
       "0        74000         708            5.0                    3       2   \n",
       "1        60563         708            5.0                    2       2   \n",
       "2        88000         952            5.0                    3       2   \n",
       "3        95000         708            5.0                    0       2   \n",
       "4        58536         708            5.0                    0       2   \n",
       "...        ...         ...            ...                  ...     ...   \n",
       "34681   115000          47            4.0                    0       2   \n",
       "34682    98000          62            4.0                    0       2   \n",
       "34683   360000          62            4.0                    0       2   \n",
       "34684    90500        1091            5.0                    0       2   \n",
       "34685   240000        1097            5.0                    0       2   \n",
       "\n",
       "       Владельцы  ПТС  Привод  Руль  \n",
       "0              4    1       1     0  \n",
       "1              1    1       1     0  \n",
       "2              1    1       1     0  \n",
       "3              1    1       1     0  \n",
       "4              1    1       1     0  \n",
       "...          ...  ...     ...   ...  \n",
       "34681          4    1       0     0  \n",
       "34682          1    1       2     0  \n",
       "34683          4    0       0     0  \n",
       "34684          2    1       2     0  \n",
       "34685          4    1       2     0  \n",
       "\n",
       "[34686 rows x 15 columns]"
      ]
     },
     "execution_count": 232,
     "metadata": {},
     "output_type": "execute_result"
    }
   ],
   "source": [
    "X_sub"
   ]
  },
  {
   "cell_type": "code",
   "execution_count": 233,
   "metadata": {},
   "outputs": [
    {
     "ename": "ValueError",
     "evalue": "feature_names mismatch: ['f0', 'f1', 'f2', 'f3', 'f4', 'f5', 'f6', 'f7', 'f8', 'f9', 'f10', 'f11', 'f12', 'f13', 'f14'] ['bodyType', 'brand', 'color', 'engineDisplacement', 'enginePower', 'fuelType', 'mileage', 'model_name', 'numberOfDoors', 'vehicleTransmission', 'vendor', 'Владельцы', 'ПТС', 'Привод', 'Руль']\nexpected f12, f0, f4, f11, f6, f10, f2, f9, f14, f8, f3, f1, f7, f5, f13 in input data\ntraining data did not have the following fields: Руль, vendor, bodyType, model_name, vehicleTransmission, Владельцы, color, Привод, fuelType, mileage, brand, ПТС, numberOfDoors, engineDisplacement, enginePower",
     "output_type": "error",
     "traceback": [
      "\u001b[1;31m---------------------------------------------------------------------------\u001b[0m",
      "\u001b[1;31mValueError\u001b[0m                                Traceback (most recent call last)",
      "\u001b[1;32m<ipython-input-233-2fb241ae435f>\u001b[0m in \u001b[0;36m<module>\u001b[1;34m\u001b[0m\n\u001b[1;32m----> 1\u001b[1;33m \u001b[0mpredict_submission_xg\u001b[0m \u001b[1;33m=\u001b[0m \u001b[0mxg\u001b[0m\u001b[1;33m.\u001b[0m\u001b[0mpredict\u001b[0m\u001b[1;33m(\u001b[0m\u001b[0mX_sub\u001b[0m\u001b[1;33m)\u001b[0m\u001b[1;33m\u001b[0m\u001b[1;33m\u001b[0m\u001b[0m\n\u001b[0m",
      "\u001b[1;32m~\\anaconda3\\lib\\site-packages\\xgboost\\sklearn.py\u001b[0m in \u001b[0;36mpredict\u001b[1;34m(self, data, output_margin, ntree_limit, validate_features, base_margin)\u001b[0m\n\u001b[0;32m    653\u001b[0m         \u001b[1;32mif\u001b[0m \u001b[0mntree_limit\u001b[0m \u001b[1;32mis\u001b[0m \u001b[1;32mNone\u001b[0m\u001b[1;33m:\u001b[0m\u001b[1;33m\u001b[0m\u001b[1;33m\u001b[0m\u001b[0m\n\u001b[0;32m    654\u001b[0m             \u001b[0mntree_limit\u001b[0m \u001b[1;33m=\u001b[0m \u001b[0mgetattr\u001b[0m\u001b[1;33m(\u001b[0m\u001b[0mself\u001b[0m\u001b[1;33m,\u001b[0m \u001b[1;34m\"best_ntree_limit\"\u001b[0m\u001b[1;33m,\u001b[0m \u001b[1;36m0\u001b[0m\u001b[1;33m)\u001b[0m\u001b[1;33m\u001b[0m\u001b[1;33m\u001b[0m\u001b[0m\n\u001b[1;32m--> 655\u001b[1;33m         return self.get_booster().predict(test_dmatrix,\n\u001b[0m\u001b[0;32m    656\u001b[0m                                           \u001b[0moutput_margin\u001b[0m\u001b[1;33m=\u001b[0m\u001b[0moutput_margin\u001b[0m\u001b[1;33m,\u001b[0m\u001b[1;33m\u001b[0m\u001b[1;33m\u001b[0m\u001b[0m\n\u001b[0;32m    657\u001b[0m                                           \u001b[0mntree_limit\u001b[0m\u001b[1;33m=\u001b[0m\u001b[0mntree_limit\u001b[0m\u001b[1;33m,\u001b[0m\u001b[1;33m\u001b[0m\u001b[1;33m\u001b[0m\u001b[0m\n",
      "\u001b[1;32m~\\anaconda3\\lib\\site-packages\\xgboost\\core.py\u001b[0m in \u001b[0;36mpredict\u001b[1;34m(self, data, output_margin, ntree_limit, pred_leaf, pred_contribs, approx_contribs, pred_interactions, validate_features, training)\u001b[0m\n\u001b[0;32m   1483\u001b[0m \u001b[1;33m\u001b[0m\u001b[0m\n\u001b[0;32m   1484\u001b[0m         \u001b[1;32mif\u001b[0m \u001b[0mvalidate_features\u001b[0m\u001b[1;33m:\u001b[0m\u001b[1;33m\u001b[0m\u001b[1;33m\u001b[0m\u001b[0m\n\u001b[1;32m-> 1485\u001b[1;33m             \u001b[0mself\u001b[0m\u001b[1;33m.\u001b[0m\u001b[0m_validate_features\u001b[0m\u001b[1;33m(\u001b[0m\u001b[0mdata\u001b[0m\u001b[1;33m)\u001b[0m\u001b[1;33m\u001b[0m\u001b[1;33m\u001b[0m\u001b[0m\n\u001b[0m\u001b[0;32m   1486\u001b[0m \u001b[1;33m\u001b[0m\u001b[0m\n\u001b[0;32m   1487\u001b[0m         \u001b[0mlength\u001b[0m \u001b[1;33m=\u001b[0m \u001b[0mc_bst_ulong\u001b[0m\u001b[1;33m(\u001b[0m\u001b[1;33m)\u001b[0m\u001b[1;33m\u001b[0m\u001b[1;33m\u001b[0m\u001b[0m\n",
      "\u001b[1;32m~\\anaconda3\\lib\\site-packages\\xgboost\\core.py\u001b[0m in \u001b[0;36m_validate_features\u001b[1;34m(self, data)\u001b[0m\n\u001b[0;32m   2058\u001b[0m                             ', '.join(str(s) for s in my_missing))\n\u001b[0;32m   2059\u001b[0m \u001b[1;33m\u001b[0m\u001b[0m\n\u001b[1;32m-> 2060\u001b[1;33m                 raise ValueError(msg.format(self.feature_names,\n\u001b[0m\u001b[0;32m   2061\u001b[0m                                             data.feature_names))\n\u001b[0;32m   2062\u001b[0m \u001b[1;33m\u001b[0m\u001b[0m\n",
      "\u001b[1;31mValueError\u001b[0m: feature_names mismatch: ['f0', 'f1', 'f2', 'f3', 'f4', 'f5', 'f6', 'f7', 'f8', 'f9', 'f10', 'f11', 'f12', 'f13', 'f14'] ['bodyType', 'brand', 'color', 'engineDisplacement', 'enginePower', 'fuelType', 'mileage', 'model_name', 'numberOfDoors', 'vehicleTransmission', 'vendor', 'Владельцы', 'ПТС', 'Привод', 'Руль']\nexpected f12, f0, f4, f11, f6, f10, f2, f9, f14, f8, f3, f1, f7, f5, f13 in input data\ntraining data did not have the following fields: Руль, vendor, bodyType, model_name, vehicleTransmission, Владельцы, color, Привод, fuelType, mileage, brand, ПТС, numberOfDoors, engineDisplacement, enginePower"
     ]
    }
   ],
   "source": [
    "predict_submission_xg = xg.predict(X_sub)\n"
   ]
  },
  {
   "cell_type": "code",
   "execution_count": null,
   "metadata": {},
   "outputs": [],
   "source": [
    "from sklearn.model_selection import KFold\n",
    "import xgboost as xgb"
   ]
  },
  {
   "cell_type": "code",
   "execution_count": null,
   "metadata": {},
   "outputs": [],
   "source": []
  }
 ],
 "metadata": {
  "kernelspec": {
   "display_name": "Python 3",
   "language": "python",
   "name": "python3"
  },
  "language_info": {
   "codemirror_mode": {
    "name": "ipython",
    "version": 3
   },
   "file_extension": ".py",
   "mimetype": "text/x-python",
   "name": "python",
   "nbconvert_exporter": "python",
   "pygments_lexer": "ipython3",
   "version": "3.8.5"
  }
 },
 "nbformat": 4,
 "nbformat_minor": 4
}
